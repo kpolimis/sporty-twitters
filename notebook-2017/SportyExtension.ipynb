{
 "cells": [
  {
   "cell_type": "code",
   "execution_count": 851,
   "metadata": {
    "collapsed": false
   },
   "outputs": [
    {
     "name": "stdout",
     "output_type": "stream",
     "text": [
      "\n"
     ]
    }
   ],
   "source": [
    "import json\n",
    "import pandas as pd\n",
    "import numpy as np\n",
    "import pymongo\n",
    "import os.path\n",
    "import seaborn as sns\n",
    "import re\n",
    "import matplotlib.pyplot as plt\n",
    "import string\n",
    "import scipy.sparse as sp\n",
    "import time\n",
    "\n",
    "from scipy.stats import wilcoxon\n",
    "from tqdm import tqdm, tqdm_notebook, tqdm_pandas\n",
    "from collections import defaultdict, Counter\n",
    "from sklearn.feature_extraction.text import TfidfVectorizer, CountVectorizer\n",
    "from sklearn.feature_selection import SelectKBest, chi2\n",
    "from sklearn.pipeline import Pipeline\n",
    "from sklearn import preprocessing, metrics\n",
    "from sklearn.cross_validation import KFold\n",
    "from sklearn.linear_model import LogisticRegression\n",
    "from sklearn.cluster import KMeans\n",
    "\n",
    "tqdm_notebook().pandas()\n",
    "sns.set_context('talk')\n",
    "sns.set_style(\"whitegrid\", {'axes.grid' : False})\n",
    "pd.set_option('display.max_rows', 200)\n",
    "pd.set_option('display.max_columns', 50)\n",
    "\n",
    "%matplotlib inline"
   ]
  },
  {
   "cell_type": "markdown",
   "metadata": {},
   "source": [
    "# Load data"
   ]
  },
  {
   "cell_type": "markdown",
   "metadata": {},
   "source": [
    "## Control and treatment groups"
   ]
  },
  {
   "cell_type": "markdown",
   "metadata": {},
   "source": [
    "###  Load users information"
   ]
  },
  {
   "cell_type": "code",
   "execution_count": 2,
   "metadata": {
    "collapsed": false
   },
   "outputs": [],
   "source": [
    "n_users = pd.read_csv(\"./nosport_users_stats\")\n",
    "s_users = pd.read_csv(\"./sport_users_stats\")\n",
    "\n",
    "for df in [n_users, s_users]:\n",
    "    df.index = df['id']"
   ]
  },
  {
   "cell_type": "code",
   "execution_count": 3,
   "metadata": {
    "collapsed": false
   },
   "outputs": [
    {
     "data": {
      "text/plain": [
       "((1160, 7), (1160, 7))"
      ]
     },
     "execution_count": 3,
     "metadata": {},
     "output_type": "execute_result"
    }
   ],
   "source": [
    "s_users.shape, n_users.shape"
   ]
  },
  {
   "cell_type": "markdown",
   "metadata": {},
   "source": [
    "### Load matches"
   ]
  },
  {
   "cell_type": "markdown",
   "metadata": {},
   "source": [
    "Load matches file."
   ]
  },
  {
   "cell_type": "code",
   "execution_count": 4,
   "metadata": {
    "collapsed": false
   },
   "outputs": [],
   "source": [
    "matches = pd.read_csv(\"/data/1/sporty/users/classification/matches.txt\", header=None, names=['sport', 'nosport'])"
   ]
  },
  {
   "cell_type": "markdown",
   "metadata": {},
   "source": [
    "Some users have been matched twice to a sport users, we remove these duplicate entries here although we missed them in 2014."
   ]
  },
  {
   "cell_type": "code",
   "execution_count": 5,
   "metadata": {
    "collapsed": false
   },
   "outputs": [],
   "source": [
    "matches = matches.drop_duplicates(subset=['nosport'])\n",
    "n_users = n_users.drop_duplicates(subset=['id'])"
   ]
  },
  {
   "cell_type": "markdown",
   "metadata": {},
   "source": [
    "Align users' dataframes."
   ]
  },
  {
   "cell_type": "code",
   "execution_count": 6,
   "metadata": {
    "collapsed": false
   },
   "outputs": [],
   "source": [
    "s_users = s_users.loc[matches.sport.tolist()]\n",
    "s_users.index = np.arange(s_users.shape[0])\n",
    "n_users = n_users.loc[matches.nosport.tolist()]\n",
    "n_users.index = np.arange(n_users.shape[0])"
   ]
  },
  {
   "cell_type": "code",
   "execution_count": 7,
   "metadata": {
    "collapsed": false
   },
   "outputs": [
    {
     "data": {
      "text/plain": [
       "((1153, 7), (1153, 7))"
      ]
     },
     "execution_count": 7,
     "metadata": {},
     "output_type": "execute_result"
    }
   ],
   "source": [
    "s_users.shape, n_users.shape"
   ]
  },
  {
   "cell_type": "markdown",
   "metadata": {},
   "source": [
    "Remove users that are in both groups and their match that we missed last time."
   ]
  },
  {
   "cell_type": "code",
   "execution_count": 8,
   "metadata": {
    "collapsed": false
   },
   "outputs": [],
   "source": [
    "# find users in both groups\n",
    "both_groups = set(s_users['id']) & set(n_users['id'])\n",
    "\n",
    "# find lines with users in both groups\n",
    "s_idx_to_remove = s_users.id.where(s_users.id.apply(lambda _: _ in both_groups)).dropna().index.tolist()\n",
    "n_idx_to_remove = n_users.id.where(n_users.id.apply(lambda _: _ in both_groups)).dropna().index.tolist()\n",
    "idx_to_remove = s_idx_to_remove + n_idx_to_remove\n",
    "\n",
    "# remove lines from users' dataframes\n",
    "s_users = s_users.drop(idx_to_remove, axis=0)\n",
    "n_users = n_users.drop(idx_to_remove, axis=0)"
   ]
  },
  {
   "cell_type": "code",
   "execution_count": 9,
   "metadata": {
    "collapsed": false
   },
   "outputs": [
    {
     "data": {
      "text/plain": [
       "((1137, 7), (1137, 7))"
      ]
     },
     "execution_count": 9,
     "metadata": {},
     "output_type": "execute_result"
    }
   ],
   "source": [
    "s_users.shape, n_users.shape"
   ]
  },
  {
   "cell_type": "markdown",
   "metadata": {},
   "source": [
    "### Load tweets for each user "
   ]
  },
  {
   "cell_type": "markdown",
   "metadata": {},
   "source": [
    "For each user, load scraped tweets, without auto-generated tweets by physical applications, and removing retweets."
   ]
  },
  {
   "cell_type": "code",
   "execution_count": 51,
   "metadata": {
    "collapsed": true
   },
   "outputs": [],
   "source": [
    "def load_tweets(user_id, data_dir, remove_hash=None, keep_rt=False):\n",
    "    user_p = os.path.join(data_dir, user_id)\n",
    "    tweets = []\n",
    "    with open(user_p) as fd:\n",
    "        for l in fd:\n",
    "            o = json.loads(l)\n",
    "            # check for retweets\n",
    "            if not keep_rt and 'retweeted_status' in o:\n",
    "                keep_tw = False\n",
    "            else:\n",
    "                # check for hashtags to avoid\n",
    "                h = set([_['text'].lower() for _ in o['entities']['hashtags']])\n",
    "                keep_tw = remove_hash is None or not (h & set(remove_hash))\n",
    "            \n",
    "            if keep_tw:\n",
    "                tweets.append(o['text'])\n",
    "    return tweets\n",
    "    \n",
    "auto_hash = ['runkeeper', 'nikeplus', 'runtastic', 'endomondo', 'mapmyrun', 'strava', 'cyclemeter', 'fitstats', 'mapmyfitness', 'runmeter']\n",
    "\n",
    "def load_tweets_sport(user_id):\n",
    "    return load_tweets(user_id, \"/data/1/sporty/tweets/from_users/sport/\", remove_hash=auto_hash)\n",
    "    \n",
    "def load_tweets_nosport(user_id):\n",
    "    return load_tweets(user_id, \"/data/1/sporty/tweets/from_users/no_sport/\", remove_hash=auto_hash)"
   ]
  },
  {
   "cell_type": "code",
   "execution_count": 60,
   "metadata": {
    "collapsed": false
   },
   "outputs": [],
   "source": [
    "s_users['tweets'] = s_users.id.astype(str).progress_apply(load_tweets_sport)\n",
    "n_users['tweets'] = n_users.id.astype(str).progress_apply(load_tweets_nosport)"
   ]
  },
  {
   "cell_type": "code",
   "execution_count": 75,
   "metadata": {
    "collapsed": false
   },
   "outputs": [],
   "source": [
    "s_users['tweets_count'] = s_users.tweets.apply(len)\n",
    "n_users['tweets_count'] = n_users.tweets.apply(len)"
   ]
  },
  {
   "cell_type": "markdown",
   "metadata": {},
   "source": [
    "Drop users' (and their match) that have no remaining tweets."
   ]
  },
  {
   "cell_type": "code",
   "execution_count": 594,
   "metadata": {
    "collapsed": false
   },
   "outputs": [],
   "source": [
    "notweets_nidx = n_users.index[n_users.tweets_count == 0].tolist()\n",
    "notweets_sidx = s_users.index[s_users.tweets_count == 0].tolist()\n",
    "notweets_idx = notweets_nidx + notweets_sidx"
   ]
  },
  {
   "cell_type": "code",
   "execution_count": 604,
   "metadata": {
    "collapsed": false
   },
   "outputs": [],
   "source": [
    "s_users = s_users.drop(notweets_idx)\n",
    "n_users = n_users.drop(notweets_idx)"
   ]
  },
  {
   "cell_type": "markdown",
   "metadata": {},
   "source": [
    "## Mood annotated data"
   ]
  },
  {
   "cell_type": "code",
   "execution_count": 86,
   "metadata": {
    "collapsed": false
   },
   "outputs": [
    {
     "name": "stdout",
     "output_type": "stream",
     "text": [
      "\n"
     ]
    }
   ],
   "source": [
    "def load_labeled_mood(p):\n",
    "    tweets = []\n",
    "    with open(p) as fd:\n",
    "        for l in tqdm_notebook(fd):\n",
    "            o = json.loads(l)\n",
    "            tweets.append({k: o[k] for k in ['text', 'AH', 'DD', 'TA']})\n",
    "    return pd.DataFrame(tweets)\n",
    "\n",
    "mood_tweets_df = load_labeled_mood(\"/data/1/sporty/tweets/labeled/3K_labeled\")"
   ]
  },
  {
   "cell_type": "markdown",
   "metadata": {},
   "source": [
    "### Load LIWC lexicon"
   ]
  },
  {
   "cell_type": "code",
   "execution_count": 91,
   "metadata": {
    "code_folding": [
     9
    ],
    "collapsed": true
   },
   "outputs": [],
   "source": [
    "''' Data structure and utility functions for reading and querying a LIWC\n",
    "lexicon. Data described here:\n",
    "http://homepage.psy.utexas.edu/homepage/faculty/pennebaker/reprints/LIWC2001.pdf\n",
    "'''\n",
    "\n",
    "from collections import defaultdict\n",
    "import os\n",
    "\n",
    "\n",
    "class Lexicon(object):\n",
    "    \"\"\"\n",
    "    >>> import tempfile\n",
    "    >>> tf = tempfile.NamedTemporaryFile()\n",
    "    >>> tf.write(\"%\\\\n1\\\\tPronoun\\\\n2\\\\tI\\\\n3\\tGreet\\\\n%\\\\ni\\\\t01 02\\\\nhis\\\\t01\\\\nhi*\\t03\")\n",
    "    >>> tf.flush()\n",
    "    >>> d = Lexicon(tf.name)\n",
    "    >>> d.categories_for_tokens(['i', 'his'])\n",
    "    [[u'Pronoun', u'I'], [u'Pronoun']]\n",
    "    >>> d.categories_for_tokens(['his'])\n",
    "    [[u'Pronoun']]\n",
    "    >>> cts = d.counts_for_tokens(['i', 'his'])\n",
    "    >>> cts[u'I']\n",
    "    1\n",
    "    >>> cts[u'Pronoun']\n",
    "    2\n",
    "    >>> d.categories_for_tokens(['zebra'])\n",
    "    [[]]\n",
    "    >>> d.categories_for_tokens(['hithere'])\n",
    "    [[u'Greet']]\n",
    "    \"\"\"\n",
    "\n",
    "    def __init__(self, dict_file=None):\n",
    "        self.dict_file = dict_file\n",
    "        self.load_dictionary(dict_file)\n",
    "\n",
    "    def parse_categories(self, catText):\n",
    "        lines = catText.split(\"\\n\")\n",
    "        self.categories = {}\n",
    "        for line in lines:\n",
    "            if len(line) > 0:\n",
    "                key, val = line.split()\n",
    "                self.categories[str(key)] = str(val)\n",
    "\n",
    "    def parse_patterns(self, regExps):\n",
    "        lines = regExps.split(\"\\n\")\n",
    "        self.exact_patterns = {}\n",
    "        self.prefix_patterns = {}\n",
    "        for line in lines:\n",
    "            if len(line) > 0 and not line.startswith('//'):\n",
    "                vals = line.split()\n",
    "                exp = vals[0]\n",
    "                ids = [str(int(v)) for v in vals[1:]]\n",
    "                if '*' in exp:\n",
    "                    self.prefix_patterns[exp[:-1]] = ids\n",
    "                else:\n",
    "                    self.exact_patterns[exp] = ids\n",
    "\n",
    "    def load_dictionary(self, dict_file):\n",
    "        dict_text = open(dict_file).read()\n",
    "        as_list = dict_text.split(\"%\")\n",
    "        self.parse_categories(as_list[1])\n",
    "        self.parse_patterns(as_list[2])\n",
    "\n",
    "    def categories_for_token(self, word):\n",
    "        result = []\n",
    "        if word in self.exact_patterns:\n",
    "            result.extend(self.exact_patterns[word])\n",
    "        else:\n",
    "            for i in range(0, len(word)):\n",
    "                if word[:-i] in self.prefix_patterns:\n",
    "                    result.extend(self.prefix_patterns[word[:-i]])\n",
    "        return [self.categories[c] for c in result]\n",
    "\n",
    "    def categories_for_tokens(self, tokens):\n",
    "        \"\"\" Returns a list of lists. For each token, create a list of categories\n",
    "        it belongs to.\"\"\"\n",
    "        return [self.categories_for_token(token) for token in tokens]\n",
    "\n",
    "    def counts_for_tokens(self, tokens):\n",
    "        \"\"\" Returns a dict mapping categories to counts from this list of\n",
    "        tokens. \"\"\"\n",
    "        cats = self.categories_for_tokens(tokens)\n",
    "        d = defaultdict(lambda: 0)\n",
    "        for a in cats:\n",
    "            for b in a:\n",
    "                d[b] += 1\n",
    "        return d\n",
    "    \n",
    "lex = Lexicon(\"./liwc.dic\")"
   ]
  },
  {
   "cell_type": "markdown",
   "metadata": {},
   "source": [
    "###  Load emoticons "
   ]
  },
  {
   "cell_type": "code",
   "execution_count": 115,
   "metadata": {
    "collapsed": false
   },
   "outputs": [],
   "source": [
    "emoticon_df = pd.read_csv(\"emoticons\", sep=\" \", header=None, names=['tag', 'emoticon'], index_col=1)\n",
    "emoticon_dict = emoticon_df.to_dict(orient='dict')['tag']"
   ]
  },
  {
   "cell_type": "markdown",
   "metadata": {},
   "source": [
    "###  Build features encoding"
   ]
  },
  {
   "cell_type": "markdown",
   "metadata": {},
   "source": [
    "Build tokenizer"
   ]
  },
  {
   "cell_type": "code",
   "execution_count": 1043,
   "metadata": {
    "collapsed": false
   },
   "outputs": [],
   "source": [
    "def tokenize(text, keep_hashtags=False, keep_mentions=True, keep_urls=True,\n",
    "             collapse_hashtags=True, collapse_mentions=True, collapse_urls=True, collapse_digits=True, \n",
    "             limit_repeats=True, bigrams=True, liwc=True):\n",
    "    punc = string.punctuation + \"—“\"\n",
    "    text = re.sub(\"\\s+\", \" \", text.lower())\n",
    "    if not keep_hashtags:\n",
    "        text = re.sub('#\\S+', '', text)\n",
    "    elif collapse_hashtags:\n",
    "        text = re.sub('#\\S+', 'HASHTAG', text)\n",
    "    else:\n",
    "        text = re.sub('#(\\S+)', r'HASHTAG_\\1', text)\n",
    "        \n",
    "    if not keep_mentions:\n",
    "        text = re.sub('@\\S+' , '', text)\n",
    "    elif collapse_mentions:\n",
    "        text = re.sub('@\\S+', 'MENTION', text)\n",
    "    \n",
    "    if not keep_urls:\n",
    "        text = re.sub('http\\S+', '', text)\n",
    "    elif collapse_urls:\n",
    "        text = re.sub('http\\S+', 'URL', text)\n",
    "    \n",
    "    if limit_repeats:\n",
    "        text = re.sub(r'(.)\\1\\1\\1+', r'\\1', text)\n",
    "    if collapse_digits:\n",
    "        text = re.sub(r'[0-9]+', 'NUMBER', text)\n",
    "    splits = text.split()\n",
    "    \n",
    "    punc_tokens = []\n",
    "    word_tokens = []\n",
    "    liwc_tokens = []\n",
    "    for tok in splits:\n",
    "        if tok in emoticon_dict:\n",
    "            word_tokens.append(emoticon_dict[tok])\n",
    "        elif keep_mentions and tok[0] == '@':\n",
    "            word_tokens.append(tok)\n",
    "        else:\n",
    "            tok = tok.strip(punc)\n",
    "            if tok:\n",
    "                word_tokens.append(tok)\n",
    "        if liwc:\n",
    "            liwc_tokens.extend([\"LIWC_\" + _ for _ in lex.categories_for_token(tok)])\n",
    "    \n",
    "    liwc_tokens = list(set(liwc_tokens))\n",
    "    bigram_tokens = [\"_\".join(_) for _ in zip(word_tokens, word_tokens[1:])] if bigrams else []\n",
    "    \n",
    "    return word_tokens + bigram_tokens + liwc_tokens"
   ]
  },
  {
   "cell_type": "markdown",
   "metadata": {},
   "source": [
    "### Build classifier for each dimension"
   ]
  },
  {
   "cell_type": "markdown",
   "metadata": {},
   "source": [
    "Apply to 3 mood dimensions."
   ]
  },
  {
   "cell_type": "code",
   "execution_count": 797,
   "metadata": {
    "collapsed": false
   },
   "outputs": [],
   "source": [
    "moods = ['AH', 'DD', 'TA']\n",
    "vecs = {}\n",
    "kbests = {}\n",
    "plines = {}\n",
    "Xs = {}\n",
    "clfs = {}\n",
    "features = {}\n",
    "top_features = {}\n",
    "n_features = 'all'\n",
    "\n",
    "for m in tqdm_notebook(moods):\n",
    "    # build pipeline\n",
    "    vecs[m] = TfidfVectorizer(tokenizer=tokenize, min_df=2, binary=True)\n",
    "    kbests[m] = SelectKBest(chi2, n_features)\n",
    "    plines[m] = pipeline = Pipeline([('tfidf', vecs[m]), ('chi2', kbests[m])])\n",
    "    \n",
    "    # build doc term matrix\n",
    "    y = mood_tweets_df[m]\n",
    "    Xs[m] = plines[m].fit_transform(mood_tweets_df.text, y)\n",
    "    # get labels\n",
    "\n",
    "    # train classifier\n",
    "    clfs[m] = LogisticRegression(class_weight='balanced')\n",
    "    clfs[m].fit(Xs[m],y)\n",
    "    \n",
    "    # retrieve features\n",
    "    support = kbests[m].get_support()\n",
    "    features[m] = np.array(vecs[m].get_feature_names())[support]\n",
    "    top_features[m] = [(features[m][i], clfs[m].coef_[0][i]) for i in clfs[m].coef_[0].argsort()[::-1]]"
   ]
  },
  {
   "cell_type": "markdown",
   "metadata": {},
   "source": [
    "###  Top features for each dimension"
   ]
  },
  {
   "cell_type": "code",
   "execution_count": 800,
   "metadata": {
    "collapsed": false
   },
   "outputs": [
    {
     "name": "stdout",
     "output_type": "stream",
     "text": [
      "Top features for AH\n",
      "    0. LIWC_Anger..............................4.666\n",
      "    1. hate....................................3.326\n",
      "    2. LIWC_Swear..............................3.254\n",
      "    3. dumb....................................3.114\n",
      "    4. your....................................2.797\n",
      "    5. upset...................................2.745\n",
      "    6. fuck....................................2.419\n",
      "    7. LIWC_Negemo.............................2.386\n",
      "    8. rude....................................2.295\n",
      "    9. bitch...................................2.291\n",
      "   10. irritated...............................2.283\n",
      "   11. shit....................................2.113\n",
      "   12. shut....................................2.105\n",
      "   13. fucking.................................2.016\n",
      "   14. ignorant................................1.865\n",
      "   15. why.....................................1.763\n",
      "   16. stupid..................................1.703\n",
      "   17. being...................................1.698\n",
      "   18. freakin.................................1.672\n",
      "   19. lame....................................1.667\n",
      "----------------------------------------------------------------------------------------------------\n",
      "Top features for DD\n",
      "    0. LIWC_Sad................................4.472\n",
      "    1. LIWC_Sleep..............................3.387\n",
      "    2. LIWC_Negemo.............................3.026\n",
      "    3. bored...................................2.493\n",
      "    4. weak....................................2.318\n",
      "    5. sick....................................2.120\n",
      "    6. LIWC_I..................................2.119\n",
      "    7. tired...................................2.078\n",
      "    8. being...................................1.998\n",
      "    9. day.....................................1.974\n",
      "   10. i'm.....................................1.900\n",
      "   11. i.......................................1.824\n",
      "   12. lazy....................................1.812\n",
      "   13. sleepy..................................1.767\n",
      "   14. exhausted...............................1.714\n",
      "   15. LIWC_Self...............................1.673\n",
      "   16. depressing..............................1.643\n",
      "   17. annoying................................1.639\n",
      "   18. boring..................................1.627\n",
      "   19. im......................................1.603\n",
      "----------------------------------------------------------------------------------------------------\n",
      "Top features for TA\n",
      "    0. LIWC_Anger..............................3.383\n",
      "    1. fuck....................................2.532\n",
      "    2. nervous.................................2.342\n",
      "    3. LIWC_Negemo.............................2.285\n",
      "    4. rude....................................2.261\n",
      "    5. LIWC_Swear..............................2.025\n",
      "    6. lame....................................1.963\n",
      "    7. gross...................................1.891\n",
      "    8. being...................................1.844\n",
      "    9. gonna...................................1.799\n",
      "   10. so......................................1.784\n",
      "   11. LIWC_Anx................................1.777\n",
      "   12. upset...................................1.773\n",
      "   13. shut....................................1.752\n",
      "   14. irritated...............................1.684\n",
      "   15. this_is.................................1.636\n",
      "   16. LIWC_Negate.............................1.590\n",
      "   17. your....................................1.545\n",
      "   18. me......................................1.529\n",
      "   19. shit....................................1.484\n",
      "----------------------------------------------------------------------------------------------------\n"
     ]
    }
   ],
   "source": [
    "for m in moods:\n",
    "    print(\"Top features for\", m)\n",
    "    for i, (w,c) in enumerate(top_features[m][:20]):\n",
    "        print(\"{:>5}. {:.<40}{:>4}\".format(i, w, \"%.3f\" % c))\n",
    "    print('-'*100)"
   ]
  },
  {
   "cell_type": "markdown",
   "metadata": {},
   "source": [
    "### Cross validation"
   ]
  },
  {
   "cell_type": "code",
   "execution_count": 801,
   "metadata": {
    "collapsed": false,
    "scrolled": false
   },
   "outputs": [],
   "source": [
    "def cv(data, n_folds=10):\n",
    "    results = {}\n",
    "\n",
    "    for m in tqdm_notebook(moods):\n",
    "        y_probs = []\n",
    "        y_preds = []\n",
    "        y_trues = []\n",
    "        for tr, te in tqdm_notebook(KFold(data.shape[0], n_folds, shuffle=True, random_state=123456)):\n",
    "            data_tr, data_te = data.iloc[tr], data.iloc[te]\n",
    "            y_tr, y_te = data_tr[m], data_te[m]\n",
    "            X_tr = plines[m].fit_transform(data_tr.text, y_tr)\n",
    "\n",
    "            X_te = plines[m].transform(data_te.text)\n",
    "\n",
    "            clf = LogisticRegression(class_weight='balanced')\n",
    "            clf.fit(X_tr, y_tr)\n",
    "            y_prob = clf.predict_proba(X_te)[:,1]\n",
    "            y_pred = clf.predict(X_te)\n",
    "\n",
    "            y_trues.extend(y_te)\n",
    "            y_preds.extend(y_pred)\n",
    "            y_probs.extend(y_prob)\n",
    "    \n",
    "        results[m] = {'y_true': y_trues, 'y_pred': y_preds, 'y_prob': y_probs}\n",
    "    return results"
   ]
  },
  {
   "cell_type": "code",
   "execution_count": 802,
   "metadata": {
    "collapsed": false
   },
   "outputs": [],
   "source": [
    "results_cv = cv(mood_tweets_df, 10)"
   ]
  },
  {
   "cell_type": "markdown",
   "metadata": {},
   "source": [
    "ROC curves for each dimension."
   ]
  },
  {
   "cell_type": "code",
   "execution_count": 828,
   "metadata": {
    "collapsed": false
   },
   "outputs": [
    {
     "name": "stdout",
     "output_type": "stream",
     "text": [
      "AH ROC AUC: 0.863\n",
      "DD ROC AUC: 0.846\n",
      "TA ROC AUC: 0.824\n"
     ]
    },
    {
     "data": {
      "image/png": "[encoded data removed]",
      "text/plain": [
       "<matplotlib.figure.Figure at 0x7f4f68562e10>"
      ]
     },
     "metadata": {},
     "output_type": "display_data"
    }
   ],
   "source": [
    "def roc_curves(results):\n",
    "    fig, ax = plt.subplots(figsize=(8,6))\n",
    "    colors = ['r','g','b']\n",
    "    for m, c in zip(moods,colors):\n",
    "        fpr, tpr, thresh = metrics.roc_curve(results[m]['y_true'], results[m]['y_prob'], drop_intermediate=True)\n",
    "        ax.plot(fpr, tpr, label=m, color=c, alpha=0.7)\n",
    "        ax.plot(fpr, thresh, label=m + \" threshold\", linestyle='-.', color=c)\n",
    "        plt.legend(loc=4)\n",
    "        print(\"%s ROC AUC: %.3f\" % (m, metrics.roc_auc_score(results[m]['y_true'], results[m]['y_prob'])))\n",
    "    ax.set_ylim([0,1])\n",
    "    ax.set_xlabel(\"fpr\")\n",
    "    ax.set_ylabel(\"tpr\")\n",
    "    ax.plot([0,1],[0,1], color='k', linestyle='--', linewidth=0.5)\n",
    "        \n",
    "roc_curves(results_cv)"
   ]
  },
  {
   "cell_type": "markdown",
   "metadata": {},
   "source": [
    "Precision recall curve for each dimension."
   ]
  },
  {
   "cell_type": "code",
   "execution_count": 829,
   "metadata": {
    "collapsed": false
   },
   "outputs": [
    {
     "data": {
      "image/png": "[encoded data removed]",
      "text/plain": [
       "<matplotlib.figure.Figure at 0x7f4f685882b0>"
      ]
     },
     "metadata": {},
     "output_type": "display_data"
    }
   ],
   "source": [
    "def prec_rec_curves(results):\n",
    "    fig, ax = plt.subplots(figsize=(8,6))\n",
    "    colors = ['r','g','b']\n",
    "    for m, c in zip(moods,colors):\n",
    "        prec, rec, thresh = metrics.precision_recall_curve(results[m]['y_true'], results[m]['y_prob'], pos_label=1)\n",
    "        thresh = np.hstack([thresh, [1]])\n",
    "        ax.plot(rec, prec, label=m, color=c, alpha=0.7)\n",
    "        ax.plot(rec, thresh, label=m + \" threshold\", linestyle='-.', color=c)\n",
    "        plt.legend(loc=7)\n",
    "    ax.set_ylim([0,1])\n",
    "    ax.set_xlabel('rec')\n",
    "    ax.set_ylabel('prec')\n",
    "        \n",
    "prec_rec_curves(results_cv)"
   ]
  },
  {
   "cell_type": "markdown",
   "metadata": {},
   "source": [
    "Pick threshold for best precision (tp/(tp+fp)), minimize false positives."
   ]
  },
  {
   "cell_type": "code",
   "execution_count": 809,
   "metadata": {
    "collapsed": false
   },
   "outputs": [
    {
     "name": "stdout",
     "output_type": "stream",
     "text": [
      "AH\n",
      "341\n",
      "             precision    recall  f1-score   support\n",
      "\n",
      "          0       0.96      0.91      0.93      2138\n",
      "          1       0.40      0.60      0.48       229\n",
      "\n",
      "avg / total       0.90      0.88      0.89      2367\n",
      "\n",
      "DD\n",
      "546\n",
      "             precision    recall  f1-score   support\n",
      "\n",
      "          0       0.93      0.85      0.89      1998\n",
      "          1       0.44      0.64      0.52       369\n",
      "\n",
      "avg / total       0.85      0.81      0.83      2367\n",
      "\n",
      "TA\n",
      "555\n",
      "             precision    recall  f1-score   support\n",
      "\n",
      "          0       0.92      0.84      0.88      1986\n",
      "          1       0.42      0.61      0.50       381\n",
      "\n",
      "avg / total       0.84      0.80      0.82      2367\n",
      "\n"
     ]
    }
   ],
   "source": [
    "thresholds = {'AH': .5, 'DD': .5, 'TA': .5}\n",
    "# thresholds = {'AH': .1, 'DD': .22, 'TA': .18}\n",
    "# thresholds = {'AH': .6, 'DD': .6, 'TA': .6}\n",
    "# thresholds = {'AH': .99, 'DD': .99, 'TA': .99}\n",
    "\n",
    "for m in moods:\n",
    "    print(m)\n",
    "    t = thresholds[m]\n",
    "    y_pred_thresh = (np.array(results_cv[m]['y_prob']) > t).astype(int)\n",
    "    print(y_pred_thresh.sum())\n",
    "    print(metrics.classification_report(results_cv[m]['y_true'], y_pred_thresh))"
   ]
  },
  {
   "cell_type": "markdown",
   "metadata": {},
   "source": [
    "## Annotate users from treatment and control groups."
   ]
  },
  {
   "cell_type": "markdown",
   "metadata": {},
   "source": [
    "Train classifiers on the all the annotated instances."
   ]
  },
  {
   "cell_type": "code",
   "execution_count": 810,
   "metadata": {
    "collapsed": false
   },
   "outputs": [],
   "source": [
    "moods = ['AH', 'DD', 'TA']\n",
    "vecs = {}\n",
    "kbests = {}\n",
    "plines = {}\n",
    "Xs = {}\n",
    "clfs = {}\n",
    "features = {}\n",
    "top_features = {}\n",
    "n_features = 160\n",
    "\n",
    "for m in tqdm_notebook(moods):\n",
    "    # build pipeline\n",
    "    vecs[m] = TfidfVectorizer(tokenizer=tokenize, min_df=3, max_df=0.95)\n",
    "    kbests[m] = SelectKBest(chi2, n_features)\n",
    "    plines[m] = pipeline = Pipeline([('tfidf', vecs[m]), ('chi2', kbests[m])])\n",
    "    \n",
    "    # build doc term matrix\n",
    "    y = mood_tweets_df[m]\n",
    "    Xs[m] = plines[m].fit_transform(mood_tweets_df.text, y)\n",
    "    # get labels\n",
    "\n",
    "    # train classifier\n",
    "    clfs[m] = LogisticRegression(class_weight='balanced')\n",
    "    clfs[m].fit(Xs[m],y)\n",
    "    \n",
    "    # retrieve features\n",
    "    support = kbests[m].get_support()\n",
    "    features[m] = np.array(vecs[m].get_feature_names())[support]\n",
    "    top_features[m] = [(features[m][i], clfs[m].coef_[0][i]) for i in clfs[m].coef_[0].argsort()[::-1]]"
   ]
  },
  {
   "cell_type": "markdown",
   "metadata": {},
   "source": [
    "Build termdoc matrix for each user."
   ]
  },
  {
   "cell_type": "code",
   "execution_count": 811,
   "metadata": {
    "collapsed": false
   },
   "outputs": [],
   "source": [
    "for m in tqdm_notebook(moods):\n",
    "    f = lambda _: plines[m].transform(_)\n",
    "    n_users['termdoc_' + m] = n_users.tweets.progress_apply(f)\n",
    "    s_users['termdoc_' + m] = s_users.tweets.progress_apply(f)"
   ]
  },
  {
   "cell_type": "markdown",
   "metadata": {},
   "source": [
    "Scale termdoc matrix and compute probability of each class for each user."
   ]
  },
  {
   "cell_type": "code",
   "execution_count": 812,
   "metadata": {
    "collapsed": false
   },
   "outputs": [],
   "source": [
    "for m in tqdm_notebook(moods):\n",
    "    f = lambda _: clfs[m].predict_proba(_)\n",
    "    n_users['prob_' + m] = n_users['termdoc_' + m].progress_apply(f)\n",
    "    s_users['prob_' + m] = s_users['termdoc_' + m].progress_apply(f)    "
   ]
  },
  {
   "cell_type": "markdown",
   "metadata": {},
   "source": [
    "Compute average score for each user."
   ]
  },
  {
   "cell_type": "code",
   "execution_count": 813,
   "metadata": {
    "collapsed": false
   },
   "outputs": [],
   "source": [
    "f = lambda _: np.mean(_[:,1])\n",
    "\n",
    "for m in tqdm_notebook(moods):\n",
    "    n_users['avg_prob_' + m] = n_users['prob_' + m].apply(f)\n",
    "    s_users['avg_prob_' + m] = s_users['prob_' + m].apply(f)"
   ]
  },
  {
   "cell_type": "code",
   "execution_count": 827,
   "metadata": {
    "collapsed": false
   },
   "outputs": [
    {
     "data": {
      "text/plain": [
       "<matplotlib.axes._subplots.AxesSubplot at 0x7f4f749fc8d0>"
      ]
     },
     "execution_count": 827,
     "metadata": {},
     "output_type": "execute_result"
    },
    {
     "data": {
      "image/png": "[encoded data removed]",
      "text/plain": [
       "<matplotlib.figure.Figure at 0x7f4f68613c88>"
      ]
     },
     "metadata": {},
     "output_type": "display_data"
    }
   ],
   "source": [
    "compare_avg_df = pd.DataFrame()\n",
    "for m in moods:\n",
    "    compare_avg_df['match_' + m] = n_users['avg_prob_' + m]\n",
    "    compare_avg_df['sport_' + m] = s_users['avg_prob_' + m]\n",
    "#     compare_avg_df['diff_' + m] = n_users['avg_prob_' + m] - s_users['avg_prob_' + m]\n",
    "    \n",
    "compare_avg_df.plot(kind='box', figsize=(8,6))#, ylim=[-0.1,.22])"
   ]
  },
  {
   "cell_type": "markdown",
   "metadata": {},
   "source": [
    "Percent change"
   ]
  },
  {
   "cell_type": "code",
   "execution_count": 819,
   "metadata": {
    "collapsed": false
   },
   "outputs": [
    {
     "name": "stdout",
     "output_type": "stream",
     "text": [
      "Dimension AH: -6.48% Change, p-value = 1.76e-22\n",
      "Dimension DD: -3.64% Change, p-value = 4.84e-06\n",
      "Dimension TA: -7.05% Change, p-value = 3.29e-16\n"
     ]
    }
   ],
   "source": [
    "def perc_change(before, after):\n",
    "    return 100 * (after - before) / before\n",
    "\n",
    "for m in moods:\n",
    "    before = n_users['avg_prob_' + m].mean()\n",
    "    after = s_users['avg_prob_' + m].mean()\n",
    "    w, p = wilcoxon(n_users['avg_prob_' + m], s_users['avg_prob_' + m])\n",
    "    print(\"Dimension {}: {}% Change, p-value = {}\".format(m, \"%.2f\" % perc_change(before, after), \"%.3g\" % p))"
   ]
  },
  {
   "cell_type": "markdown",
   "metadata": {},
   "source": [
    "Compute prediction for each tweets for each user given a threshold for each dimension."
   ]
  },
  {
   "cell_type": "code",
   "execution_count": 820,
   "metadata": {
    "collapsed": false
   },
   "outputs": [],
   "source": [
    "thresholds = {'AH': .5, 'DD': .5, 'TA': .5}\n",
    "\n",
    "for m in tqdm_notebook(moods):\n",
    "    t = thresholds[m]\n",
    "    f = lambda _: (_[:, 1] > t).astype(int)\n",
    "    n_users['pred_' + m] = n_users['prob_' + m].apply(f)\n",
    "    s_users['pred_' + m] = s_users['prob_' + m].apply(f)"
   ]
  },
  {
   "cell_type": "markdown",
   "metadata": {},
   "source": [
    "Compute ratio of positive tweets for each dimension and each user."
   ]
  },
  {
   "cell_type": "code",
   "execution_count": 822,
   "metadata": {
    "collapsed": false
   },
   "outputs": [],
   "source": [
    "f = lambda _: np.sum(_)/np.shape(_)[0]\n",
    "for m in tqdm_notebook(moods):\n",
    "    n_users['ratio_pos_' + m] = n_users['pred_' + m].apply(f)\n",
    "    s_users['ratio_pos_' + m] = s_users['pred_' + m].apply(f)    "
   ]
  },
  {
   "cell_type": "code",
   "execution_count": 826,
   "metadata": {
    "collapsed": false
   },
   "outputs": [
    {
     "data": {
      "text/plain": [
       "<matplotlib.axes._subplots.AxesSubplot at 0x7f4f68b4f898>"
      ]
     },
     "execution_count": 826,
     "metadata": {},
     "output_type": "execute_result"
    },
    {
     "data": {
      "image/png": "[encoded data removed]",
      "text/plain": [
       "<matplotlib.figure.Figure at 0x7f4f749fc550>"
      ]
     },
     "metadata": {},
     "output_type": "display_data"
    }
   ],
   "source": [
    "compare_ratio_df = pd.DataFrame()\n",
    "for m in moods:\n",
    "    compare_ratio_df['match_' + m] = n_users['ratio_pos_' + m]\n",
    "    compare_ratio_df['sport_' + m] = s_users['ratio_pos_' + m]\n",
    "#     compare_ratio_df['diff_' + m] = n_users['ratio_pos_' + m] - s_users['ratio_pos_' + m]\n",
    "    \n",
    "compare_ratio_df.plot(kind='box', figsize=(8,6), ylim=[0,.2])"
   ]
  },
  {
   "cell_type": "markdown",
   "metadata": {
    "collapsed": true
   },
   "source": [
    "# Topic analysis "
   ]
  },
  {
   "cell_type": "markdown",
   "metadata": {},
   "source": [
    "## Clustering helpers"
   ]
  },
  {
   "cell_type": "code",
   "execution_count": 522,
   "metadata": {
    "collapsed": false
   },
   "outputs": [],
   "source": [
    "def kmeans_top_fts(kmeans, X, feature_names, n_top_features):\n",
    "    df = pd.DataFrame()\n",
    "    X_sum = X.sum(axis=0).A1\n",
    "    for cl_i in range(kmeans.n_clusters):\n",
    "        in_cluster_i = np.where(kmeans.labels_ == cl_i)\n",
    "        X_sum_i = X[in_cluster_i].sum(axis=0).A1\n",
    "        top_fts_idx = np.argsort(X_sum_i)[::-1]\n",
    "        df['cluster_%d' % (cl_i + 1)] = feature_names[top_fts_idx][:n_top_features]\n",
    "    \n",
    "    return df"
   ]
  },
  {
   "cell_type": "code",
   "execution_count": 465,
   "metadata": {
    "collapsed": true
   },
   "outputs": [],
   "source": [
    "def cluster_users_tweets(users, col='tweets', n_clusters=10, max_iter=10, n_words=50, seed=123456, stop_words='english',\n",
    "                         tokenize_kwargs=dict(keep_hashtags=True, collapse_hashtags=False, keep_mentions=False, keep_urls=False, bigrams=False, liwc=False)):\n",
    "    t0 = time.time()\n",
    "    print(\"Vectorize data...\")\n",
    "    vec = TfidfVectorizer(analyzer='word', tokenizer=lambda _: tokenize(_, **tokenize_kwargs),\n",
    "                          binary=True, min_df=3, max_df=.95, max_features=50000, stop_words=stop_words)\n",
    "    col_obj = users[col] if type(col) is str else col\n",
    "    X = vec.fit_transform(col_obj.apply(lambda _: \" \".join(_)))\n",
    "    t1 = time.time()\n",
    "    print(\"Done in %.2fs.\" % (t1-t0))\n",
    "    feature_names = np.array(vec.get_feature_names())\n",
    "    print(\"%d features.\" % len(feature_names))\n",
    "    print(\"Run KMeans clustering...\")\n",
    "    kmeans = KMeans(n_clusters=n_clusters, max_iter=max_iter, random_state=seed)\n",
    "    kmeans.fit(X)\n",
    "    t2 = time.time()\n",
    "    print(\"Done in %.2fs.\" % (t2-t1))\n",
    "    \n",
    "    return vec, feature_names, X, kmeans, kmeans_top_fts(kmeans, X, feature_names, n_words)"
   ]
  },
  {
   "cell_type": "markdown",
   "metadata": {},
   "source": [
    "## Load food-related datasets"
   ]
  },
  {
   "cell_type": "markdown",
   "metadata": {},
   "source": [
    "### FooDB dataset"
   ]
  },
  {
   "cell_type": "code",
   "execution_count": 1044,
   "metadata": {
    "collapsed": false
   },
   "outputs": [],
   "source": [
    "foodb_foods = pd.read_csv(\"foodb_2016-11-18/foods.csv\", escapechar=\"\\\\\")\n",
    "colors = set(['blue', 'red', 'green', 'yellow', 'orange', 'white', 'black'])\n",
    "food_parts = foodb_foods.name.str.lower()\\\n",
    "                        .apply(lambda _: re.sub(r'[%s]' % re.escape(string.punctuation), \"\", _).split())\\\n",
    "                        .apply(lambda _: \"_\".join([x for x in _ if x not in colors]))"
   ]
  },
  {
   "cell_type": "code",
   "execution_count": 1045,
   "metadata": {
    "collapsed": false
   },
   "outputs": [],
   "source": [
    "foodb_flavors = pd.read_csv(\"foodb_2016-11-18/flavors.csv\")\n",
    "flavor_parts = foodb_flavors.name.str.lower()\\\n",
    "                        .apply(lambda _: re.sub(r'[%s]' % re.escape(string.punctuation), \"\", _).split())\\\n",
    "                        .apply(lambda _: \"_\".join([x for x in _ if x not in colors]))"
   ]
  },
  {
   "cell_type": "code",
   "execution_count": 1046,
   "metadata": {
    "collapsed": false
   },
   "outputs": [],
   "source": [
    "foodb_words = set(food_parts.unique()) | set(flavor_parts.unique())"
   ]
  },
  {
   "cell_type": "markdown",
   "metadata": {},
   "source": [
    "### Filter using FooDB keywords then use taxonomy tagging to remove ambiguous tweets (E.g. tweets about apple, the company)"
   ]
  },
  {
   "cell_type": "code",
   "execution_count": 1047,
   "metadata": {
    "code_folding": [
     0
    ],
    "collapsed": true
   },
   "outputs": [],
   "source": [
    "def load_weber_lexicon(p):\n",
    "    line_sep = \"===\"\n",
    "    add_to_df = False\n",
    "    collected = []\n",
    "    with open(p) as fd:\n",
    "        for l in fd:\n",
    "            l = l.strip()\n",
    "            if l:\n",
    "                if l.startswith(line_sep):\n",
    "                    add_to_df = not add_to_df\n",
    "                    continue\n",
    "                if add_to_df:\n",
    "                    collected.append(l.strip().split('\\t'))\n",
    "    df = pd.DataFrame(collected, columns=['food_name', 'avg_cal_per_serving', 'food_cat'])\n",
    "    df['food_name'] = df.food_name.apply(lambda _: \"_\".join(_.split()))\n",
    "    return df\n",
    "\n",
    "weber_lexicon = set(load_weber_lexicon(\"./twitter_food_calorie_lexicon.txt\").food_name)"
   ]
  },
  {
   "cell_type": "code",
   "execution_count": 1048,
   "metadata": {
    "code_folding": [],
    "collapsed": false
   },
   "outputs": [],
   "source": [
    "exclude_words = set( # targeting apple, blackberry, kevin bacon, raspberry pi\n",
    "    [\n",
    "        'phone', 'iphone', 'itunes', 'google', 'app', 'kevin', 'os', 'ios', 'ipad', 'samsung', 'android', 'pi', 'apps', 'software',\n",
    "        'cisco', 'smartphone', 'mobile', 'nest', 'iwatch', 'media', 'nexus'\n",
    "    ]\n",
    ")\n",
    "exclude_words |= set( # direct ban of ambiguous words\n",
    "    [\n",
    "        'apple', 'raspberry', 'blackberry', 'kevin'\n",
    "    ]\n",
    ")\n",
    "\n",
    "def tw_filter(tw, include, exclude=[], keep_rt=False):\n",
    "    tokens  = set(tokenize(tw, keep_hashtags=False, keep_mentions=False, keep_urls=False, bigrams=False, liwc=False))\n",
    "    if 'rt' in tokens and not keep_rt:\n",
    "        return False\n",
    "    include = set(include)\n",
    "    exclude = set(exclude)\n",
    "    if not (tokens & exclude) and (tokens & include):\n",
    "        return True\n",
    "    else:\n",
    "        return False\n",
    "\n",
    "n_users['food_tweets'] = n_users.tweets.progress_apply(lambda _: [tw for tw in _ if tw_filter(tw, foodb_words | weber_lexicon, exclude_words)])\n",
    "s_users['food_tweets'] = s_users.tweets.progress_apply(lambda _: [tw for tw in _ if tw_filter(tw, foodb_words | weber_lexicon, exclude_words)])"
   ]
  },
  {
   "cell_type": "code",
   "execution_count": 1049,
   "metadata": {
    "code_folding": [
     12
    ],
    "collapsed": false
   },
   "outputs": [],
   "source": [
    "import textblob\n",
    "from textblob.wordnet import *\n",
    "\n",
    "food_wn = set([Synset('food.n.01'), Synset('food.n.02'), Synset('edible_nut.n.01')])#, Synset('consume.v.02')])\n",
    "amibguous_words = [ # ambiguous words classify as food-related words by wordnet\n",
    "    'stock', 'b', 'cs', 'ds', 'as', 'd', 'e', 'a', 'es', 'c', 'bs'\n",
    "    'lap','bib','try','cod','ade','leg','cos','sup','mix', 'pap',\n",
    "    'ail','zep','sub','fed','soy','dog','msg','bap','pop','cut','pud',\n",
    "    'jak','poi','has','roe','had','hay','gem','yam','lox','cup','hit','rue'\n",
    "]\n",
    "dp_food_words = {w:False for w in amibguous_words}\n",
    "\n",
    "def word_isin(w, cats):\n",
    "    cats    = set(cats)\n",
    "    w       = textblob.Word(w)\n",
    "    synsets = w.synsets\n",
    "    \n",
    "    visited = set()\n",
    "    \n",
    "    # word has been searched before\n",
    "    if w in dp_food_words:\n",
    "        return dp_food_words[w]\n",
    "    \n",
    "    while synsets:\n",
    "        insert_parents = True\n",
    "        cursyn = synsets.pop(0)\n",
    "        visited.add(cursyn)\n",
    "        \n",
    "        # synset has been seen before\n",
    "        if cursyn in dp_food_words:\n",
    "            if dp_food_words[cursyn]:\n",
    "                # add word to our dp dict\n",
    "                dp_food_words[w] = True\n",
    "                return True\n",
    "            else:\n",
    "                continue\n",
    "        \n",
    "        # synset matches our categories\n",
    "        if cursyn in cats:\n",
    "            dp_food_words[cursyn] = True\n",
    "            #print(cursyn, True)\n",
    "            return True\n",
    "        # synset does not match our categories\n",
    "        else:\n",
    "            parents = cursyn.hypernyms()\n",
    "            #print(\"%s <- %s\" % (cursyn, parents))\n",
    "            synsets.extend(parents)\n",
    "    \n",
    "    # if we find a word that doesn't match our categories, we know that none of the\n",
    "    # visited synset match our categories\n",
    "    dp_food_words[w] = False\n",
    "    for syn in visited:\n",
    "        dp_food_words[syn] = False\n",
    "    return False"
   ]
  },
  {
   "cell_type": "code",
   "execution_count": 1050,
   "metadata": {
    "collapsed": false
   },
   "outputs": [],
   "source": [
    "def wn_fraction(tw, cats):\n",
    "    tokens = tokenize(tw, liwc=False, keep_hashtags=False, keep_mentions=False, keep_urls=False, bigrams=False)\n",
    "    #tokens = tw.lower().split()\n",
    "    matches = np.array([1 if word_isin(tk, cats) else 0 for tk in tokens])\n",
    "    return np.sum(matches)/matches.shape[0]\n",
    "\n",
    "n_users['wn_fraction_food'] = n_users.food_tweets.progress_apply(lambda l: [wn_fraction(tw, food_wn) for tw in l])\n",
    "s_users['wn_fraction_food'] = s_users.food_tweets.progress_apply(lambda l: [wn_fraction(tw, food_wn) for tw in l])"
   ]
  },
  {
   "cell_type": "code",
   "execution_count": 1051,
   "metadata": {
    "code_folding": [
     0
    ],
    "collapsed": false,
    "scrolled": true
   },
   "outputs": [
    {
     "data": {
      "text/html": [
       "<div>\n",
       "<table border=\"1\" class=\"dataframe\">\n",
       "  <thead>\n",
       "    <tr style=\"text-align: right;\">\n",
       "      <th></th>\n",
       "      <th>is_food</th>\n",
       "      <th>name</th>\n",
       "    </tr>\n",
       "    <tr>\n",
       "      <th>name</th>\n",
       "      <th></th>\n",
       "      <th></th>\n",
       "    </tr>\n",
       "  </thead>\n",
       "  <tbody>\n",
       "    <tr>\n",
       "      <th>pistache</th>\n",
       "      <td>False</td>\n",
       "      <td>pistache</td>\n",
       "    </tr>\n",
       "    <tr>\n",
       "      <th>tossed</th>\n",
       "      <td>False</td>\n",
       "      <td>tossed</td>\n",
       "    </tr>\n",
       "    <tr>\n",
       "      <th>cognacs</th>\n",
       "      <td>True</td>\n",
       "      <td>cognacs</td>\n",
       "    </tr>\n",
       "    <tr>\n",
       "      <th>mozart.n.02</th>\n",
       "      <td>False</td>\n",
       "      <td>mozart.n.02</td>\n",
       "    </tr>\n",
       "    <tr>\n",
       "      <th>stamp.v.06</th>\n",
       "      <td>False</td>\n",
       "      <td>stamp.v.06</td>\n",
       "    </tr>\n",
       "    <tr>\n",
       "      <th>buddy...finished</th>\n",
       "      <td>False</td>\n",
       "      <td>buddy...finished</td>\n",
       "    </tr>\n",
       "    <tr>\n",
       "      <th>ihsan</th>\n",
       "      <td>False</td>\n",
       "      <td>ihsan</td>\n",
       "    </tr>\n",
       "    <tr>\n",
       "      <th>delays</th>\n",
       "      <td>False</td>\n",
       "      <td>delays</td>\n",
       "    </tr>\n",
       "    <tr>\n",
       "      <th>cheese...could</th>\n",
       "      <td>False</td>\n",
       "      <td>cheese...could</td>\n",
       "    </tr>\n",
       "    <tr>\n",
       "      <th>asphyxiate</th>\n",
       "      <td>False</td>\n",
       "      <td>asphyxiate</td>\n",
       "    </tr>\n",
       "    <tr>\n",
       "      <th>noupe</th>\n",
       "      <td>False</td>\n",
       "      <td>noupe</td>\n",
       "    </tr>\n",
       "    <tr>\n",
       "      <th>rash.n.01</th>\n",
       "      <td>False</td>\n",
       "      <td>rash.n.01</td>\n",
       "    </tr>\n",
       "    <tr>\n",
       "      <th>again...one</th>\n",
       "      <td>False</td>\n",
       "      <td>again...one</td>\n",
       "    </tr>\n",
       "    <tr>\n",
       "      <th>speedo</th>\n",
       "      <td>False</td>\n",
       "      <td>speedo</td>\n",
       "    </tr>\n",
       "    <tr>\n",
       "      <th>grafs</th>\n",
       "      <td>False</td>\n",
       "      <td>grafs</td>\n",
       "    </tr>\n",
       "    <tr>\n",
       "      <th>kolbe</th>\n",
       "      <td>False</td>\n",
       "      <td>kolbe</td>\n",
       "    </tr>\n",
       "    <tr>\n",
       "      <th>ghostbar</th>\n",
       "      <td>False</td>\n",
       "      <td>ghostbar</td>\n",
       "    </tr>\n",
       "    <tr>\n",
       "      <th>bosch</th>\n",
       "      <td>False</td>\n",
       "      <td>bosch</td>\n",
       "    </tr>\n",
       "    <tr>\n",
       "      <th>washington.n.02</th>\n",
       "      <td>False</td>\n",
       "      <td>washington.n.02</td>\n",
       "    </tr>\n",
       "    <tr>\n",
       "      <th>sixpence.n.01</th>\n",
       "      <td>False</td>\n",
       "      <td>sixpence.n.01</td>\n",
       "    </tr>\n",
       "  </tbody>\n",
       "</table>\n",
       "</div>"
      ],
      "text/plain": [
       "                 is_food              name\n",
       "name                                      \n",
       "pistache           False          pistache\n",
       "tossed             False            tossed\n",
       "cognacs             True           cognacs\n",
       "mozart.n.02        False       mozart.n.02\n",
       "stamp.v.06         False        stamp.v.06\n",
       "buddy...finished   False  buddy...finished\n",
       "ihsan              False             ihsan\n",
       "delays             False            delays\n",
       "cheese...could     False    cheese...could\n",
       "asphyxiate         False        asphyxiate\n",
       "noupe              False             noupe\n",
       "rash.n.01          False         rash.n.01\n",
       "again...one        False       again...one\n",
       "speedo             False            speedo\n",
       "grafs              False             grafs\n",
       "kolbe              False             kolbe\n",
       "ghostbar           False          ghostbar\n",
       "bosch              False             bosch\n",
       "washington.n.02    False   washington.n.02\n",
       "sixpence.n.01      False     sixpence.n.01"
      ]
     },
     "execution_count": 1051,
     "metadata": {},
     "output_type": "execute_result"
    }
   ],
   "source": [
    "def parse_k(k):\n",
    "    r = str(k).lower()\n",
    "    if type(k) == textblob.Word:\n",
    "        pass\n",
    "    elif type(k) == nltk.corpus.reader.wordnet.Synset:\n",
    "        if r.startswith('synset'):\n",
    "            r = r.split(\"'\")[1]\n",
    "    return r\n",
    "\n",
    "dft = pd.DataFrame([{'name':parse_k(k), 'is_food': v} for k, v in dp_food_words.items()])\n",
    "dft.index = dft['name']\n",
    "dft.head(20)"
   ]
  },
  {
   "cell_type": "code",
   "execution_count": 1052,
   "metadata": {
    "collapsed": false
   },
   "outputs": [
    {
     "data": {
      "text/plain": [
       "array([[<matplotlib.axes._subplots.AxesSubplot object at 0x7f43e3902fd0>,\n",
       "        <matplotlib.axes._subplots.AxesSubplot object at 0x7f43eb5725c0>]], dtype=object)"
      ]
     },
     "execution_count": 1052,
     "metadata": {},
     "output_type": "execute_result"
    },
    {
     "data": {
      "image/png": "[encoded data removed]",
      "text/plain": [
       "<matplotlib.figure.Figure at 0x7f44035870b8>"
      ]
     },
     "metadata": {},
     "output_type": "display_data"
    }
   ],
   "source": [
    "wn_fractions_df = pd.DataFrame([\n",
    "        n_users['wn_fraction_food'].apply(lambda _: np.mean(_) if _ else 0),\n",
    "        s_users['wn_fraction_food'].apply(lambda _: np.mean(_) if _ else 0)\n",
    "    ],\n",
    "                               index=['match', 'sporty']).T\n",
    "wn_fractions_df.hist(alpha=1, bins=30, figsize=(20,5), sharey=True, sharex=True, )"
   ]
  },
  {
   "cell_type": "code",
   "execution_count": 1053,
   "metadata": {
    "collapsed": false
   },
   "outputs": [
    {
     "name": "stdout",
     "output_type": "stream",
     "text": [
      "Keeping tweets with a score of at least 0.15 and users with at least 15 remaining tweets.\n",
      "Yield 458 users per group.\n"
     ]
    }
   ],
   "source": [
    "def filter_out_wn_ratio(row, thresh):\n",
    "    return [tw for tw, ratio in zip(row.food_tweets, row.wn_fraction_food) if ratio >= thresh]\n",
    "\n",
    "ratio_thresh = 0.15\n",
    "count_thresh = 15\n",
    "n_wn_ratio_tweets = n_users.apply(lambda _: filter_out_wn_ratio(_, ratio_thresh), axis=1)\n",
    "s_wn_ratio_tweets = s_users.apply(lambda _: filter_out_wn_ratio(_, ratio_thresh), axis=1)\n",
    "\n",
    "keep_idx = ((n_wn_ratio_tweets.apply(len) > count_thresh) & (s_wn_ratio_tweets.apply(len) > count_thresh))\n",
    "n_wn_ratio_tweets = n_wn_ratio_tweets[keep_idx]\n",
    "s_wn_ratio_tweets = s_wn_ratio_tweets[keep_idx]\n",
    "print(\"Keeping tweets with a score of at least %.2f and users with at least %d remaining tweets.\" % (ratio_thresh, count_thresh))\n",
    "print(\"Yield %d users per group.\" % n_wn_ratio_tweets.shape[0])"
   ]
  },
  {
   "cell_type": "markdown",
   "metadata": {},
   "source": [
    "#### K-means clustering"
   ]
  },
  {
   "cell_type": "code",
   "execution_count": 1054,
   "metadata": {
    "collapsed": false
   },
   "outputs": [
    {
     "name": "stdout",
     "output_type": "stream",
     "text": [
      "Vectorize data...\n",
      "Done in 1.07s.\n",
      "8507 features.\n",
      "Run KMeans clustering...\n",
      "Done in 9.20s.\n"
     ]
    }
   ],
   "source": [
    "stopwords_punc = pd.read_csv(\"./stopwords_punc\", header=None, names=['word']).word.tolist()\n",
    "stopwords_punc += [_.replace(\"'\", \"’\") for _ in stopwords_punc]\n",
    "all_wn_ratio_tweets = n_wn_ratio_tweets.append(s_wn_ratio_tweets)\n",
    "\n",
    "# vec_n, features_n, X_n, kmeans_n, kmeans_top_fts_n = cluster_users_tweets(n_users, n_wn_ratio_tweets, n_clusters=15, max_iter=300, stop_words=stopwords_punc,\n",
    "#                                                                           tokenize_kwargs=dict(keep_hashtags=False, keep_mentions=False, keep_urls=False, bigrams=False, liwc=False, ))\n",
    "# vec_s, features_s, X_s, kmeans_s, kmeans_top_fts_s = cluster_users_tweets(s_users, s_wn_ratio_tweets, n_clusters=15, max_iter=300, stop_words=stopwords_punc,\n",
    "#                                                                           tokenize_kwargs=dict(keep_hashtags=False, keep_mentions=False, keep_urls=False, bigrams=False, liwc=False))\n",
    "vec_a, features_a, X_a, kmeans_a, kmeans_top_fts_a = cluster_users_tweets(None, all_wn_ratio_tweets, n_clusters=20, max_iter=300, n_words=1000, stop_words=stopwords_punc,\n",
    "                                                                          tokenize_kwargs=dict(keep_hashtags=False, keep_mentions=False, keep_urls=False, bigrams=False, liwc=False))"
   ]
  },
  {
   "cell_type": "code",
   "execution_count": 1055,
   "metadata": {
    "collapsed": false,
    "scrolled": true
   },
   "outputs": [
    {
     "data": {
      "text/html": [
       "<div>\n",
       "<table border=\"1\" class=\"dataframe\">\n",
       "  <thead>\n",
       "    <tr style=\"text-align: right;\">\n",
       "      <th></th>\n",
       "      <th>cluster_1</th>\n",
       "      <th>cluster_2</th>\n",
       "      <th>cluster_3</th>\n",
       "      <th>cluster_4</th>\n",
       "      <th>cluster_5</th>\n",
       "      <th>cluster_6</th>\n",
       "      <th>cluster_7</th>\n",
       "      <th>cluster_8</th>\n",
       "      <th>cluster_9</th>\n",
       "      <th>cluster_10</th>\n",
       "      <th>cluster_11</th>\n",
       "      <th>cluster_12</th>\n",
       "      <th>cluster_13</th>\n",
       "      <th>cluster_14</th>\n",
       "      <th>cluster_15</th>\n",
       "      <th>cluster_16</th>\n",
       "      <th>cluster_17</th>\n",
       "      <th>cluster_18</th>\n",
       "      <th>cluster_19</th>\n",
       "      <th>cluster_20</th>\n",
       "    </tr>\n",
       "  </thead>\n",
       "  <tbody>\n",
       "    <tr>\n",
       "      <th>0</th>\n",
       "      <td>😂</td>\n",
       "      <td>mellow</td>\n",
       "      <td>NUMBER</td>\n",
       "      <td>microwave</td>\n",
       "      <td>pizza</td>\n",
       "      <td>indoor</td>\n",
       "      <td>cheese</td>\n",
       "      <td>super</td>\n",
       "      <td>chocolate</td>\n",
       "      <td>help</td>\n",
       "      <td>water</td>\n",
       "      <td>colorful</td>\n",
       "      <td>fears</td>\n",
       "      <td>made</td>\n",
       "      <td>drink</td>\n",
       "      <td>des</td>\n",
       "      <td>dust</td>\n",
       "      <td>jam</td>\n",
       "      <td>coffee</td>\n",
       "      <td>cafe</td>\n",
       "    </tr>\n",
       "    <tr>\n",
       "      <th>1</th>\n",
       "      <td>😷</td>\n",
       "      <td>freebirds</td>\n",
       "      <td>like</td>\n",
       "      <td>benefit</td>\n",
       "      <td>ice</td>\n",
       "      <td>preventing</td>\n",
       "      <td>butter</td>\n",
       "      <td>sweet</td>\n",
       "      <td>tea</td>\n",
       "      <td>katy</td>\n",
       "      <td>healthy</td>\n",
       "      <td>gather</td>\n",
       "      <td>♫</td>\n",
       "      <td>make</td>\n",
       "      <td>eating</td>\n",
       "      <td>moines</td>\n",
       "      <td>release</td>\n",
       "      <td>lake</td>\n",
       "      <td>drink</td>\n",
       "      <td>pic</td>\n",
       "    </tr>\n",
       "    <tr>\n",
       "      <th>2</th>\n",
       "      <td>want</td>\n",
       "      <td>family</td>\n",
       "      <td>sweet</td>\n",
       "      <td>melted</td>\n",
       "      <td>chicken</td>\n",
       "      <td>problems</td>\n",
       "      <td>pizza</td>\n",
       "      <td>juice</td>\n",
       "      <td>love</td>\n",
       "      <td>interested</td>\n",
       "      <td>try</td>\n",
       "      <td>filipino</td>\n",
       "      <td>space</td>\n",
       "      <td>good</td>\n",
       "      <td>just</td>\n",
       "      <td>drink</td>\n",
       "      <td>sundae</td>\n",
       "      <td>denver</td>\n",
       "      <td>just</td>\n",
       "      <td>oh</td>\n",
       "    </tr>\n",
       "    <tr>\n",
       "      <th>3</th>\n",
       "      <td>know</td>\n",
       "      <td>mushroom</td>\n",
       "      <td>cream</td>\n",
       "      <td>pepper</td>\n",
       "      <td>others</td>\n",
       "      <td>mold</td>\n",
       "      <td>chocolate</td>\n",
       "      <td>EMOTICONSMILE</td>\n",
       "      <td>amp</td>\n",
       "      <td>probably</td>\n",
       "      <td>coffee</td>\n",
       "      <td>adobo</td>\n",
       "      <td>remix</td>\n",
       "      <td>cheese</td>\n",
       "      <td>NUMBER</td>\n",
       "      <td>fried</td>\n",
       "      <td>NUMBER</td>\n",
       "      <td>beer</td>\n",
       "      <td>whiskey</td>\n",
       "      <td>seafood</td>\n",
       "    </tr>\n",
       "    <tr>\n",
       "      <th>4</th>\n",
       "      <td>water</td>\n",
       "      <td>birthday</td>\n",
       "      <td>beer</td>\n",
       "      <td>food</td>\n",
       "      <td>cream</td>\n",
       "      <td>abc</td>\n",
       "      <td>cream</td>\n",
       "      <td>good</td>\n",
       "      <td>coffee</td>\n",
       "      <td>plz</td>\n",
       "      <td>milk</td>\n",
       "      <td>video</td>\n",
       "      <td>alexander</td>\n",
       "      <td>just</td>\n",
       "      <td>chicken</td>\n",
       "      <td>java</td>\n",
       "      <td>another</td>\n",
       "      <td>ahh</td>\n",
       "      <td>sandwich</td>\n",
       "      <td>w</td>\n",
       "    </tr>\n",
       "    <tr>\n",
       "      <th>5</th>\n",
       "      <td>ate</td>\n",
       "      <td>lunch</td>\n",
       "      <td>chicken</td>\n",
       "      <td>bullshit</td>\n",
       "      <td>center</td>\n",
       "      <td>restaurant</td>\n",
       "      <td>like</td>\n",
       "      <td>tea</td>\n",
       "      <td>sweet</td>\n",
       "      <td>perry</td>\n",
       "      <td>make</td>\n",
       "      <td>stew</td>\n",
       "      <td>variation</td>\n",
       "      <td>now</td>\n",
       "      <td>beer</td>\n",
       "      <td>ia</td>\n",
       "      <td>snapper</td>\n",
       "      <td>others</td>\n",
       "      <td>cream</td>\n",
       "      <td>others</td>\n",
       "    </tr>\n",
       "    <tr>\n",
       "      <th>6</th>\n",
       "      <td>though</td>\n",
       "      <td>NUMBER</td>\n",
       "      <td>coffee</td>\n",
       "      <td>bell</td>\n",
       "      <td>NUMBER</td>\n",
       "      <td>seafood</td>\n",
       "      <td>buffalo</td>\n",
       "      <td>m</td>\n",
       "      <td>salad</td>\n",
       "      <td>insomnia</td>\n",
       "      <td>sugar</td>\n",
       "      <td>sound</td>\n",
       "      <td>lamb</td>\n",
       "      <td>dinner</td>\n",
       "      <td>sweet</td>\n",
       "      <td>time</td>\n",
       "      <td>bites</td>\n",
       "      <td>sweet</td>\n",
       "      <td>iron</td>\n",
       "      <td>NUMBER</td>\n",
       "    </tr>\n",
       "    <tr>\n",
       "      <th>7</th>\n",
       "      <td>strawberry</td>\n",
       "      <td>via</td>\n",
       "      <td>pizza</td>\n",
       "      <td>speak</td>\n",
       "      <td>w</td>\n",
       "      <td>viking</td>\n",
       "      <td>sweet</td>\n",
       "      <td>pie</td>\n",
       "      <td>pizza</td>\n",
       "      <td>spread</td>\n",
       "      <td>veggies</td>\n",
       "      <td>alarm</td>\n",
       "      <td>NUMBER's</td>\n",
       "      <td>sauce</td>\n",
       "      <td>meat</td>\n",
       "      <td>thanks</td>\n",
       "      <td>beating</td>\n",
       "      <td>thanks</td>\n",
       "      <td>best</td>\n",
       "      <td>sweet</td>\n",
       "    </tr>\n",
       "    <tr>\n",
       "      <th>8</th>\n",
       "      <td>white</td>\n",
       "      <td>sweet</td>\n",
       "      <td>ice</td>\n",
       "      <td>game</td>\n",
       "      <td>sweet</td>\n",
       "      <td>regular</td>\n",
       "      <td>food</td>\n",
       "      <td>ice</td>\n",
       "      <td>just</td>\n",
       "      <td>batman</td>\n",
       "      <td>like</td>\n",
       "      <td>gourmet</td>\n",
       "      <td>♥</td>\n",
       "      <td>salad</td>\n",
       "      <td>like</td>\n",
       "      <td>sweet</td>\n",
       "      <td>date</td>\n",
       "      <td>game</td>\n",
       "      <td>jam</td>\n",
       "      <td>house</td>\n",
       "    </tr>\n",
       "    <tr>\n",
       "      <th>9</th>\n",
       "      <td>boy</td>\n",
       "      <td>waffle</td>\n",
       "      <td>cheese</td>\n",
       "      <td>legs</td>\n",
       "      <td>game</td>\n",
       "      <td>belmont</td>\n",
       "      <td>NUMBER</td>\n",
       "      <td>eggs</td>\n",
       "      <td>NUMBER</td>\n",
       "      <td>gets</td>\n",
       "      <td>new</td>\n",
       "      <td>clock</td>\n",
       "      <td>tears</td>\n",
       "      <td>one</td>\n",
       "      <td>lunch</td>\n",
       "      <td>co</td>\n",
       "      <td>game</td>\n",
       "      <td>bar</td>\n",
       "      <td>space</td>\n",
       "      <td>restaurant</td>\n",
       "    </tr>\n",
       "    <tr>\n",
       "      <th>10</th>\n",
       "      <td>just</td>\n",
       "      <td>getting</td>\n",
       "      <td>day</td>\n",
       "      <td>right</td>\n",
       "      <td>good</td>\n",
       "      <td>vineyard</td>\n",
       "      <td>ice</td>\n",
       "      <td>side</td>\n",
       "      <td>cream</td>\n",
       "      <td>puts</td>\n",
       "      <td>go</td>\n",
       "      <td>lol</td>\n",
       "      <td>haven</td>\n",
       "      <td>bread</td>\n",
       "      <td>beers</td>\n",
       "      <td>coffee</td>\n",
       "      <td>others</td>\n",
       "      <td>afternoon</td>\n",
       "      <td>pizza</td>\n",
       "      <td>time</td>\n",
       "    </tr>\n",
       "    <tr>\n",
       "      <th>11</th>\n",
       "      <td>coffee</td>\n",
       "      <td>like</td>\n",
       "      <td>new</td>\n",
       "      <td>like</td>\n",
       "      <td>water</td>\n",
       "      <td>unlocked</td>\n",
       "      <td>coffee</td>\n",
       "      <td>pork</td>\n",
       "      <td>food</td>\n",
       "      <td>games</td>\n",
       "      <td>fat</td>\n",
       "      <td>medicine</td>\n",
       "      <td>din</td>\n",
       "      <td>butter</td>\n",
       "      <td>milk</td>\n",
       "      <td>bacon</td>\n",
       "      <td>beer</td>\n",
       "      <td>good</td>\n",
       "      <td>wine</td>\n",
       "      <td>burger</td>\n",
       "    </tr>\n",
       "    <tr>\n",
       "      <th>12</th>\n",
       "      <td>amazing</td>\n",
       "      <td>date</td>\n",
       "      <td>chocolate</td>\n",
       "      <td>jam</td>\n",
       "      <td>amp</td>\n",
       "      <td>amendment</td>\n",
       "      <td>beer</td>\n",
       "      <td>breakfast</td>\n",
       "      <td>water</td>\n",
       "      <td>thought</td>\n",
       "      <td>fruits</td>\n",
       "      <td>grizzly</td>\n",
       "      <td>cigarettes</td>\n",
       "      <td>love</td>\n",
       "      <td>every</td>\n",
       "      <td>hot</td>\n",
       "      <td>deal</td>\n",
       "      <td>never</td>\n",
       "      <td>milk</td>\n",
       "      <td>pizza</td>\n",
       "    </tr>\n",
       "    <tr>\n",
       "      <th>13</th>\n",
       "      <td>😍😍😍</td>\n",
       "      <td>others</td>\n",
       "      <td>w</td>\n",
       "      <td>listen</td>\n",
       "      <td>taco</td>\n",
       "      <td>flare</td>\n",
       "      <td>just</td>\n",
       "      <td>NUMBER</td>\n",
       "      <td>dinner</td>\n",
       "      <td>balance</td>\n",
       "      <td>almond</td>\n",
       "      <td>smooth</td>\n",
       "      <td>saffron</td>\n",
       "      <td>food</td>\n",
       "      <td>cookie</td>\n",
       "      <td>others</td>\n",
       "      <td>grabbing</td>\n",
       "      <td>coffee</td>\n",
       "      <td>hot</td>\n",
       "      <td>photo</td>\n",
       "    </tr>\n",
       "    <tr>\n",
       "      <th>14</th>\n",
       "      <td>😒</td>\n",
       "      <td>way</td>\n",
       "      <td>water</td>\n",
       "      <td>mixed</td>\n",
       "      <td>food</td>\n",
       "      <td>bacon</td>\n",
       "      <td>want</td>\n",
       "      <td>thanks</td>\n",
       "      <td>chicken</td>\n",
       "      <td>sunset</td>\n",
       "      <td>snack</td>\n",
       "      <td>recipe</td>\n",
       "      <td>cine</td>\n",
       "      <td>making</td>\n",
       "      <td>always</td>\n",
       "      <td>new</td>\n",
       "      <td>w</td>\n",
       "      <td>w</td>\n",
       "      <td>want</td>\n",
       "      <td>cheese</td>\n",
       "    </tr>\n",
       "    <tr>\n",
       "      <th>15</th>\n",
       "      <td>ice</td>\n",
       "      <td>fish</td>\n",
       "      <td>night</td>\n",
       "      <td>today</td>\n",
       "      <td>buffalo</td>\n",
       "      <td>birch</td>\n",
       "      <td>peanut</td>\n",
       "      <td>lime</td>\n",
       "      <td>lunch</td>\n",
       "      <td>die</td>\n",
       "      <td>smoothie</td>\n",
       "      <td>includes</td>\n",
       "      <td>stars</td>\n",
       "      <td>chocolate</td>\n",
       "      <td>peanut</td>\n",
       "      <td>america's</td>\n",
       "      <td>sweet</td>\n",
       "      <td>colorado</td>\n",
       "      <td>apples</td>\n",
       "      <td>tea</td>\n",
       "    </tr>\n",
       "    <tr>\n",
       "      <th>16</th>\n",
       "      <td>now</td>\n",
       "      <td>NUMBER-NUMBER</td>\n",
       "      <td>dinner</td>\n",
       "      <td>butter</td>\n",
       "      <td>sushi</td>\n",
       "      <td>pre</td>\n",
       "      <td>date</td>\n",
       "      <td>key</td>\n",
       "      <td>time</td>\n",
       "      <td>butter</td>\n",
       "      <td>butter</td>\n",
       "      <td>survive</td>\n",
       "      <td>bluebird</td>\n",
       "      <td>ice</td>\n",
       "      <td>taco</td>\n",
       "      <td>just</td>\n",
       "      <td>dang</td>\n",
       "      <td>sugar</td>\n",
       "      <td>regular</td>\n",
       "      <td>via</td>\n",
       "    </tr>\n",
       "    <tr>\n",
       "      <th>17</th>\n",
       "      <td>😍</td>\n",
       "      <td>kids</td>\n",
       "      <td>lunch</td>\n",
       "      <td>green</td>\n",
       "      <td>lamb</td>\n",
       "      <td>pumpkin</td>\n",
       "      <td>dinner</td>\n",
       "      <td>bread</td>\n",
       "      <td>ice</td>\n",
       "      <td>live</td>\n",
       "      <td>egg</td>\n",
       "      <td>popcorn</td>\n",
       "      <td>acids</td>\n",
       "      <td>cookies</td>\n",
       "      <td>alcohol</td>\n",
       "      <td>wine</td>\n",
       "      <td>dark</td>\n",
       "      <td>team</td>\n",
       "      <td>magical</td>\n",
       "      <td>coffee</td>\n",
       "    </tr>\n",
       "    <tr>\n",
       "      <th>18</th>\n",
       "      <td>friends</td>\n",
       "      <td>honey</td>\n",
       "      <td>just</td>\n",
       "      <td>drink</td>\n",
       "      <td>restaurant</td>\n",
       "      <td>miami</td>\n",
       "      <td>eat</td>\n",
       "      <td>trying</td>\n",
       "      <td>best</td>\n",
       "      <td>though</td>\n",
       "      <td>shoulder</td>\n",
       "      <td>jalepeno</td>\n",
       "      <td>sux</td>\n",
       "      <td>milk</td>\n",
       "      <td>coffee</td>\n",
       "      <td>pizza</td>\n",
       "      <td>friday</td>\n",
       "      <td>mmm</td>\n",
       "      <td>good</td>\n",
       "      <td>center</td>\n",
       "    </tr>\n",
       "    <tr>\n",
       "      <th>19</th>\n",
       "      <td>come</td>\n",
       "      <td>taking</td>\n",
       "      <td>date</td>\n",
       "      <td>toasted</td>\n",
       "      <td>today</td>\n",
       "      <td>michael</td>\n",
       "      <td>meat</td>\n",
       "      <td>amp</td>\n",
       "      <td>hot</td>\n",
       "      <td>sake</td>\n",
       "      <td>good</td>\n",
       "      <td>dropping</td>\n",
       "      <td>naps</td>\n",
       "      <td>today</td>\n",
       "      <td>now</td>\n",
       "      <td>awesome</td>\n",
       "      <td>amp</td>\n",
       "      <td>us</td>\n",
       "      <td>place</td>\n",
       "      <td>lunch</td>\n",
       "    </tr>\n",
       "    <tr>\n",
       "      <th>20</th>\n",
       "      <td>cream</td>\n",
       "      <td>dinner</td>\n",
       "      <td>amp</td>\n",
       "      <td>need</td>\n",
       "      <td>cici's</td>\n",
       "      <td>blog</td>\n",
       "      <td>chips</td>\n",
       "      <td>today</td>\n",
       "      <td>good</td>\n",
       "      <td>pizza</td>\n",
       "      <td>recipe</td>\n",
       "      <td>youtube</td>\n",
       "      <td>sparingly</td>\n",
       "      <td>chicken</td>\n",
       "      <td>pizza</td>\n",
       "      <td>restaurant</td>\n",
       "      <td>leaf</td>\n",
       "      <td>house</td>\n",
       "      <td>bad</td>\n",
       "      <td>roll</td>\n",
       "    </tr>\n",
       "    <tr>\n",
       "      <th>21</th>\n",
       "      <td>sweet</td>\n",
       "      <td>back</td>\n",
       "      <td>cake</td>\n",
       "      <td>might</td>\n",
       "      <td>love</td>\n",
       "      <td>happy</td>\n",
       "      <td>soup</td>\n",
       "      <td>gettin</td>\n",
       "      <td>like</td>\n",
       "      <td>partiers</td>\n",
       "      <td>coconut</td>\n",
       "      <td>via</td>\n",
       "      <td>turbo</td>\n",
       "      <td>soup</td>\n",
       "      <td>vodka</td>\n",
       "      <td>chicken</td>\n",
       "      <td>peaches</td>\n",
       "      <td>west</td>\n",
       "      <td>water</td>\n",
       "      <td>taco</td>\n",
       "    </tr>\n",
       "    <tr>\n",
       "      <th>22</th>\n",
       "      <td>like</td>\n",
       "      <td>shrimp</td>\n",
       "      <td>time</td>\n",
       "      <td>cuz</td>\n",
       "      <td>pic</td>\n",
       "      <td>scratch</td>\n",
       "      <td>roll</td>\n",
       "      <td>appreciate</td>\n",
       "      <td>cake</td>\n",
       "      <td>wrestle</td>\n",
       "      <td>amp</td>\n",
       "      <td>dope</td>\n",
       "      <td>johnson</td>\n",
       "      <td>day</td>\n",
       "      <td>good</td>\n",
       "      <td>w</td>\n",
       "      <td>pizza</td>\n",
       "      <td>amp</td>\n",
       "      <td>bacon</td>\n",
       "      <td>ice</td>\n",
       "    </tr>\n",
       "    <tr>\n",
       "      <th>23</th>\n",
       "      <td>yes</td>\n",
       "      <td>pic</td>\n",
       "      <td>bacon</td>\n",
       "      <td>NUMBER:NUMBER</td>\n",
       "      <td>tacos</td>\n",
       "      <td>crisp</td>\n",
       "      <td>now</td>\n",
       "      <td>know</td>\n",
       "      <td>taco</td>\n",
       "      <td>fire</td>\n",
       "      <td>juice</td>\n",
       "      <td>spread</td>\n",
       "      <td>revealed</td>\n",
       "      <td>cream</td>\n",
       "      <td>need</td>\n",
       "      <td>shop</td>\n",
       "      <td>arena</td>\n",
       "      <td>nice</td>\n",
       "      <td>dish</td>\n",
       "      <td>san</td>\n",
       "    </tr>\n",
       "    <tr>\n",
       "      <th>24</th>\n",
       "      <td>rice</td>\n",
       "      <td>cool</td>\n",
       "      <td>good</td>\n",
       "      <td>NUMBER</td>\n",
       "      <td>seafood</td>\n",
       "      <td>pies</td>\n",
       "      <td>seafood</td>\n",
       "      <td>lunch</td>\n",
       "      <td>cheese</td>\n",
       "      <td>word</td>\n",
       "      <td>bread</td>\n",
       "      <td>make</td>\n",
       "      <td>fizzy</td>\n",
       "      <td>sweet</td>\n",
       "      <td>toast</td>\n",
       "      <td>beer</td>\n",
       "      <td>rose</td>\n",
       "      <td>green</td>\n",
       "      <td>now</td>\n",
       "      <td>dinner</td>\n",
       "    </tr>\n",
       "    <tr>\n",
       "      <th>25</th>\n",
       "      <td>🍕</td>\n",
       "      <td>just</td>\n",
       "      <td>game</td>\n",
       "      <td>blueberry</td>\n",
       "      <td>cherry</td>\n",
       "      <td>show</td>\n",
       "      <td>milk</td>\n",
       "      <td>apples</td>\n",
       "      <td>fresh</td>\n",
       "      <td>delicious</td>\n",
       "      <td>chocolate</td>\n",
       "      <td>best</td>\n",
       "      <td>fascinating</td>\n",
       "      <td>delicious</td>\n",
       "      <td>glass</td>\n",
       "      <td>water</td>\n",
       "      <td>way</td>\n",
       "      <td>cocktail</td>\n",
       "      <td>NUMBER</td>\n",
       "      <td>chicken</td>\n",
       "    </tr>\n",
       "    <tr>\n",
       "      <th>26</th>\n",
       "      <td>pizza</td>\n",
       "      <td>chocolate</td>\n",
       "      <td>turkey</td>\n",
       "      <td>gravy</td>\n",
       "      <td>buffet</td>\n",
       "      <td>spring</td>\n",
       "      <td>day</td>\n",
       "      <td>chocolate</td>\n",
       "      <td>sauce</td>\n",
       "      <td>punk</td>\n",
       "      <td>dairy</td>\n",
       "      <td>penne</td>\n",
       "      <td>rose</td>\n",
       "      <td>green</td>\n",
       "      <td>made</td>\n",
       "      <td>good</td>\n",
       "      <td>security</td>\n",
       "      <td>NUMBER</td>\n",
       "      <td>pork</td>\n",
       "      <td>check</td>\n",
       "    </tr>\n",
       "    <tr>\n",
       "      <th>27</th>\n",
       "      <td>peanut</td>\n",
       "      <td>great</td>\n",
       "      <td>others</td>\n",
       "      <td>ice</td>\n",
       "      <td>now</td>\n",
       "      <td>cream</td>\n",
       "      <td>cake</td>\n",
       "      <td>adds</td>\n",
       "      <td>beer</td>\n",
       "      <td>grade</td>\n",
       "      <td>drink</td>\n",
       "      <td>crown</td>\n",
       "      <td>highlights</td>\n",
       "      <td>like</td>\n",
       "      <td>yeah</td>\n",
       "      <td>cake</td>\n",
       "      <td>fish</td>\n",
       "      <td>pizza</td>\n",
       "      <td>still</td>\n",
       "      <td>–</td>\n",
       "    </tr>\n",
       "    <tr>\n",
       "      <th>28</th>\n",
       "      <td>orange</td>\n",
       "      <td>night</td>\n",
       "      <td>beef</td>\n",
       "      <td>gonna</td>\n",
       "      <td>lunch</td>\n",
       "      <td>baby</td>\n",
       "      <td>breakfast</td>\n",
       "      <td>cheese</td>\n",
       "      <td>make</td>\n",
       "      <td>sick</td>\n",
       "      <td>cream</td>\n",
       "      <td>tasty</td>\n",
       "      <td>rat</td>\n",
       "      <td>also</td>\n",
       "      <td>date</td>\n",
       "      <td>barrel</td>\n",
       "      <td>taco</td>\n",
       "      <td>tomorrow</td>\n",
       "      <td>back</td>\n",
       "      <td>peets</td>\n",
       "    </tr>\n",
       "    <tr>\n",
       "      <th>29</th>\n",
       "      <td>christmas</td>\n",
       "      <td>id</td>\n",
       "      <td>great</td>\n",
       "      <td>peanut</td>\n",
       "      <td>pretty</td>\n",
       "      <td>cruise</td>\n",
       "      <td>chicken</td>\n",
       "      <td>baked</td>\n",
       "      <td>bread</td>\n",
       "      <td>ah</td>\n",
       "      <td>blueberries</td>\n",
       "      <td>women</td>\n",
       "      <td>flowers</td>\n",
       "      <td>homemade</td>\n",
       "      <td>butter</td>\n",
       "      <td>friday</td>\n",
       "      <td>force</td>\n",
       "      <td>breakfast</td>\n",
       "      <td>go</td>\n",
       "      <td>chocolate</td>\n",
       "    </tr>\n",
       "  </tbody>\n",
       "</table>\n",
       "</div>"
      ],
      "text/plain": [
       "     cluster_1      cluster_2  cluster_3      cluster_4   cluster_5  \\\n",
       "0            😂         mellow     NUMBER      microwave       pizza   \n",
       "1            😷      freebirds       like        benefit         ice   \n",
       "2         want         family      sweet         melted     chicken   \n",
       "3         know       mushroom      cream         pepper      others   \n",
       "4        water       birthday       beer           food       cream   \n",
       "5          ate          lunch    chicken       bullshit      center   \n",
       "6       though         NUMBER     coffee           bell      NUMBER   \n",
       "7   strawberry            via      pizza          speak           w   \n",
       "8        white          sweet        ice           game       sweet   \n",
       "9          boy         waffle     cheese           legs        game   \n",
       "10        just        getting        day          right        good   \n",
       "11      coffee           like        new           like       water   \n",
       "12     amazing           date  chocolate            jam         amp   \n",
       "13         😍😍😍         others          w         listen        taco   \n",
       "14           😒            way      water          mixed        food   \n",
       "15         ice           fish      night          today     buffalo   \n",
       "16         now  NUMBER-NUMBER     dinner         butter       sushi   \n",
       "17           😍           kids      lunch          green        lamb   \n",
       "18     friends          honey       just          drink  restaurant   \n",
       "19        come         taking       date        toasted       today   \n",
       "20       cream         dinner        amp           need      cici's   \n",
       "21       sweet           back       cake          might        love   \n",
       "22        like         shrimp       time            cuz         pic   \n",
       "23         yes            pic      bacon  NUMBER:NUMBER       tacos   \n",
       "24        rice           cool       good         NUMBER     seafood   \n",
       "25           🍕           just       game      blueberry      cherry   \n",
       "26       pizza      chocolate     turkey          gravy      buffet   \n",
       "27      peanut          great     others            ice         now   \n",
       "28      orange          night       beef          gonna       lunch   \n",
       "29   christmas             id      great         peanut      pretty   \n",
       "\n",
       "     cluster_6  cluster_7      cluster_8  cluster_9  cluster_10   cluster_11  \\\n",
       "0       indoor     cheese          super  chocolate        help        water   \n",
       "1   preventing     butter          sweet        tea        katy      healthy   \n",
       "2     problems      pizza          juice       love  interested          try   \n",
       "3         mold  chocolate  EMOTICONSMILE        amp    probably       coffee   \n",
       "4          abc      cream           good     coffee         plz         milk   \n",
       "5   restaurant       like            tea      sweet       perry         make   \n",
       "6      seafood    buffalo              m      salad    insomnia        sugar   \n",
       "7       viking      sweet            pie      pizza      spread      veggies   \n",
       "8      regular       food            ice       just      batman         like   \n",
       "9      belmont     NUMBER           eggs     NUMBER        gets          new   \n",
       "10    vineyard        ice           side      cream        puts           go   \n",
       "11    unlocked     coffee           pork       food       games          fat   \n",
       "12   amendment       beer      breakfast      water     thought       fruits   \n",
       "13       flare       just         NUMBER     dinner     balance       almond   \n",
       "14       bacon       want         thanks    chicken      sunset        snack   \n",
       "15       birch     peanut           lime      lunch         die     smoothie   \n",
       "16         pre       date            key       time      butter       butter   \n",
       "17     pumpkin     dinner          bread        ice        live          egg   \n",
       "18       miami        eat         trying       best      though     shoulder   \n",
       "19     michael       meat            amp        hot        sake         good   \n",
       "20        blog      chips          today       good       pizza       recipe   \n",
       "21       happy       soup         gettin       like    partiers      coconut   \n",
       "22     scratch       roll     appreciate       cake     wrestle          amp   \n",
       "23       crisp        now           know       taco        fire        juice   \n",
       "24        pies    seafood          lunch     cheese        word        bread   \n",
       "25        show       milk         apples      fresh   delicious    chocolate   \n",
       "26      spring        day      chocolate      sauce        punk        dairy   \n",
       "27       cream       cake           adds       beer       grade        drink   \n",
       "28        baby  breakfast         cheese       make        sick        cream   \n",
       "29      cruise    chicken          baked      bread          ah  blueberries   \n",
       "\n",
       "   cluster_12   cluster_13 cluster_14 cluster_15  cluster_16 cluster_17  \\\n",
       "0    colorful        fears       made      drink         des       dust   \n",
       "1      gather            ♫       make     eating      moines    release   \n",
       "2    filipino        space       good       just       drink     sundae   \n",
       "3       adobo        remix     cheese     NUMBER       fried     NUMBER   \n",
       "4       video    alexander       just    chicken        java    another   \n",
       "5        stew    variation        now       beer          ia    snapper   \n",
       "6       sound         lamb     dinner      sweet        time      bites   \n",
       "7       alarm     NUMBER's      sauce       meat      thanks    beating   \n",
       "8     gourmet            ♥      salad       like       sweet       date   \n",
       "9       clock        tears        one      lunch          co       game   \n",
       "10        lol        haven      bread      beers      coffee     others   \n",
       "11   medicine          din     butter       milk       bacon       beer   \n",
       "12    grizzly   cigarettes       love      every         hot       deal   \n",
       "13     smooth      saffron       food     cookie      others   grabbing   \n",
       "14     recipe         cine     making     always         new          w   \n",
       "15   includes        stars  chocolate     peanut   america's      sweet   \n",
       "16    survive     bluebird        ice       taco        just       dang   \n",
       "17    popcorn        acids    cookies    alcohol        wine       dark   \n",
       "18   jalepeno          sux       milk     coffee       pizza     friday   \n",
       "19   dropping         naps      today        now     awesome        amp   \n",
       "20    youtube    sparingly    chicken      pizza  restaurant       leaf   \n",
       "21        via        turbo       soup      vodka     chicken    peaches   \n",
       "22       dope      johnson        day       good           w      pizza   \n",
       "23     spread     revealed      cream       need        shop      arena   \n",
       "24       make        fizzy      sweet      toast        beer       rose   \n",
       "25       best  fascinating  delicious      glass       water        way   \n",
       "26      penne         rose      green       made        good   security   \n",
       "27      crown   highlights       like       yeah        cake       fish   \n",
       "28      tasty          rat       also       date      barrel       taco   \n",
       "29      women      flowers   homemade     butter      friday      force   \n",
       "\n",
       "   cluster_18 cluster_19  cluster_20  \n",
       "0         jam     coffee        cafe  \n",
       "1        lake      drink         pic  \n",
       "2      denver       just          oh  \n",
       "3        beer    whiskey     seafood  \n",
       "4         ahh   sandwich           w  \n",
       "5      others      cream      others  \n",
       "6       sweet       iron      NUMBER  \n",
       "7      thanks       best       sweet  \n",
       "8        game        jam       house  \n",
       "9         bar      space  restaurant  \n",
       "10  afternoon      pizza        time  \n",
       "11       good       wine      burger  \n",
       "12      never       milk       pizza  \n",
       "13     coffee        hot       photo  \n",
       "14          w       want      cheese  \n",
       "15   colorado     apples         tea  \n",
       "16      sugar    regular         via  \n",
       "17       team    magical      coffee  \n",
       "18        mmm       good      center  \n",
       "19         us      place       lunch  \n",
       "20      house        bad        roll  \n",
       "21       west      water        taco  \n",
       "22        amp      bacon         ice  \n",
       "23       nice       dish         san  \n",
       "24      green        now      dinner  \n",
       "25   cocktail     NUMBER     chicken  \n",
       "26     NUMBER       pork       check  \n",
       "27      pizza      still           –  \n",
       "28   tomorrow       back       peets  \n",
       "29  breakfast         go   chocolate  "
      ]
     },
     "execution_count": 1055,
     "metadata": {},
     "output_type": "execute_result"
    }
   ],
   "source": [
    "kmeans_top_fts_a[:30]"
   ]
  },
  {
   "cell_type": "markdown",
   "metadata": {},
   "source": [
    "#### LDA topics "
   ]
  },
  {
   "cell_type": "code",
   "execution_count": 1056,
   "metadata": {
    "collapsed": false,
    "scrolled": false
   },
   "outputs": [
    {
     "data": {
      "text/html": [
       "<div>\n",
       "<table border=\"1\" class=\"dataframe\">\n",
       "  <thead>\n",
       "    <tr style=\"text-align: right;\">\n",
       "      <th></th>\n",
       "      <th>topic_0</th>\n",
       "      <th>topic_1</th>\n",
       "      <th>topic_2</th>\n",
       "      <th>topic_3</th>\n",
       "      <th>topic_4</th>\n",
       "      <th>topic_5</th>\n",
       "      <th>topic_6</th>\n",
       "      <th>topic_7</th>\n",
       "      <th>topic_8</th>\n",
       "      <th>topic_9</th>\n",
       "      <th>topic_10</th>\n",
       "      <th>topic_11</th>\n",
       "      <th>topic_12</th>\n",
       "      <th>topic_13</th>\n",
       "      <th>topic_14</th>\n",
       "      <th>topic_15</th>\n",
       "      <th>topic_16</th>\n",
       "      <th>topic_17</th>\n",
       "      <th>topic_18</th>\n",
       "      <th>topic_19</th>\n",
       "    </tr>\n",
       "  </thead>\n",
       "  <tbody>\n",
       "    <tr>\n",
       "      <th>0</th>\n",
       "      <td>magic</td>\n",
       "      <td>nice</td>\n",
       "      <td>louis</td>\n",
       "      <td>water</td>\n",
       "      <td>beer</td>\n",
       "      <td>wawa</td>\n",
       "      <td>buffalo</td>\n",
       "      <td>said</td>\n",
       "      <td>cake</td>\n",
       "      <td>upstairs</td>\n",
       "      <td>buy</td>\n",
       "      <td>butter</td>\n",
       "      <td>benefits</td>\n",
       "      <td>tears</td>\n",
       "      <td>totally</td>\n",
       "      <td>preventing</td>\n",
       "      <td>awww</td>\n",
       "      <td>sweet</td>\n",
       "      <td>fries</td>\n",
       "      <td>carving</td>\n",
       "    </tr>\n",
       "    <tr>\n",
       "      <th>1</th>\n",
       "      <td>hero</td>\n",
       "      <td>drink</td>\n",
       "      <td>came</td>\n",
       "      <td>missed</td>\n",
       "      <td>see</td>\n",
       "      <td>twice</td>\n",
       "      <td>responds</td>\n",
       "      <td>cine</td>\n",
       "      <td>w</td>\n",
       "      <td>tomorrow</td>\n",
       "      <td>care</td>\n",
       "      <td>sweet</td>\n",
       "      <td>etc</td>\n",
       "      <td>pumpkin</td>\n",
       "      <td>boxed</td>\n",
       "      <td>problems</td>\n",
       "      <td>creams</td>\n",
       "      <td>NUMBER</td>\n",
       "      <td>rock</td>\n",
       "      <td>place</td>\n",
       "    </tr>\n",
       "    <tr>\n",
       "      <th>2</th>\n",
       "      <td>every</td>\n",
       "      <td>coffee</td>\n",
       "      <td>generic</td>\n",
       "      <td>build</td>\n",
       "      <td>sweet</td>\n",
       "      <td>dirty</td>\n",
       "      <td>right</td>\n",
       "      <td>dad</td>\n",
       "      <td>date</td>\n",
       "      <td>beer</td>\n",
       "      <td>vacation</td>\n",
       "      <td>always</td>\n",
       "      <td>rehab</td>\n",
       "      <td>law</td>\n",
       "      <td>krispies</td>\n",
       "      <td>indoor</td>\n",
       "      <td>charm</td>\n",
       "      <td>just</td>\n",
       "      <td>soda</td>\n",
       "      <td>phoenix</td>\n",
       "    </tr>\n",
       "    <tr>\n",
       "      <th>3</th>\n",
       "      <td>weekends</td>\n",
       "      <td>eggs</td>\n",
       "      <td>ima</td>\n",
       "      <td>love</td>\n",
       "      <td>water</td>\n",
       "      <td>disc</td>\n",
       "      <td>fish</td>\n",
       "      <td>bluebird</td>\n",
       "      <td>new</td>\n",
       "      <td>good</td>\n",
       "      <td>maybe</td>\n",
       "      <td>ice</td>\n",
       "      <td>therapy</td>\n",
       "      <td>company</td>\n",
       "      <td>runner</td>\n",
       "      <td>mold</td>\n",
       "      <td>european</td>\n",
       "      <td>chicken</td>\n",
       "      <td>brownie</td>\n",
       "      <td>sleep</td>\n",
       "    </tr>\n",
       "    <tr>\n",
       "      <th>4</th>\n",
       "      <td>salad</td>\n",
       "      <td>bratwurst</td>\n",
       "      <td>powerful</td>\n",
       "      <td>today</td>\n",
       "      <td>just</td>\n",
       "      <td>NUMBERth</td>\n",
       "      <td>rose</td>\n",
       "      <td>fizzy</td>\n",
       "      <td>salt</td>\n",
       "      <td>corn</td>\n",
       "      <td>boy</td>\n",
       "      <td>NUMBER</td>\n",
       "      <td>earth</td>\n",
       "      <td>cops</td>\n",
       "      <td>book</td>\n",
       "      <td>tons</td>\n",
       "      <td>hush</td>\n",
       "      <td>coffee</td>\n",
       "      <td>chip</td>\n",
       "      <td>pickle</td>\n",
       "    </tr>\n",
       "    <tr>\n",
       "      <th>5</th>\n",
       "      <td>liver</td>\n",
       "      <td>chicken</td>\n",
       "      <td>hawk</td>\n",
       "      <td>time</td>\n",
       "      <td>chicken</td>\n",
       "      <td>wedding</td>\n",
       "      <td>home</td>\n",
       "      <td>stick</td>\n",
       "      <td>best</td>\n",
       "      <td>games</td>\n",
       "      <td>particularly</td>\n",
       "      <td>cream</td>\n",
       "      <td>drinker</td>\n",
       "      <td>moon</td>\n",
       "      <td>affect</td>\n",
       "      <td>hot</td>\n",
       "      <td>jeni's</td>\n",
       "      <td>ice</td>\n",
       "      <td>husky</td>\n",
       "      <td>kitchn</td>\n",
       "    </tr>\n",
       "    <tr>\n",
       "      <th>6</th>\n",
       "      <td>bullet</td>\n",
       "      <td>beer</td>\n",
       "      <td>gooey</td>\n",
       "      <td>cheese</td>\n",
       "      <td>cream</td>\n",
       "      <td>stuffing</td>\n",
       "      <td>lie</td>\n",
       "      <td>eggs</td>\n",
       "      <td>NUMBER</td>\n",
       "      <td>come</td>\n",
       "      <td>wise</td>\n",
       "      <td>turkey</td>\n",
       "      <td>hidden</td>\n",
       "      <td>fears</td>\n",
       "      <td>days</td>\n",
       "      <td>milk</td>\n",
       "      <td>launch</td>\n",
       "      <td>cream</td>\n",
       "      <td>potatoe</td>\n",
       "      <td>btw</td>\n",
       "    </tr>\n",
       "    <tr>\n",
       "      <th>7</th>\n",
       "      <td>go</td>\n",
       "      <td>putting</td>\n",
       "      <td>st</td>\n",
       "      <td>chicken</td>\n",
       "      <td>wings</td>\n",
       "      <td>raining</td>\n",
       "      <td>says</td>\n",
       "      <td>lives</td>\n",
       "      <td>sweet</td>\n",
       "      <td>w</td>\n",
       "      <td>muffins</td>\n",
       "      <td>last</td>\n",
       "      <td>shows</td>\n",
       "      <td>works</td>\n",
       "      <td>cray</td>\n",
       "      <td>eat</td>\n",
       "      <td>ones</td>\n",
       "      <td>pizza</td>\n",
       "      <td>screw</td>\n",
       "      <td>live</td>\n",
       "    </tr>\n",
       "    <tr>\n",
       "      <th>8</th>\n",
       "      <td>now</td>\n",
       "      <td>fish</td>\n",
       "      <td>opening</td>\n",
       "      <td>just</td>\n",
       "      <td>big</td>\n",
       "      <td>sugars</td>\n",
       "      <td>corn</td>\n",
       "      <td>johnson</td>\n",
       "      <td>two</td>\n",
       "      <td>side</td>\n",
       "      <td>cheese</td>\n",
       "      <td>peanut</td>\n",
       "      <td>seeds</td>\n",
       "      <td>duck</td>\n",
       "      <td>yolk</td>\n",
       "      <td>smoking</td>\n",
       "      <td>peel</td>\n",
       "      <td>water</td>\n",
       "      <td>private</td>\n",
       "      <td>many</td>\n",
       "    </tr>\n",
       "    <tr>\n",
       "      <th>9</th>\n",
       "      <td>blueberries</td>\n",
       "      <td>diet</td>\n",
       "      <td>moment</td>\n",
       "      <td>good</td>\n",
       "      <td>buffalo</td>\n",
       "      <td>re</td>\n",
       "      <td>smart</td>\n",
       "      <td>eating</td>\n",
       "      <td>beer</td>\n",
       "      <td>mess</td>\n",
       "      <td>easy</td>\n",
       "      <td>good</td>\n",
       "      <td>moderation</td>\n",
       "      <td>lost</td>\n",
       "      <td>definitely</td>\n",
       "      <td>cream</td>\n",
       "      <td>threw</td>\n",
       "      <td>dinner</td>\n",
       "      <td>banquet</td>\n",
       "      <td>scallop</td>\n",
       "    </tr>\n",
       "    <tr>\n",
       "      <th>10</th>\n",
       "      <td>whipped</td>\n",
       "      <td>come</td>\n",
       "      <td>saddle</td>\n",
       "      <td>friday</td>\n",
       "      <td>game</td>\n",
       "      <td>plum</td>\n",
       "      <td>bigger</td>\n",
       "      <td>dj</td>\n",
       "      <td>bacon</td>\n",
       "      <td>national</td>\n",
       "      <td>christmas</td>\n",
       "      <td>like</td>\n",
       "      <td>alternative</td>\n",
       "      <td>biscuit</td>\n",
       "      <td>learned</td>\n",
       "      <td>egg</td>\n",
       "      <td>splendid</td>\n",
       "      <td>like</td>\n",
       "      <td>scream</td>\n",
       "      <td>lemon</td>\n",
       "    </tr>\n",
       "    <tr>\n",
       "      <th>11</th>\n",
       "      <td>dinner</td>\n",
       "      <td>sweet</td>\n",
       "      <td>vin</td>\n",
       "      <td>christmas</td>\n",
       "      <td>house</td>\n",
       "      <td>fashion</td>\n",
       "      <td>see</td>\n",
       "      <td>house</td>\n",
       "      <td>go</td>\n",
       "      <td>bacon</td>\n",
       "      <td>margherita</td>\n",
       "      <td>awesome</td>\n",
       "      <td>war</td>\n",
       "      <td>tuck</td>\n",
       "      <td>date</td>\n",
       "      <td>need</td>\n",
       "      <td>tomorrow</td>\n",
       "      <td>beer</td>\n",
       "      <td>microsoft</td>\n",
       "      <td>birds</td>\n",
       "    </tr>\n",
       "    <tr>\n",
       "      <th>12</th>\n",
       "      <td>know</td>\n",
       "      <td>bacon</td>\n",
       "      <td>candy</td>\n",
       "      <td>work</td>\n",
       "      <td>marriage</td>\n",
       "      <td>around</td>\n",
       "      <td>saw</td>\n",
       "      <td>netflix</td>\n",
       "      <td>awesome</td>\n",
       "      <td>like</td>\n",
       "      <td>less</td>\n",
       "      <td>thanks</td>\n",
       "      <td>food's</td>\n",
       "      <td>rockefeller</td>\n",
       "      <td>cake</td>\n",
       "      <td>tea</td>\n",
       "      <td>selfie</td>\n",
       "      <td>chocolate</td>\n",
       "      <td>bell</td>\n",
       "      <td>cops</td>\n",
       "    </tr>\n",
       "    <tr>\n",
       "      <th>13</th>\n",
       "      <td>urban</td>\n",
       "      <td>just</td>\n",
       "      <td>reveals</td>\n",
       "      <td>coffee</td>\n",
       "      <td>pizza</td>\n",
       "      <td>trial</td>\n",
       "      <td>just</td>\n",
       "      <td>basketball</td>\n",
       "      <td>coffee</td>\n",
       "      <td>wrong</td>\n",
       "      <td>luck</td>\n",
       "      <td>go</td>\n",
       "      <td>spoon</td>\n",
       "      <td>ocean</td>\n",
       "      <td>butternut</td>\n",
       "      <td>drink</td>\n",
       "      <td>jerky</td>\n",
       "      <td>cheese</td>\n",
       "      <td>bowling</td>\n",
       "      <td>searching</td>\n",
       "    </tr>\n",
       "    <tr>\n",
       "      <th>14</th>\n",
       "      <td>commercial</td>\n",
       "      <td>chili</td>\n",
       "      <td>spicy</td>\n",
       "      <td>cookies</td>\n",
       "      <td>chocolate</td>\n",
       "      <td>diet</td>\n",
       "      <td>peas</td>\n",
       "      <td>fun</td>\n",
       "      <td>others</td>\n",
       "      <td>NUMBER</td>\n",
       "      <td>shopping</td>\n",
       "      <td>enjoy</td>\n",
       "      <td>thermometer</td>\n",
       "      <td>fever</td>\n",
       "      <td>cocoa</td>\n",
       "      <td>salad</td>\n",
       "      <td>policy</td>\n",
       "      <td>food</td>\n",
       "      <td>steakburgers</td>\n",
       "      <td>doughnuts</td>\n",
       "    </tr>\n",
       "    <tr>\n",
       "      <th>15</th>\n",
       "      <td>chocolate</td>\n",
       "      <td>breakfast</td>\n",
       "      <td>saying</td>\n",
       "      <td>eggs</td>\n",
       "      <td>ice</td>\n",
       "      <td>shore</td>\n",
       "      <td>chocolate</td>\n",
       "      <td>turtle</td>\n",
       "      <td>game</td>\n",
       "      <td>go</td>\n",
       "      <td>buttons</td>\n",
       "      <td>love</td>\n",
       "      <td>incredible</td>\n",
       "      <td>cont</td>\n",
       "      <td>cookie</td>\n",
       "      <td>world</td>\n",
       "      <td>cost</td>\n",
       "      <td>good</td>\n",
       "      <td>say</td>\n",
       "      <td>fry's</td>\n",
       "    </tr>\n",
       "    <tr>\n",
       "      <th>16</th>\n",
       "      <td>turned</td>\n",
       "      <td>egg</td>\n",
       "      <td>num</td>\n",
       "      <td>milk</td>\n",
       "      <td>loves</td>\n",
       "      <td>scotch</td>\n",
       "      <td>tea</td>\n",
       "      <td>das</td>\n",
       "      <td>center</td>\n",
       "      <td>fish</td>\n",
       "      <td>spilled</td>\n",
       "      <td>popcorn</td>\n",
       "      <td>de</td>\n",
       "      <td>clare</td>\n",
       "      <td>version</td>\n",
       "      <td>ugh</td>\n",
       "      <td>calcium</td>\n",
       "      <td>day</td>\n",
       "      <td>qt</td>\n",
       "      <td>pre-game</td>\n",
       "    </tr>\n",
       "    <tr>\n",
       "      <th>17</th>\n",
       "      <td>bottle</td>\n",
       "      <td>thanks</td>\n",
       "      <td>fuck</td>\n",
       "      <td>salad</td>\n",
       "      <td>leaf</td>\n",
       "      <td>ridiculously</td>\n",
       "      <td>like</td>\n",
       "      <td>liz</td>\n",
       "      <td>goose</td>\n",
       "      <td>big</td>\n",
       "      <td>duty</td>\n",
       "      <td>day</td>\n",
       "      <td>twist</td>\n",
       "      <td>coworker</td>\n",
       "      <td>thin</td>\n",
       "      <td>harry</td>\n",
       "      <td>recovery</td>\n",
       "      <td>love</td>\n",
       "      <td>giordano's</td>\n",
       "      <td>waking</td>\n",
       "    </tr>\n",
       "    <tr>\n",
       "      <th>18</th>\n",
       "      <td>become</td>\n",
       "      <td>w</td>\n",
       "      <td>respect</td>\n",
       "      <td>day</td>\n",
       "      <td>night</td>\n",
       "      <td>someone</td>\n",
       "      <td>kill</td>\n",
       "      <td>revealed</td>\n",
       "      <td>cheese</td>\n",
       "      <td>look</td>\n",
       "      <td>funny</td>\n",
       "      <td>chicken</td>\n",
       "      <td>protect</td>\n",
       "      <td>tea</td>\n",
       "      <td>question</td>\n",
       "      <td>dude</td>\n",
       "      <td>equipment</td>\n",
       "      <td>amp</td>\n",
       "      <td>ingredient</td>\n",
       "      <td>necessarily</td>\n",
       "    </tr>\n",
       "    <tr>\n",
       "      <th>19</th>\n",
       "      <td>NUMBER</td>\n",
       "      <td>sure</td>\n",
       "      <td>jim</td>\n",
       "      <td>pizza</td>\n",
       "      <td>take</td>\n",
       "      <td>clementine</td>\n",
       "      <td>NUMBER</td>\n",
       "      <td>drinking</td>\n",
       "      <td>eats</td>\n",
       "      <td>bar</td>\n",
       "      <td>though</td>\n",
       "      <td>recipe</td>\n",
       "      <td>note</td>\n",
       "      <td>host</td>\n",
       "      <td>taste</td>\n",
       "      <td>lol</td>\n",
       "      <td>causing</td>\n",
       "      <td>lunch</td>\n",
       "      <td>interview</td>\n",
       "      <td>stewed</td>\n",
       "    </tr>\n",
       "    <tr>\n",
       "      <th>20</th>\n",
       "      <td>try</td>\n",
       "      <td>jam</td>\n",
       "      <td>stupid</td>\n",
       "      <td>sweet</td>\n",
       "      <td>NUMBER</td>\n",
       "      <td>landshark</td>\n",
       "      <td>thursday</td>\n",
       "      <td>mine</td>\n",
       "      <td>better</td>\n",
       "      <td>make</td>\n",
       "      <td>satisfied</td>\n",
       "      <td>bread</td>\n",
       "      <td>eggs</td>\n",
       "      <td>remix</td>\n",
       "      <td>yep</td>\n",
       "      <td>peanut</td>\n",
       "      <td>nail</td>\n",
       "      <td>wine</td>\n",
       "      <td>david</td>\n",
       "      <td>via</td>\n",
       "    </tr>\n",
       "    <tr>\n",
       "      <th>21</th>\n",
       "      <td>bbq</td>\n",
       "      <td>soda</td>\n",
       "      <td>cuz</td>\n",
       "      <td>EMOTICONSMILE</td>\n",
       "      <td>love</td>\n",
       "      <td>sheetz</td>\n",
       "      <td>jam</td>\n",
       "      <td>green</td>\n",
       "      <td>drink</td>\n",
       "      <td>center</td>\n",
       "      <td>bunnies</td>\n",
       "      <td>make</td>\n",
       "      <td>slip</td>\n",
       "      <td>haven</td>\n",
       "      <td>mixed</td>\n",
       "      <td>truth</td>\n",
       "      <td>times</td>\n",
       "      <td>drink</td>\n",
       "      <td>carl's</td>\n",
       "      <td>anyone</td>\n",
       "    </tr>\n",
       "    <tr>\n",
       "      <th>22</th>\n",
       "      <td>best</td>\n",
       "      <td>amp</td>\n",
       "      <td>coma</td>\n",
       "      <td>dinner</td>\n",
       "      <td>now</td>\n",
       "      <td>bethlehem</td>\n",
       "      <td>coffee</td>\n",
       "      <td>release</td>\n",
       "      <td>cream</td>\n",
       "      <td>course</td>\n",
       "      <td>roll</td>\n",
       "      <td>made</td>\n",
       "      <td>stop</td>\n",
       "      <td>social</td>\n",
       "      <td>scout</td>\n",
       "      <td>green</td>\n",
       "      <td>took</td>\n",
       "      <td>time</td>\n",
       "      <td>spider</td>\n",
       "      <td>cocaine</td>\n",
       "    </tr>\n",
       "    <tr>\n",
       "      <th>23</th>\n",
       "      <td>acquire</td>\n",
       "      <td>turkey</td>\n",
       "      <td>steam</td>\n",
       "      <td>new</td>\n",
       "      <td>like</td>\n",
       "      <td>table</td>\n",
       "      <td>sweet</td>\n",
       "      <td>action</td>\n",
       "      <td>table</td>\n",
       "      <td>night</td>\n",
       "      <td>😍😍😍</td>\n",
       "      <td>chocolate</td>\n",
       "      <td>food</td>\n",
       "      <td>listening</td>\n",
       "      <td>boiled</td>\n",
       "      <td>banana</td>\n",
       "      <td>onions</td>\n",
       "      <td>butter</td>\n",
       "      <td>ice</td>\n",
       "      <td>alleged</td>\n",
       "    </tr>\n",
       "    <tr>\n",
       "      <th>24</th>\n",
       "      <td>drank</td>\n",
       "      <td>sandwich</td>\n",
       "      <td>tortilla</td>\n",
       "      <td>egg</td>\n",
       "      <td>sauce</td>\n",
       "      <td>judging</td>\n",
       "      <td>date</td>\n",
       "      <td>fixings</td>\n",
       "      <td>jam</td>\n",
       "      <td>day</td>\n",
       "      <td>snow</td>\n",
       "      <td>hot</td>\n",
       "      <td>health</td>\n",
       "      <td>many</td>\n",
       "      <td>carrots</td>\n",
       "      <td>good</td>\n",
       "      <td>bay</td>\n",
       "      <td>now</td>\n",
       "      <td>woodchuck</td>\n",
       "      <td>red</td>\n",
       "    </tr>\n",
       "  </tbody>\n",
       "</table>\n",
       "</div>"
      ],
      "text/plain": [
       "        topic_0    topic_1   topic_2        topic_3    topic_4       topic_5  \\\n",
       "0         magic       nice     louis          water       beer          wawa   \n",
       "1          hero      drink      came         missed        see         twice   \n",
       "2         every     coffee   generic          build      sweet         dirty   \n",
       "3      weekends       eggs       ima           love      water          disc   \n",
       "4         salad  bratwurst  powerful          today       just      NUMBERth   \n",
       "5         liver    chicken      hawk           time    chicken       wedding   \n",
       "6        bullet       beer     gooey         cheese      cream      stuffing   \n",
       "7            go    putting        st        chicken      wings       raining   \n",
       "8           now       fish   opening           just        big        sugars   \n",
       "9   blueberries       diet    moment           good    buffalo            re   \n",
       "10      whipped       come    saddle         friday       game          plum   \n",
       "11       dinner      sweet       vin      christmas      house       fashion   \n",
       "12         know      bacon     candy           work   marriage        around   \n",
       "13        urban       just   reveals         coffee      pizza         trial   \n",
       "14   commercial      chili     spicy        cookies  chocolate          diet   \n",
       "15    chocolate  breakfast    saying           eggs        ice         shore   \n",
       "16       turned        egg       num           milk      loves        scotch   \n",
       "17       bottle     thanks      fuck          salad       leaf  ridiculously   \n",
       "18       become          w   respect            day      night       someone   \n",
       "19       NUMBER       sure       jim          pizza       take    clementine   \n",
       "20          try        jam    stupid          sweet     NUMBER     landshark   \n",
       "21          bbq       soda       cuz  EMOTICONSMILE       love        sheetz   \n",
       "22         best        amp      coma         dinner        now     bethlehem   \n",
       "23      acquire     turkey     steam            new       like         table   \n",
       "24        drank   sandwich  tortilla            egg      sauce       judging   \n",
       "\n",
       "      topic_6     topic_7  topic_8   topic_9      topic_10   topic_11  \\\n",
       "0     buffalo        said     cake  upstairs           buy     butter   \n",
       "1    responds        cine        w  tomorrow          care      sweet   \n",
       "2       right         dad     date      beer      vacation     always   \n",
       "3        fish    bluebird      new      good         maybe        ice   \n",
       "4        rose       fizzy     salt      corn           boy     NUMBER   \n",
       "5        home       stick     best     games  particularly      cream   \n",
       "6         lie        eggs   NUMBER      come          wise     turkey   \n",
       "7        says       lives    sweet         w       muffins       last   \n",
       "8        corn     johnson      two      side        cheese     peanut   \n",
       "9       smart      eating     beer      mess          easy       good   \n",
       "10     bigger          dj    bacon  national     christmas       like   \n",
       "11        see       house       go     bacon    margherita    awesome   \n",
       "12        saw     netflix  awesome      like          less     thanks   \n",
       "13       just  basketball   coffee     wrong          luck         go   \n",
       "14       peas         fun   others    NUMBER      shopping      enjoy   \n",
       "15  chocolate      turtle     game        go       buttons       love   \n",
       "16        tea         das   center      fish       spilled    popcorn   \n",
       "17       like         liz    goose       big          duty        day   \n",
       "18       kill    revealed   cheese      look         funny    chicken   \n",
       "19     NUMBER    drinking     eats       bar        though     recipe   \n",
       "20   thursday        mine   better      make     satisfied      bread   \n",
       "21        jam       green    drink    center       bunnies       make   \n",
       "22     coffee     release    cream    course          roll       made   \n",
       "23      sweet      action    table     night           😍😍😍  chocolate   \n",
       "24       date     fixings      jam       day          snow        hot   \n",
       "\n",
       "       topic_12     topic_13    topic_14    topic_15   topic_16   topic_17  \\\n",
       "0      benefits        tears     totally  preventing       awww      sweet   \n",
       "1           etc      pumpkin       boxed    problems     creams     NUMBER   \n",
       "2         rehab          law    krispies      indoor      charm       just   \n",
       "3       therapy      company      runner        mold   european    chicken   \n",
       "4         earth         cops        book        tons       hush     coffee   \n",
       "5       drinker         moon      affect         hot     jeni's        ice   \n",
       "6        hidden        fears        days        milk     launch      cream   \n",
       "7         shows        works        cray         eat       ones      pizza   \n",
       "8         seeds         duck        yolk     smoking       peel      water   \n",
       "9    moderation         lost  definitely       cream      threw     dinner   \n",
       "10  alternative      biscuit     learned         egg   splendid       like   \n",
       "11          war         tuck        date        need   tomorrow       beer   \n",
       "12       food's  rockefeller        cake         tea     selfie  chocolate   \n",
       "13        spoon        ocean   butternut       drink      jerky     cheese   \n",
       "14  thermometer        fever       cocoa       salad     policy       food   \n",
       "15   incredible         cont      cookie       world       cost       good   \n",
       "16           de        clare     version         ugh    calcium        day   \n",
       "17        twist     coworker        thin       harry   recovery       love   \n",
       "18      protect          tea    question        dude  equipment        amp   \n",
       "19         note         host       taste         lol    causing      lunch   \n",
       "20         eggs        remix         yep      peanut       nail       wine   \n",
       "21         slip        haven       mixed       truth      times      drink   \n",
       "22         stop       social       scout       green       took       time   \n",
       "23         food    listening      boiled      banana     onions     butter   \n",
       "24       health         many     carrots        good        bay        now   \n",
       "\n",
       "        topic_18     topic_19  \n",
       "0          fries      carving  \n",
       "1           rock        place  \n",
       "2           soda      phoenix  \n",
       "3        brownie        sleep  \n",
       "4           chip       pickle  \n",
       "5          husky       kitchn  \n",
       "6        potatoe          btw  \n",
       "7          screw         live  \n",
       "8        private         many  \n",
       "9        banquet      scallop  \n",
       "10        scream        lemon  \n",
       "11     microsoft        birds  \n",
       "12          bell         cops  \n",
       "13       bowling    searching  \n",
       "14  steakburgers    doughnuts  \n",
       "15           say        fry's  \n",
       "16            qt     pre-game  \n",
       "17    giordano's       waking  \n",
       "18    ingredient  necessarily  \n",
       "19     interview       stewed  \n",
       "20         david          via  \n",
       "21        carl's       anyone  \n",
       "22        spider      cocaine  \n",
       "23           ice      alleged  \n",
       "24     woodchuck          red  "
      ]
     },
     "execution_count": 1056,
     "metadata": {},
     "output_type": "execute_result"
    }
   ],
   "source": [
    "from sklearn.decomposition import LatentDirichletAllocation\n",
    "\n",
    "def print_top_words(model, feature_names, n_top_words):\n",
    "    df = pd.DataFrame()\n",
    "    for topic_idx, topic in enumerate(model.components_):\n",
    "        df['topic_%d' % topic_idx] = feature_names[topic.argsort()[::-1]][:n_top_words]\n",
    "    return df\n",
    "\n",
    "lda = LatentDirichletAllocation(n_topics=20, max_iter=30,\n",
    "                            learning_method='online', \n",
    "                            learning_offset=3.,\n",
    "                            random_state=0)\n",
    "lda.fit(X_a)\n",
    "print_top_words(lda, features_a, 25)"
   ]
  },
  {
   "cell_type": "markdown",
   "metadata": {},
   "source": [
    "## Find most discriminative features"
   ]
  },
  {
   "cell_type": "code",
   "execution_count": 1057,
   "metadata": {
    "collapsed": false
   },
   "outputs": [],
   "source": [
    "from sklearn.preprocessing import LabelEncoder"
   ]
  },
  {
   "cell_type": "code",
   "execution_count": 1058,
   "metadata": {
    "collapsed": false
   },
   "outputs": [],
   "source": [
    "# vectorized tweets\n",
    "X_a\n",
    "# create label\n",
    "users_per_group = len(n_wn_ratio_tweets)\n",
    "y_a = np.zeros((2*users_per_group))\n",
    "y_a[users_per_group:] = 1\n",
    "\n",
    "# debug classes\n",
    "g = n_users.gender[keep_idx].as_matrix()\n",
    "g = np.hstack([g,g])"
   ]
  },
  {
   "cell_type": "code",
   "execution_count": 1059,
   "metadata": {
    "collapsed": false
   },
   "outputs": [],
   "source": [
    "X_af, y_af = X_a[g == 'f'], y_a[g == 'f']\n",
    "X_am, y_am = X_a[g == 'm'], y_a[g == 'm']"
   ]
  },
  {
   "cell_type": "markdown",
   "metadata": {},
   "source": [
    "### Chi2"
   ]
  },
  {
   "cell_type": "code",
   "execution_count": 1060,
   "metadata": {
    "collapsed": true
   },
   "outputs": [],
   "source": [
    "def most_discrim_chi2(X,y,features,n):\n",
    "    x2, pval = chi2(X, y)\n",
    "    sorted_idx = x2.argsort()\n",
    "    sorted_idx = sorted_idx[:(x2 >= 0).sum()]\n",
    "    sorted_idx = [i for i in sorted_idx if x2[i] != np.nan]\n",
    "    print(len(sorted_idx))\n",
    "    keep = sorted_idx[::-1][:n]\n",
    "    top_fts = features[keep]\n",
    "    top_coef = x2[keep]\n",
    "    df = pd.DataFrame()\n",
    "    df['feature_name'] = top_fts\n",
    "    df['chi2'] = top_coef\n",
    "    return df"
   ]
  },
  {
   "cell_type": "code",
   "execution_count": 1061,
   "metadata": {
    "collapsed": false,
    "scrolled": true
   },
   "outputs": [
    {
     "name": "stdout",
     "output_type": "stream",
     "text": [
      "8507\n"
     ]
    },
    {
     "data": {
      "text/html": [
       "<div>\n",
       "<table border=\"1\" class=\"dataframe\">\n",
       "  <thead>\n",
       "    <tr style=\"text-align: right;\">\n",
       "      <th></th>\n",
       "      <th>feature_name</th>\n",
       "      <th>chi2</th>\n",
       "    </tr>\n",
       "  </thead>\n",
       "  <tbody>\n",
       "    <tr>\n",
       "      <th>0</th>\n",
       "      <td>il</td>\n",
       "      <td>1.553027</td>\n",
       "    </tr>\n",
       "    <tr>\n",
       "      <th>1</th>\n",
       "      <td>golf</td>\n",
       "      <td>0.980810</td>\n",
       "    </tr>\n",
       "    <tr>\n",
       "      <th>2</th>\n",
       "      <td>NUMBERk</td>\n",
       "      <td>0.977871</td>\n",
       "    </tr>\n",
       "    <tr>\n",
       "      <th>3</th>\n",
       "      <td>amber</td>\n",
       "      <td>0.967919</td>\n",
       "    </tr>\n",
       "    <tr>\n",
       "      <th>4</th>\n",
       "      <td>rogue</td>\n",
       "      <td>0.953875</td>\n",
       "    </tr>\n",
       "    <tr>\n",
       "      <th>5</th>\n",
       "      <td>michigan</td>\n",
       "      <td>0.939917</td>\n",
       "    </tr>\n",
       "    <tr>\n",
       "      <th>6</th>\n",
       "      <td>wow</td>\n",
       "      <td>0.888956</td>\n",
       "    </tr>\n",
       "    <tr>\n",
       "      <th>7</th>\n",
       "      <td>gifts</td>\n",
       "      <td>0.854903</td>\n",
       "    </tr>\n",
       "    <tr>\n",
       "      <th>8</th>\n",
       "      <td>pub</td>\n",
       "      <td>0.832695</td>\n",
       "    </tr>\n",
       "    <tr>\n",
       "      <th>9</th>\n",
       "      <td>fan</td>\n",
       "      <td>0.818847</td>\n",
       "    </tr>\n",
       "    <tr>\n",
       "      <th>10</th>\n",
       "      <td>jerry's</td>\n",
       "      <td>0.808613</td>\n",
       "    </tr>\n",
       "    <tr>\n",
       "      <th>11</th>\n",
       "      <td>insanely</td>\n",
       "      <td>0.790964</td>\n",
       "    </tr>\n",
       "    <tr>\n",
       "      <th>12</th>\n",
       "      <td>candies</td>\n",
       "      <td>0.786446</td>\n",
       "    </tr>\n",
       "    <tr>\n",
       "      <th>13</th>\n",
       "      <td>changed</td>\n",
       "      <td>0.760910</td>\n",
       "    </tr>\n",
       "    <tr>\n",
       "      <th>14</th>\n",
       "      <td>samuel</td>\n",
       "      <td>0.756214</td>\n",
       "    </tr>\n",
       "    <tr>\n",
       "      <th>15</th>\n",
       "      <td>trash</td>\n",
       "      <td>0.743668</td>\n",
       "    </tr>\n",
       "    <tr>\n",
       "      <th>16</th>\n",
       "      <td>play</td>\n",
       "      <td>0.736696</td>\n",
       "    </tr>\n",
       "    <tr>\n",
       "      <th>17</th>\n",
       "      <td>equipment</td>\n",
       "      <td>0.731674</td>\n",
       "    </tr>\n",
       "    <tr>\n",
       "      <th>18</th>\n",
       "      <td>graduation</td>\n",
       "      <td>0.731201</td>\n",
       "    </tr>\n",
       "    <tr>\n",
       "      <th>19</th>\n",
       "      <td>poop</td>\n",
       "      <td>0.721151</td>\n",
       "    </tr>\n",
       "    <tr>\n",
       "      <th>20</th>\n",
       "      <td>aid</td>\n",
       "      <td>0.720811</td>\n",
       "    </tr>\n",
       "    <tr>\n",
       "      <th>21</th>\n",
       "      <td>judging</td>\n",
       "      <td>0.714353</td>\n",
       "    </tr>\n",
       "    <tr>\n",
       "      <th>22</th>\n",
       "      <td>names</td>\n",
       "      <td>0.707594</td>\n",
       "    </tr>\n",
       "    <tr>\n",
       "      <th>23</th>\n",
       "      <td>mi</td>\n",
       "      <td>0.707136</td>\n",
       "    </tr>\n",
       "    <tr>\n",
       "      <th>24</th>\n",
       "      <td>indulge</td>\n",
       "      <td>0.705883</td>\n",
       "    </tr>\n",
       "    <tr>\n",
       "      <th>25</th>\n",
       "      <td>shooting</td>\n",
       "      <td>0.704005</td>\n",
       "    </tr>\n",
       "    <tr>\n",
       "      <th>26</th>\n",
       "      <td>amen</td>\n",
       "      <td>0.698916</td>\n",
       "    </tr>\n",
       "    <tr>\n",
       "      <th>27</th>\n",
       "      <td>becomes</td>\n",
       "      <td>0.692131</td>\n",
       "    </tr>\n",
       "    <tr>\n",
       "      <th>28</th>\n",
       "      <td>bros</td>\n",
       "      <td>0.691787</td>\n",
       "    </tr>\n",
       "    <tr>\n",
       "      <th>29</th>\n",
       "      <td>dm</td>\n",
       "      <td>0.689579</td>\n",
       "    </tr>\n",
       "    <tr>\n",
       "      <th>30</th>\n",
       "      <td>soo</td>\n",
       "      <td>0.685898</td>\n",
       "    </tr>\n",
       "    <tr>\n",
       "      <th>31</th>\n",
       "      <td>wish</td>\n",
       "      <td>0.682266</td>\n",
       "    </tr>\n",
       "    <tr>\n",
       "      <th>32</th>\n",
       "      <td>scratch</td>\n",
       "      <td>0.682117</td>\n",
       "    </tr>\n",
       "    <tr>\n",
       "      <th>33</th>\n",
       "      <td>map</td>\n",
       "      <td>0.680283</td>\n",
       "    </tr>\n",
       "    <tr>\n",
       "      <th>34</th>\n",
       "      <td>motion</td>\n",
       "      <td>0.677567</td>\n",
       "    </tr>\n",
       "    <tr>\n",
       "      <th>35</th>\n",
       "      <td>peel</td>\n",
       "      <td>0.677340</td>\n",
       "    </tr>\n",
       "    <tr>\n",
       "      <th>36</th>\n",
       "      <td>awhile</td>\n",
       "      <td>0.673768</td>\n",
       "    </tr>\n",
       "    <tr>\n",
       "      <th>37</th>\n",
       "      <td>pour</td>\n",
       "      <td>0.669925</td>\n",
       "    </tr>\n",
       "    <tr>\n",
       "      <th>38</th>\n",
       "      <td>greater</td>\n",
       "      <td>0.668224</td>\n",
       "    </tr>\n",
       "    <tr>\n",
       "      <th>39</th>\n",
       "      <td>robot</td>\n",
       "      <td>0.666939</td>\n",
       "    </tr>\n",
       "    <tr>\n",
       "      <th>40</th>\n",
       "      <td>imperial</td>\n",
       "      <td>0.660186</td>\n",
       "    </tr>\n",
       "    <tr>\n",
       "      <th>41</th>\n",
       "      <td>maze</td>\n",
       "      <td>0.659235</td>\n",
       "    </tr>\n",
       "    <tr>\n",
       "      <th>42</th>\n",
       "      <td>vNUMBER</td>\n",
       "      <td>0.656753</td>\n",
       "    </tr>\n",
       "    <tr>\n",
       "      <th>43</th>\n",
       "      <td>nutty</td>\n",
       "      <td>0.656264</td>\n",
       "    </tr>\n",
       "    <tr>\n",
       "      <th>44</th>\n",
       "      <td>updated</td>\n",
       "      <td>0.656092</td>\n",
       "    </tr>\n",
       "    <tr>\n",
       "      <th>45</th>\n",
       "      <td>cappuccino</td>\n",
       "      <td>0.654259</td>\n",
       "    </tr>\n",
       "    <tr>\n",
       "      <th>46</th>\n",
       "      <td>anniversary</td>\n",
       "      <td>0.654174</td>\n",
       "    </tr>\n",
       "    <tr>\n",
       "      <th>47</th>\n",
       "      <td>lily</td>\n",
       "      <td>0.653832</td>\n",
       "    </tr>\n",
       "    <tr>\n",
       "      <th>48</th>\n",
       "      <td>alone</td>\n",
       "      <td>0.647538</td>\n",
       "    </tr>\n",
       "    <tr>\n",
       "      <th>49</th>\n",
       "      <td>pier</td>\n",
       "      <td>0.643569</td>\n",
       "    </tr>\n",
       "  </tbody>\n",
       "</table>\n",
       "</div>"
      ],
      "text/plain": [
       "   feature_name      chi2\n",
       "0            il  1.553027\n",
       "1          golf  0.980810\n",
       "2       NUMBERk  0.977871\n",
       "3         amber  0.967919\n",
       "4         rogue  0.953875\n",
       "5      michigan  0.939917\n",
       "6           wow  0.888956\n",
       "7         gifts  0.854903\n",
       "8           pub  0.832695\n",
       "9           fan  0.818847\n",
       "10      jerry's  0.808613\n",
       "11     insanely  0.790964\n",
       "12      candies  0.786446\n",
       "13      changed  0.760910\n",
       "14       samuel  0.756214\n",
       "15        trash  0.743668\n",
       "16         play  0.736696\n",
       "17    equipment  0.731674\n",
       "18   graduation  0.731201\n",
       "19         poop  0.721151\n",
       "20          aid  0.720811\n",
       "21      judging  0.714353\n",
       "22        names  0.707594\n",
       "23           mi  0.707136\n",
       "24      indulge  0.705883\n",
       "25     shooting  0.704005\n",
       "26         amen  0.698916\n",
       "27      becomes  0.692131\n",
       "28         bros  0.691787\n",
       "29           dm  0.689579\n",
       "30          soo  0.685898\n",
       "31         wish  0.682266\n",
       "32      scratch  0.682117\n",
       "33          map  0.680283\n",
       "34       motion  0.677567\n",
       "35         peel  0.677340\n",
       "36       awhile  0.673768\n",
       "37         pour  0.669925\n",
       "38      greater  0.668224\n",
       "39        robot  0.666939\n",
       "40     imperial  0.660186\n",
       "41         maze  0.659235\n",
       "42      vNUMBER  0.656753\n",
       "43        nutty  0.656264\n",
       "44      updated  0.656092\n",
       "45   cappuccino  0.654259\n",
       "46  anniversary  0.654174\n",
       "47         lily  0.653832\n",
       "48        alone  0.647538\n",
       "49         pier  0.643569"
      ]
     },
     "execution_count": 1061,
     "metadata": {},
     "output_type": "execute_result"
    }
   ],
   "source": [
    "# most_discrim_chi2(X_a, y_a, features_a, 50)\n",
    "# most_discrim_chi2(X_af, y_af, features_a, 50)\n",
    "most_discrim_chi2(X_a, y_a, features_a, 50)"
   ]
  },
  {
   "cell_type": "markdown",
   "metadata": {},
   "source": [
    "### Classifier "
   ]
  },
  {
   "cell_type": "code",
   "execution_count": 1062,
   "metadata": {
    "collapsed": true
   },
   "outputs": [],
   "source": [
    "def most_discrim_coef(X,y,features,n):\n",
    "    clf = LogisticRegression(class_weight='balanced')\n",
    "    clf.fit(X,y)\n",
    "    print(clf.coef_.shape)\n",
    "    sorted_idx = clf.coef_[0].argsort()\n",
    "    df = pd.DataFrame()\n",
    "\n",
    "    # for class 0\n",
    "    df['match'] = features[sorted_idx][:n]\n",
    "    df['coef_match'] = clf.coef_[0][sorted_idx][:n]\n",
    "    #df['is_food0'] = df.class0.apply(lambda _: dp_food_words[_] if _ in dp_food_words else None)\n",
    "    \n",
    "    # for positive class\n",
    "    df['sporty'] = features[sorted_idx][::-1][:n]\n",
    "    df['coef_sporty'] = clf.coef_[0][sorted_idx][::-1][:n]\n",
    "    #df['is_food1'] = df.class1.apply(lambda _: dp_food_words[_] if _ in dp_food_words else None)\n",
    "    return df"
   ]
  },
  {
   "cell_type": "code",
   "execution_count": 1063,
   "metadata": {
    "collapsed": false,
    "scrolled": false
   },
   "outputs": [
    {
     "name": "stdout",
     "output_type": "stream",
     "text": [
      "(1, 8507)\n"
     ]
    },
    {
     "data": {
      "text/html": [
       "<div>\n",
       "<table border=\"1\" class=\"dataframe\">\n",
       "  <thead>\n",
       "    <tr style=\"text-align: right;\">\n",
       "      <th></th>\n",
       "      <th>match</th>\n",
       "      <th>coef_match</th>\n",
       "      <th>sporty</th>\n",
       "      <th>coef_sporty</th>\n",
       "    </tr>\n",
       "  </thead>\n",
       "  <tbody>\n",
       "    <tr>\n",
       "      <th>0</th>\n",
       "      <td>fan</td>\n",
       "      <td>-0.671607</td>\n",
       "      <td>wow</td>\n",
       "      <td>0.852712</td>\n",
       "    </tr>\n",
       "    <tr>\n",
       "      <th>1</th>\n",
       "      <td>wish</td>\n",
       "      <td>-0.659230</td>\n",
       "      <td>burrito</td>\n",
       "      <td>0.851581</td>\n",
       "    </tr>\n",
       "    <tr>\n",
       "      <th>2</th>\n",
       "      <td>table</td>\n",
       "      <td>-0.657926</td>\n",
       "      <td>others</td>\n",
       "      <td>0.847800</td>\n",
       "    </tr>\n",
       "    <tr>\n",
       "      <th>3</th>\n",
       "      <td>play</td>\n",
       "      <td>-0.613579</td>\n",
       "      <td>il</td>\n",
       "      <td>0.672984</td>\n",
       "    </tr>\n",
       "    <tr>\n",
       "      <th>4</th>\n",
       "      <td>wrong</td>\n",
       "      <td>-0.545964</td>\n",
       "      <td>cookies</td>\n",
       "      <td>0.656994</td>\n",
       "    </tr>\n",
       "    <tr>\n",
       "      <th>5</th>\n",
       "      <td>pops</td>\n",
       "      <td>-0.533570</td>\n",
       "      <td>looks</td>\n",
       "      <td>0.653386</td>\n",
       "    </tr>\n",
       "    <tr>\n",
       "      <th>6</th>\n",
       "      <td>whiskey</td>\n",
       "      <td>-0.533310</td>\n",
       "      <td>run</td>\n",
       "      <td>0.647077</td>\n",
       "    </tr>\n",
       "    <tr>\n",
       "      <th>7</th>\n",
       "      <td>dude</td>\n",
       "      <td>-0.528702</td>\n",
       "      <td>pic</td>\n",
       "      <td>0.646513</td>\n",
       "    </tr>\n",
       "    <tr>\n",
       "      <th>8</th>\n",
       "      <td>see</td>\n",
       "      <td>-0.518915</td>\n",
       "      <td>lots</td>\n",
       "      <td>0.645280</td>\n",
       "    </tr>\n",
       "    <tr>\n",
       "      <th>9</th>\n",
       "      <td>thanks</td>\n",
       "      <td>-0.495558</td>\n",
       "      <td>cafe</td>\n",
       "      <td>0.625389</td>\n",
       "    </tr>\n",
       "    <tr>\n",
       "      <th>10</th>\n",
       "      <td>bananas</td>\n",
       "      <td>-0.482007</td>\n",
       "      <td>starbucks</td>\n",
       "      <td>0.623688</td>\n",
       "    </tr>\n",
       "    <tr>\n",
       "      <th>11</th>\n",
       "      <td>rabbit</td>\n",
       "      <td>-0.480399</td>\n",
       "      <td>pub</td>\n",
       "      <td>0.615910</td>\n",
       "    </tr>\n",
       "    <tr>\n",
       "      <th>12</th>\n",
       "      <td>last</td>\n",
       "      <td>-0.478367</td>\n",
       "      <td>scratch</td>\n",
       "      <td>0.569515</td>\n",
       "    </tr>\n",
       "    <tr>\n",
       "      <th>13</th>\n",
       "      <td>enjoy</td>\n",
       "      <td>-0.464559</td>\n",
       "      <td>NUMBERk</td>\n",
       "      <td>0.566824</td>\n",
       "    </tr>\n",
       "    <tr>\n",
       "      <th>14</th>\n",
       "      <td>event</td>\n",
       "      <td>-0.457811</td>\n",
       "      <td>grill</td>\n",
       "      <td>0.566576</td>\n",
       "    </tr>\n",
       "    <tr>\n",
       "      <th>15</th>\n",
       "      <td>corner</td>\n",
       "      <td>-0.456012</td>\n",
       "      <td>photo</td>\n",
       "      <td>0.564712</td>\n",
       "    </tr>\n",
       "    <tr>\n",
       "      <th>16</th>\n",
       "      <td>missed</td>\n",
       "      <td>-0.451514</td>\n",
       "      <td>broccoli</td>\n",
       "      <td>0.563411</td>\n",
       "    </tr>\n",
       "    <tr>\n",
       "      <th>17</th>\n",
       "      <td>every</td>\n",
       "      <td>-0.434536</td>\n",
       "      <td>breakfast</td>\n",
       "      <td>0.554055</td>\n",
       "    </tr>\n",
       "    <tr>\n",
       "      <th>18</th>\n",
       "      <td>grab</td>\n",
       "      <td>-0.432837</td>\n",
       "      <td>co</td>\n",
       "      <td>0.553985</td>\n",
       "    </tr>\n",
       "    <tr>\n",
       "      <th>19</th>\n",
       "      <td>shortcake</td>\n",
       "      <td>-0.430843</td>\n",
       "      <td>seafood</td>\n",
       "      <td>0.518013</td>\n",
       "    </tr>\n",
       "    <tr>\n",
       "      <th>20</th>\n",
       "      <td>favorite</td>\n",
       "      <td>-0.426989</td>\n",
       "      <td>kale</td>\n",
       "      <td>0.512347</td>\n",
       "    </tr>\n",
       "    <tr>\n",
       "      <th>21</th>\n",
       "      <td>haha</td>\n",
       "      <td>-0.416879</td>\n",
       "      <td>work</td>\n",
       "      <td>0.512190</td>\n",
       "    </tr>\n",
       "    <tr>\n",
       "      <th>22</th>\n",
       "      <td>christmas</td>\n",
       "      <td>-0.416767</td>\n",
       "      <td>double</td>\n",
       "      <td>0.509327</td>\n",
       "    </tr>\n",
       "    <tr>\n",
       "      <th>23</th>\n",
       "      <td>never</td>\n",
       "      <td>-0.413259</td>\n",
       "      <td>changed</td>\n",
       "      <td>0.504952</td>\n",
       "    </tr>\n",
       "    <tr>\n",
       "      <th>24</th>\n",
       "      <td>always</td>\n",
       "      <td>-0.411792</td>\n",
       "      <td>ale</td>\n",
       "      <td>0.489031</td>\n",
       "    </tr>\n",
       "    <tr>\n",
       "      <th>25</th>\n",
       "      <td>cool</td>\n",
       "      <td>-0.409189</td>\n",
       "      <td>salted</td>\n",
       "      <td>0.488826</td>\n",
       "    </tr>\n",
       "    <tr>\n",
       "      <th>26</th>\n",
       "      <td>smoked</td>\n",
       "      <td>-0.408550</td>\n",
       "      <td>man</td>\n",
       "      <td>0.488784</td>\n",
       "    </tr>\n",
       "    <tr>\n",
       "      <th>27</th>\n",
       "      <td>right</td>\n",
       "      <td>-0.393462</td>\n",
       "      <td>market</td>\n",
       "      <td>0.486462</td>\n",
       "    </tr>\n",
       "    <tr>\n",
       "      <th>28</th>\n",
       "      <td>melted</td>\n",
       "      <td>-0.393386</td>\n",
       "      <td>state</td>\n",
       "      <td>0.477268</td>\n",
       "    </tr>\n",
       "    <tr>\n",
       "      <th>29</th>\n",
       "      <td>shit</td>\n",
       "      <td>-0.389609</td>\n",
       "      <td>going</td>\n",
       "      <td>0.473204</td>\n",
       "    </tr>\n",
       "    <tr>\n",
       "      <th>30</th>\n",
       "      <td>games</td>\n",
       "      <td>-0.386342</td>\n",
       "      <td>used</td>\n",
       "      <td>0.463289</td>\n",
       "    </tr>\n",
       "    <tr>\n",
       "      <th>31</th>\n",
       "      <td>alone</td>\n",
       "      <td>-0.383226</td>\n",
       "      <td>–</td>\n",
       "      <td>0.457555</td>\n",
       "    </tr>\n",
       "    <tr>\n",
       "      <th>32</th>\n",
       "      <td>gin</td>\n",
       "      <td>-0.382767</td>\n",
       "      <td>anniversary</td>\n",
       "      <td>0.454835</td>\n",
       "    </tr>\n",
       "    <tr>\n",
       "      <th>33</th>\n",
       "      <td>plus</td>\n",
       "      <td>-0.382447</td>\n",
       "      <td>onions</td>\n",
       "      <td>0.452521</td>\n",
       "    </tr>\n",
       "    <tr>\n",
       "      <th>34</th>\n",
       "      <td>pickles</td>\n",
       "      <td>-0.379127</td>\n",
       "      <td>drinking</td>\n",
       "      <td>0.451968</td>\n",
       "    </tr>\n",
       "    <tr>\n",
       "      <th>35</th>\n",
       "      <td>real</td>\n",
       "      <td>-0.378957</td>\n",
       "      <td>back</td>\n",
       "      <td>0.448714</td>\n",
       "    </tr>\n",
       "    <tr>\n",
       "      <th>36</th>\n",
       "      <td>peel</td>\n",
       "      <td>-0.378722</td>\n",
       "      <td>free</td>\n",
       "      <td>0.444757</td>\n",
       "    </tr>\n",
       "    <tr>\n",
       "      <th>37</th>\n",
       "      <td>omg</td>\n",
       "      <td>-0.374320</td>\n",
       "      <td>sucker</td>\n",
       "      <td>0.443999</td>\n",
       "    </tr>\n",
       "    <tr>\n",
       "      <th>38</th>\n",
       "      <td>tweet</td>\n",
       "      <td>-0.368958</td>\n",
       "      <td>dog</td>\n",
       "      <td>0.442744</td>\n",
       "    </tr>\n",
       "    <tr>\n",
       "      <th>39</th>\n",
       "      <td>cup</td>\n",
       "      <td>-0.366730</td>\n",
       "      <td>deep</td>\n",
       "      <td>0.440322</td>\n",
       "    </tr>\n",
       "    <tr>\n",
       "      <th>40</th>\n",
       "      <td>thanksgiving</td>\n",
       "      <td>-0.366603</td>\n",
       "      <td>amber</td>\n",
       "      <td>0.439001</td>\n",
       "    </tr>\n",
       "    <tr>\n",
       "      <th>41</th>\n",
       "      <td>came</td>\n",
       "      <td>-0.365698</td>\n",
       "      <td>bean</td>\n",
       "      <td>0.438768</td>\n",
       "    </tr>\n",
       "    <tr>\n",
       "      <th>42</th>\n",
       "      <td>leaving</td>\n",
       "      <td>-0.361131</td>\n",
       "      <td>pour</td>\n",
       "      <td>0.437479</td>\n",
       "    </tr>\n",
       "    <tr>\n",
       "      <th>43</th>\n",
       "      <td>listening</td>\n",
       "      <td>-0.360364</td>\n",
       "      <td>carrot</td>\n",
       "      <td>0.436761</td>\n",
       "    </tr>\n",
       "    <tr>\n",
       "      <th>44</th>\n",
       "      <td>candies</td>\n",
       "      <td>-0.360338</td>\n",
       "      <td>festival</td>\n",
       "      <td>0.435973</td>\n",
       "    </tr>\n",
       "    <tr>\n",
       "      <th>45</th>\n",
       "      <td>proud</td>\n",
       "      <td>-0.360292</td>\n",
       "      <td>caramel</td>\n",
       "      <td>0.433906</td>\n",
       "    </tr>\n",
       "    <tr>\n",
       "      <th>46</th>\n",
       "      <td>chowder</td>\n",
       "      <td>-0.358324</td>\n",
       "      <td>craving</td>\n",
       "      <td>0.433462</td>\n",
       "    </tr>\n",
       "    <tr>\n",
       "      <th>47</th>\n",
       "      <td>hanging</td>\n",
       "      <td>-0.357924</td>\n",
       "      <td>smells</td>\n",
       "      <td>0.433109</td>\n",
       "    </tr>\n",
       "    <tr>\n",
       "      <th>48</th>\n",
       "      <td>put</td>\n",
       "      <td>-0.357604</td>\n",
       "      <td>golf</td>\n",
       "      <td>0.429649</td>\n",
       "    </tr>\n",
       "    <tr>\n",
       "      <th>49</th>\n",
       "      <td>stand</td>\n",
       "      <td>-0.356365</td>\n",
       "      <td>workout</td>\n",
       "      <td>0.422885</td>\n",
       "    </tr>\n",
       "  </tbody>\n",
       "</table>\n",
       "</div>"
      ],
      "text/plain": [
       "           match  coef_match       sporty  coef_sporty\n",
       "0            fan   -0.671607          wow     0.852712\n",
       "1           wish   -0.659230      burrito     0.851581\n",
       "2          table   -0.657926       others     0.847800\n",
       "3           play   -0.613579           il     0.672984\n",
       "4          wrong   -0.545964      cookies     0.656994\n",
       "5           pops   -0.533570        looks     0.653386\n",
       "6        whiskey   -0.533310          run     0.647077\n",
       "7           dude   -0.528702          pic     0.646513\n",
       "8            see   -0.518915         lots     0.645280\n",
       "9         thanks   -0.495558         cafe     0.625389\n",
       "10       bananas   -0.482007    starbucks     0.623688\n",
       "11        rabbit   -0.480399          pub     0.615910\n",
       "12          last   -0.478367      scratch     0.569515\n",
       "13         enjoy   -0.464559      NUMBERk     0.566824\n",
       "14         event   -0.457811        grill     0.566576\n",
       "15        corner   -0.456012        photo     0.564712\n",
       "16        missed   -0.451514     broccoli     0.563411\n",
       "17         every   -0.434536    breakfast     0.554055\n",
       "18          grab   -0.432837           co     0.553985\n",
       "19     shortcake   -0.430843      seafood     0.518013\n",
       "20      favorite   -0.426989         kale     0.512347\n",
       "21          haha   -0.416879         work     0.512190\n",
       "22     christmas   -0.416767       double     0.509327\n",
       "23         never   -0.413259      changed     0.504952\n",
       "24        always   -0.411792          ale     0.489031\n",
       "25          cool   -0.409189       salted     0.488826\n",
       "26        smoked   -0.408550          man     0.488784\n",
       "27         right   -0.393462       market     0.486462\n",
       "28        melted   -0.393386        state     0.477268\n",
       "29          shit   -0.389609        going     0.473204\n",
       "30         games   -0.386342         used     0.463289\n",
       "31         alone   -0.383226            –     0.457555\n",
       "32           gin   -0.382767  anniversary     0.454835\n",
       "33          plus   -0.382447       onions     0.452521\n",
       "34       pickles   -0.379127     drinking     0.451968\n",
       "35          real   -0.378957         back     0.448714\n",
       "36          peel   -0.378722         free     0.444757\n",
       "37           omg   -0.374320       sucker     0.443999\n",
       "38         tweet   -0.368958          dog     0.442744\n",
       "39           cup   -0.366730         deep     0.440322\n",
       "40  thanksgiving   -0.366603        amber     0.439001\n",
       "41          came   -0.365698         bean     0.438768\n",
       "42       leaving   -0.361131         pour     0.437479\n",
       "43     listening   -0.360364       carrot     0.436761\n",
       "44       candies   -0.360338     festival     0.435973\n",
       "45         proud   -0.360292      caramel     0.433906\n",
       "46       chowder   -0.358324      craving     0.433462\n",
       "47       hanging   -0.357924       smells     0.433109\n",
       "48           put   -0.357604         golf     0.429649\n",
       "49         stand   -0.356365      workout     0.422885"
      ]
     },
     "execution_count": 1063,
     "metadata": {},
     "output_type": "execute_result"
    }
   ],
   "source": [
    "most_discrim_coef(X_a, y_a, features_a, 50)"
   ]
  },
  {
   "cell_type": "markdown",
   "metadata": {},
   "source": [
    "## Load good guides and exemplars data "
   ]
  },
  {
   "cell_type": "markdown",
   "metadata": {},
   "source": [
    "### Collect list of people followed by each users "
   ]
  },
  {
   "cell_type": "code",
   "execution_count": 622,
   "metadata": {
    "collapsed": true
   },
   "outputs": [],
   "source": [
    "with open(\"twitterauth.json\") as fd:\n",
    "    creds = json.load(fd)"
   ]
  },
  {
   "cell_type": "code",
   "execution_count": 624,
   "metadata": {
    "collapsed": false
   },
   "outputs": [],
   "source": [
    "import tweepy\n",
    "\n",
    "auth = tweepy.OAuthHandler(creds['consumer_key'], creds['consumer_secret'])\n",
    "auth.set_access_token(creds['access_token'], creds['access_token_secret'])\n",
    "api = tweepy.API(auth)"
   ]
  },
  {
   "cell_type": "code",
   "execution_count": null,
   "metadata": {
    "collapsed": false
   },
   "outputs": [],
   "source": [
    "def collect_friends_ids(uid):\n",
    "    p = \"/data/1/sporty/users/friends_ids/%d\" % uid\n",
    "    file_missing = not os.path.exists(p)\n",
    "    if file_missing or os.path.getsize(p) == 0:\n",
    "        with open(p, 'w') as fd:\n",
    "            try:\n",
    "                l = api.friends_ids(id=uid)\n",
    "                for fid in l:\n",
    "                    fd.write(\"%d\\n\" % fid)\n",
    "                time.sleep(60) # avoid reaching rate limit of 15 requests per 15 minute window\n",
    "            except:\n",
    "                time.sleep(60) # wait more because rate limit has been reached\n",
    "                \n",
    "# n_users[keep_idx].id.progress_apply(collect_friends_ids)\n",
    "# s_users[keep_idx].id.progress_apply(collect_friends_ids)"
   ]
  },
  {
   "cell_type": "code",
   "execution_count": 960,
   "metadata": {
    "collapsed": false
   },
   "outputs": [],
   "source": [
    "def load_friends_list(uid):\n",
    "    p = \"/data/1/sporty/users/friends_ids/%d\" % uid\n",
    "    friends = []\n",
    "    if os.path.exists(p):\n",
    "        with open(p) as fd:\n",
    "            for l in fd:\n",
    "                friends.append(int(l.strip()))\n",
    "    return friends\n",
    "        \n",
    "n_users['friends'] = n_users[keep_idx].id.apply(load_friends_list)\n",
    "s_users['friends'] = s_users[keep_idx].id.apply(load_friends_list) # TODO: run again once we are done collecting the friends for all sporty users\n"
   ]
  },
  {
   "cell_type": "markdown",
   "metadata": {},
   "source": [
    "### Good guides"
   ]
  },
  {
   "cell_type": "code",
   "execution_count": 1064,
   "metadata": {
    "collapsed": true
   },
   "outputs": [],
   "source": [
    "good_guides_df = pd.read_excel(\"./goodguide.xlsx\", names=['screen_name', 'name', 'sector', 'eco_score', 'health_score'])"
   ]
  },
  {
   "cell_type": "code",
   "execution_count": 1065,
   "metadata": {
    "collapsed": false
   },
   "outputs": [],
   "source": [
    "good_guides_df = good_guides_df[(good_guides_df.sector == 'Food') & ~(good_guides_df.health_score.isnull())]"
   ]
  },
  {
   "cell_type": "code",
   "execution_count": 1066,
   "metadata": {
    "collapsed": true
   },
   "outputs": [],
   "source": [
    "good_guides_set = set(good_guides_df.screen_name)"
   ]
  },
  {
   "cell_type": "markdown",
   "metadata": {},
   "source": [
    "### Exemplars"
   ]
  },
  {
   "cell_type": "code",
   "execution_count": 1067,
   "metadata": {
    "collapsed": false
   },
   "outputs": [],
   "source": [
    "exemplars_set = set(pd.read_csv(\"exemplars.txt\", header=None)[0])"
   ]
  },
  {
   "cell_type": "markdown",
   "metadata": {},
   "source": [
    "### Collect user informations for each nutrition-related handle"
   ]
  },
  {
   "cell_type": "code",
   "execution_count": 1068,
   "metadata": {
    "collapsed": true
   },
   "outputs": [],
   "source": [
    "nutrition_handles_set = good_guides_set | exemplars_set"
   ]
  },
  {
   "cell_type": "code",
   "execution_count": 1069,
   "metadata": {
    "collapsed": true
   },
   "outputs": [],
   "source": [
    "# recipe to iterate over any iterable by chunks of n\n",
    "from itertools import zip_longest\n",
    "def grouper(iterable, n, fillvalue=None):\n",
    "    \"Collect data into fixed-length chunks or blocks\"\n",
    "    # grouper('ABCDEFG', 3, 'x') --> ABC DEF Gxx\"\n",
    "    args = [iter(iterable)] * n\n",
    "    return zip_longest(*args, fillvalue=fillvalue)"
   ]
  },
  {
   "cell_type": "raw",
   "metadata": {},
   "source": [
    "get_output_path = lambda name: \"/data/1/sporty/users/nutrition_users/%s\" % name\n",
    "to_collect = lambda p: not os.path.exists(p) or os.path.getsize(p) == 0\n",
    "\n",
    "for n_handles in tqdm_notebook(grouper(list(nutrition_handles_set), 100)):\n",
    "    n_handles = [h for h in n_handles if to_collect(get_output_path(h))]\n",
    "    l = api.lookup_users(screen_names=n_handles)\n",
    "    \n",
    "    for u in l:\n",
    "        u = u.__dict__['_json']\n",
    "        p = get_output_path(u['screen_name'])\n",
    "        with open(p, 'w') as fd:\n",
    "            fd.write(\"%s\\n\" % json.dumps(u))"
   ]
  },
  {
   "cell_type": "markdown",
   "metadata": {},
   "source": [
    "### Loads ids of nutrition related accounts "
   ]
  },
  {
   "cell_type": "code",
   "execution_count": 1070,
   "metadata": {
    "collapsed": true
   },
   "outputs": [],
   "source": [
    "import glob\n",
    "\n",
    "def load_nutrition_ids(re_path, limit_to=None):\n",
    "    nutrition_uids = {}\n",
    "    for p in glob.glob(re_path):\n",
    "        with open(p) as fd:\n",
    "            u = json.loads(fd.readline())\n",
    "            if limit_to is None or u['screen_name'] in limit_to:\n",
    "                nutrition_uids[u['screen_name']] = u['id']\n",
    "    return nutrition_uids\n",
    "\n",
    "\n",
    "good_guides_dict = load_nutrition_ids(\"/data/1/sporty/users/nutrition_users/*\", good_guides_set)\n",
    "exemplars_dict = load_nutrition_ids(\"/data/1/sporty/users/nutrition_users/*\", exemplars_set)\n",
    "good_guides_ids = set(good_guides_dict.values())\n",
    "exemplars_ids = set(exemplars_dict.values())"
   ]
  },
  {
   "cell_type": "markdown",
   "metadata": {},
   "source": [
    "## Analyze food-related friends and mentions for each group "
   ]
  },
  {
   "cell_type": "markdown",
   "metadata": {},
   "source": [
    "### Build lists of nutrition friends"
   ]
  },
  {
   "cell_type": "code",
   "execution_count": 1071,
   "metadata": {
    "collapsed": false
   },
   "outputs": [],
   "source": [
    "n_users['exemplar_friends'] = n_users.friends.apply(lambda l: l if type(l) == float else [_ for _ in l if _ in exemplars_ids])\n",
    "s_users['exemplar_friends'] = s_users.friends.apply(lambda l: l if type(l) == float else [_ for _ in l if _ in exemplars_ids])\n",
    "\n",
    "n_users['good_guides_friends'] = n_users.friends.apply(lambda l: l if type(l) == float else [_ for _ in l if _ in good_guides_ids])\n",
    "s_users['good_guides_friends'] = s_users.friends.apply(lambda l: l if type(l) == float else [_ for _ in l if _ in good_guides_ids])"
   ]
  },
  {
   "cell_type": "markdown",
   "metadata": {},
   "source": [
    "### Compare exemplar friends"
   ]
  },
  {
   "cell_type": "code",
   "execution_count": 1081,
   "metadata": {
    "collapsed": false
   },
   "outputs": [
    {
     "data": {
      "image/png": "[encoded data removed]",
      "text/plain": [
       "<matplotlib.figure.Figure at 0x7f4403397da0>"
      ]
     },
     "metadata": {},
     "output_type": "display_data"
    }
   ],
   "source": [
    "exemplars_friends_df = pd.DataFrame()\n",
    "exemplars_friends_df['sporty'] = s_users[keep_idx].exemplar_friends.apply(lambda _: 0 if type(_) is float else len(_))\n",
    "exemplars_friends_df['match']  = n_users[keep_idx].exemplar_friends.apply(lambda _: 0 if type(_) is float else len(_))\n",
    "\n",
    "fig, ax = plt.subplots(figsize=(10,5))\n",
    "xl = [-1,13]\n",
    "exemplars_friends_df.apply(lambda _: _.value_counts().sort_index()).plot(kind='bar', alpha=1, ax=ax, logy=True)\n",
    "# exemplars_friends_df.plot(kind='kde', xlim=xl, ax=ax, secondary_y=True)\n",
    "ax.set_xlim(xl)\n",
    "ax.grid(True)\n",
    "ax.grid(b=True, which='minor')"
   ]
  },
  {
   "cell_type": "markdown",
   "metadata": {},
   "source": [
    "### Compare good guides friends"
   ]
  },
  {
   "cell_type": "code",
   "execution_count": 1083,
   "metadata": {
    "collapsed": false
   },
   "outputs": [
    {
     "data": {
      "image/png": "[encoded data removed]",
      "text/plain": [
       "<matplotlib.figure.Figure at 0x7f4406b17550>"
      ]
     },
     "metadata": {},
     "output_type": "display_data"
    }
   ],
   "source": [
    "good_guides_friends_df = pd.DataFrame()\n",
    "good_guides_friends_df['sporty'] = s_users[keep_idx].good_guides_friends.apply(lambda _: 0 if type(_) is float else len(_))\n",
    "good_guides_friends_df['match']  = n_users[keep_idx].good_guides_friends.apply(lambda _: 0 if type(_) is float else len(_))\n",
    "\n",
    "fig, ax = plt.subplots(figsize=(10,5))\n",
    "xl = [-1,11]\n",
    "good_guides_friends_df.apply(lambda _: _.value_counts().sort_index()).plot(kind='bar', ax=ax, logy=True)\n",
    "ax.set_xlim(xl)\n",
    "ax.grid(True)\n",
    "ax.grid(True, which='minor')"
   ]
  },
  {
   "cell_type": "markdown",
   "metadata": {},
   "source": [
    "### Compare exemplars + good_guides friends"
   ]
  },
  {
   "cell_type": "code",
   "execution_count": 1084,
   "metadata": {
    "collapsed": false
   },
   "outputs": [
    {
     "data": {
      "text/plain": [
       "<matplotlib.text.Text at 0x7f43e388e940>"
      ]
     },
     "execution_count": 1084,
     "metadata": {},
     "output_type": "execute_result"
    },
    {
     "data": {
      "image/png": "[encoded data removed]",
      "text/plain": [
       "<matplotlib.figure.Figure at 0x7f43e3673908>"
      ]
     },
     "metadata": {},
     "output_type": "display_data"
    }
   ],
   "source": [
    "nutrition_friends_df = good_guides_friends_df + exemplars_friends_df\n",
    "\n",
    "\n",
    "fig, ax = plt.subplots(figsize=(10,5))\n",
    "xl = [-1,12]\n",
    "nutrition_friends_df.apply(lambda _: _.value_counts().sort_index()).plot(kind='bar', ax=ax, logy=True)\n",
    "# nutrition_friends_df.plot(kind='kde', xlim=xl, ax=ax, secondary_y=True)\n",
    "ax.set_xlim(xl)\n",
    "ax.grid(True)\n",
    "ax.grid(True, which='minor')\n",
    "ax.set_xlabel(\"Number of nutrition-related friends\")\n",
    "ax.set_ylabel(\"Number of users\")"
   ]
  },
  {
   "cell_type": "code",
   "execution_count": 1085,
   "metadata": {
    "collapsed": false
   },
   "outputs": [
    {
     "data": {
      "text/html": [
       "<div>\n",
       "<table border=\"1\" class=\"dataframe\">\n",
       "  <thead>\n",
       "    <tr style=\"text-align: right;\">\n",
       "      <th></th>\n",
       "      <th>sporty</th>\n",
       "      <th>match</th>\n",
       "    </tr>\n",
       "  </thead>\n",
       "  <tbody>\n",
       "    <tr>\n",
       "      <th>count</th>\n",
       "      <td>458.000000</td>\n",
       "      <td>458.000000</td>\n",
       "    </tr>\n",
       "    <tr>\n",
       "      <th>mean</th>\n",
       "      <td>1.631004</td>\n",
       "      <td>1.074236</td>\n",
       "    </tr>\n",
       "    <tr>\n",
       "      <th>std</th>\n",
       "      <td>4.358809</td>\n",
       "      <td>3.485348</td>\n",
       "    </tr>\n",
       "    <tr>\n",
       "      <th>min</th>\n",
       "      <td>0.000000</td>\n",
       "      <td>0.000000</td>\n",
       "    </tr>\n",
       "    <tr>\n",
       "      <th>25%</th>\n",
       "      <td>0.000000</td>\n",
       "      <td>0.000000</td>\n",
       "    </tr>\n",
       "    <tr>\n",
       "      <th>50%</th>\n",
       "      <td>0.000000</td>\n",
       "      <td>0.000000</td>\n",
       "    </tr>\n",
       "    <tr>\n",
       "      <th>75%</th>\n",
       "      <td>1.000000</td>\n",
       "      <td>1.000000</td>\n",
       "    </tr>\n",
       "    <tr>\n",
       "      <th>max</th>\n",
       "      <td>52.000000</td>\n",
       "      <td>41.000000</td>\n",
       "    </tr>\n",
       "  </tbody>\n",
       "</table>\n",
       "</div>"
      ],
      "text/plain": [
       "           sporty       match\n",
       "count  458.000000  458.000000\n",
       "mean     1.631004    1.074236\n",
       "std      4.358809    3.485348\n",
       "min      0.000000    0.000000\n",
       "25%      0.000000    0.000000\n",
       "50%      0.000000    0.000000\n",
       "75%      1.000000    1.000000\n",
       "max     52.000000   41.000000"
      ]
     },
     "execution_count": 1085,
     "metadata": {},
     "output_type": "execute_result"
    }
   ],
   "source": [
    "nutrition_friends_df.describe()"
   ]
  },
  {
   "cell_type": "code",
   "execution_count": 1086,
   "metadata": {
    "collapsed": false
   },
   "outputs": [
    {
     "data": {
      "text/plain": [
       "WilcoxonResult(statistic=9773.5, pvalue=7.2455748386358117e-05)"
      ]
     },
     "execution_count": 1086,
     "metadata": {},
     "output_type": "execute_result"
    }
   ],
   "source": [
    "wilcoxon(nutrition_friends_df.sporty, nutrition_friends_df.match)"
   ]
  },
  {
   "cell_type": "code",
   "execution_count": 1087,
   "metadata": {
    "collapsed": false
   },
   "outputs": [
    {
     "data": {
      "text/plain": [
       "count    458.000000\n",
       "mean       0.556769\n",
       "std        5.175482\n",
       "min      -38.000000\n",
       "25%        0.000000\n",
       "50%        0.000000\n",
       "75%        1.000000\n",
       "max       49.000000\n",
       "dtype: float64"
      ]
     },
     "execution_count": 1087,
     "metadata": {},
     "output_type": "execute_result"
    }
   ],
   "source": [
    "nutrition_diff = (nutrition_friends_df.sporty - nutrition_friends_df.match)\n",
    "nutrition_diff.describe()"
   ]
  },
  {
   "cell_type": "markdown",
   "metadata": {},
   "source": [
    "### Filter mentions and simple count"
   ]
  },
  {
   "cell_type": "markdown",
   "metadata": {},
   "source": [
    "#### On all tweets of all users"
   ]
  },
  {
   "cell_type": "code",
   "execution_count": 1088,
   "metadata": {
    "collapsed": false
   },
   "outputs": [],
   "source": [
    "mentions_re = re.compile(\"^@[0-9a-zA-Z\\-_]+\")\n",
    "nutrition_handles_set_lower = set([_.lower() for _ in nutrition_handles_set])\n",
    "nutrition_tokenize = lambda tw: tokenize(tw, collapse_mentions=False, bigrams=False, liwc=False, limit_repeats=False, keep_mentions=True)\n",
    "n_mentions = n_users.tweets.progress_apply(lambda l: [tk for tw in l for tk in nutrition_tokenize(tw) if mentions_re.match(tk) and tk[1:] in nutrition_handles_set_lower])\n",
    "s_mentions = s_users.tweets.progress_apply(lambda l: [tk for tw in l for tk in nutrition_tokenize(tw) if mentions_re.match(tk) and tk[1:] in nutrition_handles_set_lower])"
   ]
  },
  {
   "cell_type": "code",
   "execution_count": 1022,
   "metadata": {
    "collapsed": false
   },
   "outputs": [
    {
     "data": {
      "text/html": [
       "<div>\n",
       "<table border=\"1\" class=\"dataframe\">\n",
       "  <thead>\n",
       "    <tr style=\"text-align: right;\">\n",
       "      <th></th>\n",
       "      <th>match</th>\n",
       "      <th>sporty</th>\n",
       "    </tr>\n",
       "  </thead>\n",
       "  <tbody>\n",
       "    <tr>\n",
       "      <th>count</th>\n",
       "      <td>1034.000000</td>\n",
       "      <td>1034.000000</td>\n",
       "    </tr>\n",
       "    <tr>\n",
       "      <th>mean</th>\n",
       "      <td>2.384913</td>\n",
       "      <td>4.198259</td>\n",
       "    </tr>\n",
       "    <tr>\n",
       "      <th>std</th>\n",
       "      <td>7.088488</td>\n",
       "      <td>12.669924</td>\n",
       "    </tr>\n",
       "    <tr>\n",
       "      <th>min</th>\n",
       "      <td>0.000000</td>\n",
       "      <td>0.000000</td>\n",
       "    </tr>\n",
       "    <tr>\n",
       "      <th>25%</th>\n",
       "      <td>0.000000</td>\n",
       "      <td>0.000000</td>\n",
       "    </tr>\n",
       "    <tr>\n",
       "      <th>50%</th>\n",
       "      <td>0.000000</td>\n",
       "      <td>1.000000</td>\n",
       "    </tr>\n",
       "    <tr>\n",
       "      <th>75%</th>\n",
       "      <td>2.000000</td>\n",
       "      <td>4.000000</td>\n",
       "    </tr>\n",
       "    <tr>\n",
       "      <th>max</th>\n",
       "      <td>106.000000</td>\n",
       "      <td>289.000000</td>\n",
       "    </tr>\n",
       "  </tbody>\n",
       "</table>\n",
       "</div>"
      ],
      "text/plain": [
       "             match       sporty\n",
       "count  1034.000000  1034.000000\n",
       "mean      2.384913     4.198259\n",
       "std       7.088488    12.669924\n",
       "min       0.000000     0.000000\n",
       "25%       0.000000     0.000000\n",
       "50%       0.000000     1.000000\n",
       "75%       2.000000     4.000000\n",
       "max     106.000000   289.000000"
      ]
     },
     "execution_count": 1022,
     "metadata": {},
     "output_type": "execute_result"
    }
   ],
   "source": [
    "mentions_df = pd.DataFrame()\n",
    "mentions_df['match'] = n_mentions.apply(len)\n",
    "mentions_df['sporty'] = s_mentions.apply(len)\n",
    "mentions_diff = mentions_df.sporty - mentions_df.match\n",
    "mentions_df.describe()"
   ]
  },
  {
   "cell_type": "code",
   "execution_count": 1091,
   "metadata": {
    "collapsed": false
   },
   "outputs": [
    {
     "data": {
      "text/plain": [
       "WilcoxonResult(statistic=86556.5, pvalue=3.4515698863629816e-14)"
      ]
     },
     "execution_count": 1091,
     "metadata": {},
     "output_type": "execute_result"
    }
   ],
   "source": [
    "wilcoxon(mentions_df.match, mentions_df.sporty)"
   ]
  },
  {
   "cell_type": "code",
   "execution_count": 1089,
   "metadata": {
    "collapsed": false
   },
   "outputs": [
    {
     "data": {
      "text/plain": [
       "count    1034.000000\n",
       "mean        1.813346\n",
       "std        13.963061\n",
       "min      -105.000000\n",
       "25%         0.000000\n",
       "50%         0.000000\n",
       "75%         2.000000\n",
       "max       289.000000\n",
       "dtype: float64"
      ]
     },
     "execution_count": 1089,
     "metadata": {},
     "output_type": "execute_result"
    }
   ],
   "source": [
    "mentions_diff.describe()"
   ]
  },
  {
   "cell_type": "code",
   "execution_count": 1090,
   "metadata": {
    "collapsed": false
   },
   "outputs": [
    {
     "data": {
      "text/plain": [
       "<matplotlib.text.Text at 0x7f43e80cab70>"
      ]
     },
     "execution_count": 1090,
     "metadata": {},
     "output_type": "execute_result"
    },
    {
     "data": {
      "image/png": "[encoded data removed]",
      "text/plain": [
       "<matplotlib.figure.Figure at 0x7f43e80bec50>"
      ]
     },
     "metadata": {},
     "output_type": "display_data"
    }
   ],
   "source": [
    "fig, ax = plt.subplots(figsize=(10,5))\n",
    "xl = [-1,20]\n",
    "mentions_df.apply(lambda _: _.value_counts().sort_index()).plot(kind='bar', ax=ax, logy=True)\n",
    "ax.set_xlim(xl)\n",
    "ax.grid(True)\n",
    "ax.grid(True, which='minor')\n",
    "ax.set_xlabel(\"Mentions of nutrition-related accounts.\")\n",
    "ax.set_ylabel(\"Number of users.\")"
   ]
  }
 ],
 "metadata": {
  "kernelspec": {
   "display_name": "Python 3",
   "language": "python",
   "name": "python3"
  },
  "language_info": {
   "codemirror_mode": {
    "name": "ipython",
    "version": 3
   },
   "file_extension": ".py",
   "mimetype": "text/x-python",
   "name": "python",
   "nbconvert_exporter": "python",
   "pygments_lexer": "ipython3",
   "version": "3.4.3"
  },
  "nav_menu": {},
  "toc": {
   "navigate_menu": true,
   "number_sections": true,
   "sideBar": true,
   "threshold": 6,
   "toc_cell": false,
   "toc_section_display": "block",
   "toc_window_display": false
  },
  "widgets": {
   "state": {
    "1a58954888074299893125e50794881c": {
     "views": [
      {
       "cell_index": 112
      }
     ]
    },
    "1f58b8bd6d5947bb968d59420de650a0": {
     "views": [
      {
       "cell_index": 78
      }
     ]
    },
    "24f1079565ba4e7b86e8efce622b13a6": {
     "views": [
      {
       "cell_index": 102
      }
     ]
    },
    "41c64aefd80944aea5cee2ab878b28eb": {
     "views": [
      {
       "cell_index": 120
      }
     ]
    },
    "57b9b6f3763e494d9aef5fb3c1b772e9": {
     "views": [
      {
       "cell_index": 76
      }
     ]
    },
    "5c8e5df38c3646a6b7b910298467e3a8": {
     "views": [
      {
       "cell_index": 131
      }
     ]
    },
    "743f99ff625348b49a925965d0ccaf6a": {
     "views": [
      {
       "cell_index": 129
      }
     ]
    },
    "8164333b49c74dbf9e5b983ff01ad8b6": {
     "views": [
      {
       "cell_index": 131
      }
     ]
    },
    "890e0fb0d90c4aab9291d04934682822": {
     "views": [
      {
       "cell_index": 0
      }
     ]
    },
    "96c6ded3629b4768a9f737a833746a49": {
     "views": [
      {
       "cell_index": 129
      }
     ]
    },
    "9ba48b7890c942f283fc1858d514e5bd": {
     "views": [
      {
       "cell_index": 76
      }
     ]
    },
    "a56b30414503405cbab4f2ce9eced214": {
     "views": [
      {
       "cell_index": 78
      }
     ]
    },
    "b2b67ab7da9c419eb533e0d463d90935": {
     "views": [
      {
       "cell_index": 131
      }
     ]
    },
    "d6fee48f948c444c803dc52d836e510f": {
     "views": [
      {
       "cell_index": 102
      }
     ]
    },
    "f3153c22944846c3900b2234b83dfed5": {
     "views": [
      {
       "cell_index": 130
      }
     ]
    }
   },
   "version": "1.2.0"
  }
 },
 "nbformat": 4,
 "nbformat_minor": 0
}
