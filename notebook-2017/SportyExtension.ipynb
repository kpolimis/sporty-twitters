{
 "cells": [
  {
   "cell_type": "code",
   "execution_count": 466,
   "metadata": {
    "collapsed": false
   },
   "outputs": [],
   "source": [
    "import json\n",
    "import pandas as pd\n",
    "import numpy as np\n",
    "import pymongo\n",
    "import os.path\n",
    "import seaborn as sns\n",
    "import re\n",
    "import matplotlib.pyplot as plt\n",
    "import string\n",
    "import scipy.sparse as sp\n",
    "import time\n",
    "\n",
    "from scipy.stats import wilcoxon\n",
    "from tqdm import tqdm, tqdm_notebook, tqdm_pandas\n",
    "from collections import defaultdict, Counter\n",
    "from sklearn.feature_extraction.text import TfidfVectorizer, CountVectorizer\n",
    "from sklearn.feature_selection import SelectKBest, chi2\n",
    "from sklearn.pipeline import Pipeline\n",
    "from sklearn import preprocessing, metrics\n",
    "from sklearn.cross_validation import KFold\n",
    "from sklearn.linear_model import LogisticRegression\n",
    "from sklearn.cluster import KMeans\n",
    "from IPython.display import display\n",
    "from sklearn.preprocessing import LabelEncoder\n",
    "\n",
    "tqdm_notebook().pandas()\n",
    "sns.set_context('paper')\n",
    "sns.set_style(\"whitegrid\")\n",
    "pd.set_option('display.max_rows', 200)\n",
    "pd.set_option('display.max_columns', 50)\n",
    "\n",
    "%matplotlib inline\n",
    "%config InlineBackend.figure_format = 'retina'"
   ]
  },
  {
   "cell_type": "code",
   "execution_count": 536,
   "metadata": {
    "collapsed": false
   },
   "outputs": [],
   "source": [
    "!rm md_colors.py*; wget -q --no-check-certificate https://gist.github.com/vlandeiro/a97f22261e85427ef7811a3fc9c1afba/raw/d2bdb2a614ceac31434dbe758a97c2dac3c6cd71/md_colors.py\n",
    "%run md_colors.py"
   ]
  },
  {
   "cell_type": "markdown",
   "metadata": {},
   "source": [
    "# Load data"
   ]
  },
  {
   "cell_type": "markdown",
   "metadata": {},
   "source": [
    "## Control and treatment groups"
   ]
  },
  {
   "cell_type": "markdown",
   "metadata": {},
   "source": [
    "###  Load users information"
   ]
  },
  {
   "cell_type": "code",
   "execution_count": 4,
   "metadata": {
    "collapsed": false
   },
   "outputs": [],
   "source": [
    "n_users = pd.read_csv(\"./nosport_users_stats\")\n",
    "s_users = pd.read_csv(\"./sport_users_stats\")\n",
    "\n",
    "for df in [n_users, s_users]:\n",
    "    df.index = df['id']"
   ]
  },
  {
   "cell_type": "code",
   "execution_count": 5,
   "metadata": {
    "collapsed": false
   },
   "outputs": [
    {
     "data": {
      "text/plain": [
       "((1160, 7), (1160, 7))"
      ]
     },
     "execution_count": 5,
     "metadata": {},
     "output_type": "execute_result"
    }
   ],
   "source": [
    "s_users.shape, n_users.shape"
   ]
  },
  {
   "cell_type": "markdown",
   "metadata": {},
   "source": [
    "### Load matches"
   ]
  },
  {
   "cell_type": "markdown",
   "metadata": {},
   "source": [
    "Load matches file."
   ]
  },
  {
   "cell_type": "code",
   "execution_count": 6,
   "metadata": {
    "collapsed": false
   },
   "outputs": [],
   "source": [
    "matches = pd.read_csv(\"/data/1/sporty/users/classification/matches.txt\", header=None, names=['sport', 'nosport'])"
   ]
  },
  {
   "cell_type": "markdown",
   "metadata": {},
   "source": [
    "Some users have been matched twice to a sport users, we remove these duplicate entries here although we missed them in 2014."
   ]
  },
  {
   "cell_type": "code",
   "execution_count": 7,
   "metadata": {
    "collapsed": false
   },
   "outputs": [],
   "source": [
    "matches = matches.drop_duplicates(subset=['nosport'])\n",
    "n_users = n_users.drop_duplicates(subset=['id'])"
   ]
  },
  {
   "cell_type": "markdown",
   "metadata": {},
   "source": [
    "Align users' dataframes."
   ]
  },
  {
   "cell_type": "code",
   "execution_count": 8,
   "metadata": {
    "collapsed": false
   },
   "outputs": [],
   "source": [
    "s_users = s_users.loc[matches.sport.tolist()]\n",
    "s_users.index = np.arange(s_users.shape[0])\n",
    "n_users = n_users.loc[matches.nosport.tolist()]\n",
    "n_users.index = np.arange(n_users.shape[0])"
   ]
  },
  {
   "cell_type": "code",
   "execution_count": 9,
   "metadata": {
    "collapsed": false
   },
   "outputs": [
    {
     "data": {
      "text/plain": [
       "((1153, 7), (1153, 7))"
      ]
     },
     "execution_count": 9,
     "metadata": {},
     "output_type": "execute_result"
    }
   ],
   "source": [
    "s_users.shape, n_users.shape"
   ]
  },
  {
   "cell_type": "markdown",
   "metadata": {},
   "source": [
    "Remove users that are in both groups and their match that we missed last time."
   ]
  },
  {
   "cell_type": "code",
   "execution_count": 10,
   "metadata": {
    "collapsed": false
   },
   "outputs": [],
   "source": [
    "# find users in both groups\n",
    "both_groups = set(s_users['id']) & set(n_users['id'])\n",
    "\n",
    "# find lines with users in both groups\n",
    "s_idx_to_remove = s_users.id.where(s_users.id.apply(lambda _: _ in both_groups)).dropna().index.tolist()\n",
    "n_idx_to_remove = n_users.id.where(n_users.id.apply(lambda _: _ in both_groups)).dropna().index.tolist()\n",
    "idx_to_remove = s_idx_to_remove + n_idx_to_remove\n",
    "\n",
    "# remove lines from users' dataframes\n",
    "s_users = s_users.drop(idx_to_remove, axis=0)\n",
    "n_users = n_users.drop(idx_to_remove, axis=0)"
   ]
  },
  {
   "cell_type": "code",
   "execution_count": 11,
   "metadata": {
    "collapsed": false
   },
   "outputs": [
    {
     "data": {
      "text/plain": [
       "((1137, 7), (1137, 7))"
      ]
     },
     "execution_count": 11,
     "metadata": {},
     "output_type": "execute_result"
    }
   ],
   "source": [
    "s_users.shape, n_users.shape"
   ]
  },
  {
   "cell_type": "markdown",
   "metadata": {},
   "source": [
    "### Load tweets for each user "
   ]
  },
  {
   "cell_type": "markdown",
   "metadata": {},
   "source": [
    "For each user, load scraped tweets, without auto-generated tweets by physical applications, and removing retweets."
   ]
  },
  {
   "cell_type": "code",
   "execution_count": 12,
   "metadata": {
    "collapsed": true
   },
   "outputs": [],
   "source": [
    "def load_tweets(user_id, data_dir, remove_hash=None, keep_rt=False):\n",
    "    user_p = os.path.join(data_dir, user_id)\n",
    "    tweets = []\n",
    "    with open(user_p) as fd:\n",
    "        for l in fd:\n",
    "            o = json.loads(l)\n",
    "            # check for retweets\n",
    "            if not keep_rt and 'retweeted_status' in o:\n",
    "                keep_tw = False\n",
    "            else:\n",
    "                # check for hashtags to avoid\n",
    "                h = set([_['text'].lower() for _ in o['entities']['hashtags']])\n",
    "                keep_tw = remove_hash is None or not (h & set(remove_hash))\n",
    "            \n",
    "            if keep_tw:\n",
    "                tweets.append(o['text'])\n",
    "    return tweets\n",
    "    \n",
    "auto_hash = ['runkeeper', 'nikeplus', 'runtastic', 'endomondo', 'mapmyrun', 'strava', 'cyclemeter', 'fitstats', 'mapmyfitness', 'runmeter']\n",
    "\n",
    "def load_tweets_sport(user_id):\n",
    "    return load_tweets(user_id, \"/data/1/sporty/tweets/from_users/sport/\", remove_hash=auto_hash)\n",
    "    \n",
    "def load_tweets_nosport(user_id):\n",
    "    return load_tweets(user_id, \"/data/1/sporty/tweets/from_users/no_sport/\", remove_hash=auto_hash)"
   ]
  },
  {
   "cell_type": "code",
   "execution_count": 13,
   "metadata": {
    "collapsed": false
   },
   "outputs": [
    {
     "name": "stdout",
     "output_type": "stream",
     "text": [
      "\n",
      "\n"
     ]
    }
   ],
   "source": [
    "s_users['tweets'] = s_users.id.astype(str).progress_apply(load_tweets_sport)\n",
    "n_users['tweets'] = n_users.id.astype(str).progress_apply(load_tweets_nosport)"
   ]
  },
  {
   "cell_type": "code",
   "execution_count": 15,
   "metadata": {
    "collapsed": false
   },
   "outputs": [],
   "source": [
    "s_users['tweets_count'] = s_users.tweets.apply(len)\n",
    "n_users['tweets_count'] = n_users.tweets.apply(len)"
   ]
  },
  {
   "cell_type": "markdown",
   "metadata": {},
   "source": [
    "Drop users' (and their match) that have no remaining tweets."
   ]
  },
  {
   "cell_type": "code",
   "execution_count": 16,
   "metadata": {
    "collapsed": false
   },
   "outputs": [],
   "source": [
    "notweets_nidx = n_users.index[n_users.tweets_count == 0].tolist()\n",
    "notweets_sidx = s_users.index[s_users.tweets_count == 0].tolist()\n",
    "notweets_idx = notweets_nidx + notweets_sidx"
   ]
  },
  {
   "cell_type": "code",
   "execution_count": 17,
   "metadata": {
    "collapsed": false
   },
   "outputs": [],
   "source": [
    "s_users = s_users.drop(notweets_idx)\n",
    "n_users = n_users.drop(notweets_idx)"
   ]
  },
  {
   "cell_type": "markdown",
   "metadata": {},
   "source": [
    "## Mood annotated data"
   ]
  },
  {
   "cell_type": "code",
   "execution_count": 86,
   "metadata": {
    "collapsed": false
   },
   "outputs": [
    {
     "name": "stdout",
     "output_type": "stream",
     "text": [
      "\n"
     ]
    }
   ],
   "source": [
    "def load_labeled_mood(p):\n",
    "    tweets = []\n",
    "    with open(p) as fd:\n",
    "        for l in tqdm_notebook(fd):\n",
    "            o = json.loads(l)\n",
    "            tweets.append({k: o[k] for k in ['text', 'AH', 'DD', 'TA']})\n",
    "    return pd.DataFrame(tweets)\n",
    "\n",
    "mood_tweets_df = load_labeled_mood(\"/data/1/sporty/tweets/labeled/3K_labeled\")"
   ]
  },
  {
   "cell_type": "markdown",
   "metadata": {},
   "source": [
    "### Load LIWC lexicon"
   ]
  },
  {
   "cell_type": "code",
   "execution_count": 18,
   "metadata": {
    "code_folding": [
     9
    ],
    "collapsed": true
   },
   "outputs": [],
   "source": [
    "''' Data structure and utility functions for reading and querying a LIWC\n",
    "lexicon. Data described here:\n",
    "http://homepage.psy.utexas.edu/homepage/faculty/pennebaker/reprints/LIWC2001.pdf\n",
    "'''\n",
    "\n",
    "from collections import defaultdict\n",
    "import os\n",
    "\n",
    "\n",
    "class Lexicon(object):\n",
    "    \"\"\"\n",
    "    >>> import tempfile\n",
    "    >>> tf = tempfile.NamedTemporaryFile()\n",
    "    >>> tf.write(\"%\\\\n1\\\\tPronoun\\\\n2\\\\tI\\\\n3\\tGreet\\\\n%\\\\ni\\\\t01 02\\\\nhis\\\\t01\\\\nhi*\\t03\")\n",
    "    >>> tf.flush()\n",
    "    >>> d = Lexicon(tf.name)\n",
    "    >>> d.categories_for_tokens(['i', 'his'])\n",
    "    [[u'Pronoun', u'I'], [u'Pronoun']]\n",
    "    >>> d.categories_for_tokens(['his'])\n",
    "    [[u'Pronoun']]\n",
    "    >>> cts = d.counts_for_tokens(['i', 'his'])\n",
    "    >>> cts[u'I']\n",
    "    1\n",
    "    >>> cts[u'Pronoun']\n",
    "    2\n",
    "    >>> d.categories_for_tokens(['zebra'])\n",
    "    [[]]\n",
    "    >>> d.categories_for_tokens(['hithere'])\n",
    "    [[u'Greet']]\n",
    "    \"\"\"\n",
    "\n",
    "    def __init__(self, dict_file=None):\n",
    "        self.dict_file = dict_file\n",
    "        self.load_dictionary(dict_file)\n",
    "\n",
    "    def parse_categories(self, catText):\n",
    "        lines = catText.split(\"\\n\")\n",
    "        self.categories = {}\n",
    "        for line in lines:\n",
    "            if len(line) > 0:\n",
    "                key, val = line.split()\n",
    "                self.categories[str(key)] = str(val)\n",
    "\n",
    "    def parse_patterns(self, regExps):\n",
    "        lines = regExps.split(\"\\n\")\n",
    "        self.exact_patterns = {}\n",
    "        self.prefix_patterns = {}\n",
    "        for line in lines:\n",
    "            if len(line) > 0 and not line.startswith('//'):\n",
    "                vals = line.split()\n",
    "                exp = vals[0]\n",
    "                ids = [str(int(v)) for v in vals[1:]]\n",
    "                if '*' in exp:\n",
    "                    self.prefix_patterns[exp[:-1]] = ids\n",
    "                else:\n",
    "                    self.exact_patterns[exp] = ids\n",
    "\n",
    "    def load_dictionary(self, dict_file):\n",
    "        dict_text = open(dict_file).read()\n",
    "        as_list = dict_text.split(\"%\")\n",
    "        self.parse_categories(as_list[1])\n",
    "        self.parse_patterns(as_list[2])\n",
    "\n",
    "    def categories_for_token(self, word):\n",
    "        result = []\n",
    "        if word in self.exact_patterns:\n",
    "            result.extend(self.exact_patterns[word])\n",
    "        else:\n",
    "            for i in range(0, len(word)):\n",
    "                if word[:-i] in self.prefix_patterns:\n",
    "                    result.extend(self.prefix_patterns[word[:-i]])\n",
    "        return [self.categories[c] for c in result]\n",
    "\n",
    "    def categories_for_tokens(self, tokens):\n",
    "        \"\"\" Returns a list of lists. For each token, create a list of categories\n",
    "        it belongs to.\"\"\"\n",
    "        return [self.categories_for_token(token) for token in tokens]\n",
    "\n",
    "    def counts_for_tokens(self, tokens):\n",
    "        \"\"\" Returns a dict mapping categories to counts from this list of\n",
    "        tokens. \"\"\"\n",
    "        cats = self.categories_for_tokens(tokens)\n",
    "        d = defaultdict(lambda: 0)\n",
    "        for a in cats:\n",
    "            for b in a:\n",
    "                d[b] += 1\n",
    "        return d\n",
    "    \n",
    "lex = Lexicon(\"./liwc.dic\")"
   ]
  },
  {
   "cell_type": "markdown",
   "metadata": {},
   "source": [
    "###  Load emoticons "
   ]
  },
  {
   "cell_type": "code",
   "execution_count": 19,
   "metadata": {
    "collapsed": false
   },
   "outputs": [],
   "source": [
    "emoticon_df = pd.read_csv(\"emoticons\", sep=\" \", header=None, names=['tag', 'emoticon'], index_col=1)\n",
    "emoticon_dict = emoticon_df.to_dict(orient='dict')['tag']"
   ]
  },
  {
   "cell_type": "markdown",
   "metadata": {},
   "source": [
    "###  Build features encoding"
   ]
  },
  {
   "cell_type": "markdown",
   "metadata": {},
   "source": [
    "Build tokenizer"
   ]
  },
  {
   "cell_type": "code",
   "execution_count": 20,
   "metadata": {
    "collapsed": false
   },
   "outputs": [],
   "source": [
    "def tokenize(text, keep_hashtags=False, keep_mentions=True, keep_urls=True,\n",
    "             collapse_hashtags=True, collapse_mentions=True, collapse_urls=True, collapse_digits=True, \n",
    "             limit_repeats=True, bigrams=True, liwc=True):\n",
    "    punc = string.punctuation + \"—“\"\n",
    "    text = re.sub(\"\\s+\", \" \", text.lower())\n",
    "    if not keep_hashtags:\n",
    "        text = re.sub('#\\S+', '', text)\n",
    "    elif collapse_hashtags:\n",
    "        text = re.sub('#\\S+', 'HASHTAG', text)\n",
    "    else:\n",
    "        text = re.sub('#(\\S+)', r'HASHTAG_\\1', text)\n",
    "        \n",
    "    if not keep_mentions:\n",
    "        text = re.sub('@\\S+' , '', text)\n",
    "    elif collapse_mentions:\n",
    "        text = re.sub('@\\S+', 'MENTION', text)\n",
    "    \n",
    "    if not keep_urls:\n",
    "        text = re.sub('http\\S+', '', text)\n",
    "    elif collapse_urls:\n",
    "        text = re.sub('http\\S+', 'URL', text)\n",
    "    \n",
    "    if limit_repeats:\n",
    "        text = re.sub(r'(.)\\1\\1\\1+', r'\\1', text)\n",
    "    if collapse_digits:\n",
    "        text = re.sub(r'[0-9]+', 'NUMBER', text)\n",
    "    splits = text.split()\n",
    "    \n",
    "    punc_tokens = []\n",
    "    word_tokens = []\n",
    "    liwc_tokens = []\n",
    "    for tok in splits:\n",
    "        if tok in emoticon_dict:\n",
    "            word_tokens.append(emoticon_dict[tok])\n",
    "        elif keep_mentions and tok[0] == '@':\n",
    "            word_tokens.append(tok)\n",
    "        else:\n",
    "            tok = tok.strip(punc)\n",
    "            if tok:\n",
    "                word_tokens.append(tok)\n",
    "        if liwc:\n",
    "            liwc_tokens.extend([\"LIWC_\" + _ for _ in lex.categories_for_token(tok)])\n",
    "    \n",
    "    liwc_tokens = list(set(liwc_tokens))\n",
    "    bigram_tokens = [\"_\".join(_) for _ in zip(word_tokens, word_tokens[1:])] if bigrams else []\n",
    "    \n",
    "    return word_tokens + bigram_tokens + liwc_tokens"
   ]
  },
  {
   "cell_type": "markdown",
   "metadata": {},
   "source": [
    "### Build classifier for each dimension"
   ]
  },
  {
   "cell_type": "markdown",
   "metadata": {},
   "source": [
    "Apply to 3 mood dimensions."
   ]
  },
  {
   "cell_type": "code",
   "execution_count": 797,
   "metadata": {
    "collapsed": false
   },
   "outputs": [],
   "source": [
    "moods = ['AH', 'DD', 'TA']\n",
    "vecs = {}\n",
    "kbests = {}\n",
    "plines = {}\n",
    "Xs = {}\n",
    "clfs = {}\n",
    "features = {}\n",
    "top_features = {}\n",
    "n_features = 'all'\n",
    "\n",
    "for m in tqdm_notebook(moods):\n",
    "    # build pipeline\n",
    "    vecs[m] = TfidfVectorizer(tokenizer=tokenize, min_df=2, binary=True)\n",
    "    kbests[m] = SelectKBest(chi2, n_features)\n",
    "    plines[m] = pipeline = Pipeline([('tfidf', vecs[m]), ('chi2', kbests[m])])\n",
    "    \n",
    "    # build doc term matrix\n",
    "    y = mood_tweets_df[m]\n",
    "    Xs[m] = plines[m].fit_transform(mood_tweets_df.text, y)\n",
    "    # get labels\n",
    "\n",
    "    # train classifier\n",
    "    clfs[m] = LogisticRegression(class_weight='balanced')\n",
    "    clfs[m].fit(Xs[m],y)\n",
    "    \n",
    "    # retrieve features\n",
    "    support = kbests[m].get_support()\n",
    "    features[m] = np.array(vecs[m].get_feature_names())[support]\n",
    "    top_features[m] = [(features[m][i], clfs[m].coef_[0][i]) for i in clfs[m].coef_[0].argsort()[::-1]]"
   ]
  },
  {
   "cell_type": "markdown",
   "metadata": {},
   "source": [
    "###  Top features for each dimension"
   ]
  },
  {
   "cell_type": "code",
   "execution_count": 800,
   "metadata": {
    "collapsed": false,
    "scrolled": true
   },
   "outputs": [
    {
     "name": "stdout",
     "output_type": "stream",
     "text": [
      "Top features for AH\n",
      "    0. LIWC_Anger..............................4.666\n",
      "    1. hate....................................3.326\n",
      "    2. LIWC_Swear..............................3.254\n",
      "    3. dumb....................................3.114\n",
      "    4. your....................................2.797\n",
      "    5. upset...................................2.745\n",
      "    6. fuck....................................2.419\n",
      "    7. LIWC_Negemo.............................2.386\n",
      "    8. rude....................................2.295\n",
      "    9. bitch...................................2.291\n",
      "   10. irritated...............................2.283\n",
      "   11. shit....................................2.113\n",
      "   12. shut....................................2.105\n",
      "   13. fucking.................................2.016\n",
      "   14. ignorant................................1.865\n",
      "   15. why.....................................1.763\n",
      "   16. stupid..................................1.703\n",
      "   17. being...................................1.698\n",
      "   18. freakin.................................1.672\n",
      "   19. lame....................................1.667\n",
      "----------------------------------------------------------------------------------------------------\n",
      "Top features for DD\n",
      "    0. LIWC_Sad................................4.472\n",
      "    1. LIWC_Sleep..............................3.387\n",
      "    2. LIWC_Negemo.............................3.026\n",
      "    3. bored...................................2.493\n",
      "    4. weak....................................2.318\n",
      "    5. sick....................................2.120\n",
      "    6. LIWC_I..................................2.119\n",
      "    7. tired...................................2.078\n",
      "    8. being...................................1.998\n",
      "    9. day.....................................1.974\n",
      "   10. i'm.....................................1.900\n",
      "   11. i.......................................1.824\n",
      "   12. lazy....................................1.812\n",
      "   13. sleepy..................................1.767\n",
      "   14. exhausted...............................1.714\n",
      "   15. LIWC_Self...............................1.673\n",
      "   16. depressing..............................1.643\n",
      "   17. annoying................................1.639\n",
      "   18. boring..................................1.627\n",
      "   19. im......................................1.603\n",
      "----------------------------------------------------------------------------------------------------\n",
      "Top features for TA\n",
      "    0. LIWC_Anger..............................3.383\n",
      "    1. fuck....................................2.532\n",
      "    2. nervous.................................2.342\n",
      "    3. LIWC_Negemo.............................2.285\n",
      "    4. rude....................................2.261\n",
      "    5. LIWC_Swear..............................2.025\n",
      "    6. lame....................................1.963\n",
      "    7. gross...................................1.891\n",
      "    8. being...................................1.844\n",
      "    9. gonna...................................1.799\n",
      "   10. so......................................1.784\n",
      "   11. LIWC_Anx................................1.777\n",
      "   12. upset...................................1.773\n",
      "   13. shut....................................1.752\n",
      "   14. irritated...............................1.684\n",
      "   15. this_is.................................1.636\n",
      "   16. LIWC_Negate.............................1.590\n",
      "   17. your....................................1.545\n",
      "   18. me......................................1.529\n",
      "   19. shit....................................1.484\n",
      "----------------------------------------------------------------------------------------------------\n"
     ]
    }
   ],
   "source": [
    "for m in moods:\n",
    "    print(\"Top features for\", m)\n",
    "    for i, (w,c) in enumerate(top_features[m][:20]):\n",
    "        print(\"{:>5}. {:.<40}{:>4}\".format(i, w, \"%.3f\" % c))\n",
    "    print('-'*100)"
   ]
  },
  {
   "cell_type": "markdown",
   "metadata": {},
   "source": [
    "### Cross validation"
   ]
  },
  {
   "cell_type": "code",
   "execution_count": 21,
   "metadata": {
    "collapsed": false,
    "scrolled": false
   },
   "outputs": [],
   "source": [
    "def cv(data, n_folds=10):\n",
    "    results = {}\n",
    "\n",
    "    for m in tqdm_notebook(moods):\n",
    "        y_probs = []\n",
    "        y_preds = []\n",
    "        y_trues = []\n",
    "        for tr, te in tqdm_notebook(KFold(data.shape[0], n_folds, shuffle=True, random_state=123456)):\n",
    "            data_tr, data_te = data.iloc[tr], data.iloc[te]\n",
    "            y_tr, y_te = data_tr[m], data_te[m]\n",
    "            X_tr = plines[m].fit_transform(data_tr.text, y_tr)\n",
    "\n",
    "            X_te = plines[m].transform(data_te.text)\n",
    "\n",
    "            clf = LogisticRegression(class_weight='balanced')\n",
    "            clf.fit(X_tr, y_tr)\n",
    "            y_prob = clf.predict_proba(X_te)[:,1]\n",
    "            y_pred = clf.predict(X_te)\n",
    "\n",
    "            y_trues.extend(y_te)\n",
    "            y_preds.extend(y_pred)\n",
    "            y_probs.extend(y_prob)\n",
    "    \n",
    "        results[m] = {'y_true': y_trues, 'y_pred': y_preds, 'y_prob': y_probs}\n",
    "    return results"
   ]
  },
  {
   "cell_type": "code",
   "execution_count": 802,
   "metadata": {
    "collapsed": false
   },
   "outputs": [],
   "source": [
    "results_cv = cv(mood_tweets_df, 10)"
   ]
  },
  {
   "cell_type": "markdown",
   "metadata": {},
   "source": [
    "ROC curves for each dimension."
   ]
  },
  {
   "cell_type": "code",
   "execution_count": 22,
   "metadata": {
    "collapsed": false
   },
   "outputs": [
    {
     "ename": "NameError",
     "evalue": "name 'results_cv' is not defined",
     "output_type": "error",
     "traceback": [
      "\u001b[0;31m\u001b[0m",
      "\u001b[0;31mNameError\u001b[0mTraceback (most recent call last)",
      "\u001b[0;32m<ipython-input-22-c4bfa359d2f5>\u001b[0m in \u001b[0;36m<module>\u001b[0;34m()\u001b[0m\n\u001b[1;32m     13\u001b[0m     \u001b[0max\u001b[0m\u001b[0;34m.\u001b[0m\u001b[0mplot\u001b[0m\u001b[0;34m(\u001b[0m\u001b[0;34m[\u001b[0m\u001b[0;36m0\u001b[0m\u001b[0;34m,\u001b[0m\u001b[0;36m1\u001b[0m\u001b[0;34m]\u001b[0m\u001b[0;34m,\u001b[0m\u001b[0;34m[\u001b[0m\u001b[0;36m0\u001b[0m\u001b[0;34m,\u001b[0m\u001b[0;36m1\u001b[0m\u001b[0;34m]\u001b[0m\u001b[0;34m,\u001b[0m \u001b[0mcolor\u001b[0m\u001b[0;34m=\u001b[0m\u001b[0;34m'k'\u001b[0m\u001b[0;34m,\u001b[0m \u001b[0mlinestyle\u001b[0m\u001b[0;34m=\u001b[0m\u001b[0;34m'--'\u001b[0m\u001b[0;34m,\u001b[0m \u001b[0mlinewidth\u001b[0m\u001b[0;34m=\u001b[0m\u001b[0;36m0.5\u001b[0m\u001b[0;34m)\u001b[0m\u001b[0;34m\u001b[0m\u001b[0m\n\u001b[1;32m     14\u001b[0m \u001b[0;34m\u001b[0m\u001b[0m\n\u001b[0;32m---> 15\u001b[0;31m \u001b[0mroc_curves\u001b[0m\u001b[0;34m(\u001b[0m\u001b[0mresults_cv\u001b[0m\u001b[0;34m)\u001b[0m\u001b[0;34m\u001b[0m\u001b[0m\n\u001b[0m",
      "\u001b[0;31mNameError\u001b[0m: name 'results_cv' is not defined"
     ]
    }
   ],
   "source": [
    "def roc_curves(results):\n",
    "    fig, ax = plt.subplots(figsize=(8,6))\n",
    "    colors = ['r','g','b']\n",
    "    for m, c in zip(moods,colors):\n",
    "        fpr, tpr, thresh = metrics.roc_curve(results[m]['y_true'], results[m]['y_prob'], drop_intermediate=True)\n",
    "        ax.plot(fpr, tpr, label=m, color=c, alpha=0.7)\n",
    "        ax.plot(fpr, thresh, label=m + \" threshold\", linestyle='-.', color=c)\n",
    "        plt.legend(loc=4)\n",
    "        print(\"%s ROC AUC: %.3f\" % (m, metrics.roc_auc_score(results[m]['y_true'], results[m]['y_prob'])))\n",
    "    ax.set_ylim([0,1])\n",
    "    ax.set_xlabel(\"fpr\")\n",
    "    ax.set_ylabel(\"tpr\")\n",
    "    ax.plot([0,1],[0,1], color='k', linestyle='--', linewidth=0.5)\n",
    "        \n",
    "roc_curves(results_cv)"
   ]
  },
  {
   "cell_type": "markdown",
   "metadata": {},
   "source": [
    "Precision recall curve for each dimension."
   ]
  },
  {
   "cell_type": "code",
   "execution_count": 829,
   "metadata": {
    "collapsed": false
   },
   "outputs": [
    {
     "data": {
      "image/png": "[encoded data removed]",
      "text/plain": [
       "<matplotlib.figure.Figure at 0x7f4f685882b0>"
      ]
     },
     "metadata": {},
     "output_type": "display_data"
    }
   ],
   "source": [
    "def prec_rec_curves(results):\n",
    "    fig, ax = plt.subplots(figsize=(8,6))\n",
    "    colors = ['r','g','b']\n",
    "    for m, c in zip(moods,colors):\n",
    "        prec, rec, thresh = metrics.precision_recall_curve(results[m]['y_true'], results[m]['y_prob'], pos_label=1)\n",
    "        thresh = np.hstack([thresh, [1]])\n",
    "        ax.plot(rec, prec, label=m, color=c, alpha=0.7)\n",
    "        ax.plot(rec, thresh, label=m + \" threshold\", linestyle='-.', color=c)\n",
    "        plt.legend(loc=7)\n",
    "    ax.set_ylim([0,1])\n",
    "    ax.set_xlabel('rec')\n",
    "    ax.set_ylabel('prec')\n",
    "        \n",
    "prec_rec_curves(results_cv)"
   ]
  },
  {
   "cell_type": "markdown",
   "metadata": {},
   "source": [
    "Pick threshold for best precision (tp/(tp+fp)), minimize false positives."
   ]
  },
  {
   "cell_type": "code",
   "execution_count": 809,
   "metadata": {
    "collapsed": false
   },
   "outputs": [
    {
     "name": "stdout",
     "output_type": "stream",
     "text": [
      "AH\n",
      "341\n",
      "             precision    recall  f1-score   support\n",
      "\n",
      "          0       0.96      0.91      0.93      2138\n",
      "          1       0.40      0.60      0.48       229\n",
      "\n",
      "avg / total       0.90      0.88      0.89      2367\n",
      "\n",
      "DD\n",
      "546\n",
      "             precision    recall  f1-score   support\n",
      "\n",
      "          0       0.93      0.85      0.89      1998\n",
      "          1       0.44      0.64      0.52       369\n",
      "\n",
      "avg / total       0.85      0.81      0.83      2367\n",
      "\n",
      "TA\n",
      "555\n",
      "             precision    recall  f1-score   support\n",
      "\n",
      "          0       0.92      0.84      0.88      1986\n",
      "          1       0.42      0.61      0.50       381\n",
      "\n",
      "avg / total       0.84      0.80      0.82      2367\n",
      "\n"
     ]
    }
   ],
   "source": [
    "thresholds = {'AH': .5, 'DD': .5, 'TA': .5}\n",
    "# thresholds = {'AH': .1, 'DD': .22, 'TA': .18}\n",
    "# thresholds = {'AH': .6, 'DD': .6, 'TA': .6}\n",
    "# thresholds = {'AH': .99, 'DD': .99, 'TA': .99}\n",
    "\n",
    "for m in moods:\n",
    "    print(m)\n",
    "    t = thresholds[m]\n",
    "    y_pred_thresh = (np.array(results_cv[m]['y_prob']) > t).astype(int)\n",
    "    print(y_pred_thresh.sum())\n",
    "    print(metrics.classification_report(results_cv[m]['y_true'], y_pred_thresh))"
   ]
  },
  {
   "cell_type": "markdown",
   "metadata": {},
   "source": [
    "## Annotate users from treatment and control groups."
   ]
  },
  {
   "cell_type": "markdown",
   "metadata": {},
   "source": [
    "Train classifiers on the all the annotated instances."
   ]
  },
  {
   "cell_type": "code",
   "execution_count": 810,
   "metadata": {
    "collapsed": false
   },
   "outputs": [],
   "source": [
    "moods = ['AH', 'DD', 'TA']\n",
    "vecs = {}\n",
    "kbests = {}\n",
    "plines = {}\n",
    "Xs = {}\n",
    "clfs = {}\n",
    "features = {}\n",
    "top_features = {}\n",
    "n_features = 160\n",
    "\n",
    "for m in tqdm_notebook(moods):\n",
    "    # build pipeline\n",
    "    vecs[m] = TfidfVectorizer(tokenizer=tokenize, min_df=3, max_df=0.95)\n",
    "    kbests[m] = SelectKBest(chi2, n_features)\n",
    "    plines[m] = pipeline = Pipeline([('tfidf', vecs[m]), ('chi2', kbests[m])])\n",
    "    \n",
    "    # build doc term matrix\n",
    "    y = mood_tweets_df[m]\n",
    "    Xs[m] = plines[m].fit_transform(mood_tweets_df.text, y)\n",
    "    # get labels\n",
    "\n",
    "    # train classifier\n",
    "    clfs[m] = LogisticRegression(class_weight='balanced')\n",
    "    clfs[m].fit(Xs[m],y)\n",
    "    \n",
    "    # retrieve features\n",
    "    support = kbests[m].get_support()\n",
    "    features[m] = np.array(vecs[m].get_feature_names())[support]\n",
    "    top_features[m] = [(features[m][i], clfs[m].coef_[0][i]) for i in clfs[m].coef_[0].argsort()[::-1]]"
   ]
  },
  {
   "cell_type": "markdown",
   "metadata": {},
   "source": [
    "Build termdoc matrix for each user."
   ]
  },
  {
   "cell_type": "code",
   "execution_count": 811,
   "metadata": {
    "collapsed": false
   },
   "outputs": [],
   "source": [
    "for m in tqdm_notebook(moods):\n",
    "    f = lambda _: plines[m].transform(_)\n",
    "    n_users['termdoc_' + m] = n_users.tweets.progress_apply(f)\n",
    "    s_users['termdoc_' + m] = s_users.tweets.progress_apply(f)"
   ]
  },
  {
   "cell_type": "markdown",
   "metadata": {},
   "source": [
    "Scale termdoc matrix and compute probability of each class for each user."
   ]
  },
  {
   "cell_type": "code",
   "execution_count": 812,
   "metadata": {
    "collapsed": false
   },
   "outputs": [],
   "source": [
    "for m in tqdm_notebook(moods):\n",
    "    f = lambda _: clfs[m].predict_proba(_)\n",
    "    n_users['prob_' + m] = n_users['termdoc_' + m].progress_apply(f)\n",
    "    s_users['prob_' + m] = s_users['termdoc_' + m].progress_apply(f)    "
   ]
  },
  {
   "cell_type": "markdown",
   "metadata": {},
   "source": [
    "Compute average score for each user."
   ]
  },
  {
   "cell_type": "code",
   "execution_count": 813,
   "metadata": {
    "collapsed": false
   },
   "outputs": [],
   "source": [
    "f = lambda _: np.mean(_[:,1])\n",
    "\n",
    "for m in tqdm_notebook(moods):\n",
    "    n_users['avg_prob_' + m] = n_users['prob_' + m].apply(f)\n",
    "    s_users['avg_prob_' + m] = s_users['prob_' + m].apply(f)"
   ]
  },
  {
   "cell_type": "code",
   "execution_count": 827,
   "metadata": {
    "collapsed": false
   },
   "outputs": [
    {
     "data": {
      "text/plain": [
       "<matplotlib.axes._subplots.AxesSubplot at 0x7f4f749fc8d0>"
      ]
     },
     "execution_count": 827,
     "metadata": {},
     "output_type": "execute_result"
    },
    {
     "data": {
      "image/png": "[encoded data removed]",
      "text/plain": [
       "<matplotlib.figure.Figure at 0x7f4f68613c88>"
      ]
     },
     "metadata": {},
     "output_type": "display_data"
    }
   ],
   "source": [
    "compare_avg_df = pd.DataFrame()\n",
    "for m in moods:\n",
    "    compare_avg_df['match_' + m] = n_users['avg_prob_' + m]\n",
    "    compare_avg_df['sport_' + m] = s_users['avg_prob_' + m]\n",
    "#     compare_avg_df['diff_' + m] = n_users['avg_prob_' + m] - s_users['avg_prob_' + m]\n",
    "    \n",
    "compare_avg_df.plot(kind='box', figsize=(8,6))#, ylim=[-0.1,.22])"
   ]
  },
  {
   "cell_type": "markdown",
   "metadata": {},
   "source": [
    "Percent change"
   ]
  },
  {
   "cell_type": "code",
   "execution_count": 819,
   "metadata": {
    "collapsed": false
   },
   "outputs": [
    {
     "name": "stdout",
     "output_type": "stream",
     "text": [
      "Dimension AH: -6.48% Change, p-value = 1.76e-22\n",
      "Dimension DD: -3.64% Change, p-value = 4.84e-06\n",
      "Dimension TA: -7.05% Change, p-value = 3.29e-16\n"
     ]
    }
   ],
   "source": [
    "def perc_change(before, after):\n",
    "    return 100 * (after - before) / before\n",
    "\n",
    "for m in moods:\n",
    "    before = n_users['avg_prob_' + m].mean()\n",
    "    after = s_users['avg_prob_' + m].mean()\n",
    "    w, p = wilcoxon(n_users['avg_prob_' + m], s_users['avg_prob_' + m])\n",
    "    print(\"Dimension {}: {}% Change, p-value = {}\".format(m, \"%.2f\" % perc_change(before, after), \"%.3g\" % p))"
   ]
  },
  {
   "cell_type": "markdown",
   "metadata": {},
   "source": [
    "Compute prediction for each tweets for each user given a threshold for each dimension."
   ]
  },
  {
   "cell_type": "code",
   "execution_count": 820,
   "metadata": {
    "collapsed": false
   },
   "outputs": [],
   "source": [
    "thresholds = {'AH': .5, 'DD': .5, 'TA': .5}\n",
    "\n",
    "for m in tqdm_notebook(moods):\n",
    "    t = thresholds[m]\n",
    "    f = lambda _: (_[:, 1] > t).astype(int)\n",
    "    n_users['pred_' + m] = n_users['prob_' + m].apply(f)\n",
    "    s_users['pred_' + m] = s_users['prob_' + m].apply(f)"
   ]
  },
  {
   "cell_type": "markdown",
   "metadata": {},
   "source": [
    "Compute ratio of positive tweets for each dimension and each user."
   ]
  },
  {
   "cell_type": "code",
   "execution_count": 822,
   "metadata": {
    "collapsed": false
   },
   "outputs": [],
   "source": [
    "f = lambda _: np.sum(_)/np.shape(_)[0]\n",
    "for m in tqdm_notebook(moods):\n",
    "    n_users['ratio_pos_' + m] = n_users['pred_' + m].apply(f)\n",
    "    s_users['ratio_pos_' + m] = s_users['pred_' + m].apply(f)    "
   ]
  },
  {
   "cell_type": "code",
   "execution_count": 826,
   "metadata": {
    "collapsed": false
   },
   "outputs": [
    {
     "data": {
      "text/plain": [
       "<matplotlib.axes._subplots.AxesSubplot at 0x7f4f68b4f898>"
      ]
     },
     "execution_count": 826,
     "metadata": {},
     "output_type": "execute_result"
    },
    {
     "data": {
      "image/png": "[encoded data removed]",
      "text/plain": [
       "<matplotlib.figure.Figure at 0x7f4f749fc550>"
      ]
     },
     "metadata": {},
     "output_type": "display_data"
    }
   ],
   "source": [
    "compare_ratio_df = pd.DataFrame()\n",
    "for m in moods:\n",
    "    compare_ratio_df['match_' + m] = n_users['ratio_pos_' + m]\n",
    "    compare_ratio_df['sport_' + m] = s_users['ratio_pos_' + m]\n",
    "#     compare_ratio_df['diff_' + m] = n_users['ratio_pos_' + m] - s_users['ratio_pos_' + m]\n",
    "    \n",
    "compare_ratio_df.plot(kind='box', figsize=(8,6), ylim=[0,.2])"
   ]
  },
  {
   "cell_type": "markdown",
   "metadata": {
    "collapsed": true
   },
   "source": [
    "# Topic analysis "
   ]
  },
  {
   "cell_type": "markdown",
   "metadata": {},
   "source": [
    "## Clustering helpers"
   ]
  },
  {
   "cell_type": "code",
   "execution_count": 23,
   "metadata": {
    "collapsed": false
   },
   "outputs": [],
   "source": [
    "def kmeans_top_fts(kmeans, X, feature_names, n_top_features):\n",
    "    df = pd.DataFrame()\n",
    "    X_sum = X.sum(axis=0).A1\n",
    "    for cl_i in range(kmeans.n_clusters):\n",
    "        in_cluster_i = np.where(kmeans.labels_ == cl_i)\n",
    "        X_sum_i = X[in_cluster_i].sum(axis=0).A1\n",
    "        top_fts_idx = np.argsort(X_sum_i)[::-1]\n",
    "        df['cluster_%d' % (cl_i + 1)] = feature_names[top_fts_idx][:n_top_features]\n",
    "    \n",
    "    return df"
   ]
  },
  {
   "cell_type": "code",
   "execution_count": 24,
   "metadata": {
    "collapsed": true
   },
   "outputs": [],
   "source": [
    "def cluster_users_tweets(users, col='tweets', n_clusters=10, max_iter=10, n_words=50, seed=123456, stop_words='english',\n",
    "                         tokenize_kwargs=dict(keep_hashtags=True, collapse_hashtags=False, keep_mentions=False, keep_urls=False, bigrams=False, liwc=False)):\n",
    "    t0 = time.time()\n",
    "    print(\"Vectorize data...\")\n",
    "    vec = TfidfVectorizer(analyzer='word', tokenizer=lambda _: tokenize(_, **tokenize_kwargs),\n",
    "                          binary=True, min_df=3, max_df=.95, max_features=50000, stop_words=stop_words)\n",
    "    col_obj = users[col] if type(col) is str else col\n",
    "    X = vec.fit_transform(col_obj.apply(lambda _: \" \".join(_)))\n",
    "    t1 = time.time()\n",
    "    print(\"Done in %.2fs.\" % (t1-t0))\n",
    "    feature_names = np.array(vec.get_feature_names())\n",
    "    print(\"%d features.\" % len(feature_names))\n",
    "    print(\"Run KMeans clustering...\")\n",
    "    kmeans = KMeans(n_clusters=n_clusters, max_iter=max_iter, random_state=seed)\n",
    "    kmeans.fit(X)\n",
    "    t2 = time.time()\n",
    "    print(\"Done in %.2fs.\" % (t2-t1))\n",
    "    \n",
    "    return vec, feature_names, X, kmeans, kmeans_top_fts(kmeans, X, feature_names, n_words)"
   ]
  },
  {
   "cell_type": "markdown",
   "metadata": {},
   "source": [
    "## Load food-related datasets"
   ]
  },
  {
   "cell_type": "markdown",
   "metadata": {},
   "source": [
    "### FooDB dataset"
   ]
  },
  {
   "cell_type": "code",
   "execution_count": 25,
   "metadata": {
    "collapsed": false
   },
   "outputs": [],
   "source": [
    "foodb_foods = pd.read_csv(\"foodb_2016-11-18/foods.csv\", escapechar=\"\\\\\")\n",
    "foodb_foods = foodb_foods[foodb_foods.food_group != 'Animal foods']\n",
    "colors = set(['blue', 'red', 'green', 'yellow', 'orange', 'white', 'black'])\n",
    "food_parts = foodb_foods.name.str.lower()\\\n",
    "                        .apply(lambda _: re.sub(r'[%s]' % re.escape(string.punctuation), \"\", _).split())\\\n",
    "                        .apply(lambda _: \"_\".join([x for x in _ if x not in colors]))"
   ]
  },
  {
   "cell_type": "code",
   "execution_count": 26,
   "metadata": {
    "collapsed": false
   },
   "outputs": [],
   "source": [
    "foodb_flavors = pd.read_csv(\"foodb_2016-11-18/flavors.csv\")\n",
    "flavor_parts = foodb_flavors.name.str.lower()\\\n",
    "                        .apply(lambda _: re.sub(r'[%s]' % re.escape(string.punctuation), \"\", _).split())\\\n",
    "                        .apply(lambda _: \"_\".join([x for x in _ if x not in colors]))"
   ]
  },
  {
   "cell_type": "code",
   "execution_count": 27,
   "metadata": {
    "collapsed": false
   },
   "outputs": [],
   "source": [
    "foodb_words = set(food_parts)# | set(flavor_parts.unique())"
   ]
  },
  {
   "cell_type": "markdown",
   "metadata": {},
   "source": [
    "### Filter using FooDB keywords and keywords from Weber's paper"
   ]
  },
  {
   "cell_type": "code",
   "execution_count": 28,
   "metadata": {
    "code_folding": [],
    "collapsed": false
   },
   "outputs": [],
   "source": [
    "def load_weber_lexicon(p):\n",
    "    line_sep = \"===\"\n",
    "    add_to_df = False\n",
    "    collected = []\n",
    "    with open(p) as fd:\n",
    "        for l in fd:\n",
    "            l = l.strip()\n",
    "            if l:\n",
    "                if l.startswith(line_sep):\n",
    "                    add_to_df = not add_to_df\n",
    "                    continue\n",
    "                if add_to_df:\n",
    "                    collected.append(l.strip().split('\\t'))\n",
    "    df = pd.DataFrame(collected, columns=['food_name', 'avg_cal_per_serving', 'food_cat'])\n",
    "    df['food_name'] = df.food_name.apply(lambda _: \"_\".join(_.split()))\n",
    "    df.avg_cal_per_serving.astype(float, inplace=True)\n",
    "    return df\n",
    "\n",
    "weber_lexicon = set(load_weber_lexicon(\"./twitter_food_calorie_lexicon.txt\").food_name)\n",
    "weber_df = load_weber_lexicon(\"./twitter_food_calorie_lexicon.txt\")"
   ]
  },
  {
   "cell_type": "code",
   "execution_count": 29,
   "metadata": {
    "collapsed": false
   },
   "outputs": [
    {
     "data": {
      "text/html": [
       "<div>\n",
       "<table border=\"1\" class=\"dataframe\">\n",
       "  <thead>\n",
       "    <tr style=\"text-align: right;\">\n",
       "      <th></th>\n",
       "      <th>food_name</th>\n",
       "      <th>avg_cal_per_serving</th>\n",
       "      <th>food_cat</th>\n",
       "    </tr>\n",
       "  </thead>\n",
       "  <tbody>\n",
       "    <tr>\n",
       "      <th>0</th>\n",
       "      <td>pizza</td>\n",
       "      <td>477.8</td>\n",
       "      <td>Fast Foods</td>\n",
       "    </tr>\n",
       "    <tr>\n",
       "      <th>1</th>\n",
       "      <td>tea</td>\n",
       "      <td>16.84</td>\n",
       "      <td>Beverages</td>\n",
       "    </tr>\n",
       "    <tr>\n",
       "      <th>2</th>\n",
       "      <td>coffee</td>\n",
       "      <td>34.4</td>\n",
       "      <td>Beverages</td>\n",
       "    </tr>\n",
       "    <tr>\n",
       "      <th>3</th>\n",
       "      <td>ice_cream</td>\n",
       "      <td>157.24</td>\n",
       "      <td>Dairy</td>\n",
       "    </tr>\n",
       "    <tr>\n",
       "      <th>4</th>\n",
       "      <td>icecream</td>\n",
       "      <td>157.24</td>\n",
       "      <td>Dairy</td>\n",
       "    </tr>\n",
       "    <tr>\n",
       "      <th>5</th>\n",
       "      <td>sour_cream</td>\n",
       "      <td>67.24</td>\n",
       "      <td>Dairy</td>\n",
       "    </tr>\n",
       "    <tr>\n",
       "      <th>6</th>\n",
       "      <td>chicken</td>\n",
       "      <td>488.12</td>\n",
       "      <td>Poultry</td>\n",
       "    </tr>\n",
       "    <tr>\n",
       "      <th>7</th>\n",
       "      <td>cheese</td>\n",
       "      <td>176.64</td>\n",
       "      <td>Dairy</td>\n",
       "    </tr>\n",
       "    <tr>\n",
       "      <th>8</th>\n",
       "      <td>cola</td>\n",
       "      <td>65.84</td>\n",
       "      <td>Beverages</td>\n",
       "    </tr>\n",
       "    <tr>\n",
       "      <th>9</th>\n",
       "      <td>egg</td>\n",
       "      <td>147.76</td>\n",
       "      <td>Dairy</td>\n",
       "    </tr>\n",
       "    <tr>\n",
       "      <th>10</th>\n",
       "      <td>ham</td>\n",
       "      <td>128.2</td>\n",
       "      <td>Meats</td>\n",
       "    </tr>\n",
       "    <tr>\n",
       "      <th>11</th>\n",
       "      <td>tart</td>\n",
       "      <td>292.08</td>\n",
       "      <td>Sweets</td>\n",
       "    </tr>\n",
       "    <tr>\n",
       "      <th>12</th>\n",
       "      <td>wine</td>\n",
       "      <td>76.52</td>\n",
       "      <td>Alcoholic Beverages</td>\n",
       "    </tr>\n",
       "    <tr>\n",
       "      <th>13</th>\n",
       "      <td>beer</td>\n",
       "      <td>119.24</td>\n",
       "      <td>Alcoholic Beverages</td>\n",
       "    </tr>\n",
       "    <tr>\n",
       "      <th>14</th>\n",
       "      <td>corn</td>\n",
       "      <td>168.72</td>\n",
       "      <td>Cereal Grains and Pasta</td>\n",
       "    </tr>\n",
       "    <tr>\n",
       "      <th>15</th>\n",
       "      <td>rice</td>\n",
       "      <td>159.16</td>\n",
       "      <td>Cereal Grains and Pasta</td>\n",
       "    </tr>\n",
       "    <tr>\n",
       "      <th>16</th>\n",
       "      <td>bacon</td>\n",
       "      <td>121.8</td>\n",
       "      <td>Meats</td>\n",
       "    </tr>\n",
       "    <tr>\n",
       "      <th>17</th>\n",
       "      <td>soup</td>\n",
       "      <td>117.6</td>\n",
       "      <td>Soups</td>\n",
       "    </tr>\n",
       "    <tr>\n",
       "      <th>18</th>\n",
       "      <td>milk</td>\n",
       "      <td>198.56</td>\n",
       "      <td>Dairy</td>\n",
       "    </tr>\n",
       "    <tr>\n",
       "      <th>19</th>\n",
       "      <td>rib</td>\n",
       "      <td>383.84</td>\n",
       "      <td>Meats</td>\n",
       "    </tr>\n",
       "    <tr>\n",
       "      <th>20</th>\n",
       "      <td>pea</td>\n",
       "      <td>65.36</td>\n",
       "      <td>Vegetables</td>\n",
       "    </tr>\n",
       "    <tr>\n",
       "      <th>21</th>\n",
       "      <td>snack</td>\n",
       "      <td>132.88</td>\n",
       "      <td>Snacks</td>\n",
       "    </tr>\n",
       "    <tr>\n",
       "      <th>22</th>\n",
       "      <td>sauce</td>\n",
       "      <td>62.12</td>\n",
       "      <td>Soups</td>\n",
       "    </tr>\n",
       "    <tr>\n",
       "      <th>23</th>\n",
       "      <td>cereal</td>\n",
       "      <td>152.4</td>\n",
       "      <td>Breakfast Cereals</td>\n",
       "    </tr>\n",
       "    <tr>\n",
       "      <th>24</th>\n",
       "      <td>banana</td>\n",
       "      <td>101.869</td>\n",
       "      <td>Fruits</td>\n",
       "    </tr>\n",
       "    <tr>\n",
       "      <th>25</th>\n",
       "      <td>cookie</td>\n",
       "      <td>215.88</td>\n",
       "      <td>Sweets</td>\n",
       "    </tr>\n",
       "    <tr>\n",
       "      <th>26</th>\n",
       "      <td>meat</td>\n",
       "      <td>194.08</td>\n",
       "      <td>Meats</td>\n",
       "    </tr>\n",
       "    <tr>\n",
       "      <th>27</th>\n",
       "      <td>fish</td>\n",
       "      <td>230.68</td>\n",
       "      <td>Seafood</td>\n",
       "    </tr>\n",
       "    <tr>\n",
       "      <th>28</th>\n",
       "      <td>fruit</td>\n",
       "      <td>91.36</td>\n",
       "      <td>Fruits</td>\n",
       "    </tr>\n",
       "    <tr>\n",
       "      <th>29</th>\n",
       "      <td>chocolate</td>\n",
       "      <td>139.2</td>\n",
       "      <td>Sweets</td>\n",
       "    </tr>\n",
       "    <tr>\n",
       "      <th>30</th>\n",
       "      <td>fast_food</td>\n",
       "      <td>409.1666666666667</td>\n",
       "      <td>Fast Foods</td>\n",
       "    </tr>\n",
       "    <tr>\n",
       "      <th>31</th>\n",
       "      <td>potatoes</td>\n",
       "      <td>128.72</td>\n",
       "      <td>Vegetables</td>\n",
       "    </tr>\n",
       "    <tr>\n",
       "      <th>32</th>\n",
       "      <td>peanut</td>\n",
       "      <td>164.32</td>\n",
       "      <td>Nuts</td>\n",
       "    </tr>\n",
       "    <tr>\n",
       "      <th>33</th>\n",
       "      <td>oat</td>\n",
       "      <td>187.84</td>\n",
       "      <td>Cereal Grains and Pasta</td>\n",
       "    </tr>\n",
       "    <tr>\n",
       "      <th>34</th>\n",
       "      <td>beef</td>\n",
       "      <td>181.36</td>\n",
       "      <td>Meats</td>\n",
       "    </tr>\n",
       "    <tr>\n",
       "      <th>35</th>\n",
       "      <td>chili</td>\n",
       "      <td>156.76</td>\n",
       "      <td>Soups</td>\n",
       "    </tr>\n",
       "    <tr>\n",
       "      <th>36</th>\n",
       "      <td>vanilla</td>\n",
       "      <td>128.12</td>\n",
       "      <td>Spices and Herbs</td>\n",
       "    </tr>\n",
       "    <tr>\n",
       "      <th>37</th>\n",
       "      <td>strawberry</td>\n",
       "      <td>109.6</td>\n",
       "      <td>Fruits</td>\n",
       "    </tr>\n",
       "    <tr>\n",
       "      <th>38</th>\n",
       "      <td>butter</td>\n",
       "      <td>124.6</td>\n",
       "      <td>Dairy</td>\n",
       "    </tr>\n",
       "    <tr>\n",
       "      <th>39</th>\n",
       "      <td>pumpkin</td>\n",
       "      <td>110.28</td>\n",
       "      <td>Vegetables</td>\n",
       "    </tr>\n",
       "    <tr>\n",
       "      <th>40</th>\n",
       "      <td>hot_dog</td>\n",
       "      <td>259.44</td>\n",
       "      <td>Fast Foods</td>\n",
       "    </tr>\n",
       "    <tr>\n",
       "      <th>41</th>\n",
       "      <td>sausage</td>\n",
       "      <td>266.88</td>\n",
       "      <td>Meats</td>\n",
       "    </tr>\n",
       "    <tr>\n",
       "      <th>42</th>\n",
       "      <td>ginger</td>\n",
       "      <td>51.32</td>\n",
       "      <td>Spices and Herbs</td>\n",
       "    </tr>\n",
       "    <tr>\n",
       "      <th>43</th>\n",
       "      <td>pork</td>\n",
       "      <td>181.56</td>\n",
       "      <td>Meats</td>\n",
       "    </tr>\n",
       "    <tr>\n",
       "      <th>44</th>\n",
       "      <td>chocolate_covered</td>\n",
       "      <td>174.92</td>\n",
       "      <td>Sweets</td>\n",
       "    </tr>\n",
       "    <tr>\n",
       "      <th>45</th>\n",
       "      <td>potato</td>\n",
       "      <td>128.72</td>\n",
       "      <td>Vegetables</td>\n",
       "    </tr>\n",
       "    <tr>\n",
       "      <th>46</th>\n",
       "      <td>pasta</td>\n",
       "      <td>342.84</td>\n",
       "      <td>Cereal Grains and Pasta</td>\n",
       "    </tr>\n",
       "    <tr>\n",
       "      <th>47</th>\n",
       "      <td>strawberries</td>\n",
       "      <td>109.6</td>\n",
       "      <td>Fruits</td>\n",
       "    </tr>\n",
       "    <tr>\n",
       "      <th>48</th>\n",
       "      <td>crackers</td>\n",
       "      <td>55.88</td>\n",
       "      <td>Baked Products</td>\n",
       "    </tr>\n",
       "    <tr>\n",
       "      <th>49</th>\n",
       "      <td>olive</td>\n",
       "      <td>30.16</td>\n",
       "      <td>Vegetables</td>\n",
       "    </tr>\n",
       "    <tr>\n",
       "      <th>50</th>\n",
       "      <td>sweet_potato</td>\n",
       "      <td>133.4</td>\n",
       "      <td>Vegetables</td>\n",
       "    </tr>\n",
       "    <tr>\n",
       "      <th>51</th>\n",
       "      <td>garlic</td>\n",
       "      <td>66.64</td>\n",
       "      <td>Vegetables</td>\n",
       "    </tr>\n",
       "    <tr>\n",
       "      <th>52</th>\n",
       "      <td>turkey</td>\n",
       "      <td>267.96</td>\n",
       "      <td>Poultry</td>\n",
       "    </tr>\n",
       "    <tr>\n",
       "      <th>53</th>\n",
       "      <td>yogurt</td>\n",
       "      <td>105.24</td>\n",
       "      <td>Dairy</td>\n",
       "    </tr>\n",
       "    <tr>\n",
       "      <th>54</th>\n",
       "      <td>juice</td>\n",
       "      <td>67.84</td>\n",
       "      <td>Beverages</td>\n",
       "    </tr>\n",
       "    <tr>\n",
       "      <th>55</th>\n",
       "      <td>pickles</td>\n",
       "      <td>11.72</td>\n",
       "      <td>Vegetables</td>\n",
       "    </tr>\n",
       "    <tr>\n",
       "      <th>56</th>\n",
       "      <td>cinnamon</td>\n",
       "      <td>146.6</td>\n",
       "      <td>Spices and Herbs</td>\n",
       "    </tr>\n",
       "    <tr>\n",
       "      <th>57</th>\n",
       "      <td>pepper</td>\n",
       "      <td>26.92</td>\n",
       "      <td>Spices and Herbs</td>\n",
       "    </tr>\n",
       "    <tr>\n",
       "      <th>58</th>\n",
       "      <td>vegetables</td>\n",
       "      <td>92.2</td>\n",
       "      <td>Vegetables</td>\n",
       "    </tr>\n",
       "    <tr>\n",
       "      <th>59</th>\n",
       "      <td>salmon</td>\n",
       "      <td>149.64</td>\n",
       "      <td>Seafood</td>\n",
       "    </tr>\n",
       "    <tr>\n",
       "      <th>60</th>\n",
       "      <td>pineapple</td>\n",
       "      <td>107.76</td>\n",
       "      <td>Fruits</td>\n",
       "    </tr>\n",
       "    <tr>\n",
       "      <th>61</th>\n",
       "      <td>chicken_noodle_soup</td>\n",
       "      <td>111.12</td>\n",
       "      <td>Soups</td>\n",
       "    </tr>\n",
       "    <tr>\n",
       "      <th>62</th>\n",
       "      <td>crab</td>\n",
       "      <td>108.44</td>\n",
       "      <td>Seafood</td>\n",
       "    </tr>\n",
       "    <tr>\n",
       "      <th>63</th>\n",
       "      <td>lemonade</td>\n",
       "      <td>104.44</td>\n",
       "      <td>Beverages</td>\n",
       "    </tr>\n",
       "    <tr>\n",
       "      <th>64</th>\n",
       "      <td>spinach</td>\n",
       "      <td>117.6</td>\n",
       "      <td>Vegetables</td>\n",
       "    </tr>\n",
       "    <tr>\n",
       "      <th>65</th>\n",
       "      <td>pepperoni</td>\n",
       "      <td>320.92</td>\n",
       "      <td>Meats</td>\n",
       "    </tr>\n",
       "    <tr>\n",
       "      <th>66</th>\n",
       "      <td>yam</td>\n",
       "      <td>143.8</td>\n",
       "      <td>Vegetables</td>\n",
       "    </tr>\n",
       "    <tr>\n",
       "      <th>67</th>\n",
       "      <td>mozzarella</td>\n",
       "      <td>118.08</td>\n",
       "      <td>Dairy</td>\n",
       "    </tr>\n",
       "    <tr>\n",
       "      <th>68</th>\n",
       "      <td>hamburger</td>\n",
       "      <td>380.44</td>\n",
       "      <td>Fast Foods</td>\n",
       "    </tr>\n",
       "    <tr>\n",
       "      <th>69</th>\n",
       "      <td>oyster</td>\n",
       "      <td>107.64</td>\n",
       "      <td>Seafood</td>\n",
       "    </tr>\n",
       "    <tr>\n",
       "      <th>70</th>\n",
       "      <td>orange_juice</td>\n",
       "      <td>116.44</td>\n",
       "      <td>Beverages</td>\n",
       "    </tr>\n",
       "    <tr>\n",
       "      <th>71</th>\n",
       "      <td>tomatoes</td>\n",
       "      <td>28.28</td>\n",
       "      <td>Vegetables</td>\n",
       "    </tr>\n",
       "    <tr>\n",
       "      <th>72</th>\n",
       "      <td>coconut</td>\n",
       "      <td>133.04</td>\n",
       "      <td>Fruits</td>\n",
       "    </tr>\n",
       "    <tr>\n",
       "      <th>73</th>\n",
       "      <td>ice_cream_sandwich</td>\n",
       "      <td>150.4</td>\n",
       "      <td>Dairy</td>\n",
       "    </tr>\n",
       "    <tr>\n",
       "      <th>74</th>\n",
       "      <td>carrots</td>\n",
       "      <td>37.08</td>\n",
       "      <td>Vegetables</td>\n",
       "    </tr>\n",
       "    <tr>\n",
       "      <th>75</th>\n",
       "      <td>tomato</td>\n",
       "      <td>28.28</td>\n",
       "      <td>Vegetables</td>\n",
       "    </tr>\n",
       "    <tr>\n",
       "      <th>76</th>\n",
       "      <td>almond_milk</td>\n",
       "      <td>64.48</td>\n",
       "      <td>Beverages</td>\n",
       "    </tr>\n",
       "    <tr>\n",
       "      <th>77</th>\n",
       "      <td>wheat</td>\n",
       "      <td>205.04</td>\n",
       "      <td>Cereal Grains and Pasta</td>\n",
       "    </tr>\n",
       "    <tr>\n",
       "      <th>78</th>\n",
       "      <td>cheddar</td>\n",
       "      <td>118.92</td>\n",
       "      <td>Dairy</td>\n",
       "    </tr>\n",
       "    <tr>\n",
       "      <th>79</th>\n",
       "      <td>watermelon</td>\n",
       "      <td>83.36</td>\n",
       "      <td>Fruits</td>\n",
       "    </tr>\n",
       "    <tr>\n",
       "      <th>80</th>\n",
       "      <td>ice_cream_cone</td>\n",
       "      <td>197.96</td>\n",
       "      <td>Dairy</td>\n",
       "    </tr>\n",
       "    <tr>\n",
       "      <th>81</th>\n",
       "      <td>peppers</td>\n",
       "      <td>26.92</td>\n",
       "      <td>Vegetables</td>\n",
       "    </tr>\n",
       "    <tr>\n",
       "      <th>82</th>\n",
       "      <td>vegetable</td>\n",
       "      <td>92.2</td>\n",
       "      <td>Vegetables</td>\n",
       "    </tr>\n",
       "    <tr>\n",
       "      <th>83</th>\n",
       "      <td>parmesan</td>\n",
       "      <td>248.8</td>\n",
       "      <td>Dairy</td>\n",
       "    </tr>\n",
       "    <tr>\n",
       "      <th>84</th>\n",
       "      <td>apples</td>\n",
       "      <td>95.84</td>\n",
       "      <td>Fruits</td>\n",
       "    </tr>\n",
       "    <tr>\n",
       "      <th>85</th>\n",
       "      <td>peaches</td>\n",
       "      <td>101.92</td>\n",
       "      <td>Fruits</td>\n",
       "    </tr>\n",
       "    <tr>\n",
       "      <th>86</th>\n",
       "      <td>chard</td>\n",
       "      <td>49.8</td>\n",
       "      <td>Vegetables</td>\n",
       "    </tr>\n",
       "    <tr>\n",
       "      <th>87</th>\n",
       "      <td>lettuce</td>\n",
       "      <td>8.6</td>\n",
       "      <td>Vegetables</td>\n",
       "    </tr>\n",
       "    <tr>\n",
       "      <th>88</th>\n",
       "      <td>peppermint</td>\n",
       "      <td>54.16</td>\n",
       "      <td>Spices and Herbs</td>\n",
       "    </tr>\n",
       "    <tr>\n",
       "      <th>89</th>\n",
       "      <td>tomato_soup</td>\n",
       "      <td>107.04</td>\n",
       "      <td>Soups</td>\n",
       "    </tr>\n",
       "    <tr>\n",
       "      <th>90</th>\n",
       "      <td>kale</td>\n",
       "      <td>50.16</td>\n",
       "      <td>Vegetables</td>\n",
       "    </tr>\n",
       "    <tr>\n",
       "      <th>91</th>\n",
       "      <td>mushroom</td>\n",
       "      <td>43.12</td>\n",
       "      <td>Vegetables</td>\n",
       "    </tr>\n",
       "    <tr>\n",
       "      <th>92</th>\n",
       "      <td>potato_salad</td>\n",
       "      <td>213.48</td>\n",
       "      <td>Vegetables</td>\n",
       "    </tr>\n",
       "    <tr>\n",
       "      <th>93</th>\n",
       "      <td>squash</td>\n",
       "      <td>30.52</td>\n",
       "      <td>Vegetables</td>\n",
       "    </tr>\n",
       "    <tr>\n",
       "      <th>94</th>\n",
       "      <td>chicken_breast</td>\n",
       "      <td>178.0</td>\n",
       "      <td>Poultry</td>\n",
       "    </tr>\n",
       "    <tr>\n",
       "      <th>95</th>\n",
       "      <td>ginger_ale</td>\n",
       "      <td>94.48</td>\n",
       "      <td>Alcoholic Beverages</td>\n",
       "    </tr>\n",
       "    <tr>\n",
       "      <th>96</th>\n",
       "      <td>green_beans</td>\n",
       "      <td>34.08</td>\n",
       "      <td>Vegetables</td>\n",
       "    </tr>\n",
       "    <tr>\n",
       "      <th>97</th>\n",
       "      <td>grapes</td>\n",
       "      <td>103.32</td>\n",
       "      <td>Fruits</td>\n",
       "    </tr>\n",
       "    <tr>\n",
       "      <th>98</th>\n",
       "      <td>fruit_salad</td>\n",
       "      <td>98.76</td>\n",
       "      <td>Fruits</td>\n",
       "    </tr>\n",
       "    <tr>\n",
       "      <th>99</th>\n",
       "      <td>teriyaki</td>\n",
       "      <td>203.52</td>\n",
       "      <td>Sauces</td>\n",
       "    </tr>\n",
       "    <tr>\n",
       "      <th>...</th>\n",
       "      <td>...</td>\n",
       "      <td>...</td>\n",
       "      <td>...</td>\n",
       "    </tr>\n",
       "    <tr>\n",
       "      <th>334</th>\n",
       "      <td>shiitake</td>\n",
       "      <td>95.08</td>\n",
       "      <td>Vegetables</td>\n",
       "    </tr>\n",
       "    <tr>\n",
       "      <th>335</th>\n",
       "      <td>chia_seeds</td>\n",
       "      <td>79.84</td>\n",
       "      <td>Nuts</td>\n",
       "    </tr>\n",
       "    <tr>\n",
       "      <th>336</th>\n",
       "      <td>pork_chicken</td>\n",
       "      <td>185.5625</td>\n",
       "      <td>Meats</td>\n",
       "    </tr>\n",
       "    <tr>\n",
       "      <th>337</th>\n",
       "      <td>fava</td>\n",
       "      <td>144.6</td>\n",
       "      <td>Legumes</td>\n",
       "    </tr>\n",
       "    <tr>\n",
       "      <th>338</th>\n",
       "      <td>ice_cream_cookie_sandwich</td>\n",
       "      <td>504.11764705882354</td>\n",
       "      <td>Dairy</td>\n",
       "    </tr>\n",
       "    <tr>\n",
       "      <th>339</th>\n",
       "      <td>breaded</td>\n",
       "      <td>158.32</td>\n",
       "      <td>Spices and Herbs</td>\n",
       "    </tr>\n",
       "    <tr>\n",
       "      <th>340</th>\n",
       "      <td>turnips</td>\n",
       "      <td>32.24</td>\n",
       "      <td>Vegetables</td>\n",
       "    </tr>\n",
       "    <tr>\n",
       "      <th>341</th>\n",
       "      <td>melons</td>\n",
       "      <td>47.32</td>\n",
       "      <td>Fruits</td>\n",
       "    </tr>\n",
       "    <tr>\n",
       "      <th>342</th>\n",
       "      <td>nectarines</td>\n",
       "      <td>65.68</td>\n",
       "      <td>Fruits</td>\n",
       "    </tr>\n",
       "    <tr>\n",
       "      <th>343</th>\n",
       "      <td>kelp</td>\n",
       "      <td>25.46153846153846</td>\n",
       "      <td>Vegetables</td>\n",
       "    </tr>\n",
       "    <tr>\n",
       "      <th>344</th>\n",
       "      <td>beef_pork</td>\n",
       "      <td>204.32</td>\n",
       "      <td>Meats</td>\n",
       "    </tr>\n",
       "    <tr>\n",
       "      <th>345</th>\n",
       "      <td>worcestershire</td>\n",
       "      <td>6.76</td>\n",
       "      <td>Sauces</td>\n",
       "    </tr>\n",
       "    <tr>\n",
       "      <th>346</th>\n",
       "      <td>cheshire</td>\n",
       "      <td>112.6</td>\n",
       "      <td>Dairy</td>\n",
       "    </tr>\n",
       "    <tr>\n",
       "      <th>347</th>\n",
       "      <td>leeks</td>\n",
       "      <td>84.64</td>\n",
       "      <td>Vegetables</td>\n",
       "    </tr>\n",
       "    <tr>\n",
       "      <th>348</th>\n",
       "      <td>cream_of_chicken</td>\n",
       "      <td>127.6</td>\n",
       "      <td>Soups</td>\n",
       "    </tr>\n",
       "    <tr>\n",
       "      <th>349</th>\n",
       "      <td>succotash</td>\n",
       "      <td>132.14285714285714</td>\n",
       "      <td>Legumes</td>\n",
       "    </tr>\n",
       "    <tr>\n",
       "      <th>350</th>\n",
       "      <td>capers</td>\n",
       "      <td>2.08</td>\n",
       "      <td>Vegetables</td>\n",
       "    </tr>\n",
       "    <tr>\n",
       "      <th>351</th>\n",
       "      <td>cloves</td>\n",
       "      <td>58.16</td>\n",
       "      <td>Spices and Herbs</td>\n",
       "    </tr>\n",
       "    <tr>\n",
       "      <th>352</th>\n",
       "      <td>chocolate_powder</td>\n",
       "      <td>135.28571428571428</td>\n",
       "      <td>Sweets</td>\n",
       "    </tr>\n",
       "    <tr>\n",
       "      <th>353</th>\n",
       "      <td>ginger_root</td>\n",
       "      <td>26.166666666666668</td>\n",
       "      <td>Vegetables</td>\n",
       "    </tr>\n",
       "    <tr>\n",
       "      <th>354</th>\n",
       "      <td>pheasant</td>\n",
       "      <td>239.3</td>\n",
       "      <td>Poultry</td>\n",
       "    </tr>\n",
       "    <tr>\n",
       "      <th>355</th>\n",
       "      <td>persimmons</td>\n",
       "      <td>87.35714285714286</td>\n",
       "      <td>Fruits</td>\n",
       "    </tr>\n",
       "    <tr>\n",
       "      <th>356</th>\n",
       "      <td>peach_mango</td>\n",
       "      <td>114.96</td>\n",
       "      <td>Beverages</td>\n",
       "    </tr>\n",
       "    <tr>\n",
       "      <th>357</th>\n",
       "      <td>wakame</td>\n",
       "      <td>47.25</td>\n",
       "      <td>Vegetables</td>\n",
       "    </tr>\n",
       "    <tr>\n",
       "      <th>358</th>\n",
       "      <td>parsnips</td>\n",
       "      <td>129.12</td>\n",
       "      <td>Vegetables</td>\n",
       "    </tr>\n",
       "    <tr>\n",
       "      <th>359</th>\n",
       "      <td>margarine</td>\n",
       "      <td>86.88</td>\n",
       "      <td>Fats and Oils</td>\n",
       "    </tr>\n",
       "    <tr>\n",
       "      <th>360</th>\n",
       "      <td>radicchio</td>\n",
       "      <td>19.227272727272727</td>\n",
       "      <td>Vegetables</td>\n",
       "    </tr>\n",
       "    <tr>\n",
       "      <th>361</th>\n",
       "      <td>farina</td>\n",
       "      <td>175.24</td>\n",
       "      <td>Breakfast Cereals</td>\n",
       "    </tr>\n",
       "    <tr>\n",
       "      <th>362</th>\n",
       "      <td>gourd</td>\n",
       "      <td>91.23529411764706</td>\n",
       "      <td>Vegetables</td>\n",
       "    </tr>\n",
       "    <tr>\n",
       "      <th>363</th>\n",
       "      <td>flank</td>\n",
       "      <td>193.16666666666666</td>\n",
       "      <td>Meats</td>\n",
       "    </tr>\n",
       "    <tr>\n",
       "      <th>364</th>\n",
       "      <td>cress</td>\n",
       "      <td>279.28</td>\n",
       "      <td>Vegetables</td>\n",
       "    </tr>\n",
       "    <tr>\n",
       "      <th>365</th>\n",
       "      <td>durian</td>\n",
       "      <td>239.25</td>\n",
       "      <td>Fruits</td>\n",
       "    </tr>\n",
       "    <tr>\n",
       "      <th>366</th>\n",
       "      <td>tangerines</td>\n",
       "      <td>70.92</td>\n",
       "      <td>Fruits</td>\n",
       "    </tr>\n",
       "    <tr>\n",
       "      <th>367</th>\n",
       "      <td>grape_leaves</td>\n",
       "      <td>68.43478260869566</td>\n",
       "      <td>Vegetables</td>\n",
       "    </tr>\n",
       "    <tr>\n",
       "      <th>368</th>\n",
       "      <td>tomato_juice</td>\n",
       "      <td>50.0</td>\n",
       "      <td>Vegetables</td>\n",
       "    </tr>\n",
       "    <tr>\n",
       "      <th>369</th>\n",
       "      <td>chanterelle</td>\n",
       "      <td>36.77777777777778</td>\n",
       "      <td>Vegetables</td>\n",
       "    </tr>\n",
       "    <tr>\n",
       "      <th>370</th>\n",
       "      <td>chicken_vegetable</td>\n",
       "      <td>143.0</td>\n",
       "      <td>Soups</td>\n",
       "    </tr>\n",
       "    <tr>\n",
       "      <th>371</th>\n",
       "      <td>creamy_tomato_soup</td>\n",
       "      <td>233.66666666666666</td>\n",
       "      <td>Soups</td>\n",
       "    </tr>\n",
       "    <tr>\n",
       "      <th>372</th>\n",
       "      <td>artichokes</td>\n",
       "      <td>63.76</td>\n",
       "      <td>Vegetables</td>\n",
       "    </tr>\n",
       "    <tr>\n",
       "      <th>373</th>\n",
       "      <td>beef_broth</td>\n",
       "      <td>17.6</td>\n",
       "      <td>Soups</td>\n",
       "    </tr>\n",
       "    <tr>\n",
       "      <th>374</th>\n",
       "      <td>cream_of_broccoli_soup</td>\n",
       "      <td>165.68</td>\n",
       "      <td>Soups</td>\n",
       "    </tr>\n",
       "    <tr>\n",
       "      <th>375</th>\n",
       "      <td>spearmint</td>\n",
       "      <td>76.0</td>\n",
       "      <td>Spices and Herbs</td>\n",
       "    </tr>\n",
       "    <tr>\n",
       "      <th>376</th>\n",
       "      <td>butternuts</td>\n",
       "      <td>110.32</td>\n",
       "      <td>Nuts</td>\n",
       "    </tr>\n",
       "    <tr>\n",
       "      <th>377</th>\n",
       "      <td>pumpkin_pie_spice</td>\n",
       "      <td>68.5</td>\n",
       "      <td>Spices and Herbs</td>\n",
       "    </tr>\n",
       "    <tr>\n",
       "      <th>378</th>\n",
       "      <td>cardamom</td>\n",
       "      <td>18</td>\n",
       "      <td>Spices and Herbs</td>\n",
       "    </tr>\n",
       "    <tr>\n",
       "      <th>379</th>\n",
       "      <td>chicken_dumplings</td>\n",
       "      <td>202.76</td>\n",
       "      <td>Poultry</td>\n",
       "    </tr>\n",
       "    <tr>\n",
       "      <th>380</th>\n",
       "      <td>cream_of_chicken_soup</td>\n",
       "      <td>102.44</td>\n",
       "      <td>Soups</td>\n",
       "    </tr>\n",
       "    <tr>\n",
       "      <th>381</th>\n",
       "      <td>chicken_gumbo</td>\n",
       "      <td>123.28</td>\n",
       "      <td>Soups</td>\n",
       "    </tr>\n",
       "    <tr>\n",
       "      <th>382</th>\n",
       "      <td>sofrito</td>\n",
       "      <td>89.54545454545455</td>\n",
       "      <td>Soups</td>\n",
       "    </tr>\n",
       "    <tr>\n",
       "      <th>383</th>\n",
       "      <td>prunes</td>\n",
       "      <td>88.44</td>\n",
       "      <td>Vegetables</td>\n",
       "    </tr>\n",
       "    <tr>\n",
       "      <th>384</th>\n",
       "      <td>jujube</td>\n",
       "      <td>141.0</td>\n",
       "      <td>Sweets</td>\n",
       "    </tr>\n",
       "    <tr>\n",
       "      <th>385</th>\n",
       "      <td>macadamia_nuts</td>\n",
       "      <td>214.76</td>\n",
       "      <td>Nuts</td>\n",
       "    </tr>\n",
       "    <tr>\n",
       "      <th>386</th>\n",
       "      <td>pomegranate_juice</td>\n",
       "      <td>130.88</td>\n",
       "      <td>Fruits</td>\n",
       "    </tr>\n",
       "    <tr>\n",
       "      <th>387</th>\n",
       "      <td>shellie</td>\n",
       "      <td>101.25</td>\n",
       "      <td>Legumes</td>\n",
       "    </tr>\n",
       "    <tr>\n",
       "      <th>388</th>\n",
       "      <td>beef_sausage</td>\n",
       "      <td>198.24</td>\n",
       "      <td>Meats</td>\n",
       "    </tr>\n",
       "    <tr>\n",
       "      <th>389</th>\n",
       "      <td>polish_sausage</td>\n",
       "      <td>227.8</td>\n",
       "      <td>Meats</td>\n",
       "    </tr>\n",
       "    <tr>\n",
       "      <th>390</th>\n",
       "      <td>jackfruit</td>\n",
       "      <td>100.75</td>\n",
       "      <td>Fruits</td>\n",
       "    </tr>\n",
       "    <tr>\n",
       "      <th>391</th>\n",
       "      <td>cashew_butter</td>\n",
       "      <td>182.44</td>\n",
       "      <td>Nuts</td>\n",
       "    </tr>\n",
       "    <tr>\n",
       "      <th>392</th>\n",
       "      <td>new_england_clam_chowder</td>\n",
       "      <td>193.28</td>\n",
       "      <td>Soups</td>\n",
       "    </tr>\n",
       "    <tr>\n",
       "      <th>393</th>\n",
       "      <td>macaroni_cheese</td>\n",
       "      <td>349.08</td>\n",
       "      <td>Cereal Grains and Pasta</td>\n",
       "    </tr>\n",
       "    <tr>\n",
       "      <th>394</th>\n",
       "      <td>apricots</td>\n",
       "      <td>113.24</td>\n",
       "      <td>Fruits</td>\n",
       "    </tr>\n",
       "    <tr>\n",
       "      <th>395</th>\n",
       "      <td>roselle</td>\n",
       "      <td>28.0</td>\n",
       "      <td>Fruits</td>\n",
       "    </tr>\n",
       "    <tr>\n",
       "      <th>396</th>\n",
       "      <td>endive</td>\n",
       "      <td>13.545454545454545</td>\n",
       "      <td>Vegetables</td>\n",
       "    </tr>\n",
       "    <tr>\n",
       "      <th>397</th>\n",
       "      <td>corn_pudding</td>\n",
       "      <td>194.0</td>\n",
       "      <td>Cereal Grains and Pasta</td>\n",
       "    </tr>\n",
       "    <tr>\n",
       "      <th>398</th>\n",
       "      <td>hearts_of_palm</td>\n",
       "      <td>32.12</td>\n",
       "      <td>Vegetables</td>\n",
       "    </tr>\n",
       "    <tr>\n",
       "      <th>399</th>\n",
       "      <td>nopales</td>\n",
       "      <td>46.5</td>\n",
       "      <td>Vegetables</td>\n",
       "    </tr>\n",
       "    <tr>\n",
       "      <th>400</th>\n",
       "      <td>mortadella</td>\n",
       "      <td>143.16666666666666</td>\n",
       "      <td>Meats</td>\n",
       "    </tr>\n",
       "    <tr>\n",
       "      <th>401</th>\n",
       "      <td>hoisin</td>\n",
       "      <td>56.72</td>\n",
       "      <td>Sauces</td>\n",
       "    </tr>\n",
       "    <tr>\n",
       "      <th>402</th>\n",
       "      <td>soybean</td>\n",
       "      <td>143.76</td>\n",
       "      <td>Legumes</td>\n",
       "    </tr>\n",
       "    <tr>\n",
       "      <th>403</th>\n",
       "      <td>top_sirloin</td>\n",
       "      <td>368.16</td>\n",
       "      <td>Meats</td>\n",
       "    </tr>\n",
       "    <tr>\n",
       "      <th>404</th>\n",
       "      <td>russian_dressing</td>\n",
       "      <td>115.0</td>\n",
       "      <td>Sauces</td>\n",
       "    </tr>\n",
       "    <tr>\n",
       "      <th>405</th>\n",
       "      <td>onion_powder</td>\n",
       "      <td>0.8888888888888888</td>\n",
       "      <td>Spices and Herbs</td>\n",
       "    </tr>\n",
       "    <tr>\n",
       "      <th>406</th>\n",
       "      <td>spirulina</td>\n",
       "      <td>100.72727272727273</td>\n",
       "      <td>Vegetables</td>\n",
       "    </tr>\n",
       "    <tr>\n",
       "      <th>407</th>\n",
       "      <td>chestnuts</td>\n",
       "      <td>82.4</td>\n",
       "      <td>Nuts</td>\n",
       "    </tr>\n",
       "    <tr>\n",
       "      <th>408</th>\n",
       "      <td>orange_drink</td>\n",
       "      <td>107.92</td>\n",
       "      <td>Beverages</td>\n",
       "    </tr>\n",
       "    <tr>\n",
       "      <th>409</th>\n",
       "      <td>tahitian</td>\n",
       "      <td>138.6086956521739</td>\n",
       "      <td>Vegetables</td>\n",
       "    </tr>\n",
       "    <tr>\n",
       "      <th>410</th>\n",
       "      <td>soybeans</td>\n",
       "      <td>143.76</td>\n",
       "      <td>Legumes</td>\n",
       "    </tr>\n",
       "    <tr>\n",
       "      <th>411</th>\n",
       "      <td>escarole</td>\n",
       "      <td>64.57142857142857</td>\n",
       "      <td>Vegetables</td>\n",
       "    </tr>\n",
       "    <tr>\n",
       "      <th>412</th>\n",
       "      <td>vegetable_beef_soup</td>\n",
       "      <td>123.36</td>\n",
       "      <td>Soups</td>\n",
       "    </tr>\n",
       "    <tr>\n",
       "      <th>413</th>\n",
       "      <td>thousand_island_dressing</td>\n",
       "      <td>160.08</td>\n",
       "      <td>Sauces</td>\n",
       "    </tr>\n",
       "    <tr>\n",
       "      <th>414</th>\n",
       "      <td>roquefort</td>\n",
       "      <td>103.93333333333334</td>\n",
       "      <td>Dairy</td>\n",
       "    </tr>\n",
       "    <tr>\n",
       "      <th>415</th>\n",
       "      <td>thousand_island</td>\n",
       "      <td>152.76</td>\n",
       "      <td>Sauces</td>\n",
       "    </tr>\n",
       "    <tr>\n",
       "      <th>416</th>\n",
       "      <td>dark_meat</td>\n",
       "      <td>252.92</td>\n",
       "      <td>Meats</td>\n",
       "    </tr>\n",
       "    <tr>\n",
       "      <th>417</th>\n",
       "      <td>tequila_sunrise</td>\n",
       "      <td>147.33333333333334</td>\n",
       "      <td>Alcoholic Beverages</td>\n",
       "    </tr>\n",
       "    <tr>\n",
       "      <th>418</th>\n",
       "      <td>whiskey_sour</td>\n",
       "      <td>125.5</td>\n",
       "      <td>Alcoholic Beverages</td>\n",
       "    </tr>\n",
       "    <tr>\n",
       "      <th>419</th>\n",
       "      <td>vegetable_beef</td>\n",
       "      <td>106.12</td>\n",
       "      <td>Soups</td>\n",
       "    </tr>\n",
       "    <tr>\n",
       "      <th>420</th>\n",
       "      <td>cheese_product</td>\n",
       "      <td>44.0</td>\n",
       "      <td>Dairy</td>\n",
       "    </tr>\n",
       "    <tr>\n",
       "      <th>421</th>\n",
       "      <td>shortening</td>\n",
       "      <td>247.52</td>\n",
       "      <td>Fats and Oils</td>\n",
       "    </tr>\n",
       "    <tr>\n",
       "      <th>422</th>\n",
       "      <td>cocoa_mix</td>\n",
       "      <td>119.08</td>\n",
       "      <td>Sweets</td>\n",
       "    </tr>\n",
       "    <tr>\n",
       "      <th>423</th>\n",
       "      <td>honey_mustard_dressing</td>\n",
       "      <td>171.04</td>\n",
       "      <td>Sauces</td>\n",
       "    </tr>\n",
       "    <tr>\n",
       "      <th>424</th>\n",
       "      <td>lemon_peel</td>\n",
       "      <td>67.8</td>\n",
       "      <td>Fruits</td>\n",
       "    </tr>\n",
       "    <tr>\n",
       "      <th>425</th>\n",
       "      <td>chicken_corn_chowder</td>\n",
       "      <td>204.72</td>\n",
       "      <td>Soups</td>\n",
       "    </tr>\n",
       "    <tr>\n",
       "      <th>426</th>\n",
       "      <td>chicken_noodles_soup</td>\n",
       "      <td>111.12</td>\n",
       "      <td>Soups</td>\n",
       "    </tr>\n",
       "    <tr>\n",
       "      <th>427</th>\n",
       "      <td>slimfast</td>\n",
       "      <td>168.64</td>\n",
       "      <td>Beverages</td>\n",
       "    </tr>\n",
       "    <tr>\n",
       "      <th>428</th>\n",
       "      <td>peas_carrots</td>\n",
       "      <td>56.64</td>\n",
       "      <td>Vegetables</td>\n",
       "    </tr>\n",
       "    <tr>\n",
       "      <th>429</th>\n",
       "      <td>oat_bran</td>\n",
       "      <td>150.6</td>\n",
       "      <td>Breakfast Cereals</td>\n",
       "    </tr>\n",
       "    <tr>\n",
       "      <th>430</th>\n",
       "      <td>chicken_rice_soup</td>\n",
       "      <td>82.07692307692308</td>\n",
       "      <td>Soups</td>\n",
       "    </tr>\n",
       "    <tr>\n",
       "      <th>431</th>\n",
       "      <td>green_leaf</td>\n",
       "      <td>65.27777777777777</td>\n",
       "      <td>Vegetables</td>\n",
       "    </tr>\n",
       "    <tr>\n",
       "      <th>432</th>\n",
       "      <td>mixed_nuts</td>\n",
       "      <td>193.16</td>\n",
       "      <td>Nuts</td>\n",
       "    </tr>\n",
       "    <tr>\n",
       "      <th>433</th>\n",
       "      <td>cassava</td>\n",
       "      <td>145.28</td>\n",
       "      <td>Vegetables</td>\n",
       "    </tr>\n",
       "  </tbody>\n",
       "</table>\n",
       "<p>434 rows × 3 columns</p>\n",
       "</div>"
      ],
      "text/plain": [
       "                     food_name avg_cal_per_serving                 food_cat\n",
       "0                        pizza               477.8               Fast Foods\n",
       "1                          tea               16.84                Beverages\n",
       "2                       coffee                34.4                Beverages\n",
       "3                    ice_cream              157.24                    Dairy\n",
       "4                     icecream              157.24                    Dairy\n",
       "5                   sour_cream               67.24                    Dairy\n",
       "6                      chicken              488.12                  Poultry\n",
       "7                       cheese              176.64                    Dairy\n",
       "8                         cola               65.84                Beverages\n",
       "9                          egg              147.76                    Dairy\n",
       "10                         ham               128.2                    Meats\n",
       "11                        tart              292.08                   Sweets\n",
       "12                        wine               76.52      Alcoholic Beverages\n",
       "13                        beer              119.24      Alcoholic Beverages\n",
       "14                        corn              168.72  Cereal Grains and Pasta\n",
       "15                        rice              159.16  Cereal Grains and Pasta\n",
       "16                       bacon               121.8                    Meats\n",
       "17                        soup               117.6                    Soups\n",
       "18                        milk              198.56                    Dairy\n",
       "19                         rib              383.84                    Meats\n",
       "20                         pea               65.36               Vegetables\n",
       "21                       snack              132.88                   Snacks\n",
       "22                       sauce               62.12                    Soups\n",
       "23                      cereal               152.4        Breakfast Cereals\n",
       "24                      banana             101.869                   Fruits\n",
       "25                      cookie              215.88                   Sweets\n",
       "26                        meat              194.08                    Meats\n",
       "27                        fish              230.68                  Seafood\n",
       "28                       fruit               91.36                   Fruits\n",
       "29                   chocolate               139.2                   Sweets\n",
       "30                   fast_food   409.1666666666667               Fast Foods\n",
       "31                    potatoes              128.72               Vegetables\n",
       "32                      peanut              164.32                     Nuts\n",
       "33                         oat              187.84  Cereal Grains and Pasta\n",
       "34                        beef              181.36                    Meats\n",
       "35                       chili              156.76                    Soups\n",
       "36                     vanilla              128.12         Spices and Herbs\n",
       "37                  strawberry               109.6                   Fruits\n",
       "38                      butter               124.6                    Dairy\n",
       "39                     pumpkin              110.28               Vegetables\n",
       "40                     hot_dog              259.44               Fast Foods\n",
       "41                     sausage              266.88                    Meats\n",
       "42                      ginger               51.32         Spices and Herbs\n",
       "43                        pork              181.56                    Meats\n",
       "44           chocolate_covered              174.92                   Sweets\n",
       "45                      potato              128.72               Vegetables\n",
       "46                       pasta              342.84  Cereal Grains and Pasta\n",
       "47                strawberries               109.6                   Fruits\n",
       "48                    crackers               55.88           Baked Products\n",
       "49                       olive               30.16               Vegetables\n",
       "50                sweet_potato               133.4               Vegetables\n",
       "51                      garlic               66.64               Vegetables\n",
       "52                      turkey              267.96                  Poultry\n",
       "53                      yogurt              105.24                    Dairy\n",
       "54                       juice               67.84                Beverages\n",
       "55                     pickles               11.72               Vegetables\n",
       "56                    cinnamon               146.6         Spices and Herbs\n",
       "57                      pepper               26.92         Spices and Herbs\n",
       "58                  vegetables                92.2               Vegetables\n",
       "59                      salmon              149.64                  Seafood\n",
       "60                   pineapple              107.76                   Fruits\n",
       "61         chicken_noodle_soup              111.12                    Soups\n",
       "62                        crab              108.44                  Seafood\n",
       "63                    lemonade              104.44                Beverages\n",
       "64                     spinach               117.6               Vegetables\n",
       "65                   pepperoni              320.92                    Meats\n",
       "66                         yam               143.8               Vegetables\n",
       "67                  mozzarella              118.08                    Dairy\n",
       "68                   hamburger              380.44               Fast Foods\n",
       "69                      oyster              107.64                  Seafood\n",
       "70                orange_juice              116.44                Beverages\n",
       "71                    tomatoes               28.28               Vegetables\n",
       "72                     coconut              133.04                   Fruits\n",
       "73          ice_cream_sandwich               150.4                    Dairy\n",
       "74                     carrots               37.08               Vegetables\n",
       "75                      tomato               28.28               Vegetables\n",
       "76                 almond_milk               64.48                Beverages\n",
       "77                       wheat              205.04  Cereal Grains and Pasta\n",
       "78                     cheddar              118.92                    Dairy\n",
       "79                  watermelon               83.36                   Fruits\n",
       "80              ice_cream_cone              197.96                    Dairy\n",
       "81                     peppers               26.92               Vegetables\n",
       "82                   vegetable                92.2               Vegetables\n",
       "83                    parmesan               248.8                    Dairy\n",
       "84                      apples               95.84                   Fruits\n",
       "85                     peaches              101.92                   Fruits\n",
       "86                       chard                49.8               Vegetables\n",
       "87                     lettuce                 8.6               Vegetables\n",
       "88                  peppermint               54.16         Spices and Herbs\n",
       "89                 tomato_soup              107.04                    Soups\n",
       "90                        kale               50.16               Vegetables\n",
       "91                    mushroom               43.12               Vegetables\n",
       "92                potato_salad              213.48               Vegetables\n",
       "93                      squash               30.52               Vegetables\n",
       "94              chicken_breast               178.0                  Poultry\n",
       "95                  ginger_ale               94.48      Alcoholic Beverages\n",
       "96                 green_beans               34.08               Vegetables\n",
       "97                      grapes              103.32                   Fruits\n",
       "98                 fruit_salad               98.76                   Fruits\n",
       "99                    teriyaki              203.52                   Sauces\n",
       "..                         ...                 ...                      ...\n",
       "334                   shiitake               95.08               Vegetables\n",
       "335                 chia_seeds               79.84                     Nuts\n",
       "336               pork_chicken            185.5625                    Meats\n",
       "337                       fava               144.6                  Legumes\n",
       "338  ice_cream_cookie_sandwich  504.11764705882354                    Dairy\n",
       "339                    breaded              158.32         Spices and Herbs\n",
       "340                    turnips               32.24               Vegetables\n",
       "341                     melons               47.32                   Fruits\n",
       "342                 nectarines               65.68                   Fruits\n",
       "343                       kelp   25.46153846153846               Vegetables\n",
       "344                  beef_pork              204.32                    Meats\n",
       "345             worcestershire                6.76                   Sauces\n",
       "346                   cheshire               112.6                    Dairy\n",
       "347                      leeks               84.64               Vegetables\n",
       "348           cream_of_chicken               127.6                    Soups\n",
       "349                  succotash  132.14285714285714                  Legumes\n",
       "350                     capers                2.08               Vegetables\n",
       "351                     cloves               58.16         Spices and Herbs\n",
       "352           chocolate_powder  135.28571428571428                   Sweets\n",
       "353                ginger_root  26.166666666666668               Vegetables\n",
       "354                   pheasant               239.3                  Poultry\n",
       "355                 persimmons   87.35714285714286                   Fruits\n",
       "356                peach_mango              114.96                Beverages\n",
       "357                     wakame               47.25               Vegetables\n",
       "358                   parsnips              129.12               Vegetables\n",
       "359                  margarine               86.88            Fats and Oils\n",
       "360                  radicchio  19.227272727272727               Vegetables\n",
       "361                     farina              175.24        Breakfast Cereals\n",
       "362                      gourd   91.23529411764706               Vegetables\n",
       "363                      flank  193.16666666666666                    Meats\n",
       "364                      cress              279.28               Vegetables\n",
       "365                     durian              239.25                   Fruits\n",
       "366                 tangerines               70.92                   Fruits\n",
       "367               grape_leaves   68.43478260869566               Vegetables\n",
       "368               tomato_juice                50.0               Vegetables\n",
       "369                chanterelle   36.77777777777778               Vegetables\n",
       "370          chicken_vegetable               143.0                    Soups\n",
       "371         creamy_tomato_soup  233.66666666666666                    Soups\n",
       "372                 artichokes               63.76               Vegetables\n",
       "373                 beef_broth                17.6                    Soups\n",
       "374     cream_of_broccoli_soup              165.68                    Soups\n",
       "375                  spearmint                76.0         Spices and Herbs\n",
       "376                 butternuts              110.32                     Nuts\n",
       "377          pumpkin_pie_spice                68.5         Spices and Herbs\n",
       "378                   cardamom                  18         Spices and Herbs\n",
       "379          chicken_dumplings              202.76                  Poultry\n",
       "380      cream_of_chicken_soup              102.44                    Soups\n",
       "381              chicken_gumbo              123.28                    Soups\n",
       "382                    sofrito   89.54545454545455                    Soups\n",
       "383                     prunes               88.44               Vegetables\n",
       "384                     jujube               141.0                   Sweets\n",
       "385             macadamia_nuts              214.76                     Nuts\n",
       "386          pomegranate_juice              130.88                   Fruits\n",
       "387                    shellie              101.25                  Legumes\n",
       "388               beef_sausage              198.24                    Meats\n",
       "389             polish_sausage               227.8                    Meats\n",
       "390                  jackfruit              100.75                   Fruits\n",
       "391              cashew_butter              182.44                     Nuts\n",
       "392   new_england_clam_chowder              193.28                    Soups\n",
       "393            macaroni_cheese              349.08  Cereal Grains and Pasta\n",
       "394                   apricots              113.24                   Fruits\n",
       "395                    roselle                28.0                   Fruits\n",
       "396                     endive  13.545454545454545               Vegetables\n",
       "397               corn_pudding               194.0  Cereal Grains and Pasta\n",
       "398             hearts_of_palm               32.12               Vegetables\n",
       "399                    nopales                46.5               Vegetables\n",
       "400                 mortadella  143.16666666666666                    Meats\n",
       "401                     hoisin               56.72                   Sauces\n",
       "402                    soybean              143.76                  Legumes\n",
       "403                top_sirloin              368.16                    Meats\n",
       "404           russian_dressing               115.0                   Sauces\n",
       "405               onion_powder  0.8888888888888888         Spices and Herbs\n",
       "406                  spirulina  100.72727272727273               Vegetables\n",
       "407                  chestnuts                82.4                     Nuts\n",
       "408               orange_drink              107.92                Beverages\n",
       "409                   tahitian   138.6086956521739               Vegetables\n",
       "410                   soybeans              143.76                  Legumes\n",
       "411                   escarole   64.57142857142857               Vegetables\n",
       "412        vegetable_beef_soup              123.36                    Soups\n",
       "413   thousand_island_dressing              160.08                   Sauces\n",
       "414                  roquefort  103.93333333333334                    Dairy\n",
       "415            thousand_island              152.76                   Sauces\n",
       "416                  dark_meat              252.92                    Meats\n",
       "417            tequila_sunrise  147.33333333333334      Alcoholic Beverages\n",
       "418               whiskey_sour               125.5      Alcoholic Beverages\n",
       "419             vegetable_beef              106.12                    Soups\n",
       "420             cheese_product                44.0                    Dairy\n",
       "421                 shortening              247.52            Fats and Oils\n",
       "422                  cocoa_mix              119.08                   Sweets\n",
       "423     honey_mustard_dressing              171.04                   Sauces\n",
       "424                 lemon_peel                67.8                   Fruits\n",
       "425       chicken_corn_chowder              204.72                    Soups\n",
       "426       chicken_noodles_soup              111.12                    Soups\n",
       "427                   slimfast              168.64                Beverages\n",
       "428               peas_carrots               56.64               Vegetables\n",
       "429                   oat_bran               150.6        Breakfast Cereals\n",
       "430          chicken_rice_soup   82.07692307692308                    Soups\n",
       "431                 green_leaf   65.27777777777777               Vegetables\n",
       "432                 mixed_nuts              193.16                     Nuts\n",
       "433                    cassava              145.28               Vegetables\n",
       "\n",
       "[434 rows x 3 columns]"
      ]
     },
     "execution_count": 29,
     "metadata": {},
     "output_type": "execute_result"
    }
   ],
   "source": [
    "weber_df"
   ]
  },
  {
   "cell_type": "code",
   "execution_count": 663,
   "metadata": {
    "collapsed": false
   },
   "outputs": [],
   "source": [
    "food_dict = defaultdict(lambda: '')\n",
    "merge_cat_dict = {\n",
    "    'spices and herbs': 'herbs and spices',\n",
    "    'animal foods': 'meats',\n",
    "    'animal': 'meats',\n",
    "    'meaty': 'meats',\n",
    "    'baked products': 'baking goods',\n",
    "    'fatty': 'fats and oils',\n",
    "    'fruity': 'fruits',\n",
    "    'legumes': 'vegetables',\n",
    "    'vegetable': 'vegetables',\n",
    "    'snacks': 'snack foods',\n",
    "    'aquatic foods': 'seafood',\n",
    "    'wine_like': 'alcoholic beverages',\n",
    "    'nutty': 'nuts',\n",
    "    'green': 'vegetables',\n",
    "    'fishy': 'seafood',\n",
    "    'cereals and cereal products': 'cereal grains and pasta',\n",
    "    'milk and milk products': 'dairy',\n",
    "    'balsamic': 'sweets'\n",
    "}\n",
    "merge_cat = lambda c: merge_cat_dict[c] if c in merge_cat_dict.keys() else c\n",
    "for i, r in foodb_foods.iterrows():\n",
    "    food_dict[\"_\".join(r['name'].lower().split())] = merge_cat(r.food_group.lower())\n",
    "for i, r in foodb_flavors.iterrows():\n",
    "    food_dict[\"_\".join(r['name'].lower().split())] = '' if type(r.flavor_group) is float else merge_cat(r.flavor_group.lower())\n",
    "for i, r in weber_df.iterrows():\n",
    "    food_dict[r.food_name] = merge_cat(r.food_cat.lower())"
   ]
  },
  {
   "cell_type": "code",
   "execution_count": 242,
   "metadata": {
    "code_folding": [],
    "collapsed": false
   },
   "outputs": [],
   "source": [
    "exclude_words = set( # targeting apple, blackberry, kevin bacon, raspberry pi\n",
    "    [\n",
    "        'phone', 'iphone', 'itunes', 'google', 'app', 'kevin', 'os', 'ios', 'ipad', 'samsung', 'android', 'pi', 'apps', 'software',\n",
    "        'cisco', 'smartphone', 'mobile', 'nest', 'iwatch', 'media', 'nexus', 'date', 'others', 'squash'\n",
    "    ]\n",
    ")\n",
    "exclude_words |= set( # direct ban of ambiguous words\n",
    "    [\n",
    "        'apple', 'raspberry', 'blackberry', 'kevin'\n",
    "    ]\n",
    ")\n",
    "\n",
    "food_tokenize = lambda tw: tokenize(tw, keep_hashtags=False, keep_mentions=False, keep_urls=False, bigrams=False, liwc=False)\n",
    "\n",
    "n_users['food_tokens'] = n_users.tweets.progress_apply(lambda _: [food_tokenize(tw) for tw in _])\n",
    "s_users['food_tokens'] = s_users.tweets.progress_apply(lambda _: [food_tokenize(tw) for tw in _])\n",
    "\n",
    "def tw_filter(tw, include, exclude=[], keep_rt=False, tokenize=False):\n",
    "    if tokenize:\n",
    "        tokens = set(food_tokenize(tw))\n",
    "    tokens  = set(tw)\n",
    "    if 'rt' in tokens and not keep_rt:\n",
    "        return False\n",
    "    include = set(include)\n",
    "    exclude = set(exclude)\n",
    "    if not (tokens & exclude) and (tokens & include):\n",
    "        return True\n",
    "    else:\n",
    "        return False\n",
    "\n",
    "n_users['food_tweets'] = n_users.food_tokens.progress_apply(lambda _: [tw for tw in _ if tw_filter(tw, foodb_words | weber_lexicon, exclude_words)])\n",
    "s_users['food_tweets'] = s_users.food_tokens.progress_apply(lambda _: [tw for tw in _ if tw_filter(tw, foodb_words | weber_lexicon, exclude_words)])"
   ]
  },
  {
   "cell_type": "code",
   "execution_count": 617,
   "metadata": {
    "code_folding": [
     20
    ],
    "collapsed": false
   },
   "outputs": [],
   "source": [
    "import textblob\n",
    "from textblob.wordnet import *\n",
    "\n",
    "food_wn = set([Synset('food.n.01'), Synset('food.n.02'), Synset('edible_nut.n.01'), Synset('consume.v.02')])\n",
    "ambiguous_words = set([ # ambiguous words classify as food-related words by wordnet\n",
    "    'b', 'cs', 'ds', 'as', 'd', 'e', 'a', 'es', 'c', 'bs'\n",
    "    'lap','bib','try','cod','ade','leg','cos','sup','mix', 'pap',\n",
    "    'ail','zep','sub','fed','soy','dog','msg','bap','pop','cut','pud',\n",
    "    'jak','poi','has','roe','had','hay','gem','yam','lox','cup','hit','rue',\n",
    "    'must', 'game', 'center', 'shoulder', 'date', 'buffalo', 'green', 'white',\n",
    "    'bootleg', 'snowball', 'centre', 'coloring', 'kisses', 'games', 'rose',\n",
    "    'sucker', 'table', 'cat', 'cats', 'dog', 'dogs', 'rock', 'cups', 'cut',\n",
    "    \"side\", \"joints\", \"legs\", \"punch\", \"rocks\", \"scratch\", \"dish\", \"stick\", \"jack\",\n",
    "    \"dip\", \"feed\", \"bite\", \"brain\", 'dates', 'pops','stock', 'sweet'\n",
    "])\n",
    "dp_food_words = {w:False for w in ambiguous_words | exclude_words}\n",
    "for w in foodb_words | weber_lexicon:\n",
    "    dp_food_words[w] = True\n",
    "additional_words = []\n",
    "\n",
    "def word_isin(w, cats):\n",
    "    cats    = set(cats)\n",
    "    w       = textblob.Word(w)\n",
    "    synsets = w.synsets[:1]\n",
    "    visited = set()\n",
    "    \n",
    "    # word has been searched before\n",
    "    if w in dp_food_words:\n",
    "        return dp_food_words[w]\n",
    "    \n",
    "    while synsets:\n",
    "        insert_parents = True\n",
    "        cursyn = synsets.pop(0)\n",
    "        visited.add(cursyn)\n",
    "        \n",
    "        # synset has been seen before\n",
    "        if cursyn in dp_food_words:\n",
    "            if dp_food_words[cursyn]:\n",
    "                # add word to our dp dict\n",
    "                dp_food_words[w] = True\n",
    "                #additional_words.append(str(w))\n",
    "                return True\n",
    "            else:\n",
    "                continue\n",
    "        \n",
    "        # synset matches our categories\n",
    "        if cursyn in cats:\n",
    "            dp_food_words[cursyn] = True\n",
    "            #print(cursyn, True)\n",
    "            return True\n",
    "        # synset does not match our categories\n",
    "        else:\n",
    "            parents = cursyn.hypernyms()\n",
    "            #print(\"%s <- %s\" % (cursyn, parents))\n",
    "            synsets.extend(parents)\n",
    "    \n",
    "    # if we find a word that doesn't match our categories, we know that none of the\n",
    "    # visited synset match our categories\n",
    "    dp_food_words[w] = False\n",
    "    for syn in visited:\n",
    "        dp_food_words[syn] = False\n",
    "    return False\n",
    "\n"
   ]
  },
  {
   "cell_type": "code",
   "execution_count": 618,
   "metadata": {
    "collapsed": false
   },
   "outputs": [],
   "source": [
    "def wn_fraction(tw, cats):\n",
    "    tokens = tokenize(tw, liwc=False, keep_hashtags=False, keep_mentions=False, keep_urls=False, bigrams=False)\n",
    "    #tokens = tw.lower().split()\n",
    "    matches = np.array([1 if word_isin(tk, cats) else 0 for tk in tokens])\n",
    "    return np.sum(matches)/matches.shape[0]\n",
    "\n",
    "n_users['wn_fraction_food'] = n_users.food_tweets.progress_apply(lambda l: [wn_fraction(tw, food_wn) for tw in l])\n",
    "s_users['wn_fraction_food'] = s_users.food_tweets.progress_apply(lambda l: [wn_fraction(tw, food_wn) for tw in l])"
   ]
  },
  {
   "cell_type": "code",
   "execution_count": 619,
   "metadata": {
    "code_folding": [
     0
    ],
    "collapsed": false,
    "scrolled": true
   },
   "outputs": [],
   "source": [
    "def parse_k(k):\n",
    "    r = str(k).lower()\n",
    "    if type(k) == textblob.Word:\n",
    "        pass\n",
    "    elif type(k) == nltk.corpus.reader.wordnet.Synset:\n",
    "        if r.startswith('synset'):\n",
    "            r = r.split(\"'\")[1]\n",
    "    return r\n",
    "\n",
    "dft = pd.DataFrame([{'name':parse_k(k), 'is_food': v} for k, v in dp_food_words.items()])\n",
    "dft.index = dft['name']"
   ]
  },
  {
   "cell_type": "code",
   "execution_count": 620,
   "metadata": {
    "collapsed": false
   },
   "outputs": [
    {
     "data": {
      "image/png": "[encoded data removed]",
      "text/plain": [
       "<matplotlib.figure.Figure at 0x7f9c5ea51cf8>"
      ]
     },
     "metadata": {
      "image/png": {
       "height": 318,
       "width": 1155
      }
     },
     "output_type": "display_data"
    }
   ],
   "source": [
    "wn_fractions_df = pd.DataFrame([\n",
    "        n_users['wn_fraction_food'].apply(lambda _: np.mean(_) if _ else 0),\n",
    "        s_users['wn_fraction_food'].apply(lambda _: np.mean(_) if _ else 0)\n",
    "    ],\n",
    "                               index=['match', 'sporty']).T\n",
    "axes = wn_fractions_df.hist(alpha=1, bins=30, figsize=(20,5), sharey=True, sharex=True)"
   ]
  },
  {
   "cell_type": "code",
   "execution_count": 621,
   "metadata": {
    "collapsed": false
   },
   "outputs": [
    {
     "name": "stdout",
     "output_type": "stream",
     "text": [
      "Keeping tweets with a score of at least 0.10 and users with at least 10 remaining tweets.\n",
      "Yield 653 users per group.\n"
     ]
    }
   ],
   "source": [
    "def filter_out_wn_ratio(row, thresh):\n",
    "    return [tw for tw, ratio in zip(row.food_tweets, row.wn_fraction_food) if ratio >= thresh]\n",
    "\n",
    "ratio_thresh = 0.1\n",
    "count_thresh = 10\n",
    "n_users['food_tweets_filtered'] = n_users.apply(lambda _: filter_out_wn_ratio(_, ratio_thresh), axis=1)\n",
    "s_users['food_tweets_filtered'] = s_users.apply(lambda _: filter_out_wn_ratio(_, ratio_thresh), axis=1)\n",
    "\n",
    "keep_idx = ((n_users.food_tweets_filtered.apply(len) > count_thresh) & (s_users.food_tweets_filtered.apply(len) > count_thresh))\n",
    "print(\"Keeping tweets with a score of at least %.2f and users with at least %d remaining tweets.\" % (ratio_thresh, count_thresh))\n",
    "print(\"Yield %d users per group.\" % keep_idx.sum())"
   ]
  },
  {
   "cell_type": "code",
   "execution_count": 622,
   "metadata": {
    "collapsed": false
   },
   "outputs": [
    {
     "name": "stdout",
     "output_type": "stream",
     "text": [
      "65166 tweets in the control group.\n",
      "73201 tweets in the treatment group.\n"
     ]
    }
   ],
   "source": [
    "print(\"%d tweets in the control group.\" % n_users[keep_idx].food_tweets.apply(len).sum())\n",
    "print(\"%d tweets in the treatment group.\" % s_users[keep_idx].food_tweets.apply(len).sum())"
   ]
  },
  {
   "cell_type": "markdown",
   "metadata": {},
   "source": [
    "#### K-means clustering"
   ]
  },
  {
   "cell_type": "code",
   "execution_count": 625,
   "metadata": {
    "collapsed": false
   },
   "outputs": [
    {
     "name": "stdout",
     "output_type": "stream",
     "text": [
      "Vectorize data...\n",
      "Done in 0.79s.\n",
      "7513 features.\n",
      "Run KMeans clustering...\n",
      "Done in 10.08s.\n",
      "Vectorize data...\n",
      "Done in 0.93s.\n",
      "8188 features.\n",
      "Run KMeans clustering...\n",
      "Done in 6.84s.\n",
      "Vectorize data...\n",
      "Done in 1.70s.\n",
      "12217 features.\n",
      "Run KMeans clustering...\n",
      "Done in 23.07s.\n"
     ]
    }
   ],
   "source": [
    "stopwords_punc = pd.read_csv(\"./stopwords_punc\", header=None, names=['word']).word.tolist()\n",
    "stopwords_punc += [_.replace(\"'\", \"’\") for _ in stopwords_punc]\n",
    "all_food_tweets_filtered = n_users.food_tweets_filtered[keep_idx].append(s_users.food_tweets_filtered[keep_idx])\n",
    "\n",
    "vec_n, features_n, X_n, kmeans_n, kmeans_top_fts_n = cluster_users_tweets(n_users, n_users.food_tweets_filtered[keep_idx], n_clusters=10, max_iter=300, stop_words=stopwords_punc,\n",
    "                                                                          tokenize_kwargs=dict(keep_hashtags=False, keep_mentions=False, keep_urls=False, bigrams=False, liwc=False, ))\n",
    "vec_s, features_s, X_s, kmeans_s, kmeans_top_fts_s = cluster_users_tweets(s_users, s_users.food_tweets_filtered[keep_idx], n_clusters=10, max_iter=300, stop_words=stopwords_punc,\n",
    "                                                                          tokenize_kwargs=dict(keep_hashtags=False, keep_mentions=False, keep_urls=False, bigrams=False, liwc=False))\n",
    "vec_a, features_a, X_a, kmeans_a, kmeans_top_fts_a = cluster_users_tweets(None, all_food_tweets_filtered, n_clusters=10, max_iter=300, n_words=1000, stop_words=stopwords_punc,\n",
    "                                                                          tokenize_kwargs=dict(keep_hashtags=False, keep_mentions=False, keep_urls=False, bigrams=False, liwc=False))"
   ]
  },
  {
   "cell_type": "code",
   "execution_count": 626,
   "metadata": {
    "collapsed": false,
    "scrolled": true
   },
   "outputs": [
    {
     "data": {
      "text/html": [
       "<div>\n",
       "<table border=\"1\" class=\"dataframe\">\n",
       "  <thead>\n",
       "    <tr style=\"text-align: right;\">\n",
       "      <th></th>\n",
       "      <th>cluster_1</th>\n",
       "      <th>cluster_2</th>\n",
       "      <th>cluster_3</th>\n",
       "      <th>cluster_4</th>\n",
       "      <th>cluster_5</th>\n",
       "      <th>cluster_6</th>\n",
       "      <th>cluster_7</th>\n",
       "      <th>cluster_8</th>\n",
       "      <th>cluster_9</th>\n",
       "      <th>cluster_10</th>\n",
       "    </tr>\n",
       "  </thead>\n",
       "  <tbody>\n",
       "    <tr>\n",
       "      <th>0</th>\n",
       "      <td>unlocked</td>\n",
       "      <td>coffee</td>\n",
       "      <td>coffee</td>\n",
       "      <td>water</td>\n",
       "      <td>one</td>\n",
       "      <td>lord</td>\n",
       "      <td>NUMBER</td>\n",
       "      <td>sweet</td>\n",
       "      <td>NUMBER</td>\n",
       "      <td>kale</td>\n",
       "    </tr>\n",
       "    <tr>\n",
       "      <th>1</th>\n",
       "      <td>badge</td>\n",
       "      <td>good</td>\n",
       "      <td>sweet</td>\n",
       "      <td>sweet</td>\n",
       "      <td>want</td>\n",
       "      <td>freedom</td>\n",
       "      <td>sweet</td>\n",
       "      <td>NUMBER</td>\n",
       "      <td>water</td>\n",
       "      <td>tomato</td>\n",
       "    </tr>\n",
       "    <tr>\n",
       "      <th>2</th>\n",
       "      <td>shops</td>\n",
       "      <td>beer</td>\n",
       "      <td>NUMBER</td>\n",
       "      <td>bacon</td>\n",
       "      <td>made</td>\n",
       "      <td>foundation</td>\n",
       "      <td>pizza</td>\n",
       "      <td>like</td>\n",
       "      <td>sweet</td>\n",
       "      <td>avocado</td>\n",
       "    </tr>\n",
       "    <tr>\n",
       "      <th>3</th>\n",
       "      <td>porky”</td>\n",
       "      <td>wine</td>\n",
       "      <td>ice</td>\n",
       "      <td>like</td>\n",
       "      <td>eat</td>\n",
       "      <td>thank</td>\n",
       "      <td>coffee</td>\n",
       "      <td>chicken</td>\n",
       "      <td>chicken</td>\n",
       "      <td>oil</td>\n",
       "    </tr>\n",
       "    <tr>\n",
       "      <th>4</th>\n",
       "      <td>checking</td>\n",
       "      <td>NUMBER</td>\n",
       "      <td>cream</td>\n",
       "      <td>just</td>\n",
       "      <td>butter</td>\n",
       "      <td>peace</td>\n",
       "      <td>amp</td>\n",
       "      <td>pizza</td>\n",
       "      <td>dinner</td>\n",
       "      <td>garlic</td>\n",
       "    </tr>\n",
       "    <tr>\n",
       "      <th>5</th>\n",
       "      <td>level</td>\n",
       "      <td>just</td>\n",
       "      <td>just</td>\n",
       "      <td>coffee</td>\n",
       "      <td>make</td>\n",
       "      <td>dripping</td>\n",
       "      <td>water</td>\n",
       "      <td>just</td>\n",
       "      <td>beer</td>\n",
       "      <td>spinach</td>\n",
       "    </tr>\n",
       "    <tr>\n",
       "      <th>6</th>\n",
       "      <td>brew</td>\n",
       "      <td>sweet</td>\n",
       "      <td>chicken</td>\n",
       "      <td>beer</td>\n",
       "      <td>cake</td>\n",
       "      <td>sweet</td>\n",
       "      <td>beer</td>\n",
       "      <td>coffee</td>\n",
       "      <td>yum</td>\n",
       "      <td>broccoli</td>\n",
       "    </tr>\n",
       "    <tr>\n",
       "      <th>7</th>\n",
       "      <td>reached</td>\n",
       "      <td>pizza</td>\n",
       "      <td>via</td>\n",
       "      <td>pizza</td>\n",
       "      <td>chocolate</td>\n",
       "      <td>gentleness</td>\n",
       "      <td>chicken</td>\n",
       "      <td>beer</td>\n",
       "      <td>just</td>\n",
       "      <td>roasted</td>\n",
       "    </tr>\n",
       "    <tr>\n",
       "      <th>8</th>\n",
       "      <td>checked</td>\n",
       "      <td>cheese</td>\n",
       "      <td>beer</td>\n",
       "      <td>milk</td>\n",
       "      <td>now</td>\n",
       "      <td>kindness</td>\n",
       "      <td>ice</td>\n",
       "      <td>water</td>\n",
       "      <td>chocolate</td>\n",
       "      <td>recipe</td>\n",
       "    </tr>\n",
       "    <tr>\n",
       "      <th>9</th>\n",
       "      <td>brisket</td>\n",
       "      <td>day</td>\n",
       "      <td>chocolate</td>\n",
       "      <td>drink</td>\n",
       "      <td>right</td>\n",
       "      <td>damage</td>\n",
       "      <td>cheese</td>\n",
       "      <td>wine</td>\n",
       "      <td>coffee</td>\n",
       "      <td>veggies</td>\n",
       "    </tr>\n",
       "  </tbody>\n",
       "</table>\n",
       "</div>"
      ],
      "text/plain": [
       "  cluster_1 cluster_2  cluster_3 cluster_4  cluster_5   cluster_6 cluster_7  \\\n",
       "0  unlocked    coffee     coffee     water        one        lord    NUMBER   \n",
       "1     badge      good      sweet     sweet       want     freedom     sweet   \n",
       "2     shops      beer     NUMBER     bacon       made  foundation     pizza   \n",
       "3    porky”      wine        ice      like        eat       thank    coffee   \n",
       "4  checking    NUMBER      cream      just     butter       peace       amp   \n",
       "5     level      just       just    coffee       make    dripping     water   \n",
       "6      brew     sweet    chicken      beer       cake       sweet      beer   \n",
       "7   reached     pizza        via     pizza  chocolate  gentleness   chicken   \n",
       "8   checked    cheese       beer      milk        now    kindness       ice   \n",
       "9   brisket       day  chocolate     drink      right      damage    cheese   \n",
       "\n",
       "  cluster_8  cluster_9 cluster_10  \n",
       "0     sweet     NUMBER       kale  \n",
       "1    NUMBER      water     tomato  \n",
       "2      like      sweet    avocado  \n",
       "3   chicken    chicken        oil  \n",
       "4     pizza     dinner     garlic  \n",
       "5      just       beer    spinach  \n",
       "6    coffee        yum   broccoli  \n",
       "7      beer       just    roasted  \n",
       "8     water  chocolate     recipe  \n",
       "9      wine     coffee    veggies  "
      ]
     },
     "execution_count": 626,
     "metadata": {},
     "output_type": "execute_result"
    }
   ],
   "source": [
    "kmeans_top_fts_a[:10]"
   ]
  },
  {
   "cell_type": "markdown",
   "metadata": {},
   "source": [
    "#### LDA topics "
   ]
  },
  {
   "cell_type": "code",
   "execution_count": 627,
   "metadata": {
    "collapsed": false,
    "scrolled": false
   },
   "outputs": [],
   "source": [
    "from sklearn.decomposition import LatentDirichletAllocation\n",
    "\n",
    "def print_top_words(model, feature_names, n_top_words):\n",
    "    df = pd.DataFrame()\n",
    "    for topic_idx, topic in enumerate(model.components_):\n",
    "        df['topic_%d' % topic_idx] = feature_names[topic.argsort()[::-1]][:n_top_words]\n",
    "    return df\n",
    "\n",
    "lda = LatentDirichletAllocation(n_topics=10, max_iter=30,\n",
    "                            learning_method='online', \n",
    "                            learning_offset=3.,\n",
    "                            random_state=0)"
   ]
  },
  {
   "cell_type": "code",
   "execution_count": 628,
   "metadata": {
    "collapsed": false
   },
   "outputs": [
    {
     "data": {
      "text/html": [
       "<div>\n",
       "<table border=\"1\" class=\"dataframe\">\n",
       "  <thead>\n",
       "    <tr style=\"text-align: right;\">\n",
       "      <th></th>\n",
       "      <th>topic_0</th>\n",
       "      <th>topic_1</th>\n",
       "      <th>topic_2</th>\n",
       "      <th>topic_3</th>\n",
       "      <th>topic_4</th>\n",
       "      <th>topic_5</th>\n",
       "      <th>topic_6</th>\n",
       "      <th>topic_7</th>\n",
       "      <th>topic_8</th>\n",
       "      <th>topic_9</th>\n",
       "    </tr>\n",
       "  </thead>\n",
       "  <tbody>\n",
       "    <tr>\n",
       "      <th>0</th>\n",
       "      <td>project</td>\n",
       "      <td>sweet</td>\n",
       "      <td>though</td>\n",
       "      <td>guys</td>\n",
       "      <td>jeni's</td>\n",
       "      <td>guy</td>\n",
       "      <td>dunkin</td>\n",
       "      <td>prevent</td>\n",
       "      <td>pie</td>\n",
       "      <td>inventor</td>\n",
       "    </tr>\n",
       "    <tr>\n",
       "      <th>1</th>\n",
       "      <td>put</td>\n",
       "      <td>NUMBER</td>\n",
       "      <td>EMOTICONSMILE</td>\n",
       "      <td>week</td>\n",
       "      <td>wife</td>\n",
       "      <td>chili</td>\n",
       "      <td>bay</td>\n",
       "      <td>foundation</td>\n",
       "      <td>enjoying</td>\n",
       "      <td>world</td>\n",
       "    </tr>\n",
       "    <tr>\n",
       "      <th>2</th>\n",
       "      <td>work</td>\n",
       "      <td>just</td>\n",
       "      <td>gonna</td>\n",
       "      <td>yes</td>\n",
       "      <td>herring</td>\n",
       "      <td>actually</td>\n",
       "      <td>city</td>\n",
       "      <td>damage</td>\n",
       "      <td>great</td>\n",
       "      <td>protection</td>\n",
       "    </tr>\n",
       "    <tr>\n",
       "      <th>3</th>\n",
       "      <td>pot</td>\n",
       "      <td>coffee</td>\n",
       "      <td>seems</td>\n",
       "      <td>old</td>\n",
       "      <td>east</td>\n",
       "      <td>eat</td>\n",
       "      <td>chocolate</td>\n",
       "      <td>water</td>\n",
       "      <td>michael</td>\n",
       "      <td>dollar</td>\n",
       "    </tr>\n",
       "    <tr>\n",
       "      <th>4</th>\n",
       "      <td>m</td>\n",
       "      <td>chicken</td>\n",
       "      <td>really</td>\n",
       "      <td>votes</td>\n",
       "      <td>change</td>\n",
       "      <td>snack</td>\n",
       "      <td>donuts</td>\n",
       "      <td>warm</td>\n",
       "      <td>mississippi</td>\n",
       "      <td>debut</td>\n",
       "    </tr>\n",
       "    <tr>\n",
       "      <th>5</th>\n",
       "      <td>cuts</td>\n",
       "      <td>pizza</td>\n",
       "      <td>burrito</td>\n",
       "      <td>still</td>\n",
       "      <td>maker</td>\n",
       "      <td>cream</td>\n",
       "      <td>gin</td>\n",
       "      <td>mainly</td>\n",
       "      <td>oh</td>\n",
       "      <td>social</td>\n",
       "    </tr>\n",
       "    <tr>\n",
       "      <th>6</th>\n",
       "      <td>land</td>\n",
       "      <td>water</td>\n",
       "      <td>use</td>\n",
       "      <td>condition</td>\n",
       "      <td>comparable</td>\n",
       "      <td>pie</td>\n",
       "      <td>bbq</td>\n",
       "      <td>moon</td>\n",
       "      <td>gina</td>\n",
       "      <td>spread</td>\n",
       "    </tr>\n",
       "    <tr>\n",
       "      <th>7</th>\n",
       "      <td>road</td>\n",
       "      <td>like</td>\n",
       "      <td>water</td>\n",
       "      <td>haha</td>\n",
       "      <td>prep</td>\n",
       "      <td>lunch</td>\n",
       "      <td>ban</td>\n",
       "      <td>barley</td>\n",
       "      <td>boat</td>\n",
       "      <td>commercial</td>\n",
       "    </tr>\n",
       "    <tr>\n",
       "      <th>8</th>\n",
       "      <td>instead</td>\n",
       "      <td>beer</td>\n",
       "      <td>content</td>\n",
       "      <td>else</td>\n",
       "      <td>greatest</td>\n",
       "      <td>sandwich</td>\n",
       "      <td>eu</td>\n",
       "      <td>dark</td>\n",
       "      <td>perfect</td>\n",
       "      <td>drinkin</td>\n",
       "    </tr>\n",
       "    <tr>\n",
       "      <th>9</th>\n",
       "      <td>large</td>\n",
       "      <td>good</td>\n",
       "      <td>cold</td>\n",
       "      <td>drive</td>\n",
       "      <td>innovative</td>\n",
       "      <td>ice</td>\n",
       "      <td>beer</td>\n",
       "      <td>causes</td>\n",
       "      <td>cheshire</td>\n",
       "      <td>shows</td>\n",
       "    </tr>\n",
       "  </tbody>\n",
       "</table>\n",
       "</div>"
      ],
      "text/plain": [
       "   topic_0  topic_1        topic_2    topic_3     topic_4   topic_5  \\\n",
       "0  project    sweet         though       guys      jeni's       guy   \n",
       "1      put   NUMBER  EMOTICONSMILE       week        wife     chili   \n",
       "2     work     just          gonna        yes     herring  actually   \n",
       "3      pot   coffee          seems        old        east       eat   \n",
       "4        m  chicken         really      votes      change     snack   \n",
       "5     cuts    pizza        burrito      still       maker     cream   \n",
       "6     land    water            use  condition  comparable       pie   \n",
       "7     road     like          water       haha        prep     lunch   \n",
       "8  instead     beer        content       else    greatest  sandwich   \n",
       "9    large     good           cold      drive  innovative       ice   \n",
       "\n",
       "     topic_6     topic_7      topic_8     topic_9  \n",
       "0     dunkin     prevent          pie    inventor  \n",
       "1        bay  foundation     enjoying       world  \n",
       "2       city      damage        great  protection  \n",
       "3  chocolate       water      michael      dollar  \n",
       "4     donuts        warm  mississippi       debut  \n",
       "5        gin      mainly           oh      social  \n",
       "6        bbq        moon         gina      spread  \n",
       "7        ban      barley         boat  commercial  \n",
       "8         eu        dark      perfect     drinkin  \n",
       "9       beer      causes     cheshire       shows  "
      ]
     },
     "execution_count": 628,
     "metadata": {},
     "output_type": "execute_result"
    }
   ],
   "source": [
    "lda.fit(X_a)\n",
    "print_top_words(lda, features_a, 10)"
   ]
  },
  {
   "cell_type": "markdown",
   "metadata": {},
   "source": [
    "## Find most discriminative features"
   ]
  },
  {
   "cell_type": "code",
   "execution_count": 629,
   "metadata": {
    "collapsed": false
   },
   "outputs": [],
   "source": [
    "# vectorized tweets\n",
    "X_a\n",
    "# create label\n",
    "users_per_group = keep_idx.sum()\n",
    "y_a = np.zeros((2*users_per_group))\n",
    "y_a[users_per_group:] = 1\n",
    "\n",
    "# debug classes\n",
    "g = n_users.gender[keep_idx].as_matrix()\n",
    "g = np.hstack([g,g])"
   ]
  },
  {
   "cell_type": "code",
   "execution_count": 630,
   "metadata": {
    "collapsed": false
   },
   "outputs": [],
   "source": [
    "X_af, y_af = X_a[g == 'f'], y_a[g == 'f']\n",
    "X_am, y_am = X_a[g == 'm'], y_a[g == 'm']"
   ]
  },
  {
   "cell_type": "markdown",
   "metadata": {},
   "source": [
    "### Classifier "
   ]
  },
  {
   "cell_type": "code",
   "execution_count": 631,
   "metadata": {
    "code_folding": [
     20
    ],
    "collapsed": true
   },
   "outputs": [],
   "source": [
    "def most_discrim_lr(X,y,features,n):\n",
    "    clf = LogisticRegression(class_weight='balanced')\n",
    "    clf.fit(X,y)\n",
    "    sorted_idx = clf.coef_[0].argsort()\n",
    "    df = pd.DataFrame()\n",
    "\n",
    "    # for class 0\n",
    "    df['match'] = features[sorted_idx][:n]\n",
    "    df['coef_match'] = clf.coef_[0][sorted_idx][:n]\n",
    "    df['is_food_match'] = df.match.apply(lambda _: dp_food_words[_] if _ in dp_food_words else None)\n",
    "    \n",
    "    # for positive class\n",
    "    df['sporty'] = features[sorted_idx][::-1][:n]\n",
    "    df['coef_sporty'] = clf.coef_[0][sorted_idx][::-1][:n]\n",
    "    df['is_food_sporty'] = df.sporty.apply(lambda _: dp_food_words[_] if _ in dp_food_words else None)\n",
    "    return df\n",
    "\n",
    "from sklearn.svm import SVC\n",
    "\n",
    "def most_discrim_svm(X,y,features,n):\n",
    "    clf = SVC(class_weight='balanced', kernel='linear')\n",
    "    clf.fit(X,y)\n",
    "    coefs = clf.coef_.toarray()[0]\n",
    "    sorted_idx = coefs.argsort()\n",
    "    df = pd.DataFrame()\n",
    "\n",
    "    # for class 0\n",
    "    df['match'] = features[sorted_idx][:n]\n",
    "    df['coef_match'] = coefs[sorted_idx][:n]\n",
    "    df['is_food_match'] = df.match.apply(lambda _: dp_food_words[_] if _ in dp_food_words else None)\n",
    "    \n",
    "    # for positive class\n",
    "    df['sporty'] = features[sorted_idx][::-1][:n]\n",
    "    df['coef_sporty'] = coefs[sorted_idx][::-1][:n]\n",
    "    df['is_food_sporty'] = df.sporty.apply(lambda _: dp_food_words[_] if _ in dp_food_words else None)\n",
    "    return df"
   ]
  },
  {
   "cell_type": "code",
   "execution_count": 632,
   "metadata": {
    "collapsed": false
   },
   "outputs": [
    {
     "data": {
      "text/html": [
       "<div>\n",
       "<table border=\"1\" class=\"dataframe\">\n",
       "  <thead>\n",
       "    <tr style=\"text-align: right;\">\n",
       "      <th></th>\n",
       "      <th>match</th>\n",
       "      <th>coef_match</th>\n",
       "      <th>is_food_match</th>\n",
       "      <th>sporty</th>\n",
       "      <th>coef_sporty</th>\n",
       "      <th>is_food_sporty</th>\n",
       "    </tr>\n",
       "  </thead>\n",
       "  <tbody>\n",
       "    <tr>\n",
       "      <th>0</th>\n",
       "      <td>king</td>\n",
       "      <td>-0.684686</td>\n",
       "      <td>False</td>\n",
       "      <td>cafe</td>\n",
       "      <td>0.971028</td>\n",
       "      <td>False</td>\n",
       "    </tr>\n",
       "    <tr>\n",
       "      <th>1</th>\n",
       "      <td>wish</td>\n",
       "      <td>-0.614461</td>\n",
       "      <td>False</td>\n",
       "      <td>yogurt</td>\n",
       "      <td>0.869050</td>\n",
       "      <td>True</td>\n",
       "    </tr>\n",
       "    <tr>\n",
       "      <th>2</th>\n",
       "      <td>friends</td>\n",
       "      <td>-0.587886</td>\n",
       "      <td>False</td>\n",
       "      <td>starbucks</td>\n",
       "      <td>0.821657</td>\n",
       "      <td>False</td>\n",
       "    </tr>\n",
       "    <tr>\n",
       "      <th>3</th>\n",
       "      <td>gin</td>\n",
       "      <td>-0.573040</td>\n",
       "      <td>True</td>\n",
       "      <td>pic</td>\n",
       "      <td>0.800661</td>\n",
       "      <td>False</td>\n",
       "    </tr>\n",
       "    <tr>\n",
       "      <th>4</th>\n",
       "      <td>together</td>\n",
       "      <td>-0.540239</td>\n",
       "      <td>False</td>\n",
       "      <td>tree</td>\n",
       "      <td>0.780770</td>\n",
       "      <td>False</td>\n",
       "    </tr>\n",
       "    <tr>\n",
       "      <th>5</th>\n",
       "      <td>last</td>\n",
       "      <td>-0.528017</td>\n",
       "      <td>False</td>\n",
       "      <td>beach</td>\n",
       "      <td>0.775559</td>\n",
       "      <td>False</td>\n",
       "    </tr>\n",
       "    <tr>\n",
       "      <th>6</th>\n",
       "      <td>everyone</td>\n",
       "      <td>-0.527234</td>\n",
       "      <td>False</td>\n",
       "      <td>badge</td>\n",
       "      <td>0.755181</td>\n",
       "      <td>False</td>\n",
       "    </tr>\n",
       "    <tr>\n",
       "      <th>7</th>\n",
       "      <td>event</td>\n",
       "      <td>-0.523028</td>\n",
       "      <td>False</td>\n",
       "      <td>broccoli</td>\n",
       "      <td>0.750296</td>\n",
       "      <td>True</td>\n",
       "    </tr>\n",
       "    <tr>\n",
       "      <th>8</th>\n",
       "      <td>real</td>\n",
       "      <td>-0.520133</td>\n",
       "      <td>False</td>\n",
       "      <td>thai</td>\n",
       "      <td>0.703347</td>\n",
       "      <td>False</td>\n",
       "    </tr>\n",
       "    <tr>\n",
       "      <th>9</th>\n",
       "      <td>celebrate</td>\n",
       "      <td>-0.518315</td>\n",
       "      <td>False</td>\n",
       "      <td>baked</td>\n",
       "      <td>0.676745</td>\n",
       "      <td>False</td>\n",
       "    </tr>\n",
       "  </tbody>\n",
       "</table>\n",
       "</div>"
      ],
      "text/plain": [
       "       match  coef_match is_food_match     sporty  coef_sporty is_food_sporty\n",
       "0       king   -0.684686         False       cafe     0.971028          False\n",
       "1       wish   -0.614461         False     yogurt     0.869050           True\n",
       "2    friends   -0.587886         False  starbucks     0.821657          False\n",
       "3        gin   -0.573040          True        pic     0.800661          False\n",
       "4   together   -0.540239         False       tree     0.780770          False\n",
       "5       last   -0.528017         False      beach     0.775559          False\n",
       "6   everyone   -0.527234         False      badge     0.755181          False\n",
       "7      event   -0.523028         False   broccoli     0.750296           True\n",
       "8       real   -0.520133         False       thai     0.703347          False\n",
       "9  celebrate   -0.518315         False      baked     0.676745          False"
      ]
     },
     "execution_count": 632,
     "metadata": {},
     "output_type": "execute_result"
    }
   ],
   "source": [
    "t = most_discrim_lr(X_a, y_a, features_a, 2000)\n",
    "# print(t[['match','sporty']].head(10).T.to_latex())\n",
    "t.head(10)"
   ]
  },
  {
   "cell_type": "code",
   "execution_count": 633,
   "metadata": {
    "collapsed": false,
    "scrolled": false
   },
   "outputs": [
    {
     "data": {
      "text/html": [
       "<div>\n",
       "<table border=\"1\" class=\"dataframe\">\n",
       "  <thead>\n",
       "    <tr style=\"text-align: right;\">\n",
       "      <th></th>\n",
       "      <th>match</th>\n",
       "      <th>coef_match</th>\n",
       "    </tr>\n",
       "  </thead>\n",
       "  <tbody>\n",
       "    <tr>\n",
       "      <th>3</th>\n",
       "      <td>gin</td>\n",
       "      <td>-0.573040</td>\n",
       "    </tr>\n",
       "    <tr>\n",
       "      <th>13</th>\n",
       "      <td>spread</td>\n",
       "      <td>-0.512470</td>\n",
       "    </tr>\n",
       "    <tr>\n",
       "      <th>17</th>\n",
       "      <td>peaches</td>\n",
       "      <td>-0.495457</td>\n",
       "    </tr>\n",
       "    <tr>\n",
       "      <th>20</th>\n",
       "      <td>celery</td>\n",
       "      <td>-0.480252</td>\n",
       "    </tr>\n",
       "    <tr>\n",
       "      <th>34</th>\n",
       "      <td>treat</td>\n",
       "      <td>-0.430490</td>\n",
       "    </tr>\n",
       "    <tr>\n",
       "      <th>36</th>\n",
       "      <td>smoked</td>\n",
       "      <td>-0.426138</td>\n",
       "    </tr>\n",
       "    <tr>\n",
       "      <th>38</th>\n",
       "      <td>pickles</td>\n",
       "      <td>-0.424447</td>\n",
       "    </tr>\n",
       "    <tr>\n",
       "      <th>41</th>\n",
       "      <td>mozzarella</td>\n",
       "      <td>-0.414159</td>\n",
       "    </tr>\n",
       "    <tr>\n",
       "      <th>104</th>\n",
       "      <td>cocktails</td>\n",
       "      <td>-0.327957</td>\n",
       "    </tr>\n",
       "    <tr>\n",
       "      <th>112</th>\n",
       "      <td>molasses</td>\n",
       "      <td>-0.321643</td>\n",
       "    </tr>\n",
       "  </tbody>\n",
       "</table>\n",
       "</div>"
      ],
      "text/plain": [
       "          match  coef_match\n",
       "3           gin   -0.573040\n",
       "13       spread   -0.512470\n",
       "17      peaches   -0.495457\n",
       "20       celery   -0.480252\n",
       "34        treat   -0.430490\n",
       "36       smoked   -0.426138\n",
       "38      pickles   -0.424447\n",
       "41   mozzarella   -0.414159\n",
       "104   cocktails   -0.327957\n",
       "112    molasses   -0.321643"
      ]
     },
     "metadata": {},
     "output_type": "display_data"
    },
    {
     "data": {
      "text/html": [
       "<div>\n",
       "<table border=\"1\" class=\"dataframe\">\n",
       "  <thead>\n",
       "    <tr style=\"text-align: right;\">\n",
       "      <th></th>\n",
       "      <th>sporty</th>\n",
       "      <th>coef_sporty</th>\n",
       "    </tr>\n",
       "  </thead>\n",
       "  <tbody>\n",
       "    <tr>\n",
       "      <th>1</th>\n",
       "      <td>yogurt</td>\n",
       "      <td>0.869050</td>\n",
       "    </tr>\n",
       "    <tr>\n",
       "      <th>7</th>\n",
       "      <td>broccoli</td>\n",
       "      <td>0.750296</td>\n",
       "    </tr>\n",
       "    <tr>\n",
       "      <th>10</th>\n",
       "      <td>burrito</td>\n",
       "      <td>0.668792</td>\n",
       "    </tr>\n",
       "    <tr>\n",
       "      <th>11</th>\n",
       "      <td>tea</td>\n",
       "      <td>0.644796</td>\n",
       "    </tr>\n",
       "    <tr>\n",
       "      <th>13</th>\n",
       "      <td>sake</td>\n",
       "      <td>0.635346</td>\n",
       "    </tr>\n",
       "    <tr>\n",
       "      <th>14</th>\n",
       "      <td>dinner</td>\n",
       "      <td>0.632799</td>\n",
       "    </tr>\n",
       "    <tr>\n",
       "      <th>18</th>\n",
       "      <td>bean</td>\n",
       "      <td>0.606915</td>\n",
       "    </tr>\n",
       "    <tr>\n",
       "      <th>23</th>\n",
       "      <td>ale</td>\n",
       "      <td>0.587119</td>\n",
       "    </tr>\n",
       "    <tr>\n",
       "      <th>27</th>\n",
       "      <td>asparagus</td>\n",
       "      <td>0.558330</td>\n",
       "    </tr>\n",
       "    <tr>\n",
       "      <th>28</th>\n",
       "      <td>lunch</td>\n",
       "      <td>0.557613</td>\n",
       "    </tr>\n",
       "  </tbody>\n",
       "</table>\n",
       "</div>"
      ],
      "text/plain": [
       "       sporty  coef_sporty\n",
       "1      yogurt     0.869050\n",
       "7    broccoli     0.750296\n",
       "10    burrito     0.668792\n",
       "11        tea     0.644796\n",
       "13       sake     0.635346\n",
       "14     dinner     0.632799\n",
       "18       bean     0.606915\n",
       "23        ale     0.587119\n",
       "27  asparagus     0.558330\n",
       "28      lunch     0.557613"
      ]
     },
     "metadata": {},
     "output_type": "display_data"
    }
   ],
   "source": [
    "tn = t[(t.is_food_match == True)][[\"match\", \"coef_match\"]]\n",
    "ts = t[(t.is_food_sporty == True)][[\"sporty\",\"coef_sporty\"]]\n",
    "display(tn.head(10))\n",
    "display(ts.head(10))\n",
    "\n",
    "# LaTeX output\n",
    "# tn.index += 1\n",
    "# print(tn[['match']][:10].to_latex())\n",
    "# ts.index += 1\n",
    "# print(ts[['sporty']][:20].to_latex())"
   ]
  },
  {
   "cell_type": "markdown",
   "metadata": {},
   "source": [
    "#### Break down by gender"
   ]
  },
  {
   "cell_type": "code",
   "execution_count": 634,
   "metadata": {
    "collapsed": false
   },
   "outputs": [],
   "source": [
    "tf = most_discrim_lr(X_af, y_af, features_a, 2000)\n",
    "tm = most_discrim_lr(X_am, y_am, features_a, 2000)"
   ]
  },
  {
   "cell_type": "markdown",
   "metadata": {},
   "source": [
    "Female"
   ]
  },
  {
   "cell_type": "code",
   "execution_count": 635,
   "metadata": {
    "collapsed": false,
    "scrolled": false
   },
   "outputs": [
    {
     "data": {
      "text/html": [
       "<div>\n",
       "<table border=\"1\" class=\"dataframe\">\n",
       "  <thead>\n",
       "    <tr style=\"text-align: right;\">\n",
       "      <th></th>\n",
       "      <th>match</th>\n",
       "      <th>coef_match</th>\n",
       "    </tr>\n",
       "  </thead>\n",
       "  <tbody>\n",
       "    <tr>\n",
       "      <th>2</th>\n",
       "      <td>watermelon</td>\n",
       "      <td>-0.327955</td>\n",
       "    </tr>\n",
       "    <tr>\n",
       "      <th>17</th>\n",
       "      <td>pickles</td>\n",
       "      <td>-0.263772</td>\n",
       "    </tr>\n",
       "    <tr>\n",
       "      <th>20</th>\n",
       "      <td>gin</td>\n",
       "      <td>-0.259751</td>\n",
       "    </tr>\n",
       "    <tr>\n",
       "      <th>43</th>\n",
       "      <td>peas</td>\n",
       "      <td>-0.215560</td>\n",
       "    </tr>\n",
       "    <tr>\n",
       "      <th>50</th>\n",
       "      <td>okra</td>\n",
       "      <td>-0.211707</td>\n",
       "    </tr>\n",
       "    <tr>\n",
       "      <th>61</th>\n",
       "      <td>goat</td>\n",
       "      <td>-0.198483</td>\n",
       "    </tr>\n",
       "    <tr>\n",
       "      <th>63</th>\n",
       "      <td>crab</td>\n",
       "      <td>-0.198235</td>\n",
       "    </tr>\n",
       "    <tr>\n",
       "      <th>68</th>\n",
       "      <td>muffin</td>\n",
       "      <td>-0.195789</td>\n",
       "    </tr>\n",
       "    <tr>\n",
       "      <th>71</th>\n",
       "      <td>whiskey</td>\n",
       "      <td>-0.194405</td>\n",
       "    </tr>\n",
       "    <tr>\n",
       "      <th>91</th>\n",
       "      <td>espresso</td>\n",
       "      <td>-0.182048</td>\n",
       "    </tr>\n",
       "  </tbody>\n",
       "</table>\n",
       "</div>"
      ],
      "text/plain": [
       "         match  coef_match\n",
       "2   watermelon   -0.327955\n",
       "17     pickles   -0.263772\n",
       "20         gin   -0.259751\n",
       "43        peas   -0.215560\n",
       "50        okra   -0.211707\n",
       "61        goat   -0.198483\n",
       "63        crab   -0.198235\n",
       "68      muffin   -0.195789\n",
       "71     whiskey   -0.194405\n",
       "91    espresso   -0.182048"
      ]
     },
     "metadata": {},
     "output_type": "display_data"
    },
    {
     "data": {
      "text/html": [
       "<div>\n",
       "<table border=\"1\" class=\"dataframe\">\n",
       "  <thead>\n",
       "    <tr style=\"text-align: right;\">\n",
       "      <th></th>\n",
       "      <th>sporty</th>\n",
       "      <th>coef_sporty</th>\n",
       "    </tr>\n",
       "  </thead>\n",
       "  <tbody>\n",
       "    <tr>\n",
       "      <th>2</th>\n",
       "      <td>bean</td>\n",
       "      <td>0.415017</td>\n",
       "    </tr>\n",
       "    <tr>\n",
       "      <th>11</th>\n",
       "      <td>broccoli</td>\n",
       "      <td>0.348849</td>\n",
       "    </tr>\n",
       "    <tr>\n",
       "      <th>12</th>\n",
       "      <td>kale</td>\n",
       "      <td>0.342438</td>\n",
       "    </tr>\n",
       "    <tr>\n",
       "      <th>15</th>\n",
       "      <td>flatbread</td>\n",
       "      <td>0.333331</td>\n",
       "    </tr>\n",
       "    <tr>\n",
       "      <th>17</th>\n",
       "      <td>carrot</td>\n",
       "      <td>0.319193</td>\n",
       "    </tr>\n",
       "    <tr>\n",
       "      <th>22</th>\n",
       "      <td>greens</td>\n",
       "      <td>0.309467</td>\n",
       "    </tr>\n",
       "    <tr>\n",
       "      <th>30</th>\n",
       "      <td>goose</td>\n",
       "      <td>0.289844</td>\n",
       "    </tr>\n",
       "    <tr>\n",
       "      <th>31</th>\n",
       "      <td>zucchini</td>\n",
       "      <td>0.286474</td>\n",
       "    </tr>\n",
       "    <tr>\n",
       "      <th>41</th>\n",
       "      <td>dressing</td>\n",
       "      <td>0.266219</td>\n",
       "    </tr>\n",
       "    <tr>\n",
       "      <th>42</th>\n",
       "      <td>lunch</td>\n",
       "      <td>0.265139</td>\n",
       "    </tr>\n",
       "  </tbody>\n",
       "</table>\n",
       "</div>"
      ],
      "text/plain": [
       "       sporty  coef_sporty\n",
       "2        bean     0.415017\n",
       "11   broccoli     0.348849\n",
       "12       kale     0.342438\n",
       "15  flatbread     0.333331\n",
       "17     carrot     0.319193\n",
       "22     greens     0.309467\n",
       "30      goose     0.289844\n",
       "31   zucchini     0.286474\n",
       "41   dressing     0.266219\n",
       "42      lunch     0.265139"
      ]
     },
     "metadata": {},
     "output_type": "display_data"
    }
   ],
   "source": [
    "tf_food_n = tf[tf.is_food_match][['match','coef_match']]\n",
    "tf_food_s = tf[tf.is_food_sporty][['sporty','coef_sporty']]\n",
    "display(tf_food_n.head(10))\n",
    "display(tf_food_s.head(10))"
   ]
  },
  {
   "cell_type": "markdown",
   "metadata": {},
   "source": [
    "Male"
   ]
  },
  {
   "cell_type": "code",
   "execution_count": 636,
   "metadata": {
    "collapsed": false
   },
   "outputs": [
    {
     "data": {
      "text/html": [
       "<div>\n",
       "<table border=\"1\" class=\"dataframe\">\n",
       "  <thead>\n",
       "    <tr style=\"text-align: right;\">\n",
       "      <th></th>\n",
       "      <th>match</th>\n",
       "      <th>coef_match</th>\n",
       "    </tr>\n",
       "  </thead>\n",
       "  <tbody>\n",
       "    <tr>\n",
       "      <th>0</th>\n",
       "      <td>spread</td>\n",
       "      <td>-0.654405</td>\n",
       "    </tr>\n",
       "    <tr>\n",
       "      <th>4</th>\n",
       "      <td>celery</td>\n",
       "      <td>-0.471339</td>\n",
       "    </tr>\n",
       "    <tr>\n",
       "      <th>33</th>\n",
       "      <td>gin</td>\n",
       "      <td>-0.358170</td>\n",
       "    </tr>\n",
       "    <tr>\n",
       "      <th>41</th>\n",
       "      <td>beer</td>\n",
       "      <td>-0.346170</td>\n",
       "    </tr>\n",
       "    <tr>\n",
       "      <th>49</th>\n",
       "      <td>sour</td>\n",
       "      <td>-0.330039</td>\n",
       "    </tr>\n",
       "    <tr>\n",
       "      <th>52</th>\n",
       "      <td>treat</td>\n",
       "      <td>-0.328727</td>\n",
       "    </tr>\n",
       "    <tr>\n",
       "      <th>64</th>\n",
       "      <td>mozzarella</td>\n",
       "      <td>-0.318830</td>\n",
       "    </tr>\n",
       "    <tr>\n",
       "      <th>65</th>\n",
       "      <td>smoked</td>\n",
       "      <td>-0.317606</td>\n",
       "    </tr>\n",
       "    <tr>\n",
       "      <th>74</th>\n",
       "      <td>avocados</td>\n",
       "      <td>-0.311160</td>\n",
       "    </tr>\n",
       "    <tr>\n",
       "      <th>79</th>\n",
       "      <td>drank</td>\n",
       "      <td>-0.308851</td>\n",
       "    </tr>\n",
       "  </tbody>\n",
       "</table>\n",
       "</div>"
      ],
      "text/plain": [
       "         match  coef_match\n",
       "0       spread   -0.654405\n",
       "4       celery   -0.471339\n",
       "33         gin   -0.358170\n",
       "41        beer   -0.346170\n",
       "49        sour   -0.330039\n",
       "52       treat   -0.328727\n",
       "64  mozzarella   -0.318830\n",
       "65      smoked   -0.317606\n",
       "74    avocados   -0.311160\n",
       "79       drank   -0.308851"
      ]
     },
     "metadata": {},
     "output_type": "display_data"
    },
    {
     "data": {
      "text/html": [
       "<div>\n",
       "<table border=\"1\" class=\"dataframe\">\n",
       "  <thead>\n",
       "    <tr style=\"text-align: right;\">\n",
       "      <th></th>\n",
       "      <th>sporty</th>\n",
       "      <th>coef_sporty</th>\n",
       "    </tr>\n",
       "  </thead>\n",
       "  <tbody>\n",
       "    <tr>\n",
       "      <th>0</th>\n",
       "      <td>yogurt</td>\n",
       "      <td>0.758020</td>\n",
       "    </tr>\n",
       "    <tr>\n",
       "      <th>6</th>\n",
       "      <td>breakfast</td>\n",
       "      <td>0.625710</td>\n",
       "    </tr>\n",
       "    <tr>\n",
       "      <th>11</th>\n",
       "      <td>fish</td>\n",
       "      <td>0.531037</td>\n",
       "    </tr>\n",
       "    <tr>\n",
       "      <th>15</th>\n",
       "      <td>burrito</td>\n",
       "      <td>0.524371</td>\n",
       "    </tr>\n",
       "    <tr>\n",
       "      <th>18</th>\n",
       "      <td>beans</td>\n",
       "      <td>0.504070</td>\n",
       "    </tr>\n",
       "    <tr>\n",
       "      <th>23</th>\n",
       "      <td>dinner</td>\n",
       "      <td>0.486879</td>\n",
       "    </tr>\n",
       "    <tr>\n",
       "      <th>24</th>\n",
       "      <td>pies</td>\n",
       "      <td>0.485791</td>\n",
       "    </tr>\n",
       "    <tr>\n",
       "      <th>25</th>\n",
       "      <td>asparagus</td>\n",
       "      <td>0.485563</td>\n",
       "    </tr>\n",
       "    <tr>\n",
       "      <th>27</th>\n",
       "      <td>broccoli</td>\n",
       "      <td>0.471566</td>\n",
       "    </tr>\n",
       "    <tr>\n",
       "      <th>32</th>\n",
       "      <td>burritos</td>\n",
       "      <td>0.453644</td>\n",
       "    </tr>\n",
       "  </tbody>\n",
       "</table>\n",
       "</div>"
      ],
      "text/plain": [
       "       sporty  coef_sporty\n",
       "0      yogurt     0.758020\n",
       "6   breakfast     0.625710\n",
       "11       fish     0.531037\n",
       "15    burrito     0.524371\n",
       "18      beans     0.504070\n",
       "23     dinner     0.486879\n",
       "24       pies     0.485791\n",
       "25  asparagus     0.485563\n",
       "27   broccoli     0.471566\n",
       "32   burritos     0.453644"
      ]
     },
     "metadata": {},
     "output_type": "display_data"
    }
   ],
   "source": [
    "tm_food_n = tm[tm.is_food_match][['match','coef_match']]\n",
    "tm_food_s = tm[tm.is_food_sporty][['sporty','coef_sporty']]\n",
    "display(tm_food_n.head(10))\n",
    "display(tm_food_s.head(10))"
   ]
  },
  {
   "cell_type": "markdown",
   "metadata": {},
   "source": [
    "### Group by categories "
   ]
  },
  {
   "cell_type": "markdown",
   "metadata": {},
   "source": [
    "In this section, we look at the food-related predictive features of each category and we associate a food category to each one of them.\n",
    "We then look at the most important food categories for each user class."
   ]
  },
  {
   "cell_type": "code",
   "execution_count": 664,
   "metadata": {
    "collapsed": false
   },
   "outputs": [],
   "source": [
    "tn['food_cat'] = tn.match.apply(lambda _: food_dict[_] if food_dict[_] else '')\n",
    "ts['food_cat'] = ts.sporty.apply(lambda _: food_dict[_] if food_dict[_] else '')\n",
    "\n",
    "tn['definition'] = tn.match.apply(lambda _: textblob.Word(_).define())\n",
    "tn['definition'] = tn.definition.apply(lambda _: _[0] if _ else '')\n",
    "ts['definition'] = ts.sporty.apply(lambda _: textblob.Word(_).define())\n",
    "ts['definition'] = ts.definition.apply(lambda _: _[0] if _ else '')"
   ]
  },
  {
   "cell_type": "code",
   "execution_count": 665,
   "metadata": {
    "collapsed": false
   },
   "outputs": [
    {
     "name": "stdout",
     "output_type": "stream",
     "text": [
      "57 out of 145 (39.31%) food features are associated with a category.\n",
      "126 out of 233 (54.08%) food features are associated with a category.\n"
     ]
    }
   ],
   "source": [
    "def amount_detected_food_features(s, col='food_cat'):\n",
    "    nfeats = s.shape[0]\n",
    "    ndefined = (s[col] != \"\").sum()\n",
    "    print(\"%d out of %d (%.2f%%) food features are associated with a category.\" % (ndefined, nfeats, 100*ndefined/nfeats))\n",
    "\n",
    "amount_detected_food_features(tn)\n",
    "amount_detected_food_features(ts)"
   ]
  },
  {
   "cell_type": "code",
   "execution_count": 666,
   "metadata": {
    "collapsed": false
   },
   "outputs": [],
   "source": [
    "def get_extra_definition(s):\n",
    "    s['extra_cat'] = s.definition.apply(lambda d: Counter([food_dict[_] for _ in d.split() if food_dict[_]]).most_common(1))\\\n",
    "                                        .apply(lambda _: _[0][0] if _ and _[0][1] > 1 else '')\n",
    "    s['cat'] = s.apply(lambda r: r.food_cat if r.food_cat else r.extra_cat, axis=1)\n",
    "get_extra_definition(tn)\n",
    "get_extra_definition(ts)"
   ]
  },
  {
   "cell_type": "code",
   "execution_count": 667,
   "metadata": {
    "collapsed": false,
    "scrolled": false
   },
   "outputs": [
    {
     "name": "stdout",
     "output_type": "stream",
     "text": [
      "57 out of 145 (39.31%) food features are associated with a category.\n",
      "126 out of 233 (54.08%) food features are associated with a category.\n"
     ]
    }
   ],
   "source": [
    "amount_detected_food_features(tn, 'food_cat')\n",
    "amount_detected_food_features(ts, 'food_cat')"
   ]
  },
  {
   "cell_type": "markdown",
   "metadata": {},
   "source": [
    "From there, we manually annotated missing labels."
   ]
  },
  {
   "cell_type": "code",
   "execution_count": 671,
   "metadata": {
    "collapsed": false
   },
   "outputs": [
    {
     "name": "stdout",
     "output_type": "stream",
     "text": [
      "114 out of 145 (78.62%) food features are associated with a category.\n",
      "193 out of 233 (82.83%) food features are associated with a category.\n"
     ]
    }
   ],
   "source": [
    "tn = pd.read_csv(\"./match_food_cat.csv\", index_col=0).fillna('')\n",
    "ts = pd.read_csv(\"./sporty_food_cat.csv\", index_col=0).fillna('')\n",
    "\n",
    "amount_detected_food_features(tn, 'food_cat')\n",
    "amount_detected_food_features(ts, 'food_cat')"
   ]
  },
  {
   "cell_type": "code",
   "execution_count": 672,
   "metadata": {
    "collapsed": true
   },
   "outputs": [],
   "source": [
    "def bar_hatch(df, ax):\n",
    "    bars = ax.patches\n",
    "    hatches = ''.join(h*len(df) for h in 'X ')\n",
    "\n",
    "    for bar, hatch in zip(bars, hatches):\n",
    "        bar.set_hatch(hatch)\n",
    "    ax.legend(loc='upper right')"
   ]
  },
  {
   "cell_type": "code",
   "execution_count": 673,
   "metadata": {
    "collapsed": false
   },
   "outputs": [],
   "source": [
    "tn_tokens = tn[['match', 'food_cat']]\n",
    "tn_tokens = tn_tokens[tn_tokens.food_cat != '']\n",
    "tn_tokens.columns = ['word', 'category']\n",
    "ts_tokens = ts[['sporty', 'food_cat']]\n",
    "ts_tokens = ts_tokens[ts_tokens.food_cat != '']\n",
    "ts_tokens.columns = ['word', 'category']\n",
    "\n",
    "food_cat_tokens = tn_tokens.append(ts_tokens)\n",
    "food_cat_tokens.index = food_cat_tokens.word\n",
    "food_cat_dict = food_cat_tokens['category'].to_dict()\n",
    "\n",
    "drop_tokens = ['sweet']\n",
    "for _ in drop_tokens:\n",
    "    del food_cat_dict[_]\n",
    "del food_cat_tokens"
   ]
  },
  {
   "cell_type": "code",
   "execution_count": 674,
   "metadata": {
    "collapsed": false
   },
   "outputs": [
    {
     "name": "stdout",
     "output_type": "stream",
     "text": [
      "\n",
      "\n"
     ]
    }
   ],
   "source": [
    "n_users['food_cat_tokens'] = n_users.food_tokens.progress_apply(lambda l: \" \".join([\"_\".join(food_cat_dict[tk].split()) for tw in l for tk in tw if tk in food_cat_dict]))\n",
    "s_users['food_cat_tokens'] = s_users.food_tokens.progress_apply(lambda l: \" \".join([\"_\".join(food_cat_dict[tk].split()) for tw in l for tk in tw if tk in food_cat_dict]))"
   ]
  },
  {
   "cell_type": "code",
   "execution_count": 676,
   "metadata": {
    "code_folding": [
     0
    ],
    "collapsed": false
   },
   "outputs": [
    {
     "name": "stderr",
     "output_type": "stream",
     "text": [
      "/home/virgile/.local/lib/python3.4/site-packages/matplotlib/collections.py:590: FutureWarning: elementwise comparison failed; returning scalar instead, but in the future will perform elementwise comparison\n",
      "  if self._edgecolors == str('face'):\n"
     ]
    },
    {
     "data": {
      "image/png": "[encoded data removed]",
      "text/plain": [
       "<matplotlib.figure.Figure at 0x7f9c54f16eb8>"
      ]
     },
     "metadata": {
      "image/png": {
       "height": 1072,
       "width": 568
      }
     },
     "output_type": "display_data"
    }
   ],
   "source": [
    "def plot_category_importance(xlim=None):\n",
    "    vec_cat = CountVectorizer(binary=True)\n",
    "    X_cat = vec_cat.fit_transform(n_users.food_cat_tokens.append(s_users.food_cat_tokens))\n",
    "    features_cat = np.array(vec_cat.get_feature_names())\n",
    "    y_cat = np.array([0]*n_users.shape[0] + [1]*s_users.shape[0])\n",
    "    clf = LogisticRegression(class_weight='balanced')\n",
    "    clf.fit(X_cat, y_cat)\n",
    "    \n",
    "    sorted_idx = np.argsort(clf.coef_[0])\n",
    "    \n",
    "    fig, ax = plt.subplots(figsize=(8,15))\n",
    "    \n",
    "    pos    = np.arange(len(sorted_idx))\n",
    "    labels = features_cat[sorted_idx]\n",
    "    coefs  = clf.coef_[0][sorted_idx]\n",
    "    \n",
    "    rects = ax.barh(pos, coefs, fc=MD_COLORS.blue_700, ec=MD_COLORS.blue_900, lw=1, align='center')\n",
    "        \n",
    "    for l, r, c in zip(labels, rects, coefs):\n",
    "        width = r.get_width()\n",
    "        eps =.01\n",
    "        \n",
    "        if (c < 0):\n",
    "            xloc = - width - eps\n",
    "            align = 'right'\n",
    "        else:\n",
    "            xloc = width + eps\n",
    "            align = 'left'\n",
    "        \n",
    "        yloc = r.get_y() + r.get_height()/2.0\n",
    "        pretty_l = \"\\n\".join(l.split(\"_\")).capitalize()\n",
    "        label = ax.text(xloc, yloc, pretty_l, horizontalalignment=align,\n",
    "                        verticalalignment='center', color='k', weight='bold',\n",
    "                        clip_on=True)\n",
    "        \n",
    "    ax.set_ylim([-1,len(sorted_idx)])\n",
    "    if xlim:\n",
    "        ax.set_xlim(xlim)\n",
    "    ax.vlines(0,*ax.get_ylim())\n",
    "    ax.set_yticks([])\n",
    "    ax.grid(True, which='minor')\n",
    "    ax.minorticks_on()\n",
    "    plt.tight_layout()\n",
    "\n",
    "plot_category_importance(xlim=[-.5,.5])"
   ]
  },
  {
   "cell_type": "code",
   "execution_count": 775,
   "metadata": {
    "collapsed": false
   },
   "outputs": [
    {
     "name": "stderr",
     "output_type": "stream",
     "text": [
      "/home/virgile/.local/lib/python3.4/site-packages/ipykernel/__main__.py:14: RuntimeWarning: invalid value encountered in long_scalars\n"
     ]
    },
    {
     "data": {
      "image/png": "[encoded data removed]",
      "text/plain": [
       "<matplotlib.figure.Figure at 0x7f9b9906c550>"
      ]
     },
     "metadata": {
      "image/png": {
       "height": 365,
       "width": 1166
      }
     },
     "output_type": "display_data"
    }
   ],
   "source": [
    "def plot_category_user_distrib():\n",
    "    \"\"\"\n",
    "    Plot the percentage of users mentioning at least one element in a food category\n",
    "    for all food categories and for both classes.\n",
    "    \"\"\"\n",
    "    vec_cat = CountVectorizer(binary=False)\n",
    "    vec_cat.fit(n_users.food_cat_tokens.append(s_users.food_cat_tokens))\n",
    "    features_cat = np.array(vec_cat.get_feature_names())\n",
    "    \n",
    "    def map_vecs(X, label):\n",
    "        data = []\n",
    "        for row in X.toarray():\n",
    "            for ft, count in zip(features_cat, row):\n",
    "                perc = count/row.sum()\n",
    "                data.append({\"food_cat\": ft, \"number\": perc, \"label\": label})\n",
    "        return data\n",
    "    \n",
    "    X_n = vec_cat.transform(n_users.food_cat_tokens)\n",
    "    df_n = pd.DataFrame(map_vecs(X_n, 'match'))\n",
    "    \n",
    "    X_s = vec_cat.transform(s_users.food_cat_tokens)\n",
    "    df_s = pd.DataFrame(map_vecs(X_s, 'sporty'))\n",
    "    \n",
    "    df = df_n.append(df_s)\n",
    "    df.index = range(df.shape[0])\n",
    "\n",
    "#     display(df)\n",
    "    fig, ax = plt.subplots(figsize=(20,5))\n",
    "    sorted_x = df.groupby(\"food_cat\").sum().sort_values(\"number\").index[::-1].tolist()\n",
    "    sns.boxplot(\n",
    "        x='food_cat', y='number', hue='label', data=df, palette=[MD_COLORS.indigo_700, MD_COLORS.teal_300],\n",
    "        ax=ax, showfliers=False, width=.5, order=sorted_x,\n",
    "        showmeans=True, meanprops=dict(marker='o', markeredgecolor='k', markerfacecolor=(0,0,0,.8))\n",
    "    )\n",
    "    \n",
    "    xticklabels = []\n",
    "    for xlabel in ax.get_xticklabels():\n",
    "        txt = xlabel.get_text()\n",
    "        txt = \"\\n\".join(txt.split(\"_\")).capitalize()\n",
    "        rotation = 45\n",
    "        xlabel.set_rotation(rotation)\n",
    "        xticklabels.append(txt)\n",
    "        \n",
    "    ax.set_xticklabels(xticklabels)\n",
    "    ax.set_ylabel(\"Percentage of food tweets\")\n",
    "    ax.set_xlabel(\"Food category\")\n",
    "    ax.set_ylim([-.01,.2])\n",
    "\n",
    "plot_category_user_distrib()"
   ]
  },
  {
   "cell_type": "markdown",
   "metadata": {},
   "source": [
    "## Load exemplars data "
   ]
  },
  {
   "cell_type": "code",
   "execution_count": 457,
   "metadata": {
    "code_folding": [
     0
    ],
    "collapsed": false,
    "scrolled": true
   },
   "outputs": [
    {
     "name": "stdout",
     "output_type": "stream",
     "text": [
      "Vegetables (31 in sporty and 13 in match)\n",
      "- sporty\n",
      "\t- broccoli       : plant with dense clusters of tight green flower buds\n",
      "\t- bean           : any of various edible seeds of plants of the family Leguminosae used for food\n",
      "\t- asparagus      : plant whose succulent young shoots are cooked and eaten as a vegetable\n",
      "\t- kale           : informal terms for money\n",
      "\t- beans          : any of various edible seeds of plants of the family Leguminosae used for food\n",
      "\t- olive          : small ovoid fruit of the European olive tree; important food and source of oil\n",
      "\t- peppers        : climber having dark red berries (peppercorns) when fully ripe; southern India and Sri Lanka; naturalized in northern Bur...\n",
      "\t- carrot         : deep orange edible root of the cultivated carrot plant\n",
      "\t- cauliflower    : a plant having a large edible head of crowded white flower buds\n",
      "\t- zucchini       : marrow squash plant whose fruit are eaten when small\n",
      "- match\n",
      "\t- pickles        : vegetables (especially cucumbers) preserved in brine or vinegar\n",
      "\t- avocados       : a pear-shaped tropical fruit with green or blackish skin and rich yellowish pulp enclosing a single large seed\n",
      "\t- serrano        : \n",
      "\t- okra           : long green edible beaked pods of the okra plant\n",
      "\t- beets          : biennial Eurasian plant usually having a swollen edible root; widely cultivated as a food crop\n",
      "\t- thistle        : any of numerous plants of the family Compositae and especially of the genera Carduus and Cirsium and Onopordum having pr...\n",
      "\t- capers         : any of numerous plants of the genus Capparis\n",
      "\t- turnips        : widely cultivated plant having a large fleshy edible white or yellow root\n",
      "\t- potato         : an edible tuber native to South America; a staple food of Ireland\n",
      "\t- swede          : a native or inhabitant of Sweden\n",
      "----------------------------------------------------------------------------------------------------\n",
      "Fruits (23 in sporty and 10 in match)\n",
      "- sporty\n",
      "\t- coconut        : the edible white meat of a coconut; often shredded for use in e.g. cakes and curries\n",
      "\t- jam            : preserve of crushed fruit\n",
      "\t- pear           : sweet juicy gritty-textured fruit available in many varieties\n",
      "\t- blackberries   : large sweet black or very dark purple edible aggregate fruit of any of various bushes of the genus Rubus\n",
      "\t- berries        : any of numerous small and pulpy edible fruits; used as desserts or in making jams and jellies and preserves\n",
      "\t- berry          : any of numerous small and pulpy edible fruits; used as desserts or in making jams and jellies and preserves\n",
      "\t- nectarine      : variety or mutation of the peach bearing fruit with smooth skin and (usually) yellow flesh\n",
      "\t- mango          : large evergreen tropical tree cultivated for its large oval fruit\n",
      "\t- limes          : a caustic substance produced by heating limestone\n",
      "\t- grapes         : any of various juicy fruit of the genus Vitis with green or purple skins; grow in clusters\n",
      "- match\n",
      "\t- peaches        : cultivated in temperate regions\n",
      "\t- cranberries    : any of numerous shrubs of genus Vaccinium bearing cranberries\n",
      "\t- grape          : any of various juicy fruit of the genus Vitis with green or purple skins; grow in clusters\n",
      "\t- plums          : any of several trees producing edible oval fruit having a smooth skin and a single hard stone\n",
      "\t- watermelon     : an African melon\n",
      "\t- rhubarb        : long pinkish sour leafstalks usually eaten cooked and sweetened\n",
      "\t- cherries       : wood of any of various cherry trees especially the black cherry\n",
      "\t- peach          : cultivated in temperate regions\n",
      "\t- durian         : tree of southeastern Asia having edible oval fruit with a hard spiny rind\n",
      "\t- kiwi           : climbing vine native to China; cultivated in New Zealand for its fuzzy edible fruit with green meat\n",
      "----------------------------------------------------------------------------------------------------\n",
      "Herbs and spices (17 in sporty and 7 in match)\n",
      "- sporty\n",
      "\t- dock           : an enclosure in a court of law where the defendant sits during the trial\n",
      "\t- curry          : (East Indian cookery) a pungent dish of vegetables or meats flavored with curry powder and usually eaten with rice\n",
      "\t- ginger         : perennial plants having thick branching aromatic rhizomes and leafy reedlike stems\n",
      "\t- lotus          : native to eastern Asia; widely cultivated for its large pink or white flowers\n",
      "\t- chia           : \n",
      "\t- rosemary       : widely cultivated for its fragrant grey-green leaves used in cooking and in perfumery\n",
      "\t- quinoa         : \n",
      "\t- thyme          : any of various mints of the genus Thymus\n",
      "\t- wasabi         : a Japanese plant of the family Cruciferae with a thick green root\n",
      "\t- pepper         : climber having dark red berries (peppercorns) when fully ripe; southern India and Sri Lanka; naturalized in northern Bur...\n",
      "- match\n",
      "\t- mint           : (often followed by `of') a large number or amount or extent\n",
      "\t- herbal         : tea-like drink made of leaves of various herbs\n",
      "\t- chilli         : very hot and finely tapering pepper of special pungency\n",
      "\t- cardamom       : rhizomatous herb of India having aromatic seeds used as seasoning\n",
      "\t- dandelion      : any of several herbs of the genus Taraxacum having long tap roots and deeply notched leaves and bright yellow flowers fo...\n",
      "\t- basil          : any of several Old World tropical aromatic annual or perennial herbs of the genus Ocimum\n",
      "\t- condiments     : a preparation (a sauce or relish or spice) to enhance flavor or enjoyment\n",
      "----------------------------------------------------------------------------------------------------\n",
      "Alcoholic beverages (10 in sporty and 10 in match)\n",
      "- sporty\n",
      "\t- ale            : a general name for beer made with a top fermenting yeast; in some of the United States an ale is (by law) a brew of more...\n",
      "\t- pilsner        : a pale lager with strong flavor of hops; first brewed in the Bohemian town of Pilsen\n",
      "\t- scotch         : a slight surface cut (especially a notch that is made to keep a tally)\n",
      "\t- stout          : a strong very dark heavy-bodied ale made from pale malt and roasted unmalted barley and (often) caramel malt with hops\n",
      "\t- brews          : drink made by steeping and boiling and fermenting rather than distilling\n",
      "\t- bock           : a very strong lager traditionally brewed in the fall and aged through the winter for consumption in the spring\n",
      "\t- ales           : a general name for beer made with a top fermenting yeast; in some of the United States an ale is (by law) a brew of more...\n",
      "\t- gimlet         : a cocktail made of gin or vodka and lime juice\n",
      "\t- margarita      : a cocktail made of tequila and triple sec with lime and lemon juice\n",
      "\t- amaretto       : an Italian almond liqueur\n",
      "- match\n",
      "\t- gin            : strong liquor flavored with juniper berries\n",
      "\t- gin            : strong liquor flavored with juniper berries\n",
      "\t- cocktails      : a short mixed drink\n",
      "\t- beer           : a general name for alcoholic beverages made by fermenting a cereal (or mixture of cereals) flavored with hops\n",
      "\t- wines          : fermented juice (of grapes especially)\n",
      "\t- kahlua         : coffee-flavored liqueur made in Mexico\n",
      "\t- whiskey        : a liquor made from fermented mash of grain\n",
      "\t- homebrew       : an alcoholic beverage (especially beer) made at home\n",
      "\t- cognac         : high quality grape brandy distilled in the Cognac district of France\n",
      "\t- liquor         : an alcoholic beverage that is distilled rather than fermented\n",
      "----------------------------------------------------------------------------------------------------\n",
      "Confectioneries (9 in sporty and 10 in match)\n",
      "- sporty\n",
      "\t- cookies        : any of various small flat sweet cakes (`biscuit' is the British term)\n",
      "\t- pies           : dish baked in pastry-lined pan often with a pastry top\n",
      "\t- bagels         : (Yiddish) glazed yeast-raised doughnut-shaped roll with hard crust\n",
      "\t- muffins        : a sweet quick bread baked in a cup-shaped pan\n",
      "\t- cupcakes       : small cake baked in a muffin tin\n",
      "\t- scones         : small biscuit (rich with cream and eggs) cut into diamonds or sticks and baked in an oven or (especially originally) on ...\n",
      "\t- fudge          : soft creamy candy\n",
      "\t- mousse         : a rich, frothy, creamy dessert made with whipped egg whites and heavy cream\n",
      "\t- beignet        : a deep-fried, yeast-raised doughnut dusted with confectioners' sugar\n",
      "- match\n",
      "\t- donut          : a small ring-shaped friedcake\n",
      "\t- jello          : fruit-flavored dessert (trade mark Jell-O) made from a commercially prepared gelatin powder\n",
      "\t- croissant      : very rich flaky crescent-shaped roll\n",
      "\t- milkshake      : frothy drink of milk and flavoring and sometimes fruit or ice cream\n",
      "\t- pudding        : any of various soft thick unsweetened baked dishes\n",
      "\t- toast          : slices of bread that have been toasted\n",
      "\t- gingerbread    : cake flavored with ginger\n",
      "\t- bread          : food made from dough of flour or meal and usually raised with yeast or baking powder and then baked\n",
      "\t- pancakes       : a flat cake of thin batter fried on both sides on a griddle\n",
      "\t- praline        : cookie-sized candy made of brown sugar and butter and pecans\n",
      "----------------------------------------------------------------------------------------------------\n",
      "Dairy (9 in sporty and 10 in match)\n",
      "- sporty\n",
      "\t- yogurt         : a custard-like food made from curdled milk\n",
      "\t- muenster       : semisoft pale-yellow cheese\n",
      "\t- parmesan       : hard dry sharp-flavored Italian cheese; often grated\n",
      "\t- baguette       : narrow French stick loaf\n",
      "\t- fontina        : \n",
      "\t- ricotta        : soft Italian cheese like cottage cheese\n",
      "\t- cream          : the best people or things in a group\n",
      "\t- pastry         : a dough of flour and water and shortening\n",
      "\t- bagel          : (Yiddish) glazed yeast-raised doughnut-shaped roll with hard crust\n",
      "- match\n",
      "\t- mozzarella     : mild white Italian cheese\n",
      "\t- cheddar        : a village in southwestern England where cheddar cheese was first made\n",
      "\t- icecream       : frozen dessert containing cream and sugar and flavoring\n",
      "\t- whey           : the serum or watery part of milk that is separated from the curd in making cheese\n",
      "\t- brie           : soft creamy white cheese; milder than Camembert\n",
      "\t- monterey       : a town in western California to the south of San Francisco on a peninsula at the southern end of Monterey Bay\n",
      "\t- feta           : \n",
      "\t- gouda          : mild cream-colored Dutch cheese shaped in balls\n",
      "\t- mascarpone     : soft mild Italian cream cheese\n",
      "\t- milk           : a white nutritious liquid secreted by mammals and used as food by human beings\n",
      "----------------------------------------------------------------------------------------------------\n",
      "Meats (11 in sporty and 7 in match)\n",
      "- sporty\n",
      "\t- loaf           : a shaped mass of baked bread that is usually sliced before eating\n",
      "\t- pastrami       : highly seasoned cut of smoked beef\n",
      "\t- patty          : small flat mass of chopped food\n",
      "\t- loin           : a cut of meat taken from the side and back of an animal between the ribs and the rump\n",
      "\t- beef           : cattle that are reared for their meat\n",
      "\t- shoulder       : the part of the body between the neck and the upper arm\n",
      "\t- rib            : support resembling the rib of an animal\n",
      "\t- confit         : a piece of meat (especially a duck) cooked slowly in its own fat\n",
      "\t- meat           : the flesh of animals (including fishes and birds and snails) used as food\n",
      "\t- sausage        : highly seasoned minced meat stuffed in casings\n",
      "- match\n",
      "\t- veal           : meat from a calf\n",
      "\t- bratwurst      : a small pork sausage\n",
      "\t- steak          : a slice of meat cut from the fleshy part of an animal or large fish\n",
      "\t- sirloin        : the portion of the loin (especially of beef) just in front of the rump\n",
      "\t- goat           : any of numerous agile ruminants related to sheep but having a beard and straight horns\n",
      "\t- bacon          : back and sides of a hog salted and dried or smoked; usually sliced thin and fried\n",
      "\t- sheep          : woolly usually horned ruminant mammal related to the goat\n",
      "----------------------------------------------------------------------------------------------------\n",
      "Beverages (8 in sporty and 8 in match)\n",
      "- sporty\n",
      "\t- tea            : a beverage made by steeping tea leaves in water\n",
      "\t- sake           : a reason for wanting something done\n",
      "\t- latte          : strong espresso coffee with a topping of frothed steamed milk\n",
      "\t- cappuccino     : equal parts of espresso and hot milk topped with cinnamon and nutmeg and usually whipped cream\n",
      "\t- spirit         : the vital principle or animating force within living things\n",
      "\t- cola           : large genus of African trees bearing kola nuts\n",
      "\t- lemonade       : sweetened beverage of diluted lemon juice\n",
      "\t- sherry         : dry to sweet amber wine from the Jerez region of southern Spain or similar wines produced elsewhere; usually drunk as an...\n",
      "- match\n",
      "\t- drank          : take in liquids\n",
      "\t- cocoa          : a beverage made from cocoa powder and milk and sugar; usually drunk hot\n",
      "\t- limeade        : sweetened beverage of lime juice and water\n",
      "\t- tonic          : lime- or lemon-flavored carbonated water containing quinine\n",
      "\t- fizz           : an effervescent beverage (usually alcoholic)\n",
      "\t- espresso       : strong black coffee brewed by forcing hot water under pressure through finely ground coffee beans\n",
      "\t- whisky         : a liquor made from fermented mash of grain\n",
      "\t- coffees        : a beverage consisting of an infusion of ground coffee beans\n",
      "----------------------------------------------------------------------------------------------------\n",
      "Seafood (12 in sporty and 5 in match)\n",
      "- sporty\n",
      "\t- fish           : any of various mostly cold-blooded aquatic vertebrates usually having scales and breathing through gills\n",
      "\t- seafood        : edible fish (broadly including freshwater fish) or shellfish or roe etc\n",
      "\t- salmon         : any of various large food and game fishes of northern waters; usually migrate from salt to fresh water to spawn\n",
      "\t- crab           : decapod having eyes on short stalks and a broad flattened carapace with a small abdomen folded under the thorax and pinc...\n",
      "\t- shrimp         : disparaging terms for small people\n",
      "\t- walrus         : either of two large northern marine mammals having ivory tusks and tough hide over thick blubber\n",
      "\t- halibut        : lean flesh of very large flatfish of Atlantic or Pacific\n",
      "\t- sashimi        : very thinly sliced raw fish\n",
      "\t- fishes         : any of various mostly cold-blooded aquatic vertebrates usually having scales and breathing through gills\n",
      "\t- lobster        : flesh of a lobster\n",
      "- match\n",
      "\t- smelt          : small cold-water silvery fish; migrate between salt and fresh water\n",
      "\t- shellfish      : meat of edible aquatic invertebrate with a shell (especially a mollusk or crustacean)\n",
      "\t- snail          : freshwater or marine or terrestrial gastropod mollusk usually having an external enclosing spiral shell\n",
      "\t- calamari       : (Italian cuisine) squid prepared as food\n",
      "\t- trout          : flesh of any of several primarily freshwater game and food fishes\n",
      "----------------------------------------------------------------------------------------------------\n",
      "Dishes (13 in sporty and 4 in match)\n",
      "- sporty\n",
      "\t- burrito        : a flour tortilla folded around a filling\n",
      "\t- burritos       : a flour tortilla folded around a filling\n",
      "\t- salad          : food mixtures either arranged on a plate or tossed and served with a moist dressing; usually consisting of or including ...\n",
      "\t- casserole      : food cooked and served in a casserole\n",
      "\t- pancake        : a flat cake of thin batter fried on both sides on a griddle\n",
      "\t- stew           : agitation resulting from active worry\n",
      "\t- tamale         : a city in northern Ghana\n",
      "\t- tortillas      : thin unleavened pancake made from cornmeal or wheat flour\n",
      "\t- lasagna        : baked dish of layers of lasagna pasta with sauce and cheese and meat or vegetables\n",
      "\t- grits          : coarsely ground hulled corn boiled as a breakfast dish in the southern United States\n",
      "- match\n",
      "\t- sushi          : rice (with raw fish) wrapped in seaweed\n",
      "\t- tabbouleh      : a finely chopped salad with tomatoes and parsley and mint and scallions and bulgur wheat\n",
      "\t- dumplings      : small balls or strips of boiled or steamed dough\n",
      "\t- gyros          : a Greek sandwich: sliced roast lamb with onion and tomato stuffed into pita bread\n",
      "----------------------------------------------------------------------------------------------------\n",
      "Sweets (4 in sporty and 7 in match)\n",
      "- sporty\n",
      "\t- nestle         : a close and affectionate (and often prolonged) embrace\n",
      "\t- sundae         : ice cream served with a topping\n",
      "\t- tart           : a woman who engages in sexual intercourse for money\n",
      "\t- candy          : a rich sweet made of flavored sugar and often combined with fruit or nuts\n",
      "- match\n",
      "\t- treat          : something considered choice to eat\n",
      "\t- molasses       : thick dark syrup produced by boiling down juice from sugar cane; especially during sugar refining\n",
      "\t- treats         : something considered choice to eat\n",
      "\t- shortcake      : very short biscuit dough baked as individual biscuits or a round loaf; served with sweetened fruit and usually whipped c...\n",
      "\t- jelly          : an edible jelly (sweet or pungent) made with gelatin and used as a dessert or salad base or a coating for foods\n",
      "\t- twinkie        : a small sponge cake with a synthetic cream filling\n",
      "\t- syrup          : a thick sweet sticky liquid\n",
      "----------------------------------------------------------------------------------------------------\n",
      "Snack foods (7 in sporty and 4 in match)\n",
      "- sporty\n",
      "\t- hummus         : a thick spread made from mashed chickpeas, tahini, lemon juice and garlic; used especially as a dip for pita; originated...\n",
      "\t- snacks         : a light informal meal\n",
      "\t- cracker        : a thin crisp wafer made of flour and water with or without leavening and shortening; unsweetened or semisweet\n",
      "\t- subs           : a large sandwich made of a long crusty roll split lengthwise and filled with meats and cheese (and tomato and onion and ...\n",
      "\t- taco           : (ethnic slur) offensive term for a person of Mexican descent\n",
      "\t- popcorn        : corn having small ears and kernels that burst when exposed to dry heat\n",
      "\t- snack          : a light informal meal\n",
      "- match\n",
      "\t- guacamole      : a dip made of mashed avocado mixed with chopped onions and other seasonings\n",
      "\t- blts           : sandwich filled with slices of bacon and tomato with lettuce\n",
      "\t- pretzel        : glazed and salted cracker typically in the shape of a loose knot\n",
      "\t- appetizers     : food or drink to stimulate the appetite (usually served before a meal or as the first course)\n",
      "----------------------------------------------------------------------------------------------------\n",
      "Cereal grains and pasta (10 in sporty and 2 in match)\n",
      "- sporty\n",
      "\t- rice           : grains used as food either unpolished or more often polished\n",
      "\t- pasta          : a dish that contains pasta as its main ingredient\n",
      "\t- oatmeal        : porridge made of rolled oats\n",
      "\t- spaghetti      : spaghetti served with a tomato sauce\n",
      "\t- sourdough      : a leaven of dough in which fermentation is active; used by pioneers for making bread\n",
      "\t- lentil         : round flat seed of the lentil plant used for food\n",
      "\t- oat            : annual grass of Europe and North Africa; grains used as food and fodder (referred to primarily in the plural: `oats')\n",
      "\t- linguini       : pasta in long slender flat strips\n",
      "\t- ravioli        : small circular or square cases of dough with savory fillings\n",
      "\t- rigatoni       : tubular pasta in short ribbed pieces\n",
      "- match\n",
      "\t- spelt          : hardy wheat grown mostly in Europe for livestock feed\n",
      "\t- corn           : tall annual cereal grass bearing kernels on large ears: widely cultivated in America in many varieties; the principal ce...\n",
      "----------------------------------------------------------------------------------------------------\n",
      "Baking goods (2 in sporty and 5 in match)\n",
      "- sporty\n",
      "\t- crackers       : a thin crisp wafer made of flour and water with or without leavening and shortening; unsweetened or semisweet\n",
      "\t- topping        : a flavorful addition on top of a dish\n",
      "- match\n",
      "\t- spread         : process or result of distributing or extending over a wide expanse of space\n",
      "\t- custard        : sweetened mixture of milk and eggs baked or boiled or frozen\n",
      "\t- jams           : preserve of crushed fruit\n",
      "\t- potatos        : an edible tuber native to South America; a staple food of Ireland\n",
      "\t- adobo          : a dish of marinated vegetables and meat or fish; served with rice\n",
      "----------------------------------------------------------------------------------------------------\n",
      "Fast foods (6 in sporty and 1 in match)\n",
      "- sporty\n",
      "\t- pizza          : Italian open pie made of thin bread dough spread with a spiced mixture of e.g. tomato sauce and cheese\n",
      "\t- hamburger      : a sandwich consisting of a fried cake of minced beef served on a bun, often with other ingredients\n",
      "\t- hamburgers     : a sandwich consisting of a fried cake of minced beef served on a bun, often with other ingredients\n",
      "\t- cheeseburger   : a hamburger with melted cheese on it\n",
      "\t- gyro           : a Greek sandwich: sliced roast lamb with onion and tomato stuffed into pita bread\n",
      "\t- fries          : strips of potato fried in deep fat\n",
      "- match\n",
      "\t- cheeseburgers  : a hamburger with melted cheese on it\n",
      "----------------------------------------------------------------------------------------------------\n",
      "Sauces (4 in sporty and 1 in match)\n",
      "- sporty\n",
      "\t- gravy          : a sauce made by adding stock, flour, or other ingredients to the juice and fat that drips from cooking meats\n",
      "\t- balsamic       : of or relating to or containing balsam\n",
      "\t- dressing       : savory dressings for salads; basically of two kinds: either the thin French or vinaigrette type or the creamy mayonnaise...\n",
      "\t- curd           : a coagulated liquid resembling milk curd\n",
      "- match\n",
      "\t- sauces         : flavorful relish or dressing or topping served as an accompaniment to food\n",
      "----------------------------------------------------------------------------------------------------\n",
      "Balsamic (2 in sporty and 2 in match)\n",
      "- sporty\n",
      "\t- caramel        : firm chewy candy made from caramelized sugar and butter and milk\n",
      "\t- honey          : a sweet yellow liquid produced by bees\n",
      "- match\n",
      "\t- sweet          : English phonetician; one of the founders of modern phonetics (1845-1912)\n",
      "\t- anise          : native to Egypt but cultivated widely for its aromatic seeds and the oil from them used medicinally and as a flavoring i...\n",
      "----------------------------------------------------------------------------------------------------\n",
      "Soups (2 in sporty and 2 in match)\n",
      "- sporty\n",
      "\t- soup           : liquid food especially of meat or fish or vegetable stock often containing pieces of solid food\n",
      "\t- oxtail         : the skinned tail of cattle; used especially for soups\n",
      "- match\n",
      "\t- chowder        : a thick soup or stew made with milk and bacon and onions and potatoes\n",
      "\t- chili          : ground beef and chili peppers or chili powder often with tomatoes and kidney beans\n",
      "----------------------------------------------------------------------------------------------------\n",
      "Poultry (2 in sporty and 1 in match)\n",
      "- sporty\n",
      "\t- chicken        : the flesh of a chicken used for food\n",
      "\t- turkey         : large gallinaceous bird with fan-shaped tail; widely domesticated for food\n",
      "- match\n",
      "\t- quail          : flesh of quail; suitable for roasting or broiling if young; otherwise must be braised\n",
      "----------------------------------------------------------------------------------------------------\n",
      "Nuts (4 in sporty and 0 in match)\n",
      "- sporty\n",
      "\t- almond         : small bushy deciduous tree native to Asia and North Africa having pretty pink blossoms and highly prized edible nuts enc...\n",
      "\t- nuts           : usually large hard-shelled seed\n",
      "\t- peanut         : underground pod of the peanut vine\n",
      "\t- walnuts        : nut of any of various walnut trees having a wrinkled two-lobed seed with a hard shell\n",
      "- match\n",
      "----------------------------------------------------------------------------------------------------\n"
     ]
    }
   ],
   "source": [
    "def print_definitions():\n",
    "    for c in df.index:#[_.lower() for _ in df.index.tolist()]:\n",
    "        fc_n = tn[tn.food_cat == c]\n",
    "        fc_s = ts[ts.food_cat == c]\n",
    "        print(\"{} ({} in sporty and {} in match)\".format(c.capitalize(), fc_s.shape[0], fc_n.shape[0]))\n",
    "        for utype, fc in [('sporty', fc_s),('match', fc_n)]:\n",
    "            print(\"- {}\".format(utype))\n",
    "    #         display(fc.head(10))\n",
    "            for i, r in fc.head(10).iterrows():\n",
    "                print(\"\\t- {:<15}: {}{}\".format(r[utype], r.definition[:120], \"...\" if len(r.definition) > 120 else ''))\n",
    "        print(\"-\"*100)\n",
    "\n",
    "print_definitions()"
   ]
  },
  {
   "cell_type": "markdown",
   "metadata": {},
   "source": [
    "### Collect list of people followed by each users "
   ]
  },
  {
   "cell_type": "code",
   "execution_count": 1830,
   "metadata": {
    "collapsed": true
   },
   "outputs": [],
   "source": [
    "with open(\"twitterauth.json\") as fd:\n",
    "    creds = json.load(fd)"
   ]
  },
  {
   "cell_type": "code",
   "execution_count": 1831,
   "metadata": {
    "collapsed": false
   },
   "outputs": [],
   "source": [
    "import tweepy\n",
    "\n",
    "auth = tweepy.OAuthHandler(creds['consumer_key'], creds['consumer_secret'])\n",
    "auth.set_access_token(creds['access_token'], creds['access_token_secret'])\n",
    "api = tweepy.API(auth)"
   ]
  },
  {
   "cell_type": "code",
   "execution_count": 1832,
   "metadata": {
    "collapsed": false
   },
   "outputs": [],
   "source": [
    "def collect_friends_ids(uid):\n",
    "    p = \"/data/1/sporty/users/friends_ids/%d\" % uid\n",
    "    file_missing = not os.path.exists(p)\n",
    "    if file_missing or os.path.getsize(p) == 0:\n",
    "        with open(p, 'w') as fd:\n",
    "            try:\n",
    "                l = api.friends_ids(id=uid)\n",
    "                for fid in l:\n",
    "                    fd.write(\"%d\\n\" % fid)\n",
    "                time.sleep(60) # avoid reaching rate limit of 15 requests per 15 minute window\n",
    "            except:\n",
    "                time.sleep(60) # wait more because rate limit has been reached\n",
    "                \n",
    "# n_users[keep_idx].id.progress_apply(collect_friends_ids)\n",
    "# s_users[keep_idx].id.progress_apply(collect_friends_ids)"
   ]
  },
  {
   "cell_type": "code",
   "execution_count": 73,
   "metadata": {
    "collapsed": false
   },
   "outputs": [],
   "source": [
    "def load_friends_list(uid):\n",
    "    p = \"/data/1/sporty/users/friends_ids/%d\" % uid\n",
    "    friends = []\n",
    "    if os.path.exists(p):\n",
    "        with open(p) as fd:\n",
    "            for l in fd:\n",
    "                friends.append(int(l.strip()))\n",
    "    return friends\n",
    "        \n",
    "n_users['friends'] = n_users.id.apply(load_friends_list)\n",
    "s_users['friends'] = s_users.id.apply(load_friends_list)"
   ]
  },
  {
   "cell_type": "markdown",
   "metadata": {},
   "source": [
    "### Exemplars"
   ]
  },
  {
   "cell_type": "code",
   "execution_count": 74,
   "metadata": {
    "collapsed": false
   },
   "outputs": [],
   "source": [
    "exemplars_set = set(pd.read_csv(\"exemplars.txt\", header=None)[0])"
   ]
  },
  {
   "cell_type": "markdown",
   "metadata": {},
   "source": [
    "### Collect user informations for each nutrition-related handle"
   ]
  },
  {
   "cell_type": "code",
   "execution_count": 75,
   "metadata": {
    "collapsed": true
   },
   "outputs": [],
   "source": [
    "nutrition_handles_set = exemplars_set #| good_guides_set"
   ]
  },
  {
   "cell_type": "code",
   "execution_count": 76,
   "metadata": {
    "collapsed": true
   },
   "outputs": [],
   "source": [
    "# recipe to iterate over any iterable by chunks of n\n",
    "from itertools import zip_longest\n",
    "def grouper(iterable, n, fillvalue=None):\n",
    "    \"Collect data into fixed-length chunks or blocks\"\n",
    "    # grouper('ABCDEFG', 3, 'x') --> ABC DEF Gxx\"\n",
    "    args = [iter(iterable)] * n\n",
    "    return zip_longest(*args, fillvalue=fillvalue)"
   ]
  },
  {
   "cell_type": "raw",
   "metadata": {},
   "source": [
    "get_output_path = lambda name: \"/data/1/sporty/users/nutrition_users/%s\" % name\n",
    "to_collect = lambda p: not os.path.exists(p) or os.path.getsize(p) == 0\n",
    "\n",
    "for n_handles in tqdm_notebook(grouper(list(nutrition_handles_set), 100)):\n",
    "    n_handles = [h for h in n_handles if to_collect(get_output_path(h))]\n",
    "    l = api.lookup_users(screen_names=n_handles)\n",
    "    \n",
    "    for u in l:\n",
    "        u = u.__dict__['_json']\n",
    "        p = get_output_path(u['screen_name'])\n",
    "        with open(p, 'w') as fd:\n",
    "            fd.write(\"%s\\n\" % json.dumps(u))"
   ]
  },
  {
   "cell_type": "markdown",
   "metadata": {},
   "source": [
    "### Loads ids of nutrition related accounts "
   ]
  },
  {
   "cell_type": "code",
   "execution_count": 78,
   "metadata": {
    "collapsed": false
   },
   "outputs": [],
   "source": [
    "import glob\n",
    "\n",
    "def load_nutrition_ids(re_path, limit_to=None):\n",
    "    nutrition_uids = {}\n",
    "    for p in glob.glob(re_path):\n",
    "        with open(p) as fd:\n",
    "            u = json.loads(fd.readline())\n",
    "            if limit_to is None or u['screen_name'] in limit_to:\n",
    "                nutrition_uids[u['screen_name']] = u['id']\n",
    "    return nutrition_uids\n",
    "\n",
    "\n",
    "exemplars_dict = load_nutrition_ids(\"/data/1/sporty/users/nutrition_users/*\", exemplars_set)\n",
    "exemplars_ids = set(exemplars_dict.values())"
   ]
  },
  {
   "cell_type": "markdown",
   "metadata": {},
   "source": [
    "## Analyze food-related friends and mentions for each group "
   ]
  },
  {
   "cell_type": "code",
   "execution_count": 85,
   "metadata": {
    "collapsed": false,
    "hide_input": false
   },
   "outputs": [],
   "source": [
    "def bucket(v):\n",
    "    if v == 0:\n",
    "        return '   0'\n",
    "    elif v < 5:\n",
    "        return '  ]0, 5['\n",
    "    elif v < 10:\n",
    "        return ' [5, 10['\n",
    "    else:\n",
    "        return '>= 10'"
   ]
  },
  {
   "cell_type": "markdown",
   "metadata": {},
   "source": [
    "### Build lists of nutrition friends"
   ]
  },
  {
   "cell_type": "code",
   "execution_count": 80,
   "metadata": {
    "collapsed": false
   },
   "outputs": [],
   "source": [
    "n_users['exemplar_friends'] = n_users.friends.apply(lambda l: l if type(l) == float else [_ for _ in l if _ in exemplars_ids])\n",
    "s_users['exemplar_friends'] = s_users.friends.apply(lambda l: l if type(l) == float else [_ for _ in l if _ in exemplars_ids])"
   ]
  },
  {
   "cell_type": "markdown",
   "metadata": {},
   "source": [
    "### Compare exemplar friends"
   ]
  },
  {
   "cell_type": "code",
   "execution_count": 83,
   "metadata": {
    "collapsed": false
   },
   "outputs": [
    {
     "data": {
      "image/png": "[encoded data removed]",
      "text/plain": [
       "<matplotlib.figure.Figure at 0x7f9c499a8da0>"
      ]
     },
     "metadata": {
      "image/png": {
       "height": 312,
       "width": 596
      }
     },
     "output_type": "display_data"
    }
   ],
   "source": [
    "exemplars_friends_df = pd.DataFrame()\n",
    "exemplars_friends_df['sporty'] = s_users.exemplar_friends.apply(lambda _: 0 if type(_) is float else len(_))\n",
    "exemplars_friends_df['match']  = n_users.exemplar_friends.apply(lambda _: 0 if type(_) is float else len(_))\n",
    "\n",
    "fig, ax = plt.subplots(figsize=(10,5))\n",
    "xl = [-1,13]\n",
    "exemplars_friends_df.apply(lambda _: _.value_counts().sort_index()).plot(kind='bar', alpha=1, ax=ax, logy=True)\n",
    "# exemplars_friends_df.plot(kind='kde', xlim=xl, ax=ax, secondary_y=True)\n",
    "ax.set_xlim(xl)\n",
    "ax.grid(True)\n",
    "ax.grid(b=True, which='minor')\n"
   ]
  },
  {
   "cell_type": "code",
   "execution_count": 86,
   "metadata": {
    "collapsed": false
   },
   "outputs": [
    {
     "data": {
      "image/png": "[encoded data removed]",
      "text/plain": [
       "<matplotlib.figure.Figure at 0x7f9c49782f28>"
      ]
     },
     "metadata": {
      "image/png": {
       "height": 280,
       "width": 424
      }
     },
     "output_type": "display_data"
    }
   ],
   "source": [
    "nutrition_friends_df = exemplars_friends_df #+ good_guides_friends_df\n",
    "\n",
    "fig, ax = plt.subplots()\n",
    "xl = [-1,12]\n",
    "nutrition_friends_df.applymap(bucket).apply(lambda _: _.value_counts().sort_index()).plot(kind='bar', ax=ax, color='white', lw=1)\n",
    "# nutrition_friends_df.plot(kind='kde', xlim=xl, ax=ax, secondary_y=True)\n",
    "# ax.set_xlim(xl)\n",
    "ax.grid(True)\n",
    "ax.grid(True, which='minor')\n",
    "ax.set_xlabel(\"Number of health examplar friends\")\n",
    "ax.set_ylabel(\"Number of users\")\n",
    "\n",
    "bar_hatch(nutrition_friends_df[:4],ax)\n",
    "plt.tight_layout()\n",
    "# fig.savefig(\"exemplar_friends.png\", dpi=600)"
   ]
  },
  {
   "cell_type": "code",
   "execution_count": 87,
   "metadata": {
    "collapsed": false
   },
   "outputs": [
    {
     "data": {
      "image/png": "[encoded data removed]",
      "text/plain": [
       "<matplotlib.figure.Figure at 0x7f9c49704048>"
      ]
     },
     "metadata": {
      "image/png": {
       "height": 280,
       "width": 424
      }
     },
     "output_type": "display_data"
    }
   ],
   "source": [
    "fig, ax = plt.subplots()\n",
    "plt.axhline(.5, zorder=1, ls='--', c='k')\n",
    "yl = [.3,.75]\n",
    "psporty = nutrition_friends_df.applymap(bucket).apply(lambda _: _.value_counts().sort_index())\n",
    "psporty['ratio'] = psporty.sporty / (psporty.sporty + psporty.match)\n",
    "psporty.ratio.plot(kind='bar', ax=ax, color='white', lw=1, zorder=2)\n",
    "\n",
    "ax.grid(True)\n",
    "ax.set_ylim(yl)\n",
    "ax.set_xlabel(\"Number of health examplar friends\")\n",
    "ax.set_ylabel(\"P(user in sporty group)\")\n",
    "plt.tight_layout()\n",
    "fig.savefig(\"exemplar_friends.png\", dpi=600)"
   ]
  },
  {
   "cell_type": "code",
   "execution_count": null,
   "metadata": {
    "collapsed": true
   },
   "outputs": [],
   "source": [
    "exemplars_friends_df.sort_values()"
   ]
  },
  {
   "cell_type": "code",
   "execution_count": 231,
   "metadata": {
    "collapsed": false,
    "scrolled": true
   },
   "outputs": [
    {
     "data": {
      "image/png": "[encoded data removed]",
      "text/plain": [
       "<matplotlib.figure.Figure at 0x7f9c4984c470>"
      ]
     },
     "metadata": {
      "image/png": {
       "height": 268,
       "width": 371
      }
     },
     "output_type": "display_data"
    }
   ],
   "source": [
    "def plot_smoothed_avg(df, window=100):\n",
    "    df_sporty = df[['sporty']]\n",
    "    df_sporty.columns = ['friends_count']\n",
    "    df_sporty['label'] = 1\n",
    "    df_match = df[['match']]\n",
    "    df_match.columns = ['friends_count']\n",
    "    df_match['label'] = 0\n",
    "    \n",
    "    new_df = df_sporty.append(df_match, ignore_index=True).sort_values('friends_count')\n",
    "    new_df = new_df[new_df.friends_count != 0] # comment this line to keep/remove users with no exemplar friends\n",
    "    new_df.index = range(new_df.shape[0])\n",
    "    new_df_rmean = new_df.rolling(window).mean()\n",
    "    new_df_rmean.index = np.arange(new_df_rmean.shape[0])\n",
    "    \n",
    "    new_df_rmean['original_friends_count'] = new_df.friends_count\n",
    "    new_df_rmean['original_label'] = new_df.label\n",
    "\n",
    "    new_df_rmean.dropna(inplace=True)\n",
    "    ax = new_df_rmean.plot(kind='line', x='friends_count', y='label', label='P(sporty|exemplar_friends)')\n",
    "    ax.set_xlabel(\"average exemplar friends\")\n",
    "    return new_df_rmean\n",
    "t = plot_smoothed_avg(exemplars_friends_df, window=100)"
   ]
  },
  {
   "cell_type": "markdown",
   "metadata": {},
   "source": [
    "### Filter mentions and simple count"
   ]
  },
  {
   "cell_type": "markdown",
   "metadata": {},
   "source": [
    "#### On all tweets of all users"
   ]
  },
  {
   "cell_type": "code",
   "execution_count": 89,
   "metadata": {
    "collapsed": false
   },
   "outputs": [
    {
     "name": "stdout",
     "output_type": "stream",
     "text": [
      "\n",
      "\n"
     ]
    }
   ],
   "source": [
    "mentions_re = re.compile(\"^@[0-9a-zA-Z\\-_]+\")\n",
    "nutrition_handles_set_lower = set([_.lower() for _ in exemplars_set])\n",
    "nutrition_tokenize = lambda tw: tokenize(tw, collapse_mentions=False, bigrams=False, liwc=False, limit_repeats=False, keep_mentions=True)\n",
    "n_mentions = n_users.tweets.progress_apply(lambda l: [tk for tw in l for tk in nutrition_tokenize(tw) if mentions_re.match(tk) and tk[1:] in nutrition_handles_set_lower])\n",
    "s_mentions = s_users.tweets.progress_apply(lambda l: [tk for tw in l for tk in nutrition_tokenize(tw) if mentions_re.match(tk) and tk[1:] in nutrition_handles_set_lower])"
   ]
  },
  {
   "cell_type": "code",
   "execution_count": 90,
   "metadata": {
    "collapsed": false
   },
   "outputs": [
    {
     "data": {
      "text/html": [
       "<div>\n",
       "<table border=\"1\" class=\"dataframe\">\n",
       "  <thead>\n",
       "    <tr style=\"text-align: right;\">\n",
       "      <th></th>\n",
       "      <th>sporty</th>\n",
       "      <th>match</th>\n",
       "    </tr>\n",
       "  </thead>\n",
       "  <tbody>\n",
       "    <tr>\n",
       "      <th>count</th>\n",
       "      <td>1034.000000</td>\n",
       "      <td>1034.000000</td>\n",
       "    </tr>\n",
       "    <tr>\n",
       "      <th>mean</th>\n",
       "      <td>1.240812</td>\n",
       "      <td>0.567698</td>\n",
       "    </tr>\n",
       "    <tr>\n",
       "      <th>std</th>\n",
       "      <td>10.435300</td>\n",
       "      <td>4.143337</td>\n",
       "    </tr>\n",
       "    <tr>\n",
       "      <th>min</th>\n",
       "      <td>0.000000</td>\n",
       "      <td>0.000000</td>\n",
       "    </tr>\n",
       "    <tr>\n",
       "      <th>25%</th>\n",
       "      <td>0.000000</td>\n",
       "      <td>0.000000</td>\n",
       "    </tr>\n",
       "    <tr>\n",
       "      <th>50%</th>\n",
       "      <td>0.000000</td>\n",
       "      <td>0.000000</td>\n",
       "    </tr>\n",
       "    <tr>\n",
       "      <th>75%</th>\n",
       "      <td>0.000000</td>\n",
       "      <td>0.000000</td>\n",
       "    </tr>\n",
       "    <tr>\n",
       "      <th>max</th>\n",
       "      <td>287.000000</td>\n",
       "      <td>87.000000</td>\n",
       "    </tr>\n",
       "  </tbody>\n",
       "</table>\n",
       "</div>"
      ],
      "text/plain": [
       "            sporty        match\n",
       "count  1034.000000  1034.000000\n",
       "mean      1.240812     0.567698\n",
       "std      10.435300     4.143337\n",
       "min       0.000000     0.000000\n",
       "25%       0.000000     0.000000\n",
       "50%       0.000000     0.000000\n",
       "75%       0.000000     0.000000\n",
       "max     287.000000    87.000000"
      ]
     },
     "execution_count": 90,
     "metadata": {},
     "output_type": "execute_result"
    }
   ],
   "source": [
    "mentions_df = pd.DataFrame()\n",
    "mentions_df['sporty'] = s_mentions.apply(len)\n",
    "mentions_df['match'] = n_mentions.apply(len)\n",
    "mentions_diff = mentions_df.sporty - mentions_df.match\n",
    "mentions_df.describe()"
   ]
  },
  {
   "cell_type": "code",
   "execution_count": 2762,
   "metadata": {
    "collapsed": false
   },
   "outputs": [
    {
     "data": {
      "image/png": "[encoded data removed]",
      "text/plain": [
       "<matplotlib.figure.Figure at 0x7f43c851f3c8>"
      ]
     },
     "metadata": {
      "image/png": {
       "height": 280,
       "width": 424
      }
     },
     "output_type": "display_data"
    }
   ],
   "source": [
    "fig, ax = plt.subplots()\n",
    "xl = [-1,20]\n",
    "mentions_df.applymap(bucket).apply(lambda _: _.value_counts().sort_index()).plot(kind='bar', ax=ax, color='white', lw=1)\n",
    "ax.set_ylim([0,850])\n",
    "ax.grid(True)\n",
    "# ax.grid(True, which='minor')\n",
    "ax.set_xlabel(\"Mentions of health-related accounts\")\n",
    "ax.set_ylabel(\"Number of users\")\n",
    "\n",
    "bar_hatch(mentions_df[:4],ax)\n",
    "plt.tight_layout()\n",
    "fig.savefig(\"exemplar_mentions.png\", dpi=600)"
   ]
  },
  {
   "cell_type": "markdown",
   "metadata": {},
   "source": [
    "## Train on food features only"
   ]
  },
  {
   "cell_type": "code",
   "execution_count": 2586,
   "metadata": {
    "collapsed": false
   },
   "outputs": [],
   "source": [
    "def keep_food_vocab(l):\n",
    "    return list( set([w for tw in l for w in tw.split()]) & set(foodb_words | weber_lexicon) - exclude_words )\n",
    "n_users['food_vocab'] = n_users.tweets.progress_apply(keep_food_vocab)\n",
    "s_users['food_vocab'] = s_users.tweets.progress_apply(keep_food_vocab)"
   ]
  },
  {
   "cell_type": "code",
   "execution_count": 2660,
   "metadata": {
    "collapsed": false
   },
   "outputs": [],
   "source": [
    "all_food_users = n_users[keep_idx].append(s_users[keep_idx])\n",
    "all_food_vocab = all_food_users.food_vocab"
   ]
  },
  {
   "cell_type": "code",
   "execution_count": 2681,
   "metadata": {
    "collapsed": false
   },
   "outputs": [],
   "source": [
    "vec_food = TfidfVectorizer(binary=True, min_df=3)\n",
    "\n",
    "X_food_a = vec_food.fit_transform(all_food_vocab.apply(lambda _: \" \".join(_)))\n",
    "features_food_a = np.array(vec_food.get_feature_names())\n",
    "\n",
    "food_users_per_group = int(X_food_a.shape[0]/2)\n",
    "y_food_a = np.zeros((2*food_users_per_group))\n",
    "y_food_a[food_users_per_group:] = 1"
   ]
  },
  {
   "cell_type": "code",
   "execution_count": 2703,
   "metadata": {
    "collapsed": false
   },
   "outputs": [
    {
     "name": "stdout",
     "output_type": "stream",
     "text": [
      "(1, 411)\n"
     ]
    }
   ],
   "source": [
    "food_coefs = most_discrim_lr(X_food_a, y_food_a, features_food_a, 1000)\n",
    "food_coefs = food_coefs[['match', 'coef_match']]\n",
    "food_coefs.index = food_coefs.match\n",
    "food_coefs = food_coefs.drop('match', axis=1)\n",
    "food_coefs.index.name = \"food_name\"\n",
    "food_coefs.columns = ['coef']"
   ]
  },
  {
   "cell_type": "code",
   "execution_count": 2683,
   "metadata": {
    "collapsed": false
   },
   "outputs": [
    {
     "data": {
      "text/plain": [
       "array([[ 299.,  231.],\n",
       "       [ 278.,  252.]])"
      ]
     },
     "execution_count": 2683,
     "metadata": {},
     "output_type": "execute_result"
    }
   ],
   "source": [
    "thresh = .51\n",
    "clf = LogisticRegression(class_weight='balanced')\n",
    "conf_matrix = np.zeros((2,2))\n",
    "misclassified = []\n",
    "for tr, te in tqdm_notebook(KFold(food_users_per_group*2, 10, shuffle=True, random_state=1234)):\n",
    "    X_food_tr, X_food_te = X_food_a[tr], X_food_a[te]\n",
    "    y_food_tr, y_food_te = y_food_a[tr], y_food_a[te]\n",
    "    clf.fit(X_food_tr, y_food_tr)\n",
    "    y_food_proba = clf.predict_proba(X_food_te)[:,1]\n",
    "    y_food_pred = np.array(y_food_proba > thresh).astype(int)\n",
    "    y_misclassified = y_food_pred != y_food_te\n",
    "    \n",
    "    misclassified.extend(zip(te[y_misclassified], y_food_proba[y_misclassified], y_food_pred[y_misclassified]))\n",
    "    conf_matrix += metrics.confusion_matrix(y_food_te, y_food_pred)\n",
    "conf_matrix"
   ]
  },
  {
   "cell_type": "code",
   "execution_count": 2665,
   "metadata": {
    "collapsed": false
   },
   "outputs": [],
   "source": [
    "df_food_proba = pd.DataFrame(misclassified, columns=['row_idx', 'confidence_sporty', 'prediction'])\n",
    "df_food_proba = df_food_proba.sort_values(\"confidence_sporty\", ascending=False)"
   ]
  },
  {
   "cell_type": "code",
   "execution_count": 2722,
   "metadata": {
    "collapsed": false,
    "scrolled": true
   },
   "outputs": [],
   "source": [
    "mis_df = df_food_proba\n",
    "mis_w_p0 = []\n",
    "mis_w_p1 = []\n",
    "for (i, r), (j, p) in tqdm_notebook(zip(all_food_users.iloc[mis_df.row_idx.tolist()].iterrows(), mis_df.iterrows())):\n",
    "#     print(\"ID: {} predicted {} true {}\".format(r.id, p.prediction, 1-p.prediction))\n",
    "    sorted_food_vocab = sorted([(_, food_coefs.loc[_].coef if _ in food_coefs.index else 0) for _ in r.food_vocab], key=lambda _: _[1], reverse=True)\n",
    "    if p.prediction == 0:\n",
    "        mis_w_p0.extend([w for w, c in sorted_food_vocab if c < 0])\n",
    "    else:\n",
    "        mis_w_p1.extend([w for w, c in sorted_food_vocab if c > 0])\n",
    "\n",
    "#     for w, c in sorted_food_vocab[:30]:\n",
    "#         print(\"\\t{:.<20}{:.>10.3f}\".format(w, c))"
   ]
  },
  {
   "cell_type": "code",
   "execution_count": 2723,
   "metadata": {
    "collapsed": false
   },
   "outputs": [
    {
     "data": {
      "text/plain": [
       "[('water', 238),\n",
       " ('sweet', 224),\n",
       " ('beer', 185),\n",
       " ('chocolate', 170),\n",
       " ('cream', 169),\n",
       " ('cheese', 165),\n",
       " ('milk', 110),\n",
       " ('egg', 109),\n",
       " ('salad', 108),\n",
       " ('peanut', 104),\n",
       " ('spread', 100),\n",
       " ('cookie', 100),\n",
       " ('pie', 93),\n",
       " ('eggs', 92),\n",
       " ('pumpkin', 88),\n",
       " ('spirit', 86),\n",
       " ('bear', 86),\n",
       " ('horse', 80),\n",
       " ('juice', 74),\n",
       " ('honey', 69)]"
      ]
     },
     "execution_count": 2723,
     "metadata": {},
     "output_type": "execute_result"
    }
   ],
   "source": [
    "Counter(mis_w_p0).most_common(20)"
   ]
  },
  {
   "cell_type": "code",
   "execution_count": 2724,
   "metadata": {
    "collapsed": false
   },
   "outputs": [
    {
     "data": {
      "text/plain": [
       "[('coffee', 201),\n",
       " ('pizza', 163),\n",
       " ('chicken', 156),\n",
       " ('wine', 140),\n",
       " ('cake', 120),\n",
       " ('fish', 117),\n",
       " ('tea', 113),\n",
       " ('butter', 107),\n",
       " ('sugar', 103),\n",
       " ('meat', 100),\n",
       " ('bacon', 100),\n",
       " ('root', 87),\n",
       " ('soup', 87),\n",
       " ('sauce', 86),\n",
       " ('fruit', 83),\n",
       " ('turkey', 82),\n",
       " ('nuts', 78),\n",
       " ('beef', 74),\n",
       " ('potato', 70),\n",
       " ('corn', 70)]"
      ]
     },
     "execution_count": 2724,
     "metadata": {},
     "output_type": "execute_result"
    }
   ],
   "source": [
    "Counter(mis_w_p1).most_common(20)"
   ]
  }
 ],
 "metadata": {
  "kernelspec": {
   "display_name": "Python 3",
   "language": "python",
   "name": "python3"
  },
  "language_info": {
   "codemirror_mode": {
    "name": "ipython",
    "version": 3
   },
   "file_extension": ".py",
   "mimetype": "text/x-python",
   "name": "python",
   "nbconvert_exporter": "python",
   "pygments_lexer": "ipython3",
   "version": "3.4.3"
  },
  "nav_menu": {},
  "toc": {
   "navigate_menu": true,
   "number_sections": true,
   "sideBar": true,
   "threshold": 6,
   "toc_cell": false,
   "toc_section_display": "block",
   "toc_window_display": true
  },
  "widgets": {
   "state": {
    "1cffe4eca4b34ceba1f26bebabb04e13": {
     "views": [
      {
       "cell_index": 81
      }
     ]
    },
    "1ecd94579f554237aafc7b52463f6ae0": {
     "views": [
      {
       "cell_index": 81
      }
     ]
    },
    "305de343835e44cf9a765c901b8c489e": {
     "views": [
      {
       "cell_index": 115
      }
     ]
    },
    "3f91c921ab034e579e8b147d0ef2bef9": {
     "views": [
      {
       "cell_index": 116
      }
     ]
    },
    "6271bf1632e347e49e644755606a2c20": {
     "views": [
      {
       "cell_index": 115
      }
     ]
    },
    "6cffe88a62664053b8cff431ad851486": {
     "views": [
      {
       "cell_index": 20
      }
     ]
    },
    "76aba271e382413ca5b6389d47ad34bb": {
     "views": [
      {
       "cell_index": 20
      }
     ]
    },
    "7e354340fb5a4f719ded8c5846222f3d": {
     "views": [
      {
       "cell_index": 144
      }
     ]
    },
    "864444d1882347859c22268a19ba5ff3": {
     "views": [
      {
       "cell_index": 105
      }
     ]
    },
    "86bfa3a10ba04904a579ec74d9790e13": {
     "views": [
      {
       "cell_index": 144
      }
     ]
    },
    "87bc15dff6704a03a10a286f34214ff1": {
     "views": [
      {
       "cell_index": 78
      }
     ]
    },
    "8a4d667b329f417a9843134aa41c76d1": {
     "views": [
      {
       "cell_index": 105
      }
     ]
    },
    "8e3bf19bb46b4fc08b892fe5c899e45e": {
     "views": [
      {
       "cell_index": 115
      }
     ]
    },
    "afaa6e25d4e14936b62178ee2d0f1100": {
     "views": [
      {
       "cell_index": 78
      }
     ]
    },
    "cff54343c7ad4345b6be32b8fd70c679": {
     "views": [
      {
       "cell_index": 80
      }
     ]
    },
    "d1d88180c27d46ae926321da8a81da15": {
     "views": [
      {
       "cell_index": 78
      }
     ]
    },
    "d46ff74975f344488db97b2f00a1f997": {
     "views": [
      {
       "cell_index": 116
      }
     ]
    },
    "ea1ced51144e4da69d70c0ed65c6c8dd": {
     "views": [
      {
       "cell_index": 0
      }
     ]
    },
    "f11fa256feff47ae87c4121f550082e2": {
     "views": [
      {
       "cell_index": 115
      }
     ]
    }
   },
   "version": "1.2.0"
  }
 },
 "nbformat": 4,
 "nbformat_minor": 0
}
