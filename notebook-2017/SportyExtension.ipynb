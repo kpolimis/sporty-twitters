{
 "cells": [
  {
   "cell_type": "code",
   "execution_count": 213,
   "metadata": {
    "collapsed": false
   },
   "outputs": [
    {
     "name": "stdout",
     "output_type": "stream",
     "text": [
      "\n"
     ]
    }
   ],
   "source": [
    "import json\n",
    "import pandas as pd\n",
    "import numpy as np\n",
    "import pymongo\n",
    "import os.path\n",
    "import seaborn as sns\n",
    "import re\n",
    "import matplotlib.pyplot as plt\n",
    "import string\n",
    "\n",
    "from tqdm import tqdm, tqdm_notebook, tqdm_pandas\n",
    "from collections import defaultdict, Counter\n",
    "from sklearn.feature_extraction.text import TfidfVectorizer\n",
    "from sklearn.feature_selection import SelectKBest, chi2\n",
    "from sklearn.pipeline import Pipeline\n",
    "from sklearn import preprocessing, metrics\n",
    "from sklearn.cross_validation import KFold\n",
    "from sklearn.linear_model import LogisticRegression\n",
    "\n",
    "tqdm_notebook().pandas()\n",
    "sns.set_context('talk')\n",
    "sns.set_style('whitegrid')\n",
    "\n",
    "%matplotlib inline"
   ]
  },
  {
   "cell_type": "markdown",
   "metadata": {},
   "source": [
    "# Load data"
   ]
  },
  {
   "cell_type": "markdown",
   "metadata": {},
   "source": [
    "## Control and treatment groups"
   ]
  },
  {
   "cell_type": "markdown",
   "metadata": {},
   "source": [
    "###  Load users information"
   ]
  },
  {
   "cell_type": "code",
   "execution_count": 2,
   "metadata": {
    "collapsed": false
   },
   "outputs": [],
   "source": [
    "n_users = pd.read_csv(\"./nosport_users_stats\")\n",
    "s_users = pd.read_csv(\"./sport_users_stats\")\n",
    "\n",
    "for df in [n_users, s_users]:\n",
    "    df.index = df['id']"
   ]
  },
  {
   "cell_type": "code",
   "execution_count": 3,
   "metadata": {
    "collapsed": false
   },
   "outputs": [
    {
     "data": {
      "text/plain": [
       "((1160, 7), (1160, 7))"
      ]
     },
     "execution_count": 3,
     "metadata": {},
     "output_type": "execute_result"
    }
   ],
   "source": [
    "s_users.shape, n_users.shape"
   ]
  },
  {
   "cell_type": "markdown",
   "metadata": {},
   "source": [
    "### Load matches"
   ]
  },
  {
   "cell_type": "markdown",
   "metadata": {},
   "source": [
    "Load matches file."
   ]
  },
  {
   "cell_type": "code",
   "execution_count": 4,
   "metadata": {
    "collapsed": false
   },
   "outputs": [],
   "source": [
    "matches = pd.read_csv(\"/data/1/sporty/users/classification/matches.txt\", header=None, names=['sport', 'nosport'])"
   ]
  },
  {
   "cell_type": "markdown",
   "metadata": {},
   "source": [
    "Some users have been matched twice to a sport users, we remove these duplicate entries here although we missed them in 2014."
   ]
  },
  {
   "cell_type": "code",
   "execution_count": 5,
   "metadata": {
    "collapsed": false
   },
   "outputs": [],
   "source": [
    "matches = matches.drop_duplicates(subset=['nosport'])\n",
    "n_users = n_users.drop_duplicates(subset=['id'])"
   ]
  },
  {
   "cell_type": "markdown",
   "metadata": {},
   "source": [
    "Align users' dataframes."
   ]
  },
  {
   "cell_type": "code",
   "execution_count": 6,
   "metadata": {
    "collapsed": false
   },
   "outputs": [],
   "source": [
    "s_users = s_users.loc[matches.sport.tolist()]\n",
    "s_users.index = np.arange(s_users.shape[0])\n",
    "n_users = n_users.loc[matches.nosport.tolist()]\n",
    "n_users.index = np.arange(n_users.shape[0])"
   ]
  },
  {
   "cell_type": "code",
   "execution_count": 7,
   "metadata": {
    "collapsed": false
   },
   "outputs": [
    {
     "data": {
      "text/plain": [
       "((1153, 7), (1153, 7))"
      ]
     },
     "execution_count": 7,
     "metadata": {},
     "output_type": "execute_result"
    }
   ],
   "source": [
    "s_users.shape, n_users.shape"
   ]
  },
  {
   "cell_type": "markdown",
   "metadata": {},
   "source": [
    "Remove users that are in both groups and their match that we missed last time."
   ]
  },
  {
   "cell_type": "code",
   "execution_count": 8,
   "metadata": {
    "collapsed": false
   },
   "outputs": [],
   "source": [
    "# find users in both groups\n",
    "both_groups = set(s_users['id']) & set(n_users['id'])\n",
    "\n",
    "# find lines with users in both groups\n",
    "s_idx_to_remove = s_users.id.where(s_users.id.apply(lambda _: _ in both_groups)).dropna().index.tolist()\n",
    "n_idx_to_remove = n_users.id.where(n_users.id.apply(lambda _: _ in both_groups)).dropna().index.tolist()\n",
    "idx_to_remove = s_idx_to_remove + n_idx_to_remove\n",
    "\n",
    "# remove lines from users' dataframes\n",
    "s_users = s_users.drop(idx_to_remove, axis=0)\n",
    "n_users = n_users.drop(idx_to_remove, axis=0)"
   ]
  },
  {
   "cell_type": "code",
   "execution_count": 9,
   "metadata": {
    "collapsed": false
   },
   "outputs": [
    {
     "data": {
      "text/plain": [
       "((1137, 7), (1137, 7))"
      ]
     },
     "execution_count": 9,
     "metadata": {},
     "output_type": "execute_result"
    }
   ],
   "source": [
    "s_users.shape, n_users.shape"
   ]
  },
  {
   "cell_type": "markdown",
   "metadata": {},
   "source": [
    "### Load tweets for each user "
   ]
  },
  {
   "cell_type": "markdown",
   "metadata": {},
   "source": [
    "For each user, load scraped tweets, without auto-generated tweets by physical applications, and removing retweets."
   ]
  },
  {
   "cell_type": "code",
   "execution_count": 51,
   "metadata": {
    "collapsed": true
   },
   "outputs": [],
   "source": [
    "def load_tweets(user_id, data_dir, remove_hash=None, keep_rt=False):\n",
    "    user_p = os.path.join(data_dir, user_id)\n",
    "    tweets = []\n",
    "    with open(user_p) as fd:\n",
    "        for l in fd:\n",
    "            o = json.loads(l)\n",
    "            # check for retweets\n",
    "            if not keep_rt and 'retweeted_status' in o:\n",
    "                keep_tw = False\n",
    "            else:\n",
    "                # check for hashtags to avoid\n",
    "                h = set([_['text'].lower() for _ in o['entities']['hashtags']])\n",
    "                keep_tw = remove_hash is None or not (h & set(remove_hash))\n",
    "            \n",
    "            if keep_tw:\n",
    "                tweets.append(o['text'])\n",
    "    return tweets\n",
    "    \n",
    "auto_hash = ['runkeeper', 'nikeplus', 'runtastic', 'endomondo', 'mapmyrun', 'strava', 'cyclemeter', 'fitstats', 'mapmyfitness', 'runmeter']\n",
    "\n",
    "def load_tweets_sport(user_id):\n",
    "    return load_tweets(user_id, \"/data/1/sporty/tweets/from_users/sport/\", remove_hash=auto_hash)\n",
    "    \n",
    "def load_tweets_nosport(user_id):\n",
    "    return load_tweets(user_id, \"/data/1/sporty/tweets/from_users/no_sport/\", remove_hash=auto_hash)"
   ]
  },
  {
   "cell_type": "code",
   "execution_count": 60,
   "metadata": {
    "collapsed": false
   },
   "outputs": [],
   "source": [
    "s_users['tweets'] = s_users.id.astype(str).progress_apply(load_tweets_sport)\n",
    "n_users['tweets'] = n_users.id.astype(str).progress_apply(load_tweets_nosport)"
   ]
  },
  {
   "cell_type": "code",
   "execution_count": 75,
   "metadata": {
    "collapsed": false
   },
   "outputs": [],
   "source": [
    "s_users['tweets_count'] = s_users.tweets.apply(len)\n",
    "n_users['tweets_count'] = n_users.tweets.apply(len)"
   ]
  },
  {
   "cell_type": "markdown",
   "metadata": {},
   "source": [
    "Drop users' (and their match) that have no remaining tweets."
   ]
  },
  {
   "cell_type": "code",
   "execution_count": 594,
   "metadata": {
    "collapsed": false
   },
   "outputs": [],
   "source": [
    "notweets_nidx = n_users.index[n_users.tweets_count == 0].tolist()\n",
    "notweets_sidx = s_users.index[s_users.tweets_count == 0].tolist()\n",
    "notweets_idx = notweets_nidx + notweets_sidx"
   ]
  },
  {
   "cell_type": "code",
   "execution_count": 604,
   "metadata": {
    "collapsed": false
   },
   "outputs": [],
   "source": [
    "s_users = s_users.drop(notweets_idx)\n",
    "n_users = n_users.drop(notweets_idx)"
   ]
  },
  {
   "cell_type": "markdown",
   "metadata": {},
   "source": [
    "## Mood annotated data"
   ]
  },
  {
   "cell_type": "code",
   "execution_count": 86,
   "metadata": {
    "collapsed": false
   },
   "outputs": [
    {
     "name": "stdout",
     "output_type": "stream",
     "text": [
      "\n"
     ]
    }
   ],
   "source": [
    "def load_labeled_mood(p):\n",
    "    tweets = []\n",
    "    with open(p) as fd:\n",
    "        for l in tqdm_notebook(fd):\n",
    "            o = json.loads(l)\n",
    "            tweets.append({k: o[k] for k in ['text', 'AH', 'DD', 'TA']})\n",
    "    return pd.DataFrame(tweets)\n",
    "\n",
    "mood_tweets_df = load_labeled_mood(\"/data/1/sporty/tweets/labeled/3K_labeled\")"
   ]
  },
  {
   "cell_type": "markdown",
   "metadata": {},
   "source": [
    "### Load LIWC lexicon"
   ]
  },
  {
   "cell_type": "code",
   "execution_count": 91,
   "metadata": {
    "code_folding": [
     9
    ],
    "collapsed": true
   },
   "outputs": [],
   "source": [
    "''' Data structure and utility functions for reading and querying a LIWC\n",
    "lexicon. Data described here:\n",
    "http://homepage.psy.utexas.edu/homepage/faculty/pennebaker/reprints/LIWC2001.pdf\n",
    "'''\n",
    "\n",
    "from collections import defaultdict\n",
    "import os\n",
    "\n",
    "\n",
    "class Lexicon(object):\n",
    "    \"\"\"\n",
    "    >>> import tempfile\n",
    "    >>> tf = tempfile.NamedTemporaryFile()\n",
    "    >>> tf.write(\"%\\\\n1\\\\tPronoun\\\\n2\\\\tI\\\\n3\\tGreet\\\\n%\\\\ni\\\\t01 02\\\\nhis\\\\t01\\\\nhi*\\t03\")\n",
    "    >>> tf.flush()\n",
    "    >>> d = Lexicon(tf.name)\n",
    "    >>> d.categories_for_tokens(['i', 'his'])\n",
    "    [[u'Pronoun', u'I'], [u'Pronoun']]\n",
    "    >>> d.categories_for_tokens(['his'])\n",
    "    [[u'Pronoun']]\n",
    "    >>> cts = d.counts_for_tokens(['i', 'his'])\n",
    "    >>> cts[u'I']\n",
    "    1\n",
    "    >>> cts[u'Pronoun']\n",
    "    2\n",
    "    >>> d.categories_for_tokens(['zebra'])\n",
    "    [[]]\n",
    "    >>> d.categories_for_tokens(['hithere'])\n",
    "    [[u'Greet']]\n",
    "    \"\"\"\n",
    "\n",
    "    def __init__(self, dict_file=None):\n",
    "        self.dict_file = dict_file\n",
    "        self.load_dictionary(dict_file)\n",
    "\n",
    "    def parse_categories(self, catText):\n",
    "        lines = catText.split(\"\\n\")\n",
    "        self.categories = {}\n",
    "        for line in lines:\n",
    "            if len(line) > 0:\n",
    "                key, val = line.split()\n",
    "                self.categories[str(key)] = str(val)\n",
    "\n",
    "    def parse_patterns(self, regExps):\n",
    "        lines = regExps.split(\"\\n\")\n",
    "        self.exact_patterns = {}\n",
    "        self.prefix_patterns = {}\n",
    "        for line in lines:\n",
    "            if len(line) > 0 and not line.startswith('//'):\n",
    "                vals = line.split()\n",
    "                exp = vals[0]\n",
    "                ids = [str(int(v)) for v in vals[1:]]\n",
    "                if '*' in exp:\n",
    "                    self.prefix_patterns[exp[:-1]] = ids\n",
    "                else:\n",
    "                    self.exact_patterns[exp] = ids\n",
    "\n",
    "    def load_dictionary(self, dict_file):\n",
    "        dict_text = open(dict_file).read()\n",
    "        as_list = dict_text.split(\"%\")\n",
    "        self.parse_categories(as_list[1])\n",
    "        self.parse_patterns(as_list[2])\n",
    "\n",
    "    def categories_for_token(self, word):\n",
    "        result = []\n",
    "        if word in self.exact_patterns:\n",
    "            result.extend(self.exact_patterns[word])\n",
    "        else:\n",
    "            for i in range(0, len(word)):\n",
    "                if word[:-i] in self.prefix_patterns:\n",
    "                    result.extend(self.prefix_patterns[word[:-i]])\n",
    "        return [self.categories[c] for c in result]\n",
    "\n",
    "    def categories_for_tokens(self, tokens):\n",
    "        \"\"\" Returns a list of lists. For each token, create a list of categories\n",
    "        it belongs to.\"\"\"\n",
    "        return [self.categories_for_token(token) for token in tokens]\n",
    "\n",
    "    def counts_for_tokens(self, tokens):\n",
    "        \"\"\" Returns a dict mapping categories to counts from this list of\n",
    "        tokens. \"\"\"\n",
    "        cats = self.categories_for_tokens(tokens)\n",
    "        d = defaultdict(lambda: 0)\n",
    "        for a in cats:\n",
    "            for b in a:\n",
    "                d[b] += 1\n",
    "        return d\n",
    "    \n",
    "lex = Lexicon(\"./liwc.dic\")"
   ]
  },
  {
   "cell_type": "markdown",
   "metadata": {},
   "source": [
    "###  Load emoticons "
   ]
  },
  {
   "cell_type": "code",
   "execution_count": 115,
   "metadata": {
    "collapsed": false
   },
   "outputs": [],
   "source": [
    "emoticon_df = pd.read_csv(\"emoticons\", sep=\" \", header=None, names=['tag', 'emoticon'], index_col=1)\n",
    "emoticon_dict = emoticon_df.to_dict(orient='dict')['tag']"
   ]
  },
  {
   "cell_type": "markdown",
   "metadata": {},
   "source": [
    "###  Build features encoding"
   ]
  },
  {
   "cell_type": "markdown",
   "metadata": {},
   "source": [
    "Build tokenizer"
   ]
  },
  {
   "cell_type": "code",
   "execution_count": 371,
   "metadata": {
    "collapsed": false
   },
   "outputs": [],
   "source": [
    "def tokenize(text, remove_hashtags=True, collapse_hashtags=True, collapse_mentions=True, collapse_urls=True, collapse_digits=True, limit_repeats=True):\n",
    "    punc = string.punctuation\n",
    "    text = re.sub(\"\\s+\", \" \", text.lower())\n",
    "    if remove_hashtags:\n",
    "        text = re.sub('#\\S+', '', text)\n",
    "    elif collapse_hashtags:\n",
    "        text = re.sub('#\\S+', 'THIS_IS_A_HASHTAG', text)\n",
    "    else:\n",
    "        text = re.sub('#(\\S+)', r'HASHTAG_\\1', text)\n",
    "    if collapse_mentions:\n",
    "        text = re.sub('@\\S+', 'THIS_IS_A_MENTION', text)\n",
    "    if collapse_urls:\n",
    "        text = re.sub('http\\S+', 'THIS_IS_A_URL', text)\n",
    "    if limit_repeats:\n",
    "        text = re.sub(r'(.)\\1\\1\\1+', r'\\1', text)\n",
    "    if collapse_digits:\n",
    "        text = re.sub(r'[0-9]+', '9', text)\n",
    "    splits = text.split()\n",
    "    \n",
    "    punc_tokens = []\n",
    "    word_tokens = []\n",
    "    liwc_tokens = []\n",
    "    for tok in splits:\n",
    "        if tok in emoticon_dict:\n",
    "            word_tokens.append(emoticon_dict[tok])\n",
    "        else:\n",
    "            tok = tok.strip(punc)\n",
    "            if tok:\n",
    "                word_tokens.append(tok)\n",
    "        liwc_tokens.extend([\"LIWC_\" + _ for _ in lex.categories_for_token(tok)])\n",
    "    \n",
    "    liwc_tokens = list(set(liwc_tokens))\n",
    "    bigram_tokens = [\"_\".join(_) for _ in zip(word_tokens, word_tokens[1:])]\n",
    "    \n",
    "    return word_tokens + bigram_tokens + liwc_tokens"
   ]
  },
  {
   "cell_type": "markdown",
   "metadata": {},
   "source": [
    "### Build classifier for each dimension"
   ]
  },
  {
   "cell_type": "markdown",
   "metadata": {},
   "source": [
    "Apply to 3 mood dimensions."
   ]
  },
  {
   "cell_type": "code",
   "execution_count": 481,
   "metadata": {
    "collapsed": false
   },
   "outputs": [
    {
     "name": "stdout",
     "output_type": "stream",
     "text": [
      "\n"
     ]
    }
   ],
   "source": [
    "moods = ['AH', 'DD', 'TA']\n",
    "vecs = {}\n",
    "kbests = {}\n",
    "plines = {}\n",
    "Xs = {}\n",
    "clfs = {}\n",
    "features = {}\n",
    "top_features = {}\n",
    "n_features = 160\n",
    "\n",
    "for m in tqdm_notebook(moods):\n",
    "    # build pipeline\n",
    "    vecs[m] = TfidfVectorizer(tokenizer=tokenize, min_df=3, max_df=0.95)\n",
    "    kbests[m] = SelectKBest(chi2, n_features)\n",
    "    plines[m] = pipeline = Pipeline([('tfidf', vecs[m]), ('chi2', kbests[m])])\n",
    "    \n",
    "    # build doc term matrix\n",
    "    y = mood_tweets_df[m]\n",
    "    Xs[m] = plines[m].fit_transform(mood_tweets_df.text, y)\n",
    "    Xs[m] = preprocessing.scale(Xs[m].toarray())\n",
    "    # get labels\n",
    "\n",
    "    # train classifier\n",
    "    clfs[m] = LogisticRegression(class_weight='balanced')\n",
    "    clfs[m].fit(Xs[m],y)\n",
    "    \n",
    "    # retrieve features\n",
    "    support = kbests[m].get_support()\n",
    "    features[m] = np.array(vecs[m].get_feature_names())[support]\n",
    "    top_features[m] = [(features[m][i], clfs[m].coef_[0][i]) for i in clfs[m].coef_[0].argsort()[::-1]]"
   ]
  },
  {
   "cell_type": "markdown",
   "metadata": {},
   "source": [
    "###  Top features for each dimension"
   ]
  },
  {
   "cell_type": "code",
   "execution_count": 482,
   "metadata": {
    "collapsed": false
   },
   "outputs": [
    {
     "name": "stdout",
     "output_type": "stream",
     "text": [
      "Top features for AH\n",
      "    0. LIWC_Swear..............................0.628\n",
      "    1. your....................................0.468\n",
      "    2. hate....................................0.447\n",
      "    3. stupid..................................0.433\n",
      "    4. irritated...............................0.401\n",
      "    5. lame....................................0.398\n",
      "    6. so_mad..................................0.397\n",
      "    7. ugly....................................0.388\n",
      "    8. LIWC_Anger..............................0.356\n",
      "    9. you're..................................0.341\n",
      "   10. freakin.................................0.334\n",
      "   11. angry...................................0.323\n",
      "   12. fuck....................................0.321\n",
      "   13. alex....................................0.320\n",
      "   14. upset...................................0.301\n",
      "   15. shut....................................0.300\n",
      "   16. dumb....................................0.295\n",
      "   17. then....................................0.294\n",
      "   18. ignorant................................0.288\n",
      "   19. minutes.................................0.279\n",
      "----------------------------------------------------------------------------------------------------\n",
      "Top features for DD\n",
      "    0. exhausted...............................0.457\n",
      "    1. bored...................................0.446\n",
      "    2. LIWC_I..................................0.441\n",
      "    3. weak....................................0.342\n",
      "    4. sleepy..................................0.340\n",
      "    5. tired...................................0.328\n",
      "    6. i_miss..................................0.315\n",
      "    7. tired_of................................0.285\n",
      "    8. of_this.................................0.271\n",
      "    9. day.....................................0.266\n",
      "   10. so_sick.................................0.266\n",
      "   11. so_tired................................0.264\n",
      "   12. get_out.................................0.262\n",
      "   13. woke_up.................................0.255\n",
      "   14. lazy....................................0.252\n",
      "   15. where_i'm...............................0.248\n",
      "   16. depressed...............................0.239\n",
      "   17. LIWC_Negemo.............................0.236\n",
      "   18. sick....................................0.223\n",
      "   19. boring..................................0.219\n",
      "----------------------------------------------------------------------------------------------------\n",
      "Top features for TA\n",
      "    0. nervous.................................0.372\n",
      "    1. im_not..................................0.317\n",
      "    2. LIWC_Swear..............................0.311\n",
      "    3. tired_of................................0.302\n",
      "    4. teacher.................................0.294\n",
      "    5. fuck....................................0.292\n",
      "    6. lame....................................0.273\n",
      "    7. irritated...............................0.273\n",
      "    8. of_this.................................0.270\n",
      "    9. so_nervous..............................0.260\n",
      "   10. why_can't...............................0.245\n",
      "   11. so_upset................................0.243\n",
      "   12. its_not.................................0.241\n",
      "   13. shut....................................0.237\n",
      "   14. upset...................................0.230\n",
      "   15. gross...................................0.224\n",
      "   16. why_would...............................0.214\n",
      "   17. paranoid................................0.210\n",
      "   18. rude....................................0.209\n",
      "   19. internet................................0.208\n",
      "----------------------------------------------------------------------------------------------------\n"
     ]
    }
   ],
   "source": [
    "for m in moods:\n",
    "    print(\"Top features for\", m)\n",
    "    for i, (w,c) in enumerate(top_features[m][:20]):\n",
    "        print(\"{:>5}. {:.<40}{:>4}\".format(i, w, \"%.3f\" % c))\n",
    "    print('-'*100)"
   ]
  },
  {
   "cell_type": "markdown",
   "metadata": {},
   "source": [
    "### Cross validation"
   ]
  },
  {
   "cell_type": "code",
   "execution_count": 483,
   "metadata": {
    "collapsed": false,
    "scrolled": false
   },
   "outputs": [],
   "source": [
    "def cv(data, n_folds=10):\n",
    "    results = {}\n",
    "\n",
    "    for m in tqdm_notebook(moods):\n",
    "        y_probs = []\n",
    "        y_preds = []\n",
    "        y_trues = []\n",
    "        for tr, te in tqdm_notebook(KFold(data.shape[0], n_folds, shuffle=True, random_state=123456)):\n",
    "            data_tr, data_te = data.iloc[tr], data.iloc[te]\n",
    "            y_tr, y_te = data_tr[m], data_te[m]\n",
    "            X_tr = plines[m].fit_transform(data_tr.text, y_tr)\n",
    "            X_tr = preprocessing.scale(X_tr.toarray())\n",
    "\n",
    "            X_te = plines[m].transform(data_te.text)\n",
    "            X_te = preprocessing.scale(X_te.toarray())\n",
    "\n",
    "            clf = LogisticRegression(class_weight='balanced')\n",
    "            clf.fit(X_tr, y_tr)\n",
    "            y_prob = clf.predict_proba(X_te)[:,1]\n",
    "            y_pred = clf.predict(X_te)\n",
    "\n",
    "            y_trues.extend(y_te)\n",
    "            y_preds.extend(y_pred)\n",
    "            y_probs.extend(y_prob)\n",
    "    \n",
    "        results[m] = {'y_true': y_trues, 'y_pred': y_preds, 'y_prob': y_probs}\n",
    "    return results"
   ]
  },
  {
   "cell_type": "code",
   "execution_count": 484,
   "metadata": {
    "collapsed": false
   },
   "outputs": [
    {
     "name": "stdout",
     "output_type": "stream",
     "text": [
      "\n"
     ]
    }
   ],
   "source": [
    "results_cv = cv(mood_tweets_df, 10)"
   ]
  },
  {
   "cell_type": "markdown",
   "metadata": {},
   "source": [
    "ROC curves for each dimension."
   ]
  },
  {
   "cell_type": "code",
   "execution_count": 548,
   "metadata": {
    "collapsed": false
   },
   "outputs": [
    {
     "name": "stdout",
     "output_type": "stream",
     "text": [
      "AH ROC AUC: 0.826\n",
      "DD ROC AUC: 0.806\n",
      "TA ROC AUC: 0.772\n"
     ]
    },
    {
     "data": {
      "image/png": "[encoded data removed]",
      "text/plain": [
       "<matplotlib.figure.Figure at 0x7f4fab641f60>"
      ]
     },
     "metadata": {},
     "output_type": "display_data"
    }
   ],
   "source": [
    "def roc_curves(results):\n",
    "    fig, ax = plt.subplots(figsize=(14,10))\n",
    "    colors = ['r','g','b']\n",
    "    for m, c in zip(moods,colors):\n",
    "        fpr, tpr, thresh = metrics.roc_curve(results[m]['y_true'], results[m]['y_prob'], drop_intermediate=True)\n",
    "        ax.plot(fpr, tpr, label=m, color=c, alpha=0.7)\n",
    "        ax.plot(fpr, thresh, label=m + \" threshold\", linestyle='-.', color=c)\n",
    "        plt.legend(loc=4)\n",
    "        print(\"%s ROC AUC: %.3f\" % (m, metrics.roc_auc_score(results[m]['y_true'], results[m]['y_prob'])))\n",
    "    ax.set_ylim([0,1])\n",
    "    ax.set_xlabel(\"fpr\")\n",
    "    ax.set_ylabel(\"tpr\")\n",
    "    ax.plot([0,1],[0,1], color='k', linestyle='--', linewidth=0.5)\n",
    "        \n",
    "roc_curves(results_cv)"
   ]
  },
  {
   "cell_type": "markdown",
   "metadata": {},
   "source": [
    "Precision recall curve for each dimension."
   ]
  },
  {
   "cell_type": "code",
   "execution_count": 561,
   "metadata": {
    "collapsed": false
   },
   "outputs": [
    {
     "data": {
      "image/png": "[encoded data removed]",
      "text/plain": [
       "<matplotlib.figure.Figure at 0x7f4f7111ff98>"
      ]
     },
     "metadata": {},
     "output_type": "display_data"
    }
   ],
   "source": [
    "def prec_rec_curves(results):\n",
    "    fig, ax = plt.subplots(figsize=(14,10))\n",
    "    colors = ['r','g','b']\n",
    "    for m, c in zip(moods,colors):\n",
    "        prec, rec, thresh = metrics.precision_recall_curve(results[m]['y_true'], results[m]['y_prob'], pos_label=1)\n",
    "        thresh = np.hstack([thresh, [1]])\n",
    "        ax.plot(prec, rec, label=m, color=c, alpha=0.7)\n",
    "        ax.plot(prec, thresh, label=m + \" threshold\", linestyle='-.', color=c)\n",
    "        plt.legend(loc=6)\n",
    "    ax.set_ylim([0,1])\n",
    "    ax.set_xlabel('prec')\n",
    "    ax.set_ylabel('rec')\n",
    "        \n",
    "prec_rec_curves(results_cv)"
   ]
  },
  {
   "cell_type": "markdown",
   "metadata": {},
   "source": [
    "Pick threshold for best precision (tp/(tp+fp)), minimize false positives."
   ]
  },
  {
   "cell_type": "code",
   "execution_count": 638,
   "metadata": {
    "collapsed": false
   },
   "outputs": [
    {
     "name": "stdout",
     "output_type": "stream",
     "text": [
      "AH\n",
      "348\n",
      "             precision    recall  f1-score   support\n",
      "\n",
      "          0       0.95      0.90      0.92      2138\n",
      "          1       0.36      0.55      0.43       229\n",
      "\n",
      "avg / total       0.89      0.86      0.87      2367\n",
      "\n",
      "DD\n",
      "541\n",
      "             precision    recall  f1-score   support\n",
      "\n",
      "          0       0.92      0.84      0.88      1998\n",
      "          1       0.41      0.60      0.49       369\n",
      "\n",
      "avg / total       0.84      0.80      0.82      2367\n",
      "\n",
      "TA\n",
      "562\n",
      "             precision    recall  f1-score   support\n",
      "\n",
      "          0       0.90      0.82      0.86      1986\n",
      "          1       0.37      0.54      0.44       381\n",
      "\n",
      "avg / total       0.82      0.78      0.79      2367\n",
      "\n"
     ]
    }
   ],
   "source": [
    "thresholds = {'AH': .5, 'DD': .5, 'TA': .5}\n",
    "# thresholds = {'AH': .1, 'DD': .22, 'TA': .18}\n",
    "# thresholds = {'AH': .9, 'DD': .9, 'TA': .9}\n",
    "# thresholds = {'AH': .99, 'DD': .99, 'TA': .99}\n",
    "\n",
    "for m in moods:\n",
    "    print(m)\n",
    "    t = thresholds[m]\n",
    "    y_pred_thresh = (np.array(results_cv[m]['y_prob']) > t).astype(int)\n",
    "    print(y_pred_thresh.sum())\n",
    "    print(metrics.classification_report(results_cv[m]['y_true'], y_pred_thresh))"
   ]
  },
  {
   "cell_type": "markdown",
   "metadata": {},
   "source": [
    "## Annotate users from treatment and control groups."
   ]
  },
  {
   "cell_type": "markdown",
   "metadata": {},
   "source": [
    "Train classifiers on the all the annotated instances."
   ]
  },
  {
   "cell_type": "code",
   "execution_count": 581,
   "metadata": {
    "collapsed": false
   },
   "outputs": [
    {
     "name": "stdout",
     "output_type": "stream",
     "text": [
      "\n"
     ]
    }
   ],
   "source": [
    "moods = ['AH', 'DD', 'TA']\n",
    "vecs = {}\n",
    "kbests = {}\n",
    "plines = {}\n",
    "Xs = {}\n",
    "clfs = {}\n",
    "features = {}\n",
    "top_features = {}\n",
    "n_features = 160\n",
    "\n",
    "for m in tqdm_notebook(moods):\n",
    "    # build pipeline\n",
    "    vecs[m] = TfidfVectorizer(tokenizer=tokenize, min_df=3, max_df=0.95)\n",
    "    kbests[m] = SelectKBest(chi2, n_features)\n",
    "    plines[m] = pipeline = Pipeline([('tfidf', vecs[m]), ('chi2', kbests[m])])\n",
    "    \n",
    "    # build doc term matrix\n",
    "    y = mood_tweets_df[m]\n",
    "    Xs[m] = plines[m].fit_transform(mood_tweets_df.text, y)\n",
    "    Xs[m] = preprocessing.scale(Xs[m].toarray())\n",
    "    # get labels\n",
    "\n",
    "    # train classifier\n",
    "    clfs[m] = LogisticRegression(class_weight='balanced')\n",
    "    clfs[m].fit(Xs[m],y)\n",
    "    \n",
    "    # retrieve features\n",
    "    support = kbests[m].get_support()\n",
    "    features[m] = np.array(vecs[m].get_feature_names())[support]\n",
    "    top_features[m] = [(features[m][i], clfs[m].coef_[0][i]) for i in clfs[m].coef_[0].argsort()[::-1]]"
   ]
  },
  {
   "cell_type": "markdown",
   "metadata": {},
   "source": [
    "Build termdoc matrix for each user."
   ]
  },
  {
   "cell_type": "code",
   "execution_count": 618,
   "metadata": {
    "collapsed": false
   },
   "outputs": [
    {
     "name": "stdout",
     "output_type": "stream",
     "text": [
      "\n"
     ]
    },
    {
     "name": "stderr",
     "output_type": "stream",
     "text": [
      "Exception in thread Thread-99:\n",
      "Traceback (most recent call last):\n",
      "  File \"/usr/lib64/python3.4/threading.py\", line 920, in _bootstrap_inner\n",
      "    self.run()\n",
      "  File \"/home/virgile/.local/lib/python3.4/site-packages/tqdm/_tqdm.py\", line 103, in run\n",
      "    for instance in self.tqdm_cls._instances:\n",
      "  File \"/usr/lib64/python3.4/_weakrefset.py\", line 60, in __iter__\n",
      "    for itemref in self.data:\n",
      "RuntimeError: Set changed size during iteration\n",
      "\n"
     ]
    },
    {
     "name": "stdout",
     "output_type": "stream",
     "text": [
      "\n"
     ]
    }
   ],
   "source": [
    "for m in tqdm_notebook(moods):\n",
    "    f = lambda _: plines[m].transform(_)\n",
    "    n_users['termdoc_' + m] = n_users.tweets.progress_apply(f)\n",
    "    s_users['termdoc_' + m] = s_users.tweets.progress_apply(f)"
   ]
  },
  {
   "cell_type": "markdown",
   "metadata": {},
   "source": [
    "Scale termdoc matrix and compute probability of each class for each user."
   ]
  },
  {
   "cell_type": "code",
   "execution_count": 700,
   "metadata": {
    "collapsed": false
   },
   "outputs": [
    {
     "name": "stdout",
     "output_type": "stream",
     "text": [
      "\n"
     ]
    }
   ],
   "source": [
    "for m in tqdm_notebook(moods):\n",
    "    f = lambda _: clfs[m].predict_proba(preprocessing.scale(_.toarray()))\n",
    "    n_users['prob_' + m] = n_users['termdoc_' + m].progress_apply(f)\n",
    "    s_users['prob_' + m] = s_users['termdoc_' + m].progress_apply(f)    "
   ]
  },
  {
   "cell_type": "markdown",
   "metadata": {},
   "source": [
    "Compute average score for each user."
   ]
  },
  {
   "cell_type": "code",
   "execution_count": 707,
   "metadata": {
    "collapsed": false
   },
   "outputs": [
    {
     "name": "stdout",
     "output_type": "stream",
     "text": [
      "\n"
     ]
    }
   ],
   "source": [
    "f = lambda _: np.mean(_[:,1])\n",
    "\n",
    "for m in tqdm_notebook(moods):\n",
    "    n_users['avg_prob_' + m] = n_users['prob_' + m].apply(f)\n",
    "    s_users['avg_prob_' + m] = s_users['prob_' + m].apply(f)"
   ]
  },
  {
   "cell_type": "code",
   "execution_count": 710,
   "metadata": {
    "collapsed": false
   },
   "outputs": [
    {
     "data": {
      "text/plain": [
       "<matplotlib.axes._subplots.AxesSubplot at 0x7f4f69812438>"
      ]
     },
     "execution_count": 710,
     "metadata": {},
     "output_type": "execute_result"
    },
    {
     "data": {
      "image/png": "[encoded data removed]",
      "text/plain": [
       "<matplotlib.figure.Figure at 0x7f4f69832630>"
      ]
     },
     "metadata": {},
     "output_type": "display_data"
    }
   ],
   "source": [
    "compare_avg_df = pd.DataFrame()\n",
    "for m in moods:\n",
    "    compare_avg_df['match_' + m] = n_users['avg_prob_' + m]\n",
    "    compare_avg_df['sport_' + m] = s_users['avg_prob_' + m]\n",
    "#     compare_avg_df['diff_' + m] = n_users['avg_prob_' + m] - s_users['avg_prob_' + m]\n",
    "    \n",
    "compare_avg_df.plot(kind='box', figsize=(15,15))#, ylim=[-0.1,.22])"
   ]
  },
  {
   "cell_type": "markdown",
   "metadata": {},
   "source": [
    "Compute prediction for each tweets for each user given a threshold for each dimension."
   ]
  },
  {
   "cell_type": "code",
   "execution_count": 698,
   "metadata": {
    "collapsed": false
   },
   "outputs": [
    {
     "name": "stdout",
     "output_type": "stream",
     "text": [
      "\n"
     ]
    }
   ],
   "source": [
    "thresholds = {'AH': .5, 'DD': .5, 'TA': .5}\n",
    "\n",
    "for m in tqdm_notebook(moods):\n",
    "    t = thresholds[m]\n",
    "    f = lambda _: (_[:, 1] > t).astype(int)\n",
    "    n_users['pred_' + m] = n_users['prob_' + m].apply(f)\n",
    "    s_users['pred_' + m] = s_users['prob_' + m].apply(f)"
   ]
  },
  {
   "cell_type": "markdown",
   "metadata": {},
   "source": [
    "Compute ratio of positive tweets for each dimension and each user."
   ]
  },
  {
   "cell_type": "code",
   "execution_count": 694,
   "metadata": {
    "collapsed": false
   },
   "outputs": [
    {
     "name": "stdout",
     "output_type": "stream",
     "text": [
      "\n"
     ]
    }
   ],
   "source": [
    "f = lambda _: np.sum(_)/np.shape(_)[0]\n",
    "for m in tqdm_notebook(moods):\n",
    "    n_users['ratio_pos_' + m] = n_users['pred_' + m].progress_apply(f)\n",
    "    s_users['ratio_pos_' + m] = s_users['pred_' + m].progress_apply(f)    "
   ]
  },
  {
   "cell_type": "code",
   "execution_count": 702,
   "metadata": {
    "collapsed": false
   },
   "outputs": [
    {
     "data": {
      "text/plain": [
       "<matplotlib.axes._subplots.AxesSubplot at 0x7f4fa80f5be0>"
      ]
     },
     "execution_count": 702,
     "metadata": {},
     "output_type": "execute_result"
    },
    {
     "data": {
      "image/png": "[encoded data removed]",
      "text/plain": [
       "<matplotlib.figure.Figure at 0x7f4fa80f55f8>"
      ]
     },
     "metadata": {},
     "output_type": "display_data"
    }
   ],
   "source": [
    "compare_ratio_df = pd.DataFrame()\n",
    "for m in moods:\n",
    "    compare_ratio_df['match_' + m] = n_users['ratio_pos_' + m]\n",
    "    compare_ratio_df['sport_' + m] = s_users['ratio_pos_' + m]\n",
    "    compare_ratio_df['diff_' + m] = n_users['ratio_pos_' + m] - s_users['ratio_pos_' + m]\n",
    "    \n",
    "compare_ratio_df.plot(kind='box', figsize=(15,15))#, ylim=[-0.1,.22])"
   ]
  }
 ],
 "metadata": {
  "kernelspec": {
   "display_name": "Python 3",
   "language": "python",
   "name": "python3"
  },
  "language_info": {
   "codemirror_mode": {
    "name": "ipython",
    "version": 3
   },
   "file_extension": ".py",
   "mimetype": "text/x-python",
   "name": "python",
   "nbconvert_exporter": "python",
   "pygments_lexer": "ipython3",
   "version": "3.4.3"
  },
  "nav_menu": {},
  "toc": {
   "navigate_menu": true,
   "number_sections": true,
   "sideBar": true,
   "threshold": 6,
   "toc_cell": false,
   "toc_section_display": "block",
   "toc_window_display": false
  },
  "widgets": {
   "state": {
    "02abe1cf749a4ed49738f735aeb502b4": {
     "views": [
      {
       "cell_index": 56
      }
     ]
    },
    "04ea7994cf854b21bf4f22e5a50aa862": {
     "views": [
      {
       "cell_index": 58
      }
     ]
    },
    "060866ac8fe54bf38bcdae8778e0b3c4": {
     "views": [
      {
       "cell_index": 39
      }
     ]
    },
    "07caf1733aac434596cae0c43b77bcaf": {
     "views": [
      {
       "cell_index": 51
      }
     ]
    },
    "0b4ace5f6eab46e7997f0de95cd369b4": {
     "views": [
      {
       "cell_index": 36
      }
     ]
    },
    "0faa785dcd5b4d78b918b1491103baf3": {
     "views": [
      {
       "cell_index": 51
      }
     ]
    },
    "12f2164e3ea140d9b1c04dbd2571c24d": {
     "views": [
      {
       "cell_index": 39
      }
     ]
    },
    "1398b1a609214e14930957cce24ce9e7": {
     "views": [
      {
       "cell_index": 56
      }
     ]
    },
    "144a1bdd23a64abab6483d1159a8c8e9": {
     "views": [
      {
       "cell_index": 36
      }
     ]
    },
    "148256e738e44ad794b0147b3222c0be": {
     "views": [
      {
       "cell_index": 56
      }
     ]
    },
    "148ae380248542b5b276ab35c2d7856b": {
     "views": [
      {
       "cell_index": 56
      }
     ]
    },
    "1d1477931f8c42038e1d76b7ad25951e": {
     "views": [
      {
       "cell_index": 36
      }
     ]
    },
    "218bf44b262b41a1bc016446e0f7f94a": {
     "views": [
      {
       "cell_index": 52
      }
     ]
    },
    "224f168a867946aaafc95f912f1be5ae": {
     "views": [
      {
       "cell_index": 56
      }
     ]
    },
    "23b9ebd042fc498a80553e6cede0c2ea": {
     "views": [
      {
       "cell_index": 56
      }
     ]
    },
    "24478573fd1a430d90e535f13e3ac2a7": {
     "views": [
      {
       "cell_index": 58
      }
     ]
    },
    "24bfc479725146c08104889c49863231": {
     "views": [
      {
       "cell_index": 53
      }
     ]
    },
    "24f027ee75f24f829c0aa6ea18bf5c20": {
     "views": [
      {
       "cell_index": 36
      }
     ]
    },
    "2668525542b344d2a7a48ee7e3695962": {
     "views": [
      {
       "cell_index": 54
      }
     ]
    },
    "2d093150f45c4b26a8b91bd5b65be3f4": {
     "views": [
      {
       "cell_index": 56
      }
     ]
    },
    "2f1ffad858f54bdea60ff63f30844e79": {
     "views": [
      {
       "cell_index": 54
      }
     ]
    },
    "2fb0a533e93448dbb8bd5721b0c0ee02": {
     "views": [
      {
       "cell_index": 54
      }
     ]
    },
    "31376d3058ea4c11a654d0d90d475fff": {
     "views": [
      {
       "cell_index": 58
      }
     ]
    },
    "3353dd34c229412eb4f7e1e6e70b928b": {
     "views": [
      {
       "cell_index": 39
      }
     ]
    },
    "35252795848c4bcdbc372fcaa1740c13": {
     "views": [
      {
       "cell_index": 51
      }
     ]
    },
    "37060c4cefbb4f3d878ab0aef664c80f": {
     "views": [
      {
       "cell_index": 36
      }
     ]
    },
    "394c5ecaac6b4725bf267e1c47098f04": {
     "views": [
      {
       "cell_index": 56
      }
     ]
    },
    "3c6920e01b164ae59c908e4c9bf33472": {
     "views": [
      {
       "cell_index": 39
      }
     ]
    },
    "3cc54234daea4711950791a1fc45a3ba": {
     "views": [
      {
       "cell_index": 36
      }
     ]
    },
    "3f21d5ee60634033a527eb1041cbb565": {
     "views": [
      {
       "cell_index": 58
      }
     ]
    },
    "40eb216c9c5b44a0b5a94e70ee1bc6bc": {
     "views": [
      {
       "cell_index": 36
      }
     ]
    },
    "44494c358d4b4d03abf03442e7ffbcab": {
     "views": [
      {
       "cell_index": 56
      }
     ]
    },
    "481e37c41bb74df78a25b46f7a74687a": {
     "views": [
      {
       "cell_index": 58
      }
     ]
    },
    "4fb5b0845abc4b7bb8e3088278814b30": {
     "views": [
      {
       "cell_index": 58
      }
     ]
    },
    "54377f70db644950b89f3911a9e31a90": {
     "views": [
      {
       "cell_index": 58
      }
     ]
    },
    "559b1c1e05d74ba8b801729beb52e5b4": {
     "views": [
      {
       "cell_index": 54
      }
     ]
    },
    "57a8e52d71d143879f9a91052185a176": {
     "views": [
      {
       "cell_index": 58
      }
     ]
    },
    "593dcabe45fb407583d6eac71062793f": {
     "views": [
      {
       "cell_index": 54
      }
     ]
    },
    "5e6350df7191415186ee59a4deb215b1": {
     "views": [
      {
       "cell_index": 53
      }
     ]
    },
    "5e76ac1b495c4d8f8279e373f520e910": {
     "views": [
      {
       "cell_index": 36
      }
     ]
    },
    "6039125e95344261adadd95d189e6dec": {
     "views": [
      {
       "cell_index": 56
      }
     ]
    },
    "631f8e31f58b491789aa118f99978f23": {
     "views": [
      {
       "cell_index": 56
      }
     ]
    },
    "63834e920ba24febabac2b737c73f10a": {
     "views": [
      {
       "cell_index": 51
      }
     ]
    },
    "64544ec21d114a1babfa60fc541c5ced": {
     "views": [
      {
       "cell_index": 54
      }
     ]
    },
    "70d851a026bf4c1ba173c5d5589aa952": {
     "views": [
      {
       "cell_index": 58
      }
     ]
    },
    "71093a4228ee4a45b5ffddac55522c17": {
     "views": [
      {
       "cell_index": 58
      }
     ]
    },
    "737fb99e02e241e288e6219ad8415ed0": {
     "views": [
      {
       "cell_index": 56
      }
     ]
    },
    "746c3cbea5074fb19f702993b50f96f5": {
     "views": [
      {
       "cell_index": 39
      }
     ]
    },
    "7511e96ab35941a3be1d35591d5346f1": {
     "views": [
      {
       "cell_index": 56
      }
     ]
    },
    "798235dfbb8c4f4ca4e37df3630fbd0f": {
     "views": [
      {
       "cell_index": 39
      }
     ]
    },
    "7b12d8b09647457f8e40402d1a6ccf73": {
     "views": [
      {
       "cell_index": 39
      }
     ]
    },
    "7d9cc92e7544460ebbb10082bf2da9ce": {
     "views": [
      {
       "cell_index": 58
      }
     ]
    },
    "849511c0f7cd4c219872d73a24a3e722": {
     "views": [
      {
       "cell_index": 53
      }
     ]
    },
    "879f9b1475ef4a75a91ba723f07e297f": {
     "views": [
      {
       "cell_index": 36
      }
     ]
    },
    "88c08261daed4fd98236e3308bb5e7b7": {
     "views": [
      {
       "cell_index": 36
      }
     ]
    },
    "8ac86ff73ebf45faa02b5ea41a0a7f8e": {
     "views": [
      {
       "cell_index": 56
      }
     ]
    },
    "8cfd24a0b02342cc914671868f1ba77a": {
     "views": [
      {
       "cell_index": 36
      }
     ]
    },
    "93ea4d7a8dd84ee1b297aaca2c7c755b": {
     "views": [
      {
       "cell_index": 39
      }
     ]
    },
    "9606793e4abc4b769c5cef35ace2029d": {
     "views": [
      {
       "cell_index": 36
      }
     ]
    },
    "963b59cb20604fcd99a9ec8a5fbc3b1b": {
     "views": [
      {
       "cell_index": 36
      }
     ]
    },
    "9726a079d7ea4fee8f6e197f46e5426b": {
     "views": [
      {
       "cell_index": 54
      }
     ]
    },
    "9bba9d289d83418ba6929be934db2590": {
     "views": [
      {
       "cell_index": 36
      }
     ]
    },
    "9c5930e4ba3f4ec78adb35b0a6e9dd73": {
     "views": [
      {
       "cell_index": 58
      }
     ]
    },
    "a144f79779a149d5a05e82cf12727c04": {
     "views": [
      {
       "cell_index": 56
      }
     ]
    },
    "a1990895b1ce41deb792ac9f1d3d4397": {
     "views": [
      {
       "cell_index": 58
      }
     ]
    },
    "a32e37ff2cae4ef4a679f477c8962999": {
     "views": [
      {
       "cell_index": 36
      }
     ]
    },
    "a357985cfc8946f085f78a923dbc622e": {
     "views": [
      {
       "cell_index": 54
      }
     ]
    },
    "a39f73c4915740b081876fbe40fbac8e": {
     "views": [
      {
       "cell_index": 51
      }
     ]
    },
    "a451ca8143e24c13a768bbb41a0bd288": {
     "views": [
      {
       "cell_index": 39
      }
     ]
    },
    "a4b57769481447279d4abdb6dd71fc61": {
     "views": [
      {
       "cell_index": 58
      }
     ]
    },
    "a72780c8018f45d794204dfe35a04dc2": {
     "views": [
      {
       "cell_index": 36
      }
     ]
    },
    "ae14f1cc81cc4c29826af81c0a55995e": {
     "views": [
      {
       "cell_index": 56
      }
     ]
    },
    "afada9b149714f4186aa814c73e672a8": {
     "views": [
      {
       "cell_index": 58
      }
     ]
    },
    "b335d1a989f34f5f9f282af1e3e6ac83": {
     "views": [
      {
       "cell_index": 56
      }
     ]
    },
    "b39ad78579e64f91ac21e3c77061e05b": {
     "views": [
      {
       "cell_index": 58
      }
     ]
    },
    "b672ec17fe4a4fd4a81573c29564f59b": {
     "views": [
      {
       "cell_index": 51
      }
     ]
    },
    "b67c8679dd304606aed650e1884a59f7": {
     "views": [
      {
       "cell_index": 36
      }
     ]
    },
    "bd316258411740e186210680c5530dc2": {
     "views": [
      {
       "cell_index": 56
      }
     ]
    },
    "c2f6945047ea4529a62b035b3ae860d6": {
     "views": [
      {
       "cell_index": 56
      }
     ]
    },
    "c4fff5775f75429289f01893313c24a4": {
     "views": [
      {
       "cell_index": 58
      }
     ]
    },
    "c62a0c975e9d4a69883367abf65e6763": {
     "views": [
      {
       "cell_index": 58
      }
     ]
    },
    "c66b309d1dc24db8a31cc5eacef9c10f": {
     "views": [
      {
       "cell_index": 58
      }
     ]
    },
    "c76de6053442433b86aaebc56166345c": {
     "views": [
      {
       "cell_index": 58
      }
     ]
    },
    "c8df4b9e6d9f46038545f737ae3251de": {
     "views": [
      {
       "cell_index": 56
      }
     ]
    },
    "c9ac8d54104a4e78893f66517c77e85c": {
     "views": [
      {
       "cell_index": 58
      }
     ]
    },
    "cb80eeb0b08b414d958b80dcad457526": {
     "views": [
      {
       "cell_index": 54
      }
     ]
    },
    "cd2c7f5b7ad445cda7e94ad9b361796f": {
     "views": [
      {
       "cell_index": 52
      }
     ]
    },
    "cfb64dc53dca4638bdeaf47cf4345f0d": {
     "views": [
      {
       "cell_index": 52
      }
     ]
    },
    "d896fbde70aa4a3ea04658a2ca4e1e43": {
     "views": [
      {
       "cell_index": 56
      }
     ]
    },
    "da01296694614460860f34124ae0f69b": {
     "views": [
      {
       "cell_index": 58
      }
     ]
    },
    "dc0165daf65e44c48dc6e1ffb8c05b64": {
     "views": [
      {
       "cell_index": 36
      }
     ]
    },
    "def70f81f95e495cadd18a0f90b35871": {
     "views": [
      {
       "cell_index": 56
      }
     ]
    },
    "df022f40f0c1473e85c1ae814a5f43eb": {
     "views": [
      {
       "cell_index": 36
      }
     ]
    },
    "e028e3d77fc849db88aeb2099a2716b4": {
     "views": [
      {
       "cell_index": 58
      }
     ]
    },
    "e4029eb7ab244fadadbf2360b6d7b508": {
     "views": [
      {
       "cell_index": 56
      }
     ]
    },
    "e5ccae6415744c44bd984689d2c34fd1": {
     "views": [
      {
       "cell_index": 58
      }
     ]
    },
    "eae545936670449b8bcc4fbe666893e5": {
     "views": [
      {
       "cell_index": 36
      }
     ]
    },
    "ee9cf85dfd724115880b49d2c8cdc32d": {
     "views": [
      {
       "cell_index": 58
      }
     ]
    },
    "eecd75af1205438ab0963623219fa597": {
     "views": [
      {
       "cell_index": 36
      }
     ]
    },
    "ef9524ec381c4d0d8a67a9c29118b838": {
     "views": [
      {
       "cell_index": 32
      }
     ]
    },
    "f275145c1fc549448084e5bc1212b536": {
     "views": [
      {
       "cell_index": 56
      }
     ]
    },
    "f45319e828814e67a9ddd89c06bd45a1": {
     "views": [
      {
       "cell_index": 58
      }
     ]
    },
    "f7a2103aa2a643dd81dd3de6c967bc87": {
     "views": [
      {
       "cell_index": 54
      }
     ]
    },
    "f80dc50e02814a92996d7f30fd3235c2": {
     "views": [
      {
       "cell_index": 46
      }
     ]
    },
    "f86c5895cb4b45f1bf2903ae0f9e41e4": {
     "views": [
      {
       "cell_index": 36
      }
     ]
    },
    "fab08e4b05e54fe381a524dd60bd15ec": {
     "views": [
      {
       "cell_index": 51
      }
     ]
    },
    "fb6353c9f93546439199067a64560ed2": {
     "views": [
      {
       "cell_index": 56
      }
     ]
    }
   },
   "version": "1.2.0"
  }
 },
 "nbformat": 4,
 "nbformat_minor": 0
}
