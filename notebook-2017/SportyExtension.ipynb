{
 "cells": [
  {
   "cell_type": "code",
   "execution_count": 908,
   "metadata": {
    "collapsed": false
   },
   "outputs": [],
   "source": [
    "import json\n",
    "import pandas as pd\n",
    "import numpy as np\n",
    "import pymongo\n",
    "import os.path\n",
    "import seaborn as sns\n",
    "import re\n",
    "import matplotlib.pyplot as plt\n",
    "import string\n",
    "\n",
    "from scipy.stats import wilcoxon\n",
    "from tqdm import tqdm, tqdm_notebook, tqdm_pandas\n",
    "from collections import defaultdict, Counter\n",
    "from sklearn.feature_extraction.text import TfidfVectorizer, CountVectorizer\n",
    "from sklearn.feature_selection import SelectKBest, chi2\n",
    "from sklearn.pipeline import Pipeline\n",
    "from sklearn import preprocessing, metrics\n",
    "from sklearn.cross_validation import KFold\n",
    "from sklearn.linear_model import LogisticRegression\n",
    "from sklearn.cluster import KMeans\n",
    "\n",
    "tqdm_notebook().pandas()\n",
    "sns.set_context('talk')\n",
    "sns.set_style('whitegrid')\n",
    "pd.set_option('display.max_rows', 200)\n",
    "pd.set_option('display.max_columns', 50)\n",
    "\n",
    "%matplotlib inline"
   ]
  },
  {
   "cell_type": "markdown",
   "metadata": {},
   "source": [
    "# Load data"
   ]
  },
  {
   "cell_type": "markdown",
   "metadata": {},
   "source": [
    "## Control and treatment groups"
   ]
  },
  {
   "cell_type": "markdown",
   "metadata": {},
   "source": [
    "###  Load users information"
   ]
  },
  {
   "cell_type": "code",
   "execution_count": 2,
   "metadata": {
    "collapsed": false
   },
   "outputs": [],
   "source": [
    "n_users = pd.read_csv(\"./nosport_users_stats\")\n",
    "s_users = pd.read_csv(\"./sport_users_stats\")\n",
    "\n",
    "for df in [n_users, s_users]:\n",
    "    df.index = df['id']"
   ]
  },
  {
   "cell_type": "code",
   "execution_count": 3,
   "metadata": {
    "collapsed": false
   },
   "outputs": [
    {
     "data": {
      "text/plain": [
       "((1160, 7), (1160, 7))"
      ]
     },
     "execution_count": 3,
     "metadata": {},
     "output_type": "execute_result"
    }
   ],
   "source": [
    "s_users.shape, n_users.shape"
   ]
  },
  {
   "cell_type": "markdown",
   "metadata": {},
   "source": [
    "### Load matches"
   ]
  },
  {
   "cell_type": "markdown",
   "metadata": {},
   "source": [
    "Load matches file."
   ]
  },
  {
   "cell_type": "code",
   "execution_count": 4,
   "metadata": {
    "collapsed": false
   },
   "outputs": [],
   "source": [
    "matches = pd.read_csv(\"/data/1/sporty/users/classification/matches.txt\", header=None, names=['sport', 'nosport'])"
   ]
  },
  {
   "cell_type": "markdown",
   "metadata": {},
   "source": [
    "Some users have been matched twice to a sport users, we remove these duplicate entries here although we missed them in 2014."
   ]
  },
  {
   "cell_type": "code",
   "execution_count": 5,
   "metadata": {
    "collapsed": false
   },
   "outputs": [],
   "source": [
    "matches = matches.drop_duplicates(subset=['nosport'])\n",
    "n_users = n_users.drop_duplicates(subset=['id'])"
   ]
  },
  {
   "cell_type": "markdown",
   "metadata": {},
   "source": [
    "Align users' dataframes."
   ]
  },
  {
   "cell_type": "code",
   "execution_count": 6,
   "metadata": {
    "collapsed": false
   },
   "outputs": [],
   "source": [
    "s_users = s_users.loc[matches.sport.tolist()]\n",
    "s_users.index = np.arange(s_users.shape[0])\n",
    "n_users = n_users.loc[matches.nosport.tolist()]\n",
    "n_users.index = np.arange(n_users.shape[0])"
   ]
  },
  {
   "cell_type": "code",
   "execution_count": 7,
   "metadata": {
    "collapsed": false
   },
   "outputs": [
    {
     "data": {
      "text/plain": [
       "((1153, 7), (1153, 7))"
      ]
     },
     "execution_count": 7,
     "metadata": {},
     "output_type": "execute_result"
    }
   ],
   "source": [
    "s_users.shape, n_users.shape"
   ]
  },
  {
   "cell_type": "markdown",
   "metadata": {},
   "source": [
    "Remove users that are in both groups and their match that we missed last time."
   ]
  },
  {
   "cell_type": "code",
   "execution_count": 8,
   "metadata": {
    "collapsed": false
   },
   "outputs": [],
   "source": [
    "# find users in both groups\n",
    "both_groups = set(s_users['id']) & set(n_users['id'])\n",
    "\n",
    "# find lines with users in both groups\n",
    "s_idx_to_remove = s_users.id.where(s_users.id.apply(lambda _: _ in both_groups)).dropna().index.tolist()\n",
    "n_idx_to_remove = n_users.id.where(n_users.id.apply(lambda _: _ in both_groups)).dropna().index.tolist()\n",
    "idx_to_remove = s_idx_to_remove + n_idx_to_remove\n",
    "\n",
    "# remove lines from users' dataframes\n",
    "s_users = s_users.drop(idx_to_remove, axis=0)\n",
    "n_users = n_users.drop(idx_to_remove, axis=0)"
   ]
  },
  {
   "cell_type": "code",
   "execution_count": 9,
   "metadata": {
    "collapsed": false
   },
   "outputs": [
    {
     "data": {
      "text/plain": [
       "((1137, 7), (1137, 7))"
      ]
     },
     "execution_count": 9,
     "metadata": {},
     "output_type": "execute_result"
    }
   ],
   "source": [
    "s_users.shape, n_users.shape"
   ]
  },
  {
   "cell_type": "markdown",
   "metadata": {},
   "source": [
    "### Load tweets for each user "
   ]
  },
  {
   "cell_type": "markdown",
   "metadata": {},
   "source": [
    "For each user, load scraped tweets, without auto-generated tweets by physical applications, and removing retweets."
   ]
  },
  {
   "cell_type": "code",
   "execution_count": 51,
   "metadata": {
    "collapsed": true
   },
   "outputs": [],
   "source": [
    "def load_tweets(user_id, data_dir, remove_hash=None, keep_rt=False):\n",
    "    user_p = os.path.join(data_dir, user_id)\n",
    "    tweets = []\n",
    "    with open(user_p) as fd:\n",
    "        for l in fd:\n",
    "            o = json.loads(l)\n",
    "            # check for retweets\n",
    "            if not keep_rt and 'retweeted_status' in o:\n",
    "                keep_tw = False\n",
    "            else:\n",
    "                # check for hashtags to avoid\n",
    "                h = set([_['text'].lower() for _ in o['entities']['hashtags']])\n",
    "                keep_tw = remove_hash is None or not (h & set(remove_hash))\n",
    "            \n",
    "            if keep_tw:\n",
    "                tweets.append(o['text'])\n",
    "    return tweets\n",
    "    \n",
    "auto_hash = ['runkeeper', 'nikeplus', 'runtastic', 'endomondo', 'mapmyrun', 'strava', 'cyclemeter', 'fitstats', 'mapmyfitness', 'runmeter']\n",
    "\n",
    "def load_tweets_sport(user_id):\n",
    "    return load_tweets(user_id, \"/data/1/sporty/tweets/from_users/sport/\", remove_hash=auto_hash)\n",
    "    \n",
    "def load_tweets_nosport(user_id):\n",
    "    return load_tweets(user_id, \"/data/1/sporty/tweets/from_users/no_sport/\", remove_hash=auto_hash)"
   ]
  },
  {
   "cell_type": "code",
   "execution_count": 60,
   "metadata": {
    "collapsed": false
   },
   "outputs": [],
   "source": [
    "s_users['tweets'] = s_users.id.astype(str).progress_apply(load_tweets_sport)\n",
    "n_users['tweets'] = n_users.id.astype(str).progress_apply(load_tweets_nosport)"
   ]
  },
  {
   "cell_type": "code",
   "execution_count": 75,
   "metadata": {
    "collapsed": false
   },
   "outputs": [],
   "source": [
    "s_users['tweets_count'] = s_users.tweets.apply(len)\n",
    "n_users['tweets_count'] = n_users.tweets.apply(len)"
   ]
  },
  {
   "cell_type": "markdown",
   "metadata": {},
   "source": [
    "Drop users' (and their match) that have no remaining tweets."
   ]
  },
  {
   "cell_type": "code",
   "execution_count": 594,
   "metadata": {
    "collapsed": false
   },
   "outputs": [],
   "source": [
    "notweets_nidx = n_users.index[n_users.tweets_count == 0].tolist()\n",
    "notweets_sidx = s_users.index[s_users.tweets_count == 0].tolist()\n",
    "notweets_idx = notweets_nidx + notweets_sidx"
   ]
  },
  {
   "cell_type": "code",
   "execution_count": 604,
   "metadata": {
    "collapsed": false
   },
   "outputs": [],
   "source": [
    "s_users = s_users.drop(notweets_idx)\n",
    "n_users = n_users.drop(notweets_idx)"
   ]
  },
  {
   "cell_type": "markdown",
   "metadata": {},
   "source": [
    "## Mood annotated data"
   ]
  },
  {
   "cell_type": "code",
   "execution_count": 86,
   "metadata": {
    "collapsed": false
   },
   "outputs": [
    {
     "name": "stdout",
     "output_type": "stream",
     "text": [
      "\n"
     ]
    }
   ],
   "source": [
    "def load_labeled_mood(p):\n",
    "    tweets = []\n",
    "    with open(p) as fd:\n",
    "        for l in tqdm_notebook(fd):\n",
    "            o = json.loads(l)\n",
    "            tweets.append({k: o[k] for k in ['text', 'AH', 'DD', 'TA']})\n",
    "    return pd.DataFrame(tweets)\n",
    "\n",
    "mood_tweets_df = load_labeled_mood(\"/data/1/sporty/tweets/labeled/3K_labeled\")"
   ]
  },
  {
   "cell_type": "markdown",
   "metadata": {},
   "source": [
    "### Load LIWC lexicon"
   ]
  },
  {
   "cell_type": "code",
   "execution_count": 91,
   "metadata": {
    "code_folding": [
     9
    ],
    "collapsed": true
   },
   "outputs": [],
   "source": [
    "''' Data structure and utility functions for reading and querying a LIWC\n",
    "lexicon. Data described here:\n",
    "http://homepage.psy.utexas.edu/homepage/faculty/pennebaker/reprints/LIWC2001.pdf\n",
    "'''\n",
    "\n",
    "from collections import defaultdict\n",
    "import os\n",
    "\n",
    "\n",
    "class Lexicon(object):\n",
    "    \"\"\"\n",
    "    >>> import tempfile\n",
    "    >>> tf = tempfile.NamedTemporaryFile()\n",
    "    >>> tf.write(\"%\\\\n1\\\\tPronoun\\\\n2\\\\tI\\\\n3\\tGreet\\\\n%\\\\ni\\\\t01 02\\\\nhis\\\\t01\\\\nhi*\\t03\")\n",
    "    >>> tf.flush()\n",
    "    >>> d = Lexicon(tf.name)\n",
    "    >>> d.categories_for_tokens(['i', 'his'])\n",
    "    [[u'Pronoun', u'I'], [u'Pronoun']]\n",
    "    >>> d.categories_for_tokens(['his'])\n",
    "    [[u'Pronoun']]\n",
    "    >>> cts = d.counts_for_tokens(['i', 'his'])\n",
    "    >>> cts[u'I']\n",
    "    1\n",
    "    >>> cts[u'Pronoun']\n",
    "    2\n",
    "    >>> d.categories_for_tokens(['zebra'])\n",
    "    [[]]\n",
    "    >>> d.categories_for_tokens(['hithere'])\n",
    "    [[u'Greet']]\n",
    "    \"\"\"\n",
    "\n",
    "    def __init__(self, dict_file=None):\n",
    "        self.dict_file = dict_file\n",
    "        self.load_dictionary(dict_file)\n",
    "\n",
    "    def parse_categories(self, catText):\n",
    "        lines = catText.split(\"\\n\")\n",
    "        self.categories = {}\n",
    "        for line in lines:\n",
    "            if len(line) > 0:\n",
    "                key, val = line.split()\n",
    "                self.categories[str(key)] = str(val)\n",
    "\n",
    "    def parse_patterns(self, regExps):\n",
    "        lines = regExps.split(\"\\n\")\n",
    "        self.exact_patterns = {}\n",
    "        self.prefix_patterns = {}\n",
    "        for line in lines:\n",
    "            if len(line) > 0 and not line.startswith('//'):\n",
    "                vals = line.split()\n",
    "                exp = vals[0]\n",
    "                ids = [str(int(v)) for v in vals[1:]]\n",
    "                if '*' in exp:\n",
    "                    self.prefix_patterns[exp[:-1]] = ids\n",
    "                else:\n",
    "                    self.exact_patterns[exp] = ids\n",
    "\n",
    "    def load_dictionary(self, dict_file):\n",
    "        dict_text = open(dict_file).read()\n",
    "        as_list = dict_text.split(\"%\")\n",
    "        self.parse_categories(as_list[1])\n",
    "        self.parse_patterns(as_list[2])\n",
    "\n",
    "    def categories_for_token(self, word):\n",
    "        result = []\n",
    "        if word in self.exact_patterns:\n",
    "            result.extend(self.exact_patterns[word])\n",
    "        else:\n",
    "            for i in range(0, len(word)):\n",
    "                if word[:-i] in self.prefix_patterns:\n",
    "                    result.extend(self.prefix_patterns[word[:-i]])\n",
    "        return [self.categories[c] for c in result]\n",
    "\n",
    "    def categories_for_tokens(self, tokens):\n",
    "        \"\"\" Returns a list of lists. For each token, create a list of categories\n",
    "        it belongs to.\"\"\"\n",
    "        return [self.categories_for_token(token) for token in tokens]\n",
    "\n",
    "    def counts_for_tokens(self, tokens):\n",
    "        \"\"\" Returns a dict mapping categories to counts from this list of\n",
    "        tokens. \"\"\"\n",
    "        cats = self.categories_for_tokens(tokens)\n",
    "        d = defaultdict(lambda: 0)\n",
    "        for a in cats:\n",
    "            for b in a:\n",
    "                d[b] += 1\n",
    "        return d\n",
    "    \n",
    "lex = Lexicon(\"./liwc.dic\")"
   ]
  },
  {
   "cell_type": "markdown",
   "metadata": {},
   "source": [
    "###  Load emoticons "
   ]
  },
  {
   "cell_type": "code",
   "execution_count": 115,
   "metadata": {
    "collapsed": false
   },
   "outputs": [],
   "source": [
    "emoticon_df = pd.read_csv(\"emoticons\", sep=\" \", header=None, names=['tag', 'emoticon'], index_col=1)\n",
    "emoticon_dict = emoticon_df.to_dict(orient='dict')['tag']"
   ]
  },
  {
   "cell_type": "markdown",
   "metadata": {},
   "source": [
    "###  Build features encoding"
   ]
  },
  {
   "cell_type": "markdown",
   "metadata": {},
   "source": [
    "Build tokenizer"
   ]
  },
  {
   "cell_type": "code",
   "execution_count": 1050,
   "metadata": {
    "collapsed": false
   },
   "outputs": [],
   "source": [
    "def tokenize(text, keep_hashtags=False, keep_mentions=True, keep_urls=True,\n",
    "             collapse_hashtags=True, collapse_mentions=True, collapse_urls=True, collapse_digits=True, \n",
    "             limit_repeats=True, bigrams=True, liwc=True):\n",
    "    punc = string.punctuation\n",
    "    text = re.sub(\"\\s+\", \" \", text.lower())\n",
    "    if not keep_hashtags:\n",
    "        text = re.sub('#\\S+', '', text)\n",
    "    elif collapse_hashtags:\n",
    "        text = re.sub('#\\S+', 'HASHTAG', text)\n",
    "    else:\n",
    "        text = re.sub('#(\\S+)', r'HASHTAG_\\1', text)\n",
    "        \n",
    "    if not keep_mentions:\n",
    "        text = re.sub('@\\S+' , '', text)\n",
    "    elif collapse_mentions:\n",
    "        text = re.sub('@\\S+', 'MENTION', text)\n",
    "    \n",
    "    if not keep_urls:\n",
    "        text = re.sub('http\\S+', '', text)\n",
    "    elif collapse_urls:\n",
    "        text = re.sub('http\\S+', 'URL', text)\n",
    "    \n",
    "    if limit_repeats:\n",
    "        text = re.sub(r'(.)\\1\\1\\1+', r'\\1', text)\n",
    "    if collapse_digits:\n",
    "        text = re.sub(r'[0-9]+', 'NUMBER', text)\n",
    "    splits = text.split()\n",
    "    \n",
    "    punc_tokens = []\n",
    "    word_tokens = []\n",
    "    liwc_tokens = []\n",
    "    for tok in splits:\n",
    "        if tok in emoticon_dict:\n",
    "            word_tokens.append(emoticon_dict[tok])\n",
    "        else:\n",
    "            tok = tok.strip(punc)\n",
    "            if tok:\n",
    "                word_tokens.append(tok)\n",
    "        if liwc:\n",
    "            liwc_tokens.extend([\"LIWC_\" + _ for _ in lex.categories_for_token(tok)])\n",
    "    \n",
    "    liwc_tokens = list(set(liwc_tokens))\n",
    "    bigram_tokens = [\"_\".join(_) for _ in zip(word_tokens, word_tokens[1:])] if bigrams else []\n",
    "    \n",
    "    return word_tokens + bigram_tokens + liwc_tokens"
   ]
  },
  {
   "cell_type": "markdown",
   "metadata": {},
   "source": [
    "### Build classifier for each dimension"
   ]
  },
  {
   "cell_type": "markdown",
   "metadata": {},
   "source": [
    "Apply to 3 mood dimensions."
   ]
  },
  {
   "cell_type": "code",
   "execution_count": 797,
   "metadata": {
    "collapsed": false
   },
   "outputs": [],
   "source": [
    "moods = ['AH', 'DD', 'TA']\n",
    "vecs = {}\n",
    "kbests = {}\n",
    "plines = {}\n",
    "Xs = {}\n",
    "clfs = {}\n",
    "features = {}\n",
    "top_features = {}\n",
    "n_features = 'all'\n",
    "\n",
    "for m in tqdm_notebook(moods):\n",
    "    # build pipeline\n",
    "    vecs[m] = TfidfVectorizer(tokenizer=tokenize, min_df=2, binary=True)\n",
    "    kbests[m] = SelectKBest(chi2, n_features)\n",
    "    plines[m] = pipeline = Pipeline([('tfidf', vecs[m]), ('chi2', kbests[m])])\n",
    "    \n",
    "    # build doc term matrix\n",
    "    y = mood_tweets_df[m]\n",
    "    Xs[m] = plines[m].fit_transform(mood_tweets_df.text, y)\n",
    "    # get labels\n",
    "\n",
    "    # train classifier\n",
    "    clfs[m] = LogisticRegression(class_weight='balanced')\n",
    "    clfs[m].fit(Xs[m],y)\n",
    "    \n",
    "    # retrieve features\n",
    "    support = kbests[m].get_support()\n",
    "    features[m] = np.array(vecs[m].get_feature_names())[support]\n",
    "    top_features[m] = [(features[m][i], clfs[m].coef_[0][i]) for i in clfs[m].coef_[0].argsort()[::-1]]"
   ]
  },
  {
   "cell_type": "markdown",
   "metadata": {},
   "source": [
    "###  Top features for each dimension"
   ]
  },
  {
   "cell_type": "code",
   "execution_count": 800,
   "metadata": {
    "collapsed": false
   },
   "outputs": [
    {
     "name": "stdout",
     "output_type": "stream",
     "text": [
      "Top features for AH\n",
      "    0. LIWC_Anger..............................4.666\n",
      "    1. hate....................................3.326\n",
      "    2. LIWC_Swear..............................3.254\n",
      "    3. dumb....................................3.114\n",
      "    4. your....................................2.797\n",
      "    5. upset...................................2.745\n",
      "    6. fuck....................................2.419\n",
      "    7. LIWC_Negemo.............................2.386\n",
      "    8. rude....................................2.295\n",
      "    9. bitch...................................2.291\n",
      "   10. irritated...............................2.283\n",
      "   11. shit....................................2.113\n",
      "   12. shut....................................2.105\n",
      "   13. fucking.................................2.016\n",
      "   14. ignorant................................1.865\n",
      "   15. why.....................................1.763\n",
      "   16. stupid..................................1.703\n",
      "   17. being...................................1.698\n",
      "   18. freakin.................................1.672\n",
      "   19. lame....................................1.667\n",
      "----------------------------------------------------------------------------------------------------\n",
      "Top features for DD\n",
      "    0. LIWC_Sad................................4.472\n",
      "    1. LIWC_Sleep..............................3.387\n",
      "    2. LIWC_Negemo.............................3.026\n",
      "    3. bored...................................2.493\n",
      "    4. weak....................................2.318\n",
      "    5. sick....................................2.120\n",
      "    6. LIWC_I..................................2.119\n",
      "    7. tired...................................2.078\n",
      "    8. being...................................1.998\n",
      "    9. day.....................................1.974\n",
      "   10. i'm.....................................1.900\n",
      "   11. i.......................................1.824\n",
      "   12. lazy....................................1.812\n",
      "   13. sleepy..................................1.767\n",
      "   14. exhausted...............................1.714\n",
      "   15. LIWC_Self...............................1.673\n",
      "   16. depressing..............................1.643\n",
      "   17. annoying................................1.639\n",
      "   18. boring..................................1.627\n",
      "   19. im......................................1.603\n",
      "----------------------------------------------------------------------------------------------------\n",
      "Top features for TA\n",
      "    0. LIWC_Anger..............................3.383\n",
      "    1. fuck....................................2.532\n",
      "    2. nervous.................................2.342\n",
      "    3. LIWC_Negemo.............................2.285\n",
      "    4. rude....................................2.261\n",
      "    5. LIWC_Swear..............................2.025\n",
      "    6. lame....................................1.963\n",
      "    7. gross...................................1.891\n",
      "    8. being...................................1.844\n",
      "    9. gonna...................................1.799\n",
      "   10. so......................................1.784\n",
      "   11. LIWC_Anx................................1.777\n",
      "   12. upset...................................1.773\n",
      "   13. shut....................................1.752\n",
      "   14. irritated...............................1.684\n",
      "   15. this_is.................................1.636\n",
      "   16. LIWC_Negate.............................1.590\n",
      "   17. your....................................1.545\n",
      "   18. me......................................1.529\n",
      "   19. shit....................................1.484\n",
      "----------------------------------------------------------------------------------------------------\n"
     ]
    }
   ],
   "source": [
    "for m in moods:\n",
    "    print(\"Top features for\", m)\n",
    "    for i, (w,c) in enumerate(top_features[m][:20]):\n",
    "        print(\"{:>5}. {:.<40}{:>4}\".format(i, w, \"%.3f\" % c))\n",
    "    print('-'*100)"
   ]
  },
  {
   "cell_type": "markdown",
   "metadata": {},
   "source": [
    "### Cross validation"
   ]
  },
  {
   "cell_type": "code",
   "execution_count": 801,
   "metadata": {
    "collapsed": false,
    "scrolled": false
   },
   "outputs": [],
   "source": [
    "def cv(data, n_folds=10):\n",
    "    results = {}\n",
    "\n",
    "    for m in tqdm_notebook(moods):\n",
    "        y_probs = []\n",
    "        y_preds = []\n",
    "        y_trues = []\n",
    "        for tr, te in tqdm_notebook(KFold(data.shape[0], n_folds, shuffle=True, random_state=123456)):\n",
    "            data_tr, data_te = data.iloc[tr], data.iloc[te]\n",
    "            y_tr, y_te = data_tr[m], data_te[m]\n",
    "            X_tr = plines[m].fit_transform(data_tr.text, y_tr)\n",
    "\n",
    "            X_te = plines[m].transform(data_te.text)\n",
    "\n",
    "            clf = LogisticRegression(class_weight='balanced')\n",
    "            clf.fit(X_tr, y_tr)\n",
    "            y_prob = clf.predict_proba(X_te)[:,1]\n",
    "            y_pred = clf.predict(X_te)\n",
    "\n",
    "            y_trues.extend(y_te)\n",
    "            y_preds.extend(y_pred)\n",
    "            y_probs.extend(y_prob)\n",
    "    \n",
    "        results[m] = {'y_true': y_trues, 'y_pred': y_preds, 'y_prob': y_probs}\n",
    "    return results"
   ]
  },
  {
   "cell_type": "code",
   "execution_count": 802,
   "metadata": {
    "collapsed": false
   },
   "outputs": [],
   "source": [
    "results_cv = cv(mood_tweets_df, 10)"
   ]
  },
  {
   "cell_type": "markdown",
   "metadata": {},
   "source": [
    "ROC curves for each dimension."
   ]
  },
  {
   "cell_type": "code",
   "execution_count": 828,
   "metadata": {
    "collapsed": false
   },
   "outputs": [
    {
     "name": "stdout",
     "output_type": "stream",
     "text": [
      "AH ROC AUC: 0.863\n",
      "DD ROC AUC: 0.846\n",
      "TA ROC AUC: 0.824\n"
     ]
    },
    {
     "data": {
      "image/png": "[encoded data removed]",
      "text/plain": [
       "<matplotlib.figure.Figure at 0x7f4f68562e10>"
      ]
     },
     "metadata": {},
     "output_type": "display_data"
    }
   ],
   "source": [
    "def roc_curves(results):\n",
    "    fig, ax = plt.subplots(figsize=(8,6))\n",
    "    colors = ['r','g','b']\n",
    "    for m, c in zip(moods,colors):\n",
    "        fpr, tpr, thresh = metrics.roc_curve(results[m]['y_true'], results[m]['y_prob'], drop_intermediate=True)\n",
    "        ax.plot(fpr, tpr, label=m, color=c, alpha=0.7)\n",
    "        ax.plot(fpr, thresh, label=m + \" threshold\", linestyle='-.', color=c)\n",
    "        plt.legend(loc=4)\n",
    "        print(\"%s ROC AUC: %.3f\" % (m, metrics.roc_auc_score(results[m]['y_true'], results[m]['y_prob'])))\n",
    "    ax.set_ylim([0,1])\n",
    "    ax.set_xlabel(\"fpr\")\n",
    "    ax.set_ylabel(\"tpr\")\n",
    "    ax.plot([0,1],[0,1], color='k', linestyle='--', linewidth=0.5)\n",
    "        \n",
    "roc_curves(results_cv)"
   ]
  },
  {
   "cell_type": "markdown",
   "metadata": {},
   "source": [
    "Precision recall curve for each dimension."
   ]
  },
  {
   "cell_type": "code",
   "execution_count": 829,
   "metadata": {
    "collapsed": false
   },
   "outputs": [
    {
     "data": {
      "image/png": "[encoded data removed]",
      "text/plain": [
       "<matplotlib.figure.Figure at 0x7f4f685882b0>"
      ]
     },
     "metadata": {},
     "output_type": "display_data"
    }
   ],
   "source": [
    "def prec_rec_curves(results):\n",
    "    fig, ax = plt.subplots(figsize=(8,6))\n",
    "    colors = ['r','g','b']\n",
    "    for m, c in zip(moods,colors):\n",
    "        prec, rec, thresh = metrics.precision_recall_curve(results[m]['y_true'], results[m]['y_prob'], pos_label=1)\n",
    "        thresh = np.hstack([thresh, [1]])\n",
    "        ax.plot(rec, prec, label=m, color=c, alpha=0.7)\n",
    "        ax.plot(rec, thresh, label=m + \" threshold\", linestyle='-.', color=c)\n",
    "        plt.legend(loc=7)\n",
    "    ax.set_ylim([0,1])\n",
    "    ax.set_xlabel('rec')\n",
    "    ax.set_ylabel('prec')\n",
    "        \n",
    "prec_rec_curves(results_cv)"
   ]
  },
  {
   "cell_type": "markdown",
   "metadata": {},
   "source": [
    "Pick threshold for best precision (tp/(tp+fp)), minimize false positives."
   ]
  },
  {
   "cell_type": "code",
   "execution_count": 809,
   "metadata": {
    "collapsed": false
   },
   "outputs": [
    {
     "name": "stdout",
     "output_type": "stream",
     "text": [
      "AH\n",
      "341\n",
      "             precision    recall  f1-score   support\n",
      "\n",
      "          0       0.96      0.91      0.93      2138\n",
      "          1       0.40      0.60      0.48       229\n",
      "\n",
      "avg / total       0.90      0.88      0.89      2367\n",
      "\n",
      "DD\n",
      "546\n",
      "             precision    recall  f1-score   support\n",
      "\n",
      "          0       0.93      0.85      0.89      1998\n",
      "          1       0.44      0.64      0.52       369\n",
      "\n",
      "avg / total       0.85      0.81      0.83      2367\n",
      "\n",
      "TA\n",
      "555\n",
      "             precision    recall  f1-score   support\n",
      "\n",
      "          0       0.92      0.84      0.88      1986\n",
      "          1       0.42      0.61      0.50       381\n",
      "\n",
      "avg / total       0.84      0.80      0.82      2367\n",
      "\n"
     ]
    }
   ],
   "source": [
    "thresholds = {'AH': .5, 'DD': .5, 'TA': .5}\n",
    "# thresholds = {'AH': .1, 'DD': .22, 'TA': .18}\n",
    "# thresholds = {'AH': .6, 'DD': .6, 'TA': .6}\n",
    "# thresholds = {'AH': .99, 'DD': .99, 'TA': .99}\n",
    "\n",
    "for m in moods:\n",
    "    print(m)\n",
    "    t = thresholds[m]\n",
    "    y_pred_thresh = (np.array(results_cv[m]['y_prob']) > t).astype(int)\n",
    "    print(y_pred_thresh.sum())\n",
    "    print(metrics.classification_report(results_cv[m]['y_true'], y_pred_thresh))"
   ]
  },
  {
   "cell_type": "markdown",
   "metadata": {},
   "source": [
    "## Annotate users from treatment and control groups."
   ]
  },
  {
   "cell_type": "markdown",
   "metadata": {},
   "source": [
    "Train classifiers on the all the annotated instances."
   ]
  },
  {
   "cell_type": "code",
   "execution_count": 810,
   "metadata": {
    "collapsed": false
   },
   "outputs": [],
   "source": [
    "moods = ['AH', 'DD', 'TA']\n",
    "vecs = {}\n",
    "kbests = {}\n",
    "plines = {}\n",
    "Xs = {}\n",
    "clfs = {}\n",
    "features = {}\n",
    "top_features = {}\n",
    "n_features = 160\n",
    "\n",
    "for m in tqdm_notebook(moods):\n",
    "    # build pipeline\n",
    "    vecs[m] = TfidfVectorizer(tokenizer=tokenize, min_df=3, max_df=0.95)\n",
    "    kbests[m] = SelectKBest(chi2, n_features)\n",
    "    plines[m] = pipeline = Pipeline([('tfidf', vecs[m]), ('chi2', kbests[m])])\n",
    "    \n",
    "    # build doc term matrix\n",
    "    y = mood_tweets_df[m]\n",
    "    Xs[m] = plines[m].fit_transform(mood_tweets_df.text, y)\n",
    "    # get labels\n",
    "\n",
    "    # train classifier\n",
    "    clfs[m] = LogisticRegression(class_weight='balanced')\n",
    "    clfs[m].fit(Xs[m],y)\n",
    "    \n",
    "    # retrieve features\n",
    "    support = kbests[m].get_support()\n",
    "    features[m] = np.array(vecs[m].get_feature_names())[support]\n",
    "    top_features[m] = [(features[m][i], clfs[m].coef_[0][i]) for i in clfs[m].coef_[0].argsort()[::-1]]"
   ]
  },
  {
   "cell_type": "markdown",
   "metadata": {},
   "source": [
    "Build termdoc matrix for each user."
   ]
  },
  {
   "cell_type": "code",
   "execution_count": 811,
   "metadata": {
    "collapsed": false
   },
   "outputs": [],
   "source": [
    "for m in tqdm_notebook(moods):\n",
    "    f = lambda _: plines[m].transform(_)\n",
    "    n_users['termdoc_' + m] = n_users.tweets.progress_apply(f)\n",
    "    s_users['termdoc_' + m] = s_users.tweets.progress_apply(f)"
   ]
  },
  {
   "cell_type": "markdown",
   "metadata": {},
   "source": [
    "Scale termdoc matrix and compute probability of each class for each user."
   ]
  },
  {
   "cell_type": "code",
   "execution_count": 812,
   "metadata": {
    "collapsed": false
   },
   "outputs": [],
   "source": [
    "for m in tqdm_notebook(moods):\n",
    "    f = lambda _: clfs[m].predict_proba(_)\n",
    "    n_users['prob_' + m] = n_users['termdoc_' + m].progress_apply(f)\n",
    "    s_users['prob_' + m] = s_users['termdoc_' + m].progress_apply(f)    "
   ]
  },
  {
   "cell_type": "markdown",
   "metadata": {},
   "source": [
    "Compute average score for each user."
   ]
  },
  {
   "cell_type": "code",
   "execution_count": 813,
   "metadata": {
    "collapsed": false
   },
   "outputs": [],
   "source": [
    "f = lambda _: np.mean(_[:,1])\n",
    "\n",
    "for m in tqdm_notebook(moods):\n",
    "    n_users['avg_prob_' + m] = n_users['prob_' + m].apply(f)\n",
    "    s_users['avg_prob_' + m] = s_users['prob_' + m].apply(f)"
   ]
  },
  {
   "cell_type": "code",
   "execution_count": 827,
   "metadata": {
    "collapsed": false
   },
   "outputs": [
    {
     "data": {
      "text/plain": [
       "<matplotlib.axes._subplots.AxesSubplot at 0x7f4f749fc8d0>"
      ]
     },
     "execution_count": 827,
     "metadata": {},
     "output_type": "execute_result"
    },
    {
     "data": {
      "image/png": "[encoded data removed]",
      "text/plain": [
       "<matplotlib.figure.Figure at 0x7f4f68613c88>"
      ]
     },
     "metadata": {},
     "output_type": "display_data"
    }
   ],
   "source": [
    "compare_avg_df = pd.DataFrame()\n",
    "for m in moods:\n",
    "    compare_avg_df['match_' + m] = n_users['avg_prob_' + m]\n",
    "    compare_avg_df['sport_' + m] = s_users['avg_prob_' + m]\n",
    "#     compare_avg_df['diff_' + m] = n_users['avg_prob_' + m] - s_users['avg_prob_' + m]\n",
    "    \n",
    "compare_avg_df.plot(kind='box', figsize=(8,6))#, ylim=[-0.1,.22])"
   ]
  },
  {
   "cell_type": "markdown",
   "metadata": {},
   "source": [
    "Percent change"
   ]
  },
  {
   "cell_type": "code",
   "execution_count": 819,
   "metadata": {
    "collapsed": false
   },
   "outputs": [
    {
     "name": "stdout",
     "output_type": "stream",
     "text": [
      "Dimension AH: -6.48% Change, p-value = 1.76e-22\n",
      "Dimension DD: -3.64% Change, p-value = 4.84e-06\n",
      "Dimension TA: -7.05% Change, p-value = 3.29e-16\n"
     ]
    }
   ],
   "source": [
    "def perc_change(before, after):\n",
    "    return 100 * (after - before) / before\n",
    "\n",
    "for m in moods:\n",
    "    before = n_users['avg_prob_' + m].mean()\n",
    "    after = s_users['avg_prob_' + m].mean()\n",
    "    w, p = wilcoxon(n_users['avg_prob_' + m], s_users['avg_prob_' + m])\n",
    "    print(\"Dimension {}: {}% Change, p-value = {}\".format(m, \"%.2f\" % perc_change(before, after), \"%.3g\" % p))"
   ]
  },
  {
   "cell_type": "markdown",
   "metadata": {},
   "source": [
    "Compute prediction for each tweets for each user given a threshold for each dimension."
   ]
  },
  {
   "cell_type": "code",
   "execution_count": 820,
   "metadata": {
    "collapsed": false
   },
   "outputs": [],
   "source": [
    "thresholds = {'AH': .5, 'DD': .5, 'TA': .5}\n",
    "\n",
    "for m in tqdm_notebook(moods):\n",
    "    t = thresholds[m]\n",
    "    f = lambda _: (_[:, 1] > t).astype(int)\n",
    "    n_users['pred_' + m] = n_users['prob_' + m].apply(f)\n",
    "    s_users['pred_' + m] = s_users['prob_' + m].apply(f)"
   ]
  },
  {
   "cell_type": "markdown",
   "metadata": {},
   "source": [
    "Compute ratio of positive tweets for each dimension and each user."
   ]
  },
  {
   "cell_type": "code",
   "execution_count": 822,
   "metadata": {
    "collapsed": false
   },
   "outputs": [],
   "source": [
    "f = lambda _: np.sum(_)/np.shape(_)[0]\n",
    "for m in tqdm_notebook(moods):\n",
    "    n_users['ratio_pos_' + m] = n_users['pred_' + m].apply(f)\n",
    "    s_users['ratio_pos_' + m] = s_users['pred_' + m].apply(f)    "
   ]
  },
  {
   "cell_type": "code",
   "execution_count": 826,
   "metadata": {
    "collapsed": false
   },
   "outputs": [
    {
     "data": {
      "text/plain": [
       "<matplotlib.axes._subplots.AxesSubplot at 0x7f4f68b4f898>"
      ]
     },
     "execution_count": 826,
     "metadata": {},
     "output_type": "execute_result"
    },
    {
     "data": {
      "image/png": "[encoded data removed]",
      "text/plain": [
       "<matplotlib.figure.Figure at 0x7f4f749fc550>"
      ]
     },
     "metadata": {},
     "output_type": "display_data"
    }
   ],
   "source": [
    "compare_ratio_df = pd.DataFrame()\n",
    "for m in moods:\n",
    "    compare_ratio_df['match_' + m] = n_users['ratio_pos_' + m]\n",
    "    compare_ratio_df['sport_' + m] = s_users['ratio_pos_' + m]\n",
    "#     compare_ratio_df['diff_' + m] = n_users['ratio_pos_' + m] - s_users['ratio_pos_' + m]\n",
    "    \n",
    "compare_ratio_df.plot(kind='box', figsize=(8,6), ylim=[0,.2])"
   ]
  },
  {
   "cell_type": "markdown",
   "metadata": {
    "collapsed": true
   },
   "source": [
    "# Topic analysis "
   ]
  },
  {
   "cell_type": "code",
   "execution_count": 832,
   "metadata": {
    "collapsed": true
   },
   "outputs": [],
   "source": [
    "import scipy.sparse as sp\n",
    "from sklearn.decomposition import LatentDirichletAllocation"
   ]
  },
  {
   "cell_type": "code",
   "execution_count": null,
   "metadata": {
    "collapsed": true
   },
   "outputs": [],
   "source": [
    "def print_top_words(model, feature_names, n_top_words):\n",
    "    df = pd.DataFrame()\n",
    "    for topic_idx, topic in enumerate(model.components_):\n",
    "        top_words_idx = topic.argsort()[:-n_top_words - 1:-1]\n",
    "        df['topic_%d' % (topic_idx+1)] = feature_names[top_words_idx]\n",
    "    return df"
   ]
  },
  {
   "cell_type": "markdown",
   "metadata": {},
   "source": [
    "Load dataset of Amazon fine food reviews."
   ]
  },
  {
   "cell_type": "code",
   "execution_count": 905,
   "metadata": {
    "collapsed": false
   },
   "outputs": [],
   "source": [
    "food_review_df = pd.read_csv(\"/data/2/amazon-fine-foods/Reviews.csv\", usecols=['Text'])"
   ]
  },
  {
   "cell_type": "code",
   "execution_count": 1099,
   "metadata": {
    "collapsed": false
   },
   "outputs": [
    {
     "name": "stdout",
     "output_type": "stream",
     "text": [
      "\n"
     ]
    }
   ],
   "source": [
    "pet_words = set(['cat', 'dog', 'cats', 'dogs'])\n",
    "food_review_df['about_pet'] = food_review_df.Text.progress_apply(lambda _: True if pet_words & set(re.sub(r'[%s]' % re.escape(string.punctuation), \"\", _.lower()).split()) else False)"
   ]
  },
  {
   "cell_type": "code",
   "execution_count": 1101,
   "metadata": {
    "collapsed": false
   },
   "outputs": [],
   "source": [
    "# drop reviews about pet food\n",
    "food_review_df = food_review_df[~food_review_df.about_pet]"
   ]
  },
  {
   "cell_type": "code",
   "execution_count": 1102,
   "metadata": {
    "collapsed": true
   },
   "outputs": [],
   "source": [
    "def food_tokenize(text):\n",
    "    punc = string.punctuation\n",
    "    text = re.sub(\"\\s+\", \" \", text.lower())\n",
    "    text = re.sub('http\\S+', '', text)\n",
    "    text = re.sub(r'[0-9]+', 'NUMBER', text)\n",
    "    text = re.sub(r'[%s]' % re.escape(punc), \"\", text)\n",
    "    tokens = text.split()\n",
    "    \n",
    "    return [_ for _ in tokens if _ != 'br']"
   ]
  },
  {
   "cell_type": "code",
   "execution_count": 1148,
   "metadata": {
    "collapsed": false,
    "scrolled": true
   },
   "outputs": [
    {
     "name": "stdout",
     "output_type": "stream",
     "text": [
      "(500410, 50000)\n",
      "CPU times: user 56.9 s, sys: 221 ms, total: 57.1 s\n",
      "Wall time: 57.2 s\n"
     ]
    }
   ],
   "source": [
    "%%time\n",
    "food_vec = TfidfVectorizer(binary=True, min_df=2, max_df=.9, max_features=50000, stop_words='english', tokenizer=food_tokenize)\n",
    "X_food = food_vec.fit_transform(food_review_df.Text)\n",
    "food_features = np.array(food_vec.get_feature_names())\n",
    "print(X_food.shape)"
   ]
  },
  {
   "cell_type": "code",
   "execution_count": 1149,
   "metadata": {
    "collapsed": false,
    "scrolled": false
   },
   "outputs": [
    {
     "data": {
      "text/plain": [
       "array(['good', 'great', 'like', 'taste', 'NUMBER', 'love', 'just',\n",
       "       'flavor', 'product', 'coffee', 'best', 'really', 'buy', 'price',\n",
       "       'tea', 'dont', 'amazon', 'tried', 'time', 'use', 'little', 'better',\n",
       "       'make', 'try', 'ive', 'im', 'tastes', 'delicious', 'bought',\n",
       "       'favorite', 'order', 'eat', 'recommend', 'sweet', 'used', 'nice',\n",
       "       'drink', 'cup', 'way', 'store', 'chocolate', 'sugar', 'think',\n",
       "       'box', 'NUMBERNUMBER', 'bag', 'perfect', 'snack', 'got', 'ordered'], \n",
       "      dtype='<U198')"
      ]
     },
     "execution_count": 1149,
     "metadata": {},
     "output_type": "execute_result"
    }
   ],
   "source": [
    "food_features[X_food.sum(axis=0).A1.argsort()[::-1]][:50]"
   ]
  },
  {
   "cell_type": "code",
   "execution_count": 1151,
   "metadata": {
    "collapsed": false
   },
   "outputs": [
    {
     "name": "stdout",
     "output_type": "stream",
     "text": [
      "CPU times: user 28min 24s, sys: 3.31 s, total: 28min 27s\n",
      "Wall time: 28min 29s\n"
     ]
    }
   ],
   "source": [
    "%%time\n",
    "# takes about 30 minutes with the whole amazon reviews dataset and 50K features\n",
    "kmeans_food = KMeans(n_clusters=15, max_iter=20)\n",
    "kmeans_food.fit(X_food)"
   ]
  },
  {
   "cell_type": "code",
   "execution_count": 1158,
   "metadata": {
    "collapsed": false
   },
   "outputs": [],
   "source": [
    "def kmeans_top_fts(kmeans, X, feature_names, n_top_features):\n",
    "    df = pd.DataFrame()\n",
    "    for cl_i in range(kmeans.n_clusters):\n",
    "        in_cluster_i = np.where(kmeans.labels_ == cl_i)\n",
    "        X_sum_i = X[in_cluster_i].sum(axis=0).A1\n",
    "        top_fts_idx = np.argsort(X_sum_i)[::-1]\n",
    "        df['cluster_%d' % (cl_i + 1)] = feature_names[top_fts_idx][:n_top_features]\n",
    "    \n",
    "    return df\n",
    "\n",
    "top_kmeans_food = kmeans_top_fts(kmeans_food, X_food, food_features, 500)"
   ]
  },
  {
   "cell_type": "code",
   "execution_count": null,
   "metadata": {
    "collapsed": true
   },
   "outputs": [],
   "source": [
    "top_kmeans_food"
   ]
  },
  {
   "cell_type": "code",
   "execution_count": 1160,
   "metadata": {
    "collapsed": false
   },
   "outputs": [],
   "source": [
    "subtop_kmeans_food = top_kmeans_food[['cluster_2', 'cluster_7', 'cluster_9', 'cluster_11', 'cluster_12', 'cluster_13', 'cluster_14', 'cluster_15']]"
   ]
  },
  {
   "cell_type": "code",
   "execution_count": 1174,
   "metadata": {
    "collapsed": false
   },
   "outputs": [],
   "source": [
    "food_words = set(subtop_kmeans_food.head(50).as_matrix().ravel())"
   ]
  },
  {
   "cell_type": "markdown",
   "metadata": {},
   "source": [
    "Vectorize all data from treatment and control groups."
   ]
  },
  {
   "cell_type": "code",
   "execution_count": 1232,
   "metadata": {
    "collapsed": false
   },
   "outputs": [],
   "source": [
    "food_words = food_words - set(['NUMBER', 'NUMBERNUMBER', 'NUMBERg', 'add', 'amazon', 'bad', 'buy', 'day', 'dark', 'different', 'free', 'french', 'great',\n",
    "                              'gf', 'does', 'doesnt', 'dont', 'did', 'didnt', 'im', 'like', 'love', 'nice', 'perfect', 'real',\n",
    "                              'really', 'say', 'stuff', 'theyre', 'think', 'thought', 'time', 'tried', 'try', 'work', 'bag', 'bags', 'best', 'better', 'black',\n",
    "                              'bold', 'good', 'green', 'grey', 'heat', 'high', 'hot', 'iced', 'ive', 'just', 'kids', 'little', 'loose', 'lot', 'machine', 'make', 'maker',\n",
    "                              'makes'])"
   ]
  },
  {
   "cell_type": "code",
   "execution_count": 1270,
   "metadata": {
    "collapsed": true
   },
   "outputs": [],
   "source": [
    "def clusters_users_food(users, food_words):\n",
    "    users['food_tweets'] = users.tweets.progress_apply(lambda _: [tw for tw in _ if set(tw.lower().split()) & food_words])\n",
    "    vec = TfidfVectorizer(tokenizer=lambda _: tokenize(_, keep_hashtags=False, keep_mentions=False, keep_urls=False, bigrams=False, liwc=False),\n",
    "                          binary=True, min_df=0.02, max_df=.95, max_features=10000, stop_words='english')\n",
    "    X = vec.fit_transform(users.food_tweets.apply(lambda _: \" \".join(_)))\n",
    "    features = np.array(vec.get_feature_names())\n",
    "    kmeans = KMeans(n_clusters=10, max_iter=10)\n",
    "    kmeans.fit(X)\n",
    "    \n",
    "    return vec, features, X, kmeans, kmeans_top_fts(kmeans, X, features, 50)"
   ]
  },
  {
   "cell_type": "code",
   "execution_count": 1271,
   "metadata": {
    "collapsed": false
   },
   "outputs": [],
   "source": [
    "vec_n, features_n, X_n, kmeans_n, kmeans_top_fts_n = clusters_users_food(n_users, food_words)"
   ]
  },
  {
   "cell_type": "code",
   "execution_count": 1272,
   "metadata": {
    "collapsed": true
   },
   "outputs": [],
   "source": [
    "vec_s, features_s, X_s, kmeans_s, kmeans_top_fts_s = clusters_users_food(s_users, food_words)"
   ]
  },
  {
   "cell_type": "code",
   "execution_count": 1280,
   "metadata": {
    "collapsed": false
   },
   "outputs": [
    {
     "data": {
      "text/html": [
       "<div>\n",
       "<table border=\"1\" class=\"dataframe\">\n",
       "  <thead>\n",
       "    <tr style=\"text-align: right;\">\n",
       "      <th></th>\n",
       "      <th>cluster_1</th>\n",
       "      <th>cluster_2</th>\n",
       "      <th>cluster_3</th>\n",
       "      <th>cluster_4</th>\n",
       "      <th>cluster_5</th>\n",
       "      <th>cluster_6</th>\n",
       "      <th>cluster_7</th>\n",
       "      <th>cluster_8</th>\n",
       "      <th>cluster_9</th>\n",
       "      <th>cluster_10</th>\n",
       "    </tr>\n",
       "  </thead>\n",
       "  <tbody>\n",
       "    <tr>\n",
       "      <th>0</th>\n",
       "      <td>play</td>\n",
       "      <td>bed</td>\n",
       "      <td>tool</td>\n",
       "      <td>rt</td>\n",
       "      <td>server</td>\n",
       "      <td>coworker</td>\n",
       "      <td>know</td>\n",
       "      <td>NUMBER</td>\n",
       "      <td>new</td>\n",
       "      <td>lord</td>\n",
       "    </tr>\n",
       "    <tr>\n",
       "      <th>1</th>\n",
       "      <td>game</td>\n",
       "      <td>friend</td>\n",
       "      <td>value</td>\n",
       "      <td>social</td>\n",
       "      <td>api</td>\n",
       "      <td>download</td>\n",
       "      <td>just</td>\n",
       "      <td>want</td>\n",
       "      <td>way</td>\n",
       "      <td>god</td>\n",
       "    </tr>\n",
       "    <tr>\n",
       "      <th>2</th>\n",
       "      <td>players</td>\n",
       "      <td>went</td>\n",
       "      <td>help</td>\n",
       "      <td>google</td>\n",
       "      <td>web</td>\n",
       "      <td>knock</td>\n",
       "      <td>NUMBER</td>\n",
       "      <td>know</td>\n",
       "      <td>NUMBER</td>\n",
       "      <td>know</td>\n",
       "    </tr>\n",
       "    <tr>\n",
       "      <th>3</th>\n",
       "      <td>team</td>\n",
       "      <td>cheese</td>\n",
       "      <td>results</td>\n",
       "      <td>product</td>\n",
       "      <td>feature</td>\n",
       "      <td>just</td>\n",
       "      <td>right</td>\n",
       "      <td>right</td>\n",
       "      <td>want</td>\n",
       "      <td>way</td>\n",
       "    </tr>\n",
       "    <tr>\n",
       "      <th>4</th>\n",
       "      <td>season</td>\n",
       "      <td>cream</td>\n",
       "      <td>web</td>\n",
       "      <td>help</td>\n",
       "      <td>data</td>\n",
       "      <td>tv</td>\n",
       "      <td>pretty</td>\n",
       "      <td>way</td>\n",
       "      <td>good</td>\n",
       "      <td>NUMBER</td>\n",
       "    </tr>\n",
       "    <tr>\n",
       "      <th>5</th>\n",
       "      <td>win</td>\n",
       "      <td>wait</td>\n",
       "      <td>linkedin</td>\n",
       "      <td>quick</td>\n",
       "      <td>ui</td>\n",
       "      <td>spoil</td>\n",
       "      <td>want</td>\n",
       "      <td>just</td>\n",
       "      <td>know</td>\n",
       "      <td>today</td>\n",
       "    </tr>\n",
       "    <tr>\n",
       "      <th>6</th>\n",
       "      <td>fans</td>\n",
       "      <td>hot</td>\n",
       "      <td>hiring</td>\n",
       "      <td>media</td>\n",
       "      <td>code</td>\n",
       "      <td>message</td>\n",
       "      <td>i'm</td>\n",
       "      <td>use</td>\n",
       "      <td>right</td>\n",
       "      <td>morning</td>\n",
       "    </tr>\n",
       "    <tr>\n",
       "      <th>7</th>\n",
       "      <td>he's</td>\n",
       "      <td>chocolate</td>\n",
       "      <td>link</td>\n",
       "      <td>amp</td>\n",
       "      <td>mac</td>\n",
       "      <td>desk</td>\n",
       "      <td>way</td>\n",
       "      <td>favorite</td>\n",
       "      <td>day</td>\n",
       "      <td>church</td>\n",
       "    </tr>\n",
       "    <tr>\n",
       "      <th>8</th>\n",
       "      <td>football</td>\n",
       "      <td>yes</td>\n",
       "      <td>want</td>\n",
       "      <td>video</td>\n",
       "      <td>file</td>\n",
       "      <td>i've</td>\n",
       "      <td>good</td>\n",
       "      <td>today</td>\n",
       "      <td>just</td>\n",
       "      <td>christ</td>\n",
       "    </tr>\n",
       "    <tr>\n",
       "      <th>9</th>\n",
       "      <td>bit</td>\n",
       "      <td>mean</td>\n",
       "      <td>use</td>\n",
       "      <td>w</td>\n",
       "      <td>ios</td>\n",
       "      <td>massage</td>\n",
       "      <td>don't</td>\n",
       "      <td>day</td>\n",
       "      <td>pretty</td>\n",
       "      <td>great</td>\n",
       "    </tr>\n",
       "    <tr>\n",
       "      <th>10</th>\n",
       "      <td>like</td>\n",
       "      <td>dinner</td>\n",
       "      <td>search</td>\n",
       "      <td>check</td>\n",
       "      <td>apps</td>\n",
       "      <td>i'm</td>\n",
       "      <td>can't</td>\n",
       "      <td>family</td>\n",
       "      <td>don't</td>\n",
       "      <td>wonderful</td>\n",
       "    </tr>\n",
       "    <tr>\n",
       "      <th>11</th>\n",
       "      <td>pretty</td>\n",
       "      <td>trying</td>\n",
       "      <td>tips</td>\n",
       "      <td>looking</td>\n",
       "      <td>windows</td>\n",
       "      <td>watch</td>\n",
       "      <td>day</td>\n",
       "      <td>like</td>\n",
       "      <td>use</td>\n",
       "      <td>praying</td>\n",
       "    </tr>\n",
       "    <tr>\n",
       "      <th>12</th>\n",
       "      <td>didn't</td>\n",
       "      <td>watching</td>\n",
       "      <td>business</td>\n",
       "      <td>using</td>\n",
       "      <td>html</td>\n",
       "      <td>comes</td>\n",
       "      <td>today</td>\n",
       "      <td>it's</td>\n",
       "      <td>favorite</td>\n",
       "      <td>want</td>\n",
       "    </tr>\n",
       "    <tr>\n",
       "      <th>13</th>\n",
       "      <td>used</td>\n",
       "      <td>house</td>\n",
       "      <td>marketing</td>\n",
       "      <td>need</td>\n",
       "      <td>app</td>\n",
       "      <td>inches</td>\n",
       "      <td>love</td>\n",
       "      <td>good</td>\n",
       "      <td>morning</td>\n",
       "      <td>family</td>\n",
       "    </tr>\n",
       "    <tr>\n",
       "      <th>14</th>\n",
       "      <td>hit</td>\n",
       "      <td>doesn't</td>\n",
       "      <td>higher</td>\n",
       "      <td>cool</td>\n",
       "      <td>software</td>\n",
       "      <td>poop</td>\n",
       "      <td>favorite</td>\n",
       "      <td>time</td>\n",
       "      <td>like</td>\n",
       "      <td>worship</td>\n",
       "    </tr>\n",
       "    <tr>\n",
       "      <th>15</th>\n",
       "      <td>people</td>\n",
       "      <td>taste</td>\n",
       "      <td>track</td>\n",
       "      <td>thanks</td>\n",
       "      <td>files</td>\n",
       "      <td>stomach</td>\n",
       "      <td>use</td>\n",
       "      <td>didn't</td>\n",
       "      <td>i'm</td>\n",
       "      <td>don't</td>\n",
       "    </tr>\n",
       "    <tr>\n",
       "      <th>16</th>\n",
       "      <td>playing</td>\n",
       "      <td>having</td>\n",
       "      <td>guide</td>\n",
       "      <td>technology</td>\n",
       "      <td>site</td>\n",
       "      <td>right</td>\n",
       "      <td>lol</td>\n",
       "      <td>need</td>\n",
       "      <td>time</td>\n",
       "      <td>good</td>\n",
       "    </tr>\n",
       "    <tr>\n",
       "      <th>17</th>\n",
       "      <td>big</td>\n",
       "      <td>making</td>\n",
       "      <td>used</td>\n",
       "      <td>week</td>\n",
       "      <td>browser</td>\n",
       "      <td>let's</td>\n",
       "      <td>morning</td>\n",
       "      <td>using</td>\n",
       "      <td>today</td>\n",
       "      <td>time</td>\n",
       "    </tr>\n",
       "    <tr>\n",
       "      <th>18</th>\n",
       "      <td>think</td>\n",
       "      <td>christmas</td>\n",
       "      <td>know</td>\n",
       "      <td>enjoy</td>\n",
       "      <td>google</td>\n",
       "      <td>upstairs</td>\n",
       "      <td>it's</td>\n",
       "      <td>morning</td>\n",
       "      <td>make</td>\n",
       "      <td>blessed</td>\n",
       "    </tr>\n",
       "    <tr>\n",
       "      <th>19</th>\n",
       "      <td>man</td>\n",
       "      <td>white</td>\n",
       "      <td>social</td>\n",
       "      <td>did</td>\n",
       "      <td>project</td>\n",
       "      <td>lbs</td>\n",
       "      <td>time</td>\n",
       "      <td>EMOTICONSMILE</td>\n",
       "      <td>coffee</td>\n",
       "      <td>love</td>\n",
       "    </tr>\n",
       "  </tbody>\n",
       "</table>\n",
       "</div>"
      ],
      "text/plain": [
       "   cluster_1  cluster_2  cluster_3   cluster_4 cluster_5 cluster_6 cluster_7  \\\n",
       "0       play        bed       tool          rt    server  coworker      know   \n",
       "1       game     friend      value      social       api  download      just   \n",
       "2    players       went       help      google       web     knock    NUMBER   \n",
       "3       team     cheese    results     product   feature      just     right   \n",
       "4     season      cream        web        help      data        tv    pretty   \n",
       "5        win       wait   linkedin       quick        ui     spoil      want   \n",
       "6       fans        hot     hiring       media      code   message       i'm   \n",
       "7       he's  chocolate       link         amp       mac      desk       way   \n",
       "8   football        yes       want       video      file      i've      good   \n",
       "9        bit       mean        use           w       ios   massage     don't   \n",
       "10      like     dinner     search       check      apps       i'm     can't   \n",
       "11    pretty     trying       tips     looking   windows     watch       day   \n",
       "12    didn't   watching   business       using      html     comes     today   \n",
       "13      used      house  marketing        need       app    inches      love   \n",
       "14       hit    doesn't     higher        cool  software      poop  favorite   \n",
       "15    people      taste      track      thanks     files   stomach       use   \n",
       "16   playing     having      guide  technology      site     right       lol   \n",
       "17       big     making       used        week   browser     let's   morning   \n",
       "18     think  christmas       know       enjoy    google  upstairs      it's   \n",
       "19       man      white     social         did   project       lbs      time   \n",
       "\n",
       "        cluster_8 cluster_9 cluster_10  \n",
       "0          NUMBER       new       lord  \n",
       "1            want       way        god  \n",
       "2            know    NUMBER       know  \n",
       "3           right      want        way  \n",
       "4             way      good     NUMBER  \n",
       "5            just      know      today  \n",
       "6             use     right    morning  \n",
       "7        favorite       day     church  \n",
       "8           today      just     christ  \n",
       "9             day    pretty      great  \n",
       "10         family     don't  wonderful  \n",
       "11           like       use    praying  \n",
       "12           it's  favorite       want  \n",
       "13           good   morning     family  \n",
       "14           time      like    worship  \n",
       "15         didn't       i'm      don't  \n",
       "16           need      time       good  \n",
       "17          using     today       time  \n",
       "18        morning      make    blessed  \n",
       "19  EMOTICONSMILE    coffee       love  "
      ]
     },
     "execution_count": 1280,
     "metadata": {},
     "output_type": "execute_result"
    }
   ],
   "source": [
    "kmeans_top_fts_n[:20]"
   ]
  },
  {
   "cell_type": "code",
   "execution_count": 1279,
   "metadata": {
    "collapsed": false
   },
   "outputs": [
    {
     "data": {
      "text/html": [
       "<div>\n",
       "<table border=\"1\" class=\"dataframe\">\n",
       "  <thead>\n",
       "    <tr style=\"text-align: right;\">\n",
       "      <th></th>\n",
       "      <th>cluster_1</th>\n",
       "      <th>cluster_2</th>\n",
       "      <th>cluster_3</th>\n",
       "      <th>cluster_4</th>\n",
       "      <th>cluster_5</th>\n",
       "      <th>cluster_6</th>\n",
       "      <th>cluster_7</th>\n",
       "      <th>cluster_8</th>\n",
       "      <th>cluster_9</th>\n",
       "      <th>cluster_10</th>\n",
       "    </tr>\n",
       "  </thead>\n",
       "  <tbody>\n",
       "    <tr>\n",
       "      <th>0</th>\n",
       "      <td>butter</td>\n",
       "      <td>select</td>\n",
       "      <td>cc</td>\n",
       "      <td>i'm</td>\n",
       "      <td>church</td>\n",
       "      <td>achieved</td>\n",
       "      <td>lager</td>\n",
       "      <td>data</td>\n",
       "      <td>windows</td>\n",
       "      <td>season</td>\n",
       "    </tr>\n",
       "    <tr>\n",
       "      <th>1</th>\n",
       "      <td>cheese</td>\n",
       "      <td>dallas</td>\n",
       "      <td>product</td>\n",
       "      <td>family</td>\n",
       "      <td>god's</td>\n",
       "      <td>burned</td>\n",
       "      <td>ipa</td>\n",
       "      <td>business</td>\n",
       "      <td>apps</td>\n",
       "      <td>fans</td>\n",
       "    </tr>\n",
       "    <tr>\n",
       "      <th>2</th>\n",
       "      <td>weekend</td>\n",
       "      <td>refer</td>\n",
       "      <td>browser</td>\n",
       "      <td>right</td>\n",
       "      <td>worship</td>\n",
       "      <td>personal</td>\n",
       "      <td>pilsner</td>\n",
       "      <td>product</td>\n",
       "      <td>ipad</td>\n",
       "      <td>team</td>\n",
       "    </tr>\n",
       "    <tr>\n",
       "      <th>3</th>\n",
       "      <td>chocolate</td>\n",
       "      <td>tx</td>\n",
       "      <td>apps</td>\n",
       "      <td>use</td>\n",
       "      <td>praying</td>\n",
       "      <td>record</td>\n",
       "      <td>ale</td>\n",
       "      <td>google</td>\n",
       "      <td>ios</td>\n",
       "      <td>players</td>\n",
       "    </tr>\n",
       "    <tr>\n",
       "      <th>4</th>\n",
       "      <td>cookies</td>\n",
       "      <td>highland</td>\n",
       "      <td>problem</td>\n",
       "      <td>good</td>\n",
       "      <td>god</td>\n",
       "      <td>using</td>\n",
       "      <td>amber</td>\n",
       "      <td>media</td>\n",
       "      <td>os</td>\n",
       "      <td>playing</td>\n",
       "    </tr>\n",
       "    <tr>\n",
       "      <th>5</th>\n",
       "      <td>sounds</td>\n",
       "      <td>ideal</td>\n",
       "      <td>tools</td>\n",
       "      <td>morning</td>\n",
       "      <td>jesus</td>\n",
       "      <td>new</td>\n",
       "      <td>pale</td>\n",
       "      <td>help</td>\n",
       "      <td>web</td>\n",
       "      <td>game</td>\n",
       "    </tr>\n",
       "    <tr>\n",
       "      <th>6</th>\n",
       "      <td>oh</td>\n",
       "      <td>eve</td>\n",
       "      <td>office</td>\n",
       "      <td>like</td>\n",
       "      <td>prayer</td>\n",
       "      <td>right</td>\n",
       "      <td>brewing</td>\n",
       "      <td>news</td>\n",
       "      <td>data</td>\n",
       "      <td>baseball</td>\n",
       "    </tr>\n",
       "    <tr>\n",
       "      <th>7</th>\n",
       "      <td>making</td>\n",
       "      <td>completed</td>\n",
       "      <td>google</td>\n",
       "      <td>pretty</td>\n",
       "      <td>pray</td>\n",
       "      <td>calories</td>\n",
       "      <td>imperial</td>\n",
       "      <td>rt</td>\n",
       "      <td>google</td>\n",
       "      <td>offense</td>\n",
       "    </tr>\n",
       "    <tr>\n",
       "      <th>8</th>\n",
       "      <td>drinking</td>\n",
       "      <td>joy</td>\n",
       "      <td>dev</td>\n",
       "      <td>lunch</td>\n",
       "      <td>lord</td>\n",
       "      <td>good</td>\n",
       "      <td>belgian</td>\n",
       "      <td>social</td>\n",
       "      <td>users</td>\n",
       "      <td>games</td>\n",
       "    </tr>\n",
       "    <tr>\n",
       "      <th>9</th>\n",
       "      <td>cream</td>\n",
       "      <td>mi</td>\n",
       "      <td>talk</td>\n",
       "      <td>day</td>\n",
       "      <td>ministry</td>\n",
       "      <td>family</td>\n",
       "      <td>hoppy</td>\n",
       "      <td>technology</td>\n",
       "      <td>software</td>\n",
       "      <td>player</td>\n",
       "    </tr>\n",
       "    <tr>\n",
       "      <th>10</th>\n",
       "      <td>hot</td>\n",
       "      <td>thy</td>\n",
       "      <td>page</td>\n",
       "      <td>it's</td>\n",
       "      <td>blessed</td>\n",
       "      <td>support</td>\n",
       "      <td>stout</td>\n",
       "      <td>tech</td>\n",
       "      <td>version</td>\n",
       "      <td>win</td>\n",
       "    </tr>\n",
       "    <tr>\n",
       "      <th>11</th>\n",
       "      <td>trying</td>\n",
       "      <td>village</td>\n",
       "      <td>site</td>\n",
       "      <td>time</td>\n",
       "      <td>faith</td>\n",
       "      <td>used</td>\n",
       "      <td>porter</td>\n",
       "      <td>content</td>\n",
       "      <td>mac</td>\n",
       "      <td>espn</td>\n",
       "    </tr>\n",
       "    <tr>\n",
       "      <th>12</th>\n",
       "      <td>saw</td>\n",
       "      <td>save</td>\n",
       "      <td>email</td>\n",
       "      <td>don't</td>\n",
       "      <td>christ</td>\n",
       "      <td>it's</td>\n",
       "      <td>samuel</td>\n",
       "      <td>design</td>\n",
       "      <td>apple</td>\n",
       "      <td>play</td>\n",
       "    </tr>\n",
       "    <tr>\n",
       "      <th>13</th>\n",
       "      <td>dinner</td>\n",
       "      <td>delight</td>\n",
       "      <td>plan</td>\n",
       "      <td>favorite</td>\n",
       "      <td>christian</td>\n",
       "      <td>i'm</td>\n",
       "      <td>brewery</td>\n",
       "      <td>ways</td>\n",
       "      <td>server</td>\n",
       "      <td>coach</td>\n",
       "    </tr>\n",
       "    <tr>\n",
       "      <th>14</th>\n",
       "      <td>peanut</td>\n",
       "      <td>gov</td>\n",
       "      <td>web</td>\n",
       "      <td>today</td>\n",
       "      <td>heart</td>\n",
       "      <td>reform</td>\n",
       "      <td>rye</td>\n",
       "      <td>products</td>\n",
       "      <td>update</td>\n",
       "      <td>let</td>\n",
       "    </tr>\n",
       "    <tr>\n",
       "      <th>15</th>\n",
       "      <td>maybe</td>\n",
       "      <td>friend</td>\n",
       "      <td>platform</td>\n",
       "      <td>great</td>\n",
       "      <td>bible</td>\n",
       "      <td>time</td>\n",
       "      <td>pub</td>\n",
       "      <td>email</td>\n",
       "      <td>product</td>\n",
       "      <td>guy</td>\n",
       "    </tr>\n",
       "    <tr>\n",
       "      <th>16</th>\n",
       "      <td>days</td>\n",
       "      <td>president</td>\n",
       "      <td>works</td>\n",
       "      <td>amp</td>\n",
       "      <td>leaders</td>\n",
       "      <td>today</td>\n",
       "      <td>—</td>\n",
       "      <td>using</td>\n",
       "      <td>account</td>\n",
       "      <td>defense</td>\n",
       "    </tr>\n",
       "    <tr>\n",
       "      <th>17</th>\n",
       "      <td>that's</td>\n",
       "      <td>secure</td>\n",
       "      <td>user</td>\n",
       "      <td>new</td>\n",
       "      <td>serving</td>\n",
       "      <td>morning</td>\n",
       "      <td>stone</td>\n",
       "      <td>users</td>\n",
       "      <td>iphone</td>\n",
       "      <td>NUMBER-NUMBER</td>\n",
       "    </tr>\n",
       "    <tr>\n",
       "      <th>18</th>\n",
       "      <td>drink</td>\n",
       "      <td>“the</td>\n",
       "      <td>account</td>\n",
       "      <td>going</td>\n",
       "      <td>wonderful</td>\n",
       "      <td>like</td>\n",
       "      <td>hop</td>\n",
       "      <td>video</td>\n",
       "      <td>android</td>\n",
       "      <td>fan</td>\n",
       "    </tr>\n",
       "    <tr>\n",
       "      <th>19</th>\n",
       "      <td>delicious</td>\n",
       "      <td>perry</td>\n",
       "      <td>posts</td>\n",
       "      <td>love</td>\n",
       "      <td>john</td>\n",
       "      <td>month</td>\n",
       "      <td>brouwerij</td>\n",
       "      <td>blog</td>\n",
       "      <td>install</td>\n",
       "      <td>hit</td>\n",
       "    </tr>\n",
       "  </tbody>\n",
       "</table>\n",
       "</div>"
      ],
      "text/plain": [
       "    cluster_1  cluster_2 cluster_3 cluster_4  cluster_5 cluster_6  cluster_7  \\\n",
       "0      butter     select        cc       i'm     church  achieved      lager   \n",
       "1      cheese     dallas   product    family      god's    burned        ipa   \n",
       "2     weekend      refer   browser     right    worship  personal    pilsner   \n",
       "3   chocolate         tx      apps       use    praying    record        ale   \n",
       "4     cookies   highland   problem      good        god     using      amber   \n",
       "5      sounds      ideal     tools   morning      jesus       new       pale   \n",
       "6          oh        eve    office      like     prayer     right    brewing   \n",
       "7      making  completed    google    pretty       pray  calories   imperial   \n",
       "8    drinking        joy       dev     lunch       lord      good    belgian   \n",
       "9       cream         mi      talk       day   ministry    family      hoppy   \n",
       "10        hot        thy      page      it's    blessed   support      stout   \n",
       "11     trying    village      site      time      faith      used     porter   \n",
       "12        saw       save     email     don't     christ      it's     samuel   \n",
       "13     dinner    delight      plan  favorite  christian       i'm    brewery   \n",
       "14     peanut        gov       web     today      heart    reform        rye   \n",
       "15      maybe     friend  platform     great      bible      time        pub   \n",
       "16       days  president     works       amp    leaders     today          —   \n",
       "17     that's     secure      user       new    serving   morning      stone   \n",
       "18      drink       “the   account     going  wonderful      like        hop   \n",
       "19  delicious      perry     posts      love       john     month  brouwerij   \n",
       "\n",
       "     cluster_8 cluster_9     cluster_10  \n",
       "0         data   windows         season  \n",
       "1     business      apps           fans  \n",
       "2      product      ipad           team  \n",
       "3       google       ios        players  \n",
       "4        media        os        playing  \n",
       "5         help       web           game  \n",
       "6         news      data       baseball  \n",
       "7           rt    google        offense  \n",
       "8       social     users          games  \n",
       "9   technology  software         player  \n",
       "10        tech   version            win  \n",
       "11     content       mac           espn  \n",
       "12      design     apple           play  \n",
       "13        ways    server          coach  \n",
       "14    products    update            let  \n",
       "15       email   product            guy  \n",
       "16       using   account        defense  \n",
       "17       users    iphone  NUMBER-NUMBER  \n",
       "18       video   android            fan  \n",
       "19        blog   install            hit  "
      ]
     },
     "execution_count": 1279,
     "metadata": {},
     "output_type": "execute_result"
    }
   ],
   "source": [
    "kmeans_top_fts_s[:20]"
   ]
  }
 ],
 "metadata": {
  "kernelspec": {
   "display_name": "Python 3",
   "language": "python",
   "name": "python3"
  },
  "language_info": {
   "codemirror_mode": {
    "name": "ipython",
    "version": 3
   },
   "file_extension": ".py",
   "mimetype": "text/x-python",
   "name": "python",
   "nbconvert_exporter": "python",
   "pygments_lexer": "ipython3",
   "version": "3.4.3"
  },
  "nav_menu": {},
  "toc": {
   "navigate_menu": true,
   "number_sections": true,
   "sideBar": true,
   "threshold": 6,
   "toc_cell": false,
   "toc_section_display": "block",
   "toc_window_display": false
  },
  "widgets": {
   "state": {
    "02b3b807627f4d2bba9ec59a60c2a7b4": {
     "views": [
      {
       "cell_index": 52
      }
     ]
    },
    "04ea7994cf854b21bf4f22e5a50aa862": {
     "views": [
      {
       "cell_index": 58
      }
     ]
    },
    "060866ac8fe54bf38bcdae8778e0b3c4": {
     "views": [
      {
       "cell_index": 39
      }
     ]
    },
    "07caf1733aac434596cae0c43b77bcaf": {
     "views": [
      {
       "cell_index": 51
      }
     ]
    },
    "0d5f08a58b2b4363bca2b0a519ae52a9": {
     "views": [
      {
       "cell_index": 52
      }
     ]
    },
    "0d9cca1b06ab4db4a3ad4461dbd8f833": {
     "views": [
      {
       "cell_index": 61
      }
     ]
    },
    "0faa785dcd5b4d78b918b1491103baf3": {
     "views": [
      {
       "cell_index": 51
      }
     ]
    },
    "1277226722304cd8b5037f71ff165e7a": {
     "views": [
      {
       "cell_index": 41
      }
     ]
    },
    "12f2164e3ea140d9b1c04dbd2571c24d": {
     "views": [
      {
       "cell_index": 39
      }
     ]
    },
    "134d66f4ec814a5cb8a10d9ead2c52da": {
     "views": [
      {
       "cell_index": 54
      }
     ]
    },
    "214bbcfc01fc4acdb88612df767ec2c0": {
     "views": [
      {
       "cell_index": 52
      }
     ]
    },
    "24478573fd1a430d90e535f13e3ac2a7": {
     "views": [
      {
       "cell_index": 58
      }
     ]
    },
    "24bfc479725146c08104889c49863231": {
     "views": [
      {
       "cell_index": 53
      }
     ]
    },
    "24f027ee75f24f829c0aa6ea18bf5c20": {
     "views": [
      {
       "cell_index": 36
      }
     ]
    },
    "26f912b3762548d5896d80c5b5ae0ff1": {
     "views": [
      {
       "cell_index": 41
      }
     ]
    },
    "2961beb95a0b4f858d5cfb8ac8053162": {
     "views": [
      {
       "cell_index": 50
      }
     ]
    },
    "2af6b604faa8473a81008164863e9320": {
     "views": [
      {
       "cell_index": 54
      }
     ]
    },
    "2e1619b8eb604a81b42dd5b29e09cca1": {
     "views": [
      {
       "cell_index": 0
      }
     ]
    },
    "2f1ffad858f54bdea60ff63f30844e79": {
     "views": [
      {
       "cell_index": 54
      }
     ]
    },
    "31376d3058ea4c11a654d0d90d475fff": {
     "views": [
      {
       "cell_index": 58
      }
     ]
    },
    "3353dd34c229412eb4f7e1e6e70b928b": {
     "views": [
      {
       "cell_index": 39
      }
     ]
    },
    "35252795848c4bcdbc372fcaa1740c13": {
     "views": [
      {
       "cell_index": 51
      }
     ]
    },
    "39f180da42dd4d9db5e5eb5f22383207": {
     "views": [
      {
       "cell_index": 52
      }
     ]
    },
    "3c6920e01b164ae59c908e4c9bf33472": {
     "views": [
      {
       "cell_index": 39
      }
     ]
    },
    "3ef6b3fe23844967a05528f36de9c7ac": {
     "views": [
      {
       "cell_index": 52
      }
     ]
    },
    "3f21d5ee60634033a527eb1041cbb565": {
     "views": [
      {
       "cell_index": 58
      }
     ]
    },
    "481e37c41bb74df78a25b46f7a74687a": {
     "views": [
      {
       "cell_index": 58
      }
     ]
    },
    "4bca1bb1e1c447bbbf075f816f1d95a1": {
     "views": [
      {
       "cell_index": 84
      }
     ]
    },
    "4fb5b0845abc4b7bb8e3088278814b30": {
     "views": [
      {
       "cell_index": 58
      }
     ]
    },
    "5431f0da191447518b967e1d6cf75ccc": {
     "views": [
      {
       "cell_index": 54
      }
     ]
    },
    "54377f70db644950b89f3911a9e31a90": {
     "views": [
      {
       "cell_index": 58
      }
     ]
    },
    "559b1c1e05d74ba8b801729beb52e5b4": {
     "views": [
      {
       "cell_index": 54
      }
     ]
    },
    "57a8e52d71d143879f9a91052185a176": {
     "views": [
      {
       "cell_index": 58
      }
     ]
    },
    "5e6350df7191415186ee59a4deb215b1": {
     "views": [
      {
       "cell_index": 53
      }
     ]
    },
    "631f8e31f58b491789aa118f99978f23": {
     "views": [
      {
       "cell_index": 56
      }
     ]
    },
    "63834e920ba24febabac2b737c73f10a": {
     "views": [
      {
       "cell_index": 51
      }
     ]
    },
    "64544ec21d114a1babfa60fc541c5ced": {
     "views": [
      {
       "cell_index": 54
      }
     ]
    },
    "6a85759979204570bc7fedfb5dbc237c": {
     "views": [
      {
       "cell_index": 83
      }
     ]
    },
    "70d851a026bf4c1ba173c5d5589aa952": {
     "views": [
      {
       "cell_index": 58
      }
     ]
    },
    "71093a4228ee4a45b5ffddac55522c17": {
     "views": [
      {
       "cell_index": 58
      }
     ]
    },
    "713576f642094b948e7783b7a079105c": {
     "views": [
      {
       "cell_index": 70
      }
     ]
    },
    "746c3cbea5074fb19f702993b50f96f5": {
     "views": [
      {
       "cell_index": 39
      }
     ]
    },
    "780ead7b9a1d458aaeffc64e13eeaad3": {
     "views": [
      {
       "cell_index": 56
      }
     ]
    },
    "798235dfbb8c4f4ca4e37df3630fbd0f": {
     "views": [
      {
       "cell_index": 39
      }
     ]
    },
    "7b12d8b09647457f8e40402d1a6ccf73": {
     "views": [
      {
       "cell_index": 39
      }
     ]
    },
    "7d9cc92e7544460ebbb10082bf2da9ce": {
     "views": [
      {
       "cell_index": 58
      }
     ]
    },
    "849511c0f7cd4c219872d73a24a3e722": {
     "views": [
      {
       "cell_index": 53
      }
     ]
    },
    "879f9b1475ef4a75a91ba723f07e297f": {
     "views": [
      {
       "cell_index": 36
      }
     ]
    },
    "8ac86ff73ebf45faa02b5ea41a0a7f8e": {
     "views": [
      {
       "cell_index": 56
      }
     ]
    },
    "8ca47400682d48d59b2c7824db135d5c": {
     "views": [
      {
       "cell_index": 52
      }
     ]
    },
    "93ea4d7a8dd84ee1b297aaca2c7c755b": {
     "views": [
      {
       "cell_index": 39
      }
     ]
    },
    "9606793e4abc4b769c5cef35ace2029d": {
     "views": [
      {
       "cell_index": 36
      }
     ]
    },
    "963b59cb20604fcd99a9ec8a5fbc3b1b": {
     "views": [
      {
       "cell_index": 36
      }
     ]
    },
    "9bba9d289d83418ba6929be934db2590": {
     "views": [
      {
       "cell_index": 36
      }
     ]
    },
    "9c5930e4ba3f4ec78adb35b0a6e9dd73": {
     "views": [
      {
       "cell_index": 58
      }
     ]
    },
    "9c932943ab5c492ba5e739da34710252": {
     "views": [
      {
       "cell_index": 41
      }
     ]
    },
    "9feafbbd63254837b7ded985bbc12186": {
     "views": [
      {
       "cell_index": 54
      }
     ]
    },
    "a144f79779a149d5a05e82cf12727c04": {
     "views": [
      {
       "cell_index": 56
      }
     ]
    },
    "a1990895b1ce41deb792ac9f1d3d4397": {
     "views": [
      {
       "cell_index": 58
      }
     ]
    },
    "a2e9cd68dbfc4569872e11735d6228d3": {
     "views": [
      {
       "cell_index": 41
      }
     ]
    },
    "a39f73c4915740b081876fbe40fbac8e": {
     "views": [
      {
       "cell_index": 51
      }
     ]
    },
    "a451ca8143e24c13a768bbb41a0bd288": {
     "views": [
      {
       "cell_index": 39
      }
     ]
    },
    "a4b57769481447279d4abdb6dd71fc61": {
     "views": [
      {
       "cell_index": 58
      }
     ]
    },
    "a98cfd9660c04a9a92c2f3adc93a1e00": {
     "views": [
      {
       "cell_index": 54
      }
     ]
    },
    "afada9b149714f4186aa814c73e672a8": {
     "views": [
      {
       "cell_index": 58
      }
     ]
    },
    "b39ad78579e64f91ac21e3c77061e05b": {
     "views": [
      {
       "cell_index": 58
      }
     ]
    },
    "b672ec17fe4a4fd4a81573c29564f59b": {
     "views": [
      {
       "cell_index": 51
      }
     ]
    },
    "c3b62d3875864397814dc779f2106d4c": {
     "views": [
      {
       "cell_index": 41
      }
     ]
    },
    "c4fff5775f75429289f01893313c24a4": {
     "views": [
      {
       "cell_index": 58
      }
     ]
    },
    "c62a0c975e9d4a69883367abf65e6763": {
     "views": [
      {
       "cell_index": 58
      }
     ]
    },
    "c66b309d1dc24db8a31cc5eacef9c10f": {
     "views": [
      {
       "cell_index": 58
      }
     ]
    },
    "c76de6053442433b86aaebc56166345c": {
     "views": [
      {
       "cell_index": 58
      }
     ]
    },
    "c8df4b9e6d9f46038545f737ae3251de": {
     "views": [
      {
       "cell_index": 56
      }
     ]
    },
    "c9ac8d54104a4e78893f66517c77e85c": {
     "views": [
      {
       "cell_index": 58
      }
     ]
    },
    "d547a195af3c46eeb5b7dc9765cbfc74": {
     "views": [
      {
       "cell_index": 63
      }
     ]
    },
    "d7ecaf023eba4c59975a8d922ce66eac": {
     "views": [
      {
       "cell_index": 41
      }
     ]
    },
    "d9140874d32d43bf895e380010e92640": {
     "views": [
      {
       "cell_index": 41
      }
     ]
    },
    "da01296694614460860f34124ae0f69b": {
     "views": [
      {
       "cell_index": 58
      }
     ]
    },
    "df022f40f0c1473e85c1ae814a5f43eb": {
     "views": [
      {
       "cell_index": 36
      }
     ]
    },
    "df89e27dd25e4d83b96f7cbcf027ba93": {
     "views": [
      {
       "cell_index": 63
      }
     ]
    },
    "e028e3d77fc849db88aeb2099a2716b4": {
     "views": [
      {
       "cell_index": 58
      }
     ]
    },
    "e5ccae6415744c44bd984689d2c34fd1": {
     "views": [
      {
       "cell_index": 58
      }
     ]
    },
    "e7b43242226e49daa2993caf42ad9112": {
     "views": [
      {
       "cell_index": 54
      }
     ]
    },
    "e9db5e459501455d813487232d7d155d": {
     "views": [
      {
       "cell_index": 41
      }
     ]
    },
    "ee9cf85dfd724115880b49d2c8cdc32d": {
     "views": [
      {
       "cell_index": 58
      }
     ]
    },
    "ef9524ec381c4d0d8a67a9c29118b838": {
     "views": [
      {
       "cell_index": 32
      }
     ]
    },
    "f45319e828814e67a9ddd89c06bd45a1": {
     "views": [
      {
       "cell_index": 58
      }
     ]
    },
    "f52006a704db4a8e8a624e316a01e685": {
     "views": [
      {
       "cell_index": 63
      }
     ]
    },
    "f80dc50e02814a92996d7f30fd3235c2": {
     "views": [
      {
       "cell_index": 46
      }
     ]
    },
    "f964869daa4f42eeae9cfc88983cdfc8": {
     "views": [
      {
       "cell_index": 41
      }
     ]
    },
    "fab08e4b05e54fe381a524dd60bd15ec": {
     "views": [
      {
       "cell_index": 51
      }
     ]
    },
    "fb6353c9f93546439199067a64560ed2": {
     "views": [
      {
       "cell_index": 56
      }
     ]
    }
   },
   "version": "1.2.0"
  }
 },
 "nbformat": 4,
 "nbformat_minor": 0
}
