{
 "cells": [
  {
   "cell_type": "code",
   "execution_count": 98,
   "metadata": {
    "collapsed": false
   },
   "outputs": [
    {
     "name": "stdout",
     "output_type": "stream",
     "text": [
      "\n"
     ]
    }
   ],
   "source": [
    "import json\n",
    "import pandas as pd\n",
    "import numpy as np\n",
    "import pymongo\n",
    "import os.path\n",
    "import seaborn as sns\n",
    "import re\n",
    "\n",
    "from tqdm import tqdm, tqdm_notebook, tqdm_pandas\n",
    "from collections import defaultdict, Counter\n",
    "\n",
    "tqdm_notebook().pandas()\n",
    "sns.set_context('talk')\n",
    "sns.set_style('whitegrid')\n",
    "\n",
    "%matplotlib inline"
   ]
  },
  {
   "cell_type": "markdown",
   "metadata": {},
   "source": [
    "# Load data"
   ]
  },
  {
   "cell_type": "markdown",
   "metadata": {},
   "source": [
    "## Control and treatment groups"
   ]
  },
  {
   "cell_type": "markdown",
   "metadata": {},
   "source": [
    "###  Load users information"
   ]
  },
  {
   "cell_type": "code",
   "execution_count": 2,
   "metadata": {
    "collapsed": false
   },
   "outputs": [],
   "source": [
    "n_users = pd.read_csv(\"./nosport_users_stats\")\n",
    "s_users = pd.read_csv(\"./sport_users_stats\")\n",
    "\n",
    "for df in [n_users, s_users]:\n",
    "    df.index = df['id']"
   ]
  },
  {
   "cell_type": "code",
   "execution_count": 3,
   "metadata": {
    "collapsed": false
   },
   "outputs": [
    {
     "data": {
      "text/plain": [
       "((1160, 7), (1160, 7))"
      ]
     },
     "execution_count": 3,
     "metadata": {},
     "output_type": "execute_result"
    }
   ],
   "source": [
    "s_users.shape, n_users.shape"
   ]
  },
  {
   "cell_type": "markdown",
   "metadata": {},
   "source": [
    "### Load matches"
   ]
  },
  {
   "cell_type": "markdown",
   "metadata": {},
   "source": [
    "Load matches file."
   ]
  },
  {
   "cell_type": "code",
   "execution_count": 4,
   "metadata": {
    "collapsed": false
   },
   "outputs": [],
   "source": [
    "matches = pd.read_csv(\"/data/1/sporty/users/classification/matches.txt\", header=None, names=['sport', 'nosport'])"
   ]
  },
  {
   "cell_type": "markdown",
   "metadata": {},
   "source": [
    "Some users have been matched twice to a sport users, we remove these duplicate entries here although we missed them in 2014."
   ]
  },
  {
   "cell_type": "code",
   "execution_count": 5,
   "metadata": {
    "collapsed": false
   },
   "outputs": [],
   "source": [
    "matches = matches.drop_duplicates(subset=['nosport'])\n",
    "n_users = n_users.drop_duplicates(subset=['id'])"
   ]
  },
  {
   "cell_type": "markdown",
   "metadata": {},
   "source": [
    "Align users' dataframes."
   ]
  },
  {
   "cell_type": "code",
   "execution_count": 6,
   "metadata": {
    "collapsed": false
   },
   "outputs": [],
   "source": [
    "s_users = s_users.loc[matches.sport.tolist()]\n",
    "s_users.index = np.arange(s_users.shape[0])\n",
    "n_users = n_users.loc[matches.nosport.tolist()]\n",
    "n_users.index = np.arange(n_users.shape[0])"
   ]
  },
  {
   "cell_type": "code",
   "execution_count": 7,
   "metadata": {
    "collapsed": false
   },
   "outputs": [
    {
     "data": {
      "text/plain": [
       "((1153, 7), (1153, 7))"
      ]
     },
     "execution_count": 7,
     "metadata": {},
     "output_type": "execute_result"
    }
   ],
   "source": [
    "s_users.shape, n_users.shape"
   ]
  },
  {
   "cell_type": "markdown",
   "metadata": {},
   "source": [
    "Remove users that are in both groups and their match that we missed last time."
   ]
  },
  {
   "cell_type": "code",
   "execution_count": 8,
   "metadata": {
    "collapsed": false
   },
   "outputs": [],
   "source": [
    "# find users in both groups\n",
    "both_groups = set(s_users['id']) & set(n_users['id'])\n",
    "\n",
    "# find lines with users in both groups\n",
    "s_idx_to_remove = s_users.id.where(s_users.id.apply(lambda _: _ in both_groups)).dropna().index.tolist()\n",
    "n_idx_to_remove = n_users.id.where(n_users.id.apply(lambda _: _ in both_groups)).dropna().index.tolist()\n",
    "idx_to_remove = s_idx_to_remove + n_idx_to_remove\n",
    "\n",
    "# remove lines from users' dataframes\n",
    "s_users = s_users.drop(idx_to_remove, axis=0)\n",
    "n_users = n_users.drop(idx_to_remove, axis=0)"
   ]
  },
  {
   "cell_type": "code",
   "execution_count": 9,
   "metadata": {
    "collapsed": false
   },
   "outputs": [
    {
     "data": {
      "text/plain": [
       "((1137, 7), (1137, 7))"
      ]
     },
     "execution_count": 9,
     "metadata": {},
     "output_type": "execute_result"
    }
   ],
   "source": [
    "s_users.shape, n_users.shape"
   ]
  },
  {
   "cell_type": "markdown",
   "metadata": {},
   "source": [
    "### Load tweets for each user "
   ]
  },
  {
   "cell_type": "code",
   "execution_count": 51,
   "metadata": {
    "collapsed": true
   },
   "outputs": [],
   "source": [
    "def load_tweets(user_id, data_dir, remove_hash=None, keep_rt=False):\n",
    "    user_p = os.path.join(data_dir, user_id)\n",
    "    tweets = []\n",
    "    with open(user_p) as fd:\n",
    "        for l in fd:\n",
    "            o = json.loads(l)\n",
    "            # check for retweets\n",
    "            if not keep_rt and 'retweeted_status' in o:\n",
    "                keep_tw = False\n",
    "            else:\n",
    "                # check for hashtags to avoid\n",
    "                h = set([_['text'].lower() for _ in o['entities']['hashtags']])\n",
    "                keep_tw = remove_hash is None or not (h & set(remove_hash))\n",
    "            \n",
    "            if keep_tw:\n",
    "                tweets.append(o['text'])\n",
    "    return tweets\n",
    "    \n",
    "auto_hash = ['runkeeper', 'nikeplus', 'runtastic', 'endomondo', 'mapmyrun', 'strava', 'cyclemeter', 'fitstats', 'mapmyfitness', 'runmeter']\n",
    "\n",
    "def load_tweets_sport(user_id):\n",
    "    return load_tweets(user_id, \"/data/1/sporty/tweets/from_users/sport/\", remove_hash=auto_hash)\n",
    "    \n",
    "def load_tweets_nosport(user_id):\n",
    "    return load_tweets(user_id, \"/data/1/sporty/tweets/from_users/no_sport/\", remove_hash=auto_hash)"
   ]
  },
  {
   "cell_type": "raw",
   "metadata": {},
   "source": [
    "with open(\"/data/1/sporty/tweets/from_users/sport/510\") as fd:\n",
    "    for l in fd:\n",
    "        o = json.loads(l)\n",
    "        if 'retweeted_status' in o:\n",
    "            print(o['text'])\n",
    "        else:\n",
    "            print('Not a RT')\n",
    "        print('-'*100)"
   ]
  },
  {
   "cell_type": "code",
   "execution_count": 60,
   "metadata": {
    "collapsed": false
   },
   "outputs": [],
   "source": [
    "s_users['tweets'] = s_users.id.astype(str).progress_apply(load_tweets_sport)\n",
    "n_users['tweets'] = n_users.id.astype(str).progress_apply(load_tweets_nosport)"
   ]
  },
  {
   "cell_type": "code",
   "execution_count": 75,
   "metadata": {
    "collapsed": false
   },
   "outputs": [],
   "source": [
    "s_users['tweets_count'] = s_users.tweets.apply(len)\n",
    "n_users['tweets_count'] = n_users.tweets.apply(len)"
   ]
  },
  {
   "cell_type": "code",
   "execution_count": 76,
   "metadata": {
    "collapsed": false
   },
   "outputs": [
    {
     "data": {
      "text/plain": [
       "<matplotlib.axes._subplots.AxesSubplot at 0x7f4f744a37b8>"
      ]
     },
     "execution_count": 76,
     "metadata": {},
     "output_type": "execute_result"
    },
    {
     "data": {
      "image/png": "[encoded data removed]",
      "text/plain": [
       "<matplotlib.figure.Figure at 0x7f4f7f2ab7f0>"
      ]
     },
     "metadata": {},
     "output_type": "display_data"
    }
   ],
   "source": [
    "n_users[n_users.tweets_count>0].tweets_count.hist(bins=100,alpha=0.7)"
   ]
  },
  {
   "cell_type": "code",
   "execution_count": 82,
   "metadata": {
    "collapsed": false
   },
   "outputs": [
    {
     "data": {
      "text/plain": [
       "125"
      ]
     },
     "execution_count": 82,
     "metadata": {},
     "output_type": "execute_result"
    }
   ],
   "source": [
    "(n_users.tweets_count <= 20).sum()"
   ]
  },
  {
   "cell_type": "markdown",
   "metadata": {},
   "source": [
    "## Mood annotated data"
   ]
  },
  {
   "cell_type": "code",
   "execution_count": 86,
   "metadata": {
    "collapsed": false
   },
   "outputs": [
    {
     "name": "stdout",
     "output_type": "stream",
     "text": [
      "\n"
     ]
    }
   ],
   "source": [
    "def load_labeled_mood(p):\n",
    "    tweets = []\n",
    "    with open(p) as fd:\n",
    "        for l in tqdm_notebook(fd):\n",
    "            o = json.loads(l)\n",
    "            tweets.append({k: o[k] for k in ['text', 'AH', 'DD', 'TA']})\n",
    "    return pd.DataFrame(tweets)\n",
    "\n",
    "mood_tweets_df = load_labeled_mood(\"/data/1/sporty/tweets/labeled/3K_labeled\")"
   ]
  },
  {
   "cell_type": "markdown",
   "metadata": {},
   "source": [
    "### Load LIWC lexicon"
   ]
  },
  {
   "cell_type": "code",
   "execution_count": 91,
   "metadata": {
    "code_folding": [
     10
    ],
    "collapsed": true
   },
   "outputs": [],
   "source": [
    "''' Data structure and utility functions for reading and querying a LIWC\n",
    "lexicon. Data described here:\n",
    "http://homepage.psy.utexas.edu/homepage/faculty/pennebaker/reprints/LIWC2001.pdf\n",
    "'''\n",
    "\n",
    "from collections import defaultdict\n",
    "import os\n",
    "\n",
    "\n",
    "class Lexicon(object):\n",
    "    \"\"\"\n",
    "    >>> import tempfile\n",
    "    >>> tf = tempfile.NamedTemporaryFile()\n",
    "    >>> tf.write(\"%\\\\n1\\\\tPronoun\\\\n2\\\\tI\\\\n3\\tGreet\\\\n%\\\\ni\\\\t01 02\\\\nhis\\\\t01\\\\nhi*\\t03\")\n",
    "    >>> tf.flush()\n",
    "    >>> d = Lexicon(tf.name)\n",
    "    >>> d.categories_for_tokens(['i', 'his'])\n",
    "    [[u'Pronoun', u'I'], [u'Pronoun']]\n",
    "    >>> d.categories_for_tokens(['his'])\n",
    "    [[u'Pronoun']]\n",
    "    >>> cts = d.counts_for_tokens(['i', 'his'])\n",
    "    >>> cts[u'I']\n",
    "    1\n",
    "    >>> cts[u'Pronoun']\n",
    "    2\n",
    "    >>> d.categories_for_tokens(['zebra'])\n",
    "    [[]]\n",
    "    >>> d.categories_for_tokens(['hithere'])\n",
    "    [[u'Greet']]\n",
    "    \"\"\"\n",
    "\n",
    "    def __init__(self, dict_file=None):\n",
    "        self.dict_file = dict_file\n",
    "        self.load_dictionary(dict_file)\n",
    "\n",
    "    def parse_categories(self, catText):\n",
    "        lines = catText.split(\"\\n\")\n",
    "        self.categories = {}\n",
    "        for line in lines:\n",
    "            if len(line) > 0:\n",
    "                key, val = line.split()\n",
    "                self.categories[str(key)] = str(val)\n",
    "\n",
    "    def parse_patterns(self, regExps):\n",
    "        lines = regExps.split(\"\\n\")\n",
    "        self.exact_patterns = {}\n",
    "        self.prefix_patterns = {}\n",
    "        for line in lines:\n",
    "            if len(line) > 0 and not line.startswith('//'):\n",
    "                vals = line.split()\n",
    "                exp = vals[0]\n",
    "                ids = [str(int(v)) for v in vals[1:]]\n",
    "                if '*' in exp:\n",
    "                    self.prefix_patterns[exp[:-1]] = ids\n",
    "                else:\n",
    "                    self.exact_patterns[exp] = ids\n",
    "\n",
    "    def load_dictionary(self, dict_file):\n",
    "        dict_text = open(dict_file).read()\n",
    "        as_list = dict_text.split(\"%\")\n",
    "        self.parse_categories(as_list[1])\n",
    "        self.parse_patterns(as_list[2])\n",
    "\n",
    "    def categories_for_token(self, word):\n",
    "        result = []\n",
    "        if word in self.exact_patterns:\n",
    "            result.extend(self.exact_patterns[word])\n",
    "        else:\n",
    "            for i in range(0, len(word)):\n",
    "                if word[:-i] in self.prefix_patterns:\n",
    "                    result.extend(self.prefix_patterns[word[:-i]])\n",
    "        return [self.categories[c] for c in result]\n",
    "\n",
    "    def categories_for_tokens(self, tokens):\n",
    "        \"\"\" Returns a list of lists. For each token, create a list of categories\n",
    "        it belongs to.\"\"\"\n",
    "        return [self.categories_for_token(token) for token in tokens]\n",
    "\n",
    "    def counts_for_tokens(self, tokens):\n",
    "        \"\"\" Returns a dict mapping categories to counts from this list of\n",
    "        tokens. \"\"\"\n",
    "        cats = self.categories_for_tokens(tokens)\n",
    "        d = defaultdict(lambda: 0)\n",
    "        for a in cats:\n",
    "            for b in a:\n",
    "                d[b] += 1\n",
    "        return d\n",
    "    \n",
    "lex = Lexicon(\"./liwc.dic\")"
   ]
  },
  {
   "cell_type": "markdown",
   "metadata": {},
   "source": [
    "###  Load emoticons "
   ]
  },
  {
   "cell_type": "markdown",
   "metadata": {},
   "source": [
    "###  Build tokenizer"
   ]
  },
  {
   "cell_type": "code",
   "execution_count": 94,
   "metadata": {
    "collapsed": false
   },
   "outputs": [],
   "source": [
    "\n",
    "def tokenize(text):\n",
    "    text = text.replace(\"\\n\", \" \").replace(\"\\t\", \" \").replace(\"\\r\\n\", \" \")\n",
    "    tokens = text.split()"
   ]
  },
  {
   "cell_type": "code",
   "execution_count": 87,
   "metadata": {
    "collapsed": false
   },
   "outputs": [
    {
     "data": {
      "text/html": [
       "<div>\n",
       "<table border=\"1\" class=\"dataframe\">\n",
       "  <thead>\n",
       "    <tr style=\"text-align: right;\">\n",
       "      <th></th>\n",
       "      <th>AH</th>\n",
       "      <th>DD</th>\n",
       "      <th>TA</th>\n",
       "      <th>text</th>\n",
       "    </tr>\n",
       "  </thead>\n",
       "  <tbody>\n",
       "    <tr>\n",
       "      <th>0</th>\n",
       "      <td>1</td>\n",
       "      <td>0</td>\n",
       "      <td>0</td>\n",
       "      <td>@jodieegentt you're still a fucking nob</td>\n",
       "    </tr>\n",
       "    <tr>\n",
       "      <th>1</th>\n",
       "      <td>0</td>\n",
       "      <td>0</td>\n",
       "      <td>1</td>\n",
       "      <td>It's to hot to sleep😁</td>\n",
       "    </tr>\n",
       "    <tr>\n",
       "      <th>2</th>\n",
       "      <td>0</td>\n",
       "      <td>0</td>\n",
       "      <td>1</td>\n",
       "      <td>I can't wait to burn all of my school books an...</td>\n",
       "    </tr>\n",
       "    <tr>\n",
       "      <th>3</th>\n",
       "      <td>0</td>\n",
       "      <td>0</td>\n",
       "      <td>0</td>\n",
       "      <td>Just staying strong in my faith &amp;amp; pressing...</td>\n",
       "    </tr>\n",
       "    <tr>\n",
       "      <th>4</th>\n",
       "      <td>0</td>\n",
       "      <td>0</td>\n",
       "      <td>0</td>\n",
       "      <td>I've listened to hardly any other music apart ...</td>\n",
       "    </tr>\n",
       "    <tr>\n",
       "      <th>5</th>\n",
       "      <td>0</td>\n",
       "      <td>0</td>\n",
       "      <td>0</td>\n",
       "      <td>I wild Jeanne is surprised ! http://t.co/fAICx...</td>\n",
       "    </tr>\n",
       "    <tr>\n",
       "      <th>6</th>\n",
       "      <td>0</td>\n",
       "      <td>0</td>\n",
       "      <td>0</td>\n",
       "      <td>Alex is so ignorant at this point #bless</td>\n",
       "    </tr>\n",
       "    <tr>\n",
       "      <th>7</th>\n",
       "      <td>1</td>\n",
       "      <td>1</td>\n",
       "      <td>1</td>\n",
       "      <td>For the love of fucking god I need to get out ...</td>\n",
       "    </tr>\n",
       "    <tr>\n",
       "      <th>8</th>\n",
       "      <td>1</td>\n",
       "      <td>0</td>\n",
       "      <td>0</td>\n",
       "      <td>Peti Filou advert told me to make a milkshake ...</td>\n",
       "    </tr>\n",
       "    <tr>\n",
       "      <th>9</th>\n",
       "      <td>0</td>\n",
       "      <td>0</td>\n",
       "      <td>0</td>\n",
       "      <td>hii calum :)\\n\\ni hope your having a \\ngood da...</td>\n",
       "    </tr>\n",
       "    <tr>\n",
       "      <th>10</th>\n",
       "      <td>0</td>\n",
       "      <td>0</td>\n",
       "      <td>0</td>\n",
       "      <td>Bethany tutored me over this chem semester tes...</td>\n",
       "    </tr>\n",
       "    <tr>\n",
       "      <th>11</th>\n",
       "      <td>1</td>\n",
       "      <td>1</td>\n",
       "      <td>1</td>\n",
       "      <td>gonna read luke fanfics bc suPER ANGRY AND I W...</td>\n",
       "    </tr>\n",
       "    <tr>\n",
       "      <th>12</th>\n",
       "      <td>0</td>\n",
       "      <td>0</td>\n",
       "      <td>0</td>\n",
       "      <td>Brantley Gilbert is the fuckin man</td>\n",
       "    </tr>\n",
       "    <tr>\n",
       "      <th>13</th>\n",
       "      <td>0</td>\n",
       "      <td>1</td>\n",
       "      <td>0</td>\n",
       "      <td>@James_Yammouni Dear James would you pls follo...</td>\n",
       "    </tr>\n",
       "    <tr>\n",
       "      <th>14</th>\n",
       "      <td>0</td>\n",
       "      <td>0</td>\n",
       "      <td>0</td>\n",
       "      <td>\"@PRAYINGFORHEAD: this dude a fucking legend b...</td>\n",
       "    </tr>\n",
       "    <tr>\n",
       "      <th>15</th>\n",
       "      <td>0</td>\n",
       "      <td>1</td>\n",
       "      <td>0</td>\n",
       "      <td>@WeeklyChris \\n\\n Follow me :(\\n I'm so sad 💔</td>\n",
       "    </tr>\n",
       "    <tr>\n",
       "      <th>16</th>\n",
       "      <td>0</td>\n",
       "      <td>1</td>\n",
       "      <td>0</td>\n",
       "      <td>@JASMINEVILLEGAS PLEASEEEE FOLLOW ME LYSM ! YO...</td>\n",
       "    </tr>\n",
       "    <tr>\n",
       "      <th>17</th>\n",
       "      <td>0</td>\n",
       "      <td>0</td>\n",
       "      <td>0</td>\n",
       "      <td>lol who tf does that?? cause he looked real st...</td>\n",
       "    </tr>\n",
       "    <tr>\n",
       "      <th>18</th>\n",
       "      <td>0</td>\n",
       "      <td>0</td>\n",
       "      <td>0</td>\n",
       "      <td>Now imagine that I just made a very funny clou...</td>\n",
       "    </tr>\n",
       "    <tr>\n",
       "      <th>19</th>\n",
       "      <td>0</td>\n",
       "      <td>0</td>\n",
       "      <td>0</td>\n",
       "      <td>girl you've had good, but i can give you bette...</td>\n",
       "    </tr>\n",
       "    <tr>\n",
       "      <th>20</th>\n",
       "      <td>0</td>\n",
       "      <td>0</td>\n",
       "      <td>0</td>\n",
       "      <td>@SineadRogersx bad asses Sinead, bad asses</td>\n",
       "    </tr>\n",
       "    <tr>\n",
       "      <th>21</th>\n",
       "      <td>0</td>\n",
       "      <td>0</td>\n",
       "      <td>0</td>\n",
       "      <td>@ZizouEsque Alexis is most likely Juve-bound. ...</td>\n",
       "    </tr>\n",
       "    <tr>\n",
       "      <th>22</th>\n",
       "      <td>0</td>\n",
       "      <td>0</td>\n",
       "      <td>0</td>\n",
       "      <td>@helloiambethm I can safely say that my eyebro...</td>\n",
       "    </tr>\n",
       "    <tr>\n",
       "      <th>23</th>\n",
       "      <td>0</td>\n",
       "      <td>1</td>\n",
       "      <td>1</td>\n",
       "      <td>Before any of this happened I told you I was a...</td>\n",
       "    </tr>\n",
       "    <tr>\n",
       "      <th>24</th>\n",
       "      <td>0</td>\n",
       "      <td>0</td>\n",
       "      <td>0</td>\n",
       "      <td>Idk why you would want to hook up in the summe...</td>\n",
       "    </tr>\n",
       "    <tr>\n",
       "      <th>25</th>\n",
       "      <td>1</td>\n",
       "      <td>1</td>\n",
       "      <td>0</td>\n",
       "      <td>@turner_keith @clancinator8 I'm better then bo...</td>\n",
       "    </tr>\n",
       "    <tr>\n",
       "      <th>26</th>\n",
       "      <td>0</td>\n",
       "      <td>0</td>\n",
       "      <td>0</td>\n",
       "      <td>Take a look in the mirror, baby girl you're a ...</td>\n",
       "    </tr>\n",
       "    <tr>\n",
       "      <th>27</th>\n",
       "      <td>0</td>\n",
       "      <td>1</td>\n",
       "      <td>0</td>\n",
       "      <td>Every guy wants a good girl who will be bad ju...</td>\n",
       "    </tr>\n",
       "    <tr>\n",
       "      <th>28</th>\n",
       "      <td>0</td>\n",
       "      <td>0</td>\n",
       "      <td>0</td>\n",
       "      <td>just did homework for the first time in a mont...</td>\n",
       "    </tr>\n",
       "    <tr>\n",
       "      <th>29</th>\n",
       "      <td>0</td>\n",
       "      <td>0</td>\n",
       "      <td>0</td>\n",
       "      <td>#NowPlaying :  Running In The Family Level 42 ...</td>\n",
       "    </tr>\n",
       "    <tr>\n",
       "      <th>...</th>\n",
       "      <td>...</td>\n",
       "      <td>...</td>\n",
       "      <td>...</td>\n",
       "      <td>...</td>\n",
       "    </tr>\n",
       "    <tr>\n",
       "      <th>2337</th>\n",
       "      <td>1</td>\n",
       "      <td>0</td>\n",
       "      <td>0</td>\n",
       "      <td>Media is dumb sometime</td>\n",
       "    </tr>\n",
       "    <tr>\n",
       "      <th>2338</th>\n",
       "      <td>0</td>\n",
       "      <td>1</td>\n",
       "      <td>0</td>\n",
       "      <td>am I alive</td>\n",
       "    </tr>\n",
       "    <tr>\n",
       "      <th>2339</th>\n",
       "      <td>0</td>\n",
       "      <td>1</td>\n",
       "      <td>0</td>\n",
       "      <td>Actually correction I WOULD RATHER DIE A SLOW ...</td>\n",
       "    </tr>\n",
       "    <tr>\n",
       "      <th>2340</th>\n",
       "      <td>1</td>\n",
       "      <td>0</td>\n",
       "      <td>0</td>\n",
       "      <td>@heeeyimsarah IM SAYIN like damn YOUR OWN COUS...</td>\n",
       "    </tr>\n",
       "    <tr>\n",
       "      <th>2341</th>\n",
       "      <td>1</td>\n",
       "      <td>0</td>\n",
       "      <td>0</td>\n",
       "      <td>I hate it when ppl underestimate an extremly t...</td>\n",
       "    </tr>\n",
       "    <tr>\n",
       "      <th>2342</th>\n",
       "      <td>0</td>\n",
       "      <td>0</td>\n",
       "      <td>0</td>\n",
       "      <td>\"And slow it down, alright, let me blow this b...</td>\n",
       "    </tr>\n",
       "    <tr>\n",
       "      <th>2343</th>\n",
       "      <td>0</td>\n",
       "      <td>0</td>\n",
       "      <td>0</td>\n",
       "      <td>@sbpsunshine haha. True. Now I'm just your ava...</td>\n",
       "    </tr>\n",
       "    <tr>\n",
       "      <th>2344</th>\n",
       "      <td>0</td>\n",
       "      <td>0</td>\n",
       "      <td>0</td>\n",
       "      <td>Here it is!! My Beautiful Chicky singing the A...</td>\n",
       "    </tr>\n",
       "    <tr>\n",
       "      <th>2345</th>\n",
       "      <td>0</td>\n",
       "      <td>0</td>\n",
       "      <td>0</td>\n",
       "      <td>@Arsenal_KY going to be some grown ass men cry...</td>\n",
       "    </tr>\n",
       "    <tr>\n",
       "      <th>2346</th>\n",
       "      <td>0</td>\n",
       "      <td>0</td>\n",
       "      <td>0</td>\n",
       "      <td>I wantto rump arnd in every crevice of a castl...</td>\n",
       "    </tr>\n",
       "    <tr>\n",
       "      <th>2347</th>\n",
       "      <td>0</td>\n",
       "      <td>0</td>\n",
       "      <td>0</td>\n",
       "      <td>@CauseIm_TRACI Lol My friend Made Me Watch it ...</td>\n",
       "    </tr>\n",
       "    <tr>\n",
       "      <th>2348</th>\n",
       "      <td>1</td>\n",
       "      <td>0</td>\n",
       "      <td>0</td>\n",
       "      <td>such a dumb song</td>\n",
       "    </tr>\n",
       "    <tr>\n",
       "      <th>2349</th>\n",
       "      <td>0</td>\n",
       "      <td>0</td>\n",
       "      <td>0</td>\n",
       "      <td>Starting to feel sleepy again but as a nice fr...</td>\n",
       "    </tr>\n",
       "    <tr>\n",
       "      <th>2350</th>\n",
       "      <td>0</td>\n",
       "      <td>0</td>\n",
       "      <td>1</td>\n",
       "      <td>Problems music video is kinda makin me dizzy w...</td>\n",
       "    </tr>\n",
       "    <tr>\n",
       "      <th>2351</th>\n",
       "      <td>0</td>\n",
       "      <td>0</td>\n",
       "      <td>0</td>\n",
       "      <td>Relaxing cup of café con leche in my habitatio...</td>\n",
       "    </tr>\n",
       "    <tr>\n",
       "      <th>2352</th>\n",
       "      <td>0</td>\n",
       "      <td>0</td>\n",
       "      <td>1</td>\n",
       "      <td>I'm so upset I'm not going to XTU but Cableas ...</td>\n",
       "    </tr>\n",
       "    <tr>\n",
       "      <th>2353</th>\n",
       "      <td>1</td>\n",
       "      <td>1</td>\n",
       "      <td>0</td>\n",
       "      <td>Woke up frustrated like fuck 😠</td>\n",
       "    </tr>\n",
       "    <tr>\n",
       "      <th>2354</th>\n",
       "      <td>0</td>\n",
       "      <td>1</td>\n",
       "      <td>0</td>\n",
       "      <td>@kaitlyn_kb @KaylaMiller5416 yeah realllly I'm...</td>\n",
       "    </tr>\n",
       "    <tr>\n",
       "      <th>2355</th>\n",
       "      <td>0</td>\n",
       "      <td>0</td>\n",
       "      <td>0</td>\n",
       "      <td>That moment when you get a sweet text &amp;amp; yo...</td>\n",
       "    </tr>\n",
       "    <tr>\n",
       "      <th>2356</th>\n",
       "      <td>0</td>\n",
       "      <td>1</td>\n",
       "      <td>1</td>\n",
       "      <td>I'm just so scared to sleep alone or move on w...</td>\n",
       "    </tr>\n",
       "    <tr>\n",
       "      <th>2357</th>\n",
       "      <td>0</td>\n",
       "      <td>1</td>\n",
       "      <td>0</td>\n",
       "      <td>@Dimpless_xD @Nana_Boo1316 I was so fuckin wea...</td>\n",
       "    </tr>\n",
       "    <tr>\n",
       "      <th>2358</th>\n",
       "      <td>0</td>\n",
       "      <td>0</td>\n",
       "      <td>0</td>\n",
       "      <td>Romans 12:17 Do not repay anyone evil for evil...</td>\n",
       "    </tr>\n",
       "    <tr>\n",
       "      <th>2359</th>\n",
       "      <td>0</td>\n",
       "      <td>0</td>\n",
       "      <td>0</td>\n",
       "      <td>@NicklasPorsing you having a relaxing day. Don...</td>\n",
       "    </tr>\n",
       "    <tr>\n",
       "      <th>2360</th>\n",
       "      <td>0</td>\n",
       "      <td>0</td>\n",
       "      <td>0</td>\n",
       "      <td>Did you know that if you're scared you create ...</td>\n",
       "    </tr>\n",
       "    <tr>\n",
       "      <th>2361</th>\n",
       "      <td>1</td>\n",
       "      <td>0</td>\n",
       "      <td>0</td>\n",
       "      <td>Hey Girls who wear fake eyelashes everyday- do...</td>\n",
       "    </tr>\n",
       "    <tr>\n",
       "      <th>2362</th>\n",
       "      <td>0</td>\n",
       "      <td>1</td>\n",
       "      <td>0</td>\n",
       "      <td>Sleeping in 😍😍</td>\n",
       "    </tr>\n",
       "    <tr>\n",
       "      <th>2363</th>\n",
       "      <td>0</td>\n",
       "      <td>0</td>\n",
       "      <td>0</td>\n",
       "      <td>Sitting outside on the swing, listening to Ett...</td>\n",
       "    </tr>\n",
       "    <tr>\n",
       "      <th>2364</th>\n",
       "      <td>0</td>\n",
       "      <td>0</td>\n",
       "      <td>0</td>\n",
       "      <td>bitches been drinking watermelon all their life</td>\n",
       "    </tr>\n",
       "    <tr>\n",
       "      <th>2365</th>\n",
       "      <td>0</td>\n",
       "      <td>0</td>\n",
       "      <td>0</td>\n",
       "      <td>How would Apple's smart home system work?:http...</td>\n",
       "    </tr>\n",
       "    <tr>\n",
       "      <th>2366</th>\n",
       "      <td>0</td>\n",
       "      <td>0</td>\n",
       "      <td>0</td>\n",
       "      <td>#Yugadu High Drama Set for Wild West; Blackhaw...</td>\n",
       "    </tr>\n",
       "  </tbody>\n",
       "</table>\n",
       "<p>2367 rows × 4 columns</p>\n",
       "</div>"
      ],
      "text/plain": [
       "      AH  DD  TA                                               text\n",
       "0      1   0   0            @jodieegentt you're still a fucking nob\n",
       "1      0   0   1                              It's to hot to sleep😁\n",
       "2      0   0   1  I can't wait to burn all of my school books an...\n",
       "3      0   0   0  Just staying strong in my faith &amp; pressing...\n",
       "4      0   0   0  I've listened to hardly any other music apart ...\n",
       "5      0   0   0  I wild Jeanne is surprised ! http://t.co/fAICx...\n",
       "6      0   0   0           Alex is so ignorant at this point #bless\n",
       "7      1   1   1  For the love of fucking god I need to get out ...\n",
       "8      1   0   0  Peti Filou advert told me to make a milkshake ...\n",
       "9      0   0   0  hii calum :)\\n\\ni hope your having a \\ngood da...\n",
       "10     0   0   0  Bethany tutored me over this chem semester tes...\n",
       "11     1   1   1  gonna read luke fanfics bc suPER ANGRY AND I W...\n",
       "12     0   0   0                 Brantley Gilbert is the fuckin man\n",
       "13     0   1   0  @James_Yammouni Dear James would you pls follo...\n",
       "14     0   0   0  \"@PRAYINGFORHEAD: this dude a fucking legend b...\n",
       "15     0   1   0      @WeeklyChris \\n\\n Follow me :(\\n I'm so sad 💔\n",
       "16     0   1   0  @JASMINEVILLEGAS PLEASEEEE FOLLOW ME LYSM ! YO...\n",
       "17     0   0   0  lol who tf does that?? cause he looked real st...\n",
       "18     0   0   0  Now imagine that I just made a very funny clou...\n",
       "19     0   0   0  girl you've had good, but i can give you bette...\n",
       "20     0   0   0         @SineadRogersx bad asses Sinead, bad asses\n",
       "21     0   0   0  @ZizouEsque Alexis is most likely Juve-bound. ...\n",
       "22     0   0   0  @helloiambethm I can safely say that my eyebro...\n",
       "23     0   1   1  Before any of this happened I told you I was a...\n",
       "24     0   0   0  Idk why you would want to hook up in the summe...\n",
       "25     1   1   0  @turner_keith @clancinator8 I'm better then bo...\n",
       "26     0   0   0  Take a look in the mirror, baby girl you're a ...\n",
       "27     0   1   0  Every guy wants a good girl who will be bad ju...\n",
       "28     0   0   0  just did homework for the first time in a mont...\n",
       "29     0   0   0  #NowPlaying :  Running In The Family Level 42 ...\n",
       "...   ..  ..  ..                                                ...\n",
       "2337   1   0   0                             Media is dumb sometime\n",
       "2338   0   1   0                                         am I alive\n",
       "2339   0   1   0  Actually correction I WOULD RATHER DIE A SLOW ...\n",
       "2340   1   0   0  @heeeyimsarah IM SAYIN like damn YOUR OWN COUS...\n",
       "2341   1   0   0  I hate it when ppl underestimate an extremly t...\n",
       "2342   0   0   0  \"And slow it down, alright, let me blow this b...\n",
       "2343   0   0   0  @sbpsunshine haha. True. Now I'm just your ava...\n",
       "2344   0   0   0  Here it is!! My Beautiful Chicky singing the A...\n",
       "2345   0   0   0  @Arsenal_KY going to be some grown ass men cry...\n",
       "2346   0   0   0  I wantto rump arnd in every crevice of a castl...\n",
       "2347   0   0   0  @CauseIm_TRACI Lol My friend Made Me Watch it ...\n",
       "2348   1   0   0                                   such a dumb song\n",
       "2349   0   0   0  Starting to feel sleepy again but as a nice fr...\n",
       "2350   0   0   1  Problems music video is kinda makin me dizzy w...\n",
       "2351   0   0   0  Relaxing cup of café con leche in my habitatio...\n",
       "2352   0   0   1  I'm so upset I'm not going to XTU but Cableas ...\n",
       "2353   1   1   0                     Woke up frustrated like fuck 😠\n",
       "2354   0   1   0  @kaitlyn_kb @KaylaMiller5416 yeah realllly I'm...\n",
       "2355   0   0   0  That moment when you get a sweet text &amp; yo...\n",
       "2356   0   1   1  I'm just so scared to sleep alone or move on w...\n",
       "2357   0   1   0  @Dimpless_xD @Nana_Boo1316 I was so fuckin wea...\n",
       "2358   0   0   0  Romans 12:17 Do not repay anyone evil for evil...\n",
       "2359   0   0   0  @NicklasPorsing you having a relaxing day. Don...\n",
       "2360   0   0   0  Did you know that if you're scared you create ...\n",
       "2361   1   0   0  Hey Girls who wear fake eyelashes everyday- do...\n",
       "2362   0   1   0                                     Sleeping in 😍😍\n",
       "2363   0   0   0  Sitting outside on the swing, listening to Ett...\n",
       "2364   0   0   0    bitches been drinking watermelon all their life\n",
       "2365   0   0   0  How would Apple's smart home system work?:http...\n",
       "2366   0   0   0  #Yugadu High Drama Set for Wild West; Blackhaw...\n",
       "\n",
       "[2367 rows x 4 columns]"
      ]
     },
     "execution_count": 87,
     "metadata": {},
     "output_type": "execute_result"
    }
   ],
   "source": [
    "mood_tweets_df"
   ]
  }
 ],
 "metadata": {
  "kernelspec": {
   "display_name": "Python 3",
   "language": "python",
   "name": "python3"
  },
  "language_info": {
   "codemirror_mode": {
    "name": "ipython",
    "version": 3
   },
   "file_extension": ".py",
   "mimetype": "text/x-python",
   "name": "python",
   "nbconvert_exporter": "python",
   "pygments_lexer": "ipython3",
   "version": "3.4.3"
  },
  "nav_menu": {},
  "toc": {
   "navigate_menu": true,
   "number_sections": true,
   "sideBar": true,
   "threshold": 6,
   "toc_cell": false,
   "toc_section_display": "block",
   "toc_window_display": false
  },
  "widgets": {
   "state": {
    "3f9098636dbd4216b6482c43403e5a16": {
     "views": [
      {
       "cell_index": 19
      }
     ]
    },
    "7301bdedcf484ca5bc158351d24395c7": {
     "views": [
      {
       "cell_index": 20
      }
     ]
    },
    "e01a903f1da74f11bd3db3921a8f1c5f": {
     "views": [
      {
       "cell_index": 0
      }
     ]
    },
    "ff468b6b36f649b48dd336ec8f1ae888": {
     "views": [
      {
       "cell_index": 25
      }
     ]
    }
   },
   "version": "1.2.0"
  }
 },
 "nbformat": 4,
 "nbformat_minor": 0
}
