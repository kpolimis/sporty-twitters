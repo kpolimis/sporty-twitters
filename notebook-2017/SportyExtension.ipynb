{
 "cells": [
  {
   "cell_type": "code",
   "execution_count": 213,
   "metadata": {
    "collapsed": false
   },
   "outputs": [
    {
     "name": "stdout",
     "output_type": "stream",
     "text": [
      "\n"
     ]
    }
   ],
   "source": [
    "import json\n",
    "import pandas as pd\n",
    "import numpy as np\n",
    "import pymongo\n",
    "import os.path\n",
    "import seaborn as sns\n",
    "import re\n",
    "import matplotlib.pyplot as plt\n",
    "\n",
    "from tqdm import tqdm, tqdm_notebook, tqdm_pandas\n",
    "from collections import defaultdict, Counter\n",
    "from sklearn.feature_extraction.text import TfidfVectorizer\n",
    "from sklearn.feature_selection import SelectKBest, chi2\n",
    "from sklearn.pipeline import Pipeline\n",
    "from sklearn import preprocessing, metrics\n",
    "from sklearn.cross_validation import KFold\n",
    "from sklearn.linear_model import LogisticRegression\n",
    "\n",
    "tqdm_notebook().pandas()\n",
    "sns.set_context('talk')\n",
    "sns.set_style('whitegrid')\n",
    "\n",
    "%matplotlib inline"
   ]
  },
  {
   "cell_type": "markdown",
   "metadata": {},
   "source": [
    "# Load data"
   ]
  },
  {
   "cell_type": "markdown",
   "metadata": {},
   "source": [
    "## Control and treatment groups"
   ]
  },
  {
   "cell_type": "markdown",
   "metadata": {},
   "source": [
    "###  Load users information"
   ]
  },
  {
   "cell_type": "code",
   "execution_count": 2,
   "metadata": {
    "collapsed": false
   },
   "outputs": [],
   "source": [
    "n_users = pd.read_csv(\"./nosport_users_stats\")\n",
    "s_users = pd.read_csv(\"./sport_users_stats\")\n",
    "\n",
    "for df in [n_users, s_users]:\n",
    "    df.index = df['id']"
   ]
  },
  {
   "cell_type": "code",
   "execution_count": 3,
   "metadata": {
    "collapsed": false
   },
   "outputs": [
    {
     "data": {
      "text/plain": [
       "((1160, 7), (1160, 7))"
      ]
     },
     "execution_count": 3,
     "metadata": {},
     "output_type": "execute_result"
    }
   ],
   "source": [
    "s_users.shape, n_users.shape"
   ]
  },
  {
   "cell_type": "markdown",
   "metadata": {},
   "source": [
    "### Load matches"
   ]
  },
  {
   "cell_type": "markdown",
   "metadata": {},
   "source": [
    "Load matches file."
   ]
  },
  {
   "cell_type": "code",
   "execution_count": 4,
   "metadata": {
    "collapsed": false
   },
   "outputs": [],
   "source": [
    "matches = pd.read_csv(\"/data/1/sporty/users/classification/matches.txt\", header=None, names=['sport', 'nosport'])"
   ]
  },
  {
   "cell_type": "markdown",
   "metadata": {},
   "source": [
    "Some users have been matched twice to a sport users, we remove these duplicate entries here although we missed them in 2014."
   ]
  },
  {
   "cell_type": "code",
   "execution_count": 5,
   "metadata": {
    "collapsed": false
   },
   "outputs": [],
   "source": [
    "matches = matches.drop_duplicates(subset=['nosport'])\n",
    "n_users = n_users.drop_duplicates(subset=['id'])"
   ]
  },
  {
   "cell_type": "markdown",
   "metadata": {},
   "source": [
    "Align users' dataframes."
   ]
  },
  {
   "cell_type": "code",
   "execution_count": 6,
   "metadata": {
    "collapsed": false
   },
   "outputs": [],
   "source": [
    "s_users = s_users.loc[matches.sport.tolist()]\n",
    "s_users.index = np.arange(s_users.shape[0])\n",
    "n_users = n_users.loc[matches.nosport.tolist()]\n",
    "n_users.index = np.arange(n_users.shape[0])"
   ]
  },
  {
   "cell_type": "code",
   "execution_count": 7,
   "metadata": {
    "collapsed": false
   },
   "outputs": [
    {
     "data": {
      "text/plain": [
       "((1153, 7), (1153, 7))"
      ]
     },
     "execution_count": 7,
     "metadata": {},
     "output_type": "execute_result"
    }
   ],
   "source": [
    "s_users.shape, n_users.shape"
   ]
  },
  {
   "cell_type": "markdown",
   "metadata": {},
   "source": [
    "Remove users that are in both groups and their match that we missed last time."
   ]
  },
  {
   "cell_type": "code",
   "execution_count": 8,
   "metadata": {
    "collapsed": false
   },
   "outputs": [],
   "source": [
    "# find users in both groups\n",
    "both_groups = set(s_users['id']) & set(n_users['id'])\n",
    "\n",
    "# find lines with users in both groups\n",
    "s_idx_to_remove = s_users.id.where(s_users.id.apply(lambda _: _ in both_groups)).dropna().index.tolist()\n",
    "n_idx_to_remove = n_users.id.where(n_users.id.apply(lambda _: _ in both_groups)).dropna().index.tolist()\n",
    "idx_to_remove = s_idx_to_remove + n_idx_to_remove\n",
    "\n",
    "# remove lines from users' dataframes\n",
    "s_users = s_users.drop(idx_to_remove, axis=0)\n",
    "n_users = n_users.drop(idx_to_remove, axis=0)"
   ]
  },
  {
   "cell_type": "code",
   "execution_count": 9,
   "metadata": {
    "collapsed": false
   },
   "outputs": [
    {
     "data": {
      "text/plain": [
       "((1137, 7), (1137, 7))"
      ]
     },
     "execution_count": 9,
     "metadata": {},
     "output_type": "execute_result"
    }
   ],
   "source": [
    "s_users.shape, n_users.shape"
   ]
  },
  {
   "cell_type": "markdown",
   "metadata": {},
   "source": [
    "### Load tweets for each user "
   ]
  },
  {
   "cell_type": "code",
   "execution_count": 51,
   "metadata": {
    "collapsed": true
   },
   "outputs": [],
   "source": [
    "def load_tweets(user_id, data_dir, remove_hash=None, keep_rt=False):\n",
    "    user_p = os.path.join(data_dir, user_id)\n",
    "    tweets = []\n",
    "    with open(user_p) as fd:\n",
    "        for l in fd:\n",
    "            o = json.loads(l)\n",
    "            # check for retweets\n",
    "            if not keep_rt and 'retweeted_status' in o:\n",
    "                keep_tw = False\n",
    "            else:\n",
    "                # check for hashtags to avoid\n",
    "                h = set([_['text'].lower() for _ in o['entities']['hashtags']])\n",
    "                keep_tw = remove_hash is None or not (h & set(remove_hash))\n",
    "            \n",
    "            if keep_tw:\n",
    "                tweets.append(o['text'])\n",
    "    return tweets\n",
    "    \n",
    "auto_hash = ['runkeeper', 'nikeplus', 'runtastic', 'endomondo', 'mapmyrun', 'strava', 'cyclemeter', 'fitstats', 'mapmyfitness', 'runmeter']\n",
    "\n",
    "def load_tweets_sport(user_id):\n",
    "    return load_tweets(user_id, \"/data/1/sporty/tweets/from_users/sport/\", remove_hash=auto_hash)\n",
    "    \n",
    "def load_tweets_nosport(user_id):\n",
    "    return load_tweets(user_id, \"/data/1/sporty/tweets/from_users/no_sport/\", remove_hash=auto_hash)"
   ]
  },
  {
   "cell_type": "raw",
   "metadata": {},
   "source": [
    "with open(\"/data/1/sporty/tweets/from_users/sport/510\") as fd:\n",
    "    for l in fd:\n",
    "        o = json.loads(l)\n",
    "        if 'retweeted_status' in o:\n",
    "            print(o['text'])\n",
    "        else:\n",
    "            print('Not a RT')\n",
    "        print('-'*100)"
   ]
  },
  {
   "cell_type": "code",
   "execution_count": 60,
   "metadata": {
    "collapsed": false
   },
   "outputs": [],
   "source": [
    "s_users['tweets'] = s_users.id.astype(str).progress_apply(load_tweets_sport)\n",
    "n_users['tweets'] = n_users.id.astype(str).progress_apply(load_tweets_nosport)"
   ]
  },
  {
   "cell_type": "code",
   "execution_count": 75,
   "metadata": {
    "collapsed": false
   },
   "outputs": [],
   "source": [
    "s_users['tweets_count'] = s_users.tweets.apply(len)\n",
    "n_users['tweets_count'] = n_users.tweets.apply(len)"
   ]
  },
  {
   "cell_type": "code",
   "execution_count": 76,
   "metadata": {
    "collapsed": false
   },
   "outputs": [
    {
     "data": {
      "text/plain": [
       "<matplotlib.axes._subplots.AxesSubplot at 0x7f4f744a37b8>"
      ]
     },
     "execution_count": 76,
     "metadata": {},
     "output_type": "execute_result"
    },
    {
     "data": {
      "image/png": "[encoded data removed]",
      "text/plain": [
       "<matplotlib.figure.Figure at 0x7f4f7f2ab7f0>"
      ]
     },
     "metadata": {},
     "output_type": "display_data"
    }
   ],
   "source": [
    "n_users[n_users.tweets_count>0].tweets_count.hist(bins=100,alpha=0.7)"
   ]
  },
  {
   "cell_type": "code",
   "execution_count": 82,
   "metadata": {
    "collapsed": false
   },
   "outputs": [
    {
     "data": {
      "text/plain": [
       "125"
      ]
     },
     "execution_count": 82,
     "metadata": {},
     "output_type": "execute_result"
    }
   ],
   "source": [
    "(n_users.tweets_count <= 20).sum()"
   ]
  },
  {
   "cell_type": "markdown",
   "metadata": {},
   "source": [
    "## Mood annotated data"
   ]
  },
  {
   "cell_type": "code",
   "execution_count": 86,
   "metadata": {
    "collapsed": false
   },
   "outputs": [
    {
     "name": "stdout",
     "output_type": "stream",
     "text": [
      "\n"
     ]
    }
   ],
   "source": [
    "def load_labeled_mood(p):\n",
    "    tweets = []\n",
    "    with open(p) as fd:\n",
    "        for l in tqdm_notebook(fd):\n",
    "            o = json.loads(l)\n",
    "            tweets.append({k: o[k] for k in ['text', 'AH', 'DD', 'TA']})\n",
    "    return pd.DataFrame(tweets)\n",
    "\n",
    "mood_tweets_df = load_labeled_mood(\"/data/1/sporty/tweets/labeled/3K_labeled\")"
   ]
  },
  {
   "cell_type": "markdown",
   "metadata": {},
   "source": [
    "### Load LIWC lexicon"
   ]
  },
  {
   "cell_type": "code",
   "execution_count": 91,
   "metadata": {
    "code_folding": [
     10
    ],
    "collapsed": true
   },
   "outputs": [],
   "source": [
    "''' Data structure and utility functions for reading and querying a LIWC\n",
    "lexicon. Data described here:\n",
    "http://homepage.psy.utexas.edu/homepage/faculty/pennebaker/reprints/LIWC2001.pdf\n",
    "'''\n",
    "\n",
    "from collections import defaultdict\n",
    "import os\n",
    "\n",
    "\n",
    "class Lexicon(object):\n",
    "    \"\"\"\n",
    "    >>> import tempfile\n",
    "    >>> tf = tempfile.NamedTemporaryFile()\n",
    "    >>> tf.write(\"%\\\\n1\\\\tPronoun\\\\n2\\\\tI\\\\n3\\tGreet\\\\n%\\\\ni\\\\t01 02\\\\nhis\\\\t01\\\\nhi*\\t03\")\n",
    "    >>> tf.flush()\n",
    "    >>> d = Lexicon(tf.name)\n",
    "    >>> d.categories_for_tokens(['i', 'his'])\n",
    "    [[u'Pronoun', u'I'], [u'Pronoun']]\n",
    "    >>> d.categories_for_tokens(['his'])\n",
    "    [[u'Pronoun']]\n",
    "    >>> cts = d.counts_for_tokens(['i', 'his'])\n",
    "    >>> cts[u'I']\n",
    "    1\n",
    "    >>> cts[u'Pronoun']\n",
    "    2\n",
    "    >>> d.categories_for_tokens(['zebra'])\n",
    "    [[]]\n",
    "    >>> d.categories_for_tokens(['hithere'])\n",
    "    [[u'Greet']]\n",
    "    \"\"\"\n",
    "\n",
    "    def __init__(self, dict_file=None):\n",
    "        self.dict_file = dict_file\n",
    "        self.load_dictionary(dict_file)\n",
    "\n",
    "    def parse_categories(self, catText):\n",
    "        lines = catText.split(\"\\n\")\n",
    "        self.categories = {}\n",
    "        for line in lines:\n",
    "            if len(line) > 0:\n",
    "                key, val = line.split()\n",
    "                self.categories[str(key)] = str(val)\n",
    "\n",
    "    def parse_patterns(self, regExps):\n",
    "        lines = regExps.split(\"\\n\")\n",
    "        self.exact_patterns = {}\n",
    "        self.prefix_patterns = {}\n",
    "        for line in lines:\n",
    "            if len(line) > 0 and not line.startswith('//'):\n",
    "                vals = line.split()\n",
    "                exp = vals[0]\n",
    "                ids = [str(int(v)) for v in vals[1:]]\n",
    "                if '*' in exp:\n",
    "                    self.prefix_patterns[exp[:-1]] = ids\n",
    "                else:\n",
    "                    self.exact_patterns[exp] = ids\n",
    "\n",
    "    def load_dictionary(self, dict_file):\n",
    "        dict_text = open(dict_file).read()\n",
    "        as_list = dict_text.split(\"%\")\n",
    "        self.parse_categories(as_list[1])\n",
    "        self.parse_patterns(as_list[2])\n",
    "\n",
    "    def categories_for_token(self, word):\n",
    "        result = []\n",
    "        if word in self.exact_patterns:\n",
    "            result.extend(self.exact_patterns[word])\n",
    "        else:\n",
    "            for i in range(0, len(word)):\n",
    "                if word[:-i] in self.prefix_patterns:\n",
    "                    result.extend(self.prefix_patterns[word[:-i]])\n",
    "        return [self.categories[c] for c in result]\n",
    "\n",
    "    def categories_for_tokens(self, tokens):\n",
    "        \"\"\" Returns a list of lists. For each token, create a list of categories\n",
    "        it belongs to.\"\"\"\n",
    "        return [self.categories_for_token(token) for token in tokens]\n",
    "\n",
    "    def counts_for_tokens(self, tokens):\n",
    "        \"\"\" Returns a dict mapping categories to counts from this list of\n",
    "        tokens. \"\"\"\n",
    "        cats = self.categories_for_tokens(tokens)\n",
    "        d = defaultdict(lambda: 0)\n",
    "        for a in cats:\n",
    "            for b in a:\n",
    "                d[b] += 1\n",
    "        return d\n",
    "    \n",
    "lex = Lexicon(\"./liwc.dic\")"
   ]
  },
  {
   "cell_type": "markdown",
   "metadata": {},
   "source": [
    "###  Load emoticons "
   ]
  },
  {
   "cell_type": "code",
   "execution_count": 115,
   "metadata": {
    "collapsed": false
   },
   "outputs": [],
   "source": [
    "emoticon_df = pd.read_csv(\"emoticons\", sep=\" \", header=None, names=['tag', 'emoticon'], index_col=1)\n",
    "emoticon_dict = emoticon_df.to_dict(orient='dict')['tag']"
   ]
  },
  {
   "cell_type": "markdown",
   "metadata": {},
   "source": [
    "###  Build features encoding"
   ]
  },
  {
   "cell_type": "markdown",
   "metadata": {},
   "source": [
    "Build tokenizer"
   ]
  },
  {
   "cell_type": "code",
   "execution_count": 289,
   "metadata": {
    "collapsed": false
   },
   "outputs": [],
   "source": [
    "def tokenize(text, collapse_hashtags=True, collapse_mentions=True, collapse_urls=True, collapse_digits=True, limit_repeats=True):    \n",
    "    text = re.sub(\"\\s+\", \" \", text.lower())\n",
    "    if collapse_hashtags:\n",
    "        text = re.sub('#\\S+', 'THIS_IS_A_HASHTAG', text)\n",
    "    else:\n",
    "        text = re.sub('#(\\S+)', r'HASHTAG_\\1', text)\n",
    "    if collapse_mentions:\n",
    "        text = re.sub('@\\S+', 'THIS_IS_A_MENTION', text)\n",
    "    if collapse_urls:\n",
    "        text = re.sub('http\\S+', 'THIS_IS_A_URL', text)\n",
    "    if limit_repeats:\n",
    "        text = re.sub(r'(.)\\1\\1\\1+', r'\\1', text)\n",
    "    if collapse_digits:\n",
    "        text = re.sub(r'[0-9]+', '9', text)\n",
    "    splits = text.split()\n",
    "    tokens = []\n",
    "    liwc_tokens = []\n",
    "    for tok in splits:\n",
    "        if tok in emoticon_dict:\n",
    "            tokens.append(emoticon_dict[tok])\n",
    "        else:\n",
    "            tokens.append(tok)\n",
    "        liwc_tokens.extend([\"LIWC_\" + _ for _ in lex.categories_for_token(tok)])\n",
    "    liwc_tokens = list(set(liwc_tokens))\n",
    "    return tokens + liwc_tokens"
   ]
  },
  {
   "cell_type": "markdown",
   "metadata": {},
   "source": [
    "Pipeline of vectorizer and features selection."
   ]
  },
  {
   "cell_type": "markdown",
   "metadata": {},
   "source": [
    "Apply to 3 mood dimensions."
   ]
  },
  {
   "cell_type": "code",
   "execution_count": 302,
   "metadata": {
    "collapsed": false
   },
   "outputs": [
    {
     "name": "stdout",
     "output_type": "stream",
     "text": [
      "\n"
     ]
    }
   ],
   "source": [
    "moods = ['AH', 'DD', 'TA']\n",
    "vecs = {}\n",
    "kbests = {}\n",
    "plines = {}\n",
    "Xs = {}\n",
    "clfs = {}\n",
    "features = {}\n",
    "top_features = {}\n",
    "\n",
    "for m in tqdm_notebook(moods):\n",
    "    # build pipeline\n",
    "    vecs[m] = TfidfVectorizer(tokenizer=tokenize, ngram_range=(1,2))\n",
    "    kbests[m] = SelectKBest(chi2, 160)\n",
    "    plines[m] = pipeline = Pipeline([('tfidf', vecs[m]), ('chi2', kbests[m])])\n",
    "    \n",
    "    # build doc term matrix\n",
    "    y = mood_tweets_df[m]\n",
    "    Xs[m] = plines[m].fit_transform(mood_tweets_df.text, y)\n",
    "    Xs[m] = preprocessing.scale(Xs[m].toarray())\n",
    "    # get labels\n",
    "\n",
    "    # train classifier\n",
    "    clfs[m] = LogisticRegression(class_weight='balanced')\n",
    "    clfs[m].fit(Xs[m],y)\n",
    "    \n",
    "    # retrieve features\n",
    "    support = kbests[m].get_support()\n",
    "    features[m] = np.array(vecs[m].get_feature_names())[support]\n",
    "    top_features[m] = [(features[m][i], clfs[m].coef_[0][i]) for i in clfs[m].coef_[0].argsort()[::-1]]"
   ]
  },
  {
   "cell_type": "code",
   "execution_count": 303,
   "metadata": {
    "collapsed": false
   },
   "outputs": [
    {
     "name": "stdout",
     "output_type": "stream",
     "text": [
      "Top features for AH\n",
      "0. LIWC_Anger                                 0.879\n",
      "1. upset                                      0.386\n",
      "2. hate                                       0.364\n",
      "3. beyond irritated                           0.350\n",
      "4. that shit                                  0.348\n",
      "5. fucking irritated                          0.331\n",
      "6. why would                                  0.289\n",
      "7. they use                                   0.284\n",
      "8. irritated LIWC_I                           0.280\n",
      "9. ur a                                       0.271\n",
      "10. THIS_IS_A_MENTION stupid                   0.269\n",
      "11. miserable LIWC_Negemo                      0.269\n",
      "12. LIWC_Affect LIWC_Swear                     0.266\n",
      "13. LIWC_Swear LIWC_Feel                       0.264\n",
      "14. fucking                                    0.260\n",
      "15. shit                                       0.256\n",
      "16. rude                                       0.254\n",
      "17. ignorant                                   0.253\n",
      "18. so mad                                     0.251\n",
      "19. LIWC_Anger LIWC_Relig                      0.240\n",
      "----------------------------------------------------------------------------------------------------\n",
      "Top features for DD\n",
      "0. sleepy LIWC_I                              0.530\n",
      "1. ugh LIWC_I                                 0.515\n",
      "2. LIWC_I                                     0.420\n",
      "3. exhausted                                  0.416\n",
      "4. bored                                      0.393\n",
      "5. i miss                                     0.381\n",
      "6. LIWC_Othref LIWC_Negemo                    0.296\n",
      "7. tired of                                   0.289\n",
      "8. EMOTICONFROWN i'm                          0.282\n",
      "9. LIWC_Sleep                                 0.277\n",
      "10. i've been                                  0.272\n",
      "11. where i'm                                  0.269\n",
      "12. of this                                    0.262\n",
      "13. 😴                                          0.261\n",
      "14. who said                                   0.256\n",
      "15. weak                                       0.254\n",
      "16. LIWC_Negemo                                0.241\n",
      "17. with me                                    0.240\n",
      "18. EMOTICONFROWN LIWC_I                       0.240\n",
      "19. being                                      0.239\n",
      "----------------------------------------------------------------------------------------------------\n",
      "Top features for TA\n",
      "0. nervous                                    0.389\n",
      "1. THIS_IS_A_MENTION gross                    0.364\n",
      "2. everyone's                                 0.356\n",
      "3. LIWC_Swear                                 0.291\n",
      "4. could you                                  0.289\n",
      "5. im not                                     0.289\n",
      "6. LIWC_Anger LIWC_Relig                      0.285\n",
      "7. LIWC_Sleep LIWC_AllLike                    0.280\n",
      "8. your friend                                0.277\n",
      "9. tomorrow im                                0.270\n",
      "10. of this                                    0.260\n",
      "11. for me,                                    0.248\n",
      "12. with who                                   0.247\n",
      "13. why can't                                  0.246\n",
      "14. to meet                                    0.243\n",
      "15. LIWC_Swear LIWC_Physcal                    0.234\n",
      "16. so frustrated                              0.232\n",
      "17. fuck                                       0.231\n",
      "18. ctfu                                       0.229\n",
      "19. so upset                                   0.229\n",
      "----------------------------------------------------------------------------------------------------\n"
     ]
    }
   ],
   "source": [
    "for m in moods:\n",
    "    print(\"Top features for\", m)\n",
    "    for i, (w,c) in enumerate(top_features[m][:20]):\n",
    "        print(\"{}. {:<40}{:>8}\".format(i, w, \"%.3f\" % c))\n",
    "    print('-'*100)"
   ]
  },
  {
   "cell_type": "markdown",
   "metadata": {},
   "source": [
    "Cross validation"
   ]
  },
  {
   "cell_type": "code",
   "execution_count": 304,
   "metadata": {
    "collapsed": false,
    "scrolled": false
   },
   "outputs": [],
   "source": [
    "def cv(data, n_folds=10):\n",
    "    results = {}\n",
    "\n",
    "    for m in tqdm_notebook(moods):\n",
    "        y_probs = []\n",
    "        y_preds = []\n",
    "        y_trues = []\n",
    "        for tr, te in tqdm_notebook(KFold(data.shape[0], n_folds, shuffle=True, random_state=123456)):\n",
    "            data_tr, data_te = data.iloc[tr], data.iloc[te]\n",
    "            y_tr, y_te = data_tr[m], data_te[m]\n",
    "            X_tr = plines[m].fit_transform(data_tr.text, y_tr)\n",
    "            X_tr = preprocessing.scale(X_tr.toarray())\n",
    "\n",
    "            X_te = plines[m].transform(data_te.text)\n",
    "            X_te = preprocessing.scale(X_te.toarray())\n",
    "\n",
    "            clf = LogisticRegression(class_weight='balanced')\n",
    "            clf.fit(X_tr, y_tr)\n",
    "            y_prob = clf.predict_proba(X_te)[:,1]\n",
    "            y_pred = clf.predict(X_te)\n",
    "\n",
    "            y_trues.extend(y_te)\n",
    "            y_preds.extend(y_pred)\n",
    "            y_probs.extend(y_prob)\n",
    "    \n",
    "        results[m] = {'y_true': y_trues, 'y_pred': y_preds, 'y_prob': y_probs}\n",
    "    return results"
   ]
  },
  {
   "cell_type": "code",
   "execution_count": null,
   "metadata": {
    "collapsed": false
   },
   "outputs": [],
   "source": [
    "results_cv = cv(mood_tweets_df, 10)"
   ]
  },
  {
   "cell_type": "code",
   "execution_count": 269,
   "metadata": {
    "collapsed": false
   },
   "outputs": [
    {
     "data": {
      "image/png": "[encoded data removed]",
      "text/plain": [
       "<matplotlib.figure.Figure at 0x7f4faa0c6518>"
      ]
     },
     "metadata": {},
     "output_type": "display_data"
    }
   ],
   "source": [
    "def roc_curves(results):\n",
    "    fig, ax = plt.subplots()\n",
    "    for m in moods:\n",
    "        fpr, tpr, thresh =  metrics.roc_curve(results[m]['y_true'], results[m]['y_prob'])\n",
    "        ax.plot(fpr, tpr, label=m)\n",
    "        plt.legend(loc=4)\n",
    "        \n",
    "roc_curves(results_cv)"
   ]
  },
  {
   "cell_type": "code",
   "execution_count": null,
   "metadata": {
    "collapsed": true
   },
   "outputs": [],
   "source": []
  }
 ],
 "metadata": {
  "kernelspec": {
   "display_name": "Python 3",
   "language": "python",
   "name": "python3"
  },
  "nav_menu": {},
  "toc": {
   "navigate_menu": true,
   "number_sections": true,
   "sideBar": true,
   "threshold": 6,
   "toc_cell": false,
   "toc_section_display": "block",
   "toc_window_display": false
  },
  "widgets": {
   "state": {
    "0a9f33b65d874bc1a25e30059b2ff897": {
     "views": [
      {
       "cell_index": 39
      }
     ]
    },
    "17c3efe167044849af60f687a29c259b": {
     "views": [
      {
       "cell_index": 39
      }
     ]
    },
    "213847eea4b64948bd30e40ea1002e07": {
     "views": [
      {
       "cell_index": 39
      }
     ]
    },
    "d9b7328e86e34b47942017109ab7643b": {
     "views": [
      {
       "cell_index": 35
      }
     ]
    }
   },
   "version": "1.2.0"
  }
 },
 "nbformat": 4,
 "nbformat_minor": 0
}
