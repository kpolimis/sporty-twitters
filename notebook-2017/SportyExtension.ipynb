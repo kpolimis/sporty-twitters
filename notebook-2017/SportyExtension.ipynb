{
 "cells": [
  {
   "cell_type": "code",
   "execution_count": 2241,
   "metadata": {
    "collapsed": true
   },
   "outputs": [],
   "source": [
    "import json\n",
    "import pandas as pd\n",
    "import numpy as np\n",
    "import pymongo\n",
    "import os.path\n",
    "import seaborn as sns\n",
    "import re\n",
    "import matplotlib.pyplot as plt\n",
    "import string\n",
    "import scipy.sparse as sp\n",
    "import time\n",
    "\n",
    "from scipy.stats import wilcoxon\n",
    "from tqdm import tqdm, tqdm_notebook, tqdm_pandas\n",
    "from collections import defaultdict, Counter\n",
    "from sklearn.feature_extraction.text import TfidfVectorizer, CountVectorizer\n",
    "from sklearn.feature_selection import SelectKBest, chi2\n",
    "from sklearn.pipeline import Pipeline\n",
    "from sklearn import preprocessing, metrics\n",
    "from sklearn.cross_validation import KFold\n",
    "from sklearn.linear_model import LogisticRegression\n",
    "from sklearn.cluster import KMeans\n",
    "from IPython.display import display\n",
    "\n",
    "tqdm_notebook().pandas()\n",
    "sns.set_context('paper')\n",
    "sns.set_style(\"whitegrid\", {'axes.grid' : False})\n",
    "pd.set_option('display.max_rows', 200)\n",
    "pd.set_option('display.max_columns', 50)\n",
    "\n",
    "%matplotlib inline"
   ]
  },
  {
   "cell_type": "markdown",
   "metadata": {},
   "source": [
    "# Load data"
   ]
  },
  {
   "cell_type": "markdown",
   "metadata": {},
   "source": [
    "## Control and treatment groups"
   ]
  },
  {
   "cell_type": "markdown",
   "metadata": {},
   "source": [
    "###  Load users information"
   ]
  },
  {
   "cell_type": "code",
   "execution_count": 2,
   "metadata": {
    "collapsed": false
   },
   "outputs": [],
   "source": [
    "n_users = pd.read_csv(\"./nosport_users_stats\")\n",
    "s_users = pd.read_csv(\"./sport_users_stats\")\n",
    "\n",
    "for df in [n_users, s_users]:\n",
    "    df.index = df['id']"
   ]
  },
  {
   "cell_type": "code",
   "execution_count": 3,
   "metadata": {
    "collapsed": false
   },
   "outputs": [
    {
     "data": {
      "text/plain": [
       "((1160, 7), (1160, 7))"
      ]
     },
     "execution_count": 3,
     "metadata": {},
     "output_type": "execute_result"
    }
   ],
   "source": [
    "s_users.shape, n_users.shape"
   ]
  },
  {
   "cell_type": "markdown",
   "metadata": {},
   "source": [
    "### Load matches"
   ]
  },
  {
   "cell_type": "markdown",
   "metadata": {},
   "source": [
    "Load matches file."
   ]
  },
  {
   "cell_type": "code",
   "execution_count": 4,
   "metadata": {
    "collapsed": false
   },
   "outputs": [],
   "source": [
    "matches = pd.read_csv(\"/data/1/sporty/users/classification/matches.txt\", header=None, names=['sport', 'nosport'])"
   ]
  },
  {
   "cell_type": "markdown",
   "metadata": {},
   "source": [
    "Some users have been matched twice to a sport users, we remove these duplicate entries here although we missed them in 2014."
   ]
  },
  {
   "cell_type": "code",
   "execution_count": 5,
   "metadata": {
    "collapsed": false
   },
   "outputs": [],
   "source": [
    "matches = matches.drop_duplicates(subset=['nosport'])\n",
    "n_users = n_users.drop_duplicates(subset=['id'])"
   ]
  },
  {
   "cell_type": "markdown",
   "metadata": {},
   "source": [
    "Align users' dataframes."
   ]
  },
  {
   "cell_type": "code",
   "execution_count": 6,
   "metadata": {
    "collapsed": false
   },
   "outputs": [],
   "source": [
    "s_users = s_users.loc[matches.sport.tolist()]\n",
    "s_users.index = np.arange(s_users.shape[0])\n",
    "n_users = n_users.loc[matches.nosport.tolist()]\n",
    "n_users.index = np.arange(n_users.shape[0])"
   ]
  },
  {
   "cell_type": "code",
   "execution_count": 7,
   "metadata": {
    "collapsed": false
   },
   "outputs": [
    {
     "data": {
      "text/plain": [
       "((1153, 7), (1153, 7))"
      ]
     },
     "execution_count": 7,
     "metadata": {},
     "output_type": "execute_result"
    }
   ],
   "source": [
    "s_users.shape, n_users.shape"
   ]
  },
  {
   "cell_type": "markdown",
   "metadata": {},
   "source": [
    "Remove users that are in both groups and their match that we missed last time."
   ]
  },
  {
   "cell_type": "code",
   "execution_count": 8,
   "metadata": {
    "collapsed": false
   },
   "outputs": [],
   "source": [
    "# find users in both groups\n",
    "both_groups = set(s_users['id']) & set(n_users['id'])\n",
    "\n",
    "# find lines with users in both groups\n",
    "s_idx_to_remove = s_users.id.where(s_users.id.apply(lambda _: _ in both_groups)).dropna().index.tolist()\n",
    "n_idx_to_remove = n_users.id.where(n_users.id.apply(lambda _: _ in both_groups)).dropna().index.tolist()\n",
    "idx_to_remove = s_idx_to_remove + n_idx_to_remove\n",
    "\n",
    "# remove lines from users' dataframes\n",
    "s_users = s_users.drop(idx_to_remove, axis=0)\n",
    "n_users = n_users.drop(idx_to_remove, axis=0)"
   ]
  },
  {
   "cell_type": "code",
   "execution_count": 9,
   "metadata": {
    "collapsed": false
   },
   "outputs": [
    {
     "data": {
      "text/plain": [
       "((1137, 7), (1137, 7))"
      ]
     },
     "execution_count": 9,
     "metadata": {},
     "output_type": "execute_result"
    }
   ],
   "source": [
    "s_users.shape, n_users.shape"
   ]
  },
  {
   "cell_type": "markdown",
   "metadata": {},
   "source": [
    "### Load tweets for each user "
   ]
  },
  {
   "cell_type": "markdown",
   "metadata": {},
   "source": [
    "For each user, load scraped tweets, without auto-generated tweets by physical applications, and removing retweets."
   ]
  },
  {
   "cell_type": "code",
   "execution_count": 51,
   "metadata": {
    "collapsed": true
   },
   "outputs": [],
   "source": [
    "def load_tweets(user_id, data_dir, remove_hash=None, keep_rt=False):\n",
    "    user_p = os.path.join(data_dir, user_id)\n",
    "    tweets = []\n",
    "    with open(user_p) as fd:\n",
    "        for l in fd:\n",
    "            o = json.loads(l)\n",
    "            # check for retweets\n",
    "            if not keep_rt and 'retweeted_status' in o:\n",
    "                keep_tw = False\n",
    "            else:\n",
    "                # check for hashtags to avoid\n",
    "                h = set([_['text'].lower() for _ in o['entities']['hashtags']])\n",
    "                keep_tw = remove_hash is None or not (h & set(remove_hash))\n",
    "            \n",
    "            if keep_tw:\n",
    "                tweets.append(o['text'])\n",
    "    return tweets\n",
    "    \n",
    "auto_hash = ['runkeeper', 'nikeplus', 'runtastic', 'endomondo', 'mapmyrun', 'strava', 'cyclemeter', 'fitstats', 'mapmyfitness', 'runmeter']\n",
    "\n",
    "def load_tweets_sport(user_id):\n",
    "    return load_tweets(user_id, \"/data/1/sporty/tweets/from_users/sport/\", remove_hash=auto_hash)\n",
    "    \n",
    "def load_tweets_nosport(user_id):\n",
    "    return load_tweets(user_id, \"/data/1/sporty/tweets/from_users/no_sport/\", remove_hash=auto_hash)"
   ]
  },
  {
   "cell_type": "code",
   "execution_count": 60,
   "metadata": {
    "collapsed": false
   },
   "outputs": [],
   "source": [
    "s_users['tweets'] = s_users.id.astype(str).progress_apply(load_tweets_sport)\n",
    "n_users['tweets'] = n_users.id.astype(str).progress_apply(load_tweets_nosport)"
   ]
  },
  {
   "cell_type": "code",
   "execution_count": 75,
   "metadata": {
    "collapsed": false
   },
   "outputs": [],
   "source": [
    "s_users['tweets_count'] = s_users.tweets.apply(len)\n",
    "n_users['tweets_count'] = n_users.tweets.apply(len)"
   ]
  },
  {
   "cell_type": "markdown",
   "metadata": {},
   "source": [
    "Drop users' (and their match) that have no remaining tweets."
   ]
  },
  {
   "cell_type": "code",
   "execution_count": 594,
   "metadata": {
    "collapsed": false
   },
   "outputs": [],
   "source": [
    "notweets_nidx = n_users.index[n_users.tweets_count == 0].tolist()\n",
    "notweets_sidx = s_users.index[s_users.tweets_count == 0].tolist()\n",
    "notweets_idx = notweets_nidx + notweets_sidx"
   ]
  },
  {
   "cell_type": "code",
   "execution_count": 604,
   "metadata": {
    "collapsed": false
   },
   "outputs": [],
   "source": [
    "s_users = s_users.drop(notweets_idx)\n",
    "n_users = n_users.drop(notweets_idx)"
   ]
  },
  {
   "cell_type": "markdown",
   "metadata": {},
   "source": [
    "## Mood annotated data"
   ]
  },
  {
   "cell_type": "code",
   "execution_count": 86,
   "metadata": {
    "collapsed": false
   },
   "outputs": [
    {
     "name": "stdout",
     "output_type": "stream",
     "text": [
      "\n"
     ]
    }
   ],
   "source": [
    "def load_labeled_mood(p):\n",
    "    tweets = []\n",
    "    with open(p) as fd:\n",
    "        for l in tqdm_notebook(fd):\n",
    "            o = json.loads(l)\n",
    "            tweets.append({k: o[k] for k in ['text', 'AH', 'DD', 'TA']})\n",
    "    return pd.DataFrame(tweets)\n",
    "\n",
    "mood_tweets_df = load_labeled_mood(\"/data/1/sporty/tweets/labeled/3K_labeled\")"
   ]
  },
  {
   "cell_type": "markdown",
   "metadata": {},
   "source": [
    "### Load LIWC lexicon"
   ]
  },
  {
   "cell_type": "code",
   "execution_count": 91,
   "metadata": {
    "code_folding": [
     9
    ],
    "collapsed": true
   },
   "outputs": [],
   "source": [
    "''' Data structure and utility functions for reading and querying a LIWC\n",
    "lexicon. Data described here:\n",
    "http://homepage.psy.utexas.edu/homepage/faculty/pennebaker/reprints/LIWC2001.pdf\n",
    "'''\n",
    "\n",
    "from collections import defaultdict\n",
    "import os\n",
    "\n",
    "\n",
    "class Lexicon(object):\n",
    "    \"\"\"\n",
    "    >>> import tempfile\n",
    "    >>> tf = tempfile.NamedTemporaryFile()\n",
    "    >>> tf.write(\"%\\\\n1\\\\tPronoun\\\\n2\\\\tI\\\\n3\\tGreet\\\\n%\\\\ni\\\\t01 02\\\\nhis\\\\t01\\\\nhi*\\t03\")\n",
    "    >>> tf.flush()\n",
    "    >>> d = Lexicon(tf.name)\n",
    "    >>> d.categories_for_tokens(['i', 'his'])\n",
    "    [[u'Pronoun', u'I'], [u'Pronoun']]\n",
    "    >>> d.categories_for_tokens(['his'])\n",
    "    [[u'Pronoun']]\n",
    "    >>> cts = d.counts_for_tokens(['i', 'his'])\n",
    "    >>> cts[u'I']\n",
    "    1\n",
    "    >>> cts[u'Pronoun']\n",
    "    2\n",
    "    >>> d.categories_for_tokens(['zebra'])\n",
    "    [[]]\n",
    "    >>> d.categories_for_tokens(['hithere'])\n",
    "    [[u'Greet']]\n",
    "    \"\"\"\n",
    "\n",
    "    def __init__(self, dict_file=None):\n",
    "        self.dict_file = dict_file\n",
    "        self.load_dictionary(dict_file)\n",
    "\n",
    "    def parse_categories(self, catText):\n",
    "        lines = catText.split(\"\\n\")\n",
    "        self.categories = {}\n",
    "        for line in lines:\n",
    "            if len(line) > 0:\n",
    "                key, val = line.split()\n",
    "                self.categories[str(key)] = str(val)\n",
    "\n",
    "    def parse_patterns(self, regExps):\n",
    "        lines = regExps.split(\"\\n\")\n",
    "        self.exact_patterns = {}\n",
    "        self.prefix_patterns = {}\n",
    "        for line in lines:\n",
    "            if len(line) > 0 and not line.startswith('//'):\n",
    "                vals = line.split()\n",
    "                exp = vals[0]\n",
    "                ids = [str(int(v)) for v in vals[1:]]\n",
    "                if '*' in exp:\n",
    "                    self.prefix_patterns[exp[:-1]] = ids\n",
    "                else:\n",
    "                    self.exact_patterns[exp] = ids\n",
    "\n",
    "    def load_dictionary(self, dict_file):\n",
    "        dict_text = open(dict_file).read()\n",
    "        as_list = dict_text.split(\"%\")\n",
    "        self.parse_categories(as_list[1])\n",
    "        self.parse_patterns(as_list[2])\n",
    "\n",
    "    def categories_for_token(self, word):\n",
    "        result = []\n",
    "        if word in self.exact_patterns:\n",
    "            result.extend(self.exact_patterns[word])\n",
    "        else:\n",
    "            for i in range(0, len(word)):\n",
    "                if word[:-i] in self.prefix_patterns:\n",
    "                    result.extend(self.prefix_patterns[word[:-i]])\n",
    "        return [self.categories[c] for c in result]\n",
    "\n",
    "    def categories_for_tokens(self, tokens):\n",
    "        \"\"\" Returns a list of lists. For each token, create a list of categories\n",
    "        it belongs to.\"\"\"\n",
    "        return [self.categories_for_token(token) for token in tokens]\n",
    "\n",
    "    def counts_for_tokens(self, tokens):\n",
    "        \"\"\" Returns a dict mapping categories to counts from this list of\n",
    "        tokens. \"\"\"\n",
    "        cats = self.categories_for_tokens(tokens)\n",
    "        d = defaultdict(lambda: 0)\n",
    "        for a in cats:\n",
    "            for b in a:\n",
    "                d[b] += 1\n",
    "        return d\n",
    "    \n",
    "lex = Lexicon(\"./liwc.dic\")"
   ]
  },
  {
   "cell_type": "markdown",
   "metadata": {},
   "source": [
    "###  Load emoticons "
   ]
  },
  {
   "cell_type": "code",
   "execution_count": 115,
   "metadata": {
    "collapsed": false
   },
   "outputs": [],
   "source": [
    "emoticon_df = pd.read_csv(\"emoticons\", sep=\" \", header=None, names=['tag', 'emoticon'], index_col=1)\n",
    "emoticon_dict = emoticon_df.to_dict(orient='dict')['tag']"
   ]
  },
  {
   "cell_type": "markdown",
   "metadata": {},
   "source": [
    "###  Build features encoding"
   ]
  },
  {
   "cell_type": "markdown",
   "metadata": {},
   "source": [
    "Build tokenizer"
   ]
  },
  {
   "cell_type": "code",
   "execution_count": 1043,
   "metadata": {
    "collapsed": false
   },
   "outputs": [],
   "source": [
    "def tokenize(text, keep_hashtags=False, keep_mentions=True, keep_urls=True,\n",
    "             collapse_hashtags=True, collapse_mentions=True, collapse_urls=True, collapse_digits=True, \n",
    "             limit_repeats=True, bigrams=True, liwc=True):\n",
    "    punc = string.punctuation + \"—“\"\n",
    "    text = re.sub(\"\\s+\", \" \", text.lower())\n",
    "    if not keep_hashtags:\n",
    "        text = re.sub('#\\S+', '', text)\n",
    "    elif collapse_hashtags:\n",
    "        text = re.sub('#\\S+', 'HASHTAG', text)\n",
    "    else:\n",
    "        text = re.sub('#(\\S+)', r'HASHTAG_\\1', text)\n",
    "        \n",
    "    if not keep_mentions:\n",
    "        text = re.sub('@\\S+' , '', text)\n",
    "    elif collapse_mentions:\n",
    "        text = re.sub('@\\S+', 'MENTION', text)\n",
    "    \n",
    "    if not keep_urls:\n",
    "        text = re.sub('http\\S+', '', text)\n",
    "    elif collapse_urls:\n",
    "        text = re.sub('http\\S+', 'URL', text)\n",
    "    \n",
    "    if limit_repeats:\n",
    "        text = re.sub(r'(.)\\1\\1\\1+', r'\\1', text)\n",
    "    if collapse_digits:\n",
    "        text = re.sub(r'[0-9]+', 'NUMBER', text)\n",
    "    splits = text.split()\n",
    "    \n",
    "    punc_tokens = []\n",
    "    word_tokens = []\n",
    "    liwc_tokens = []\n",
    "    for tok in splits:\n",
    "        if tok in emoticon_dict:\n",
    "            word_tokens.append(emoticon_dict[tok])\n",
    "        elif keep_mentions and tok[0] == '@':\n",
    "            word_tokens.append(tok)\n",
    "        else:\n",
    "            tok = tok.strip(punc)\n",
    "            if tok:\n",
    "                word_tokens.append(tok)\n",
    "        if liwc:\n",
    "            liwc_tokens.extend([\"LIWC_\" + _ for _ in lex.categories_for_token(tok)])\n",
    "    \n",
    "    liwc_tokens = list(set(liwc_tokens))\n",
    "    bigram_tokens = [\"_\".join(_) for _ in zip(word_tokens, word_tokens[1:])] if bigrams else []\n",
    "    \n",
    "    return word_tokens + bigram_tokens + liwc_tokens"
   ]
  },
  {
   "cell_type": "markdown",
   "metadata": {},
   "source": [
    "### Build classifier for each dimension"
   ]
  },
  {
   "cell_type": "markdown",
   "metadata": {},
   "source": [
    "Apply to 3 mood dimensions."
   ]
  },
  {
   "cell_type": "code",
   "execution_count": 797,
   "metadata": {
    "collapsed": false
   },
   "outputs": [],
   "source": [
    "moods = ['AH', 'DD', 'TA']\n",
    "vecs = {}\n",
    "kbests = {}\n",
    "plines = {}\n",
    "Xs = {}\n",
    "clfs = {}\n",
    "features = {}\n",
    "top_features = {}\n",
    "n_features = 'all'\n",
    "\n",
    "for m in tqdm_notebook(moods):\n",
    "    # build pipeline\n",
    "    vecs[m] = TfidfVectorizer(tokenizer=tokenize, min_df=2, binary=True)\n",
    "    kbests[m] = SelectKBest(chi2, n_features)\n",
    "    plines[m] = pipeline = Pipeline([('tfidf', vecs[m]), ('chi2', kbests[m])])\n",
    "    \n",
    "    # build doc term matrix\n",
    "    y = mood_tweets_df[m]\n",
    "    Xs[m] = plines[m].fit_transform(mood_tweets_df.text, y)\n",
    "    # get labels\n",
    "\n",
    "    # train classifier\n",
    "    clfs[m] = LogisticRegression(class_weight='balanced')\n",
    "    clfs[m].fit(Xs[m],y)\n",
    "    \n",
    "    # retrieve features\n",
    "    support = kbests[m].get_support()\n",
    "    features[m] = np.array(vecs[m].get_feature_names())[support]\n",
    "    top_features[m] = [(features[m][i], clfs[m].coef_[0][i]) for i in clfs[m].coef_[0].argsort()[::-1]]"
   ]
  },
  {
   "cell_type": "markdown",
   "metadata": {},
   "source": [
    "###  Top features for each dimension"
   ]
  },
  {
   "cell_type": "code",
   "execution_count": 800,
   "metadata": {
    "collapsed": false,
    "scrolled": true
   },
   "outputs": [
    {
     "name": "stdout",
     "output_type": "stream",
     "text": [
      "Top features for AH\n",
      "    0. LIWC_Anger..............................4.666\n",
      "    1. hate....................................3.326\n",
      "    2. LIWC_Swear..............................3.254\n",
      "    3. dumb....................................3.114\n",
      "    4. your....................................2.797\n",
      "    5. upset...................................2.745\n",
      "    6. fuck....................................2.419\n",
      "    7. LIWC_Negemo.............................2.386\n",
      "    8. rude....................................2.295\n",
      "    9. bitch...................................2.291\n",
      "   10. irritated...............................2.283\n",
      "   11. shit....................................2.113\n",
      "   12. shut....................................2.105\n",
      "   13. fucking.................................2.016\n",
      "   14. ignorant................................1.865\n",
      "   15. why.....................................1.763\n",
      "   16. stupid..................................1.703\n",
      "   17. being...................................1.698\n",
      "   18. freakin.................................1.672\n",
      "   19. lame....................................1.667\n",
      "----------------------------------------------------------------------------------------------------\n",
      "Top features for DD\n",
      "    0. LIWC_Sad................................4.472\n",
      "    1. LIWC_Sleep..............................3.387\n",
      "    2. LIWC_Negemo.............................3.026\n",
      "    3. bored...................................2.493\n",
      "    4. weak....................................2.318\n",
      "    5. sick....................................2.120\n",
      "    6. LIWC_I..................................2.119\n",
      "    7. tired...................................2.078\n",
      "    8. being...................................1.998\n",
      "    9. day.....................................1.974\n",
      "   10. i'm.....................................1.900\n",
      "   11. i.......................................1.824\n",
      "   12. lazy....................................1.812\n",
      "   13. sleepy..................................1.767\n",
      "   14. exhausted...............................1.714\n",
      "   15. LIWC_Self...............................1.673\n",
      "   16. depressing..............................1.643\n",
      "   17. annoying................................1.639\n",
      "   18. boring..................................1.627\n",
      "   19. im......................................1.603\n",
      "----------------------------------------------------------------------------------------------------\n",
      "Top features for TA\n",
      "    0. LIWC_Anger..............................3.383\n",
      "    1. fuck....................................2.532\n",
      "    2. nervous.................................2.342\n",
      "    3. LIWC_Negemo.............................2.285\n",
      "    4. rude....................................2.261\n",
      "    5. LIWC_Swear..............................2.025\n",
      "    6. lame....................................1.963\n",
      "    7. gross...................................1.891\n",
      "    8. being...................................1.844\n",
      "    9. gonna...................................1.799\n",
      "   10. so......................................1.784\n",
      "   11. LIWC_Anx................................1.777\n",
      "   12. upset...................................1.773\n",
      "   13. shut....................................1.752\n",
      "   14. irritated...............................1.684\n",
      "   15. this_is.................................1.636\n",
      "   16. LIWC_Negate.............................1.590\n",
      "   17. your....................................1.545\n",
      "   18. me......................................1.529\n",
      "   19. shit....................................1.484\n",
      "----------------------------------------------------------------------------------------------------\n"
     ]
    }
   ],
   "source": [
    "for m in moods:\n",
    "    print(\"Top features for\", m)\n",
    "    for i, (w,c) in enumerate(top_features[m][:20]):\n",
    "        print(\"{:>5}. {:.<40}{:>4}\".format(i, w, \"%.3f\" % c))\n",
    "    print('-'*100)"
   ]
  },
  {
   "cell_type": "markdown",
   "metadata": {},
   "source": [
    "### Cross validation"
   ]
  },
  {
   "cell_type": "code",
   "execution_count": 801,
   "metadata": {
    "collapsed": false,
    "scrolled": false
   },
   "outputs": [],
   "source": [
    "def cv(data, n_folds=10):\n",
    "    results = {}\n",
    "\n",
    "    for m in tqdm_notebook(moods):\n",
    "        y_probs = []\n",
    "        y_preds = []\n",
    "        y_trues = []\n",
    "        for tr, te in tqdm_notebook(KFold(data.shape[0], n_folds, shuffle=True, random_state=123456)):\n",
    "            data_tr, data_te = data.iloc[tr], data.iloc[te]\n",
    "            y_tr, y_te = data_tr[m], data_te[m]\n",
    "            X_tr = plines[m].fit_transform(data_tr.text, y_tr)\n",
    "\n",
    "            X_te = plines[m].transform(data_te.text)\n",
    "\n",
    "            clf = LogisticRegression(class_weight='balanced')\n",
    "            clf.fit(X_tr, y_tr)\n",
    "            y_prob = clf.predict_proba(X_te)[:,1]\n",
    "            y_pred = clf.predict(X_te)\n",
    "\n",
    "            y_trues.extend(y_te)\n",
    "            y_preds.extend(y_pred)\n",
    "            y_probs.extend(y_prob)\n",
    "    \n",
    "        results[m] = {'y_true': y_trues, 'y_pred': y_preds, 'y_prob': y_probs}\n",
    "    return results"
   ]
  },
  {
   "cell_type": "code",
   "execution_count": 802,
   "metadata": {
    "collapsed": false
   },
   "outputs": [],
   "source": [
    "results_cv = cv(mood_tweets_df, 10)"
   ]
  },
  {
   "cell_type": "markdown",
   "metadata": {},
   "source": [
    "ROC curves for each dimension."
   ]
  },
  {
   "cell_type": "code",
   "execution_count": 828,
   "metadata": {
    "collapsed": false
   },
   "outputs": [
    {
     "name": "stdout",
     "output_type": "stream",
     "text": [
      "AH ROC AUC: 0.863\n",
      "DD ROC AUC: 0.846\n",
      "TA ROC AUC: 0.824\n"
     ]
    },
    {
     "data": {
      "image/png": "[encoded data removed]",
      "text/plain": [
       "<matplotlib.figure.Figure at 0x7f4f68562e10>"
      ]
     },
     "metadata": {},
     "output_type": "display_data"
    }
   ],
   "source": [
    "def roc_curves(results):\n",
    "    fig, ax = plt.subplots(figsize=(8,6))\n",
    "    colors = ['r','g','b']\n",
    "    for m, c in zip(moods,colors):\n",
    "        fpr, tpr, thresh = metrics.roc_curve(results[m]['y_true'], results[m]['y_prob'], drop_intermediate=True)\n",
    "        ax.plot(fpr, tpr, label=m, color=c, alpha=0.7)\n",
    "        ax.plot(fpr, thresh, label=m + \" threshold\", linestyle='-.', color=c)\n",
    "        plt.legend(loc=4)\n",
    "        print(\"%s ROC AUC: %.3f\" % (m, metrics.roc_auc_score(results[m]['y_true'], results[m]['y_prob'])))\n",
    "    ax.set_ylim([0,1])\n",
    "    ax.set_xlabel(\"fpr\")\n",
    "    ax.set_ylabel(\"tpr\")\n",
    "    ax.plot([0,1],[0,1], color='k', linestyle='--', linewidth=0.5)\n",
    "        \n",
    "roc_curves(results_cv)"
   ]
  },
  {
   "cell_type": "markdown",
   "metadata": {},
   "source": [
    "Precision recall curve for each dimension."
   ]
  },
  {
   "cell_type": "code",
   "execution_count": 829,
   "metadata": {
    "collapsed": false
   },
   "outputs": [
    {
     "data": {
      "image/png": "[encoded data removed]",
      "text/plain": [
       "<matplotlib.figure.Figure at 0x7f4f685882b0>"
      ]
     },
     "metadata": {},
     "output_type": "display_data"
    }
   ],
   "source": [
    "def prec_rec_curves(results):\n",
    "    fig, ax = plt.subplots(figsize=(8,6))\n",
    "    colors = ['r','g','b']\n",
    "    for m, c in zip(moods,colors):\n",
    "        prec, rec, thresh = metrics.precision_recall_curve(results[m]['y_true'], results[m]['y_prob'], pos_label=1)\n",
    "        thresh = np.hstack([thresh, [1]])\n",
    "        ax.plot(rec, prec, label=m, color=c, alpha=0.7)\n",
    "        ax.plot(rec, thresh, label=m + \" threshold\", linestyle='-.', color=c)\n",
    "        plt.legend(loc=7)\n",
    "    ax.set_ylim([0,1])\n",
    "    ax.set_xlabel('rec')\n",
    "    ax.set_ylabel('prec')\n",
    "        \n",
    "prec_rec_curves(results_cv)"
   ]
  },
  {
   "cell_type": "markdown",
   "metadata": {},
   "source": [
    "Pick threshold for best precision (tp/(tp+fp)), minimize false positives."
   ]
  },
  {
   "cell_type": "code",
   "execution_count": 809,
   "metadata": {
    "collapsed": false
   },
   "outputs": [
    {
     "name": "stdout",
     "output_type": "stream",
     "text": [
      "AH\n",
      "341\n",
      "             precision    recall  f1-score   support\n",
      "\n",
      "          0       0.96      0.91      0.93      2138\n",
      "          1       0.40      0.60      0.48       229\n",
      "\n",
      "avg / total       0.90      0.88      0.89      2367\n",
      "\n",
      "DD\n",
      "546\n",
      "             precision    recall  f1-score   support\n",
      "\n",
      "          0       0.93      0.85      0.89      1998\n",
      "          1       0.44      0.64      0.52       369\n",
      "\n",
      "avg / total       0.85      0.81      0.83      2367\n",
      "\n",
      "TA\n",
      "555\n",
      "             precision    recall  f1-score   support\n",
      "\n",
      "          0       0.92      0.84      0.88      1986\n",
      "          1       0.42      0.61      0.50       381\n",
      "\n",
      "avg / total       0.84      0.80      0.82      2367\n",
      "\n"
     ]
    }
   ],
   "source": [
    "thresholds = {'AH': .5, 'DD': .5, 'TA': .5}\n",
    "# thresholds = {'AH': .1, 'DD': .22, 'TA': .18}\n",
    "# thresholds = {'AH': .6, 'DD': .6, 'TA': .6}\n",
    "# thresholds = {'AH': .99, 'DD': .99, 'TA': .99}\n",
    "\n",
    "for m in moods:\n",
    "    print(m)\n",
    "    t = thresholds[m]\n",
    "    y_pred_thresh = (np.array(results_cv[m]['y_prob']) > t).astype(int)\n",
    "    print(y_pred_thresh.sum())\n",
    "    print(metrics.classification_report(results_cv[m]['y_true'], y_pred_thresh))"
   ]
  },
  {
   "cell_type": "markdown",
   "metadata": {},
   "source": [
    "## Annotate users from treatment and control groups."
   ]
  },
  {
   "cell_type": "markdown",
   "metadata": {},
   "source": [
    "Train classifiers on the all the annotated instances."
   ]
  },
  {
   "cell_type": "code",
   "execution_count": 810,
   "metadata": {
    "collapsed": false
   },
   "outputs": [],
   "source": [
    "moods = ['AH', 'DD', 'TA']\n",
    "vecs = {}\n",
    "kbests = {}\n",
    "plines = {}\n",
    "Xs = {}\n",
    "clfs = {}\n",
    "features = {}\n",
    "top_features = {}\n",
    "n_features = 160\n",
    "\n",
    "for m in tqdm_notebook(moods):\n",
    "    # build pipeline\n",
    "    vecs[m] = TfidfVectorizer(tokenizer=tokenize, min_df=3, max_df=0.95)\n",
    "    kbests[m] = SelectKBest(chi2, n_features)\n",
    "    plines[m] = pipeline = Pipeline([('tfidf', vecs[m]), ('chi2', kbests[m])])\n",
    "    \n",
    "    # build doc term matrix\n",
    "    y = mood_tweets_df[m]\n",
    "    Xs[m] = plines[m].fit_transform(mood_tweets_df.text, y)\n",
    "    # get labels\n",
    "\n",
    "    # train classifier\n",
    "    clfs[m] = LogisticRegression(class_weight='balanced')\n",
    "    clfs[m].fit(Xs[m],y)\n",
    "    \n",
    "    # retrieve features\n",
    "    support = kbests[m].get_support()\n",
    "    features[m] = np.array(vecs[m].get_feature_names())[support]\n",
    "    top_features[m] = [(features[m][i], clfs[m].coef_[0][i]) for i in clfs[m].coef_[0].argsort()[::-1]]"
   ]
  },
  {
   "cell_type": "markdown",
   "metadata": {},
   "source": [
    "Build termdoc matrix for each user."
   ]
  },
  {
   "cell_type": "code",
   "execution_count": 811,
   "metadata": {
    "collapsed": false
   },
   "outputs": [],
   "source": [
    "for m in tqdm_notebook(moods):\n",
    "    f = lambda _: plines[m].transform(_)\n",
    "    n_users['termdoc_' + m] = n_users.tweets.progress_apply(f)\n",
    "    s_users['termdoc_' + m] = s_users.tweets.progress_apply(f)"
   ]
  },
  {
   "cell_type": "markdown",
   "metadata": {},
   "source": [
    "Scale termdoc matrix and compute probability of each class for each user."
   ]
  },
  {
   "cell_type": "code",
   "execution_count": 812,
   "metadata": {
    "collapsed": false
   },
   "outputs": [],
   "source": [
    "for m in tqdm_notebook(moods):\n",
    "    f = lambda _: clfs[m].predict_proba(_)\n",
    "    n_users['prob_' + m] = n_users['termdoc_' + m].progress_apply(f)\n",
    "    s_users['prob_' + m] = s_users['termdoc_' + m].progress_apply(f)    "
   ]
  },
  {
   "cell_type": "markdown",
   "metadata": {},
   "source": [
    "Compute average score for each user."
   ]
  },
  {
   "cell_type": "code",
   "execution_count": 813,
   "metadata": {
    "collapsed": false
   },
   "outputs": [],
   "source": [
    "f = lambda _: np.mean(_[:,1])\n",
    "\n",
    "for m in tqdm_notebook(moods):\n",
    "    n_users['avg_prob_' + m] = n_users['prob_' + m].apply(f)\n",
    "    s_users['avg_prob_' + m] = s_users['prob_' + m].apply(f)"
   ]
  },
  {
   "cell_type": "code",
   "execution_count": 827,
   "metadata": {
    "collapsed": false
   },
   "outputs": [
    {
     "data": {
      "text/plain": [
       "<matplotlib.axes._subplots.AxesSubplot at 0x7f4f749fc8d0>"
      ]
     },
     "execution_count": 827,
     "metadata": {},
     "output_type": "execute_result"
    },
    {
     "data": {
      "image/png": "[encoded data removed]",
      "text/plain": [
       "<matplotlib.figure.Figure at 0x7f4f68613c88>"
      ]
     },
     "metadata": {},
     "output_type": "display_data"
    }
   ],
   "source": [
    "compare_avg_df = pd.DataFrame()\n",
    "for m in moods:\n",
    "    compare_avg_df['match_' + m] = n_users['avg_prob_' + m]\n",
    "    compare_avg_df['sport_' + m] = s_users['avg_prob_' + m]\n",
    "#     compare_avg_df['diff_' + m] = n_users['avg_prob_' + m] - s_users['avg_prob_' + m]\n",
    "    \n",
    "compare_avg_df.plot(kind='box', figsize=(8,6))#, ylim=[-0.1,.22])"
   ]
  },
  {
   "cell_type": "markdown",
   "metadata": {},
   "source": [
    "Percent change"
   ]
  },
  {
   "cell_type": "code",
   "execution_count": 819,
   "metadata": {
    "collapsed": false
   },
   "outputs": [
    {
     "name": "stdout",
     "output_type": "stream",
     "text": [
      "Dimension AH: -6.48% Change, p-value = 1.76e-22\n",
      "Dimension DD: -3.64% Change, p-value = 4.84e-06\n",
      "Dimension TA: -7.05% Change, p-value = 3.29e-16\n"
     ]
    }
   ],
   "source": [
    "def perc_change(before, after):\n",
    "    return 100 * (after - before) / before\n",
    "\n",
    "for m in moods:\n",
    "    before = n_users['avg_prob_' + m].mean()\n",
    "    after = s_users['avg_prob_' + m].mean()\n",
    "    w, p = wilcoxon(n_users['avg_prob_' + m], s_users['avg_prob_' + m])\n",
    "    print(\"Dimension {}: {}% Change, p-value = {}\".format(m, \"%.2f\" % perc_change(before, after), \"%.3g\" % p))"
   ]
  },
  {
   "cell_type": "markdown",
   "metadata": {},
   "source": [
    "Compute prediction for each tweets for each user given a threshold for each dimension."
   ]
  },
  {
   "cell_type": "code",
   "execution_count": 820,
   "metadata": {
    "collapsed": false
   },
   "outputs": [],
   "source": [
    "thresholds = {'AH': .5, 'DD': .5, 'TA': .5}\n",
    "\n",
    "for m in tqdm_notebook(moods):\n",
    "    t = thresholds[m]\n",
    "    f = lambda _: (_[:, 1] > t).astype(int)\n",
    "    n_users['pred_' + m] = n_users['prob_' + m].apply(f)\n",
    "    s_users['pred_' + m] = s_users['prob_' + m].apply(f)"
   ]
  },
  {
   "cell_type": "markdown",
   "metadata": {},
   "source": [
    "Compute ratio of positive tweets for each dimension and each user."
   ]
  },
  {
   "cell_type": "code",
   "execution_count": 822,
   "metadata": {
    "collapsed": false
   },
   "outputs": [],
   "source": [
    "f = lambda _: np.sum(_)/np.shape(_)[0]\n",
    "for m in tqdm_notebook(moods):\n",
    "    n_users['ratio_pos_' + m] = n_users['pred_' + m].apply(f)\n",
    "    s_users['ratio_pos_' + m] = s_users['pred_' + m].apply(f)    "
   ]
  },
  {
   "cell_type": "code",
   "execution_count": 826,
   "metadata": {
    "collapsed": false
   },
   "outputs": [
    {
     "data": {
      "text/plain": [
       "<matplotlib.axes._subplots.AxesSubplot at 0x7f4f68b4f898>"
      ]
     },
     "execution_count": 826,
     "metadata": {},
     "output_type": "execute_result"
    },
    {
     "data": {
      "image/png": "[encoded data removed]",
      "text/plain": [
       "<matplotlib.figure.Figure at 0x7f4f749fc550>"
      ]
     },
     "metadata": {},
     "output_type": "display_data"
    }
   ],
   "source": [
    "compare_ratio_df = pd.DataFrame()\n",
    "for m in moods:\n",
    "    compare_ratio_df['match_' + m] = n_users['ratio_pos_' + m]\n",
    "    compare_ratio_df['sport_' + m] = s_users['ratio_pos_' + m]\n",
    "#     compare_ratio_df['diff_' + m] = n_users['ratio_pos_' + m] - s_users['ratio_pos_' + m]\n",
    "    \n",
    "compare_ratio_df.plot(kind='box', figsize=(8,6), ylim=[0,.2])"
   ]
  },
  {
   "cell_type": "markdown",
   "metadata": {
    "collapsed": true
   },
   "source": [
    "# Topic analysis "
   ]
  },
  {
   "cell_type": "markdown",
   "metadata": {},
   "source": [
    "## Clustering helpers"
   ]
  },
  {
   "cell_type": "code",
   "execution_count": 522,
   "metadata": {
    "collapsed": false
   },
   "outputs": [],
   "source": [
    "def kmeans_top_fts(kmeans, X, feature_names, n_top_features):\n",
    "    df = pd.DataFrame()\n",
    "    X_sum = X.sum(axis=0).A1\n",
    "    for cl_i in range(kmeans.n_clusters):\n",
    "        in_cluster_i = np.where(kmeans.labels_ == cl_i)\n",
    "        X_sum_i = X[in_cluster_i].sum(axis=0).A1\n",
    "        top_fts_idx = np.argsort(X_sum_i)[::-1]\n",
    "        df['cluster_%d' % (cl_i + 1)] = feature_names[top_fts_idx][:n_top_features]\n",
    "    \n",
    "    return df"
   ]
  },
  {
   "cell_type": "code",
   "execution_count": 465,
   "metadata": {
    "collapsed": true
   },
   "outputs": [],
   "source": [
    "def cluster_users_tweets(users, col='tweets', n_clusters=10, max_iter=10, n_words=50, seed=123456, stop_words='english',\n",
    "                         tokenize_kwargs=dict(keep_hashtags=True, collapse_hashtags=False, keep_mentions=False, keep_urls=False, bigrams=False, liwc=False)):\n",
    "    t0 = time.time()\n",
    "    print(\"Vectorize data...\")\n",
    "    vec = TfidfVectorizer(analyzer='word', tokenizer=lambda _: tokenize(_, **tokenize_kwargs),\n",
    "                          binary=True, min_df=3, max_df=.95, max_features=50000, stop_words=stop_words)\n",
    "    col_obj = users[col] if type(col) is str else col\n",
    "    X = vec.fit_transform(col_obj.apply(lambda _: \" \".join(_)))\n",
    "    t1 = time.time()\n",
    "    print(\"Done in %.2fs.\" % (t1-t0))\n",
    "    feature_names = np.array(vec.get_feature_names())\n",
    "    print(\"%d features.\" % len(feature_names))\n",
    "    print(\"Run KMeans clustering...\")\n",
    "    kmeans = KMeans(n_clusters=n_clusters, max_iter=max_iter, random_state=seed)\n",
    "    kmeans.fit(X)\n",
    "    t2 = time.time()\n",
    "    print(\"Done in %.2fs.\" % (t2-t1))\n",
    "    \n",
    "    return vec, feature_names, X, kmeans, kmeans_top_fts(kmeans, X, feature_names, n_words)"
   ]
  },
  {
   "cell_type": "markdown",
   "metadata": {},
   "source": [
    "## Load food-related datasets"
   ]
  },
  {
   "cell_type": "markdown",
   "metadata": {},
   "source": [
    "### FooDB dataset"
   ]
  },
  {
   "cell_type": "code",
   "execution_count": 1044,
   "metadata": {
    "collapsed": false
   },
   "outputs": [],
   "source": [
    "foodb_foods = pd.read_csv(\"foodb_2016-11-18/foods.csv\", escapechar=\"\\\\\")\n",
    "colors = set(['blue', 'red', 'green', 'yellow', 'orange', 'white', 'black'])\n",
    "food_parts = foodb_foods.name.str.lower()\\\n",
    "                        .apply(lambda _: re.sub(r'[%s]' % re.escape(string.punctuation), \"\", _).split())\\\n",
    "                        .apply(lambda _: \"_\".join([x for x in _ if x not in colors]))"
   ]
  },
  {
   "cell_type": "code",
   "execution_count": 1045,
   "metadata": {
    "collapsed": false
   },
   "outputs": [],
   "source": [
    "foodb_flavors = pd.read_csv(\"foodb_2016-11-18/flavors.csv\")\n",
    "flavor_parts = foodb_flavors.name.str.lower()\\\n",
    "                        .apply(lambda _: re.sub(r'[%s]' % re.escape(string.punctuation), \"\", _).split())\\\n",
    "                        .apply(lambda _: \"_\".join([x for x in _ if x not in colors]))"
   ]
  },
  {
   "cell_type": "code",
   "execution_count": 1800,
   "metadata": {
    "collapsed": false
   },
   "outputs": [],
   "source": [
    "foodb_words = set(food_parts)# | set(flavor_parts.unique())"
   ]
  },
  {
   "cell_type": "markdown",
   "metadata": {},
   "source": [
    "### Filter using FooDB keywords and keywords from Weber's paper"
   ]
  },
  {
   "cell_type": "code",
   "execution_count": 1802,
   "metadata": {
    "code_folding": [],
    "collapsed": false
   },
   "outputs": [],
   "source": [
    "def load_weber_lexicon(p):\n",
    "    line_sep = \"===\"\n",
    "    add_to_df = False\n",
    "    collected = []\n",
    "    with open(p) as fd:\n",
    "        for l in fd:\n",
    "            l = l.strip()\n",
    "            if l:\n",
    "                if l.startswith(line_sep):\n",
    "                    add_to_df = not add_to_df\n",
    "                    continue\n",
    "                if add_to_df:\n",
    "                    collected.append(l.strip().split('\\t'))\n",
    "    df = pd.DataFrame(collected, columns=['food_name', 'avg_cal_per_serving', 'food_cat'])\n",
    "    df['food_name'] = df.food_name.apply(lambda _: \"_\".join(_.split()))\n",
    "    df.avg_cal_per_serving.astype(float, inplace=True)\n",
    "    return df\n",
    "\n",
    "weber_lexicon = set(load_weber_lexicon(\"./twitter_food_calorie_lexicon.txt\").food_name)\n",
    "weber_df = load_weber_lexicon(\"./twitter_food_calorie_lexicon.txt\")"
   ]
  },
  {
   "cell_type": "code",
   "execution_count": 1803,
   "metadata": {
    "collapsed": false
   },
   "outputs": [
    {
     "data": {
      "text/html": [
       "<div>\n",
       "<table border=\"1\" class=\"dataframe\">\n",
       "  <thead>\n",
       "    <tr style=\"text-align: right;\">\n",
       "      <th></th>\n",
       "      <th>food_name</th>\n",
       "      <th>avg_cal_per_serving</th>\n",
       "      <th>food_cat</th>\n",
       "    </tr>\n",
       "  </thead>\n",
       "  <tbody>\n",
       "    <tr>\n",
       "      <th>0</th>\n",
       "      <td>pizza</td>\n",
       "      <td>477.8</td>\n",
       "      <td>Fast Foods</td>\n",
       "    </tr>\n",
       "    <tr>\n",
       "      <th>1</th>\n",
       "      <td>tea</td>\n",
       "      <td>16.84</td>\n",
       "      <td>Beverages</td>\n",
       "    </tr>\n",
       "    <tr>\n",
       "      <th>2</th>\n",
       "      <td>coffee</td>\n",
       "      <td>34.4</td>\n",
       "      <td>Beverages</td>\n",
       "    </tr>\n",
       "    <tr>\n",
       "      <th>3</th>\n",
       "      <td>ice_cream</td>\n",
       "      <td>157.24</td>\n",
       "      <td>Dairy</td>\n",
       "    </tr>\n",
       "    <tr>\n",
       "      <th>4</th>\n",
       "      <td>icecream</td>\n",
       "      <td>157.24</td>\n",
       "      <td>Dairy</td>\n",
       "    </tr>\n",
       "    <tr>\n",
       "      <th>5</th>\n",
       "      <td>sour_cream</td>\n",
       "      <td>67.24</td>\n",
       "      <td>Dairy</td>\n",
       "    </tr>\n",
       "    <tr>\n",
       "      <th>6</th>\n",
       "      <td>chicken</td>\n",
       "      <td>488.12</td>\n",
       "      <td>Poultry</td>\n",
       "    </tr>\n",
       "    <tr>\n",
       "      <th>7</th>\n",
       "      <td>cheese</td>\n",
       "      <td>176.64</td>\n",
       "      <td>Dairy</td>\n",
       "    </tr>\n",
       "    <tr>\n",
       "      <th>8</th>\n",
       "      <td>cola</td>\n",
       "      <td>65.84</td>\n",
       "      <td>Beverages</td>\n",
       "    </tr>\n",
       "    <tr>\n",
       "      <th>9</th>\n",
       "      <td>egg</td>\n",
       "      <td>147.76</td>\n",
       "      <td>Dairy</td>\n",
       "    </tr>\n",
       "    <tr>\n",
       "      <th>10</th>\n",
       "      <td>ham</td>\n",
       "      <td>128.2</td>\n",
       "      <td>Meats</td>\n",
       "    </tr>\n",
       "    <tr>\n",
       "      <th>11</th>\n",
       "      <td>tart</td>\n",
       "      <td>292.08</td>\n",
       "      <td>Sweets</td>\n",
       "    </tr>\n",
       "    <tr>\n",
       "      <th>12</th>\n",
       "      <td>wine</td>\n",
       "      <td>76.52</td>\n",
       "      <td>Alcoholic Beverages</td>\n",
       "    </tr>\n",
       "    <tr>\n",
       "      <th>13</th>\n",
       "      <td>beer</td>\n",
       "      <td>119.24</td>\n",
       "      <td>Alcoholic Beverages</td>\n",
       "    </tr>\n",
       "    <tr>\n",
       "      <th>14</th>\n",
       "      <td>corn</td>\n",
       "      <td>168.72</td>\n",
       "      <td>Cereal Grains and Pasta</td>\n",
       "    </tr>\n",
       "    <tr>\n",
       "      <th>15</th>\n",
       "      <td>rice</td>\n",
       "      <td>159.16</td>\n",
       "      <td>Cereal Grains and Pasta</td>\n",
       "    </tr>\n",
       "    <tr>\n",
       "      <th>16</th>\n",
       "      <td>bacon</td>\n",
       "      <td>121.8</td>\n",
       "      <td>Meats</td>\n",
       "    </tr>\n",
       "    <tr>\n",
       "      <th>17</th>\n",
       "      <td>soup</td>\n",
       "      <td>117.6</td>\n",
       "      <td>Soups</td>\n",
       "    </tr>\n",
       "    <tr>\n",
       "      <th>18</th>\n",
       "      <td>milk</td>\n",
       "      <td>198.56</td>\n",
       "      <td>Dairy</td>\n",
       "    </tr>\n",
       "    <tr>\n",
       "      <th>19</th>\n",
       "      <td>rib</td>\n",
       "      <td>383.84</td>\n",
       "      <td>Meats</td>\n",
       "    </tr>\n",
       "    <tr>\n",
       "      <th>20</th>\n",
       "      <td>pea</td>\n",
       "      <td>65.36</td>\n",
       "      <td>Vegetables</td>\n",
       "    </tr>\n",
       "    <tr>\n",
       "      <th>21</th>\n",
       "      <td>snack</td>\n",
       "      <td>132.88</td>\n",
       "      <td>Snacks</td>\n",
       "    </tr>\n",
       "    <tr>\n",
       "      <th>22</th>\n",
       "      <td>sauce</td>\n",
       "      <td>62.12</td>\n",
       "      <td>Soups</td>\n",
       "    </tr>\n",
       "    <tr>\n",
       "      <th>23</th>\n",
       "      <td>cereal</td>\n",
       "      <td>152.4</td>\n",
       "      <td>Breakfast Cereals</td>\n",
       "    </tr>\n",
       "    <tr>\n",
       "      <th>24</th>\n",
       "      <td>banana</td>\n",
       "      <td>101.869</td>\n",
       "      <td>Fruits</td>\n",
       "    </tr>\n",
       "    <tr>\n",
       "      <th>25</th>\n",
       "      <td>cookie</td>\n",
       "      <td>215.88</td>\n",
       "      <td>Sweets</td>\n",
       "    </tr>\n",
       "    <tr>\n",
       "      <th>26</th>\n",
       "      <td>meat</td>\n",
       "      <td>194.08</td>\n",
       "      <td>Meats</td>\n",
       "    </tr>\n",
       "    <tr>\n",
       "      <th>27</th>\n",
       "      <td>fish</td>\n",
       "      <td>230.68</td>\n",
       "      <td>Seafood</td>\n",
       "    </tr>\n",
       "    <tr>\n",
       "      <th>28</th>\n",
       "      <td>fruit</td>\n",
       "      <td>91.36</td>\n",
       "      <td>Fruits</td>\n",
       "    </tr>\n",
       "    <tr>\n",
       "      <th>29</th>\n",
       "      <td>chocolate</td>\n",
       "      <td>139.2</td>\n",
       "      <td>Sweets</td>\n",
       "    </tr>\n",
       "    <tr>\n",
       "      <th>30</th>\n",
       "      <td>fast_food</td>\n",
       "      <td>409.1666666666667</td>\n",
       "      <td>Fast Foods</td>\n",
       "    </tr>\n",
       "    <tr>\n",
       "      <th>31</th>\n",
       "      <td>potatoes</td>\n",
       "      <td>128.72</td>\n",
       "      <td>Vegetables</td>\n",
       "    </tr>\n",
       "    <tr>\n",
       "      <th>32</th>\n",
       "      <td>peanut</td>\n",
       "      <td>164.32</td>\n",
       "      <td>Nuts</td>\n",
       "    </tr>\n",
       "    <tr>\n",
       "      <th>33</th>\n",
       "      <td>oat</td>\n",
       "      <td>187.84</td>\n",
       "      <td>Cereal Grains and Pasta</td>\n",
       "    </tr>\n",
       "    <tr>\n",
       "      <th>34</th>\n",
       "      <td>beef</td>\n",
       "      <td>181.36</td>\n",
       "      <td>Meats</td>\n",
       "    </tr>\n",
       "    <tr>\n",
       "      <th>35</th>\n",
       "      <td>chili</td>\n",
       "      <td>156.76</td>\n",
       "      <td>Soups</td>\n",
       "    </tr>\n",
       "    <tr>\n",
       "      <th>36</th>\n",
       "      <td>vanilla</td>\n",
       "      <td>128.12</td>\n",
       "      <td>Spices and Herbs</td>\n",
       "    </tr>\n",
       "    <tr>\n",
       "      <th>37</th>\n",
       "      <td>strawberry</td>\n",
       "      <td>109.6</td>\n",
       "      <td>Fruits</td>\n",
       "    </tr>\n",
       "    <tr>\n",
       "      <th>38</th>\n",
       "      <td>butter</td>\n",
       "      <td>124.6</td>\n",
       "      <td>Dairy</td>\n",
       "    </tr>\n",
       "    <tr>\n",
       "      <th>39</th>\n",
       "      <td>pumpkin</td>\n",
       "      <td>110.28</td>\n",
       "      <td>Vegetables</td>\n",
       "    </tr>\n",
       "    <tr>\n",
       "      <th>40</th>\n",
       "      <td>hot_dog</td>\n",
       "      <td>259.44</td>\n",
       "      <td>Fast Foods</td>\n",
       "    </tr>\n",
       "    <tr>\n",
       "      <th>41</th>\n",
       "      <td>sausage</td>\n",
       "      <td>266.88</td>\n",
       "      <td>Meats</td>\n",
       "    </tr>\n",
       "    <tr>\n",
       "      <th>42</th>\n",
       "      <td>ginger</td>\n",
       "      <td>51.32</td>\n",
       "      <td>Spices and Herbs</td>\n",
       "    </tr>\n",
       "    <tr>\n",
       "      <th>43</th>\n",
       "      <td>pork</td>\n",
       "      <td>181.56</td>\n",
       "      <td>Meats</td>\n",
       "    </tr>\n",
       "    <tr>\n",
       "      <th>44</th>\n",
       "      <td>chocolate_covered</td>\n",
       "      <td>174.92</td>\n",
       "      <td>Sweets</td>\n",
       "    </tr>\n",
       "    <tr>\n",
       "      <th>45</th>\n",
       "      <td>potato</td>\n",
       "      <td>128.72</td>\n",
       "      <td>Vegetables</td>\n",
       "    </tr>\n",
       "    <tr>\n",
       "      <th>46</th>\n",
       "      <td>pasta</td>\n",
       "      <td>342.84</td>\n",
       "      <td>Cereal Grains and Pasta</td>\n",
       "    </tr>\n",
       "    <tr>\n",
       "      <th>47</th>\n",
       "      <td>strawberries</td>\n",
       "      <td>109.6</td>\n",
       "      <td>Fruits</td>\n",
       "    </tr>\n",
       "    <tr>\n",
       "      <th>48</th>\n",
       "      <td>crackers</td>\n",
       "      <td>55.88</td>\n",
       "      <td>Baked Products</td>\n",
       "    </tr>\n",
       "    <tr>\n",
       "      <th>49</th>\n",
       "      <td>olive</td>\n",
       "      <td>30.16</td>\n",
       "      <td>Vegetables</td>\n",
       "    </tr>\n",
       "    <tr>\n",
       "      <th>50</th>\n",
       "      <td>sweet_potato</td>\n",
       "      <td>133.4</td>\n",
       "      <td>Vegetables</td>\n",
       "    </tr>\n",
       "    <tr>\n",
       "      <th>51</th>\n",
       "      <td>garlic</td>\n",
       "      <td>66.64</td>\n",
       "      <td>Vegetables</td>\n",
       "    </tr>\n",
       "    <tr>\n",
       "      <th>52</th>\n",
       "      <td>turkey</td>\n",
       "      <td>267.96</td>\n",
       "      <td>Poultry</td>\n",
       "    </tr>\n",
       "    <tr>\n",
       "      <th>53</th>\n",
       "      <td>yogurt</td>\n",
       "      <td>105.24</td>\n",
       "      <td>Dairy</td>\n",
       "    </tr>\n",
       "    <tr>\n",
       "      <th>54</th>\n",
       "      <td>juice</td>\n",
       "      <td>67.84</td>\n",
       "      <td>Beverages</td>\n",
       "    </tr>\n",
       "    <tr>\n",
       "      <th>55</th>\n",
       "      <td>pickles</td>\n",
       "      <td>11.72</td>\n",
       "      <td>Vegetables</td>\n",
       "    </tr>\n",
       "    <tr>\n",
       "      <th>56</th>\n",
       "      <td>cinnamon</td>\n",
       "      <td>146.6</td>\n",
       "      <td>Spices and Herbs</td>\n",
       "    </tr>\n",
       "    <tr>\n",
       "      <th>57</th>\n",
       "      <td>pepper</td>\n",
       "      <td>26.92</td>\n",
       "      <td>Spices and Herbs</td>\n",
       "    </tr>\n",
       "    <tr>\n",
       "      <th>58</th>\n",
       "      <td>vegetables</td>\n",
       "      <td>92.2</td>\n",
       "      <td>Vegetables</td>\n",
       "    </tr>\n",
       "    <tr>\n",
       "      <th>59</th>\n",
       "      <td>salmon</td>\n",
       "      <td>149.64</td>\n",
       "      <td>Seafood</td>\n",
       "    </tr>\n",
       "    <tr>\n",
       "      <th>60</th>\n",
       "      <td>pineapple</td>\n",
       "      <td>107.76</td>\n",
       "      <td>Fruits</td>\n",
       "    </tr>\n",
       "    <tr>\n",
       "      <th>61</th>\n",
       "      <td>chicken_noodle_soup</td>\n",
       "      <td>111.12</td>\n",
       "      <td>Soups</td>\n",
       "    </tr>\n",
       "    <tr>\n",
       "      <th>62</th>\n",
       "      <td>crab</td>\n",
       "      <td>108.44</td>\n",
       "      <td>Seafood</td>\n",
       "    </tr>\n",
       "    <tr>\n",
       "      <th>63</th>\n",
       "      <td>lemonade</td>\n",
       "      <td>104.44</td>\n",
       "      <td>Beverages</td>\n",
       "    </tr>\n",
       "    <tr>\n",
       "      <th>64</th>\n",
       "      <td>spinach</td>\n",
       "      <td>117.6</td>\n",
       "      <td>Vegetables</td>\n",
       "    </tr>\n",
       "    <tr>\n",
       "      <th>65</th>\n",
       "      <td>pepperoni</td>\n",
       "      <td>320.92</td>\n",
       "      <td>Meats</td>\n",
       "    </tr>\n",
       "    <tr>\n",
       "      <th>66</th>\n",
       "      <td>yam</td>\n",
       "      <td>143.8</td>\n",
       "      <td>Vegetables</td>\n",
       "    </tr>\n",
       "    <tr>\n",
       "      <th>67</th>\n",
       "      <td>mozzarella</td>\n",
       "      <td>118.08</td>\n",
       "      <td>Dairy</td>\n",
       "    </tr>\n",
       "    <tr>\n",
       "      <th>68</th>\n",
       "      <td>hamburger</td>\n",
       "      <td>380.44</td>\n",
       "      <td>Fast Foods</td>\n",
       "    </tr>\n",
       "    <tr>\n",
       "      <th>69</th>\n",
       "      <td>oyster</td>\n",
       "      <td>107.64</td>\n",
       "      <td>Seafood</td>\n",
       "    </tr>\n",
       "    <tr>\n",
       "      <th>70</th>\n",
       "      <td>orange_juice</td>\n",
       "      <td>116.44</td>\n",
       "      <td>Beverages</td>\n",
       "    </tr>\n",
       "    <tr>\n",
       "      <th>71</th>\n",
       "      <td>tomatoes</td>\n",
       "      <td>28.28</td>\n",
       "      <td>Vegetables</td>\n",
       "    </tr>\n",
       "    <tr>\n",
       "      <th>72</th>\n",
       "      <td>coconut</td>\n",
       "      <td>133.04</td>\n",
       "      <td>Fruits</td>\n",
       "    </tr>\n",
       "    <tr>\n",
       "      <th>73</th>\n",
       "      <td>ice_cream_sandwich</td>\n",
       "      <td>150.4</td>\n",
       "      <td>Dairy</td>\n",
       "    </tr>\n",
       "    <tr>\n",
       "      <th>74</th>\n",
       "      <td>carrots</td>\n",
       "      <td>37.08</td>\n",
       "      <td>Vegetables</td>\n",
       "    </tr>\n",
       "    <tr>\n",
       "      <th>75</th>\n",
       "      <td>tomato</td>\n",
       "      <td>28.28</td>\n",
       "      <td>Vegetables</td>\n",
       "    </tr>\n",
       "    <tr>\n",
       "      <th>76</th>\n",
       "      <td>almond_milk</td>\n",
       "      <td>64.48</td>\n",
       "      <td>Beverages</td>\n",
       "    </tr>\n",
       "    <tr>\n",
       "      <th>77</th>\n",
       "      <td>wheat</td>\n",
       "      <td>205.04</td>\n",
       "      <td>Cereal Grains and Pasta</td>\n",
       "    </tr>\n",
       "    <tr>\n",
       "      <th>78</th>\n",
       "      <td>cheddar</td>\n",
       "      <td>118.92</td>\n",
       "      <td>Dairy</td>\n",
       "    </tr>\n",
       "    <tr>\n",
       "      <th>79</th>\n",
       "      <td>watermelon</td>\n",
       "      <td>83.36</td>\n",
       "      <td>Fruits</td>\n",
       "    </tr>\n",
       "    <tr>\n",
       "      <th>80</th>\n",
       "      <td>ice_cream_cone</td>\n",
       "      <td>197.96</td>\n",
       "      <td>Dairy</td>\n",
       "    </tr>\n",
       "    <tr>\n",
       "      <th>81</th>\n",
       "      <td>peppers</td>\n",
       "      <td>26.92</td>\n",
       "      <td>Vegetables</td>\n",
       "    </tr>\n",
       "    <tr>\n",
       "      <th>82</th>\n",
       "      <td>vegetable</td>\n",
       "      <td>92.2</td>\n",
       "      <td>Vegetables</td>\n",
       "    </tr>\n",
       "    <tr>\n",
       "      <th>83</th>\n",
       "      <td>parmesan</td>\n",
       "      <td>248.8</td>\n",
       "      <td>Dairy</td>\n",
       "    </tr>\n",
       "    <tr>\n",
       "      <th>84</th>\n",
       "      <td>apples</td>\n",
       "      <td>95.84</td>\n",
       "      <td>Fruits</td>\n",
       "    </tr>\n",
       "    <tr>\n",
       "      <th>85</th>\n",
       "      <td>peaches</td>\n",
       "      <td>101.92</td>\n",
       "      <td>Fruits</td>\n",
       "    </tr>\n",
       "    <tr>\n",
       "      <th>86</th>\n",
       "      <td>chard</td>\n",
       "      <td>49.8</td>\n",
       "      <td>Vegetables</td>\n",
       "    </tr>\n",
       "    <tr>\n",
       "      <th>87</th>\n",
       "      <td>lettuce</td>\n",
       "      <td>8.6</td>\n",
       "      <td>Vegetables</td>\n",
       "    </tr>\n",
       "    <tr>\n",
       "      <th>88</th>\n",
       "      <td>peppermint</td>\n",
       "      <td>54.16</td>\n",
       "      <td>Spices and Herbs</td>\n",
       "    </tr>\n",
       "    <tr>\n",
       "      <th>89</th>\n",
       "      <td>tomato_soup</td>\n",
       "      <td>107.04</td>\n",
       "      <td>Soups</td>\n",
       "    </tr>\n",
       "    <tr>\n",
       "      <th>90</th>\n",
       "      <td>kale</td>\n",
       "      <td>50.16</td>\n",
       "      <td>Vegetables</td>\n",
       "    </tr>\n",
       "    <tr>\n",
       "      <th>91</th>\n",
       "      <td>mushroom</td>\n",
       "      <td>43.12</td>\n",
       "      <td>Vegetables</td>\n",
       "    </tr>\n",
       "    <tr>\n",
       "      <th>92</th>\n",
       "      <td>potato_salad</td>\n",
       "      <td>213.48</td>\n",
       "      <td>Vegetables</td>\n",
       "    </tr>\n",
       "    <tr>\n",
       "      <th>93</th>\n",
       "      <td>squash</td>\n",
       "      <td>30.52</td>\n",
       "      <td>Vegetables</td>\n",
       "    </tr>\n",
       "    <tr>\n",
       "      <th>94</th>\n",
       "      <td>chicken_breast</td>\n",
       "      <td>178.0</td>\n",
       "      <td>Poultry</td>\n",
       "    </tr>\n",
       "    <tr>\n",
       "      <th>95</th>\n",
       "      <td>ginger_ale</td>\n",
       "      <td>94.48</td>\n",
       "      <td>Alcoholic Beverages</td>\n",
       "    </tr>\n",
       "    <tr>\n",
       "      <th>96</th>\n",
       "      <td>green_beans</td>\n",
       "      <td>34.08</td>\n",
       "      <td>Vegetables</td>\n",
       "    </tr>\n",
       "    <tr>\n",
       "      <th>97</th>\n",
       "      <td>grapes</td>\n",
       "      <td>103.32</td>\n",
       "      <td>Fruits</td>\n",
       "    </tr>\n",
       "    <tr>\n",
       "      <th>98</th>\n",
       "      <td>fruit_salad</td>\n",
       "      <td>98.76</td>\n",
       "      <td>Fruits</td>\n",
       "    </tr>\n",
       "    <tr>\n",
       "      <th>99</th>\n",
       "      <td>teriyaki</td>\n",
       "      <td>203.52</td>\n",
       "      <td>Sauces</td>\n",
       "    </tr>\n",
       "    <tr>\n",
       "      <th>...</th>\n",
       "      <td>...</td>\n",
       "      <td>...</td>\n",
       "      <td>...</td>\n",
       "    </tr>\n",
       "    <tr>\n",
       "      <th>334</th>\n",
       "      <td>shiitake</td>\n",
       "      <td>95.08</td>\n",
       "      <td>Vegetables</td>\n",
       "    </tr>\n",
       "    <tr>\n",
       "      <th>335</th>\n",
       "      <td>chia_seeds</td>\n",
       "      <td>79.84</td>\n",
       "      <td>Nuts</td>\n",
       "    </tr>\n",
       "    <tr>\n",
       "      <th>336</th>\n",
       "      <td>pork_chicken</td>\n",
       "      <td>185.5625</td>\n",
       "      <td>Meats</td>\n",
       "    </tr>\n",
       "    <tr>\n",
       "      <th>337</th>\n",
       "      <td>fava</td>\n",
       "      <td>144.6</td>\n",
       "      <td>Legumes</td>\n",
       "    </tr>\n",
       "    <tr>\n",
       "      <th>338</th>\n",
       "      <td>ice_cream_cookie_sandwich</td>\n",
       "      <td>504.11764705882354</td>\n",
       "      <td>Dairy</td>\n",
       "    </tr>\n",
       "    <tr>\n",
       "      <th>339</th>\n",
       "      <td>breaded</td>\n",
       "      <td>158.32</td>\n",
       "      <td>Spices and Herbs</td>\n",
       "    </tr>\n",
       "    <tr>\n",
       "      <th>340</th>\n",
       "      <td>turnips</td>\n",
       "      <td>32.24</td>\n",
       "      <td>Vegetables</td>\n",
       "    </tr>\n",
       "    <tr>\n",
       "      <th>341</th>\n",
       "      <td>melons</td>\n",
       "      <td>47.32</td>\n",
       "      <td>Fruits</td>\n",
       "    </tr>\n",
       "    <tr>\n",
       "      <th>342</th>\n",
       "      <td>nectarines</td>\n",
       "      <td>65.68</td>\n",
       "      <td>Fruits</td>\n",
       "    </tr>\n",
       "    <tr>\n",
       "      <th>343</th>\n",
       "      <td>kelp</td>\n",
       "      <td>25.46153846153846</td>\n",
       "      <td>Vegetables</td>\n",
       "    </tr>\n",
       "    <tr>\n",
       "      <th>344</th>\n",
       "      <td>beef_pork</td>\n",
       "      <td>204.32</td>\n",
       "      <td>Meats</td>\n",
       "    </tr>\n",
       "    <tr>\n",
       "      <th>345</th>\n",
       "      <td>worcestershire</td>\n",
       "      <td>6.76</td>\n",
       "      <td>Sauces</td>\n",
       "    </tr>\n",
       "    <tr>\n",
       "      <th>346</th>\n",
       "      <td>cheshire</td>\n",
       "      <td>112.6</td>\n",
       "      <td>Dairy</td>\n",
       "    </tr>\n",
       "    <tr>\n",
       "      <th>347</th>\n",
       "      <td>leeks</td>\n",
       "      <td>84.64</td>\n",
       "      <td>Vegetables</td>\n",
       "    </tr>\n",
       "    <tr>\n",
       "      <th>348</th>\n",
       "      <td>cream_of_chicken</td>\n",
       "      <td>127.6</td>\n",
       "      <td>Soups</td>\n",
       "    </tr>\n",
       "    <tr>\n",
       "      <th>349</th>\n",
       "      <td>succotash</td>\n",
       "      <td>132.14285714285714</td>\n",
       "      <td>Legumes</td>\n",
       "    </tr>\n",
       "    <tr>\n",
       "      <th>350</th>\n",
       "      <td>capers</td>\n",
       "      <td>2.08</td>\n",
       "      <td>Vegetables</td>\n",
       "    </tr>\n",
       "    <tr>\n",
       "      <th>351</th>\n",
       "      <td>cloves</td>\n",
       "      <td>58.16</td>\n",
       "      <td>Spices and Herbs</td>\n",
       "    </tr>\n",
       "    <tr>\n",
       "      <th>352</th>\n",
       "      <td>chocolate_powder</td>\n",
       "      <td>135.28571428571428</td>\n",
       "      <td>Sweets</td>\n",
       "    </tr>\n",
       "    <tr>\n",
       "      <th>353</th>\n",
       "      <td>ginger_root</td>\n",
       "      <td>26.166666666666668</td>\n",
       "      <td>Vegetables</td>\n",
       "    </tr>\n",
       "    <tr>\n",
       "      <th>354</th>\n",
       "      <td>pheasant</td>\n",
       "      <td>239.3</td>\n",
       "      <td>Poultry</td>\n",
       "    </tr>\n",
       "    <tr>\n",
       "      <th>355</th>\n",
       "      <td>persimmons</td>\n",
       "      <td>87.35714285714286</td>\n",
       "      <td>Fruits</td>\n",
       "    </tr>\n",
       "    <tr>\n",
       "      <th>356</th>\n",
       "      <td>peach_mango</td>\n",
       "      <td>114.96</td>\n",
       "      <td>Beverages</td>\n",
       "    </tr>\n",
       "    <tr>\n",
       "      <th>357</th>\n",
       "      <td>wakame</td>\n",
       "      <td>47.25</td>\n",
       "      <td>Vegetables</td>\n",
       "    </tr>\n",
       "    <tr>\n",
       "      <th>358</th>\n",
       "      <td>parsnips</td>\n",
       "      <td>129.12</td>\n",
       "      <td>Vegetables</td>\n",
       "    </tr>\n",
       "    <tr>\n",
       "      <th>359</th>\n",
       "      <td>margarine</td>\n",
       "      <td>86.88</td>\n",
       "      <td>Fats and Oils</td>\n",
       "    </tr>\n",
       "    <tr>\n",
       "      <th>360</th>\n",
       "      <td>radicchio</td>\n",
       "      <td>19.227272727272727</td>\n",
       "      <td>Vegetables</td>\n",
       "    </tr>\n",
       "    <tr>\n",
       "      <th>361</th>\n",
       "      <td>farina</td>\n",
       "      <td>175.24</td>\n",
       "      <td>Breakfast Cereals</td>\n",
       "    </tr>\n",
       "    <tr>\n",
       "      <th>362</th>\n",
       "      <td>gourd</td>\n",
       "      <td>91.23529411764706</td>\n",
       "      <td>Vegetables</td>\n",
       "    </tr>\n",
       "    <tr>\n",
       "      <th>363</th>\n",
       "      <td>flank</td>\n",
       "      <td>193.16666666666666</td>\n",
       "      <td>Meats</td>\n",
       "    </tr>\n",
       "    <tr>\n",
       "      <th>364</th>\n",
       "      <td>cress</td>\n",
       "      <td>279.28</td>\n",
       "      <td>Vegetables</td>\n",
       "    </tr>\n",
       "    <tr>\n",
       "      <th>365</th>\n",
       "      <td>durian</td>\n",
       "      <td>239.25</td>\n",
       "      <td>Fruits</td>\n",
       "    </tr>\n",
       "    <tr>\n",
       "      <th>366</th>\n",
       "      <td>tangerines</td>\n",
       "      <td>70.92</td>\n",
       "      <td>Fruits</td>\n",
       "    </tr>\n",
       "    <tr>\n",
       "      <th>367</th>\n",
       "      <td>grape_leaves</td>\n",
       "      <td>68.43478260869566</td>\n",
       "      <td>Vegetables</td>\n",
       "    </tr>\n",
       "    <tr>\n",
       "      <th>368</th>\n",
       "      <td>tomato_juice</td>\n",
       "      <td>50.0</td>\n",
       "      <td>Vegetables</td>\n",
       "    </tr>\n",
       "    <tr>\n",
       "      <th>369</th>\n",
       "      <td>chanterelle</td>\n",
       "      <td>36.77777777777778</td>\n",
       "      <td>Vegetables</td>\n",
       "    </tr>\n",
       "    <tr>\n",
       "      <th>370</th>\n",
       "      <td>chicken_vegetable</td>\n",
       "      <td>143.0</td>\n",
       "      <td>Soups</td>\n",
       "    </tr>\n",
       "    <tr>\n",
       "      <th>371</th>\n",
       "      <td>creamy_tomato_soup</td>\n",
       "      <td>233.66666666666666</td>\n",
       "      <td>Soups</td>\n",
       "    </tr>\n",
       "    <tr>\n",
       "      <th>372</th>\n",
       "      <td>artichokes</td>\n",
       "      <td>63.76</td>\n",
       "      <td>Vegetables</td>\n",
       "    </tr>\n",
       "    <tr>\n",
       "      <th>373</th>\n",
       "      <td>beef_broth</td>\n",
       "      <td>17.6</td>\n",
       "      <td>Soups</td>\n",
       "    </tr>\n",
       "    <tr>\n",
       "      <th>374</th>\n",
       "      <td>cream_of_broccoli_soup</td>\n",
       "      <td>165.68</td>\n",
       "      <td>Soups</td>\n",
       "    </tr>\n",
       "    <tr>\n",
       "      <th>375</th>\n",
       "      <td>spearmint</td>\n",
       "      <td>76.0</td>\n",
       "      <td>Spices and Herbs</td>\n",
       "    </tr>\n",
       "    <tr>\n",
       "      <th>376</th>\n",
       "      <td>butternuts</td>\n",
       "      <td>110.32</td>\n",
       "      <td>Nuts</td>\n",
       "    </tr>\n",
       "    <tr>\n",
       "      <th>377</th>\n",
       "      <td>pumpkin_pie_spice</td>\n",
       "      <td>68.5</td>\n",
       "      <td>Spices and Herbs</td>\n",
       "    </tr>\n",
       "    <tr>\n",
       "      <th>378</th>\n",
       "      <td>cardamom</td>\n",
       "      <td>18</td>\n",
       "      <td>Spices and Herbs</td>\n",
       "    </tr>\n",
       "    <tr>\n",
       "      <th>379</th>\n",
       "      <td>chicken_dumplings</td>\n",
       "      <td>202.76</td>\n",
       "      <td>Poultry</td>\n",
       "    </tr>\n",
       "    <tr>\n",
       "      <th>380</th>\n",
       "      <td>cream_of_chicken_soup</td>\n",
       "      <td>102.44</td>\n",
       "      <td>Soups</td>\n",
       "    </tr>\n",
       "    <tr>\n",
       "      <th>381</th>\n",
       "      <td>chicken_gumbo</td>\n",
       "      <td>123.28</td>\n",
       "      <td>Soups</td>\n",
       "    </tr>\n",
       "    <tr>\n",
       "      <th>382</th>\n",
       "      <td>sofrito</td>\n",
       "      <td>89.54545454545455</td>\n",
       "      <td>Soups</td>\n",
       "    </tr>\n",
       "    <tr>\n",
       "      <th>383</th>\n",
       "      <td>prunes</td>\n",
       "      <td>88.44</td>\n",
       "      <td>Vegetables</td>\n",
       "    </tr>\n",
       "    <tr>\n",
       "      <th>384</th>\n",
       "      <td>jujube</td>\n",
       "      <td>141.0</td>\n",
       "      <td>Sweets</td>\n",
       "    </tr>\n",
       "    <tr>\n",
       "      <th>385</th>\n",
       "      <td>macadamia_nuts</td>\n",
       "      <td>214.76</td>\n",
       "      <td>Nuts</td>\n",
       "    </tr>\n",
       "    <tr>\n",
       "      <th>386</th>\n",
       "      <td>pomegranate_juice</td>\n",
       "      <td>130.88</td>\n",
       "      <td>Fruits</td>\n",
       "    </tr>\n",
       "    <tr>\n",
       "      <th>387</th>\n",
       "      <td>shellie</td>\n",
       "      <td>101.25</td>\n",
       "      <td>Legumes</td>\n",
       "    </tr>\n",
       "    <tr>\n",
       "      <th>388</th>\n",
       "      <td>beef_sausage</td>\n",
       "      <td>198.24</td>\n",
       "      <td>Meats</td>\n",
       "    </tr>\n",
       "    <tr>\n",
       "      <th>389</th>\n",
       "      <td>polish_sausage</td>\n",
       "      <td>227.8</td>\n",
       "      <td>Meats</td>\n",
       "    </tr>\n",
       "    <tr>\n",
       "      <th>390</th>\n",
       "      <td>jackfruit</td>\n",
       "      <td>100.75</td>\n",
       "      <td>Fruits</td>\n",
       "    </tr>\n",
       "    <tr>\n",
       "      <th>391</th>\n",
       "      <td>cashew_butter</td>\n",
       "      <td>182.44</td>\n",
       "      <td>Nuts</td>\n",
       "    </tr>\n",
       "    <tr>\n",
       "      <th>392</th>\n",
       "      <td>new_england_clam_chowder</td>\n",
       "      <td>193.28</td>\n",
       "      <td>Soups</td>\n",
       "    </tr>\n",
       "    <tr>\n",
       "      <th>393</th>\n",
       "      <td>macaroni_cheese</td>\n",
       "      <td>349.08</td>\n",
       "      <td>Cereal Grains and Pasta</td>\n",
       "    </tr>\n",
       "    <tr>\n",
       "      <th>394</th>\n",
       "      <td>apricots</td>\n",
       "      <td>113.24</td>\n",
       "      <td>Fruits</td>\n",
       "    </tr>\n",
       "    <tr>\n",
       "      <th>395</th>\n",
       "      <td>roselle</td>\n",
       "      <td>28.0</td>\n",
       "      <td>Fruits</td>\n",
       "    </tr>\n",
       "    <tr>\n",
       "      <th>396</th>\n",
       "      <td>endive</td>\n",
       "      <td>13.545454545454545</td>\n",
       "      <td>Vegetables</td>\n",
       "    </tr>\n",
       "    <tr>\n",
       "      <th>397</th>\n",
       "      <td>corn_pudding</td>\n",
       "      <td>194.0</td>\n",
       "      <td>Cereal Grains and Pasta</td>\n",
       "    </tr>\n",
       "    <tr>\n",
       "      <th>398</th>\n",
       "      <td>hearts_of_palm</td>\n",
       "      <td>32.12</td>\n",
       "      <td>Vegetables</td>\n",
       "    </tr>\n",
       "    <tr>\n",
       "      <th>399</th>\n",
       "      <td>nopales</td>\n",
       "      <td>46.5</td>\n",
       "      <td>Vegetables</td>\n",
       "    </tr>\n",
       "    <tr>\n",
       "      <th>400</th>\n",
       "      <td>mortadella</td>\n",
       "      <td>143.16666666666666</td>\n",
       "      <td>Meats</td>\n",
       "    </tr>\n",
       "    <tr>\n",
       "      <th>401</th>\n",
       "      <td>hoisin</td>\n",
       "      <td>56.72</td>\n",
       "      <td>Sauces</td>\n",
       "    </tr>\n",
       "    <tr>\n",
       "      <th>402</th>\n",
       "      <td>soybean</td>\n",
       "      <td>143.76</td>\n",
       "      <td>Legumes</td>\n",
       "    </tr>\n",
       "    <tr>\n",
       "      <th>403</th>\n",
       "      <td>top_sirloin</td>\n",
       "      <td>368.16</td>\n",
       "      <td>Meats</td>\n",
       "    </tr>\n",
       "    <tr>\n",
       "      <th>404</th>\n",
       "      <td>russian_dressing</td>\n",
       "      <td>115.0</td>\n",
       "      <td>Sauces</td>\n",
       "    </tr>\n",
       "    <tr>\n",
       "      <th>405</th>\n",
       "      <td>onion_powder</td>\n",
       "      <td>0.8888888888888888</td>\n",
       "      <td>Spices and Herbs</td>\n",
       "    </tr>\n",
       "    <tr>\n",
       "      <th>406</th>\n",
       "      <td>spirulina</td>\n",
       "      <td>100.72727272727273</td>\n",
       "      <td>Vegetables</td>\n",
       "    </tr>\n",
       "    <tr>\n",
       "      <th>407</th>\n",
       "      <td>chestnuts</td>\n",
       "      <td>82.4</td>\n",
       "      <td>Nuts</td>\n",
       "    </tr>\n",
       "    <tr>\n",
       "      <th>408</th>\n",
       "      <td>orange_drink</td>\n",
       "      <td>107.92</td>\n",
       "      <td>Beverages</td>\n",
       "    </tr>\n",
       "    <tr>\n",
       "      <th>409</th>\n",
       "      <td>tahitian</td>\n",
       "      <td>138.6086956521739</td>\n",
       "      <td>Vegetables</td>\n",
       "    </tr>\n",
       "    <tr>\n",
       "      <th>410</th>\n",
       "      <td>soybeans</td>\n",
       "      <td>143.76</td>\n",
       "      <td>Legumes</td>\n",
       "    </tr>\n",
       "    <tr>\n",
       "      <th>411</th>\n",
       "      <td>escarole</td>\n",
       "      <td>64.57142857142857</td>\n",
       "      <td>Vegetables</td>\n",
       "    </tr>\n",
       "    <tr>\n",
       "      <th>412</th>\n",
       "      <td>vegetable_beef_soup</td>\n",
       "      <td>123.36</td>\n",
       "      <td>Soups</td>\n",
       "    </tr>\n",
       "    <tr>\n",
       "      <th>413</th>\n",
       "      <td>thousand_island_dressing</td>\n",
       "      <td>160.08</td>\n",
       "      <td>Sauces</td>\n",
       "    </tr>\n",
       "    <tr>\n",
       "      <th>414</th>\n",
       "      <td>roquefort</td>\n",
       "      <td>103.93333333333334</td>\n",
       "      <td>Dairy</td>\n",
       "    </tr>\n",
       "    <tr>\n",
       "      <th>415</th>\n",
       "      <td>thousand_island</td>\n",
       "      <td>152.76</td>\n",
       "      <td>Sauces</td>\n",
       "    </tr>\n",
       "    <tr>\n",
       "      <th>416</th>\n",
       "      <td>dark_meat</td>\n",
       "      <td>252.92</td>\n",
       "      <td>Meats</td>\n",
       "    </tr>\n",
       "    <tr>\n",
       "      <th>417</th>\n",
       "      <td>tequila_sunrise</td>\n",
       "      <td>147.33333333333334</td>\n",
       "      <td>Alcoholic Beverages</td>\n",
       "    </tr>\n",
       "    <tr>\n",
       "      <th>418</th>\n",
       "      <td>whiskey_sour</td>\n",
       "      <td>125.5</td>\n",
       "      <td>Alcoholic Beverages</td>\n",
       "    </tr>\n",
       "    <tr>\n",
       "      <th>419</th>\n",
       "      <td>vegetable_beef</td>\n",
       "      <td>106.12</td>\n",
       "      <td>Soups</td>\n",
       "    </tr>\n",
       "    <tr>\n",
       "      <th>420</th>\n",
       "      <td>cheese_product</td>\n",
       "      <td>44.0</td>\n",
       "      <td>Dairy</td>\n",
       "    </tr>\n",
       "    <tr>\n",
       "      <th>421</th>\n",
       "      <td>shortening</td>\n",
       "      <td>247.52</td>\n",
       "      <td>Fats and Oils</td>\n",
       "    </tr>\n",
       "    <tr>\n",
       "      <th>422</th>\n",
       "      <td>cocoa_mix</td>\n",
       "      <td>119.08</td>\n",
       "      <td>Sweets</td>\n",
       "    </tr>\n",
       "    <tr>\n",
       "      <th>423</th>\n",
       "      <td>honey_mustard_dressing</td>\n",
       "      <td>171.04</td>\n",
       "      <td>Sauces</td>\n",
       "    </tr>\n",
       "    <tr>\n",
       "      <th>424</th>\n",
       "      <td>lemon_peel</td>\n",
       "      <td>67.8</td>\n",
       "      <td>Fruits</td>\n",
       "    </tr>\n",
       "    <tr>\n",
       "      <th>425</th>\n",
       "      <td>chicken_corn_chowder</td>\n",
       "      <td>204.72</td>\n",
       "      <td>Soups</td>\n",
       "    </tr>\n",
       "    <tr>\n",
       "      <th>426</th>\n",
       "      <td>chicken_noodles_soup</td>\n",
       "      <td>111.12</td>\n",
       "      <td>Soups</td>\n",
       "    </tr>\n",
       "    <tr>\n",
       "      <th>427</th>\n",
       "      <td>slimfast</td>\n",
       "      <td>168.64</td>\n",
       "      <td>Beverages</td>\n",
       "    </tr>\n",
       "    <tr>\n",
       "      <th>428</th>\n",
       "      <td>peas_carrots</td>\n",
       "      <td>56.64</td>\n",
       "      <td>Vegetables</td>\n",
       "    </tr>\n",
       "    <tr>\n",
       "      <th>429</th>\n",
       "      <td>oat_bran</td>\n",
       "      <td>150.6</td>\n",
       "      <td>Breakfast Cereals</td>\n",
       "    </tr>\n",
       "    <tr>\n",
       "      <th>430</th>\n",
       "      <td>chicken_rice_soup</td>\n",
       "      <td>82.07692307692308</td>\n",
       "      <td>Soups</td>\n",
       "    </tr>\n",
       "    <tr>\n",
       "      <th>431</th>\n",
       "      <td>green_leaf</td>\n",
       "      <td>65.27777777777777</td>\n",
       "      <td>Vegetables</td>\n",
       "    </tr>\n",
       "    <tr>\n",
       "      <th>432</th>\n",
       "      <td>mixed_nuts</td>\n",
       "      <td>193.16</td>\n",
       "      <td>Nuts</td>\n",
       "    </tr>\n",
       "    <tr>\n",
       "      <th>433</th>\n",
       "      <td>cassava</td>\n",
       "      <td>145.28</td>\n",
       "      <td>Vegetables</td>\n",
       "    </tr>\n",
       "  </tbody>\n",
       "</table>\n",
       "<p>434 rows × 3 columns</p>\n",
       "</div>"
      ],
      "text/plain": [
       "                     food_name avg_cal_per_serving                 food_cat\n",
       "0                        pizza               477.8               Fast Foods\n",
       "1                          tea               16.84                Beverages\n",
       "2                       coffee                34.4                Beverages\n",
       "3                    ice_cream              157.24                    Dairy\n",
       "4                     icecream              157.24                    Dairy\n",
       "5                   sour_cream               67.24                    Dairy\n",
       "6                      chicken              488.12                  Poultry\n",
       "7                       cheese              176.64                    Dairy\n",
       "8                         cola               65.84                Beverages\n",
       "9                          egg              147.76                    Dairy\n",
       "10                         ham               128.2                    Meats\n",
       "11                        tart              292.08                   Sweets\n",
       "12                        wine               76.52      Alcoholic Beverages\n",
       "13                        beer              119.24      Alcoholic Beverages\n",
       "14                        corn              168.72  Cereal Grains and Pasta\n",
       "15                        rice              159.16  Cereal Grains and Pasta\n",
       "16                       bacon               121.8                    Meats\n",
       "17                        soup               117.6                    Soups\n",
       "18                        milk              198.56                    Dairy\n",
       "19                         rib              383.84                    Meats\n",
       "20                         pea               65.36               Vegetables\n",
       "21                       snack              132.88                   Snacks\n",
       "22                       sauce               62.12                    Soups\n",
       "23                      cereal               152.4        Breakfast Cereals\n",
       "24                      banana             101.869                   Fruits\n",
       "25                      cookie              215.88                   Sweets\n",
       "26                        meat              194.08                    Meats\n",
       "27                        fish              230.68                  Seafood\n",
       "28                       fruit               91.36                   Fruits\n",
       "29                   chocolate               139.2                   Sweets\n",
       "30                   fast_food   409.1666666666667               Fast Foods\n",
       "31                    potatoes              128.72               Vegetables\n",
       "32                      peanut              164.32                     Nuts\n",
       "33                         oat              187.84  Cereal Grains and Pasta\n",
       "34                        beef              181.36                    Meats\n",
       "35                       chili              156.76                    Soups\n",
       "36                     vanilla              128.12         Spices and Herbs\n",
       "37                  strawberry               109.6                   Fruits\n",
       "38                      butter               124.6                    Dairy\n",
       "39                     pumpkin              110.28               Vegetables\n",
       "40                     hot_dog              259.44               Fast Foods\n",
       "41                     sausage              266.88                    Meats\n",
       "42                      ginger               51.32         Spices and Herbs\n",
       "43                        pork              181.56                    Meats\n",
       "44           chocolate_covered              174.92                   Sweets\n",
       "45                      potato              128.72               Vegetables\n",
       "46                       pasta              342.84  Cereal Grains and Pasta\n",
       "47                strawberries               109.6                   Fruits\n",
       "48                    crackers               55.88           Baked Products\n",
       "49                       olive               30.16               Vegetables\n",
       "50                sweet_potato               133.4               Vegetables\n",
       "51                      garlic               66.64               Vegetables\n",
       "52                      turkey              267.96                  Poultry\n",
       "53                      yogurt              105.24                    Dairy\n",
       "54                       juice               67.84                Beverages\n",
       "55                     pickles               11.72               Vegetables\n",
       "56                    cinnamon               146.6         Spices and Herbs\n",
       "57                      pepper               26.92         Spices and Herbs\n",
       "58                  vegetables                92.2               Vegetables\n",
       "59                      salmon              149.64                  Seafood\n",
       "60                   pineapple              107.76                   Fruits\n",
       "61         chicken_noodle_soup              111.12                    Soups\n",
       "62                        crab              108.44                  Seafood\n",
       "63                    lemonade              104.44                Beverages\n",
       "64                     spinach               117.6               Vegetables\n",
       "65                   pepperoni              320.92                    Meats\n",
       "66                         yam               143.8               Vegetables\n",
       "67                  mozzarella              118.08                    Dairy\n",
       "68                   hamburger              380.44               Fast Foods\n",
       "69                      oyster              107.64                  Seafood\n",
       "70                orange_juice              116.44                Beverages\n",
       "71                    tomatoes               28.28               Vegetables\n",
       "72                     coconut              133.04                   Fruits\n",
       "73          ice_cream_sandwich               150.4                    Dairy\n",
       "74                     carrots               37.08               Vegetables\n",
       "75                      tomato               28.28               Vegetables\n",
       "76                 almond_milk               64.48                Beverages\n",
       "77                       wheat              205.04  Cereal Grains and Pasta\n",
       "78                     cheddar              118.92                    Dairy\n",
       "79                  watermelon               83.36                   Fruits\n",
       "80              ice_cream_cone              197.96                    Dairy\n",
       "81                     peppers               26.92               Vegetables\n",
       "82                   vegetable                92.2               Vegetables\n",
       "83                    parmesan               248.8                    Dairy\n",
       "84                      apples               95.84                   Fruits\n",
       "85                     peaches              101.92                   Fruits\n",
       "86                       chard                49.8               Vegetables\n",
       "87                     lettuce                 8.6               Vegetables\n",
       "88                  peppermint               54.16         Spices and Herbs\n",
       "89                 tomato_soup              107.04                    Soups\n",
       "90                        kale               50.16               Vegetables\n",
       "91                    mushroom               43.12               Vegetables\n",
       "92                potato_salad              213.48               Vegetables\n",
       "93                      squash               30.52               Vegetables\n",
       "94              chicken_breast               178.0                  Poultry\n",
       "95                  ginger_ale               94.48      Alcoholic Beverages\n",
       "96                 green_beans               34.08               Vegetables\n",
       "97                      grapes              103.32                   Fruits\n",
       "98                 fruit_salad               98.76                   Fruits\n",
       "99                    teriyaki              203.52                   Sauces\n",
       "..                         ...                 ...                      ...\n",
       "334                   shiitake               95.08               Vegetables\n",
       "335                 chia_seeds               79.84                     Nuts\n",
       "336               pork_chicken            185.5625                    Meats\n",
       "337                       fava               144.6                  Legumes\n",
       "338  ice_cream_cookie_sandwich  504.11764705882354                    Dairy\n",
       "339                    breaded              158.32         Spices and Herbs\n",
       "340                    turnips               32.24               Vegetables\n",
       "341                     melons               47.32                   Fruits\n",
       "342                 nectarines               65.68                   Fruits\n",
       "343                       kelp   25.46153846153846               Vegetables\n",
       "344                  beef_pork              204.32                    Meats\n",
       "345             worcestershire                6.76                   Sauces\n",
       "346                   cheshire               112.6                    Dairy\n",
       "347                      leeks               84.64               Vegetables\n",
       "348           cream_of_chicken               127.6                    Soups\n",
       "349                  succotash  132.14285714285714                  Legumes\n",
       "350                     capers                2.08               Vegetables\n",
       "351                     cloves               58.16         Spices and Herbs\n",
       "352           chocolate_powder  135.28571428571428                   Sweets\n",
       "353                ginger_root  26.166666666666668               Vegetables\n",
       "354                   pheasant               239.3                  Poultry\n",
       "355                 persimmons   87.35714285714286                   Fruits\n",
       "356                peach_mango              114.96                Beverages\n",
       "357                     wakame               47.25               Vegetables\n",
       "358                   parsnips              129.12               Vegetables\n",
       "359                  margarine               86.88            Fats and Oils\n",
       "360                  radicchio  19.227272727272727               Vegetables\n",
       "361                     farina              175.24        Breakfast Cereals\n",
       "362                      gourd   91.23529411764706               Vegetables\n",
       "363                      flank  193.16666666666666                    Meats\n",
       "364                      cress              279.28               Vegetables\n",
       "365                     durian              239.25                   Fruits\n",
       "366                 tangerines               70.92                   Fruits\n",
       "367               grape_leaves   68.43478260869566               Vegetables\n",
       "368               tomato_juice                50.0               Vegetables\n",
       "369                chanterelle   36.77777777777778               Vegetables\n",
       "370          chicken_vegetable               143.0                    Soups\n",
       "371         creamy_tomato_soup  233.66666666666666                    Soups\n",
       "372                 artichokes               63.76               Vegetables\n",
       "373                 beef_broth                17.6                    Soups\n",
       "374     cream_of_broccoli_soup              165.68                    Soups\n",
       "375                  spearmint                76.0         Spices and Herbs\n",
       "376                 butternuts              110.32                     Nuts\n",
       "377          pumpkin_pie_spice                68.5         Spices and Herbs\n",
       "378                   cardamom                  18         Spices and Herbs\n",
       "379          chicken_dumplings              202.76                  Poultry\n",
       "380      cream_of_chicken_soup              102.44                    Soups\n",
       "381              chicken_gumbo              123.28                    Soups\n",
       "382                    sofrito   89.54545454545455                    Soups\n",
       "383                     prunes               88.44               Vegetables\n",
       "384                     jujube               141.0                   Sweets\n",
       "385             macadamia_nuts              214.76                     Nuts\n",
       "386          pomegranate_juice              130.88                   Fruits\n",
       "387                    shellie              101.25                  Legumes\n",
       "388               beef_sausage              198.24                    Meats\n",
       "389             polish_sausage               227.8                    Meats\n",
       "390                  jackfruit              100.75                   Fruits\n",
       "391              cashew_butter              182.44                     Nuts\n",
       "392   new_england_clam_chowder              193.28                    Soups\n",
       "393            macaroni_cheese              349.08  Cereal Grains and Pasta\n",
       "394                   apricots              113.24                   Fruits\n",
       "395                    roselle                28.0                   Fruits\n",
       "396                     endive  13.545454545454545               Vegetables\n",
       "397               corn_pudding               194.0  Cereal Grains and Pasta\n",
       "398             hearts_of_palm               32.12               Vegetables\n",
       "399                    nopales                46.5               Vegetables\n",
       "400                 mortadella  143.16666666666666                    Meats\n",
       "401                     hoisin               56.72                   Sauces\n",
       "402                    soybean              143.76                  Legumes\n",
       "403                top_sirloin              368.16                    Meats\n",
       "404           russian_dressing               115.0                   Sauces\n",
       "405               onion_powder  0.8888888888888888         Spices and Herbs\n",
       "406                  spirulina  100.72727272727273               Vegetables\n",
       "407                  chestnuts                82.4                     Nuts\n",
       "408               orange_drink              107.92                Beverages\n",
       "409                   tahitian   138.6086956521739               Vegetables\n",
       "410                   soybeans              143.76                  Legumes\n",
       "411                   escarole   64.57142857142857               Vegetables\n",
       "412        vegetable_beef_soup              123.36                    Soups\n",
       "413   thousand_island_dressing              160.08                   Sauces\n",
       "414                  roquefort  103.93333333333334                    Dairy\n",
       "415            thousand_island              152.76                   Sauces\n",
       "416                  dark_meat              252.92                    Meats\n",
       "417            tequila_sunrise  147.33333333333334      Alcoholic Beverages\n",
       "418               whiskey_sour               125.5      Alcoholic Beverages\n",
       "419             vegetable_beef              106.12                    Soups\n",
       "420             cheese_product                44.0                    Dairy\n",
       "421                 shortening              247.52            Fats and Oils\n",
       "422                  cocoa_mix              119.08                   Sweets\n",
       "423     honey_mustard_dressing              171.04                   Sauces\n",
       "424                 lemon_peel                67.8                   Fruits\n",
       "425       chicken_corn_chowder              204.72                    Soups\n",
       "426       chicken_noodles_soup              111.12                    Soups\n",
       "427                   slimfast              168.64                Beverages\n",
       "428               peas_carrots               56.64               Vegetables\n",
       "429                   oat_bran               150.6        Breakfast Cereals\n",
       "430          chicken_rice_soup   82.07692307692308                    Soups\n",
       "431                 green_leaf   65.27777777777777               Vegetables\n",
       "432                 mixed_nuts              193.16                     Nuts\n",
       "433                    cassava              145.28               Vegetables\n",
       "\n",
       "[434 rows x 3 columns]"
      ]
     },
     "execution_count": 1803,
     "metadata": {},
     "output_type": "execute_result"
    }
   ],
   "source": [
    "weber_df"
   ]
  },
  {
   "cell_type": "code",
   "execution_count": 2311,
   "metadata": {
    "collapsed": false
   },
   "outputs": [],
   "source": [
    "food_dict = defaultdict(lambda: '')\n",
    "merge_cat_dict = {\n",
    "    'spices and herbs': 'herbs and spices',\n",
    "    'animal foods': 'meats',\n",
    "    'animal': 'meats',\n",
    "    'meaty': 'meats',\n",
    "    'baked products': 'baking goods',\n",
    "    'fatty': 'fats and oils',\n",
    "    'fruity': 'fruits',\n",
    "    'legumes': 'vegetables',\n",
    "    'vegetable': 'vegetables',\n",
    "    'snacks': 'snack foods',\n",
    "    'aquatic foods': 'seafood',\n",
    "    'wine_like': 'alcoholic beverages',\n",
    "    'nutty': 'nuts',\n",
    "    'green': 'vegetables',\n",
    "    'fishy': 'seafood',\n",
    "    'cereals and cereal products': 'cereal grains and pasta',\n",
    "    'milk and milk products': 'dairy'\n",
    "}\n",
    "merge_cat = lambda c: merge_cat_dict[c] if c in merge_cat_dict.keys() else c\n",
    "for i, r in foodb_foods.iterrows():\n",
    "    food_dict[\"_\".join(r['name'].lower().split())] = merge_cat(r.food_group.lower())\n",
    "for i, r in foodb_flavors.iterrows():\n",
    "    food_dict[\"_\".join(r['name'].lower().split())] = '' if type(r.flavor_group) is float else merge_cat(r.flavor_group.lower())\n",
    "for i, r in weber_df.iterrows():\n",
    "    food_dict[r.food_name] = merge_cat(r.food_cat.lower())"
   ]
  },
  {
   "cell_type": "code",
   "execution_count": 2585,
   "metadata": {
    "code_folding": [],
    "collapsed": false
   },
   "outputs": [],
   "source": [
    "exclude_words = set( # targeting apple, blackberry, kevin bacon, raspberry pi\n",
    "    [\n",
    "        'phone', 'iphone', 'itunes', 'google', 'app', 'kevin', 'os', 'ios', 'ipad', 'samsung', 'android', 'pi', 'apps', 'software',\n",
    "        'cisco', 'smartphone', 'mobile', 'nest', 'iwatch', 'media', 'nexus', 'date', 'others', 'squash'\n",
    "    ]\n",
    ")\n",
    "exclude_words |= set( # direct ban of ambiguous words\n",
    "    [\n",
    "        'apple', 'raspberry', 'blackberry', 'kevin'\n",
    "    ]\n",
    ")\n",
    "\n",
    "def tw_filter(tw, include, exclude=[], keep_rt=False):\n",
    "    tokens  = set(tokenize(tw, keep_hashtags=False, keep_mentions=False, keep_urls=False, bigrams=False, liwc=False))\n",
    "    if 'rt' in tokens and not keep_rt:\n",
    "        return False\n",
    "    include = set(include)\n",
    "    exclude = set(exclude)\n",
    "    if not (tokens & exclude) and (tokens & include):\n",
    "        return True\n",
    "    else:\n",
    "        return False\n",
    "\n",
    "# n_users['food_tweets'] = n_users.tweets.progress_apply(lambda _: [tw for tw in _ if tw_filter(tw, foodb_words | weber_lexicon, exclude_words)])\n",
    "# s_users['food_tweets'] = s_users.tweets.progress_apply(lambda _: [tw for tw in _ if tw_filter(tw, foodb_words | weber_lexicon, exclude_words)])"
   ]
  },
  {
   "cell_type": "code",
   "execution_count": 2032,
   "metadata": {
    "collapsed": false
   },
   "outputs": [
    {
     "data": {
      "text/plain": [
       "1217"
      ]
     },
     "execution_count": 2032,
     "metadata": {},
     "output_type": "execute_result"
    }
   ],
   "source": [
    "len(foodb_words | weber_lexicon)"
   ]
  },
  {
   "cell_type": "code",
   "execution_count": 2037,
   "metadata": {
    "code_folding": [
     12
    ],
    "collapsed": false
   },
   "outputs": [],
   "source": [
    "import textblob\n",
    "from textblob.wordnet import *\n",
    "\n",
    "food_wn = set([Synset('food.n.01'), Synset('food.n.02'), Synset('edible_nut.n.01')])#, Synset('consume.v.02')])\n",
    "ambiguous_words = set([ # ambiguous words classify as food-related words by wordnet\n",
    "    'b', 'cs', 'ds', 'as', 'd', 'e', 'a', 'es', 'c', 'bs'\n",
    "    'lap','bib','try','cod','ade','leg','cos','sup','mix', 'pap',\n",
    "    'ail','zep','sub','fed','soy','dog','msg','bap','pop','cut','pud',\n",
    "    'jak','poi','has','roe','had','hay','gem','yam','lox','cup','hit','rue',\n",
    "    'must', 'game', 'center', 'shoulder', 'date', 'buffalo', 'green', 'white',\n",
    "    'bootleg', 'snowball', 'centre', 'coloring', 'kisses', 'games', 'rose',\n",
    "    'sucker', 'table', 'cat', 'cats', 'dog', 'dogs', 'rock', 'cups', 'cut',\n",
    "    \"side\", \"joints\", \"legs\", \"punch\", \"rocks\", \"scratch\", \"dish\", \"stick\", \"jack\",\n",
    "    \"dip\", \"feed\", \"bite\", \"brain\", 'dates', 'pops','stock'\n",
    "])\n",
    "dp_food_words = {w:False for w in ambiguous_words | exclude_words}\n",
    "for w in foodb_words | weber_lexicon:\n",
    "    dp_food_words[w] = True\n",
    "additional_words = []\n",
    "\n",
    "def word_isin(w, cats):\n",
    "    cats    = set(cats)\n",
    "    w       = textblob.Word(w)\n",
    "    synsets = w.synsets\n",
    "    \n",
    "    visited = set()\n",
    "    \n",
    "    # word has been searched before\n",
    "    if w in dp_food_words:\n",
    "        return dp_food_words[w]\n",
    "    \n",
    "    while synsets:\n",
    "        insert_parents = True\n",
    "        cursyn = synsets.pop(0)\n",
    "        visited.add(cursyn)\n",
    "        \n",
    "        # synset has been seen before\n",
    "        if cursyn in dp_food_words:\n",
    "            if dp_food_words[cursyn]:\n",
    "                # add word to our dp dict\n",
    "                dp_food_words[w] = True\n",
    "#                 additional_words.append(str(w))\n",
    "                return True\n",
    "            else:\n",
    "                continue\n",
    "        \n",
    "        # synset matches our categories\n",
    "        if cursyn in cats:\n",
    "            dp_food_words[cursyn] = True\n",
    "            #print(cursyn, True)\n",
    "            return True\n",
    "        # synset does not match our categories\n",
    "        else:\n",
    "            parents = cursyn.hypernyms()\n",
    "            #print(\"%s <- %s\" % (cursyn, parents))\n",
    "            synsets.extend(parents)\n",
    "    \n",
    "    # if we find a word that doesn't match our categories, we know that none of the\n",
    "    # visited synset match our categories\n",
    "    dp_food_words[w] = False\n",
    "    for syn in visited:\n",
    "        dp_food_words[syn] = False\n",
    "    return False\n",
    "\n"
   ]
  },
  {
   "cell_type": "code",
   "execution_count": 2038,
   "metadata": {
    "collapsed": false
   },
   "outputs": [],
   "source": [
    "def wn_fraction(tw, cats):\n",
    "    tokens = tokenize(tw, liwc=False, keep_hashtags=False, keep_mentions=False, keep_urls=False, bigrams=False)\n",
    "    #tokens = tw.lower().split()\n",
    "    matches = np.array([1 if word_isin(tk, cats) else 0 for tk in tokens])\n",
    "    return np.sum(matches)/matches.shape[0]\n",
    "\n",
    "n_users['wn_fraction_food'] = n_users.food_tweets.progress_apply(lambda l: [wn_fraction(tw, food_wn) for tw in l])\n",
    "s_users['wn_fraction_food'] = s_users.food_tweets.progress_apply(lambda l: [wn_fraction(tw, food_wn) for tw in l])"
   ]
  },
  {
   "cell_type": "code",
   "execution_count": 2049,
   "metadata": {
    "code_folding": [
     0
    ],
    "collapsed": false,
    "scrolled": true
   },
   "outputs": [],
   "source": [
    "def parse_k(k):\n",
    "    r = str(k).lower()\n",
    "    if type(k) == textblob.Word:\n",
    "        pass\n",
    "    elif type(k) == nltk.corpus.reader.wordnet.Synset:\n",
    "        if r.startswith('synset'):\n",
    "            r = r.split(\"'\")[1]\n",
    "    return r\n",
    "\n",
    "dft = pd.DataFrame([{'name':parse_k(k), 'is_food': v} for k, v in dp_food_words.items()])\n",
    "dft.index = dft['name']"
   ]
  },
  {
   "cell_type": "code",
   "execution_count": 2050,
   "metadata": {
    "collapsed": false
   },
   "outputs": [
    {
     "data": {
      "image/png": "[encoded data removed]",
      "text/plain": [
       "<matplotlib.figure.Figure at 0x7f43fa1c6ba8>"
      ]
     },
     "metadata": {},
     "output_type": "display_data"
    }
   ],
   "source": [
    "wn_fractions_df = pd.DataFrame([\n",
    "        n_users['wn_fraction_food'].apply(lambda _: np.mean(_) if _ else 0),\n",
    "        s_users['wn_fraction_food'].apply(lambda _: np.mean(_) if _ else 0)\n",
    "    ],\n",
    "                               index=['match', 'sporty']).T\n",
    "axes = wn_fractions_df.hist(alpha=1, bins=30, figsize=(20,5), sharey=True, sharex=True)"
   ]
  },
  {
   "cell_type": "code",
   "execution_count": 2051,
   "metadata": {
    "collapsed": false
   },
   "outputs": [
    {
     "name": "stdout",
     "output_type": "stream",
     "text": [
      "Keeping tweets with a score of at least 0.15 and users with at least 10 remaining tweets.\n",
      "Yield 530 users per group.\n"
     ]
    }
   ],
   "source": [
    "def filter_out_wn_ratio(row, thresh):\n",
    "    return [tw for tw, ratio in zip(row.food_tweets, row.wn_fraction_food) if ratio >= thresh]\n",
    "\n",
    "ratio_thresh = 0.15\n",
    "count_thresh = 10\n",
    "n_wn_ratio_tweets = n_users.apply(lambda _: filter_out_wn_ratio(_, ratio_thresh), axis=1)\n",
    "s_wn_ratio_tweets = s_users.apply(lambda _: filter_out_wn_ratio(_, ratio_thresh), axis=1)\n",
    "\n",
    "keep_idx = ((n_wn_ratio_tweets.apply(len) > count_thresh) & (s_wn_ratio_tweets.apply(len) > count_thresh))\n",
    "n_wn_ratio_tweets = n_wn_ratio_tweets[keep_idx]\n",
    "s_wn_ratio_tweets = s_wn_ratio_tweets[keep_idx]\n",
    "print(\"Keeping tweets with a score of at least %.2f and users with at least %d remaining tweets.\" % (ratio_thresh, count_thresh))\n",
    "print(\"Yield %d users per group.\" % n_wn_ratio_tweets.shape[0])"
   ]
  },
  {
   "cell_type": "code",
   "execution_count": 2216,
   "metadata": {
    "collapsed": false
   },
   "outputs": [
    {
     "name": "stderr",
     "output_type": "stream",
     "text": [
      "/home/virgile/.local/lib/python3.4/site-packages/IPython/core/displayhook.py:260: UserWarning: Output cache limit (currently 1000 entries) hit.\n",
      "Flushing oldest 200 entries.\n",
      "  'Flushing oldest {cull_count} entries.'.format(sz=sz, cull_count=cull_count))\n"
     ]
    },
    {
     "data": {
      "text/plain": [
       "63500"
      ]
     },
     "execution_count": 2216,
     "metadata": {},
     "output_type": "execute_result"
    }
   ],
   "source": [
    "n_users[keep_idx].food_tweets.apply(len).sum() #s_users[keep_idx].tweets.apply(len).sum()"
   ]
  },
  {
   "cell_type": "markdown",
   "metadata": {},
   "source": [
    "#### K-means clustering"
   ]
  },
  {
   "cell_type": "code",
   "execution_count": 2053,
   "metadata": {
    "collapsed": false
   },
   "outputs": [
    {
     "name": "stdout",
     "output_type": "stream",
     "text": [
      "Vectorize data...\n",
      "Done in 0.56s.\n",
      "5031 features.\n",
      "Run KMeans clustering...\n",
      "Done in 2.87s.\n",
      "Vectorize data...\n",
      "Done in 0.58s.\n",
      "5593 features.\n",
      "Run KMeans clustering...\n",
      "Done in 2.67s.\n",
      "Vectorize data...\n",
      "Done in 1.04s.\n",
      "8312 features.\n",
      "Run KMeans clustering...\n",
      "Done in 10.61s.\n"
     ]
    }
   ],
   "source": [
    "stopwords_punc = pd.read_csv(\"./stopwords_punc\", header=None, names=['word']).word.tolist()\n",
    "stopwords_punc += [_.replace(\"'\", \"’\") for _ in stopwords_punc]\n",
    "all_wn_ratio_tweets = n_wn_ratio_tweets.append(s_wn_ratio_tweets)\n",
    "\n",
    "vec_n, features_n, X_n, kmeans_n, kmeans_top_fts_n = cluster_users_tweets(n_users, n_wn_ratio_tweets, n_clusters=10, max_iter=300, stop_words=stopwords_punc,\n",
    "                                                                          tokenize_kwargs=dict(keep_hashtags=False, keep_mentions=False, keep_urls=False, bigrams=False, liwc=False, ))\n",
    "vec_s, features_s, X_s, kmeans_s, kmeans_top_fts_s = cluster_users_tweets(s_users, s_wn_ratio_tweets, n_clusters=10, max_iter=300, stop_words=stopwords_punc,\n",
    "                                                                          tokenize_kwargs=dict(keep_hashtags=False, keep_mentions=False, keep_urls=False, bigrams=False, liwc=False))\n",
    "vec_a, features_a, X_a, kmeans_a, kmeans_top_fts_a = cluster_users_tweets(None, all_wn_ratio_tweets, n_clusters=10, max_iter=300, n_words=1000, stop_words=stopwords_punc,\n",
    "                                                                          tokenize_kwargs=dict(keep_hashtags=False, keep_mentions=False, keep_urls=False, bigrams=False, liwc=False))"
   ]
  },
  {
   "cell_type": "code",
   "execution_count": 2054,
   "metadata": {
    "collapsed": false,
    "scrolled": true
   },
   "outputs": [
    {
     "data": {
      "text/html": [
       "<div>\n",
       "<table border=\"1\" class=\"dataframe\">\n",
       "  <thead>\n",
       "    <tr style=\"text-align: right;\">\n",
       "      <th></th>\n",
       "      <th>cluster_1</th>\n",
       "      <th>cluster_2</th>\n",
       "      <th>cluster_3</th>\n",
       "      <th>cluster_4</th>\n",
       "      <th>cluster_5</th>\n",
       "      <th>cluster_6</th>\n",
       "      <th>cluster_7</th>\n",
       "      <th>cluster_8</th>\n",
       "      <th>cluster_9</th>\n",
       "      <th>cluster_10</th>\n",
       "    </tr>\n",
       "  </thead>\n",
       "  <tbody>\n",
       "    <tr>\n",
       "      <th>0</th>\n",
       "      <td>michael</td>\n",
       "      <td>made</td>\n",
       "      <td>ale</td>\n",
       "      <td>NUMBER</td>\n",
       "      <td>date</td>\n",
       "      <td>cream</td>\n",
       "      <td>pizza</td>\n",
       "      <td>sweet</td>\n",
       "      <td>sweet</td>\n",
       "      <td>sweet</td>\n",
       "    </tr>\n",
       "    <tr>\n",
       "      <th>1</th>\n",
       "      <td>pots</td>\n",
       "      <td>chocolate</td>\n",
       "      <td>stout</td>\n",
       "      <td>beer</td>\n",
       "      <td>today</td>\n",
       "      <td>like</td>\n",
       "      <td>badge</td>\n",
       "      <td>NUMBER</td>\n",
       "      <td>pizza</td>\n",
       "      <td>water</td>\n",
       "    </tr>\n",
       "    <tr>\n",
       "      <th>2</th>\n",
       "      <td>fortunately</td>\n",
       "      <td>soup</td>\n",
       "      <td>beer</td>\n",
       "      <td>sweet</td>\n",
       "      <td>just</td>\n",
       "      <td>ice</td>\n",
       "      <td>unlocked</td>\n",
       "      <td>coffee</td>\n",
       "      <td>good</td>\n",
       "      <td>coffee</td>\n",
       "    </tr>\n",
       "    <tr>\n",
       "      <th>3</th>\n",
       "      <td>gather</td>\n",
       "      <td>salad</td>\n",
       "      <td>drinking</td>\n",
       "      <td>bacon</td>\n",
       "      <td>sweet</td>\n",
       "      <td>chicken</td>\n",
       "      <td>sweet</td>\n",
       "      <td>beer</td>\n",
       "      <td>ice</td>\n",
       "      <td>cream</td>\n",
       "    </tr>\n",
       "    <tr>\n",
       "      <th>4</th>\n",
       "      <td>release</td>\n",
       "      <td>now</td>\n",
       "      <td>porter</td>\n",
       "      <td>coffee</td>\n",
       "      <td>NUMBER</td>\n",
       "      <td>just</td>\n",
       "      <td>taco</td>\n",
       "      <td>water</td>\n",
       "      <td>cream</td>\n",
       "      <td>date</td>\n",
       "    </tr>\n",
       "    <tr>\n",
       "      <th>5</th>\n",
       "      <td>filipino</td>\n",
       "      <td>butter</td>\n",
       "      <td>brewing</td>\n",
       "      <td>dinner</td>\n",
       "      <td>cream</td>\n",
       "      <td>sweet</td>\n",
       "      <td>level</td>\n",
       "      <td>chicken</td>\n",
       "      <td>coffee</td>\n",
       "      <td>pizza</td>\n",
       "    </tr>\n",
       "    <tr>\n",
       "      <th>6</th>\n",
       "      <td>adobo</td>\n",
       "      <td>rice</td>\n",
       "      <td>NUMBER</td>\n",
       "      <td>pizza</td>\n",
       "      <td>ice</td>\n",
       "      <td>butter</td>\n",
       "      <td>w</td>\n",
       "      <td>ice</td>\n",
       "      <td>spirit</td>\n",
       "      <td>night</td>\n",
       "    </tr>\n",
       "    <tr>\n",
       "      <th>7</th>\n",
       "      <td>colorful</td>\n",
       "      <td>good</td>\n",
       "      <td>amp</td>\n",
       "      <td>cream</td>\n",
       "      <td>lunch</td>\n",
       "      <td>pizza</td>\n",
       "      <td>bell</td>\n",
       "      <td>pizza</td>\n",
       "      <td>amp</td>\n",
       "      <td>ice</td>\n",
       "    </tr>\n",
       "    <tr>\n",
       "      <th>8</th>\n",
       "      <td>saratoga</td>\n",
       "      <td>cheese</td>\n",
       "      <td>coffee</td>\n",
       "      <td>water</td>\n",
       "      <td>love</td>\n",
       "      <td>cheese</td>\n",
       "      <td>just</td>\n",
       "      <td>cheese</td>\n",
       "      <td>taco</td>\n",
       "      <td>NUMBER</td>\n",
       "    </tr>\n",
       "    <tr>\n",
       "      <th>9</th>\n",
       "      <td>way</td>\n",
       "      <td>make</td>\n",
       "      <td>pic</td>\n",
       "      <td>fish</td>\n",
       "      <td>like</td>\n",
       "      <td>coffee</td>\n",
       "      <td>great</td>\n",
       "      <td>cream</td>\n",
       "      <td>pic</td>\n",
       "      <td>pumpkin</td>\n",
       "    </tr>\n",
       "    <tr>\n",
       "      <th>10</th>\n",
       "      <td>car</td>\n",
       "      <td>bread</td>\n",
       "      <td>taco</td>\n",
       "      <td>amp</td>\n",
       "      <td>coffee</td>\n",
       "      <td>chocolate</td>\n",
       "      <td>cheese</td>\n",
       "      <td>just</td>\n",
       "      <td>chicken</td>\n",
       "      <td>chicken</td>\n",
       "    </tr>\n",
       "    <tr>\n",
       "      <th>11</th>\n",
       "      <td>research</td>\n",
       "      <td>delicious</td>\n",
       "      <td>pale</td>\n",
       "      <td>chicken</td>\n",
       "      <td>dinner</td>\n",
       "      <td>cake</td>\n",
       "      <td>NUMBER</td>\n",
       "      <td>good</td>\n",
       "      <td>NUMBER</td>\n",
       "      <td>dinner</td>\n",
       "    </tr>\n",
       "    <tr>\n",
       "      <th>12</th>\n",
       "      <td>springs</td>\n",
       "      <td>milk</td>\n",
       "      <td>co</td>\n",
       "      <td>good</td>\n",
       "      <td>time</td>\n",
       "      <td>want</td>\n",
       "      <td>pic</td>\n",
       "      <td>chocolate</td>\n",
       "      <td>meat</td>\n",
       "      <td>cheese</td>\n",
       "    </tr>\n",
       "    <tr>\n",
       "      <th>13</th>\n",
       "      <td>gourmet</td>\n",
       "      <td>eat</td>\n",
       "      <td>chicken</td>\n",
       "      <td>like</td>\n",
       "      <td>milk</td>\n",
       "      <td>water</td>\n",
       "      <td>food</td>\n",
       "      <td>w</td>\n",
       "      <td>w</td>\n",
       "      <td>beer</td>\n",
       "    </tr>\n",
       "    <tr>\n",
       "      <th>14</th>\n",
       "      <td>popcorn</td>\n",
       "      <td>just</td>\n",
       "      <td>dinner</td>\n",
       "      <td>ice</td>\n",
       "      <td>new</td>\n",
       "      <td>date</td>\n",
       "      <td>lunch</td>\n",
       "      <td>like</td>\n",
       "      <td>waffles</td>\n",
       "      <td>chocolate</td>\n",
       "    </tr>\n",
       "    <tr>\n",
       "      <th>15</th>\n",
       "      <td>figs</td>\n",
       "      <td>day</td>\n",
       "      <td>sweet</td>\n",
       "      <td>eggs</td>\n",
       "      <td>much</td>\n",
       "      <td>drink</td>\n",
       "      <td>cream</td>\n",
       "      <td>lunch</td>\n",
       "      <td>like</td>\n",
       "      <td>just</td>\n",
       "    </tr>\n",
       "    <tr>\n",
       "      <th>16</th>\n",
       "      <td>star</td>\n",
       "      <td>dinner</td>\n",
       "      <td>good</td>\n",
       "      <td>just</td>\n",
       "      <td>butter</td>\n",
       "      <td>taco</td>\n",
       "      <td>via</td>\n",
       "      <td>day</td>\n",
       "      <td>cheese</td>\n",
       "      <td>lunch</td>\n",
       "    </tr>\n",
       "    <tr>\n",
       "      <th>17</th>\n",
       "      <td>broadway</td>\n",
       "      <td>love</td>\n",
       "      <td>w</td>\n",
       "      <td>day</td>\n",
       "      <td>cake</td>\n",
       "      <td>now</td>\n",
       "      <td>cracker</td>\n",
       "      <td>time</td>\n",
       "      <td>salad</td>\n",
       "      <td>thanks</td>\n",
       "    </tr>\n",
       "    <tr>\n",
       "      <th>18</th>\n",
       "      <td>grounds</td>\n",
       "      <td>breakfast</td>\n",
       "      <td>chocolate</td>\n",
       "      <td>time</td>\n",
       "      <td>year</td>\n",
       "      <td>tea</td>\n",
       "      <td>ice</td>\n",
       "      <td>EMOTICONSMILE</td>\n",
       "      <td>others</td>\n",
       "      <td>like</td>\n",
       "    </tr>\n",
       "    <tr>\n",
       "      <th>19</th>\n",
       "      <td>wings</td>\n",
       "      <td>tonight</td>\n",
       "      <td>ipa</td>\n",
       "      <td>wine</td>\n",
       "      <td>chocolate</td>\n",
       "      <td>good</td>\n",
       "      <td>chicken</td>\n",
       "      <td>cake</td>\n",
       "      <td>just</td>\n",
       "      <td>garden</td>\n",
       "    </tr>\n",
       "    <tr>\n",
       "      <th>20</th>\n",
       "      <td>thanks</td>\n",
       "      <td>one</td>\n",
       "      <td>pizza</td>\n",
       "      <td>cheese</td>\n",
       "      <td>honey</td>\n",
       "      <td>eating</td>\n",
       "      <td>fish</td>\n",
       "      <td>new</td>\n",
       "      <td>buffalo</td>\n",
       "      <td>home</td>\n",
       "    </tr>\n",
       "    <tr>\n",
       "      <th>21</th>\n",
       "      <td>tea</td>\n",
       "      <td>ice</td>\n",
       "      <td>wine</td>\n",
       "      <td>beef</td>\n",
       "      <td>watching</td>\n",
       "      <td>NUMBER</td>\n",
       "      <td>awesome</td>\n",
       "      <td>food</td>\n",
       "      <td>salt</td>\n",
       "      <td>day</td>\n",
       "    </tr>\n",
       "    <tr>\n",
       "      <th>22</th>\n",
       "      <td>milk</td>\n",
       "      <td>food</td>\n",
       "      <td>house</td>\n",
       "      <td>great</td>\n",
       "      <td>chicken</td>\n",
       "      <td>beer</td>\n",
       "      <td>love</td>\n",
       "      <td>amp</td>\n",
       "      <td>ham</td>\n",
       "      <td>fish</td>\n",
       "    </tr>\n",
       "    <tr>\n",
       "      <th>23</th>\n",
       "      <td>fears</td>\n",
       "      <td>sauce</td>\n",
       "      <td>company</td>\n",
       "      <td>night</td>\n",
       "      <td>pasta</td>\n",
       "      <td>nuts</td>\n",
       "      <td>chocolate</td>\n",
       "      <td>wine</td>\n",
       "      <td>fruit</td>\n",
       "      <td>w</td>\n",
       "    </tr>\n",
       "    <tr>\n",
       "      <th>24</th>\n",
       "      <td>NUMBER's</td>\n",
       "      <td>today</td>\n",
       "      <td>others</td>\n",
       "      <td>tea</td>\n",
       "      <td>amp</td>\n",
       "      <td>bacon</td>\n",
       "      <td>water</td>\n",
       "      <td>drink</td>\n",
       "      <td>go</td>\n",
       "      <td>cake</td>\n",
       "    </tr>\n",
       "    <tr>\n",
       "      <th>25</th>\n",
       "      <td>variation</td>\n",
       "      <td>time</td>\n",
       "      <td>bar</td>\n",
       "      <td>salad</td>\n",
       "      <td>food</td>\n",
       "      <td>sauce</td>\n",
       "      <td>dinner</td>\n",
       "      <td>dinner</td>\n",
       "      <td>beer</td>\n",
       "      <td>bacon</td>\n",
       "    </tr>\n",
       "    <tr>\n",
       "      <th>26</th>\n",
       "      <td>wild</td>\n",
       "      <td>homemade</td>\n",
       "      <td>cream</td>\n",
       "      <td>drink</td>\n",
       "      <td>cheese</td>\n",
       "      <td>bear</td>\n",
       "      <td>coffee</td>\n",
       "      <td>love</td>\n",
       "      <td>chocolate</td>\n",
       "      <td>wine</td>\n",
       "    </tr>\n",
       "    <tr>\n",
       "      <th>27</th>\n",
       "      <td>best</td>\n",
       "      <td>like</td>\n",
       "      <td>lager</td>\n",
       "      <td>w</td>\n",
       "      <td>sandwiches</td>\n",
       "      <td>milk</td>\n",
       "      <td>barrel</td>\n",
       "      <td>best</td>\n",
       "      <td>turtle</td>\n",
       "      <td>olive</td>\n",
       "    </tr>\n",
       "    <tr>\n",
       "      <th>28</th>\n",
       "      <td>sugar</td>\n",
       "      <td>cake</td>\n",
       "      <td>like</td>\n",
       "      <td>burger</td>\n",
       "      <td>lol</td>\n",
       "      <td>eat</td>\n",
       "      <td>pumpkin</td>\n",
       "      <td>date</td>\n",
       "      <td>dinner</td>\n",
       "      <td>great</td>\n",
       "    </tr>\n",
       "    <tr>\n",
       "      <th>29</th>\n",
       "      <td>favorited</td>\n",
       "      <td>lunch</td>\n",
       "      <td>great</td>\n",
       "      <td>oh</td>\n",
       "      <td>egg</td>\n",
       "      <td>breakfast</td>\n",
       "      <td>others</td>\n",
       "      <td>breakfast</td>\n",
       "      <td>beef</td>\n",
       "      <td>turkey</td>\n",
       "    </tr>\n",
       "  </tbody>\n",
       "</table>\n",
       "</div>"
      ],
      "text/plain": [
       "      cluster_1  cluster_2  cluster_3 cluster_4   cluster_5  cluster_6  \\\n",
       "0       michael       made        ale    NUMBER        date      cream   \n",
       "1          pots  chocolate      stout      beer       today       like   \n",
       "2   fortunately       soup       beer     sweet        just        ice   \n",
       "3        gather      salad   drinking     bacon       sweet    chicken   \n",
       "4       release        now     porter    coffee      NUMBER       just   \n",
       "5      filipino     butter    brewing    dinner       cream      sweet   \n",
       "6         adobo       rice     NUMBER     pizza         ice     butter   \n",
       "7      colorful       good        amp     cream       lunch      pizza   \n",
       "8      saratoga     cheese     coffee     water        love     cheese   \n",
       "9           way       make        pic      fish        like     coffee   \n",
       "10          car      bread       taco       amp      coffee  chocolate   \n",
       "11     research  delicious       pale   chicken      dinner       cake   \n",
       "12      springs       milk         co      good        time       want   \n",
       "13      gourmet        eat    chicken      like        milk      water   \n",
       "14      popcorn       just     dinner       ice         new       date   \n",
       "15         figs        day      sweet      eggs        much      drink   \n",
       "16         star     dinner       good      just      butter       taco   \n",
       "17     broadway       love          w       day        cake        now   \n",
       "18      grounds  breakfast  chocolate      time        year        tea   \n",
       "19        wings    tonight        ipa      wine   chocolate       good   \n",
       "20       thanks        one      pizza    cheese       honey     eating   \n",
       "21          tea        ice       wine      beef    watching     NUMBER   \n",
       "22         milk       food      house     great     chicken       beer   \n",
       "23        fears      sauce    company     night       pasta       nuts   \n",
       "24     NUMBER's      today     others       tea         amp      bacon   \n",
       "25    variation       time        bar     salad        food      sauce   \n",
       "26         wild   homemade      cream     drink      cheese       bear   \n",
       "27         best       like      lager         w  sandwiches       milk   \n",
       "28        sugar       cake       like    burger         lol        eat   \n",
       "29    favorited      lunch      great        oh         egg  breakfast   \n",
       "\n",
       "    cluster_7      cluster_8  cluster_9 cluster_10  \n",
       "0       pizza          sweet      sweet      sweet  \n",
       "1       badge         NUMBER      pizza      water  \n",
       "2    unlocked         coffee       good     coffee  \n",
       "3       sweet           beer        ice      cream  \n",
       "4        taco          water      cream       date  \n",
       "5       level        chicken     coffee      pizza  \n",
       "6           w            ice     spirit      night  \n",
       "7        bell          pizza        amp        ice  \n",
       "8        just         cheese       taco     NUMBER  \n",
       "9       great          cream        pic    pumpkin  \n",
       "10     cheese           just    chicken    chicken  \n",
       "11     NUMBER           good     NUMBER     dinner  \n",
       "12        pic      chocolate       meat     cheese  \n",
       "13       food              w          w       beer  \n",
       "14      lunch           like    waffles  chocolate  \n",
       "15      cream          lunch       like       just  \n",
       "16        via            day     cheese      lunch  \n",
       "17    cracker           time      salad     thanks  \n",
       "18        ice  EMOTICONSMILE     others       like  \n",
       "19    chicken           cake       just     garden  \n",
       "20       fish            new    buffalo       home  \n",
       "21    awesome           food       salt        day  \n",
       "22       love            amp        ham       fish  \n",
       "23  chocolate           wine      fruit          w  \n",
       "24      water          drink         go       cake  \n",
       "25     dinner         dinner       beer      bacon  \n",
       "26     coffee           love  chocolate       wine  \n",
       "27     barrel           best     turtle      olive  \n",
       "28    pumpkin           date     dinner      great  \n",
       "29     others      breakfast       beef     turkey  "
      ]
     },
     "execution_count": 2054,
     "metadata": {},
     "output_type": "execute_result"
    }
   ],
   "source": [
    "kmeans_top_fts_a[:30]"
   ]
  },
  {
   "cell_type": "markdown",
   "metadata": {},
   "source": [
    "#### LDA topics "
   ]
  },
  {
   "cell_type": "code",
   "execution_count": 2055,
   "metadata": {
    "collapsed": false,
    "scrolled": false
   },
   "outputs": [],
   "source": [
    "from sklearn.decomposition import LatentDirichletAllocation\n",
    "\n",
    "def print_top_words(model, feature_names, n_top_words):\n",
    "    df = pd.DataFrame()\n",
    "    for topic_idx, topic in enumerate(model.components_):\n",
    "        df['topic_%d' % topic_idx] = feature_names[topic.argsort()[::-1]][:n_top_words]\n",
    "    return df\n",
    "\n",
    "lda = LatentDirichletAllocation(n_topics=10, max_iter=30,\n",
    "                            learning_method='online', \n",
    "                            learning_offset=3.,\n",
    "                            random_state=0)"
   ]
  },
  {
   "cell_type": "code",
   "execution_count": 2056,
   "metadata": {
    "collapsed": false
   },
   "outputs": [
    {
     "data": {
      "text/html": [
       "<div>\n",
       "<table border=\"1\" class=\"dataframe\">\n",
       "  <thead>\n",
       "    <tr style=\"text-align: right;\">\n",
       "      <th></th>\n",
       "      <th>topic_0</th>\n",
       "      <th>topic_1</th>\n",
       "      <th>topic_2</th>\n",
       "      <th>topic_3</th>\n",
       "      <th>topic_4</th>\n",
       "      <th>topic_5</th>\n",
       "      <th>topic_6</th>\n",
       "      <th>topic_7</th>\n",
       "      <th>topic_8</th>\n",
       "      <th>topic_9</th>\n",
       "    </tr>\n",
       "  </thead>\n",
       "  <tbody>\n",
       "    <tr>\n",
       "      <th>0</th>\n",
       "      <td>nice</td>\n",
       "      <td>sweet</td>\n",
       "      <td>mulberry</td>\n",
       "      <td>sauce</td>\n",
       "      <td>support</td>\n",
       "      <td>one</td>\n",
       "      <td>chicken</td>\n",
       "      <td>chocolate</td>\n",
       "      <td>check</td>\n",
       "      <td>stadium</td>\n",
       "    </tr>\n",
       "    <tr>\n",
       "      <th>1</th>\n",
       "      <td>harvest</td>\n",
       "      <td>coffee</td>\n",
       "      <td>castle</td>\n",
       "      <td>sugar</td>\n",
       "      <td>spirit</td>\n",
       "      <td>cream</td>\n",
       "      <td>water</td>\n",
       "      <td>coffee</td>\n",
       "      <td>water</td>\n",
       "      <td>birthday</td>\n",
       "    </tr>\n",
       "    <tr>\n",
       "      <th>2</th>\n",
       "      <td>water</td>\n",
       "      <td>pizza</td>\n",
       "      <td>bag</td>\n",
       "      <td>good</td>\n",
       "      <td>day</td>\n",
       "      <td>egg</td>\n",
       "      <td>today</td>\n",
       "      <td>red</td>\n",
       "      <td>pizza</td>\n",
       "      <td>bell</td>\n",
       "    </tr>\n",
       "    <tr>\n",
       "      <th>3</th>\n",
       "      <td>enjoying</td>\n",
       "      <td>like</td>\n",
       "      <td>villa</td>\n",
       "      <td>red</td>\n",
       "      <td>earth</td>\n",
       "      <td>lunch</td>\n",
       "      <td>company</td>\n",
       "      <td>sweet</td>\n",
       "      <td>sweet</td>\n",
       "      <td>ice</td>\n",
       "    </tr>\n",
       "    <tr>\n",
       "      <th>4</th>\n",
       "      <td>great</td>\n",
       "      <td>NUMBER</td>\n",
       "      <td>heath</td>\n",
       "      <td>cream</td>\n",
       "      <td>raccoon</td>\n",
       "      <td>beer</td>\n",
       "      <td>best</td>\n",
       "      <td>wine</td>\n",
       "      <td>code</td>\n",
       "      <td>dinner</td>\n",
       "    </tr>\n",
       "    <tr>\n",
       "      <th>5</th>\n",
       "      <td>carrots</td>\n",
       "      <td>chicken</td>\n",
       "      <td>citrus</td>\n",
       "      <td>taste</td>\n",
       "      <td>snowing</td>\n",
       "      <td>cheese</td>\n",
       "      <td>lunch</td>\n",
       "      <td>peanut</td>\n",
       "      <td>full</td>\n",
       "      <td>ketchup</td>\n",
       "    </tr>\n",
       "    <tr>\n",
       "      <th>6</th>\n",
       "      <td>passing</td>\n",
       "      <td>chocolate</td>\n",
       "      <td>oreo</td>\n",
       "      <td>beer</td>\n",
       "      <td>shark</td>\n",
       "      <td>fish</td>\n",
       "      <td>time</td>\n",
       "      <td>beer</td>\n",
       "      <td>just</td>\n",
       "      <td>taco</td>\n",
       "    </tr>\n",
       "    <tr>\n",
       "      <th>7</th>\n",
       "      <td>loving</td>\n",
       "      <td>just</td>\n",
       "      <td>grove</td>\n",
       "      <td>drink</td>\n",
       "      <td>drives</td>\n",
       "      <td>just</td>\n",
       "      <td>pizza</td>\n",
       "      <td>cream</td>\n",
       "      <td>oh</td>\n",
       "      <td>cake</td>\n",
       "    </tr>\n",
       "    <tr>\n",
       "      <th>8</th>\n",
       "      <td>nyc</td>\n",
       "      <td>cream</td>\n",
       "      <td>final</td>\n",
       "      <td>NUMBER</td>\n",
       "      <td>split</td>\n",
       "      <td>butter</td>\n",
       "      <td>coffee</td>\n",
       "      <td>now</td>\n",
       "      <td>honey</td>\n",
       "      <td>left</td>\n",
       "    </tr>\n",
       "    <tr>\n",
       "      <th>9</th>\n",
       "      <td>mainly</td>\n",
       "      <td>beer</td>\n",
       "      <td>pork</td>\n",
       "      <td>going</td>\n",
       "      <td>grass</td>\n",
       "      <td>w</td>\n",
       "      <td>just</td>\n",
       "      <td>mushroom</td>\n",
       "      <td>amp</td>\n",
       "      <td>night</td>\n",
       "    </tr>\n",
       "  </tbody>\n",
       "</table>\n",
       "</div>"
      ],
      "text/plain": [
       "    topic_0    topic_1   topic_2 topic_3  topic_4 topic_5  topic_6    topic_7  \\\n",
       "0      nice      sweet  mulberry   sauce  support     one  chicken  chocolate   \n",
       "1   harvest     coffee    castle   sugar   spirit   cream    water     coffee   \n",
       "2     water      pizza       bag    good      day     egg    today        red   \n",
       "3  enjoying       like     villa     red    earth   lunch  company      sweet   \n",
       "4     great     NUMBER     heath   cream  raccoon    beer     best       wine   \n",
       "5   carrots    chicken    citrus   taste  snowing  cheese    lunch     peanut   \n",
       "6   passing  chocolate      oreo    beer    shark    fish     time       beer   \n",
       "7    loving       just     grove   drink   drives    just    pizza      cream   \n",
       "8       nyc      cream     final  NUMBER    split  butter   coffee        now   \n",
       "9    mainly       beer      pork   going    grass       w     just   mushroom   \n",
       "\n",
       "  topic_8   topic_9  \n",
       "0   check   stadium  \n",
       "1   water  birthday  \n",
       "2   pizza      bell  \n",
       "3   sweet       ice  \n",
       "4    code    dinner  \n",
       "5    full   ketchup  \n",
       "6    just      taco  \n",
       "7      oh      cake  \n",
       "8   honey      left  \n",
       "9     amp     night  "
      ]
     },
     "execution_count": 2056,
     "metadata": {},
     "output_type": "execute_result"
    }
   ],
   "source": [
    "lda.fit(X_n)\n",
    "print_top_words(lda, features_n, 10)"
   ]
  },
  {
   "cell_type": "code",
   "execution_count": 2057,
   "metadata": {
    "collapsed": false
   },
   "outputs": [
    {
     "data": {
      "text/html": [
       "<div>\n",
       "<table border=\"1\" class=\"dataframe\">\n",
       "  <thead>\n",
       "    <tr style=\"text-align: right;\">\n",
       "      <th></th>\n",
       "      <th>topic_0</th>\n",
       "      <th>topic_1</th>\n",
       "      <th>topic_2</th>\n",
       "      <th>topic_3</th>\n",
       "      <th>topic_4</th>\n",
       "      <th>topic_5</th>\n",
       "      <th>topic_6</th>\n",
       "      <th>topic_7</th>\n",
       "      <th>topic_8</th>\n",
       "      <th>topic_9</th>\n",
       "    </tr>\n",
       "  </thead>\n",
       "  <tbody>\n",
       "    <tr>\n",
       "      <th>0</th>\n",
       "      <td>NUMBER</td>\n",
       "      <td>caribou</td>\n",
       "      <td>now</td>\n",
       "      <td>agave</td>\n",
       "      <td>need</td>\n",
       "      <td>great</td>\n",
       "      <td>wings</td>\n",
       "      <td>sweet</td>\n",
       "      <td>milk</td>\n",
       "      <td>well</td>\n",
       "    </tr>\n",
       "    <tr>\n",
       "      <th>1</th>\n",
       "      <td>pizza</td>\n",
       "      <td>degree</td>\n",
       "      <td>salt</td>\n",
       "      <td>cabbage</td>\n",
       "      <td>EMOTICONSMILE</td>\n",
       "      <td>meat</td>\n",
       "      <td>buffalo</td>\n",
       "      <td>chicken</td>\n",
       "      <td>dream</td>\n",
       "      <td>billiards</td>\n",
       "    </tr>\n",
       "    <tr>\n",
       "      <th>2</th>\n",
       "      <td>ice</td>\n",
       "      <td>night</td>\n",
       "      <td>unicorn</td>\n",
       "      <td>photography</td>\n",
       "      <td>job</td>\n",
       "      <td>eggs</td>\n",
       "      <td>wild</td>\n",
       "      <td>NUMBER</td>\n",
       "      <td>salad</td>\n",
       "      <td>chicken</td>\n",
       "    </tr>\n",
       "    <tr>\n",
       "      <th>3</th>\n",
       "      <td>tea</td>\n",
       "      <td>long</td>\n",
       "      <td>new</td>\n",
       "      <td>spirit</td>\n",
       "      <td>sweet</td>\n",
       "      <td>m</td>\n",
       "      <td>beaver</td>\n",
       "      <td>ice</td>\n",
       "      <td>drinking</td>\n",
       "      <td>cheese</td>\n",
       "    </tr>\n",
       "    <tr>\n",
       "      <th>4</th>\n",
       "      <td>good</td>\n",
       "      <td>helps</td>\n",
       "      <td>beans</td>\n",
       "      <td>feed</td>\n",
       "      <td>lol</td>\n",
       "      <td>nuts</td>\n",
       "      <td>dunkin</td>\n",
       "      <td>coffee</td>\n",
       "      <td>hmmm</td>\n",
       "      <td>biscuits</td>\n",
       "    </tr>\n",
       "    <tr>\n",
       "      <th>5</th>\n",
       "      <td>make</td>\n",
       "      <td>pudding</td>\n",
       "      <td>sweet</td>\n",
       "      <td>love</td>\n",
       "      <td>water</td>\n",
       "      <td>sauce</td>\n",
       "      <td>years</td>\n",
       "      <td>cream</td>\n",
       "      <td>sheep</td>\n",
       "      <td>mexican</td>\n",
       "    </tr>\n",
       "    <tr>\n",
       "      <th>6</th>\n",
       "      <td>amp</td>\n",
       "      <td>congrats</td>\n",
       "      <td>beef</td>\n",
       "      <td>morning</td>\n",
       "      <td>slight</td>\n",
       "      <td>wine</td>\n",
       "      <td>saratoga</td>\n",
       "      <td>pizza</td>\n",
       "      <td>food</td>\n",
       "      <td>pizza</td>\n",
       "    </tr>\n",
       "    <tr>\n",
       "      <th>7</th>\n",
       "      <td>wine</td>\n",
       "      <td>aww</td>\n",
       "      <td>zucchini</td>\n",
       "      <td>cards</td>\n",
       "      <td>pint</td>\n",
       "      <td>cheese</td>\n",
       "      <td>decaf</td>\n",
       "      <td>dinner</td>\n",
       "      <td>smoothies</td>\n",
       "      <td>addictive</td>\n",
       "    </tr>\n",
       "    <tr>\n",
       "      <th>8</th>\n",
       "      <td>pie</td>\n",
       "      <td>servings</td>\n",
       "      <td>time</td>\n",
       "      <td>coffee</td>\n",
       "      <td>cheese</td>\n",
       "      <td>chocolate</td>\n",
       "      <td>closely</td>\n",
       "      <td>water</td>\n",
       "      <td>rum</td>\n",
       "      <td>world</td>\n",
       "    </tr>\n",
       "    <tr>\n",
       "      <th>9</th>\n",
       "      <td>cream</td>\n",
       "      <td>marietta</td>\n",
       "      <td>bacon</td>\n",
       "      <td>lotus</td>\n",
       "      <td>beer</td>\n",
       "      <td>coffee</td>\n",
       "      <td>grounds</td>\n",
       "      <td>day</td>\n",
       "      <td>coffee</td>\n",
       "      <td>washington</td>\n",
       "    </tr>\n",
       "  </tbody>\n",
       "</table>\n",
       "</div>"
      ],
      "text/plain": [
       "  topic_0   topic_1   topic_2      topic_3        topic_4    topic_5  \\\n",
       "0  NUMBER   caribou       now        agave           need      great   \n",
       "1   pizza    degree      salt      cabbage  EMOTICONSMILE       meat   \n",
       "2     ice     night   unicorn  photography            job       eggs   \n",
       "3     tea      long       new       spirit          sweet          m   \n",
       "4    good     helps     beans         feed            lol       nuts   \n",
       "5    make   pudding     sweet         love          water      sauce   \n",
       "6     amp  congrats      beef      morning         slight       wine   \n",
       "7    wine       aww  zucchini        cards           pint     cheese   \n",
       "8     pie  servings      time       coffee         cheese  chocolate   \n",
       "9   cream  marietta     bacon        lotus           beer     coffee   \n",
       "\n",
       "    topic_6  topic_7    topic_8     topic_9  \n",
       "0     wings    sweet       milk        well  \n",
       "1   buffalo  chicken      dream   billiards  \n",
       "2      wild   NUMBER      salad     chicken  \n",
       "3    beaver      ice   drinking      cheese  \n",
       "4    dunkin   coffee       hmmm    biscuits  \n",
       "5     years    cream      sheep     mexican  \n",
       "6  saratoga    pizza       food       pizza  \n",
       "7     decaf   dinner  smoothies   addictive  \n",
       "8   closely    water        rum       world  \n",
       "9   grounds      day     coffee  washington  "
      ]
     },
     "execution_count": 2057,
     "metadata": {},
     "output_type": "execute_result"
    }
   ],
   "source": [
    "lda.fit(X_s)\n",
    "print_top_words(lda, features_s, 10)"
   ]
  },
  {
   "cell_type": "markdown",
   "metadata": {},
   "source": [
    "## Find most discriminative features"
   ]
  },
  {
   "cell_type": "code",
   "execution_count": 2058,
   "metadata": {
    "collapsed": false
   },
   "outputs": [],
   "source": [
    "from sklearn.preprocessing import LabelEncoder"
   ]
  },
  {
   "cell_type": "code",
   "execution_count": 2472,
   "metadata": {
    "collapsed": false
   },
   "outputs": [],
   "source": [
    "# vectorized tweets\n",
    "X_a\n",
    "# create label\n",
    "users_per_group = len(n_wn_ratio_tweets)\n",
    "y_a = np.zeros((2*users_per_group))\n",
    "y_a[users_per_group:] = 1\n",
    "\n",
    "# debug classes\n",
    "g = n_users.gender[keep_idx].as_matrix()\n",
    "g = np.hstack([g,g])"
   ]
  },
  {
   "cell_type": "code",
   "execution_count": 2060,
   "metadata": {
    "collapsed": false
   },
   "outputs": [],
   "source": [
    "X_af, y_af = X_a[g == 'f'], y_a[g == 'f']\n",
    "X_am, y_am = X_a[g == 'm'], y_a[g == 'm']"
   ]
  },
  {
   "cell_type": "markdown",
   "metadata": {},
   "source": [
    "### Chi2"
   ]
  },
  {
   "cell_type": "code",
   "execution_count": 2061,
   "metadata": {
    "collapsed": true
   },
   "outputs": [],
   "source": [
    "def most_discrim_chi2(X,y,features,n):\n",
    "    x2, pval = chi2(X, y)\n",
    "    sorted_idx = x2.argsort()\n",
    "    sorted_idx = sorted_idx[:(x2 >= 0).sum()]\n",
    "    sorted_idx = [i for i in sorted_idx if x2[i] != np.nan]\n",
    "    print(len(sorted_idx))\n",
    "    keep = sorted_idx[::-1][:n]\n",
    "    top_fts = features[keep]\n",
    "    top_coef = x2[keep]\n",
    "    df = pd.DataFrame()\n",
    "    df['feature_name'] = top_fts\n",
    "    df['chi2'] = top_coef\n",
    "    return df"
   ]
  },
  {
   "cell_type": "code",
   "execution_count": 2062,
   "metadata": {
    "collapsed": false,
    "scrolled": true
   },
   "outputs": [
    {
     "name": "stdout",
     "output_type": "stream",
     "text": [
      "8312\n"
     ]
    },
    {
     "data": {
      "text/html": [
       "<div>\n",
       "<table border=\"1\" class=\"dataframe\">\n",
       "  <thead>\n",
       "    <tr style=\"text-align: right;\">\n",
       "      <th></th>\n",
       "      <th>feature_name</th>\n",
       "      <th>chi2</th>\n",
       "    </tr>\n",
       "  </thead>\n",
       "  <tbody>\n",
       "    <tr>\n",
       "      <th>0</th>\n",
       "      <td>state</td>\n",
       "      <td>1.354095</td>\n",
       "    </tr>\n",
       "    <tr>\n",
       "      <th>1</th>\n",
       "      <td>NUMBERk</td>\n",
       "      <td>1.225188</td>\n",
       "    </tr>\n",
       "    <tr>\n",
       "      <th>2</th>\n",
       "      <td>others</td>\n",
       "      <td>1.142201</td>\n",
       "    </tr>\n",
       "    <tr>\n",
       "      <th>3</th>\n",
       "      <td>il</td>\n",
       "      <td>1.091043</td>\n",
       "    </tr>\n",
       "    <tr>\n",
       "      <th>4</th>\n",
       "      <td>starbucks</td>\n",
       "      <td>1.073655</td>\n",
       "    </tr>\n",
       "    <tr>\n",
       "      <th>5</th>\n",
       "      <td>pub</td>\n",
       "      <td>1.060098</td>\n",
       "    </tr>\n",
       "    <tr>\n",
       "      <th>6</th>\n",
       "      <td>co</td>\n",
       "      <td>1.000441</td>\n",
       "    </tr>\n",
       "    <tr>\n",
       "      <th>7</th>\n",
       "      <td>instagram</td>\n",
       "      <td>0.925813</td>\n",
       "    </tr>\n",
       "    <tr>\n",
       "      <th>8</th>\n",
       "      <td>event</td>\n",
       "      <td>0.921656</td>\n",
       "    </tr>\n",
       "    <tr>\n",
       "      <th>9</th>\n",
       "      <td>imperial</td>\n",
       "      <td>0.904301</td>\n",
       "    </tr>\n",
       "    <tr>\n",
       "      <th>10</th>\n",
       "      <td>gifts</td>\n",
       "      <td>0.898809</td>\n",
       "    </tr>\n",
       "    <tr>\n",
       "      <th>11</th>\n",
       "      <td>lewis</td>\n",
       "      <td>0.866037</td>\n",
       "    </tr>\n",
       "    <tr>\n",
       "      <th>12</th>\n",
       "      <td>tickets</td>\n",
       "      <td>0.852366</td>\n",
       "    </tr>\n",
       "    <tr>\n",
       "      <th>13</th>\n",
       "      <td>samuel</td>\n",
       "      <td>0.850168</td>\n",
       "    </tr>\n",
       "    <tr>\n",
       "      <th>14</th>\n",
       "      <td>mi</td>\n",
       "      <td>0.840469</td>\n",
       "    </tr>\n",
       "    <tr>\n",
       "      <th>15</th>\n",
       "      <td>loss</td>\n",
       "      <td>0.834834</td>\n",
       "    </tr>\n",
       "    <tr>\n",
       "      <th>16</th>\n",
       "      <td>cafe</td>\n",
       "      <td>0.819792</td>\n",
       "    </tr>\n",
       "    <tr>\n",
       "      <th>17</th>\n",
       "      <td>hawk</td>\n",
       "      <td>0.816354</td>\n",
       "    </tr>\n",
       "    <tr>\n",
       "      <th>18</th>\n",
       "      <td>bro</td>\n",
       "      <td>0.816166</td>\n",
       "    </tr>\n",
       "    <tr>\n",
       "      <th>19</th>\n",
       "      <td>higher</td>\n",
       "      <td>0.814851</td>\n",
       "    </tr>\n",
       "    <tr>\n",
       "      <th>20</th>\n",
       "      <td>robot</td>\n",
       "      <td>0.810706</td>\n",
       "    </tr>\n",
       "    <tr>\n",
       "      <th>21</th>\n",
       "      <td>run</td>\n",
       "      <td>0.807289</td>\n",
       "    </tr>\n",
       "    <tr>\n",
       "      <th>22</th>\n",
       "      <td>chilli</td>\n",
       "      <td>0.793861</td>\n",
       "    </tr>\n",
       "    <tr>\n",
       "      <th>23</th>\n",
       "      <td>tears</td>\n",
       "      <td>0.789539</td>\n",
       "    </tr>\n",
       "    <tr>\n",
       "      <th>24</th>\n",
       "      <td>pilsner</td>\n",
       "      <td>0.787680</td>\n",
       "    </tr>\n",
       "    <tr>\n",
       "      <th>25</th>\n",
       "      <td>casino</td>\n",
       "      <td>0.787499</td>\n",
       "    </tr>\n",
       "    <tr>\n",
       "      <th>26</th>\n",
       "      <td>grill</td>\n",
       "      <td>0.784550</td>\n",
       "    </tr>\n",
       "    <tr>\n",
       "      <th>27</th>\n",
       "      <td>names</td>\n",
       "      <td>0.781651</td>\n",
       "    </tr>\n",
       "    <tr>\n",
       "      <th>28</th>\n",
       "      <td>workout</td>\n",
       "      <td>0.778043</td>\n",
       "    </tr>\n",
       "    <tr>\n",
       "      <th>29</th>\n",
       "      <td>peel</td>\n",
       "      <td>0.776905</td>\n",
       "    </tr>\n",
       "    <tr>\n",
       "      <th>30</th>\n",
       "      <td>indulge</td>\n",
       "      <td>0.774160</td>\n",
       "    </tr>\n",
       "    <tr>\n",
       "      <th>31</th>\n",
       "      <td>rogue</td>\n",
       "      <td>0.774120</td>\n",
       "    </tr>\n",
       "    <tr>\n",
       "      <th>32</th>\n",
       "      <td>molasses</td>\n",
       "      <td>0.768593</td>\n",
       "    </tr>\n",
       "    <tr>\n",
       "      <th>33</th>\n",
       "      <td>fuckin</td>\n",
       "      <td>0.760929</td>\n",
       "    </tr>\n",
       "    <tr>\n",
       "      <th>34</th>\n",
       "      <td>thai</td>\n",
       "      <td>0.755631</td>\n",
       "    </tr>\n",
       "    <tr>\n",
       "      <th>35</th>\n",
       "      <td>pic</td>\n",
       "      <td>0.754709</td>\n",
       "    </tr>\n",
       "    <tr>\n",
       "      <th>36</th>\n",
       "      <td>digital</td>\n",
       "      <td>0.754347</td>\n",
       "    </tr>\n",
       "    <tr>\n",
       "      <th>37</th>\n",
       "      <td>aid</td>\n",
       "      <td>0.752680</td>\n",
       "    </tr>\n",
       "    <tr>\n",
       "      <th>38</th>\n",
       "      <td>gather</td>\n",
       "      <td>0.747641</td>\n",
       "    </tr>\n",
       "    <tr>\n",
       "      <th>39</th>\n",
       "      <td>motion</td>\n",
       "      <td>0.744650</td>\n",
       "    </tr>\n",
       "    <tr>\n",
       "      <th>40</th>\n",
       "      <td>formerly</td>\n",
       "      <td>0.743360</td>\n",
       "    </tr>\n",
       "    <tr>\n",
       "      <th>41</th>\n",
       "      <td>jerry's</td>\n",
       "      <td>0.742282</td>\n",
       "    </tr>\n",
       "    <tr>\n",
       "      <th>42</th>\n",
       "      <td>lost</td>\n",
       "      <td>0.739225</td>\n",
       "    </tr>\n",
       "    <tr>\n",
       "      <th>43</th>\n",
       "      <td>woke</td>\n",
       "      <td>0.734740</td>\n",
       "    </tr>\n",
       "    <tr>\n",
       "      <th>44</th>\n",
       "      <td>trick</td>\n",
       "      <td>0.733480</td>\n",
       "    </tr>\n",
       "    <tr>\n",
       "      <th>45</th>\n",
       "      <td>fritos</td>\n",
       "      <td>0.732301</td>\n",
       "    </tr>\n",
       "    <tr>\n",
       "      <th>46</th>\n",
       "      <td>episode</td>\n",
       "      <td>0.721427</td>\n",
       "    </tr>\n",
       "    <tr>\n",
       "      <th>47</th>\n",
       "      <td>cappuccino</td>\n",
       "      <td>0.718340</td>\n",
       "    </tr>\n",
       "    <tr>\n",
       "      <th>48</th>\n",
       "      <td>soap</td>\n",
       "      <td>0.711862</td>\n",
       "    </tr>\n",
       "    <tr>\n",
       "      <th>49</th>\n",
       "      <td>meets</td>\n",
       "      <td>0.707660</td>\n",
       "    </tr>\n",
       "  </tbody>\n",
       "</table>\n",
       "</div>"
      ],
      "text/plain": [
       "   feature_name      chi2\n",
       "0         state  1.354095\n",
       "1       NUMBERk  1.225188\n",
       "2        others  1.142201\n",
       "3            il  1.091043\n",
       "4     starbucks  1.073655\n",
       "5           pub  1.060098\n",
       "6            co  1.000441\n",
       "7     instagram  0.925813\n",
       "8         event  0.921656\n",
       "9      imperial  0.904301\n",
       "10        gifts  0.898809\n",
       "11        lewis  0.866037\n",
       "12      tickets  0.852366\n",
       "13       samuel  0.850168\n",
       "14           mi  0.840469\n",
       "15         loss  0.834834\n",
       "16         cafe  0.819792\n",
       "17         hawk  0.816354\n",
       "18          bro  0.816166\n",
       "19       higher  0.814851\n",
       "20        robot  0.810706\n",
       "21          run  0.807289\n",
       "22       chilli  0.793861\n",
       "23        tears  0.789539\n",
       "24      pilsner  0.787680\n",
       "25       casino  0.787499\n",
       "26        grill  0.784550\n",
       "27        names  0.781651\n",
       "28      workout  0.778043\n",
       "29         peel  0.776905\n",
       "30      indulge  0.774160\n",
       "31        rogue  0.774120\n",
       "32     molasses  0.768593\n",
       "33       fuckin  0.760929\n",
       "34         thai  0.755631\n",
       "35          pic  0.754709\n",
       "36      digital  0.754347\n",
       "37          aid  0.752680\n",
       "38       gather  0.747641\n",
       "39       motion  0.744650\n",
       "40     formerly  0.743360\n",
       "41      jerry's  0.742282\n",
       "42         lost  0.739225\n",
       "43         woke  0.734740\n",
       "44        trick  0.733480\n",
       "45       fritos  0.732301\n",
       "46      episode  0.721427\n",
       "47   cappuccino  0.718340\n",
       "48         soap  0.711862\n",
       "49        meets  0.707660"
      ]
     },
     "execution_count": 2062,
     "metadata": {},
     "output_type": "execute_result"
    }
   ],
   "source": [
    "# most_discrim_chi2(X_a, y_a, features_a, 50)\n",
    "# most_discrim_chi2(X_af, y_af, features_a, 50)\n",
    "most_discrim_chi2(X_a, y_a, features_a, 50)"
   ]
  },
  {
   "cell_type": "markdown",
   "metadata": {},
   "source": [
    "### Classifier "
   ]
  },
  {
   "cell_type": "code",
   "execution_count": 2063,
   "metadata": {
    "code_folding": [
     0,
     20
    ],
    "collapsed": true
   },
   "outputs": [],
   "source": [
    "def most_discrim_lr(X,y,features,n):\n",
    "    clf = LogisticRegression(class_weight='balanced')\n",
    "    clf.fit(X,y)\n",
    "    print(clf.coef_.shape)\n",
    "    sorted_idx = clf.coef_[0].argsort()\n",
    "    df = pd.DataFrame()\n",
    "\n",
    "    # for class 0\n",
    "    df['match'] = features[sorted_idx][:n]\n",
    "    df['coef_match'] = clf.coef_[0][sorted_idx][:n]\n",
    "    df['is_food_match'] = df.match.apply(lambda _: dp_food_words[_] if _ in dp_food_words else None)\n",
    "    \n",
    "    # for positive class\n",
    "    df['sporty'] = features[sorted_idx][::-1][:n]\n",
    "    df['coef_sporty'] = clf.coef_[0][sorted_idx][::-1][:n]\n",
    "    df['is_food_sporty'] = df.sporty.apply(lambda _: dp_food_words[_] if _ in dp_food_words else None)\n",
    "    return df\n",
    "\n",
    "from sklearn.svm import SVC\n",
    "\n",
    "def most_discrim_svm(X,y,features,n):\n",
    "    clf = SVC(class_weight='balanced', kernel='linear')\n",
    "    clf.fit(X,y)\n",
    "    coefs = clf.coef_.toarray()[0]\n",
    "    sorted_idx = coefs.argsort()\n",
    "    df = pd.DataFrame()\n",
    "\n",
    "    # for class 0\n",
    "    df['match'] = features[sorted_idx][:n]\n",
    "    df['coef_match'] = coefs[sorted_idx][:n]\n",
    "    df['is_food_match'] = df.match.apply(lambda _: dp_food_words[_] if _ in dp_food_words else None)\n",
    "    \n",
    "    # for positive class\n",
    "    df['sporty'] = features[sorted_idx][::-1][:n]\n",
    "    df['coef_sporty'] = coefs[sorted_idx][::-1][:n]\n",
    "    df['is_food_sporty'] = df.sporty.apply(lambda _: dp_food_words[_] if _ in dp_food_words else None)\n",
    "    return df"
   ]
  },
  {
   "cell_type": "code",
   "execution_count": 2221,
   "metadata": {
    "collapsed": false
   },
   "outputs": [
    {
     "data": {
      "text/html": [
       "<div>\n",
       "<table border=\"1\" class=\"dataframe\">\n",
       "  <thead>\n",
       "    <tr style=\"text-align: right;\">\n",
       "      <th></th>\n",
       "      <th>match</th>\n",
       "      <th>coef_match</th>\n",
       "      <th>is_food_match</th>\n",
       "      <th>sporty</th>\n",
       "      <th>coef_sporty</th>\n",
       "      <th>is_food_sporty</th>\n",
       "    </tr>\n",
       "  </thead>\n",
       "  <tbody>\n",
       "    <tr>\n",
       "      <th>0</th>\n",
       "      <td>last</td>\n",
       "      <td>-1.521714</td>\n",
       "      <td>False</td>\n",
       "      <td>others</td>\n",
       "      <td>1.714980</td>\n",
       "      <td>False</td>\n",
       "    </tr>\n",
       "    <tr>\n",
       "      <th>1</th>\n",
       "      <td>wish</td>\n",
       "      <td>-1.314829</td>\n",
       "      <td>False</td>\n",
       "      <td>state</td>\n",
       "      <td>1.639273</td>\n",
       "      <td>False</td>\n",
       "    </tr>\n",
       "    <tr>\n",
       "      <th>2</th>\n",
       "      <td>right</td>\n",
       "      <td>-1.175682</td>\n",
       "      <td>False</td>\n",
       "      <td>looks</td>\n",
       "      <td>1.556419</td>\n",
       "      <td>False</td>\n",
       "    </tr>\n",
       "    <tr>\n",
       "      <th>3</th>\n",
       "      <td>girl</td>\n",
       "      <td>-1.162335</td>\n",
       "      <td>False</td>\n",
       "      <td>burrito</td>\n",
       "      <td>1.519163</td>\n",
       "      <td>True</td>\n",
       "    </tr>\n",
       "    <tr>\n",
       "      <th>4</th>\n",
       "      <td>dr</td>\n",
       "      <td>-1.111511</td>\n",
       "      <td>False</td>\n",
       "      <td>starbucks</td>\n",
       "      <td>1.517611</td>\n",
       "      <td>False</td>\n",
       "    </tr>\n",
       "    <tr>\n",
       "      <th>5</th>\n",
       "      <td>king</td>\n",
       "      <td>-1.095183</td>\n",
       "      <td>False</td>\n",
       "      <td>used</td>\n",
       "      <td>1.402672</td>\n",
       "      <td>False</td>\n",
       "    </tr>\n",
       "    <tr>\n",
       "      <th>6</th>\n",
       "      <td>celery</td>\n",
       "      <td>-1.064572</td>\n",
       "      <td>True</td>\n",
       "      <td>cookies</td>\n",
       "      <td>1.376794</td>\n",
       "      <td>True</td>\n",
       "    </tr>\n",
       "    <tr>\n",
       "      <th>7</th>\n",
       "      <td>plus</td>\n",
       "      <td>-1.059793</td>\n",
       "      <td>False</td>\n",
       "      <td>co</td>\n",
       "      <td>1.323431</td>\n",
       "      <td>False</td>\n",
       "    </tr>\n",
       "    <tr>\n",
       "      <th>8</th>\n",
       "      <td>real</td>\n",
       "      <td>-1.047019</td>\n",
       "      <td>False</td>\n",
       "      <td>cafe</td>\n",
       "      <td>1.315689</td>\n",
       "      <td>False</td>\n",
       "    </tr>\n",
       "    <tr>\n",
       "      <th>9</th>\n",
       "      <td>thanksgiving</td>\n",
       "      <td>-1.031316</td>\n",
       "      <td>False</td>\n",
       "      <td>pic</td>\n",
       "      <td>1.312287</td>\n",
       "      <td>False</td>\n",
       "    </tr>\n",
       "  </tbody>\n",
       "</table>\n",
       "</div>"
      ],
      "text/plain": [
       "          match  coef_match is_food_match     sporty  coef_sporty  \\\n",
       "0          last   -1.521714         False     others     1.714980   \n",
       "1          wish   -1.314829         False      state     1.639273   \n",
       "2         right   -1.175682         False      looks     1.556419   \n",
       "3          girl   -1.162335         False    burrito     1.519163   \n",
       "4            dr   -1.111511         False  starbucks     1.517611   \n",
       "5          king   -1.095183         False       used     1.402672   \n",
       "6        celery   -1.064572          True    cookies     1.376794   \n",
       "7          plus   -1.059793         False         co     1.323431   \n",
       "8          real   -1.047019         False       cafe     1.315689   \n",
       "9  thanksgiving   -1.031316         False        pic     1.312287   \n",
       "\n",
       "  is_food_sporty  \n",
       "0          False  \n",
       "1          False  \n",
       "2          False  \n",
       "3           True  \n",
       "4          False  \n",
       "5          False  \n",
       "6           True  \n",
       "7          False  \n",
       "8          False  \n",
       "9          False  "
      ]
     },
     "execution_count": 2221,
     "metadata": {},
     "output_type": "execute_result"
    }
   ],
   "source": [
    "t = most_discrim_svm(X_a, y_a, features_a, 2000)\n",
    "# print(t[['match','sporty']].head(10).T.to_latex())\n",
    "t.head(10)"
   ]
  },
  {
   "cell_type": "code",
   "execution_count": 2219,
   "metadata": {
    "collapsed": false,
    "scrolled": true
   },
   "outputs": [
    {
     "data": {
      "text/html": [
       "<div>\n",
       "<table border=\"1\" class=\"dataframe\">\n",
       "  <thead>\n",
       "    <tr style=\"text-align: right;\">\n",
       "      <th></th>\n",
       "      <th>match</th>\n",
       "      <th>coef_match</th>\n",
       "    </tr>\n",
       "  </thead>\n",
       "  <tbody>\n",
       "    <tr>\n",
       "      <th>6</th>\n",
       "      <td>celery</td>\n",
       "      <td>-1.064572</td>\n",
       "    </tr>\n",
       "    <tr>\n",
       "      <th>13</th>\n",
       "      <td>gin</td>\n",
       "      <td>-0.979309</td>\n",
       "    </tr>\n",
       "    <tr>\n",
       "      <th>19</th>\n",
       "      <td>mozzarella</td>\n",
       "      <td>-0.938921</td>\n",
       "    </tr>\n",
       "    <tr>\n",
       "      <th>20</th>\n",
       "      <td>pickles</td>\n",
       "      <td>-0.932139</td>\n",
       "    </tr>\n",
       "    <tr>\n",
       "      <th>33</th>\n",
       "      <td>deer</td>\n",
       "      <td>-0.850452</td>\n",
       "    </tr>\n",
       "    <tr>\n",
       "      <th>39</th>\n",
       "      <td>molasses</td>\n",
       "      <td>-0.822965</td>\n",
       "    </tr>\n",
       "    <tr>\n",
       "      <th>42</th>\n",
       "      <td>bananas</td>\n",
       "      <td>-0.816477</td>\n",
       "    </tr>\n",
       "    <tr>\n",
       "      <th>49</th>\n",
       "      <td>wrap</td>\n",
       "      <td>-0.789651</td>\n",
       "    </tr>\n",
       "    <tr>\n",
       "      <th>56</th>\n",
       "      <td>curds</td>\n",
       "      <td>-0.749237</td>\n",
       "    </tr>\n",
       "    <tr>\n",
       "      <th>61</th>\n",
       "      <td>frank</td>\n",
       "      <td>-0.727422</td>\n",
       "    </tr>\n",
       "  </tbody>\n",
       "</table>\n",
       "</div>"
      ],
      "text/plain": [
       "         match  coef_match\n",
       "6       celery   -1.064572\n",
       "13         gin   -0.979309\n",
       "19  mozzarella   -0.938921\n",
       "20     pickles   -0.932139\n",
       "33        deer   -0.850452\n",
       "39    molasses   -0.822965\n",
       "42     bananas   -0.816477\n",
       "49        wrap   -0.789651\n",
       "56       curds   -0.749237\n",
       "61       frank   -0.727422"
      ]
     },
     "execution_count": 2219,
     "metadata": {},
     "output_type": "execute_result"
    }
   ],
   "source": [
    "tn = t[(t.is_food_match == True)][[\"match\", \"coef_match\"]]\n",
    "# tn.index += 1\n",
    "# print(tn[['match']][:10].to_latex())\n",
    "tn.head(10)"
   ]
  },
  {
   "cell_type": "code",
   "execution_count": 2220,
   "metadata": {
    "collapsed": false,
    "scrolled": true
   },
   "outputs": [
    {
     "data": {
      "text/html": [
       "<div>\n",
       "<table border=\"1\" class=\"dataframe\">\n",
       "  <thead>\n",
       "    <tr style=\"text-align: right;\">\n",
       "      <th></th>\n",
       "      <th>sporty</th>\n",
       "      <th>coef_sporty</th>\n",
       "    </tr>\n",
       "  </thead>\n",
       "  <tbody>\n",
       "    <tr>\n",
       "      <th>3</th>\n",
       "      <td>burrito</td>\n",
       "      <td>1.519163</td>\n",
       "    </tr>\n",
       "    <tr>\n",
       "      <th>6</th>\n",
       "      <td>cookies</td>\n",
       "      <td>1.376794</td>\n",
       "    </tr>\n",
       "    <tr>\n",
       "      <th>17</th>\n",
       "      <td>broccoli</td>\n",
       "      <td>1.168818</td>\n",
       "    </tr>\n",
       "    <tr>\n",
       "      <th>22</th>\n",
       "      <td>caramel</td>\n",
       "      <td>1.070928</td>\n",
       "    </tr>\n",
       "    <tr>\n",
       "      <th>24</th>\n",
       "      <td>breakfast</td>\n",
       "      <td>1.032914</td>\n",
       "    </tr>\n",
       "    <tr>\n",
       "      <th>29</th>\n",
       "      <td>carrot</td>\n",
       "      <td>1.007481</td>\n",
       "    </tr>\n",
       "    <tr>\n",
       "      <th>30</th>\n",
       "      <td>burritos</td>\n",
       "      <td>0.981479</td>\n",
       "    </tr>\n",
       "    <tr>\n",
       "      <th>31</th>\n",
       "      <td>coconut</td>\n",
       "      <td>0.976295</td>\n",
       "    </tr>\n",
       "    <tr>\n",
       "      <th>32</th>\n",
       "      <td>onions</td>\n",
       "      <td>0.974893</td>\n",
       "    </tr>\n",
       "    <tr>\n",
       "      <th>33</th>\n",
       "      <td>citrus</td>\n",
       "      <td>0.967632</td>\n",
       "    </tr>\n",
       "  </tbody>\n",
       "</table>\n",
       "</div>"
      ],
      "text/plain": [
       "       sporty  coef_sporty\n",
       "3     burrito     1.519163\n",
       "6     cookies     1.376794\n",
       "17   broccoli     1.168818\n",
       "22    caramel     1.070928\n",
       "24  breakfast     1.032914\n",
       "29     carrot     1.007481\n",
       "30   burritos     0.981479\n",
       "31    coconut     0.976295\n",
       "32     onions     0.974893\n",
       "33     citrus     0.967632"
      ]
     },
     "execution_count": 2220,
     "metadata": {},
     "output_type": "execute_result"
    }
   ],
   "source": [
    "ts = t[(t.is_food_sporty == True)][[\"sporty\",\"coef_sporty\"]]\n",
    "# ts.index += 1\n",
    "# print(ts[['sporty']][:20].to_latex())\n",
    "ts.head(10)"
   ]
  },
  {
   "cell_type": "markdown",
   "metadata": {},
   "source": [
    "#### Break down by gender"
   ]
  },
  {
   "cell_type": "code",
   "execution_count": 2226,
   "metadata": {
    "collapsed": false
   },
   "outputs": [
    {
     "data": {
      "text/html": [
       "<div>\n",
       "<table border=\"1\" class=\"dataframe\">\n",
       "  <thead>\n",
       "    <tr style=\"text-align: right;\">\n",
       "      <th></th>\n",
       "      <th>match</th>\n",
       "      <th>coef_match</th>\n",
       "      <th>is_food_match</th>\n",
       "      <th>sporty</th>\n",
       "      <th>coef_sporty</th>\n",
       "      <th>is_food_sporty</th>\n",
       "    </tr>\n",
       "  </thead>\n",
       "  <tbody>\n",
       "    <tr>\n",
       "      <th>0</th>\n",
       "      <td>lady</td>\n",
       "      <td>-0.821559</td>\n",
       "      <td>False</td>\n",
       "      <td>NUMBERk</td>\n",
       "      <td>1.099589</td>\n",
       "      <td>False</td>\n",
       "    </tr>\n",
       "    <tr>\n",
       "      <th>1</th>\n",
       "      <td>always</td>\n",
       "      <td>-0.812810</td>\n",
       "      <td>False</td>\n",
       "      <td>flatbread</td>\n",
       "      <td>1.012695</td>\n",
       "      <td>True</td>\n",
       "    </tr>\n",
       "    <tr>\n",
       "      <th>2</th>\n",
       "      <td>last</td>\n",
       "      <td>-0.800557</td>\n",
       "      <td>False</td>\n",
       "      <td>baked</td>\n",
       "      <td>0.970875</td>\n",
       "      <td>False</td>\n",
       "    </tr>\n",
       "    <tr>\n",
       "      <th>3</th>\n",
       "      <td>girl</td>\n",
       "      <td>-0.753059</td>\n",
       "      <td>False</td>\n",
       "      <td>finally</td>\n",
       "      <td>0.836318</td>\n",
       "      <td>False</td>\n",
       "    </tr>\n",
       "    <tr>\n",
       "      <th>4</th>\n",
       "      <td>amazing</td>\n",
       "      <td>-0.743593</td>\n",
       "      <td>False</td>\n",
       "      <td>back</td>\n",
       "      <td>0.816438</td>\n",
       "      <td>False</td>\n",
       "    </tr>\n",
       "    <tr>\n",
       "      <th>5</th>\n",
       "      <td>grass</td>\n",
       "      <td>-0.700915</td>\n",
       "      <td>True</td>\n",
       "      <td>park</td>\n",
       "      <td>0.795514</td>\n",
       "      <td>False</td>\n",
       "    </tr>\n",
       "    <tr>\n",
       "      <th>6</th>\n",
       "      <td>pinterest</td>\n",
       "      <td>-0.685918</td>\n",
       "      <td>False</td>\n",
       "      <td>cafe</td>\n",
       "      <td>0.776574</td>\n",
       "      <td>False</td>\n",
       "    </tr>\n",
       "    <tr>\n",
       "      <th>7</th>\n",
       "      <td>crispy</td>\n",
       "      <td>-0.682900</td>\n",
       "      <td>False</td>\n",
       "      <td>glass</td>\n",
       "      <td>0.756262</td>\n",
       "      <td>False</td>\n",
       "    </tr>\n",
       "    <tr>\n",
       "      <th>8</th>\n",
       "      <td>bananas</td>\n",
       "      <td>-0.652198</td>\n",
       "      <td>True</td>\n",
       "      <td>forever</td>\n",
       "      <td>0.755056</td>\n",
       "      <td>False</td>\n",
       "    </tr>\n",
       "    <tr>\n",
       "      <th>9</th>\n",
       "      <td>anyone</td>\n",
       "      <td>-0.650563</td>\n",
       "      <td>False</td>\n",
       "      <td>lots</td>\n",
       "      <td>0.740792</td>\n",
       "      <td>False</td>\n",
       "    </tr>\n",
       "  </tbody>\n",
       "</table>\n",
       "</div>"
      ],
      "text/plain": [
       "       match  coef_match is_food_match     sporty  coef_sporty is_food_sporty\n",
       "0       lady   -0.821559         False    NUMBERk     1.099589          False\n",
       "1     always   -0.812810         False  flatbread     1.012695           True\n",
       "2       last   -0.800557         False      baked     0.970875          False\n",
       "3       girl   -0.753059         False    finally     0.836318          False\n",
       "4    amazing   -0.743593         False       back     0.816438          False\n",
       "5      grass   -0.700915          True       park     0.795514          False\n",
       "6  pinterest   -0.685918         False       cafe     0.776574          False\n",
       "7     crispy   -0.682900         False      glass     0.756262          False\n",
       "8    bananas   -0.652198          True    forever     0.755056          False\n",
       "9     anyone   -0.650563         False       lots     0.740792          False"
      ]
     },
     "execution_count": 2226,
     "metadata": {},
     "output_type": "execute_result"
    }
   ],
   "source": [
    "tf = most_discrim_svm(X_af, y_af, features_a, 2000)\n",
    "tf.head(10)"
   ]
  },
  {
   "cell_type": "code",
   "execution_count": 2245,
   "metadata": {
    "collapsed": false
   },
   "outputs": [
    {
     "data": {
      "text/html": [
       "<div>\n",
       "<table border=\"1\" class=\"dataframe\">\n",
       "  <thead>\n",
       "    <tr style=\"text-align: right;\">\n",
       "      <th></th>\n",
       "      <th>match</th>\n",
       "      <th>coef_match</th>\n",
       "    </tr>\n",
       "  </thead>\n",
       "  <tbody>\n",
       "    <tr>\n",
       "      <th>5</th>\n",
       "      <td>grass</td>\n",
       "      <td>-0.700915</td>\n",
       "    </tr>\n",
       "    <tr>\n",
       "      <th>8</th>\n",
       "      <td>bananas</td>\n",
       "      <td>-0.652198</td>\n",
       "    </tr>\n",
       "    <tr>\n",
       "      <th>13</th>\n",
       "      <td>brownie</td>\n",
       "      <td>-0.612656</td>\n",
       "    </tr>\n",
       "    <tr>\n",
       "      <th>19</th>\n",
       "      <td>chilly</td>\n",
       "      <td>-0.567856</td>\n",
       "    </tr>\n",
       "    <tr>\n",
       "      <th>20</th>\n",
       "      <td>whites</td>\n",
       "      <td>-0.567723</td>\n",
       "    </tr>\n",
       "    <tr>\n",
       "      <th>21</th>\n",
       "      <td>muffin</td>\n",
       "      <td>-0.567248</td>\n",
       "    </tr>\n",
       "    <tr>\n",
       "      <th>31</th>\n",
       "      <td>okra</td>\n",
       "      <td>-0.531004</td>\n",
       "    </tr>\n",
       "    <tr>\n",
       "      <th>33</th>\n",
       "      <td>veggie</td>\n",
       "      <td>-0.524506</td>\n",
       "    </tr>\n",
       "    <tr>\n",
       "      <th>41</th>\n",
       "      <td>goat</td>\n",
       "      <td>-0.501789</td>\n",
       "    </tr>\n",
       "    <tr>\n",
       "      <th>46</th>\n",
       "      <td>pickles</td>\n",
       "      <td>-0.473782</td>\n",
       "    </tr>\n",
       "    <tr>\n",
       "      <th>50</th>\n",
       "      <td>peas</td>\n",
       "      <td>-0.469064</td>\n",
       "    </tr>\n",
       "    <tr>\n",
       "      <th>52</th>\n",
       "      <td>merlot</td>\n",
       "      <td>-0.468170</td>\n",
       "    </tr>\n",
       "    <tr>\n",
       "      <th>61</th>\n",
       "      <td>corn</td>\n",
       "      <td>-0.456932</td>\n",
       "    </tr>\n",
       "    <tr>\n",
       "      <th>69</th>\n",
       "      <td>spice</td>\n",
       "      <td>-0.452086</td>\n",
       "    </tr>\n",
       "    <tr>\n",
       "      <th>75</th>\n",
       "      <td>celery</td>\n",
       "      <td>-0.445026</td>\n",
       "    </tr>\n",
       "    <tr>\n",
       "      <th>80</th>\n",
       "      <td>candies</td>\n",
       "      <td>-0.436733</td>\n",
       "    </tr>\n",
       "    <tr>\n",
       "      <th>90</th>\n",
       "      <td>watermelon</td>\n",
       "      <td>-0.430434</td>\n",
       "    </tr>\n",
       "    <tr>\n",
       "      <th>95</th>\n",
       "      <td>sauces</td>\n",
       "      <td>-0.421821</td>\n",
       "    </tr>\n",
       "    <tr>\n",
       "      <th>96</th>\n",
       "      <td>buns</td>\n",
       "      <td>-0.421158</td>\n",
       "    </tr>\n",
       "    <tr>\n",
       "      <th>103</th>\n",
       "      <td>crab</td>\n",
       "      <td>-0.410646</td>\n",
       "    </tr>\n",
       "  </tbody>\n",
       "</table>\n",
       "</div>"
      ],
      "text/plain": [
       "          match  coef_match\n",
       "5         grass   -0.700915\n",
       "8       bananas   -0.652198\n",
       "13      brownie   -0.612656\n",
       "19       chilly   -0.567856\n",
       "20       whites   -0.567723\n",
       "21       muffin   -0.567248\n",
       "31         okra   -0.531004\n",
       "33       veggie   -0.524506\n",
       "41         goat   -0.501789\n",
       "46      pickles   -0.473782\n",
       "50         peas   -0.469064\n",
       "52       merlot   -0.468170\n",
       "61         corn   -0.456932\n",
       "69        spice   -0.452086\n",
       "75       celery   -0.445026\n",
       "80      candies   -0.436733\n",
       "90   watermelon   -0.430434\n",
       "95       sauces   -0.421821\n",
       "96         buns   -0.421158\n",
       "103        crab   -0.410646"
      ]
     },
     "metadata": {},
     "output_type": "display_data"
    },
    {
     "data": {
      "text/html": [
       "<div>\n",
       "<table border=\"1\" class=\"dataframe\">\n",
       "  <thead>\n",
       "    <tr style=\"text-align: right;\">\n",
       "      <th></th>\n",
       "      <th>sporty</th>\n",
       "      <th>coef_sporty</th>\n",
       "    </tr>\n",
       "  </thead>\n",
       "  <tbody>\n",
       "    <tr>\n",
       "      <th>1</th>\n",
       "      <td>flatbread</td>\n",
       "      <td>1.012695</td>\n",
       "    </tr>\n",
       "    <tr>\n",
       "      <th>11</th>\n",
       "      <td>carrot</td>\n",
       "      <td>0.717673</td>\n",
       "    </tr>\n",
       "    <tr>\n",
       "      <th>13</th>\n",
       "      <td>cookies</td>\n",
       "      <td>0.714745</td>\n",
       "    </tr>\n",
       "    <tr>\n",
       "      <th>17</th>\n",
       "      <td>caramel</td>\n",
       "      <td>0.695935</td>\n",
       "    </tr>\n",
       "    <tr>\n",
       "      <th>18</th>\n",
       "      <td>bean</td>\n",
       "      <td>0.689056</td>\n",
       "    </tr>\n",
       "    <tr>\n",
       "      <th>19</th>\n",
       "      <td>chops</td>\n",
       "      <td>0.688255</td>\n",
       "    </tr>\n",
       "    <tr>\n",
       "      <th>20</th>\n",
       "      <td>waffle</td>\n",
       "      <td>0.686438</td>\n",
       "    </tr>\n",
       "    <tr>\n",
       "      <th>28</th>\n",
       "      <td>pecan</td>\n",
       "      <td>0.648071</td>\n",
       "    </tr>\n",
       "    <tr>\n",
       "      <th>30</th>\n",
       "      <td>split</td>\n",
       "      <td>0.643683</td>\n",
       "    </tr>\n",
       "    <tr>\n",
       "      <th>31</th>\n",
       "      <td>grapes</td>\n",
       "      <td>0.643116</td>\n",
       "    </tr>\n",
       "    <tr>\n",
       "      <th>33</th>\n",
       "      <td>jam</td>\n",
       "      <td>0.639399</td>\n",
       "    </tr>\n",
       "    <tr>\n",
       "      <th>34</th>\n",
       "      <td>goose</td>\n",
       "      <td>0.636424</td>\n",
       "    </tr>\n",
       "    <tr>\n",
       "      <th>40</th>\n",
       "      <td>buffalo</td>\n",
       "      <td>0.609238</td>\n",
       "    </tr>\n",
       "    <tr>\n",
       "      <th>46</th>\n",
       "      <td>broccoli</td>\n",
       "      <td>0.597824</td>\n",
       "    </tr>\n",
       "    <tr>\n",
       "      <th>50</th>\n",
       "      <td>quinoa</td>\n",
       "      <td>0.583977</td>\n",
       "    </tr>\n",
       "    <tr>\n",
       "      <th>55</th>\n",
       "      <td>zucchini</td>\n",
       "      <td>0.549182</td>\n",
       "    </tr>\n",
       "    <tr>\n",
       "      <th>59</th>\n",
       "      <td>burger</td>\n",
       "      <td>0.536981</td>\n",
       "    </tr>\n",
       "    <tr>\n",
       "      <th>64</th>\n",
       "      <td>sucker</td>\n",
       "      <td>0.528457</td>\n",
       "    </tr>\n",
       "    <tr>\n",
       "      <th>66</th>\n",
       "      <td>noodles</td>\n",
       "      <td>0.525099</td>\n",
       "    </tr>\n",
       "    <tr>\n",
       "      <th>77</th>\n",
       "      <td>juice</td>\n",
       "      <td>0.503052</td>\n",
       "    </tr>\n",
       "  </tbody>\n",
       "</table>\n",
       "</div>"
      ],
      "text/plain": [
       "       sporty  coef_sporty\n",
       "1   flatbread     1.012695\n",
       "11     carrot     0.717673\n",
       "13    cookies     0.714745\n",
       "17    caramel     0.695935\n",
       "18       bean     0.689056\n",
       "19      chops     0.688255\n",
       "20     waffle     0.686438\n",
       "28      pecan     0.648071\n",
       "30      split     0.643683\n",
       "31     grapes     0.643116\n",
       "33        jam     0.639399\n",
       "34      goose     0.636424\n",
       "40    buffalo     0.609238\n",
       "46   broccoli     0.597824\n",
       "50     quinoa     0.583977\n",
       "55   zucchini     0.549182\n",
       "59     burger     0.536981\n",
       "64     sucker     0.528457\n",
       "66    noodles     0.525099\n",
       "77      juice     0.503052"
      ]
     },
     "metadata": {},
     "output_type": "display_data"
    }
   ],
   "source": [
    "tf_food_n = tf[tf.is_food_match][['match','coef_match']]\n",
    "tf_food_s = tf[tf.is_food_sporty][['sporty','coef_sporty']]\n",
    "display(tf_food_n.head(20))\n",
    "display(tf_food_s.head(20))"
   ]
  },
  {
   "cell_type": "markdown",
   "metadata": {},
   "source": [
    "### Group by categories "
   ]
  },
  {
   "cell_type": "code",
   "execution_count": 2383,
   "metadata": {
    "collapsed": false
   },
   "outputs": [],
   "source": [
    "tn['food_cat'] = tn.match.apply(lambda _: Counter([c for k,c in food_dict.items()  if _ == k and c]).most_common(1)).apply(lambda _: _[0][0] if _ else None)\n",
    "ts['food_cat'] = ts.sporty.apply(lambda _: Counter([c for k,c in food_dict.items() if _ == k and c]).most_common(1)).apply(lambda _: _[0][0] if _ else None)\n",
    "\n",
    "tn['definition'] = tn.match.apply(lambda _: textblob.Word(_).define())\n",
    "tn['definition'] = tn.definition.apply(lambda _: _[0] if _ else '')\n",
    "ts['definition'] = ts.sporty.apply(lambda _: textblob.Word(_).define())\n",
    "ts['definition'] = ts.definition.apply(lambda _: _[0] if _ else '')\n",
    "\n",
    "# = tn.merge(weber_df, how='left', left_on='match', right_on='food_name').dropna(subset=['food_cat'])\n",
    "# t2['avg_cal_per_serving'] = t2.avg_cal_per_serving.astype(float)\n",
    "# g2 = t2.groupby(\"food_cat\")"
   ]
  },
  {
   "cell_type": "code",
   "execution_count": 2384,
   "metadata": {
    "collapsed": false
   },
   "outputs": [
    {
     "name": "stdout",
     "output_type": "stream",
     "text": [
      "113 out of 309 (36.57%) food features are associated with a category.\n",
      "131 out of 321 (40.81%) food features are associated with a category.\n"
     ]
    }
   ],
   "source": [
    "def amount_detected_food_features(s):\n",
    "    nfeats = s.shape[0]\n",
    "    ndefined = (~s.food_cat.isnull()).sum()\n",
    "    print(\"%d out of %d (%.2f%%) food features are associated with a category.\" % (ndefined, nfeats, 100*ndefined/nfeats))\n",
    "\n",
    "amount_detected_food_features(tn)\n",
    "amount_detected_food_features(ts)"
   ]
  },
  {
   "cell_type": "code",
   "execution_count": 2385,
   "metadata": {
    "collapsed": false
   },
   "outputs": [],
   "source": [
    "all_cats = (set(tn.food_cat.unique()) | set(ts.food_cat.unique())) - {None}"
   ]
  },
  {
   "cell_type": "code",
   "execution_count": 2335,
   "metadata": {
    "collapsed": true
   },
   "outputs": [],
   "source": [
    "def bar_hatch(df, ax):\n",
    "    bars = ax.patches\n",
    "    hatches = ''.join(h*len(df) for h in 'X ')\n",
    "\n",
    "    for bar, hatch in zip(bars, hatches):\n",
    "        bar.set_hatch(hatch)\n",
    "    ax.legend(loc='upper right')"
   ]
  },
  {
   "cell_type": "code",
   "execution_count": 2398,
   "metadata": {
    "collapsed": false
   },
   "outputs": [
    {
     "data": {
      "image/png": "[encoded data removed]",
      "text/plain": [
       "<matplotlib.figure.Figure at 0x7f441261fdd8>"
      ]
     },
     "metadata": {},
     "output_type": "display_data"
    }
   ],
   "source": [
    "df = pd.DataFrame()\n",
    "df['sporty'] = ts.food_cat.value_counts()\n",
    "df['sporty'] /= df.sporty.sum()\n",
    "df['match']  = tn.food_cat.value_counts()\n",
    "df['match'] /= df.match.sum()\n",
    "df['diff'] = np.abs(df.sporty - df.match)\n",
    "df['total'] = df.sporty+df.match\n",
    "df = df.sort_values(by='total', ascending=False)\n",
    "df = df[['sporty','match']]\n",
    "# df.index = [_.capitalize() if len(_.split()) <= 2 else _.split()[0].capitalize() for _ in df.index]\n",
    "\n",
    "df = df[:15]\n",
    "fig, ax = plt.subplots()\n",
    "df.plot(kind='bar', ax=ax, color='white', linewidth=1)\n",
    "ax.set_ylabel(\"Ratio of food related features\")\n",
    "ax.grid(True)\n",
    "\n",
    "bar_hatch(df,ax)\n",
    "plt.tight_layout()\n",
    "fig.savefig(\"top_food_cats.png\", dpi=600)"
   ]
  },
  {
   "cell_type": "markdown",
   "metadata": {},
   "source": [
    "## Load good guides and exemplars data "
   ]
  },
  {
   "cell_type": "code",
   "execution_count": 2399,
   "metadata": {
    "collapsed": false,
    "scrolled": true
   },
   "outputs": [
    {
     "name": "stdout",
     "output_type": "stream",
     "text": [
      "Vegetables (30 in sporty and 20 in match)\n",
      "- sporty\n",
      "\t- broccoli       : plant with dense clusters of tight green flower buds\n",
      "\t- carrot         : deep orange edible root of the cultivated carrot plant\n",
      "\t- onions         : the bulb of an onion plant\n",
      "\t- beans          : any of various edible seeds of plants of the family Leguminosae used for food\n",
      "\t- asparagus      : plant whose succulent young shoots are cooked and eaten as a vegetable\n",
      "\t- kale           : informal terms for money\n",
      "\t- root           : (botany) the usually underground organ that lacks buds or leaves or nodes; absorbs water and mineral salts; usually it a...\n",
      "\t- cauliflower    : a plant having a large edible head of crowded white flower buds\n",
      "\t- vegetable      : edible seeds or roots or stems or leaves or bulbs or tubers or nonsweet fruits of any of numerous herbaceous plant\n",
      "\t- mushroom       : common name for an edible agaric (contrasting with the inedible toadstool)\n",
      "- match\n",
      "\t- celery         : widely cultivated herb with aromatic leaf stalks that are eaten raw or cooked\n",
      "\t- pickles        : vegetables (especially cucumbers) preserved in brine or vinegar\n",
      "\t- okra           : long green edible beaked pods of the okra plant\n",
      "\t- pea            : seed of a pea plant used for food\n",
      "\t- yam            : edible tuber of any of several yams\n",
      "\t- avocados       : a pear-shaped tropical fruit with green or blackish skin and rich yellowish pulp enclosing a single large seed\n",
      "\t- lettuce        : informal terms for money\n",
      "\t- capers         : any of numerous plants of the genus Capparis\n",
      "\t- tomatoes       : mildly acid red or yellow pulpy fruit eaten as a vegetable\n",
      "\t- beets          : biennial Eurasian plant usually having a swollen edible root; widely cultivated as a food crop\n",
      "----------------------------------------------------------------------------------------------------\n",
      "Fruits (15 in sporty and 15 in match)\n",
      "- sporty\n",
      "\t- coconut        : the edible white meat of a coconut; often shredded for use in e.g. cakes and curries\n",
      "\t- berry          : any of numerous small and pulpy edible fruits; used as desserts or in making jams and jellies and preserves\n",
      "\t- pear           : sweet juicy gritty-textured fruit available in many varieties\n",
      "\t- nectarine      : variety or mutation of the peach bearing fruit with smooth skin and (usually) yellow flesh\n",
      "\t- apricots       : Asian tree having clusters of usually white blossoms and edible fruit resembling the peach\n",
      "\t- blackberries   : large sweet black or very dark purple edible aggregate fruit of any of various bushes of the genus Rubus\n",
      "\t- jam            : preserve of crushed fruit\n",
      "\t- fruit          : the ripened reproductive body of a seed plant\n",
      "\t- apricot        : Asian tree having clusters of usually white blossoms and edible fruit resembling the peach\n",
      "\t- cranberry      : any of numerous shrubs of genus Vaccinium bearing cranberries\n",
      "- match\n",
      "\t- apples         : fruit with red or yellow or green skin and sweet to tart crisp whitish flesh\n",
      "\t- grape          : any of various juicy fruit of the genus Vitis with green or purple skins; grow in clusters\n",
      "\t- peaches        : cultivated in temperate regions\n",
      "\t- papaya         : tropical American shrub or small tree having huge deeply palmately cleft leaves and large oblong yellow fruit\n",
      "\t- banana         : any of several tropical and subtropical treelike herbs of the genus Musa having a terminal crown of large entire leaves ...\n",
      "\t- cherries       : wood of any of various cherry trees especially the black cherry\n",
      "\t- plum           : any of several trees producing edible oval fruit having a smooth skin and a single hard stone\n",
      "\t- nance          : offensive term for an openly homosexual man\n",
      "\t- strawberry     : sweet fleshy red fruit\n",
      "\t- cranberries    : any of numerous shrubs of genus Vaccinium bearing cranberries\n",
      "----------------------------------------------------------------------------------------------------\n",
      "Meats (13 in sporty and 14 in match)\n",
      "- sporty\n",
      "\t- beef           : cattle that are reared for their meat\n",
      "\t- moose          : large northern deer with enormous flattened antlers in the male; called `elk' in Europe and `moose' in North America\n",
      "\t- pepperoni      : a pork and beef sausage (or a thin slice of this sausage)\n",
      "\t- rib            : support resembling the rib of an animal\n",
      "\t- beaver         : the soft brown fur of the beaver\n",
      "\t- sheep          : woolly usually horned ruminant mammal related to the goat\n",
      "\t- bison          : any of several large humped bovids having shaggy manes and large heads and short horns\n",
      "\t- kidney         : either of two bean-shaped excretory organs that filter wastes (especially urea) from the blood and excrete them and wate...\n",
      "\t- ostrich        : a person who refuses to face reality or recognize the truth (a reference to the popular notion that the ostrich hides fr...\n",
      "\t- loin           : a cut of meat taken from the side and back of an animal between the ribs and the rump\n",
      "- match\n",
      "\t- deer           : distinguished from Bovidae by the male's having solid deciduous antlers\n",
      "\t- rabbit         : any of various burrowing animals of the family Leporidae having long ears and short tails; some domesticated and raised ...\n",
      "\t- veal           : meat from a calf\n",
      "\t- bratwurst      : a small pork sausage\n",
      "\t- goat           : any of numerous agile ruminants related to sheep but having a beard and straight horns\n",
      "\t- salami         : highly seasoned fatty sausage of pork and beef usually dried\n",
      "\t- horse          : solid-hoofed herbivorous quadruped domesticated since prehistoric times\n",
      "\t- shoulder       : the part of the body between the neck and the upper arm\n",
      "\t- antelope       : graceful Old World ruminant with long legs and horns directed upward and backward; includes gazelles; springboks; impala...\n",
      "\t- barbecue       : meat that has been barbecued or grilled in a highly seasoned sauce\n",
      "----------------------------------------------------------------------------------------------------\n",
      "Herbs and spices (18 in sporty and 8 in match)\n",
      "- sporty\n",
      "\t- quinoa         : \n",
      "\t- ginger         : perennial plants having thick branching aromatic rhizomes and leafy reedlike stems\n",
      "\t- chia           : \n",
      "\t- sesame         : East Indian annual erect herb; source of sesame seed or benniseed and sesame oil\n",
      "\t- vanilla        : any of numerous climbing plants of the genus Vanilla having fleshy leaves and clusters of large waxy highly fragrant whi...\n",
      "\t- peppermint     : herb with downy leaves and small purple or white flowers that yields a pungent oil used as a flavoring\n",
      "\t- wasabi         : a Japanese plant of the family Cruciferae with a thick green root\n",
      "\t- rosemary       : widely cultivated for its fragrant grey-green leaves used in cooking and in perfumery\n",
      "\t- spices         : aromatic substances of vegetable origin used as a preservative\n",
      "\t- poppy          : annual or biennial or perennial herbs having showy flowers\n",
      "- match\n",
      "\t- dandelion      : any of several herbs of the genus Taraxacum having long tap roots and deeply notched leaves and bright yellow flowers fo...\n",
      "\t- basil          : any of several Old World tropical aromatic annual or perennial herbs of the genus Ocimum\n",
      "\t- cardamom       : rhizomatous herb of India having aromatic seeds used as seasoning\n",
      "\t- cloves         : aromatic flower bud of a clove tree; yields a spice\n",
      "\t- pepper         : climber having dark red berries (peppercorns) when fully ripe; southern India and Sri Lanka; naturalized in northern Bur...\n",
      "\t- breaded        : cover with bread crumbs\n",
      "\t- saffron        : Old World crocus having purple or white flowers with aromatic pungent orange stigmas used in flavoring food\n",
      "\t- parsley        : annual or perennial herb with aromatic leaves\n",
      "----------------------------------------------------------------------------------------------------\n",
      "Seafood (3 in sporty and 12 in match)\n",
      "- sporty\n",
      "\t- fish           : any of various mostly cold-blooded aquatic vertebrates usually having scales and breathing through gills\n",
      "\t- anchovy        : tiny fishes usually canned or salted; used for hors d'oeuvres or as seasoning in sauces\n",
      "\t- walleye        : strabismus in which one or both eyes are directed outward\n",
      "- match\n",
      "\t- oyster         : marine mollusks having a rough irregular shell; found on the sea bed mostly in coastal waters\n",
      "\t- jellyfish      : large siphonophore having a bladderlike float and stinging tentacles\n",
      "\t- smelt          : small cold-water silvery fish; migrate between salt and fresh water\n",
      "\t- conch          : any of various edible tropical marine gastropods of the genus Strombus having a brightly-colored spiral shell with large...\n",
      "\t- snail          : freshwater or marine or terrestrial gastropod mollusk usually having an external enclosing spiral shell\n",
      "\t- roe            : fish eggs or egg-filled ovary; having a grainy texture\n",
      "\t- whitefish      : any market fish--edible saltwater fish or shellfish--except herring\n",
      "\t- sturgeon       : large primitive fishes valued for their flesh and roe; widely distributed in the North Temperate Zone\n",
      "\t- swordfish      : flesh of swordfish usually served as steaks\n",
      "\t- grouper        : flesh of a saltwater fish similar to sea bass\n",
      "----------------------------------------------------------------------------------------------------\n",
      "Dairy (5 in sporty and 10 in match)\n",
      "- sporty\n",
      "\t- yogurt         : a custard-like food made from curdled milk\n",
      "\t- butter         : an edible emulsion of fat globules made by churning milk or cream; for cooking and table use\n",
      "\t- fontina        : \n",
      "\t- parmesan       : hard dry sharp-flavored Italian cheese; often grated\n",
      "\t- ricotta        : soft Italian cheese like cottage cheese\n",
      "- match\n",
      "\t- mozzarella     : mild white Italian cheese\n",
      "\t- cheddar        : a village in southwestern England where cheddar cheese was first made\n",
      "\t- feta           : \n",
      "\t- milk           : a white nutritious liquid secreted by mammals and used as food by human beings\n",
      "\t- colby          : \n",
      "\t- icecream       : frozen dessert containing cream and sugar and flavoring\n",
      "\t- egg            : animal reproductive body consisting of an ovum or embryo together with nutritive and protective envelopes; especially th...\n",
      "\t- cheshire       : \n",
      "\t- whey           : the serum or watery part of milk that is separated from the curd in making cheese\n",
      "\t- kefir          : \n",
      "----------------------------------------------------------------------------------------------------\n",
      "Beverages (9 in sporty and 3 in match)\n",
      "- sporty\n",
      "\t- tea            : a beverage made by steeping tea leaves in water\n",
      "\t- sherry         : dry to sweet amber wine from the Jerez region of southern Spain or similar wines produced elsewhere; usually drunk as an...\n",
      "\t- coffee         : a beverage consisting of an infusion of ground coffee beans\n",
      "\t- lemonade       : sweetened beverage of diluted lemon juice\n",
      "\t- beverages      : any liquid suitable for drinking\n",
      "\t- juice          : the liquid part that can be extracted from plant or animal tissue by squeezing or cooking\n",
      "\t- cocktail       : a short mixed drink\n",
      "\t- cola           : large genus of African trees bearing kola nuts\n",
      "\t- water          : binary compound that occurs at room temperature as a clear colorless odorless tasteless liquid; freezes into ice below 0...\n",
      "- match\n",
      "\t- limeade        : sweetened beverage of lime juice and water\n",
      "\t- sprite         : a small being, human in form, playful and having magical powers\n",
      "\t- cider          : a beverage made from juice pressed from apples\n",
      "----------------------------------------------------------------------------------------------------\n",
      "Dishes (6 in sporty and 3 in match)\n",
      "- sporty\n",
      "\t- burrito        : a flour tortilla folded around a filling\n",
      "\t- stew           : agitation resulting from active worry\n",
      "\t- waffle         : pancake batter baked in a waffle iron\n",
      "\t- pancake        : a flat cake of thin batter fried on both sides on a griddle\n",
      "\t- nachos         : a tortilla chip topped with cheese and chili-pepper and broiled\n",
      "\t- salad          : food mixtures either arranged on a plate or tossed and served with a moist dressing; usually consisting of or including ...\n",
      "- match\n",
      "\t- tostada        : a flat tortilla with various fillings piled on it\n",
      "\t- quesadilla     : a tortilla that is filled with cheese and heated\n",
      "\t- meatloaf       : a baked loaf of ground meat\n",
      "----------------------------------------------------------------------------------------------------\n",
      "Nuts (7 in sporty and 1 in match)\n",
      "- sporty\n",
      "\t- almond         : small bushy deciduous tree native to Asia and North Africa having pretty pink blossoms and highly prized edible nuts enc...\n",
      "\t- walnuts        : nut of any of various walnut trees having a wrinkled two-lobed seed with a hard shell\n",
      "\t- butternut      : North American walnut tree having light-brown wood and edible nuts; source of a light-brown dye\n",
      "\t- almonds        : small bushy deciduous tree native to Asia and North Africa having pretty pink blossoms and highly prized edible nuts enc...\n",
      "\t- chestnuts      : wood of any of various chestnut trees of the genus Castanea\n",
      "\t- nuts           : usually large hard-shelled seed\n",
      "\t- peanut         : underground pod of the peanut vine\n",
      "- match\n",
      "\t- walnut         : nut of any of various walnut trees having a wrinkled two-lobed seed with a hard shell\n",
      "----------------------------------------------------------------------------------------------------\n",
      "Cereal grains and pasta (4 in sporty and 3 in match)\n",
      "- sporty\n",
      "\t- bagel          : (Yiddish) glazed yeast-raised doughnut-shaped roll with hard crust\n",
      "\t- pasta          : a dish that contains pasta as its main ingredient\n",
      "\t- oat            : annual grass of Europe and North Africa; grains used as food and fodder (referred to primarily in the plural: `oats')\n",
      "\t- sourdough      : a leaven of dough in which fermentation is active; used by pioneers for making bread\n",
      "- match\n",
      "\t- corn           : tall annual cereal grass bearing kernels on large ears: widely cultivated in America in many varieties; the principal ce...\n",
      "\t- wheat          : annual or biennial grass having erect flower spikes and light brown grains\n",
      "\t- spelt          : hardy wheat grown mostly in Europe for livestock feed\n",
      "----------------------------------------------------------------------------------------------------\n",
      "Alcoholic beverages (2 in sporty and 4 in match)\n",
      "- sporty\n",
      "\t- rum            : liquor distilled from fermented molasses\n",
      "\t- scotch         : a slight surface cut (especially a notch that is made to keep a tally)\n",
      "- match\n",
      "\t- whiskey        : a liquor made from fermented mash of grain\n",
      "\t- brandy         : distilled from wine or fermented fruit juice\n",
      "\t- wine           : fermented juice (of grapes especially)\n",
      "\t- daiquiri       : a cocktail made with rum and lime or lemon juice\n",
      "----------------------------------------------------------------------------------------------------\n",
      "Confectioneries (1 in sporty and 3 in match)\n",
      "- sporty\n",
      "\t- pie            : dish baked in pastry-lined pan often with a pastry top\n",
      "- match\n",
      "\t- milkshake      : frothy drink of milk and flavoring and sometimes fruit or ice cream\n",
      "\t- icing          : the formation of frost or ice on a surface\n",
      "\t- pudding        : any of various soft thick unsweetened baked dishes\n",
      "----------------------------------------------------------------------------------------------------\n",
      "Breakfast cereals (2 in sporty and 2 in match)\n",
      "- sporty\n",
      "\t- oats           : annual grass of Europe and North Africa; grains used as food and fodder (referred to primarily in the plural: `oats')\n",
      "\t- farina         : fine meal made from cereal grain especially wheat; often used as a cooked cereal or in puddings\n",
      "- match\n",
      "\t- kellogg        : United States food manufacturer who (with his brother) developed a breakfast cereal of crisp flakes of rolled and toaste...\n",
      "\t- granola        : cereal made of especially rolled oats with dried fruits and nuts and honey or brown sugar\n",
      "----------------------------------------------------------------------------------------------------\n",
      "Balsamic (2 in sporty and 2 in match)\n",
      "- sporty\n",
      "\t- caramel        : firm chewy candy made from caramelized sugar and butter and milk\n",
      "\t- honey          : a sweet yellow liquid produced by bees\n",
      "- match\n",
      "\t- butterscotch   : a hard brittle candy made with butter and brown sugar\n",
      "\t- anise          : native to Egypt but cultivated widely for its aromatic seeds and the oil from them used medicinally and as a flavoring i...\n",
      "----------------------------------------------------------------------------------------------------\n",
      "Poultry (3 in sporty and 1 in match)\n",
      "- sporty\n",
      "\t- chicken        : the flesh of a chicken used for food\n",
      "\t- goose          : web-footed long-necked typically gregarious migratory aquatic birds usually larger and less aquatic than ducks\n",
      "\t- quail          : flesh of quail; suitable for roasting or broiling if young; otherwise must be braised\n",
      "- match\n",
      "\t- poultry        : a domesticated gallinaceous bird thought to be descended from the red jungle fowl\n",
      "----------------------------------------------------------------------------------------------------\n"
     ]
    }
   ],
   "source": [
    "for c in df.index:#[_.lower() for _ in df.index.tolist()]:\n",
    "    fc_n = tn[tn.food_cat == c]\n",
    "    fc_s = ts[ts.food_cat == c]\n",
    "    print(\"{} ({} in sporty and {} in match)\".format(c.capitalize(), fc_s.shape[0], fc_n.shape[0]))\n",
    "    for utype, fc in [('sporty', fc_s),('match', fc_n)]:\n",
    "        print(\"- {}\".format(utype))\n",
    "#         display(fc.head(10))\n",
    "        for i, r in fc.head(10).iterrows():\n",
    "            print(\"\\t- {:<15}: {}{}\".format(r[utype], r.definition[:120], \"...\" if len(r.definition) > 120 else ''))\n",
    "    print(\"-\"*100)"
   ]
  },
  {
   "cell_type": "markdown",
   "metadata": {},
   "source": [
    "### Collect list of people followed by each users "
   ]
  },
  {
   "cell_type": "code",
   "execution_count": 1830,
   "metadata": {
    "collapsed": true
   },
   "outputs": [],
   "source": [
    "with open(\"twitterauth.json\") as fd:\n",
    "    creds = json.load(fd)"
   ]
  },
  {
   "cell_type": "code",
   "execution_count": 1831,
   "metadata": {
    "collapsed": false
   },
   "outputs": [],
   "source": [
    "import tweepy\n",
    "\n",
    "auth = tweepy.OAuthHandler(creds['consumer_key'], creds['consumer_secret'])\n",
    "auth.set_access_token(creds['access_token'], creds['access_token_secret'])\n",
    "api = tweepy.API(auth)"
   ]
  },
  {
   "cell_type": "code",
   "execution_count": 1832,
   "metadata": {
    "collapsed": false
   },
   "outputs": [],
   "source": [
    "def collect_friends_ids(uid):\n",
    "    p = \"/data/1/sporty/users/friends_ids/%d\" % uid\n",
    "    file_missing = not os.path.exists(p)\n",
    "    if file_missing or os.path.getsize(p) == 0:\n",
    "        with open(p, 'w') as fd:\n",
    "            try:\n",
    "                l = api.friends_ids(id=uid)\n",
    "                for fid in l:\n",
    "                    fd.write(\"%d\\n\" % fid)\n",
    "                time.sleep(60) # avoid reaching rate limit of 15 requests per 15 minute window\n",
    "            except:\n",
    "                time.sleep(60) # wait more because rate limit has been reached\n",
    "                \n",
    "# n_users[keep_idx].id.progress_apply(collect_friends_ids)\n",
    "# s_users[keep_idx].id.progress_apply(collect_friends_ids)"
   ]
  },
  {
   "cell_type": "code",
   "execution_count": 2070,
   "metadata": {
    "collapsed": false
   },
   "outputs": [],
   "source": [
    "def load_friends_list(uid):\n",
    "    p = \"/data/1/sporty/users/friends_ids/%d\" % uid\n",
    "    friends = []\n",
    "    if os.path.exists(p):\n",
    "        with open(p) as fd:\n",
    "            for l in fd:\n",
    "                friends.append(int(l.strip()))\n",
    "    return friends\n",
    "        \n",
    "n_users['friends'] = n_users.id.apply(load_friends_list)\n",
    "s_users['friends'] = s_users.id.apply(load_friends_list)"
   ]
  },
  {
   "cell_type": "markdown",
   "metadata": {},
   "source": [
    "### Good guides"
   ]
  },
  {
   "cell_type": "code",
   "execution_count": 2071,
   "metadata": {
    "collapsed": true
   },
   "outputs": [],
   "source": [
    "good_guides_df = pd.read_excel(\"./goodguide.xlsx\", names=['screen_name', 'name', 'sector', 'eco_score', 'health_score'])"
   ]
  },
  {
   "cell_type": "code",
   "execution_count": 2072,
   "metadata": {
    "collapsed": false
   },
   "outputs": [],
   "source": [
    "good_guides_df = good_guides_df[(good_guides_df.sector == 'Food') & ~(good_guides_df.health_score.isnull())]"
   ]
  },
  {
   "cell_type": "code",
   "execution_count": 2073,
   "metadata": {
    "collapsed": true
   },
   "outputs": [],
   "source": [
    "good_guides_set = set(good_guides_df.screen_name)"
   ]
  },
  {
   "cell_type": "markdown",
   "metadata": {},
   "source": [
    "### Exemplars"
   ]
  },
  {
   "cell_type": "code",
   "execution_count": 2074,
   "metadata": {
    "collapsed": false
   },
   "outputs": [],
   "source": [
    "exemplars_set = set(pd.read_csv(\"exemplars.txt\", header=None)[0])"
   ]
  },
  {
   "cell_type": "markdown",
   "metadata": {},
   "source": [
    "### Collect user informations for each nutrition-related handle"
   ]
  },
  {
   "cell_type": "code",
   "execution_count": 2075,
   "metadata": {
    "collapsed": true
   },
   "outputs": [],
   "source": [
    "nutrition_handles_set = good_guides_set | exemplars_set"
   ]
  },
  {
   "cell_type": "code",
   "execution_count": 2076,
   "metadata": {
    "collapsed": true
   },
   "outputs": [],
   "source": [
    "# recipe to iterate over any iterable by chunks of n\n",
    "from itertools import zip_longest\n",
    "def grouper(iterable, n, fillvalue=None):\n",
    "    \"Collect data into fixed-length chunks or blocks\"\n",
    "    # grouper('ABCDEFG', 3, 'x') --> ABC DEF Gxx\"\n",
    "    args = [iter(iterable)] * n\n",
    "    return zip_longest(*args, fillvalue=fillvalue)"
   ]
  },
  {
   "cell_type": "raw",
   "metadata": {},
   "source": [
    "get_output_path = lambda name: \"/data/1/sporty/users/nutrition_users/%s\" % name\n",
    "to_collect = lambda p: not os.path.exists(p) or os.path.getsize(p) == 0\n",
    "\n",
    "for n_handles in tqdm_notebook(grouper(list(nutrition_handles_set), 100)):\n",
    "    n_handles = [h for h in n_handles if to_collect(get_output_path(h))]\n",
    "    l = api.lookup_users(screen_names=n_handles)\n",
    "    \n",
    "    for u in l:\n",
    "        u = u.__dict__['_json']\n",
    "        p = get_output_path(u['screen_name'])\n",
    "        with open(p, 'w') as fd:\n",
    "            fd.write(\"%s\\n\" % json.dumps(u))"
   ]
  },
  {
   "cell_type": "markdown",
   "metadata": {},
   "source": [
    "### Loads ids of nutrition related accounts "
   ]
  },
  {
   "cell_type": "code",
   "execution_count": 2077,
   "metadata": {
    "collapsed": true
   },
   "outputs": [],
   "source": [
    "import glob\n",
    "\n",
    "def load_nutrition_ids(re_path, limit_to=None):\n",
    "    nutrition_uids = {}\n",
    "    for p in glob.glob(re_path):\n",
    "        with open(p) as fd:\n",
    "            u = json.loads(fd.readline())\n",
    "            if limit_to is None or u['screen_name'] in limit_to:\n",
    "                nutrition_uids[u['screen_name']] = u['id']\n",
    "    return nutrition_uids\n",
    "\n",
    "\n",
    "good_guides_dict = load_nutrition_ids(\"/data/1/sporty/users/nutrition_users/*\", good_guides_set)\n",
    "exemplars_dict = load_nutrition_ids(\"/data/1/sporty/users/nutrition_users/*\", exemplars_set)\n",
    "good_guides_ids = set(good_guides_dict.values())\n",
    "exemplars_ids = set(exemplars_dict.values())"
   ]
  },
  {
   "cell_type": "markdown",
   "metadata": {},
   "source": [
    "## Analyze food-related friends and mentions for each group "
   ]
  },
  {
   "cell_type": "markdown",
   "metadata": {},
   "source": [
    "### Build lists of nutrition friends"
   ]
  },
  {
   "cell_type": "code",
   "execution_count": 2083,
   "metadata": {
    "collapsed": false
   },
   "outputs": [],
   "source": [
    "n_users['exemplar_friends'] = n_users.friends.apply(lambda l: l if type(l) == float else [_ for _ in l if _ in exemplars_ids])\n",
    "s_users['exemplar_friends'] = s_users.friends.apply(lambda l: l if type(l) == float else [_ for _ in l if _ in exemplars_ids])\n",
    "\n",
    "n_users['good_guides_friends'] = n_users.friends.apply(lambda l: l if type(l) == float else [_ for _ in l if _ in good_guides_ids])\n",
    "s_users['good_guides_friends'] = s_users.friends.apply(lambda l: l if type(l) == float else [_ for _ in l if _ in good_guides_ids])"
   ]
  },
  {
   "cell_type": "markdown",
   "metadata": {},
   "source": [
    "### Compare exemplar friends"
   ]
  },
  {
   "cell_type": "code",
   "execution_count": 2120,
   "metadata": {
    "collapsed": false
   },
   "outputs": [
    {
     "data": {
      "image/png": "[encoded data removed]",
      "text/plain": [
       "<matplotlib.figure.Figure at 0x7f43d25d1160>"
      ]
     },
     "metadata": {},
     "output_type": "display_data"
    }
   ],
   "source": [
    "exemplars_friends_df = pd.DataFrame()\n",
    "exemplars_friends_df['sporty'] = s_users.exemplar_friends.apply(lambda _: 0 if type(_) is float else len(_))\n",
    "exemplars_friends_df['match']  = n_users.exemplar_friends.apply(lambda _: 0 if type(_) is float else len(_))\n",
    "\n",
    "fig, ax = plt.subplots(figsize=(10,5))\n",
    "xl = [-1,13]\n",
    "exemplars_friends_df.apply(lambda _: _.value_counts().sort_index()).plot(kind='bar', alpha=1, ax=ax, logy=True)\n",
    "# exemplars_friends_df.plot(kind='kde', xlim=xl, ax=ax, secondary_y=True)\n",
    "ax.set_xlim(xl)\n",
    "ax.grid(True)\n",
    "ax.grid(b=True, which='minor')\n"
   ]
  },
  {
   "cell_type": "markdown",
   "metadata": {},
   "source": [
    "### Compare good guides friends"
   ]
  },
  {
   "cell_type": "code",
   "execution_count": 2121,
   "metadata": {
    "collapsed": false
   },
   "outputs": [
    {
     "data": {
      "image/png": "[encoded data removed]",
      "text/plain": [
       "<matplotlib.figure.Figure at 0x7f43dc276198>"
      ]
     },
     "metadata": {},
     "output_type": "display_data"
    }
   ],
   "source": [
    "good_guides_friends_df = pd.DataFrame()\n",
    "good_guides_friends_df['sporty'] = s_users.good_guides_friends.apply(lambda _: 0 if type(_) is float else len(_))\n",
    "good_guides_friends_df['match']  = n_users.good_guides_friends.apply(lambda _: 0 if type(_) is float else len(_))\n",
    "\n",
    "fig, ax = plt.subplots(figsize=(10,5))\n",
    "xl = [-1,5]\n",
    "good_guides_friends_df.apply(lambda _: _.value_counts().sort_index()).plot(kind='bar', ax=ax, logy=True)\n",
    "ax.set_xlim(xl)\n",
    "ax.grid(True)\n",
    "ax.grid(True, which='minor')\n"
   ]
  },
  {
   "cell_type": "code",
   "execution_count": 2086,
   "metadata": {
    "collapsed": false
   },
   "outputs": [
    {
     "data": {
      "text/plain": [
       "113"
      ]
     },
     "execution_count": 2086,
     "metadata": {},
     "output_type": "execute_result"
    }
   ],
   "source": [
    "(good_guides_friends_df.sum(axis=1) != 0).sum()"
   ]
  },
  {
   "cell_type": "markdown",
   "metadata": {},
   "source": [
    "### Compare exemplars + good_guides friends"
   ]
  },
  {
   "cell_type": "code",
   "execution_count": 2339,
   "metadata": {
    "collapsed": false
   },
   "outputs": [
    {
     "data": {
      "image/png": "[encoded data removed]",
      "text/plain": [
       "<matplotlib.figure.Figure at 0x7f43d11c77b8>"
      ]
     },
     "metadata": {},
     "output_type": "display_data"
    }
   ],
   "source": [
    "nutrition_friends_df = exemplars_friends_df #+ good_guides_friends_df\n",
    "\n",
    "fig, ax = plt.subplots()\n",
    "xl = [-1,12]\n",
    "nutrition_friends_df.applymap(bucket).apply(lambda _: _.value_counts().sort_index()).plot(kind='bar', ax=ax, color='white', lw=1)\n",
    "# nutrition_friends_df.plot(kind='kde', xlim=xl, ax=ax, secondary_y=True)\n",
    "# ax.set_xlim(xl)\n",
    "ax.grid(True)\n",
    "ax.grid(True, which='minor')\n",
    "ax.set_xlabel(\"Number of health examplar friends\")\n",
    "ax.set_ylabel(\"Number of users\")\n",
    "\n",
    "bar_hatch(nutrition_friends_df[:4],ax)\n",
    "plt.tight_layout()\n",
    "# fig.savefig(\"exemplar_friends.png\", dpi=600)"
   ]
  },
  {
   "cell_type": "code",
   "execution_count": 2426,
   "metadata": {
    "collapsed": false
   },
   "outputs": [
    {
     "data": {
      "image/png": "[encoded data removed]",
      "text/plain": [
       "<matplotlib.figure.Figure at 0x7f43dc0cbcf8>"
      ]
     },
     "metadata": {},
     "output_type": "display_data"
    }
   ],
   "source": [
    "fig, ax = plt.subplots()\n",
    "plt.axhline(.5, zorder=1, ls='--', c='k')\n",
    "yl = [.3,.75]\n",
    "psporty = nutrition_friends_df.applymap(bucket).apply(lambda _: _.value_counts().sort_index())\n",
    "psporty['ratio'] = psporty.sporty / (psporty.sporty + psporty.match)\n",
    "psporty.ratio.plot(kind='bar', ax=ax, color='white', lw=1, zorder=2)\n",
    "\n",
    "ax.grid(True)\n",
    "ax.set_ylim(yl)\n",
    "ax.set_xlabel(\"Number of health examplar friends\")\n",
    "ax.set_ylabel(\"P(user in sporty group)\")\n",
    "plt.tight_layout()\n",
    "fig.savefig(\"exemplar_friends.png\", dpi=600)"
   ]
  },
  {
   "cell_type": "code",
   "execution_count": 2347,
   "metadata": {
    "collapsed": false
   },
   "outputs": [
    {
     "data": {
      "text/plain": [
       "count    1034.000000\n",
       "mean        0.507737\n",
       "std         3.719398\n",
       "min       -37.000000\n",
       "25%         0.000000\n",
       "50%         0.000000\n",
       "75%         1.000000\n",
       "max        46.000000\n",
       "dtype: float64"
      ]
     },
     "execution_count": 2347,
     "metadata": {},
     "output_type": "execute_result"
    }
   ],
   "source": [
    "nutrition_diff = (nutrition_friends_df.sporty - nutrition_friends_df.match)\n",
    "nutrition_diff.describe()"
   ]
  },
  {
   "cell_type": "markdown",
   "metadata": {},
   "source": [
    "### Filter mentions and simple count"
   ]
  },
  {
   "cell_type": "markdown",
   "metadata": {},
   "source": [
    "#### On all tweets of all users"
   ]
  },
  {
   "cell_type": "code",
   "execution_count": 2128,
   "metadata": {
    "collapsed": false
   },
   "outputs": [],
   "source": [
    "mentions_re = re.compile(\"^@[0-9a-zA-Z\\-_]+\")\n",
    "nutrition_handles_set_lower = set([_.lower() for _ in exemplars_set])\n",
    "nutrition_tokenize = lambda tw: tokenize(tw, collapse_mentions=False, bigrams=False, liwc=False, limit_repeats=False, keep_mentions=True)\n",
    "n_mentions = n_users.tweets.progress_apply(lambda l: [tk for tw in l for tk in nutrition_tokenize(tw) if mentions_re.match(tk) and tk[1:] in nutrition_handles_set_lower])\n",
    "s_mentions = s_users.tweets.progress_apply(lambda l: [tk for tw in l for tk in nutrition_tokenize(tw) if mentions_re.match(tk) and tk[1:] in nutrition_handles_set_lower])"
   ]
  },
  {
   "cell_type": "code",
   "execution_count": 1850,
   "metadata": {
    "collapsed": false
   },
   "outputs": [
    {
     "data": {
      "text/html": [
       "<div>\n",
       "<table border=\"1\" class=\"dataframe\">\n",
       "  <thead>\n",
       "    <tr style=\"text-align: right;\">\n",
       "      <th></th>\n",
       "      <th>sporty</th>\n",
       "      <th>match</th>\n",
       "    </tr>\n",
       "  </thead>\n",
       "  <tbody>\n",
       "    <tr>\n",
       "      <th>count</th>\n",
       "      <td>1034.000000</td>\n",
       "      <td>1034.000000</td>\n",
       "    </tr>\n",
       "    <tr>\n",
       "      <th>mean</th>\n",
       "      <td>1.923598</td>\n",
       "      <td>0.886847</td>\n",
       "    </tr>\n",
       "    <tr>\n",
       "      <th>std</th>\n",
       "      <td>11.056441</td>\n",
       "      <td>4.382240</td>\n",
       "    </tr>\n",
       "    <tr>\n",
       "      <th>min</th>\n",
       "      <td>0.000000</td>\n",
       "      <td>0.000000</td>\n",
       "    </tr>\n",
       "    <tr>\n",
       "      <th>25%</th>\n",
       "      <td>0.000000</td>\n",
       "      <td>0.000000</td>\n",
       "    </tr>\n",
       "    <tr>\n",
       "      <th>50%</th>\n",
       "      <td>0.000000</td>\n",
       "      <td>0.000000</td>\n",
       "    </tr>\n",
       "    <tr>\n",
       "      <th>75%</th>\n",
       "      <td>1.000000</td>\n",
       "      <td>0.000000</td>\n",
       "    </tr>\n",
       "    <tr>\n",
       "      <th>max</th>\n",
       "      <td>287.000000</td>\n",
       "      <td>88.000000</td>\n",
       "    </tr>\n",
       "  </tbody>\n",
       "</table>\n",
       "</div>"
      ],
      "text/plain": [
       "            sporty        match\n",
       "count  1034.000000  1034.000000\n",
       "mean      1.923598     0.886847\n",
       "std      11.056441     4.382240\n",
       "min       0.000000     0.000000\n",
       "25%       0.000000     0.000000\n",
       "50%       0.000000     0.000000\n",
       "75%       1.000000     0.000000\n",
       "max     287.000000    88.000000"
      ]
     },
     "execution_count": 1850,
     "metadata": {},
     "output_type": "execute_result"
    }
   ],
   "source": [
    "mentions_df = pd.DataFrame()\n",
    "mentions_df['sporty'] = s_mentions.apply(len)\n",
    "mentions_df['match'] = n_mentions.apply(len)\n",
    "mentions_diff = mentions_df.sporty - mentions_df.match\n",
    "mentions_df.describe()"
   ]
  },
  {
   "cell_type": "code",
   "execution_count": 1851,
   "metadata": {
    "collapsed": false
   },
   "outputs": [
    {
     "data": {
      "text/plain": [
       "WilcoxonResult(statistic=33851.0, pvalue=1.8705573795922336e-09)"
      ]
     },
     "execution_count": 1851,
     "metadata": {},
     "output_type": "execute_result"
    }
   ],
   "source": [
    "wilcoxon(mentions_df.match, mentions_df.sporty)"
   ]
  },
  {
   "cell_type": "code",
   "execution_count": 1852,
   "metadata": {
    "collapsed": false
   },
   "outputs": [
    {
     "data": {
      "text/plain": [
       "count    1034.000000\n",
       "mean        1.036750\n",
       "std        11.510785\n",
       "min       -85.000000\n",
       "25%         0.000000\n",
       "50%         0.000000\n",
       "75%         1.000000\n",
       "max       287.000000\n",
       "dtype: float64"
      ]
     },
     "execution_count": 1852,
     "metadata": {},
     "output_type": "execute_result"
    }
   ],
   "source": [
    "mentions_diff.describe()"
   ]
  },
  {
   "cell_type": "code",
   "execution_count": 1853,
   "metadata": {
    "collapsed": false
   },
   "outputs": [],
   "source": [
    "def bucket(v):\n",
    "    if v == 0:\n",
    "        return '   0'\n",
    "    elif v < 5:\n",
    "        return '  ]0, 5['\n",
    "    elif v < 10:\n",
    "        return ' [5, 10['\n",
    "    else:\n",
    "        return '>= 10'"
   ]
  },
  {
   "cell_type": "code",
   "execution_count": 2186,
   "metadata": {
    "collapsed": false
   },
   "outputs": [
    {
     "data": {
      "image/png": "[encoded data removed]",
      "text/plain": [
       "<matplotlib.figure.Figure at 0x7f43cf95c7b8>"
      ]
     },
     "metadata": {},
     "output_type": "display_data"
    }
   ],
   "source": [
    "fig, ax = plt.subplots()\n",
    "xl = [-1,20]\n",
    "mentions_df.applymap(bucket).apply(lambda _: _.value_counts().sort_index()).plot(kind='bar', ax=ax, color='white', lw=1)\n",
    "ax.set_ylim([0,850])\n",
    "ax.grid(True)\n",
    "# ax.grid(True, which='minor')\n",
    "ax.set_xlabel(\"Mentions of health-related accounts\")\n",
    "ax.set_ylabel(\"Number of users\")\n",
    "\n",
    "bar_hatch(mentions_df[:4],ax)\n",
    "plt.tight_layout()\n",
    "fig.savefig(\"exemplar_mentions.png\", dpi=600)"
   ]
  },
  {
   "cell_type": "markdown",
   "metadata": {},
   "source": [
    "## Train on food features only and look at misclassified users"
   ]
  },
  {
   "cell_type": "code",
   "execution_count": 2586,
   "metadata": {
    "collapsed": false
   },
   "outputs": [],
   "source": [
    "def keep_food_vocab(l):\n",
    "    return list( set([w for tw in l for w in tw.split()]) & set(foodb_words | weber_lexicon) - exclude_words )\n",
    "n_users['food_vocab'] = n_users.tweets.progress_apply(keep_food_vocab)\n",
    "s_users['food_vocab'] = s_users.tweets.progress_apply(keep_food_vocab)"
   ]
  },
  {
   "cell_type": "code",
   "execution_count": 2660,
   "metadata": {
    "collapsed": false
   },
   "outputs": [],
   "source": [
    "all_food_users = n_users[keep_idx].append(s_users[keep_idx])\n",
    "all_food_vocab = all_food_users.food_vocab"
   ]
  },
  {
   "cell_type": "code",
   "execution_count": 2681,
   "metadata": {
    "collapsed": false
   },
   "outputs": [],
   "source": [
    "vec_food = TfidfVectorizer(binary=True, min_df=3)\n",
    "\n",
    "X_food_a = vec_food.fit_transform(all_food_vocab.apply(lambda _: \" \".join(_)))\n",
    "features_food_a = np.array(vec_food.get_feature_names())\n",
    "\n",
    "food_users_per_group = int(X_food_a.shape[0]/2)\n",
    "y_food_a = np.zeros((2*food_users_per_group))\n",
    "y_food_a[food_users_per_group:] = 1"
   ]
  },
  {
   "cell_type": "code",
   "execution_count": 2703,
   "metadata": {
    "collapsed": false
   },
   "outputs": [
    {
     "name": "stdout",
     "output_type": "stream",
     "text": [
      "(1, 411)\n"
     ]
    }
   ],
   "source": [
    "food_coefs = most_discrim_lr(X_food_a, y_food_a, features_food_a, 1000)\n",
    "food_coefs = food_coefs[['match', 'coef_match']]\n",
    "food_coefs.index = food_coefs.match\n",
    "food_coefs = food_coefs.drop('match', axis=1)\n",
    "food_coefs.index.name = \"food_name\"\n",
    "food_coefs.columns = ['coef']"
   ]
  },
  {
   "cell_type": "code",
   "execution_count": 2683,
   "metadata": {
    "collapsed": false
   },
   "outputs": [
    {
     "data": {
      "text/plain": [
       "array([[ 299.,  231.],\n",
       "       [ 278.,  252.]])"
      ]
     },
     "execution_count": 2683,
     "metadata": {},
     "output_type": "execute_result"
    }
   ],
   "source": [
    "thresh = .51\n",
    "clf = LogisticRegression(class_weight='balanced')\n",
    "conf_matrix = np.zeros((2,2))\n",
    "misclassified = []\n",
    "for tr, te in tqdm_notebook(KFold(food_users_per_group*2, 10, shuffle=True, random_state=1234)):\n",
    "    X_food_tr, X_food_te = X_food_a[tr], X_food_a[te]\n",
    "    y_food_tr, y_food_te = y_food_a[tr], y_food_a[te]\n",
    "    clf.fit(X_food_tr, y_food_tr)\n",
    "    y_food_proba = clf.predict_proba(X_food_te)[:,1]\n",
    "    y_food_pred = np.array(y_food_proba > thresh).astype(int)\n",
    "    y_misclassified = y_food_pred != y_food_te\n",
    "    \n",
    "    misclassified.extend(zip(te[y_misclassified], y_food_proba[y_misclassified], y_food_pred[y_misclassified]))\n",
    "    conf_matrix += metrics.confusion_matrix(y_food_te, y_food_pred)\n",
    "conf_matrix"
   ]
  },
  {
   "cell_type": "code",
   "execution_count": 2665,
   "metadata": {
    "collapsed": false
   },
   "outputs": [],
   "source": [
    "df_food_proba = pd.DataFrame(misclassified, columns=['row_idx', 'confidence_sporty', 'prediction'])\n",
    "df_food_proba = df_food_proba.sort_values(\"confidence_sporty\", ascending=False)"
   ]
  },
  {
   "cell_type": "code",
   "execution_count": 2722,
   "metadata": {
    "collapsed": false,
    "scrolled": true
   },
   "outputs": [],
   "source": [
    "mis_df = df_food_proba\n",
    "mis_w_p0 = []\n",
    "mis_w_p1 = []\n",
    "for (i, r), (j, p) in tqdm_notebook(zip(all_food_users.iloc[mis_df.row_idx.tolist()].iterrows(), mis_df.iterrows())):\n",
    "#     print(\"ID: {} predicted {} true {}\".format(r.id, p.prediction, 1-p.prediction))\n",
    "    sorted_food_vocab = sorted([(_, food_coefs.loc[_].coef if _ in food_coefs.index else 0) for _ in r.food_vocab], key=lambda _: _[1], reverse=True)\n",
    "    if p.prediction == 0:\n",
    "        mis_w_p0.extend([w for w, c in sorted_food_vocab if c < 0])\n",
    "    else:\n",
    "        mis_w_p1.extend([w for w, c in sorted_food_vocab if c > 0])\n",
    "\n",
    "#     for w, c in sorted_food_vocab[:30]:\n",
    "#         print(\"\\t{:.<20}{:.>10.3f}\".format(w, c))"
   ]
  },
  {
   "cell_type": "code",
   "execution_count": 2723,
   "metadata": {
    "collapsed": false
   },
   "outputs": [
    {
     "data": {
      "text/plain": [
       "[('water', 238),\n",
       " ('sweet', 224),\n",
       " ('beer', 185),\n",
       " ('chocolate', 170),\n",
       " ('cream', 169),\n",
       " ('cheese', 165),\n",
       " ('milk', 110),\n",
       " ('egg', 109),\n",
       " ('salad', 108),\n",
       " ('peanut', 104),\n",
       " ('spread', 100),\n",
       " ('cookie', 100),\n",
       " ('pie', 93),\n",
       " ('eggs', 92),\n",
       " ('pumpkin', 88),\n",
       " ('spirit', 86),\n",
       " ('bear', 86),\n",
       " ('horse', 80),\n",
       " ('juice', 74),\n",
       " ('honey', 69)]"
      ]
     },
     "execution_count": 2723,
     "metadata": {},
     "output_type": "execute_result"
    }
   ],
   "source": [
    "Counter(mis_w_p0).most_common(20)"
   ]
  },
  {
   "cell_type": "code",
   "execution_count": 2724,
   "metadata": {
    "collapsed": false
   },
   "outputs": [
    {
     "data": {
      "text/plain": [
       "[('coffee', 201),\n",
       " ('pizza', 163),\n",
       " ('chicken', 156),\n",
       " ('wine', 140),\n",
       " ('cake', 120),\n",
       " ('fish', 117),\n",
       " ('tea', 113),\n",
       " ('butter', 107),\n",
       " ('sugar', 103),\n",
       " ('meat', 100),\n",
       " ('bacon', 100),\n",
       " ('root', 87),\n",
       " ('soup', 87),\n",
       " ('sauce', 86),\n",
       " ('fruit', 83),\n",
       " ('turkey', 82),\n",
       " ('nuts', 78),\n",
       " ('beef', 74),\n",
       " ('potato', 70),\n",
       " ('corn', 70)]"
      ]
     },
     "execution_count": 2724,
     "metadata": {},
     "output_type": "execute_result"
    }
   ],
   "source": [
    "Counter(mis_w_p1).most_common(20)"
   ]
  }
 ],
 "metadata": {
  "kernelspec": {
   "display_name": "Python 3",
   "language": "python",
   "name": "python3"
  },
  "language_info": {
   "codemirror_mode": {
    "name": "ipython",
    "version": 3
   },
   "file_extension": ".py",
   "mimetype": "text/x-python",
   "name": "python",
   "nbconvert_exporter": "python",
   "pygments_lexer": "ipython3",
   "version": "3.4.3"
  },
  "nav_menu": {},
  "toc": {
   "navigate_menu": true,
   "number_sections": true,
   "sideBar": true,
   "threshold": 6,
   "toc_cell": false,
   "toc_section_display": "block",
   "toc_window_display": true
  },
  "widgets": {
   "state": {
    "01eba2a1a26b4df4a47e0643c372b0ab": {
     "views": [
      {
       "cell_index": 154
      }
     ]
    },
    "0a50e6cfed484223bda76373f3314523": {
     "views": [
      {
       "cell_index": 0
      }
     ]
    },
    "0ca19de6705a4003a9c165b5eb39d5af": {
     "views": [
      {
       "cell_index": 80
      }
     ]
    },
    "1081d51b577b4f2696aec0e5b41799a0": {
     "views": [
      {
       "cell_index": 78
      }
     ]
    },
    "12323b42628f482383267445766743bd": {
     "views": [
      {
       "cell_index": 154
      }
     ]
    },
    "2b7e3d93f0484888aae01580200d47ca": {
     "views": [
      {
       "cell_index": 81
      }
     ]
    },
    "31928da9d9e942508be57f00e6c9b12f": {
     "views": [
      {
       "cell_index": 81
      }
     ]
    },
    "3250f932a7664173baa722291fb65ee3": {
     "views": [
      {
       "cell_index": 80
      }
     ]
    },
    "384f917fa85f480f8c1186212f357f72": {
     "views": [
      {
       "cell_index": 155
      }
     ]
    },
    "4435be9460464d25ac9578bf89e727de": {
     "views": [
      {
       "cell_index": 78
      }
     ]
    },
    "470874235a6940909ed4081f8f06e94e": {
     "views": [
      {
       "cell_index": 105
      }
     ]
    },
    "48f78cab67cc478d9a5e35afd0118e20": {
     "views": [
      {
       "cell_index": 154
      }
     ]
    },
    "5490883abece48f993dc7288211ccbe8": {
     "views": [
      {
       "cell_index": 80
      }
     ]
    },
    "57b9b6f3763e494d9aef5fb3c1b772e9": {
     "views": [
      {
       "cell_index": 76
      }
     ]
    },
    "6224bf7cd391498d8b62506d6301783b": {
     "views": [
      {
       "cell_index": 81
      }
     ]
    },
    "658c4dedd3734ca7ab1eac0ac1af37ff": {
     "views": [
      {
       "cell_index": 154
      }
     ]
    },
    "76d7fa22489a408283671d70df66300c": {
     "views": [
      {
       "cell_index": 80
      }
     ]
    },
    "77b3ea43462d4a138fcee424dccee156": {
     "views": [
      {
       "cell_index": 142
      }
     ]
    },
    "890e0fb0d90c4aab9291d04934682822": {
     "views": [
      {
       "cell_index": 0
      }
     ]
    },
    "89c2800871be405f8e8313b54219976e": {
     "views": [
      {
       "cell_index": 109
      }
     ]
    },
    "a105139e274d4cf0862e3c8f986f8fb7": {
     "views": [
      {
       "cell_index": 137
      }
     ]
    },
    "a3db9cbe5a3540e5909172a65d34f224": {
     "views": [
      {
       "cell_index": 103
      }
     ]
    },
    "a94082ec12a84e3a983f1eeb697470a5": {
     "views": [
      {
       "cell_index": 160
      }
     ]
    },
    "bb741fba01a542218a6279289d56049b": {
     "views": [
      {
       "cell_index": 81
      }
     ]
    },
    "be0fae4a034a4f6eb3d227213df6a9af": {
     "views": [
      {
       "cell_index": 81
      }
     ]
    },
    "be477785a0a04127b8a73aabc6373a84": {
     "views": [
      {
       "cell_index": 105
      }
     ]
    },
    "becbb0fa52ec4297b50224ee096ceb72": {
     "views": [
      {
       "cell_index": 154
      }
     ]
    },
    "cd468991220b43c3a28c921db867853e": {
     "views": [
      {
       "cell_index": 81
      }
     ]
    },
    "d464a3bfa91b46708e25b2cc8dd40636": {
     "views": [
      {
       "cell_index": 158
      }
     ]
    },
    "e2104d25de5b4076a25d04995ef329d4": {
     "views": [
      {
       "cell_index": 105
      }
     ]
    },
    "f779d098a56c4bf6927567e6dc8a56f0": {
     "views": [
      {
       "cell_index": 142
      }
     ]
    },
    "f95fa1f7f7b44d8595d77fbe9733f3ed": {
     "views": [
      {
       "cell_index": 154
      }
     ]
    },
    "fa55353626834093a668b7650c18d28c": {
     "views": [
      {
       "cell_index": 78
      }
     ]
    }
   },
   "version": "1.2.0"
  }
 },
 "nbformat": 4,
 "nbformat_minor": 0
}
