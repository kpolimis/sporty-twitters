{
 "metadata": {
  "name": "",
  "signature": "sha256:34ffd159671b6cf3661b6c93e37e444998511e75a53cdf68d8614c86948bdb24"
 },
 "nbformat": 3,
 "nbformat_minor": 0,
 "worksheets": [
  {
   "cells": [
    {
     "cell_type": "markdown",
     "metadata": {},
     "source": [
      "Below I train a classifier on the labeled data and use it to classify users in the users folder (which have already been filtered to be non-automated)."
     ]
    },
    {
     "cell_type": "code",
     "collapsed": false,
     "input": [
      "# Read labeled data from labeled.tsv. \n",
      "# format: AH DD TA tweet_text\n",
      "import io\n",
      "import numpy as np\n",
      "\n",
      "from sklearn.feature_extraction.text import TfidfVectorizer\n",
      "from sklearn.linear_model import LogisticRegression\n",
      "from sklearn.pipeline import make_pipeline\n",
      "from sklearn.cross_validation import KFold, cross_val_score\n",
      "from sklearn.feature_selection import SelectKBest, chi2\n",
      "from sklearn import metrics\n",
      "\n",
      "import twutil\n",
      "\n",
      "tker = twutil.preprocess.Tokenizer()  # Just using a simple tokenizer for now.\n",
      "\n",
      "def read_labeled_data():\n",
      "    tweets = []\n",
      "    ah_y = []\n",
      "    dd_y = []\n",
      "    ta_y = []\n",
      "    for line in io.open('labeled.tsv', 'rt', encoding='utf8'):\n",
      "        parts = line.split('\\t')\n",
      "        ah_y.append(int(parts[0]))\n",
      "        dd_y.append(int(parts[1]))\n",
      "        ta_y.append(int(parts[2]))\n",
      "        tweets.append(parts[3])\n",
      "    print 'read %d labeled tweets' % len(tweets) \n",
      "    return np.array(ah_y), np.array(dd_y), np.array(ta_y), tweets\n",
      "    \n",
      "def tokenize(tweets, tkr):\n",
      "    for tweet in tweets:\n",
      "        t = tker.do_tokenize(tweet)\n",
      "        toks = ' ' + u' '.join(s for s in t if s and len(s) > 1)\n",
      "        yield toks.strip()\n",
      "        \n",
      "def train_classifier(nfeats='all', threshold=.5):\n",
      "    ah_y, dd_y, ta_y, tweets = read_labeled_data()\n",
      "    vec = TfidfVectorizer(min_df=2, binary=True, ngram_range=(1,2), lowercase=True)\n",
      "    X = vec.fit_transform(tokenize(tweets, tker)).todense()\n",
      "    print 'vocab size=%d' % len(vec.get_feature_names())\n",
      "    clfs = []\n",
      "    for label, y in [('AH', ah_y), ('DD', dd_y), ('TA', ta_y)]:\n",
      "        # clf = LogisticRegression(class_weight='auto')\n",
      "        clf = make_pipeline(SelectKBest(chi2, k=nfeats), LogisticRegression(class_weight='auto'))\n",
      "        cross_val = KFold(len(y), n_folds=10, random_state=1234)\n",
      "        preds = []\n",
      "        truths = []\n",
      "        for train, test in cross_val:\n",
      "            clf.fit(X[train], y[train])\n",
      "            preds.extend([1 if p[1] >= threshold else 0 for p in clf.predict_proba(X[test])])\n",
      "            truths.extend(y[test])\n",
      "        report = metrics.classification_report(truths, preds)\n",
      "        print label\n",
      "        print report\n",
      "        print 'accuracy=', metrics.accuracy_score(truths, preds)\n",
      " \n",
      "        clf.fit(X, y)\n",
      "        clfs.append(clf)\n",
      "        \n",
      "    return clfs, vec\n",
      "    \n",
      "clfs, vec = train_classifier('all')\n",
      "\n",
      "# somewhat worse precision.\n",
      "# print 'nfeats=200',\n",
      "#train_classifier(200)"
     ],
     "language": "python",
     "metadata": {},
     "outputs": [
      {
       "output_type": "stream",
       "stream": "stdout",
       "text": [
        "read 2367 labeled tweets\n",
        "vocab size=4626"
       ]
      },
      {
       "output_type": "stream",
       "stream": "stdout",
       "text": [
        "\n",
        "AH"
       ]
      },
      {
       "output_type": "stream",
       "stream": "stdout",
       "text": [
        "\n",
        "             precision    recall  f1-score   support\n",
        "\n",
        "          0       0.95      0.93      0.94      2138\n",
        "          1       0.44      0.52      0.48       229\n",
        "\n",
        "avg / total       0.90      0.89      0.89      2367\n",
        "\n",
        "accuracy= 0.888888888889\n",
        "DD"
       ]
      },
      {
       "output_type": "stream",
       "stream": "stdout",
       "text": [
        "\n",
        "             precision    recall  f1-score   support\n",
        "\n",
        "          0       0.91      0.89      0.90      1998\n",
        "          1       0.47      0.54      0.50       369\n",
        "\n",
        "avg / total       0.84      0.83      0.84      2367\n",
        "\n",
        "accuracy= 0.832699619772\n",
        "TA"
       ]
      },
      {
       "output_type": "stream",
       "stream": "stdout",
       "text": [
        "\n",
        "             precision    recall  f1-score   support\n",
        "\n",
        "          0       0.91      0.87      0.89      1986\n",
        "          1       0.45      0.55      0.49       381\n",
        "\n",
        "avg / total       0.83      0.82      0.83      2367\n",
        "\n",
        "accuracy= 0.817912970004\n"
       ]
      }
     ],
     "prompt_number": 257
    },
    {
     "cell_type": "code",
     "collapsed": false,
     "input": [
      "# How do different cutoffs affect results?\n",
      "for thresh in [.5, .6, .7, .8, .9]:\n",
      "    print 'THRESH=', thresh\n",
      "    train_classifier('all', threshold=thresh)"
     ],
     "language": "python",
     "metadata": {},
     "outputs": [
      {
       "output_type": "stream",
       "stream": "stdout",
       "text": [
        "THRESH= 0.5\n",
        "read 2367 labeled tweets\n",
        "vocab size=4626"
       ]
      },
      {
       "output_type": "stream",
       "stream": "stdout",
       "text": [
        "\n",
        "AH"
       ]
      },
      {
       "output_type": "stream",
       "stream": "stdout",
       "text": [
        "\n",
        "             precision    recall  f1-score   support\n",
        "\n",
        "          0       0.95      0.93      0.94      2138\n",
        "          1       0.44      0.52      0.48       229\n",
        "\n",
        "avg / total       0.90      0.89      0.89      2367\n",
        "\n",
        "accuracy= 0.888888888889\n",
        "DD"
       ]
      },
      {
       "output_type": "stream",
       "stream": "stdout",
       "text": [
        "\n",
        "             precision    recall  f1-score   support\n",
        "\n",
        "          0       0.91      0.89      0.90      1998\n",
        "          1       0.47      0.54      0.50       369\n",
        "\n",
        "avg / total       0.84      0.83      0.84      2367\n",
        "\n",
        "accuracy= 0.832699619772\n",
        "TA"
       ]
      },
      {
       "output_type": "stream",
       "stream": "stdout",
       "text": [
        "\n",
        "             precision    recall  f1-score   support\n",
        "\n",
        "          0       0.91      0.87      0.89      1986\n",
        "          1       0.45      0.55      0.49       381\n",
        "\n",
        "avg / total       0.83      0.82      0.83      2367\n",
        "\n",
        "accuracy= 0.817912970004\n",
        "THRESH="
       ]
      },
      {
       "output_type": "stream",
       "stream": "stdout",
       "text": [
        " 0.6\n",
        "read 2367 labeled tweets\n",
        "vocab size=4626"
       ]
      },
      {
       "output_type": "stream",
       "stream": "stdout",
       "text": [
        "\n",
        "AH"
       ]
      },
      {
       "output_type": "stream",
       "stream": "stdout",
       "text": [
        "\n",
        "             precision    recall  f1-score   support\n",
        "\n",
        "          0       0.92      0.99      0.95      2138\n",
        "          1       0.67      0.21      0.32       229\n",
        "\n",
        "avg / total       0.90      0.91      0.89      2367\n",
        "\n",
        "accuracy= 0.913392479932\n",
        "DD"
       ]
      },
      {
       "output_type": "stream",
       "stream": "stdout",
       "text": [
        "\n",
        "             precision    recall  f1-score   support\n",
        "\n",
        "          0       0.88      0.97      0.92      1998\n",
        "          1       0.64      0.26      0.37       369\n",
        "\n",
        "avg / total       0.84      0.86      0.84      2367\n",
        "\n",
        "accuracy= 0.861850443599\n",
        "TA"
       ]
      },
      {
       "output_type": "stream",
       "stream": "stdout",
       "text": [
        "\n",
        "             precision    recall  f1-score   support\n",
        "\n",
        "          0       0.87      0.97      0.92      1986\n",
        "          1       0.61      0.24      0.35       381\n",
        "\n",
        "avg / total       0.83      0.85      0.83      2367\n",
        "\n",
        "accuracy= 0.852978453739\n",
        "THRESH="
       ]
      },
      {
       "output_type": "stream",
       "stream": "stdout",
       "text": [
        " 0.7\n",
        "read 2367 labeled tweets\n",
        "vocab size=4626"
       ]
      },
      {
       "output_type": "stream",
       "stream": "stdout",
       "text": [
        "\n",
        "AH"
       ]
      },
      {
       "output_type": "stream",
       "stream": "stdout",
       "text": [
        "\n",
        "             precision    recall  f1-score   support\n",
        "\n",
        "          0       0.91      1.00      0.95      2138\n",
        "          1       0.76      0.06      0.11       229\n",
        "\n",
        "avg / total       0.89      0.91      0.87      2367\n",
        "\n",
        "accuracy= 0.907055344318\n",
        "DD"
       ]
      },
      {
       "output_type": "stream",
       "stream": "stdout",
       "text": [
        "\n",
        "             precision    recall  f1-score   support\n",
        "\n",
        "          0       0.86      1.00      0.92      1998\n",
        "          1       0.92      0.12      0.22       369\n",
        "\n",
        "avg / total       0.87      0.86      0.81      2367\n",
        "\n",
        "accuracy= 0.861427967892\n",
        "TA"
       ]
      },
      {
       "output_type": "stream",
       "stream": "stdout",
       "text": [
        "\n",
        "             precision    recall  f1-score   support\n",
        "\n",
        "          0       0.85      1.00      0.92      1986\n",
        "          1       0.76      0.06      0.11       381\n",
        "\n",
        "avg / total       0.83      0.85      0.79      2367\n",
        "\n",
        "accuracy= 0.845373891001\n",
        "THRESH="
       ]
      },
      {
       "output_type": "stream",
       "stream": "stdout",
       "text": [
        " 0.8\n",
        "read 2367 labeled tweets\n",
        "vocab size=4626"
       ]
      },
      {
       "output_type": "stream",
       "stream": "stdout",
       "text": [
        "\n",
        "AH"
       ]
      },
      {
       "output_type": "stream",
       "stream": "stdout",
       "text": [
        "\n",
        "             precision    recall  f1-score   support\n",
        "\n",
        "          0       0.90      1.00      0.95      2138\n",
        "          1       1.00      0.01      0.02       229\n",
        "\n",
        "avg / total       0.91      0.90      0.86      2367\n",
        "\n",
        "accuracy= 0.904098014364\n",
        "DD"
       ]
      },
      {
       "output_type": "stream",
       "stream": "stdout",
       "text": [
        "\n",
        "             precision    recall  f1-score   support\n",
        "\n",
        "          0       0.85      1.00      0.92      1998\n",
        "          1       1.00      0.03      0.06       369\n",
        "\n",
        "avg / total       0.87      0.85      0.78      2367\n",
        "\n",
        "accuracy= 0.84917617237\n",
        "TA"
       ]
      },
      {
       "output_type": "stream",
       "stream": "stdout",
       "text": [
        "\n",
        "             precision    recall  f1-score   support\n",
        "\n",
        "          0       0.84      1.00      0.91      1986\n",
        "          1       1.00      0.01      0.02       381\n",
        "\n",
        "avg / total       0.87      0.84      0.77      2367\n",
        "\n",
        "accuracy= 0.84030418251\n",
        "THRESH="
       ]
      },
      {
       "output_type": "stream",
       "stream": "stdout",
       "text": [
        " 0.9\n",
        "read 2367 labeled tweets\n",
        "vocab size=4626"
       ]
      },
      {
       "output_type": "stream",
       "stream": "stdout",
       "text": [
        "\n",
        "AH"
       ]
      },
      {
       "output_type": "stream",
       "stream": "stdout",
       "text": [
        "\n",
        "             precision    recall  f1-score   support\n",
        "\n",
        "          0       0.90      1.00      0.95      2138\n",
        "          1       0.00      0.00      0.00       229\n",
        "\n",
        "avg / total       0.82      0.90      0.86      2367\n",
        "\n",
        "accuracy= 0.903253062949\n",
        "DD"
       ]
      },
      {
       "output_type": "stream",
       "stream": "stdout",
       "text": [
        "\n",
        "             precision    recall  f1-score   support\n",
        "\n",
        "          0       0.84      1.00      0.92      1998\n",
        "          1       1.00      0.00      0.01       369\n",
        "\n",
        "avg / total       0.87      0.84      0.77      2367\n",
        "\n",
        "accuracy= 0.844528939586\n",
        "TA"
       ]
      },
      {
       "output_type": "stream",
       "stream": "stdout",
       "text": [
        "\n",
        "             precision    recall  f1-score   support\n",
        "\n",
        "          0       0.84      1.00      0.91      1986\n",
        "          1       0.00      0.00      0.00       381\n",
        "\n",
        "avg / total       0.70      0.84      0.77      2367\n",
        "\n",
        "accuracy= 0.839036755387\n"
       ]
      }
     ],
     "prompt_number": 258
    },
    {
     "cell_type": "markdown",
     "metadata": {},
     "source": [
      "**It looks like .5 gives best results. **"
     ]
    },
    {
     "cell_type": "code",
     "collapsed": false,
     "input": [
      "# Print top terms.\n",
      "def print_top_terms(clf, vec, n=20):\n",
      "    names = np.array(vec.get_feature_names())\n",
      "    print ' | '.join(names[np.argsort(clf.coef_[0])[::-1][:n]])\n",
      "    \n",
      "labels = ['Hostility', 'Dejection', 'Anxiety']\n",
      "for i, label in enumerate(labels):\n",
      "    print label\n",
      "    print_top_terms(clfs[i].steps[1][1], vec)\n",
      "    print"
     ],
     "language": "python",
     "metadata": {},
     "outputs": [
      {
       "output_type": "stream",
       "stream": "stdout",
       "text": [
        "Hostility\n",
        "fucking | hate | ugly | irritated | dumb | upset | your | stupid | shit | fuckin | fuck | ass | bitch | rude | why | ignorant | shut | you | mad | lame\n",
        "\n",
        "Dejection\n",
        "bored | sleepy | tired | depressed | exhausted | sad | sick | weak | depressing | crying | being | lazy | so | ll | boring | me | im | annoying | sleep | day\n",
        "\n",
        "Anxiety\n",
        "fucking | irritated | fuck | nervous | so | hate | rude | lame | me | ass | upset | being | stupid | gonna | shit | disgusted | gross | this is | im | frustrated\n",
        "\n"
       ]
      }
     ],
     "prompt_number": 260
    },
    {
     "cell_type": "code",
     "collapsed": false,
     "input": [
      "# Label the sporty/nonsporty users in users/no_sport and users/sport\n",
      "# Format: one file per user; one tweet text per line.\n",
      "# This takes about 5 minutes.\n",
      "import glob\n",
      "\n",
      "def classify_from_file(filename, clfs, vec):\n",
      "    X = vec.transform(tokenize([line for line in io.open(filename, 'rt', encoding='utf8', errors='ignore')], tker))\n",
      "    return [clf.predict_proba(X) for clf in clfs]\n",
      "    \n",
      "\n",
      "def classify_all(dirname, clfs, vec):\n",
      "    users = []\n",
      "    count = 0\n",
      "    for fname in glob.glob(dirname + \"/[0-9]*\"):\n",
      "        count += 1\n",
      "        if count % 100 == 0:\n",
      "            print 'classified %d users' % count\n",
      "        users.append((fname, classify_from_file(fname, clfs, vec)))\n",
      "    return users\n",
      "\n",
      "sporty_preds = classify_all('users/sport', clfs, vec)"
     ],
     "language": "python",
     "metadata": {},
     "outputs": [
      {
       "output_type": "stream",
       "stream": "stdout",
       "text": [
        "classified 100 users\n",
        "classified 200 users"
       ]
      },
      {
       "output_type": "stream",
       "stream": "stdout",
       "text": [
        "\n",
        "classified 300 users"
       ]
      },
      {
       "output_type": "stream",
       "stream": "stdout",
       "text": [
        "\n",
        "classified 400 users"
       ]
      },
      {
       "output_type": "stream",
       "stream": "stdout",
       "text": [
        "\n",
        "classified 500 users"
       ]
      },
      {
       "output_type": "stream",
       "stream": "stdout",
       "text": [
        "\n",
        "classified 600 users"
       ]
      },
      {
       "output_type": "stream",
       "stream": "stdout",
       "text": [
        "\n",
        "classified 700 users"
       ]
      },
      {
       "output_type": "stream",
       "stream": "stdout",
       "text": [
        "\n",
        "classified 800 users"
       ]
      },
      {
       "output_type": "stream",
       "stream": "stdout",
       "text": [
        "\n",
        "classified 900 users"
       ]
      },
      {
       "output_type": "stream",
       "stream": "stdout",
       "text": [
        "\n",
        "classified 1000 users"
       ]
      },
      {
       "output_type": "stream",
       "stream": "stdout",
       "text": [
        "\n",
        "classified 1100 users"
       ]
      },
      {
       "output_type": "stream",
       "stream": "stdout",
       "text": [
        "\n"
       ]
      }
     ],
     "prompt_number": 65
    },
    {
     "cell_type": "code",
     "collapsed": false,
     "input": [
      "nosporty_preds = classify_all('users/no_sport', clfs, vec)"
     ],
     "language": "python",
     "metadata": {},
     "outputs": [
      {
       "output_type": "stream",
       "stream": "stdout",
       "text": [
        "classified 100 users\n",
        "classified 200 users"
       ]
      },
      {
       "output_type": "stream",
       "stream": "stdout",
       "text": [
        "\n",
        "classified 300 users"
       ]
      },
      {
       "output_type": "stream",
       "stream": "stdout",
       "text": [
        "\n",
        "classified 400 users"
       ]
      },
      {
       "output_type": "stream",
       "stream": "stdout",
       "text": [
        "\n",
        "classified 500 users"
       ]
      },
      {
       "output_type": "stream",
       "stream": "stdout",
       "text": [
        "\n",
        "classified 600 users"
       ]
      },
      {
       "output_type": "stream",
       "stream": "stdout",
       "text": [
        "\n",
        "classified 700 users"
       ]
      },
      {
       "output_type": "stream",
       "stream": "stdout",
       "text": [
        "\n",
        "classified 800 users"
       ]
      },
      {
       "output_type": "stream",
       "stream": "stdout",
       "text": [
        "\n",
        "classified 900 users"
       ]
      },
      {
       "output_type": "stream",
       "stream": "stdout",
       "text": [
        "\n",
        "classified 1000 users"
       ]
      },
      {
       "output_type": "stream",
       "stream": "stdout",
       "text": [
        "\n",
        "classified 1100 users"
       ]
      },
      {
       "output_type": "stream",
       "stream": "stdout",
       "text": [
        "\n"
       ]
      }
     ],
     "prompt_number": 72
    },
    {
     "cell_type": "code",
     "collapsed": false,
     "input": [
      "import pickle\n",
      "pickle.dump(sporty_preds, open('sporty.pkl', 'wb'))\n",
      "pickle.dump(nosporty_preds, open('nosporty.pkl', 'wb'))"
     ],
     "language": "python",
     "metadata": {},
     "outputs": [],
     "prompt_number": 79
    },
    {
     "cell_type": "code",
     "collapsed": false,
     "input": [
      "# remove users with no tweets.\n",
      "nosporty_preds_filtered = [x for x in nosporty_preds if min([len(x[1][0]), len(x[1][1]), len(x[1][2])]) != 0]\n",
      "print 'removed %d of %d users from nosporty with no valid tweets' % ((len(nosporty_preds)-len(nosporty_preds_filtered)),\n",
      "                                                                     len(nosporty_preds))"
     ],
     "language": "python",
     "metadata": {},
     "outputs": [
      {
       "output_type": "stream",
       "stream": "stdout",
       "text": [
        "removed 103 of 1153 users from nosporty with no valid tweets\n"
       ]
      }
     ],
     "prompt_number": 261
    },
    {
     "cell_type": "code",
     "collapsed": false,
     "input": [
      "# retain users that have matches.\n",
      "\n",
      "def find_item(preds, id_):\n",
      "    for p in preds:\n",
      "        if p[0].split('/')[-1]== id_:  # base of filename is id\n",
      "            return p\n",
      "        \n",
      "# read matches.\n",
      "sporty = []\n",
      "nosporty = []\n",
      "for line in open('users/matches.txt', 'rt'):\n",
      "    userid, matchid = line.split()\n",
      "    user = find_item(sporty_preds, userid)\n",
      "    match = find_item(nosporty_preds_filtered, matchid)\n",
      "    if not user or not match:\n",
      "        print 'no match for', userid\n",
      "    else:\n",
      "        sporty.append(user)\n",
      "        nosporty.append(match)\n",
      "        \n",
      "print 'retained %d sporty and %d matched users' % (len(sporty), len(nosporty))        "
     ],
     "language": "python",
     "metadata": {},
     "outputs": [
      {
       "output_type": "stream",
       "stream": "stdout",
       "text": [
        "no match for 648073\n",
        "no match for 708083\n",
        "no match for"
       ]
      },
      {
       "output_type": "stream",
       "stream": "stdout",
       "text": [
        " 1111341\n",
        "no match for 1266741\n",
        "no match for 1444001\n",
        "no match for 1815401\n",
        "no match for 2259891\n",
        "no match for 3566521\n",
        "no match for 3783761\n",
        "no match for 4463201\n",
        "no match for 4821191\n",
        "no match for 5007111\n",
        "no match for 5186611\n",
        "no match for 5422282\n",
        "no match for"
       ]
      },
      {
       "output_type": "stream",
       "stream": "stdout",
       "text": [
        " 6365062\n",
        "no match for 7284082\n",
        "no match for 7481162\n",
        "no match for 7608022\n",
        "no match for 8388692\n",
        "no match for"
       ]
      },
      {
       "output_type": "stream",
       "stream": "stdout",
       "text": [
        " 9523892\n",
        "no match for 10944162\n",
        "no match for 11384062\n",
        "no match for 12255632\n",
        "no match for 12604872\n",
        "no match for"
       ]
      },
      {
       "output_type": "stream",
       "stream": "stdout",
       "text": [
        " 13140822\n",
        "no match for 13236362\n",
        "no match for 14112221\n",
        "no match for"
       ]
      },
      {
       "output_type": "stream",
       "stream": "stdout",
       "text": [
        " 14366013\n",
        "no match for 14740178\n",
        "no match for"
       ]
      },
      {
       "output_type": "stream",
       "stream": "stdout",
       "text": [
        " 14852501\n",
        "no match for"
       ]
      },
      {
       "output_type": "stream",
       "stream": "stdout",
       "text": [
        " 15407447\n",
        "no match for 15417482\n",
        "no match for 15448512\n",
        "no match for 15505193\n",
        "no match for 15524730\n",
        "no match for 15625238\n",
        "no match for 15660494\n",
        "no match for 15660971\n",
        "no match for"
       ]
      },
      {
       "output_type": "stream",
       "stream": "stdout",
       "text": [
        " 15698047\n",
        "no match for 15765287\n",
        "no match for 15965574\n",
        "no match for"
       ]
      },
      {
       "output_type": "stream",
       "stream": "stdout",
       "text": [
        " 16002497\n",
        "no match for 16008909\n",
        "no match for 16014461\n",
        "no match for 16018596\n",
        "no match for 16061111\n",
        "no match for 16078728\n",
        "no match for"
       ]
      },
      {
       "output_type": "stream",
       "stream": "stdout",
       "text": [
        " 16195791\n",
        "no match for 16197403\n",
        "no match for 16202159\n",
        "no match for 16210523\n",
        "no match for 16220384\n",
        "no match for 16360119\n",
        "no match for 16480379\n",
        "no match for"
       ]
      },
      {
       "output_type": "stream",
       "stream": "stdout",
       "text": [
        " 16498309\n",
        "no match for 16500498\n",
        "no match for 16551151\n",
        "no match for 16593662\n",
        "no match for 16779345\n",
        "no match for 16789280\n",
        "no match for 16818491\n",
        "no match for 16820602\n",
        "no match for 16831848\n",
        "no match for 16845129\n",
        "no match for 16849439\n",
        "no match for"
       ]
      },
      {
       "output_type": "stream",
       "stream": "stdout",
       "text": [
        " 16954108\n",
        "no match for 17121023\n",
        "no match for 17236511\n",
        "no match for 17323894\n",
        "no match for 17358215\n",
        "no match for 17549512\n",
        "no match for 17581003\n",
        "no match for"
       ]
      },
      {
       "output_type": "stream",
       "stream": "stdout",
       "text": [
        " 18004191\n",
        "no match for 18008949\n",
        "no match for 18022647\n",
        "no match for 100159486\n",
        "no match for 100241276\n",
        "no match for 100338510\n",
        "no match for 101093944\n",
        "no match for 101343442\n",
        "no match for 101792793\n",
        "no match for 102156515\n",
        "no match for 102173077\n",
        "no match for 102999423\n",
        "no match for 103522767\n",
        "no match for 103910977\n",
        "no match for 104554310\n",
        "no match for 105165408\n",
        "no match for 107487672\n",
        "no match for 107625214\n",
        "no match for 108056312\n",
        "no match for 109095938\n",
        "no match for 109959205\n",
        "no match for"
       ]
      },
      {
       "output_type": "stream",
       "stream": "stdout",
       "text": [
        " 110911173\n",
        "no match for 111081982\n",
        "no match for 1005456698\n",
        "no match for 1008085405\n",
        "no match for 1027669712\n",
        "no match for 1031475914\n",
        "no match for 1091113117\n",
        "no match for 1102239860\n",
        "no match for 1113427808\n",
        "no match for 1113529866\n",
        "retained 1057 sporty and 1057 matched users\n"
       ]
      }
     ],
     "prompt_number": 262
    },
    {
     "cell_type": "code",
     "collapsed": false,
     "input": [
      "def aggregate_by_threshold(preds, thresh=.5):\n",
      "    result = []\n",
      "    for fname, user in preds:\n",
      "        user_results = []\n",
      "        for label in user:\n",
      "            npos = 0.\n",
      "            n = 0.        \n",
      "            for probas in label:\n",
      "                n += 1\n",
      "                if probas[1] >= thresh:\n",
      "                    npos += 1\n",
      "            user_results.append(npos / n)\n",
      "        result.append((fname, user_results))\n",
      "    return result\n",
      "\n",
      "def aggregate_by_avg_proba(preds):\n",
      "    result = []\n",
      "    for fname, user in preds: # for each user\n",
      "        user_results = []\n",
      "        for label in user:  # for each class\n",
      "            total = 0.\n",
      "            n = 0.\n",
      "            for probas in label:  # for each tweet\n",
      "                n += 1\n",
      "                total += probas[1]\n",
      "            user_results.append(total / n)\n",
      "        result.append((fname, user_results))\n",
      "    return result"
     ],
     "language": "python",
     "metadata": {},
     "outputs": [],
     "prompt_number": 245
    },
    {
     "cell_type": "code",
     "collapsed": false,
     "input": [
      "agg_thresh_sport = aggregate_by_threshold(sporty, .5)\n",
      "agg_thresh_nosport = aggregate_by_threshold(nosporty, .5)"
     ],
     "language": "python",
     "metadata": {},
     "outputs": [],
     "prompt_number": 142
    },
    {
     "cell_type": "code",
     "collapsed": false,
     "input": [
      "import matplotlib.pyplot as plt\n",
      "\n",
      "def plot_histograms(agg_sport, agg_nosport):\n",
      "    for li in range(3):\n",
      "        sp = np.array([x[1][li] for x in agg_sport])\n",
      "        nsp = np.array([x[1][li] for x in agg_nosport])\n",
      "        print 'sporty mean=', np.mean(sp)\n",
      "        print 'nosporty mean=', np.mean(nsp)\n",
      "        plt.figure()\n",
      "        plt.title(labels[li])\n",
      "        \n",
      "        plt.xscale('log')\n",
      "        plt.plot(sorted(sp, reverse=True), label='exercise')\n",
      "        plt.plot(sorted(nsp, reverse=True), label='match')\n",
      "        plt.xlabel('Rank')\n",
      "        plt.axhline(0)\n",
      "        plt.ylabel('P(' + labels[li] + ')')\n",
      "        plt.legend()\n",
      "        plt.show()\n",
      "\n"
     ],
     "language": "python",
     "metadata": {},
     "outputs": [],
     "prompt_number": 202
    },
    {
     "cell_type": "code",
     "collapsed": false,
     "input": [
      "plot_histograms(agg_thresh_sport, agg_thresh_nosport)"
     ],
     "language": "python",
     "metadata": {},
     "outputs": [
      {
       "output_type": "stream",
       "stream": "stdout",
       "text": [
        "sporty mean= 0.0175546115164\n",
        "nosporty mean= 0.0205763311139\n"
       ]
      },
      {
       "metadata": {},
       "output_type": "display_data",
       "png": "[encoded data removed]",
       "text": [
        "<matplotlib.figure.Figure at 0x10cd88610>"
       ]
      },
      {
       "output_type": "stream",
       "stream": "stdout",
       "text": [
        "sporty mean= 0.0415135548293\n",
        "nosporty mean= 0.0450591811786\n"
       ]
      },
      {
       "metadata": {},
       "output_type": "display_data",
       "png": "[encoded data removed]",
       "text": [
        "<matplotlib.figure.Figure at 0x108267b50>"
       ]
      },
      {
       "output_type": "stream",
       "stream": "stdout",
       "text": [
        "sporty mean= 0.0481733574368\n",
        "nosporty mean= 0.0565515807639\n"
       ]
      },
      {
       "metadata": {},
       "output_type": "display_data",
       "png": "[encoded data removed]",
       "text": [
        "<matplotlib.figure.Figure at 0x10828e190>"
       ]
      }
     ],
     "prompt_number": 263
    },
    {
     "cell_type": "code",
     "collapsed": false,
     "input": [
      "# repeat with .91 threshold\n",
      "plot_histograms(aggregate_by_threshold(sporty, .91),\n",
      "                aggregate_by_threshold(nosporty, .91))"
     ],
     "language": "python",
     "metadata": {},
     "outputs": [
      {
       "output_type": "stream",
       "stream": "stdout",
       "text": [
        "sporty mean= 9.2959242268e-06\n",
        "nosporty mean= 1.69878435643e-05\n"
       ]
      },
      {
       "metadata": {},
       "output_type": "display_data",
       "png": "[encoded data removed]",
       "text": [
        "<matplotlib.figure.Figure at 0x1132a3410>"
       ]
      },
      {
       "output_type": "stream",
       "stream": "stdout",
       "text": [
        "sporty mean= 5.56254746085e-06\n",
        "nosporty mean= 5.17262872475e-07\n"
       ]
      },
      {
       "metadata": {},
       "output_type": "display_data",
       "png": "[encoded data removed]",
       "text": [
        "<matplotlib.figure.Figure at 0x112a952d0>"
       ]
      },
      {
       "output_type": "stream",
       "stream": "stdout",
       "text": [
        "sporty mean= 0.0\n",
        "nosporty mean= 0.0\n"
       ]
      },
      {
       "metadata": {},
       "output_type": "display_data",
       "png": "[encoded data removed]",
       "text": [
        "<matplotlib.figure.Figure at 0x10cc47b90>"
       ]
      }
     ],
     "prompt_number": 264
    },
    {
     "cell_type": "code",
     "collapsed": false,
     "input": [
      "# repeat with .6 threshold\n",
      "plot_histograms(aggregate_by_threshold(sporty, .6),\n",
      "                aggregate_by_threshold(nosporty, .6))"
     ],
     "language": "python",
     "metadata": {},
     "outputs": [
      {
       "output_type": "stream",
       "stream": "stdout",
       "text": [
        "sporty mean= 0.00333284421635\n",
        "nosporty mean= 0.00401858994715\n"
       ]
      },
      {
       "metadata": {},
       "output_type": "display_data",
       "png": "[encoded data removed]",
       "text": [
        "<matplotlib.figure.Figure at 0x117cf7a50>"
       ]
      },
      {
       "output_type": "stream",
       "stream": "stdout",
       "text": [
        "sporty mean= 0.00808506514644\n",
        "nosporty mean= 0.00854509091695\n"
       ]
      },
      {
       "metadata": {},
       "output_type": "display_data",
       "png": "[encoded data removed]",
       "text": [
        "<matplotlib.figure.Figure at 0x13ba55090>"
       ]
      },
      {
       "output_type": "stream",
       "stream": "stdout",
       "text": [
        "sporty mean= 0.00756122784112\n",
        "nosporty mean= 0.00841611850222\n"
       ]
      },
      {
       "metadata": {},
       "output_type": "display_data",
       "png": "[encoded data removed]",
       "text": [
        "<matplotlib.figure.Figure at 0x1086dfa50>"
       ]
      }
     ],
     "prompt_number": 265
    },
    {
     "cell_type": "code",
     "collapsed": false,
     "input": [
      "# repeat using average probability.\n",
      "agg_avg_sport = aggregate_by_avg_proba(sporty)\n",
      "agg_avg_nosport = aggregate_by_avg_proba(nosporty)"
     ],
     "language": "python",
     "metadata": {},
     "outputs": [],
     "prompt_number": 266
    },
    {
     "cell_type": "code",
     "collapsed": false,
     "input": [
      "plot_histograms(agg_avg_sport, agg_avg_nosport)"
     ],
     "language": "python",
     "metadata": {},
     "outputs": [
      {
       "output_type": "stream",
       "stream": "stdout",
       "text": [
        "sporty mean= 0.297018085391\n",
        "nosporty mean= 0.308659798359\n"
       ]
      },
      {
       "metadata": {},
       "output_type": "display_data",
       "png": "[encoded data removed]",
       "text": [
        "<matplotlib.figure.Figure at 0x119fe4fd0>"
       ]
      },
      {
       "output_type": "stream",
       "stream": "stdout",
       "text": [
        "sporty mean= 0.284531272558\n",
        "nosporty mean= 0.298946481518\n"
       ]
      },
      {
       "metadata": {},
       "output_type": "display_data",
       "png": "[encoded data removed]",
       "text": [
        "<matplotlib.figure.Figure at 0x1127d9a10>"
       ]
      },
      {
       "output_type": "stream",
       "stream": "stdout",
       "text": [
        "sporty mean= 0.291795253434\n",
        "nosporty mean= 0.311483092696\n"
       ]
      },
      {
       "metadata": {},
       "output_type": "display_data",
       "png": "[encoded data removed]",
       "text": [
        "<matplotlib.figure.Figure at 0x11a059190>"
       ]
      }
     ],
     "prompt_number": 267
    },
    {
     "cell_type": "code",
     "collapsed": false,
     "input": [
      "# Compute wilcox significance tests.\n",
      "import numpy as np\n",
      "from scipy.stats import wilcoxon\n",
      "\n",
      "def pct_reduction(before, after):\n",
      "    return 100. * (after - before) / before\n",
      "\n",
      "def test_significance(sport, nosport, diff_legend='% Change (vs. match)'): # 1: nosport, 2: sport, 3: random\n",
      "    print '%10s\\t%15s\\t%10s' % ('Category', diff_legend, 'p-value')\n",
      "    for i, label in enumerate(labels):\n",
      "        exercise = np.array([x[1][i] for x in sport])\n",
      "        match = np.array([x[1][i] for x in nosport])\n",
      "        if sum(match) == 0 or sum(exercise) == 0:\n",
      "            wil = [0, 0]\n",
      "        else:\n",
      "            wil = wilcoxon(match, exercise)\n",
      "        print '%10s\\t%2.1f\\t%10.2g' % (label,\n",
      "                                       pct_reduction(np.mean(match), np.mean(exercise)),\n",
      "                                       wil[1])\n"
     ],
     "language": "python",
     "metadata": {},
     "outputs": [],
     "prompt_number": 268
    },
    {
     "cell_type": "code",
     "collapsed": false,
     "input": [
      "print 'threshold=.5'\n",
      "test_significance(agg_thresh_sport, agg_thresh_nosport)\n",
      "print\n",
      "\n",
      "print 'threshold=.6'\n",
      "test_significance(aggregate_by_threshold(sporty, .6),\n",
      "                  aggregate_by_threshold(nosporty, .6))\n",
      "print\n",
      "\n",
      "print 'threshold=.91'  # this breaks because of 0s\n",
      "test_significance(aggregate_by_threshold(sporty, .91),\n",
      "                  aggregate_by_threshold(nosporty, .91))\n",
      "print\n",
      "\n",
      "print 'average probability'\n",
      "test_significance(agg_avg_sport, agg_avg_nosport)"
     ],
     "language": "python",
     "metadata": {},
     "outputs": [
      {
       "output_type": "stream",
       "stream": "stdout",
       "text": [
        "threshold=.5\n",
        "  Category\t% Change (vs. match)\t   p-value\n",
        " Hostility\t-14.7\t   0.00031\n",
        " Dejection\t-7.9\t    0.0093\n",
        "   Anxiety\t-14.8\t   2.2e-06\n",
        "\n",
        "threshold=.6\n",
        "  Category\t% Change (vs. match)\t   p-value"
       ]
      },
      {
       "output_type": "stream",
       "stream": "stdout",
       "text": [
        "\n",
        " Hostility\t-17.1\t     0.065\n",
        " Dejection\t-5.4\t      0.87\n",
        "   Anxiety\t-10.2\t      0.45\n",
        "\n",
        "threshold=.91\n",
        "  Category\t% Change (vs. match)\t   p-value"
       ]
      },
      {
       "output_type": "stream",
       "stream": "stdout",
       "text": [
        "\n",
        " Hostility\t-45.3\t       0.2\n",
        " Dejection\t975.4\t      0.12\n",
        "   Anxiety\tnan\t         0\n",
        "\n",
        "average probability\n",
        "  Category\t% Change (vs. match)\t   p-value\n",
        " Hostility\t-3.8\t   2.1e-23\n",
        " Dejection\t-4.8\t   4.2e-16\n",
        "   Anxiety\t-6.3\t   3.2e-21\n"
       ]
      }
     ],
     "prompt_number": 269
    },
    {
     "cell_type": "markdown",
     "metadata": {},
     "source": [
      "## Below is the older analysis."
     ]
    },
    {
     "cell_type": "markdown",
     "metadata": {},
     "source": [
      "** Analysis **\n",
      "\n",
      "Here we analyze a file (`matching_scores`) containing the final classifications by anger/hostility (AH), depression (DD), and tension/anxiety(TA).\n",
      "\n",
      "We compare the output for athletic Twitter users (sporty) versus there matches using a Wilcoxon signed-rank test."
     ]
    },
    {
     "cell_type": "code",
     "collapsed": false,
     "input": [
      "from numpy import array as npa\n",
      "def read_results(fname):\n",
      "    header = None\n",
      "    results = []\n",
      "    for line in open(fname, 'rt'):\n",
      "        parts = line.strip().split(',')\n",
      "        if not header:\n",
      "            header = parts\n",
      "        else:\n",
      "            results.append(npa([float(x) for x in parts]))\n",
      "    return header, npa(results)\n",
      "\n",
      "fields_all, results_all = read_results('matching')\n",
      "fields_poms, results_poms = read_results('matching_poms')\n",
      "fields_all_halfed_tr, results_all_halfed_tr = read_results('matching_halfed')\n",
      "fields_poms_halfed_tr, results_poms_halfed_tr = read_results('matching_halfed_poms')\n",
      "\n",
      "print 'all tweets: read %d results' % (len(results_all))\n",
      "print 'only tweets containing poms words: read %d results' % (len(results_poms))\n",
      "print 'all tweets (classifier trained on half of the data): read %d results' % (len(results_all_halfed_tr))\n",
      "print 'only tweets containing poms words (classifier trained on half of the data): read %d results' % (len(results_poms_halfed_tr))"
     ],
     "language": "python",
     "metadata": {},
     "outputs": [
      {
       "output_type": "stream",
       "stream": "stdout",
       "text": [
        "all tweets: read 924 results\n",
        "only tweets containing poms words: read 899 results\n",
        "all tweets (classifier trained on half of the data): read 924 results\n",
        "only tweets containing poms words (classifier trained on half of the data): read 899 results\n"
       ]
      }
     ],
     "prompt_number": 1
    },
    {
     "cell_type": "code",
     "collapsed": false,
     "input": [
      "import matplotlib.pyplot as plt\n",
      "import numpy as np\n",
      "%pylab inline\n",
      "\n",
      "def get_labels(fields, random_users=False):\n",
      "    labels = []\n",
      "    for i, (label, pretty_label) in enumerate([('AH', 'Hostility'), ('DD', 'Dejection'),\n",
      "                                               ('TA', 'Anxiety')]):  #, ('avg', 'Average')]):\n",
      "        sporty_idx = fields.index('u_' + label)\n",
      "        nonsporty_idx = fields.index('m_' + label)\n",
      "        labels_tuple = [label, nonsporty_idx, sporty_idx, pretty_label]\n",
      "        if random_users:\n",
      "            random_idx = fields.index('r_' + label)\n",
      "            labels_tuple.append(random_idx)  # (label, nonsporty_idx, sporty_idx, random_idx, pretty_label)\n",
      "        labels.append(labels_tuple)\n",
      "    return labels\n",
      "\n",
      "def plot_results(labels, results, random_users=False):\n",
      "    f, axes = plt.subplots(1, 3, sharex=True, sharey=True, figsize=(5,3))\n",
      "    xticklabels = ['match', 'exercise']\n",
      "    if random_users:\n",
      "        xticklabels.append('random')\n",
      "\n",
      "    for i, label in enumerate(labels):\n",
      "        boxplots = [results[:, label[1]], results[:, label[2]]]\n",
      "        if random_users:\n",
      "            boxplots.append(results[:, label[4]])\n",
      "        axes[i].boxplot(boxplots, widths=.7)\n",
      "        axes[i].set_ylabel('P(' + label[3] + ')', size=10)\n",
      "        axes[i].yaxis.grid(True, linestyle='-', which='major', color='lightgrey',\n",
      "               alpha=0.5)\n",
      "        axes[i].set_xticklabels(xticklabels, rotation=90)\n",
      "    # plt.setp(axes[-1], xticks=1 + np.arange(len(xticklabels)), xticklabels=xticklabels)\n",
      "    #for label in axes[-1].get_xticklabels(): \n",
      "    #   label.set_fontsize(10) \n",
      "    f.tight_layout()\n",
      "    f.show()\n",
      "    plt.savefig('classifications.pdf', bbox_inches='tight')\n",
      "\n",
      "# classifier predicting on all tweets\n",
      "labels_all = get_labels(fields_all, random_users=False)\n",
      "plot_results(labels_all, results_all, random_users=False)\n",
      "    \n",
      "# classifier only predicting on tweets containing poms words\n",
      "labels_poms = get_labels(fields_poms, random_users=False)\n",
      "plot_results(labels_poms, results_poms, random_users=False)\n",
      "\n",
      "# classifier predicting on all tweets (half of the training data)\n",
      "labels_all_halfed_tr = get_labels(fields_all_halfed_tr, random_users=False)\n",
      "plot_results(labels_all_halfed_tr, results_all_halfed_tr, random_users=False)\n",
      "    \n",
      "# classifier only predicting on tweets containing poms words (half of the training data)\n",
      "labels_poms_halfed_tr = get_labels(fields_poms_halfed_tr, random_users=False)\n",
      "plot_results(labels_poms_halfed_tr, results_poms_halfed_tr, random_users=False)"
     ],
     "language": "python",
     "metadata": {},
     "outputs": [
      {
       "output_type": "stream",
       "stream": "stdout",
       "text": [
        "Populating the interactive namespace from numpy and matplotlib\n"
       ]
      },
      {
       "output_type": "stream",
       "stream": "stderr",
       "text": [
        "D:\\Anaconda\\lib\\site-packages\\matplotlib\\figure.py:371: UserWarning: matplotlib is currently using a non-GUI backend, so cannot show the figure\n",
        "  \"matplotlib is currently using a non-GUI backend, \"\n"
       ]
      },
      {
       "metadata": {},
       "output_type": "display_data",
       "png": "[encoded data removed]",
       "text": [
        "<matplotlib.figure.Figure at 0xa9eaa58>"
       ]
      },
      {
       "metadata": {},
       "output_type": "display_data",
       "png": "[encoded data removed]",
       "text": [
        "<matplotlib.figure.Figure at 0xb176550>"
       ]
      },
      {
       "metadata": {},
       "output_type": "display_data",
       "png": "[encoded data removed]",
       "text": [
        "<matplotlib.figure.Figure at 0xb01e5c0>"
       ]
      },
      {
       "metadata": {},
       "output_type": "display_data",
       "png": "[encoded data removed]",
       "text": [
        "<matplotlib.figure.Figure at 0xb7c5e48>"
       ]
      }
     ],
     "prompt_number": 2
    },
    {
     "cell_type": "code",
     "collapsed": false,
     "input": [
      "import numpy as np\n",
      "from scipy.stats import wilcoxon\n",
      "\n",
      "def pct_reduction(before, after):\n",
      "    return 100. * (after - before) / before\n",
      "\n",
      "def test_significance(labels, results, idx1=1, idx2=2, diff_legend='% Change (vs. match)'): # 1: nosport, 2: sport, 3: random\n",
      "    print '%10s\\t%15s\\t%10s' % ('Category', diff_legend, 'p-value')\n",
      "    for i, label in enumerate(labels):\n",
      "        match = results[:, label[idx1]]\n",
      "        exercise = results[:, label[idx2]]\n",
      "        wil = wilcoxon(match, exercise)\n",
      "        print '%10s\\t%2.1f\\t%10.2g' % (label[3],\n",
      "                                       pct_reduction(np.mean(match), np.mean(exercise)),\n",
      "                                       wil[1])\n",
      "\n",
      "# print 'all the labeled tweets'\n",
      "# labels_all = get_labels(fields_all, random_users=True)\n",
      "# test_significance(labels_all, results_all)\n",
      "# test_significance(labels_all, results_all, idx1=4, diff_legend='% Change (vs. random)')\n",
      "# test_significance(labels_all, results_all, idx1=3, idx2=1, diff_legend='(random-nosport)')\n",
      "# print 'half of the labeled tweets'\n",
      "# labels_half = get_labels(fields_half)\n",
      "# test_significance(labels_half, results_half)\n",
      "\n",
      "print 'classifier predicting on all the tweets'\n",
      "labels_all = get_labels(fields_all)\n",
      "test_significance(labels_all, results_all)\n",
      "\n",
      "print 'classifier only predicting on tweets containing poms words'\n",
      "labels_poms = get_labels(fields_poms)\n",
      "test_significance(labels_poms, results_poms)\n",
      "\n",
      "print 'classifier predicting on all the tweets (half of the training data)'\n",
      "labels_all_halfed_tr = get_labels(fields_all_halfed_tr)\n",
      "test_significance(labels_all_halfed_tr, results_all_halfed_tr)\n",
      "\n",
      "print 'classifier only predicting on tweets containing poms words (half of the training data)'\n",
      "labels_poms_halfed_tr = get_labels(fields_poms_halfed_tr)\n",
      "test_significance(labels_poms_halfed_tr, results_poms_halfed_tr)"
     ],
     "language": "python",
     "metadata": {},
     "outputs": [
      {
       "output_type": "stream",
       "stream": "stdout",
       "text": [
        "classifier predicting on all the tweets\n",
        "  Category\t% Change (vs. match)\t   p-value\n",
        " Hostility\t11.5\t   5.5e-05\n",
        " Dejection\t6.2\t     0.005\n",
        "   Anxiety\t8.4\t    0.0017\n",
        "classifier only predicting on tweets containing poms words\n",
        "  Category\t% Change (vs. match)\t   p-value\n",
        " Hostility\t26.7\t       0.3\n",
        " Dejection\t13.5\t       0.1\n",
        "   Anxiety\t7.8\t      0.93\n",
        "classifier predicting on all the tweets (half of the training data)\n",
        "  Category\t% Change (vs. match)\t   p-value\n",
        " Hostility\t11.3\t   1.8e-06\n",
        " Dejection\t5.0\t     0.045\n",
        "   Anxiety\t2.1\t      0.45\n",
        "classifier only predicting on tweets containing poms words (half of the training data)\n",
        "  Category\t% Change (vs. match)\t   p-value\n",
        " Hostility\t14.5\t      0.18\n",
        " Dejection\t17.1\t      0.02\n",
        "   Anxiety\t12.9\t      0.24\n"
       ]
      }
     ],
     "prompt_number": 3
    },
    {
     "cell_type": "code",
     "collapsed": false,
     "input": [
      "# Plot distribution of samples.\n",
      "import csv\n",
      "from collections import Counter\n",
      "import random\n",
      "random.seed(1234567)\n",
      "\n",
      "def read_stats(fname):\n",
      "    rows = []\n",
      "    with open(fname, 'rb') as csvfile:\n",
      "        reader = csv.DictReader(csvfile, delimiter=',')\n",
      "        return [r for r in reader]\n",
      "\n",
      "def get_col(stats, label, value):\n",
      "    if value:\n",
      "        counts = Counter([x[label] for x in stats])\n",
      "        return 1. * counts[value] / sum(counts.values())\n",
      "    else:\n",
      "        return [float(x[label]) for x in stats]\n",
      "\n",
      "# Plot boxplots for each stat.\n",
      "def plot_stats(nosport, sport, rnd):\n",
      "    f, axes = plt.subplots(2, 3, sharex=True, figsize=(9,5))\n",
      "    labels = [('statuses_count', '# Statuses', None),\n",
      "              ('followers_count', '# Followers', None),\n",
      "              ('friends_count', '# Friends', None),\n",
      "              ('gender', '% Female', 'f'),\n",
      "              ('state', '% from California', 'California'),\n",
      "              ]\n",
      "    for i, (label, pretty_label, value) in enumerate(labels):\n",
      "        if i < 3:\n",
      "            j = 0\n",
      "        else:\n",
      "            j = 1\n",
      "            i = i % 3\n",
      "        data = [get_col(nosport, label, value),\n",
      "                get_col(sport, label, value),\n",
      "                get_col(rnd, label, value)]\n",
      "        if not value:\n",
      "            axes[j, i].boxplot(data, widths=.7)\n",
      "        else:\n",
      "            print data\n",
      "            axes[j, i].bar(1 + np.arange(3), data, align='center', width=.7)\n",
      "        axes[j, i].set_ylabel(pretty_label, size=10)\n",
      "        axes[j, i].yaxis.grid(True, linestyle='-', which='major', color='lightgrey',\n",
      "              alpha=0.5)\n",
      "        xticklabels = ['match', 'exercise', 'random']\n",
      "        axes[j, i].set_xticklabels(xticklabels, rotation=90)\n",
      "        # plt.setp(axes[i], xticks=[1,2,3], xticklabels=xticklabels)\n",
      "    #for label in axes[-1].get_xticklabels(): \n",
      "    #  label.set_fontsize(10) \n",
      "    axes[1, 2].axis('off')\n",
      "    f.tight_layout()\n",
      "    plt.savefig('matches.pdf', bbox_inches='tight')\n",
      "\n",
      "\n",
      "random_stats = read_stats('stats/random_users_stats')\n",
      "nosport_stats = read_stats('stats/nosport_users_stats')\n",
      "sport_stats = read_stats('stats/sport_users_stats')\n",
      "plot_stats(nosport_stats, sport_stats, random_stats)"
     ],
     "language": "python",
     "metadata": {},
     "outputs": [
      {
       "output_type": "stream",
       "stream": "stdout",
       "text": [
        "[0.25948275862068965, 0.25948275862068965, 0.5189873417721519]\n",
        "[0.14913793103448275, 0.14913793103448275, 0.1308016877637131]\n"
       ]
      },
      {
       "metadata": {},
       "output_type": "display_data",
       "png": "[encoded data removed]",
       "text": [
        "<matplotlib.figure.Figure at 0xc9b1b00>"
       ]
      }
     ],
     "prompt_number": 6
    },
    {
     "cell_type": "code",
     "collapsed": false,
     "input": [
      "# Plot precision recall curve.\n",
      "def plot_prec_recall(fname):\n",
      "    recall = []\n",
      "    precision = []\n",
      "    for line in open(fname):\n",
      "        parts = line.strip().split()\n",
      "        recall.append(float(parts[0]))\n",
      "        precision.append(float(parts[1]))\n",
      "    plt.figure(figsize=(3,2))\n",
      "    plt.plot(recall, precision, 'bo-', ms=2)\n",
      "    plt.ylabel('Precision')\n",
      "    plt.xlabel('Recall')\n",
      "    plt.locator_params(nbins=4)\n",
      "    plt.savefig('pr.pdf', bbox_inches='tight')\n",
      "\n",
      "plot_prec_recall('recall_precision.txt')"
     ],
     "language": "python",
     "metadata": {},
     "outputs": [
      {
       "metadata": {},
       "output_type": "display_data",
       "png": "[encoded data removed]",
       "text": [
        "<matplotlib.figure.Figure at 0x108e6af90>"
       ]
      }
     ],
     "prompt_number": 25
    }
   ],
   "metadata": {}
  }
 ]
}